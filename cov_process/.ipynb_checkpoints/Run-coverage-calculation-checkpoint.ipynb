{
 "cells": [
  {
   "cell_type": "code",
   "execution_count": 2,
   "metadata": {
    "collapsed": true
   },
   "outputs": [],
   "source": [
    "# This script is the pipeline of running coverage calculation\n",
    "# Author Yiyun\n",
    "import re\n",
    "from utils import *\n",
    "import utils\n",
    "import numpy as np\n",
    "import pickle\n",
    "from Bio import SeqIO\n",
    "from Bio.Seq import Seq\n",
    "from Bio.Alphabet import generic_dna\n",
    "import itertools\n",
    "from multiprocessing import Pool\n",
    "from os.path import join\n",
    "from os import listdir\n",
    "import time\n",
    "from optparse import OptionParser"
   ]
  },
  {
   "cell_type": "code",
   "execution_count": 8,
   "metadata": {},
   "outputs": [],
   "source": [
    "#Load fasta file\n",
    "dict_record = SeqIO.to_dict(SeqIO.parse('../anno_ref/gencode_v19/GRCh37.p13.genome.fa', 'fasta'))"
   ]
  },
  {
   "cell_type": "code",
   "execution_count": 4,
   "metadata": {
    "collapsed": true
   },
   "outputs": [],
   "source": [
    "pickle.dump(dict_record, open('../proc_09152020/dict_record.pkl','w'))"
   ]
  },
  {
   "cell_type": "code",
   "execution_count": 9,
   "metadata": {},
   "outputs": [],
   "source": [
    "dict_record = pickle.load(open('../proc_09152020/dict_record.pkl','rb'))"
   ]
  },
  {
   "cell_type": "code",
   "execution_count": 4,
   "metadata": {
    "collapsed": true
   },
   "outputs": [],
   "source": [
    "# Load annotation data\n",
    "dict_name = pickle.load(open('../proc_09152020/dict_name.pkl','rb'))\n",
    "dict_transcript_info = pickle.load(open('../proc_09152020/dict_transcript_info.pkl','rb'))"
   ]
  },
  {
   "cell_type": "code",
   "execution_count": 6,
   "metadata": {
    "collapsed": true
   },
   "outputs": [],
   "source": [
    "# initialize coverage dictionary\n",
    "zone_list = [\"s\", \"ns\", \"nc\"]\n",
    "categ_list = list(range(1, 8))"
   ]
  },
  {
   "cell_type": "code",
   "execution_count": 3,
   "metadata": {
    "collapsed": true
   },
   "outputs": [],
   "source": [
    "list_addt = pickle.load(open('../proc_09152020/list_addt.pkl','rb'))"
   ]
  },
  {
   "cell_type": "code",
   "execution_count": null,
   "metadata": {
    "collapsed": true
   },
   "outputs": [],
   "source": [
    "# get list of patients\n",
    "dir_out = '../cov_out/add_coverage'\n",
    "dir_cov = '/gpfs/scratch/yur97/cov_0/'\n",
    "list_cov = listdir(dir_cov)\n",
    "\n",
    "for f in list_cov:\n",
    "    if f == '0831e45e-c623-11e3-bf01-24c6515278c0.pkl':\n",
    "        start1 = time.time()\n",
    "\n",
    "        #if patient in the output list\n",
    "        patient = f.split('.')[0]+'.csv'\n",
    "        if patient in list_out:\n",
    "            print 'already there: '+str(patient)\n",
    "            continue\n",
    "\n",
    "        patientp = pickle.load(open(join(dir_cov,f),'r'))\n",
    "        print 'finish reading: ' + str(patientp)\n",
    "        list_patient = patientp.keys()\n",
    "        print list_patient\n",
    "        paramlist = list(itertools.product(list_addt, list_patient))\n",
    "        print paramlist\n",
    "\n",
    "        #output files\n",
    "        file_out = list_patient[0]+'.csv'\n",
    "        file_out = join(dir_out,file_out)\n",
    "        f_cov = open(file_out, \"wb\")\n",
    "        f_cov.write('gene_name' + '\\t' + 'zone' + '\\t' + 'patient' + '\\t' + 'Categ1'+ '\\t' + 'Categ2'+'\\t' + 'Categ3'+'\\t' + \\\n",
    "                'Categ4'+'\\t' + 'Categ5'+'\\t' + 'Categ6'+'\\t' + 'Categ7'+'\\n')\n",
    "        f_cov.close()\n",
    "\n",
    "        # define calculation function\n",
    "        def coverage_calculation(params):  # params:[transcript, patient]\n",
    "            global dict_name,dict_transcript_info,file_out\n",
    "            try:\n",
    "                name_gene = dict_name[params[0]]\n",
    "                # print \"***START CALCULATE: \" + name_gene + \"***\"\n",
    "                # get transcript sequence, cdns sequence and positions\n",
    "                strand = dict_transcript_info[params[0]]['strand']\n",
    "                chromosome = dict_transcript_info[params[0]]['chr'].strip('chr')\n",
    "                list_cds = get_mrna_position(params[0], dict_transcript_info, strand)\n",
    "                seq_transcript = get_transcript_sequence(params[0], dict_transcript_info, dict_record, strand)\n",
    "                seq_cds = get_cdna_sequence(list_cds, strand, seq_transcript)\n",
    "                transcript_start_pos = dict_transcript_info[params[0]]['transcript'][0]\n",
    "                dict_position_cov, flag_lp = calculate_coverage(seq_transcript, seq_cds, list_cds, transcript_start_pos)\n",
    "\n",
    "                for keys in dict_position_cov:\n",
    "                    coverage_patient = calculate_patient(dict_position_cov[keys], patientp[params[1]], chromosome)\n",
    "\n",
    "                    with open(file_out, 'a') as f_cov:\n",
    "                        f_cov.write(name_gene + '\\t' + keys + '\\t' + params[1] + '\\t' + str(coverage_patient[0]) + '\\t' + str(\n",
    "                            coverage_patient[1]) + '\\t' + \\\n",
    "                                    str(coverage_patient[2]) + '\\t' + str(coverage_patient[3]) + '\\t' + str(\n",
    "                            coverage_patient[4]) + '\\t' + str(coverage_patient[5]) \\\n",
    "                                    + '\\t' + str(coverage_patient[6]) + '\\n')\n",
    "                        # writer = csv.writer(f_cov, delimiter='\\t')\n",
    "                        # writer.writerows(zip(*list_print))\n",
    "            except KeyError:\n",
    "                pass\n",
    "\n",
    "        # calculate patient coverage\n",
    "        p = Pool(8)\n",
    "        p.map(coverage_calculation, paramlist)\n",
    "        p.close()\n",
    "        p.join()\n",
    "        end1 = time.time()\n",
    "        print \"finish: \" +str(f)\n",
    "        print 'time used: '+str(end1-start1)"
   ]
  },
  {
   "cell_type": "code",
   "execution_count": null,
   "metadata": {},
   "outputs": [
    {
     "name": "stdout",
     "output_type": "stream",
     "text": [
      "already there: 04339769-517c-448d-a7ca-951f83608c60.csv\n",
      "already there: 089be98d-c3c9-4fb4-aef2-7a8578a91d51.csv\n"
     ]
    }
   ],
   "source": [
    "# get list of patients\n",
    "dir_out = '../cov_out/add_coverage'\n",
    "dir_cov = '/gpfs/scratch/yur97/cov_0/'\n",
    "list_cov = listdir(dir_cov)\n",
    "\n",
    "for f in list_cov:\n",
    "    if f == '0831e45e-c623-11e3-bf01-24c6515278c0.pkl':\n",
    "        start1 = time.time()\n",
    "\n",
    "        #if patient in the output list\n",
    "        patient = f.split('.')[0]+'.csv'\n",
    "        if patient in list_out:\n",
    "            print 'already there: '+str(patient)\n",
    "            continue\n",
    "\n",
    "        patientp = pickle.load(open(join(dir_cov,f),'r'))\n",
    "        print 'finish reading: ' + str(patientp)\n",
    "        list_patient = patientp.keys()\n",
    "        print list_patient\n",
    "        paramlist = list(itertools.product(list_addt, list_patient))\n",
    "        print paramlist\n",
    "\n",
    "        #output files\n",
    "        file_out = list_patient[0]+'.csv'\n",
    "        file_out = join(dir_out,file_out)\n",
    "        f_cov = open(file_out, \"wb\")\n",
    "        f_cov.write('gene_name' + '\\t' + 'zone' + '\\t' + 'patient' + '\\t' + 'Categ1'+ '\\t' + 'Categ2'+'\\t' + 'Categ3'+'\\t' + \\\n",
    "                'Categ4'+'\\t' + 'Categ5'+'\\t' + 'Categ6'+'\\t' + 'Categ7'+'\\n')\n",
    "        f_cov.close()\n",
    "\n",
    "        # define calculation function\n",
    "        def coverage_calculation(params):  # params:[transcript, patient]\n",
    "            global dict_name,dict_transcript_info,file_out\n",
    "            try:\n",
    "                name_gene = dict_name[params[0]]\n",
    "                # print \"***START CALCULATE: \" + name_gene + \"***\"\n",
    "                # get transcript sequence, cdns sequence and positions\n",
    "                strand = dict_transcript_info[params[0]]['strand']\n",
    "                chromosome = dict_transcript_info[params[0]]['chr'].strip('chr')\n",
    "                list_cds = get_mrna_position(params[0], dict_transcript_info, strand)\n",
    "                seq_transcript = get_transcript_sequence(params[0], dict_transcript_info, dict_record, strand)\n",
    "                seq_cds = get_cdna_sequence(list_cds, strand, seq_transcript)\n",
    "                transcript_start_pos = dict_transcript_info[params[0]]['transcript'][0]\n",
    "                dict_position_cov, flag_lp = calculate_coverage(seq_transcript, seq_cds, list_cds, transcript_start_pos)\n",
    "\n",
    "                for keys in dict_position_cov:\n",
    "                    coverage_patient = calculate_patient(dict_position_cov[keys], patientp[params[1]], chromosome)\n",
    "\n",
    "                    with open(file_out, 'a') as f_cov:\n",
    "                        f_cov.write(name_gene + '\\t' + keys + '\\t' + params[1] + '\\t' + str(coverage_patient[0]) + '\\t' + str(\n",
    "                            coverage_patient[1]) + '\\t' + \\\n",
    "                                    str(coverage_patient[2]) + '\\t' + str(coverage_patient[3]) + '\\t' + str(\n",
    "                            coverage_patient[4]) + '\\t' + str(coverage_patient[5]) \\\n",
    "                                    + '\\t' + str(coverage_patient[6]) + '\\n')\n",
    "                        # writer = csv.writer(f_cov, delimiter='\\t')\n",
    "                        # writer.writerows(zip(*list_print))\n",
    "            except KeyError:\n",
    "                pass\n",
    "\n",
    "        # calculate patient coverage\n",
    "        p = Pool(8)\n",
    "        p.map(coverage_calculation, paramlist)\n",
    "        p.close()\n",
    "        p.join()\n",
    "        end1 = time.time()\n",
    "        print \"finish: \" +str(f)\n",
    "        print 'time used: '+str(end1-start1)"
   ]
  },
  {
   "cell_type": "code",
   "execution_count": null,
   "metadata": {
    "collapsed": true
   },
   "outputs": [],
   "source": []
  }
 ],
 "metadata": {
  "kernelspec": {
   "display_name": "Python 3",
   "language": "python",
   "name": "python3"
  },
  "language_info": {
   "codemirror_mode": {
    "name": "ipython",
    "version": 3
   },
   "file_extension": ".py",
   "mimetype": "text/x-python",
   "name": "python",
   "nbconvert_exporter": "python",
   "pygments_lexer": "ipython3",
   "version": "3.8.3"
  }
 },
 "nbformat": 4,
 "nbformat_minor": 2
}
