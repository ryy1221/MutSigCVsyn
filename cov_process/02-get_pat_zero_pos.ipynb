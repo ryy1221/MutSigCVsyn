{
 "cells": [
  {
   "cell_type": "code",
   "execution_count": 7,
   "metadata": {
    "collapsed": true
   },
   "outputs": [],
   "source": [
    "# This script get patient zero position and pickle the dict into a file\n",
    "import shutil\n",
    "import pickle\n",
    "import re\n",
    "import time\n",
    "import numpy as np"
   ]
  },
  {
   "cell_type": "code",
   "execution_count": null,
   "metadata": {
    "collapsed": true
   },
   "outputs": [],
   "source": [
    "dict_name, dict_transcript_info = get_annotation(file_anno)\n"
   ]
  },
  {
   "cell_type": "code",
   "execution_count": null,
   "metadata": {
    "collapsed": true
   },
   "outputs": [],
   "source": [
    "def __init__(self, filename):\n",
    "    with open(coverage_file, 'r') as wig_f:\n",
    "        content = wig_f.read() \n",
    "    self.nChars = len(content)\n",
    "    self.nLines = content.count('\\n')\n",
    "    self.nWords = len(content.split())"
   ]
  },
  {
   "cell_type": "code",
   "execution_count": 8,
   "metadata": {
    "collapsed": true
   },
   "outputs": [],
   "source": [
    "def get_zero_position(coverage_file):\n",
    "    dict_patient = {}\n",
    "    id_aliquot = coverage_file.split('.')[0].split('/')[-1]\n",
    "    dict_patient[id_aliquot] = {}\n",
    "    with open(coverage_file,'r') as wig_f:\n",
    "        next(wig_f)\n",
    "        for lines in wig_f:\n",
    "            if lines.startswith('fixed'):\n",
    "                line_list = re.findall(r'\\d+', lines)\n",
    "                chr_n = line_list[0]\n",
    "                start_pos = int(line_list[1])\n",
    "                position = start_pos - 1\n",
    "            else:\n",
    "                position += 1\n",
    "            if chr_n not in dict_patient[id_aliquot]:\n",
    "                dict_patient[id_aliquot][chr_n] = []\n",
    "            if lines == '0\\n':\n",
    "                dict_patient[id_aliquot][chr_n].append(position)\n",
    "\n",
    "    return dict_patient, id_aliquot"
   ]
  },
  {
   "cell_type": "code",
   "execution_count": 9,
   "metadata": {
    "collapsed": true
   },
   "outputs": [],
   "source": [
    "start1= time.time()"
   ]
  },
  {
   "cell_type": "code",
   "execution_count": 10,
   "metadata": {},
   "outputs": [],
   "source": [
    "f = '/gpfs/scratch/yur97/compressed_coverage_tracks/0c18a8b7-bad1-4aa4-a6df-472f89d9761c.coverage'\n",
    "patient_dict,ida = get_zero_position(f)\n",
    "pickle.dump(patient_dict, open('../proc_09152020/cov_pos/'+ida+'.pkl', 'w'))"
   ]
  },
  {
   "cell_type": "code",
   "execution_count": 11,
   "metadata": {
    "collapsed": true
   },
   "outputs": [],
   "source": [
    "end1 = time.time()"
   ]
  },
  {
   "cell_type": "code",
   "execution_count": 12,
   "metadata": {},
   "outputs": [
    {
     "data": {
      "text/plain": [
       "459.77447605133057"
      ]
     },
     "execution_count": 12,
     "metadata": {},
     "output_type": "execute_result"
    }
   ],
   "source": [
    "end1-start1"
   ]
  },
  {
   "cell_type": "code",
   "execution_count": null,
   "metadata": {
    "collapsed": true
   },
   "outputs": [],
   "source": []
  }
 ],
 "metadata": {
  "kernelspec": {
   "display_name": "Python 2",
   "language": "python",
   "name": "python2"
  },
  "language_info": {
   "codemirror_mode": {
    "name": "ipython",
    "version": 2
   },
   "file_extension": ".py",
   "mimetype": "text/x-python",
   "name": "python",
   "nbconvert_exporter": "python",
   "pygments_lexer": "ipython2",
   "version": "2.7.14"
  }
 },
 "nbformat": 4,
 "nbformat_minor": 2
}
