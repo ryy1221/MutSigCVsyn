{
 "cells": [
  {
   "cell_type": "code",
   "execution_count": 3,
   "metadata": {
    "collapsed": true
   },
   "outputs": [],
   "source": [
    "# This script read and parse the annotation file and find out if all genes has principle transcripts, \\\n",
    "# than compare to PCAWG genes\n",
    "# Author: Yiyun\n",
    "\n",
    "import pandas as pd"
   ]
  },
  {
   "cell_type": "code",
   "execution_count": 1,
   "metadata": {
    "collapsed": true
   },
   "outputs": [],
   "source": [
    "f_anno = ('../anno_ref/gencode_v19/gencode.v19.annotation.gtf')\n",
    "f_gene = ('../anno_ref/gene-PCAWG-all.tsv')"
   ]
  },
  {
   "cell_type": "code",
   "execution_count": 4,
   "metadata": {},
   "outputs": [],
   "source": [
    "df_gtf = pd.read_csv(f_anno, skiprows =[0,1,2,3,4], header = None, sep='\\t')\n",
    "df_info_expand = df_gtf[8].str.split(';', expand = True)\n",
    "df_gtf.drop(8, axis=1, inplace=True)\n",
    "df_gtf = pd.concat([df_gtf,df_info_expand], axis = 1)\n",
    "df_gtf.columns =range(0,len(df_gtf.columns) )"
   ]
  },
  {
   "cell_type": "code",
   "execution_count": null,
   "metadata": {
    "collapsed": true
   },
   "outputs": [],
   "source": []
  },
  {
   "cell_type": "code",
   "execution_count": 10,
   "metadata": {},
   "outputs": [
    {
     "name": "stdout",
     "output_type": "stream",
     "text": [
      "Number of all KNOWN PROTEIN CODING GENES in GENCODE GTF FILES: 19456\n"
     ]
    }
   ],
   "source": [
    "df_allgene = df_gtf[df_gtf[13].str.contains('protein_coding') & df_gtf[14].str.contains('KNOWN')& df_gtf[2].str.contains('gene')]\n",
    "print 'Number of all KNOWN PROTEIN CODING GENES in GENCODE GTF FILES: '+ str(len(df_allgene))"
   ]
  },
  {
   "cell_type": "code",
   "execution_count": 28,
   "metadata": {
    "collapsed": true
   },
   "outputs": [],
   "source": [
    "# read in all genes in PCAWG in a list\n",
    "list_pcawg = []\n",
    "with open(f_gene,'r') as gf:\n",
    "    for lines in gf:\n",
    "        list_pcawg.append(lines.strip('\\n'))"
   ]
  },
  {
   "cell_type": "code",
   "execution_count": 35,
   "metadata": {},
   "outputs": [
    {
     "name": "stdout",
     "output_type": "stream",
     "text": [
      "Number of genes in GTF file but not in PCAWG: 75\n"
     ]
    }
   ],
   "source": [
    "print 'Number of genes in GTF file but not in PCAWG: '+\\\n",
    "str(len(df_allgene[~df_allgene[12].str.split(\"\\\"\",expand = True)[1].isin(list_pcawg)].iloc[:,1:15]))"
   ]
  },
  {
   "cell_type": "code",
   "execution_count": 43,
   "metadata": {
    "collapsed": true
   },
   "outputs": [],
   "source": [
    "list_png = []\n",
    "df_gene = df_allgene[12].str.split(\"\\\"\",expand = True)[1]\n",
    "for genes in list_pcawg:\n",
    "    if not any(df_gene==genes):\n",
    "        if genes not in list_png:\n",
    "            list_png.append(genes)"
   ]
  },
  {
   "cell_type": "code",
   "execution_count": 44,
   "metadata": {},
   "outputs": [
    {
     "name": "stdout",
     "output_type": "stream",
     "text": [
      "Number of genes in PCAWG file but not in GTF: 850\n"
     ]
    }
   ],
   "source": [
    "print 'Number of genes in PCAWG file but not in GTF: '+\\\n",
    "str(len(list_png))"
   ]
  },
  {
   "cell_type": "code",
   "execution_count": 68,
   "metadata": {},
   "outputs": [
    {
     "data": {
      "text/plain": [
       "45"
      ]
     },
     "execution_count": 68,
     "metadata": {},
     "output_type": "execute_result"
    }
   ],
   "source": [
    "print 'Number of duplicated genes in GTF file: '+ str(len(df_duplicate[df_duplicate[12].\\\n",
    "                                                str.split(\"\\\"\",expand = True)[1].isin(list_pcawg)].iloc[:,1:15]))"
   ]
  },
  {
   "cell_type": "code",
   "execution_count": 74,
   "metadata": {
    "collapsed": true
   },
   "outputs": [],
   "source": [
    "df_agnd = df_allgene[~df_allgene[12].str.split(\"\\\"\",expand = True)[1].duplicated()]\n",
    "df_agndinp = df_agnd[df_agnd[12].str.split(\"\\\"\",expand = True)[1].isin(list_pcawg)]"
   ]
  },
  {
   "cell_type": "code",
   "execution_count": 77,
   "metadata": {
    "collapsed": true
   },
   "outputs": [],
   "source": [
    "df_finalg = df_agndinp[12].str.split(\"\\\"\",expand = True)[1]"
   ]
  },
  {
   "cell_type": "code",
   "execution_count": 78,
   "metadata": {
    "collapsed": true
   },
   "outputs": [],
   "source": [
    "df_finalg.to_csv('../anno_ref/genes-final.csv', index=False, header=False)"
   ]
  }
 ],
 "metadata": {
  "kernelspec": {
   "display_name": "Python 2",
   "language": "python",
   "name": "python2"
  },
  "language_info": {
   "codemirror_mode": {
    "name": "ipython",
    "version": 2
   },
   "file_extension": ".py",
   "mimetype": "text/x-python",
   "name": "python",
   "nbconvert_exporter": "python",
   "pygments_lexer": "ipython2",
   "version": "2.7.14"
  }
 },
 "nbformat": 4,
 "nbformat_minor": 2
}
