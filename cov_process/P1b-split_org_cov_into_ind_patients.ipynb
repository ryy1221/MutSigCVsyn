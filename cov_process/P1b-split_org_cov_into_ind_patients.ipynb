{
 "cells": [
  {
   "cell_type": "code",
   "execution_count": 17,
   "metadata": {},
   "outputs": [],
   "source": [
    "### This script split the organ patient coverage into individual coverage -- option B\n",
    "# Author: Yiyun\n",
    "\n",
    "import pandas as pd\n",
    "from tqdm import tqdm\n",
    "import os\n",
    "from multiprocessing import Pool"
   ]
  },
  {
   "cell_type": "code",
   "execution_count": 18,
   "metadata": {},
   "outputs": [],
   "source": [
    "### directory\n",
    "dir_in = '../org_cov_maf'\n",
    "dir_out = '../cov_out/cov_ind'"
   ]
  },
  {
   "cell_type": "code",
   "execution_count": 21,
   "metadata": {},
   "outputs": [],
   "source": [
    "### Read coverage files and split into individual files\n",
    "def parse_ind_cov(org):\n",
    "    global dir_in, dir_out\n",
    "    print(f'Start{org})\n",
    "    if not org.startswith('.'):\n",
    "        df_cov = pd.read_csv(os.path.join(dir_in,org,'merged_'+org+'_102120.txt'), sep = '\\t')\n",
    "        df_cov = df_cov.set_index(['gene','zone','categ'])\n",
    "        lpatients = df_cov.columns\n",
    "        for patients in lpatients:\n",
    "            df_ind = df_cov[[patients]]\n",
    "            df_ind.to_csv(os.path.join(dir_out,patients+'.to_merge.csv'))\n",
    "    print(f'Finish{org}')"
   ]
  },
  {
   "cell_type": "code",
   "execution_count": 22,
   "metadata": {},
   "outputs": [
    {
     "name": "stdout",
     "output_type": "stream",
     "text": [
      "FinishBiliary\n",
      "FinishThy\n",
      "FinishLung\n",
      "FinishBone\n",
      "FinishOvary\n",
      "FinishColoRect\n",
      "FinishEso\n",
      "Finish.DS_Store\n",
      "FinishMyeloid\n",
      "FinishBreast\n",
      "FinishLymph\n",
      "FinishStomach\n",
      "FinishHead\n",
      "FinishCNS\n",
      "FinishUterus\n",
      "FinishKidney\n",
      "Finish.gitkeep\n",
      "FinishCervix\n",
      "FinishLiver\n",
      "FinishSkin\n",
      "FinishPanc\n",
      "FinishBladder\n",
      "FinishSoftTissue\n",
      "FinishProst\n"
     ]
    }
   ],
   "source": [
    "lorg = os.listdir(dir_in)\n",
    "p = Pool(8)\n",
    "p.imap(parse_ind_cov, lorg)\n",
    "p.close()\n",
    "p.join()"
   ]
  }
 ],
 "metadata": {
  "kernelspec": {
   "display_name": "Python 3",
   "language": "python",
   "name": "python3"
  },
  "language_info": {
   "codemirror_mode": {
    "name": "ipython",
    "version": 3
   },
   "file_extension": ".py",
   "mimetype": "text/x-python",
   "name": "python",
   "nbconvert_exporter": "python",
   "pygments_lexer": "ipython3",
   "version": "3.8.3"
  }
 },
 "nbformat": 4,
 "nbformat_minor": 4
}
