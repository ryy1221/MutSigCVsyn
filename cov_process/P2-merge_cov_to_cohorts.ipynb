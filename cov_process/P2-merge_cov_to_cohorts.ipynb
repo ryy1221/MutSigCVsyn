{
 "cells": [
  {
   "cell_type": "code",
   "execution_count": 1,
   "metadata": {},
   "outputs": [],
   "source": [
    "### This script merge the individual coverage files into the cohorts\n",
    "### Author: Yiyun\n",
    "import pandas as pd\n",
    "import os, pickle\n",
    "from tqdm import tqdm\n",
    "from multiprocessing import Pool"
   ]
  },
  {
   "cell_type": "code",
   "execution_count": 20,
   "metadata": {},
   "outputs": [],
   "source": [
    "### File path and read directory\n",
    "dir_cohorts = '../anno_ref/cohorts/' # cohorts files - cohort name and patient\n",
    "dir_cov_ind = '../cov_out/cov_out/' # individual coverage files\n",
    "\n",
    "dir_out = '../cov_out/cov_cohorts_072221'"
   ]
  },
  {
   "cell_type": "markdown",
   "metadata": {},
   "source": [
    "Change feature type(histology, organ, origin, system, pancancer) to merge individual coverage files"
   ]
  },
  {
   "cell_type": "code",
   "execution_count": 19,
   "metadata": {
    "collapsed": true,
    "jupyter": {
     "outputs_hidden": true
    },
    "scrolled": true
   },
   "outputs": [
    {
     "name": "stdout",
     "output_type": "stream",
     "text": [
      "['Ovary-AdenoCA' 'CNS-PiloAstro' 'Liver-HCC' 'CNS-Oligo' 'Panc-Endocrine'\n",
      " 'Kidney-RCC' 'Prost-AdenoCA' 'Thy-AdenoCA' 'ColoRect-AdenoCA'\n",
      " 'Lymph-BNHL' 'Uterus-AdenoCA' 'Breast-AdenoCA' 'Lung-AdenoCA'\n",
      " 'Panc-AdenoCA' 'Eso-AdenoCA' 'Head-SCC' 'CNS-Medullo' 'CNS-GBM'\n",
      " 'SoftTissue-Leiomyo' 'Cervix-SCC' 'Skin-Melanoma' 'Lymph-CLL'\n",
      " 'SoftTissue-Liposarc' 'Kidney-ChRCC' 'Stomach-AdenoCA' 'Lung-SCC'\n",
      " 'Bladder-TCC' 'Myeloid-AML' 'Biliary-AdenoCA' 'Breast-LobularCA'\n",
      " 'Cervix-AdenoCA' 'Bone-Osteosarc' 'Breast-DCIS' 'Myeloid-MPN'\n",
      " 'Myeloid-MDS' 'Bone-Cart' 'Bone-Osteoblast' 'Bone-Epith' 'Bone-Benign']\n"
     ]
    },
    {
     "name": "stderr",
     "output_type": "stream",
     "text": [
      "100%|██████████| 18/18 [00:05<00:00,  3.22it/s]]\n",
      " 12%|█▏        | 37/312 [00:11<01:16,  3.58it/s]"
     ]
    },
    {
     "name": "stdout",
     "output_type": "stream",
     "text": [
      "finishCNS-Oligo\n"
     ]
    },
    {
     "name": "stderr",
     "output_type": "stream",
     "text": [
      "100%|██████████| 36/36 [00:11<00:00,  3.21it/s]]\n",
      "100%|██████████| 43/43 [00:13<00:00,  3.29it/s]]\n",
      "100%|██████████| 48/48 [00:14<00:00,  3.36it/s]]\n",
      "100%|██████████| 52/52 [00:15<00:00,  3.30it/s]]\n",
      "100%|██████████| 56/56 [00:16<00:00,  3.37it/s]]\n",
      " 50%|█████     | 72/143 [00:21<00:20,  3.42it/s]"
     ]
    },
    {
     "name": "stdout",
     "output_type": "stream",
     "text": [
      "finishLung-AdenoCA\n"
     ]
    },
    {
     "name": "stderr",
     "output_type": "stream",
     "text": [
      "100%|██████████| 81/81 [00:24<00:00,  3.31it/s]]\n",
      " 59%|█████▊    | 84/143 [00:25<00:17,  3.42it/s]"
     ]
    },
    {
     "name": "stdout",
     "output_type": "stream",
     "text": [
      "finishUterus-AdenoCA\n"
     ]
    },
    {
     "name": "stderr",
     "output_type": "stream",
     "text": [
      "100%|██████████| 89/89 [00:26<00:00,  3.31it/s]]\n",
      " 29%|██▉       | 92/312 [00:27<01:03,  3.45it/s]"
     ]
    },
    {
     "name": "stdout",
     "output_type": "stream",
     "text": [
      "finishThy-AdenoCA\n"
     ]
    },
    {
     "name": "stderr",
     "output_type": "stream",
     "text": [
      "100%|██████████| 97/97 [00:28<00:00,  3.35it/s]]\n",
      "100%|██████████| 15/15 [00:04<00:00,  3.44it/s]]]\n",
      " 53%|█████▎    | 103/193 [00:30<00:25,  3.49it/s]"
     ]
    },
    {
     "name": "stdout",
     "output_type": "stream",
     "text": [
      "finishColoRect-AdenoCA\n"
     ]
    },
    {
     "name": "stderr",
     "output_type": "stream",
     "text": [
      "100%|██████████| 107/107 [00:31<00:00,  3.39it/s]\n",
      "100%|██████████| 109/109 [00:32<00:00,  3.28it/s]\n",
      " 55%|█████▌    | 110/199 [00:32<00:27,  3.25it/s]"
     ]
    },
    {
     "name": "stdout",
     "output_type": "stream",
     "text": [
      "finishHead-SCC\n"
     ]
    },
    {
     "name": "stderr",
     "output_type": "stream",
     "text": [
      "  2%|▏         | 2/90 [00:00<00:23,  3.67it/s]]s]\n",
      "100%|██████████| 39/39 [00:11<00:00,  3.33it/s]s]\n",
      " 58%|█████▊    | 115/199 [00:33<00:26,  3.23it/s]"
     ]
    },
    {
     "name": "stdout",
     "output_type": "stream",
     "text": [
      "finishSoftTissue-Leiomyo\n"
     ]
    },
    {
     "name": "stderr",
     "output_type": "stream",
     "text": [
      " 56%|█████▌    | 128/230 [00:38<00:31,  3.28it/s]"
     ]
    },
    {
     "name": "stdout",
     "output_type": "stream",
     "text": [
      "finishCervix-SCC\n"
     ]
    },
    {
     "name": "stderr",
     "output_type": "stream",
     "text": [
      "100%|██████████| 19/19 [00:05<00:00,  3.39it/s]s]\n",
      "100%|██████████| 143/143 [00:42<00:00,  3.36it/s]\n",
      " 46%|████▌     | 41/90 [00:11<00:13,  3.59it/s]s]"
     ]
    },
    {
     "name": "stdout",
     "output_type": "stream",
     "text": [
      "finishCNS-GBM"
     ]
    },
    {
     "name": "stderr",
     "output_type": "stream",
     "text": [
      " 64%|██████▍   | 148/230 [00:44<00:23,  3.49it/s]"
     ]
    },
    {
     "name": "stdout",
     "output_type": "stream",
     "text": [
      "\n"
     ]
    },
    {
     "name": "stderr",
     "output_type": "stream",
     "text": [
      " 66%|██████▌   | 151/230 [00:45<00:23,  3.31it/s]"
     ]
    },
    {
     "name": "stdout",
     "output_type": "stream",
     "text": [
      "finishSoftTissue-Liposarc\n"
     ]
    },
    {
     "name": "stderr",
     "output_type": "stream",
     "text": [
      " 54%|█████▍    | 57/106 [00:16<00:14,  3.35it/s]]"
     ]
    },
    {
     "name": "stdout",
     "output_type": "stream",
     "text": [
      "finishPanc-Endocrine\n"
     ]
    },
    {
     "name": "stderr",
     "output_type": "stream",
     "text": [
      "100%|██████████| 43/43 [00:12<00:00,  3.40it/s]]]\n",
      " 41%|████      | 28/68 [00:08<00:11,  3.37it/s]s]"
     ]
    },
    {
     "name": "stdout",
     "output_type": "stream",
     "text": [
      "finishCNS-PiloAstro\n"
     ]
    },
    {
     "name": "stderr",
     "output_type": "stream",
     "text": [
      "100%|██████████| 141/141 [00:41<00:00,  3.38it/s]\n",
      "100%|██████████| 23/23 [00:06<00:00,  3.35it/s]s]\n",
      "100%|██████████| 193/193 [00:56<00:00,  3.41it/s]\n",
      " 81%|████████  | 38/47 [00:11<00:02,  3.36it/s]\n",
      " 63%|██████▎   | 43/68 [00:12<00:07,  3.36it/s]]]"
     ]
    },
    {
     "name": "stdout",
     "output_type": "stream",
     "text": [
      "finishEso-AdenoCA\n"
     ]
    },
    {
     "name": "stderr",
     "output_type": "stream",
     "text": [
      "100%|██████████| 199/199 [00:58<00:00,  3.40it/s]\n",
      "100%|██████████| 90/90 [00:26<00:00,  3.37it/s]]]\n",
      "100%|██████████| 47/47 [00:14<00:00,  3.30it/s]]]\n",
      " 79%|███████▉  | 54/68 [00:16<00:04,  3.25it/s]s]"
     ]
    },
    {
     "name": "stdout",
     "output_type": "stream",
     "text": [
      "finishMyeloid-AML\n"
     ]
    },
    {
     "name": "stderr",
     "output_type": "stream",
     "text": [
      " 81%|████████  | 55/68 [00:16<00:03,  3.30it/s]s]"
     ]
    },
    {
     "name": "stdout",
     "output_type": "stream",
     "text": [
      "finishBladder-TCC\n"
     ]
    },
    {
     "name": "stderr",
     "output_type": "stream",
     "text": [
      "100%|██████████| 2/2 [00:00<00:00,  3.41it/s]t/s]\n",
      "100%|██████████| 106/106 [00:31<00:00,  3.32it/s]\n",
      " 88%|████████▊ | 60/68 [00:18<00:02,  3.38it/s]"
     ]
    },
    {
     "name": "stdout",
     "output_type": "stream",
     "text": [
      "finishCervix-AdenoCA\n"
     ]
    },
    {
     "name": "stderr",
     "output_type": "stream",
     "text": [
      " 91%|█████████ | 62/68 [00:18<00:01,  3.41it/s]s]"
     ]
    },
    {
     "name": "stdout",
     "output_type": "stream",
     "text": [
      "finishOvary-AdenoCA"
     ]
    },
    {
     "name": "stderr",
     "output_type": "stream",
     "text": [
      " 68%|██████▊   | 212/312 [01:03<00:29,  3.41it/s]"
     ]
    },
    {
     "name": "stdout",
     "output_type": "stream",
     "text": [
      "\n"
     ]
    },
    {
     "name": "stderr",
     "output_type": "stream",
     "text": [
      " 58%|█████▊    | 19/33 [00:05<00:04,  3.35it/s]"
     ]
    },
    {
     "name": "stdout",
     "output_type": "stream",
     "text": [
      "finishLymph-BNHL"
     ]
    },
    {
     "name": "stderr",
     "output_type": "stream",
     "text": [
      " 62%|██████▏   | 8/13 [00:02<00:01,  3.21it/s]"
     ]
    },
    {
     "name": "stdout",
     "output_type": "stream",
     "text": [
      "\n"
     ]
    },
    {
     "name": "stderr",
     "output_type": "stream",
     "text": [
      " 94%|█████████▍| 64/68 [00:19<00:01,  3.53it/s]s]"
     ]
    },
    {
     "name": "stdout",
     "output_type": "stream",
     "text": [
      "finishKidney-ChRCC\n"
     ]
    },
    {
     "name": "stderr",
     "output_type": "stream",
     "text": [
      "100%|██████████| 3/3 [00:00<00:00,  3.46it/s]s]s]\n",
      "100%|██████████| 2/2 [00:00<00:00,  3.12it/s]]\n",
      "100%|██████████| 68/68 [00:20<00:00,  3.34it/s]s]\n",
      "100%|██████████| 13/13 [00:04<00:00,  3.15it/s]\n",
      " 79%|███████▉  | 26/33 [00:07<00:02,  3.41it/s]s]"
     ]
    },
    {
     "name": "stdout",
     "output_type": "stream",
     "text": [
      "finishMyeloid-MDS\n"
     ]
    },
    {
     "name": "stderr",
     "output_type": "stream",
     "text": [
      "  0%|          | 0/9 [00:00<?, ?it/s]"
     ]
    },
    {
     "name": "stdout",
     "output_type": "stream",
     "text": [
      "finishBreast-DCIS\n"
     ]
    },
    {
     "name": "stderr",
     "output_type": "stream",
     "text": [
      "100%|██████████| 5/5 [00:01<00:00,  3.52it/s]s]s]\n",
      "100%|██████████| 33/33 [00:09<00:00,  3.32it/s]s]\n",
      "100%|██████████| 9/9 [00:02<00:00,  3.35it/s]t/s]\n",
      " 98%|█████████▊| 226/230 [01:08<00:01,  3.17it/s]"
     ]
    },
    {
     "name": "stdout",
     "output_type": "stream",
     "text": [
      "finishBone-Osteoblast\n"
     ]
    },
    {
     "name": "stderr",
     "output_type": "stream",
     "text": [
      " 99%|█████████▊| 227/230 [01:08<00:00,  3.25it/s]"
     ]
    },
    {
     "name": "stdout",
     "output_type": "stream",
     "text": [
      "finishBreast-LobularCA\n"
     ]
    },
    {
     "name": "stderr",
     "output_type": "stream",
     "text": [
      "100%|██████████| 1/1 [00:00<00:00,  3.68it/s]t/s]\n",
      "100%|██████████| 230/230 [01:09<00:00,  3.32it/s]\n",
      " 69%|██████▊   | 24/35 [00:07<00:03,  3.10it/s]s]"
     ]
    },
    {
     "name": "stdout",
     "output_type": "stream",
     "text": [
      "finishBone-Benign\n"
     ]
    },
    {
     "name": "stderr",
     "output_type": "stream",
     "text": [
      "100%|██████████| 23/23 [00:06<00:00,  3.40it/s]s]\n",
      " 80%|████████  | 8/10 [00:02<00:00,  3.53it/s]]s]"
     ]
    },
    {
     "name": "stdout",
     "output_type": "stream",
     "text": [
      "finishBone-Cart\n"
     ]
    },
    {
     "name": "stderr",
     "output_type": "stream",
     "text": [
      "100%|██████████| 10/10 [00:02<00:00,  3.49it/s]s]\n",
      "100%|██████████| 35/35 [00:10<00:00,  3.64it/s]s]"
     ]
    },
    {
     "name": "stdout",
     "output_type": "stream",
     "text": [
      "finishLung-SCC\n"
     ]
    },
    {
     "name": "stderr",
     "output_type": "stream",
     "text": [
      "100%|██████████| 35/35 [00:10<00:00,  3.40it/s]\n",
      " 80%|███████▉  | 249/312 [01:14<00:18,  3.50it/s]"
     ]
    },
    {
     "name": "stdout",
     "output_type": "stream",
     "text": [
      "finishBone-Epith\n"
     ]
    },
    {
     "name": "stderr",
     "output_type": "stream",
     "text": [
      " 82%|████████▏ | 256/312 [01:16<00:17,  3.19it/s]"
     ]
    },
    {
     "name": "stdout",
     "output_type": "stream",
     "text": [
      "finishBiliary-AdenoCA\n"
     ]
    },
    {
     "name": "stderr",
     "output_type": "stream",
     "text": [
      " 82%|████████▏ | 257/312 [01:16<00:17,  3.16it/s]"
     ]
    },
    {
     "name": "stdout",
     "output_type": "stream",
     "text": [
      "finishMyeloid-MPN\n"
     ]
    },
    {
     "name": "stderr",
     "output_type": "stream",
     "text": [
      " 88%|████████▊ | 276/312 [01:22<00:09,  3.61it/s]"
     ]
    },
    {
     "name": "stdout",
     "output_type": "stream",
     "text": [
      "finishBone-Osteosarc\n"
     ]
    },
    {
     "name": "stderr",
     "output_type": "stream",
     "text": [
      " 90%|█████████ | 282/312 [01:23<00:08,  3.41it/s]"
     ]
    },
    {
     "name": "stdout",
     "output_type": "stream",
     "text": [
      "finishStomach-AdenoCA\n"
     ]
    },
    {
     "name": "stderr",
     "output_type": "stream",
     "text": [
      " 91%|█████████ | 284/312 [01:24<00:07,  3.54it/s]"
     ]
    },
    {
     "name": "stdout",
     "output_type": "stream",
     "text": [
      "finishKidney-RCC\n"
     ]
    },
    {
     "name": "stderr",
     "output_type": "stream",
     "text": [
      " 91%|█████████▏| 285/312 [01:24<00:07,  3.58it/s]"
     ]
    },
    {
     "name": "stdout",
     "output_type": "stream",
     "text": [
      "finishLymph-CLL\n"
     ]
    },
    {
     "name": "stderr",
     "output_type": "stream",
     "text": [
      "100%|██████████| 312/312 [01:31<00:00,  3.40it/s]\n"
     ]
    },
    {
     "name": "stdout",
     "output_type": "stream",
     "text": [
      "finishSkin-Melanoma\n",
      "finishCNS-Medullo\n",
      "finishBreast-AdenoCA\n",
      "finishProst-AdenoCA\n",
      "finishPanc-AdenoCA\n",
      "finishLiver-HCC\n"
     ]
    }
   ],
   "source": [
    "# read feature list - e.g. All the histology tyeps\n",
    "feature_type = 'histology'\n",
    "df = pd.read_csv(os.path.join(dir_cohorts,feature_type+'.csv'))\n",
    "lfeat = df[feature_type].unique()\n",
    "lfeat = df[feature_type].unique()\n",
    "print(lfeat)\n",
    "# merge patients\n",
    "def merge_cov(feature):\n",
    "    global df, feature_type\n",
    "    ldf = []\n",
    "    # Initialize dataframe and output path\n",
    "    path_out = os.path.join(dir_out,feature_type)\n",
    "    # Not run if file already exists\n",
    "    if os.path.exists(os.path.join(path_out,feature+'.csv')):\n",
    "        print(f'exists{feature}')\n",
    "        return\n",
    "    # Get patient list for histology\n",
    "    df_filtered = df[df[feature_type] == feature]\n",
    "    lp = df_filtered['tumor_aliquot_id'].unique()\n",
    "\n",
    "    #read patient file\n",
    "    for p in tqdm(lp):\n",
    "        df_cov_ind = pd.read_csv(os.path.join(dir_cov_ind,p+'.csv'),sep = '\\t')\n",
    "        df_cov_ind.columns = ['gene','zone','categ', p]\n",
    "        df_cov_ind = df_cov_ind.set_index(['gene','zone','categ'])\n",
    "        ldf.append(df_cov_ind)\n",
    "    pickle.dump(ldf, open(os.path.join(path_out,feature+'.pkl'), 'wb'))\n",
    "    df_cov_merged = pd.concat(ldf, axis = 1)\n",
    "    df_cov_merged.to_csv(os.path.join(path_out,feature+'.csv'),sep='\\t')\n",
    "    print(f'finish{feature}')\n",
    "\n",
    "p = Pool(16)\n",
    "p.map(merge_cov, lfeat)\n",
    "p.close()\n",
    "p.join()"
   ]
  },
  {
   "cell_type": "code",
   "execution_count": 21,
   "metadata": {},
   "outputs": [],
   "source": [
    "feature_type = 'pancancer'\n",
    "df = pd.read_csv(os.path.join(dir_cohorts,feature_type+'.csv'))\n",
    "lfeat = df[feature_type].unique()\n",
    "lfeat = df[feature_type].unique()"
   ]
  },
  {
   "cell_type": "code",
   "execution_count": null,
   "metadata": {},
   "outputs": [
    {
     "name": "stderr",
     "output_type": "stream",
     "text": [
      "  0%|          | 0/2571 [00:00<?, ?it/s]"
     ]
    },
    {
     "name": "stdout",
     "output_type": "stream",
     "text": [
      "['pancancer']\n"
     ]
    },
    {
     "name": "stderr",
     "output_type": "stream",
     "text": [
      "  0%|          | 11/2571 [00:02<11:05,  3.85it/s]"
     ]
    }
   ],
   "source": [
    "feature_type = 'pancancer'\n",
    "df = pd.read_csv(os.path.join(dir_cohorts,feature_type+'.csv'))\n",
    "lfeat = df[feature_type].unique()\n",
    "lfeat = df[feature_type].unique()\n",
    "print(lfeat)\n",
    "# merge patients\n",
    "def merge_cov(feature):\n",
    "    global df, feature_type\n",
    "    ldf = []\n",
    "    # Initialize dataframe and output path\n",
    "    path_out = os.path.join(dir_out,feature_type)\n",
    "    # Not run if file already exists\n",
    "    if os.path.exists(os.path.join(path_out,feature+'.csv')):\n",
    "        print(f'exists{feature}')\n",
    "        return\n",
    "    # Get patient list for histology\n",
    "    df_filtered = df[df[feature_type] == feature]\n",
    "    lp = df_filtered['tumor_aliquot_id'].unique()\n",
    "\n",
    "    #read patient file\n",
    "    for p in tqdm(lp):\n",
    "        df_cov_ind = pd.read_csv(os.path.join(dir_cov_ind,p+'.csv'),sep = '\\t')\n",
    "        df_cov_ind.columns = ['gene','zone','categ', p]\n",
    "        df_cov_ind = df_cov_ind.set_index(['gene','zone','categ'])\n",
    "        ldf.append(df_cov_ind)\n",
    "    pickle.dump(ldf, open(os.path.join(path_out,feature+'.pkl'), 'wb'))\n",
    "    df_cov_merged = pd.concat(ldf, axis = 1)\n",
    "    df_cov_merged.to_csv(os.path.join(path_out,feature+'.csv'),sep='\\t')\n",
    "    print(f'finish{feature}')\n",
    "\n",
    "merge_cov('pancancer')"
   ]
  }
 ],
 "metadata": {
  "kernelspec": {
   "display_name": "Python 3",
   "language": "python",
   "name": "python3"
  },
  "language_info": {
   "codemirror_mode": {
    "name": "ipython",
    "version": 3
   },
   "file_extension": ".py",
   "mimetype": "text/x-python",
   "name": "python",
   "nbconvert_exporter": "python",
   "pygments_lexer": "ipython3",
   "version": "3.8.3"
  }
 },
 "nbformat": 4,
 "nbformat_minor": 4
}
