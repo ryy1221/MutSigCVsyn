{
 "cells": [
  {
   "cell_type": "code",
   "execution_count": 1,
   "metadata": {},
   "outputs": [],
   "source": [
    "### This script filter the low ncd cov quality genes from coverage file\n",
    "# Author: Yiyun\n",
    "\n",
    "import pandas as pd\n",
    "import os\n",
    "from tqdm import tqdm\n",
    "from multiprocessing import Pool\n",
    "import pickle"
   ]
  },
  {
   "cell_type": "code",
   "execution_count": 4,
   "metadata": {},
   "outputs": [],
   "source": [
    "### File path and read directory\n",
    "dir_cohorts = '../anno_ref/cohorts/'\n",
    "\n",
    "dir_cov_in = '../cov_out/cov_cohorts_060121'\n",
    "dir_cov_out = '../cov_out/cov_cohorts_062121_filtered'  # 0609 is the run of filter ncd length+ratio+coverage"
   ]
  },
  {
   "cell_type": "code",
   "execution_count": 3,
   "metadata": {},
   "outputs": [
    {
     "ename": "FileNotFoundError",
     "evalue": "[Errno 2] No such file or directory: '../anno_ref/lgene_tofilter.pkl'",
     "output_type": "error",
     "traceback": [
      "\u001b[0;31m---------------------------------------------------------------------------\u001b[0m",
      "\u001b[0;31mFileNotFoundError\u001b[0m                         Traceback (most recent call last)",
      "\u001b[0;32m<ipython-input-3-43633cfa945b>\u001b[0m in \u001b[0;36m<module>\u001b[0;34m\u001b[0m\n\u001b[1;32m      1\u001b[0m \u001b[0;31m# Read low quality gene list\u001b[0m\u001b[0;34m\u001b[0m\u001b[0;34m\u001b[0m\u001b[0;34m\u001b[0m\u001b[0m\n\u001b[1;32m      2\u001b[0m \u001b[0;31m# l_lowq_gene = pickle.load(open('../anno_ref/low_ncdcov_quality_genelist.pkl','rb')) # The filter with ncd length+exon/noncoding ratio+coverage\u001b[0m\u001b[0;34m\u001b[0m\u001b[0;34m\u001b[0m\u001b[0;34m\u001b[0m\u001b[0m\n\u001b[0;32m----> 3\u001b[0;31m \u001b[0ml_lowq_gene\u001b[0m \u001b[0;34m=\u001b[0m \u001b[0mpickle\u001b[0m\u001b[0;34m.\u001b[0m\u001b[0mload\u001b[0m\u001b[0;34m(\u001b[0m\u001b[0mopen\u001b[0m\u001b[0;34m(\u001b[0m\u001b[0;34m'../anno_ref/lgene_tofilter.pkl'\u001b[0m\u001b[0;34m,\u001b[0m\u001b[0;34m'rb'\u001b[0m\u001b[0;34m)\u001b[0m\u001b[0;34m)\u001b[0m\u001b[0;34m\u001b[0m\u001b[0;34m\u001b[0m\u001b[0m\n\u001b[0m",
      "\u001b[0;31mFileNotFoundError\u001b[0m: [Errno 2] No such file or directory: '../anno_ref/lgene_tofilter.pkl'"
     ]
    }
   ],
   "source": [
    "# Read low quality gene list\n",
    "# l_lowq_gene = pickle.load(open('../anno_ref/low_ncdcov_quality_genelist.pkl','rb')) # The filter with ncd length+exon/noncoding ratio+coverage\n",
    "l_lowq_gene = pickle.load(open('../anno_ref/lgene_tofilter.pkl','rb'))"
   ]
  },
  {
   "cell_type": "code",
   "execution_count": 12,
   "metadata": {},
   "outputs": [
    {
     "name": "stdout",
     "output_type": "stream",
     "text": [
      "['Ovary-AdenoCA' 'CNS-PiloAstro' 'Liver-HCC' 'CNS-Oligo' 'Panc-Endocrine'\n",
      " 'Kidney-RCC' 'Prost-AdenoCA' 'Thy-AdenoCA' 'ColoRect-AdenoCA'\n",
      " 'Lymph-BNHL' 'Uterus-AdenoCA' 'Breast-AdenoCA' 'Lung-AdenoCA'\n",
      " 'Panc-AdenoCA' 'Eso-AdenoCA' 'Head-SCC' 'CNS-Medullo' 'CNS-GBM'\n",
      " 'SoftTissue-Leiomyo' 'Cervix-SCC' 'Skin-Melanoma' 'Lymph-CLL'\n",
      " 'SoftTissue-Liposarc' 'Kidney-ChRCC' 'Stomach-AdenoCA' 'Lung-SCC'\n",
      " 'Bladder-TCC' 'Myeloid-AML' 'Biliary-AdenoCA' 'Breast-LobularCA'\n",
      " 'Cervix-AdenoCA' 'Bone-Osteosarc' 'Breast-DCIS' 'Myeloid-MPN'\n",
      " 'Myeloid-MDS' 'Bone-Cart' 'Bone-Osteoblast' 'Bone-Epith' 'Bone-Benign']\n"
     ]
    }
   ],
   "source": [
    "feature_type = 'histology'\n",
    "df = pd.read_csv(os.path.join(dir_cohorts,feature_type+'.csv'))\n",
    "lfeat = df[feature_type].unique()\n",
    "print(lfeat)\n",
    "\n",
    "def filter_cov(feature):\n",
    "    global feature_type,dir_cov_out, l_lowq_gene\n",
    "\n",
    "    path_out = os.path.join(dir_cov_out,feature_type)\n",
    "    df_cov = pd.read_csv(os.path.join(dir_cov_in, feature_type, feature+'.csv'), sep='\\t')\n",
    "    df_cov = df_cov.set_index('gene')\n",
    "    l_keep = [gene for gene in df_cov.index.unique() if gene not in l_lowq_gene]\n",
    "    df_cov_filtered = df_cov.loc[l_keep,:]\n",
    "    \n",
    "    df_cov_filtered.to_csv(os.path.join(path_out,feature+'.csv'),sep='\\t')\n",
    "\n",
    "p = Pool(18)\n",
    "p.map(filter_cov, lfeat)\n",
    "p.close()\n",
    "p.join()"
   ]
  }
 ],
 "metadata": {
  "kernelspec": {
   "display_name": "Python 3",
   "language": "python",
   "name": "python3"
  },
  "language_info": {
   "codemirror_mode": {
    "name": "ipython",
    "version": 3
   },
   "file_extension": ".py",
   "mimetype": "text/x-python",
   "name": "python",
   "nbconvert_exporter": "python",
   "pygments_lexer": "ipython3",
   "version": "3.8.3"
  }
 },
 "nbformat": 4,
 "nbformat_minor": 4
}
