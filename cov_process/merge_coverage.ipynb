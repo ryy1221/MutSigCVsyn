{
 "cells": [
  {
   "cell_type": "code",
   "execution_count": 1,
   "metadata": {
    "collapsed": true
   },
   "outputs": [],
   "source": [
    "#This script is for merging the coverage file of patient to generate a consensus coverage file\n",
    "from os import listdir\n",
    "from os.path import isfile, join\n",
    "from optparse import OptionParser\n",
    "import csv"
   ]
  },
  {
   "cell_type": "code",
   "execution_count": 2,
   "metadata": {
    "collapsed": true
   },
   "outputs": [],
   "source": [
    "# get all patient information\n",
    "# this function parse the patient information file\n",
    "def parse_info_file(info_file):\n",
    "    donor_dict = {}\n",
    "    with open(info_file, 'r') as pcawg_info:\n",
    "        next(pcawg_info)\n",
    "        for lines in pcawg_info:\n",
    "            line_split = lines.split('\\t')\n",
    "            tumor_aliquot_id, normal_aliquot_id, donor_id, sample_id, specimen_id, project_code, gender, age \\\n",
    "                = line_split[0:8]\n",
    "            histology_abbreviation = line_split[12]\n",
    "            if donor_id not in donor_dict:\n",
    "                donor_dict[donor_id] = []\n",
    "            donor_dict[donor_id] = tumor_aliquot_id\n",
    "\n",
    "    return donor_dict"
   ]
  },
  {
   "cell_type": "code",
   "execution_count": 3,
   "metadata": {
    "collapsed": true
   },
   "outputs": [],
   "source": [
    "# get patient list in organ\n",
    "def get_patient_list(coverage_organ_dir):\n",
    "    list_file = listdir(coverage_organ_dir)\n",
    "    list_patient_id = []\n",
    "    for files in list_file:\n",
    "        patient_id = files.split('.')[0]\n",
    "        list_patient_id.append(patient_id)\n",
    "\n",
    "    return list_patient_id"
   ]
  },
  {
   "cell_type": "code",
   "execution_count": 4,
   "metadata": {
    "collapsed": true
   },
   "outputs": [],
   "source": [
    "# this function create a dictionary to store patient coverage values\n",
    "# dict_coverage[gene][zone][categ][patient1] = x\n",
    "def create_coverage_dict(patient_file, dict_coverage):\n",
    "    with open(patient_file, 'r') as read_patient_file:\n",
    "        next(read_patient_file)\n",
    "        patient_csv = csv.reader(read_patient_file, delimiter='\\t')\n",
    "        for row in patient_csv:\n",
    "            gene, zone, patient, categ1, categ2, categ3, categ4, categ5, categ6, categ7 = row[0:10]\n",
    "            donor = dict_donor[patient]\n",
    "            if gene not in dict_coverage:\n",
    "                dict_coverage[gene] = {}\n",
    "            if zone not in dict_coverage[gene]:\n",
    "                dict_coverage[gene][zone] = {}\n",
    "                dict_coverage[gene][zone][1] = {}\n",
    "                dict_coverage[gene][zone][2] = {}\n",
    "                dict_coverage[gene][zone][3] = {}\n",
    "                dict_coverage[gene][zone][4] = {}\n",
    "                dict_coverage[gene][zone][5] = {}\n",
    "                dict_coverage[gene][zone][6] = {}\n",
    "                dict_coverage[gene][zone][7] = {}\n",
    "\n",
    "            dict_coverage[gene][zone][1][donor] = categ1\n",
    "            dict_coverage[gene][zone][2][donor] = categ2\n",
    "            dict_coverage[gene][zone][3][donor] = categ3\n",
    "            dict_coverage[gene][zone][4][donor] = categ4\n",
    "            dict_coverage[gene][zone][5][donor] = categ5\n",
    "            dict_coverage[gene][zone][6][donor] = categ6\n",
    "            dict_coverage[gene][zone][7][donor] = categ7\n",
    "\n",
    "    return dict_coverage"
   ]
  },
  {
   "cell_type": "code",
   "execution_count": null,
   "metadata": {
    "collapsed": true
   },
   "outputs": [],
   "source": [
    "if __name__ == '__main__':\n",
    "    info_f = '/storage/home/yur97/yur97/gitlab/pcawg-to-mutsigcv/anno_ref/PCAWG_sample_info.txt'\n",
    "    cov_dir = '/storage/home/yur97/yur97/gitlab/pcawg-to-mutsigcv/cov_out/tumor_type_coverage/'\n",
    "    out_p = '/storage/home/yur97/yur97/gitlab/pcawg-to-mutsigcv/cov_out/merged_his_cov/'\n",
    "\n",
    "    dict_donor = parse_info_file(info_f)\n",
    "    list_dirs = listdir(cov_dir)\n",
    "    for dirs in list_dirs:\n",
    "        organ_folder_path = join(cov_dir, dirs)\n",
    "        organ_type = dirs\n",
    "        # get patient list for this organ\n",
    "        patient_list = get_patient_list(organ_folder_path)\n",
    "\n",
    "\n",
    "        # get file list in this organ type\n",
    "        organ_f_list = listdir(organ_folder_path)\n",
    "        coverage_dict = {}\n",
    "        for f in organ_f_list:\n",
    "            p_f = join(organ_folder_path, f)\n",
    "            coverage_dict = create_coverage_dict(p_f, coverage_dict)\n",
    "\n",
    "\n",
    "        # creat output file\n",
    "        with open(out_p+'merged_'+organ_type+'.txt', 'wb') as merge_f:\n",
    "            merge_f.write('gene'+'\\t'+'zone'+'\\t'+'categ')\n",
    "            for p in patient_list:\n",
    "                merge_f.write('\\t'+p)\n",
    "                if p == patient_list[-1]:\n",
    "                    merge_f.write('\\n')\n",
    "            for genes in coverage_dict:\n",
    "                for zones in coverage_dict[genes]:\n",
    "                    for i in coverage_dict[genes][zones]:\n",
    "                        merge_f.write(genes+'\\t' + zones +'\\t' + str(i))\n",
    "                        for patients in coverage_dict[genes][zones][i]:\n",
    "                            merge_f.write('\\t'+str(coverage_dict[genes][zones][i][patients]))\n",
    "                            if patients == coverage_dict[genes][zones][i].keys()[-1]:\n",
    "                                merge_f.write('\\n')"
   ]
  },
  {
   "cell_type": "code",
   "execution_count": null,
   "metadata": {
    "collapsed": true
   },
   "outputs": [],
   "source": []
  }
 ],
 "metadata": {
  "kernelspec": {
   "display_name": "Python 2",
   "language": "python",
   "name": "python2"
  },
  "language_info": {
   "codemirror_mode": {
    "name": "ipython",
    "version": 2
   },
   "file_extension": ".py",
   "mimetype": "text/x-python",
   "name": "python",
   "nbconvert_exporter": "python",
   "pygments_lexer": "ipython2",
   "version": "2.7.14"
  }
 },
 "nbformat": 4,
 "nbformat_minor": 2
}
