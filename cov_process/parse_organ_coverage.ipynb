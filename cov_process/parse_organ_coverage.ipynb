{
 "cells": [
  {
   "cell_type": "code",
   "execution_count": 3,
   "metadata": {
    "collapsed": true
   },
   "outputs": [],
   "source": [
    "# This code is for process PCAWG ICGC patient coverage files. The output files will be merged into tissue type coverage for MutSigCV\n",
    "# Author: Yiyun Rao\n",
    "# Date last edit:05222020\n",
    "\n",
    "from optparse import OptionParser\n",
    "import os\n",
    "from os import listdir\n",
    "from os.path import isfile, join\n",
    "import re\n",
    "import time\n",
    "from shutil import copyfile"
   ]
  },
  {
   "cell_type": "code",
   "execution_count": 4,
   "metadata": {
    "collapsed": true
   },
   "outputs": [],
   "source": [
    "# Error Area\n",
    "class TumorTypeNotFoundError(Exception):\n",
    "    def __init__(self, *args):\n",
    "        if args:\n",
    "            self.message = args[0]\n",
    "        else:\n",
    "            self.message = None\n",
    "\n",
    "    def __str__(self):\n",
    "        if self.message:\n",
    "            return 'TumorTypeNotFoundError, {0} '.format(self.message)\n",
    "        else:\n",
    "            return 'TumorTypeNotFoundError has been raised'\n",
    "\n",
    "\n",
    "class PathAlreadyExistsError(Exception):\n",
    "    def __init__(self, *args):\n",
    "        if args:\n",
    "            self.message = args[0]\n",
    "        else:\n",
    "            self.message = None\n",
    "\n",
    "    def __str__(self):\n",
    "        if self.message:\n",
    "            return 'PathAlreadyExists, {0} '.format(self.message)\n",
    "        else:\n",
    "            return 'PathAlreadyExists has been raised'"
   ]
  },
  {
   "cell_type": "code",
   "execution_count": 7,
   "metadata": {},
   "outputs": [],
   "source": [
    "def get_tumor_type(info_f):\n",
    "    dict_patient_tumor = {}\n",
    "    list_tumor_type =[]\n",
    "    with open(info_f,'r') as f_info:\n",
    "        next(f_info)\n",
    "        for lines in f_info:\n",
    "            line_split = lines.split(\"\\t\")\n",
    "            tumor_type = line_split[10].split('-')[0]\n",
    "            tumor_id = line_split[0]\n",
    "            if tumor_id not in dict_patient_tumor:\n",
    "                dict_patient_tumor[tumor_id] = tumor_type\n",
    "            if tumor_type not in list_tumor_type:\n",
    "                list_tumor_type.append(tumor_type)\n",
    "    \n",
    "    return dict_patient_tumor,list_tumor_type\n",
    "patient_tumor_dict, tumor_type_list = get_tumor_type('../anno_ref/PCAWG_sample_info.txt')"
   ]
  },
  {
   "cell_type": "code",
   "execution_count": 9,
   "metadata": {
    "collapsed": true
   },
   "outputs": [],
   "source": [
    "cwd = '../cov_out'\n",
    "new_path = cwd + \"/organ_type_coverage\"\n",
    "if not os.path.exists(new_path):\n",
    "    os.makedirs(new_path)\n",
    "else:\n",
    "    raise PathAlreadyExistsError(\"DIRECTORY ALREADY EXISTS\")\n",
    "\n",
    "for t in tumor_type_list:\n",
    "    os.makedirs(new_path+'/'+t)"
   ]
  },
  {
   "cell_type": "code",
   "execution_count": 10,
   "metadata": {},
   "outputs": [],
   "source": [
    "coverage_path = '../cov_out/coverage_complete_output'\n",
    "list_coverage = listdir(coverage_path)\n",
    "for f in list_coverage:\n",
    "    patient_name = f.split('.')[0]\n",
    "    try:\n",
    "        type_tumor = patient_tumor_dict[patient_name]\n",
    "        f_path_old = join(coverage_path,f)\n",
    "        f_path_new = join(new_path,type_tumor,f)\n",
    "        copyfile(f_path_old, f_path_new)\n",
    "    except KeyError:\n",
    "        print f"
   ]
  }
 ],
 "metadata": {
  "kernelspec": {
   "display_name": "Python 2",
   "language": "python",
   "name": "python2"
  },
  "language_info": {
   "codemirror_mode": {
    "name": "ipython",
    "version": 2
   },
   "file_extension": ".py",
   "mimetype": "text/x-python",
   "name": "python",
   "nbconvert_exporter": "python",
   "pygments_lexer": "ipython2",
   "version": "2.7.14"
  }
 },
 "nbformat": 4,
 "nbformat_minor": 2
}
