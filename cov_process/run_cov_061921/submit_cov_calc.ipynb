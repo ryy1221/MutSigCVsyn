{
 "cells": [
  {
   "cell_type": "code",
   "execution_count": 1,
   "metadata": {},
   "outputs": [],
   "source": [
    "#!/usr/bin/env python\n",
    "import subprocess\n",
    "import os,pickle\n",
    "# Get feat\n",
    "dir_queue = '/gpfs/scratch/yur97/run_cov_061921/queue/'"
   ]
  },
  {
   "cell_type": "code",
   "execution_count": 24,
   "metadata": {
    "jupyter": {
     "source_hidden": true
    }
   },
   "outputs": [
    {
     "name": "stdout",
     "output_type": "stream",
     "text": [
      "Done submitting jobs!\n"
     ]
    },
    {
     "name": "stderr",
     "output_type": "stream",
     "text": [
      "<>:11: SyntaxWarning: \"is\" with a literal. Did you mean \"==\"?\n",
      "<>:11: SyntaxWarning: \"is\" with a literal. Did you mean \"==\"?\n",
      "<ipython-input-24-fc4d3511eacb>:11: SyntaxWarning: \"is\" with a literal. Did you mean \"==\"?\n",
      "  if exit_status is 1:  # Check to make sure the job submitted\n"
     ]
    }
   ],
   "source": [
    "### Submit 070221\n",
    "ldirq = os.listdir(dir_queue)\n",
    "ldirq.sort()\n",
    "ldirq = list(ldirq[0:1])\n",
    "for q in ldirq:\n",
    "    queue = os.path.join(dir_queue,q)\n",
    "    qsub_command =f'qsub -v QUEUE={queue} -A epo2_f_g_sc_default cov_calc.pbs'\n",
    "#     print(qsub_command) # Uncomment this line when testing to view the qsub command\n",
    "\n",
    "# Comment the following 3 lines when testing to prevent jobs from being submitted\n",
    "#     exit_status = subprocess.call(qsub_command, shell=True)\n",
    "#     if exit_status is 1:  # Check to make sure the job submitted\n",
    "#         print(f'Job {qsub_command} failed to submit')\n",
    "        \n",
    "print(\"Done submitting jobs!\")"
   ]
  },
  {
   "cell_type": "code",
   "execution_count": 26,
   "metadata": {
    "collapsed": true,
    "jupyter": {
     "outputs_hidden": true,
     "source_hidden": true
    }
   },
   "outputs": [
    {
     "name": "stderr",
     "output_type": "stream",
     "text": [
      "<>:12: SyntaxWarning: \"is\" with a literal. Did you mean \"==\"?\n",
      "<>:12: SyntaxWarning: \"is\" with a literal. Did you mean \"==\"?\n",
      "<ipython-input-26-b186cce647de>:12: SyntaxWarning: \"is\" with a literal. Did you mean \"==\"?\n",
      "  if exit_status is 1:  # Check to make sure the job submitted\n"
     ]
    },
    {
     "name": "stdout",
     "output_type": "stream",
     "text": [
      "qsub -v QUEUE=/gpfs/scratch/yur97/run_cov_061921/queue/q10.pkl -A epo2_f_g_sc_default cov_calc.pbs\n",
      "qsub -v QUEUE=/gpfs/scratch/yur97/run_cov_061921/queue/q100.pkl -A epo2_f_g_sc_default cov_calc.pbs\n",
      "qsub -v QUEUE=/gpfs/scratch/yur97/run_cov_061921/queue/q1000.pkl -A epo2_f_g_sc_default cov_calc.pbs\n",
      "qsub -v QUEUE=/gpfs/scratch/yur97/run_cov_061921/queue/q1010.pkl -A epo2_f_g_sc_default cov_calc.pbs\n",
      "Done submitting jobs!\n"
     ]
    }
   ],
   "source": [
    "### Submit 070221\n",
    "ldirq = os.listdir(dir_queue)\n",
    "ldirq.sort()\n",
    "ldirq = list(ldirq[1:5])\n",
    "for q in ldirq:\n",
    "    queue = os.path.join(dir_queue,q)\n",
    "    qsub_command =f'qsub -v QUEUE={queue} -A epo2_f_g_sc_default cov_calc.pbs'\n",
    "    print(qsub_command) # Uncomment this line when testing to view the qsub command\n",
    "\n",
    "# Comment the following 3 lines when testing to prevent jobs from being submitted\n",
    "#     exit_status = subprocess.call(qsub_command, shell=True)\n",
    "#     if exit_status is 1:  # Check to make sure the job submitted\n",
    "#         print(f'Job {qsub_command} failed to submit')\n",
    "        \n",
    "print(\"Done submitting jobs!\")"
   ]
  },
  {
   "cell_type": "code",
   "execution_count": 3,
   "metadata": {
    "collapsed": true,
    "jupyter": {
     "outputs_hidden": true,
     "source_hidden": true
    }
   },
   "outputs": [
    {
     "name": "stderr",
     "output_type": "stream",
     "text": [
      "<>:12: SyntaxWarning: \"is\" with a literal. Did you mean \"==\"?\n",
      "<>:12: SyntaxWarning: \"is\" with a literal. Did you mean \"==\"?\n",
      "<ipython-input-3-b9f7b31d6fe9>:12: SyntaxWarning: \"is\" with a literal. Did you mean \"==\"?\n",
      "  if exit_status is 1:  # Check to make sure the job submitted\n"
     ]
    },
    {
     "name": "stdout",
     "output_type": "stream",
     "text": [
      "qsub -v QUEUE=/gpfs/scratch/yur97/run_cov_061921/queue/q1020.pkl -A epo2_m_g_lc_default cov_calc.pbs\n",
      "qsub -v QUEUE=/gpfs/scratch/yur97/run_cov_061921/queue/q1030.pkl -A epo2_m_g_lc_default cov_calc.pbs\n",
      "qsub -v QUEUE=/gpfs/scratch/yur97/run_cov_061921/queue/q1040.pkl -A epo2_m_g_lc_default cov_calc.pbs\n",
      "qsub -v QUEUE=/gpfs/scratch/yur97/run_cov_061921/queue/q1050.pkl -A epo2_m_g_lc_default cov_calc.pbs\n",
      "qsub -v QUEUE=/gpfs/scratch/yur97/run_cov_061921/queue/q1060.pkl -A epo2_m_g_lc_default cov_calc.pbs\n",
      "qsub -v QUEUE=/gpfs/scratch/yur97/run_cov_061921/queue/q1070.pkl -A epo2_m_g_lc_default cov_calc.pbs\n",
      "qsub -v QUEUE=/gpfs/scratch/yur97/run_cov_061921/queue/q1080.pkl -A epo2_m_g_lc_default cov_calc.pbs\n",
      "qsub -v QUEUE=/gpfs/scratch/yur97/run_cov_061921/queue/q1090.pkl -A epo2_m_g_lc_default cov_calc.pbs\n",
      "qsub -v QUEUE=/gpfs/scratch/yur97/run_cov_061921/queue/q110.pkl -A epo2_m_g_lc_default cov_calc.pbs\n",
      "qsub -v QUEUE=/gpfs/scratch/yur97/run_cov_061921/queue/q1100.pkl -A epo2_m_g_lc_default cov_calc.pbs\n",
      "Done submitting jobs!\n"
     ]
    }
   ],
   "source": [
    "### Submit 070221\n",
    "ldirq = os.listdir(dir_queue)\n",
    "ldirq.sort()\n",
    "ldirq = list(ldirq[5:15])\n",
    "for q in ldirq:\n",
    "    queue = os.path.join(dir_queue,q)\n",
    "    qsub_command =f'qsub -v QUEUE={queue} -A epo2_m_g_lc_default cov_calc.pbs'\n",
    "    print(qsub_command) # Uncomment this line when testing to view the qsub command\n",
    "\n",
    "# Comment the following 3 lines when testing to prevent jobs from being submitted\n",
    "#     exit_status = subprocess.call(qsub_command, shell=True)\n",
    "#     if exit_status is 1:  # Check to make sure the job submitted\n",
    "#         print(f'Job {qsub_command} failed to submit')\n",
    "        \n",
    "print(\"Done submitting jobs!\")"
   ]
  },
  {
   "cell_type": "markdown",
   "metadata": {},
   "source": [
    "***070321***\n"
   ]
  },
  {
   "cell_type": "code",
   "execution_count": 6,
   "metadata": {},
   "outputs": [
    {
     "name": "stdout",
     "output_type": "stream",
     "text": [
      "qsub -v QUEUE=/gpfs/scratch/yur97/run_cov_061921/queue/q120.pkl -A epo2_f_g_sc_default cov_calc.pbs\n",
      "Done submitting jobs!\n"
     ]
    },
    {
     "name": "stderr",
     "output_type": "stream",
     "text": [
      "<>:12: SyntaxWarning: \"is\" with a literal. Did you mean \"==\"?\n",
      "<>:12: SyntaxWarning: \"is\" with a literal. Did you mean \"==\"?\n",
      "<ipython-input-6-a0f4bfe37232>:12: SyntaxWarning: \"is\" with a literal. Did you mean \"==\"?\n",
      "  if exit_status is 1:  # Check to make sure the job submitted\n"
     ]
    }
   ],
   "source": [
    "### Submit 070321\n",
    "ldirq = os.listdir(dir_queue)\n",
    "ldirq.sort()\n",
    "ldirq = list(ldirq[15:25])\n",
    "for q in ldirq:\n",
    "    queue = os.path.join(dir_queue,q)\n",
    "    qsub_command =f'qsub -v QUEUE={queue} -A epo2_f_g_sc_default cov_calc.pbs'\n",
    "    print(qsub_command) # Uncomment this line when testing to view the qsub command\n",
    "\n",
    "# # Comment the following 3 lines when testing to prevent jobs from being submitted\n",
    "#     exit_status = subprocess.call(qsub_command, shell=True)\n",
    "#     if exit_status is 1:  # Check to make sure the job submitted\n",
    "#         print(f'Job {qsub_command} failed to submit')\n",
    "        \n",
    "print(\"Done submitting jobs!\")"
   ]
  },
  {
   "cell_type": "code",
   "execution_count": 8,
   "metadata": {
    "collapsed": true,
    "jupyter": {
     "outputs_hidden": true,
     "source_hidden": true
    }
   },
   "outputs": [
    {
     "name": "stderr",
     "output_type": "stream",
     "text": [
      "<>:12: SyntaxWarning: \"is\" with a literal. Did you mean \"==\"?\n",
      "<>:12: SyntaxWarning: \"is\" with a literal. Did you mean \"==\"?\n",
      "<ipython-input-8-5b005332682b>:12: SyntaxWarning: \"is\" with a literal. Did you mean \"==\"?\n",
      "  if exit_status is 1:  # Check to make sure the job submitted\n"
     ]
    },
    {
     "name": "stdout",
     "output_type": "stream",
     "text": [
      "qsub -v QUEUE=/gpfs/scratch/yur97/run_cov_061921/queue/q1200.pkl -A epo2_m_g_lc_default cov_calc.pbs\n",
      "qsub -v QUEUE=/gpfs/scratch/yur97/run_cov_061921/queue/q1210.pkl -A epo2_m_g_lc_default cov_calc.pbs\n",
      "qsub -v QUEUE=/gpfs/scratch/yur97/run_cov_061921/queue/q1220.pkl -A epo2_m_g_lc_default cov_calc.pbs\n",
      "qsub -v QUEUE=/gpfs/scratch/yur97/run_cov_061921/queue/q1230.pkl -A epo2_m_g_lc_default cov_calc.pbs\n",
      "qsub -v QUEUE=/gpfs/scratch/yur97/run_cov_061921/queue/q1240.pkl -A epo2_m_g_lc_default cov_calc.pbs\n",
      "Done submitting jobs!\n"
     ]
    }
   ],
   "source": [
    "### Submit 070321\n",
    "ldirq = os.listdir(dir_queue)\n",
    "ldirq.sort()\n",
    "ldirq = list(ldirq[25:30])\n",
    "for q in ldirq:\n",
    "    queue = os.path.join(dir_queue,q)\n",
    "    qsub_command =f'qsub -v QUEUE={queue} -A epo2_m_g_lc_default cov_calc.pbs'\n",
    "    print(qsub_command) # Uncomment this line when testing to view the qsub command\n",
    "\n",
    "# Comment the following 3 lines when testing to prevent jobs from being submitted\n",
    "#     exit_status = subprocess.call(qsub_command, shell=True)\n",
    "#     if exit_status is 1:  # Check to make sure the job submitted\n",
    "#         print(f'Job {qsub_command} failed to submit')\n",
    "        \n",
    "print(\"Done submitting jobs!\")"
   ]
  },
  {
   "cell_type": "markdown",
   "metadata": {},
   "source": [
    "***070421***"
   ]
  },
  {
   "cell_type": "code",
   "execution_count": 4,
   "metadata": {
    "collapsed": true,
    "jupyter": {
     "outputs_hidden": true,
     "source_hidden": true
    }
   },
   "outputs": [
    {
     "name": "stderr",
     "output_type": "stream",
     "text": [
      "<>:12: SyntaxWarning: \"is\" with a literal. Did you mean \"==\"?\n",
      "<>:12: SyntaxWarning: \"is\" with a literal. Did you mean \"==\"?\n",
      "<ipython-input-4-6079f6cdd43b>:12: SyntaxWarning: \"is\" with a literal. Did you mean \"==\"?\n",
      "  if exit_status is 1:  # Check to make sure the job submitted\n"
     ]
    },
    {
     "name": "stdout",
     "output_type": "stream",
     "text": [
      "qsub -v QUEUE=/gpfs/scratch/yur97/run_cov_061921/queue/q1250.pkl -A epo2_m_g_lc_default cov_calc.pbs\n",
      "qsub -v QUEUE=/gpfs/scratch/yur97/run_cov_061921/queue/q1260.pkl -A epo2_m_g_lc_default cov_calc.pbs\n",
      "qsub -v QUEUE=/gpfs/scratch/yur97/run_cov_061921/queue/q1270.pkl -A epo2_m_g_lc_default cov_calc.pbs\n",
      "qsub -v QUEUE=/gpfs/scratch/yur97/run_cov_061921/queue/q1280.pkl -A epo2_m_g_lc_default cov_calc.pbs\n",
      "qsub -v QUEUE=/gpfs/scratch/yur97/run_cov_061921/queue/q1290.pkl -A epo2_m_g_lc_default cov_calc.pbs\n",
      "qsub -v QUEUE=/gpfs/scratch/yur97/run_cov_061921/queue/q130.pkl -A epo2_m_g_lc_default cov_calc.pbs\n",
      "qsub -v QUEUE=/gpfs/scratch/yur97/run_cov_061921/queue/q1300.pkl -A epo2_m_g_lc_default cov_calc.pbs\n",
      "qsub -v QUEUE=/gpfs/scratch/yur97/run_cov_061921/queue/q1310.pkl -A epo2_m_g_lc_default cov_calc.pbs\n",
      "qsub -v QUEUE=/gpfs/scratch/yur97/run_cov_061921/queue/q1320.pkl -A epo2_m_g_lc_default cov_calc.pbs\n",
      "qsub -v QUEUE=/gpfs/scratch/yur97/run_cov_061921/queue/q1330.pkl -A epo2_m_g_lc_default cov_calc.pbs\n",
      "qsub -v QUEUE=/gpfs/scratch/yur97/run_cov_061921/queue/q1340.pkl -A epo2_m_g_lc_default cov_calc.pbs\n",
      "qsub -v QUEUE=/gpfs/scratch/yur97/run_cov_061921/queue/q1350.pkl -A epo2_m_g_lc_default cov_calc.pbs\n",
      "qsub -v QUEUE=/gpfs/scratch/yur97/run_cov_061921/queue/q1360.pkl -A epo2_m_g_lc_default cov_calc.pbs\n",
      "qsub -v QUEUE=/gpfs/scratch/yur97/run_cov_061921/queue/q1370.pkl -A epo2_m_g_lc_default cov_calc.pbs\n",
      "qsub -v QUEUE=/gpfs/scratch/yur97/run_cov_061921/queue/q1380.pkl -A epo2_m_g_lc_default cov_calc.pbs\n",
      "qsub -v QUEUE=/gpfs/scratch/yur97/run_cov_061921/queue/q1390.pkl -A epo2_m_g_lc_default cov_calc.pbs\n",
      "qsub -v QUEUE=/gpfs/scratch/yur97/run_cov_061921/queue/q140.pkl -A epo2_m_g_lc_default cov_calc.pbs\n",
      "qsub -v QUEUE=/gpfs/scratch/yur97/run_cov_061921/queue/q1400.pkl -A epo2_m_g_lc_default cov_calc.pbs\n",
      "qsub -v QUEUE=/gpfs/scratch/yur97/run_cov_061921/queue/q1410.pkl -A epo2_m_g_lc_default cov_calc.pbs\n",
      "qsub -v QUEUE=/gpfs/scratch/yur97/run_cov_061921/queue/q1420.pkl -A epo2_m_g_lc_default cov_calc.pbs\n",
      "Done submitting jobs!\n"
     ]
    }
   ],
   "source": [
    "### Submit 070421\n",
    "ldirq = os.listdir(dir_queue)\n",
    "ldirq.sort()\n",
    "ldirq = list(ldirq[30:50])\n",
    "for q in ldirq:\n",
    "    queue = os.path.join(dir_queue,q)\n",
    "    qsub_command =f'qsub -v QUEUE={queue} -A epo2_m_g_lc_default cov_calc.pbs'\n",
    "    print(qsub_command) # Uncomment this line when testing to view the qsub command\n",
    "\n",
    "# Comment the following 3 lines when testing to prevent jobs from being submitted\n",
    "#     exit_status = subprocess.call(qsub_command, shell=True)\n",
    "#     if exit_status is 1:  # Check to make sure the job submitted\n",
    "#         print(f'Job {qsub_command} failed to submit')\n",
    "        \n",
    "print(\"Done submitting jobs!\")"
   ]
  },
  {
   "cell_type": "code",
   "execution_count": 6,
   "metadata": {
    "collapsed": true,
    "jupyter": {
     "outputs_hidden": true,
     "source_hidden": true
    }
   },
   "outputs": [
    {
     "name": "stderr",
     "output_type": "stream",
     "text": [
      "<>:12: SyntaxWarning: \"is\" with a literal. Did you mean \"==\"?\n",
      "<>:12: SyntaxWarning: \"is\" with a literal. Did you mean \"==\"?\n",
      "<ipython-input-6-9cf9f0a0c00f>:12: SyntaxWarning: \"is\" with a literal. Did you mean \"==\"?\n",
      "  if exit_status is 1:  # Check to make sure the job submitted\n"
     ]
    },
    {
     "name": "stdout",
     "output_type": "stream",
     "text": [
      "qsub -v QUEUE=/gpfs/scratch/yur97/run_cov_061921/queue/q1430.pkl -A epo2_f_g_sc_default cov_calc.pbs\n",
      "qsub -v QUEUE=/gpfs/scratch/yur97/run_cov_061921/queue/q1440.pkl -A epo2_f_g_sc_default cov_calc.pbs\n",
      "qsub -v QUEUE=/gpfs/scratch/yur97/run_cov_061921/queue/q1450.pkl -A epo2_f_g_sc_default cov_calc.pbs\n",
      "qsub -v QUEUE=/gpfs/scratch/yur97/run_cov_061921/queue/q1460.pkl -A epo2_f_g_sc_default cov_calc.pbs\n",
      "qsub -v QUEUE=/gpfs/scratch/yur97/run_cov_061921/queue/q1470.pkl -A epo2_f_g_sc_default cov_calc.pbs\n",
      "qsub -v QUEUE=/gpfs/scratch/yur97/run_cov_061921/queue/q1480.pkl -A epo2_f_g_sc_default cov_calc.pbs\n",
      "qsub -v QUEUE=/gpfs/scratch/yur97/run_cov_061921/queue/q1490.pkl -A epo2_f_g_sc_default cov_calc.pbs\n",
      "qsub -v QUEUE=/gpfs/scratch/yur97/run_cov_061921/queue/q150.pkl -A epo2_f_g_sc_default cov_calc.pbs\n",
      "qsub -v QUEUE=/gpfs/scratch/yur97/run_cov_061921/queue/q1500.pkl -A epo2_f_g_sc_default cov_calc.pbs\n",
      "qsub -v QUEUE=/gpfs/scratch/yur97/run_cov_061921/queue/q1510.pkl -A epo2_f_g_sc_default cov_calc.pbs\n",
      "Done submitting jobs!\n"
     ]
    }
   ],
   "source": [
    "### Submit 070421\n",
    "ldirq = os.listdir(dir_queue)\n",
    "ldirq.sort()\n",
    "ldirq = list(ldirq[50:60])\n",
    "for q in ldirq:\n",
    "    queue = os.path.join(dir_queue,q)\n",
    "    qsub_command =f'qsub -v QUEUE={queue} -A epo2_f_g_sc_default cov_calc.pbs'\n",
    "    print(qsub_command) # Uncomment this line when testing to view the qsub command\n",
    "\n",
    "# # Comment the following 3 lines when testing to prevent jobs from being submitted\n",
    "#     exit_status = subprocess.call(qsub_command, shell=True)\n",
    "#     if exit_status is 1:  # Check to make sure the job submitted\n",
    "#         print(f'Job {qsub_command} failed to submit')\n",
    "        \n",
    "print(\"Done submitting jobs!\")"
   ]
  },
  {
   "cell_type": "markdown",
   "metadata": {},
   "source": [
    "***070521***"
   ]
  },
  {
   "cell_type": "code",
   "execution_count": 4,
   "metadata": {
    "collapsed": true,
    "jupyter": {
     "outputs_hidden": true,
     "source_hidden": true
    }
   },
   "outputs": [
    {
     "name": "stderr",
     "output_type": "stream",
     "text": [
      "<>:12: SyntaxWarning: \"is\" with a literal. Did you mean \"==\"?\n",
      "<>:12: SyntaxWarning: \"is\" with a literal. Did you mean \"==\"?\n",
      "<ipython-input-4-c59846e5f0bb>:12: SyntaxWarning: \"is\" with a literal. Did you mean \"==\"?\n",
      "  if exit_status is 1:  # Check to make sure the job submitted\n"
     ]
    },
    {
     "name": "stdout",
     "output_type": "stream",
     "text": [
      "qsub -v QUEUE=/gpfs/scratch/yur97/run_cov_061921/queue/q1520.pkl -A epo2_f_g_sc_default cov_calc.pbs\n",
      "qsub -v QUEUE=/gpfs/scratch/yur97/run_cov_061921/queue/q1530.pkl -A epo2_f_g_sc_default cov_calc.pbs\n",
      "qsub -v QUEUE=/gpfs/scratch/yur97/run_cov_061921/queue/q1540.pkl -A epo2_f_g_sc_default cov_calc.pbs\n",
      "qsub -v QUEUE=/gpfs/scratch/yur97/run_cov_061921/queue/q1550.pkl -A epo2_f_g_sc_default cov_calc.pbs\n",
      "qsub -v QUEUE=/gpfs/scratch/yur97/run_cov_061921/queue/q1560.pkl -A epo2_f_g_sc_default cov_calc.pbs\n",
      "qsub -v QUEUE=/gpfs/scratch/yur97/run_cov_061921/queue/q1570.pkl -A epo2_f_g_sc_default cov_calc.pbs\n",
      "qsub -v QUEUE=/gpfs/scratch/yur97/run_cov_061921/queue/q1580.pkl -A epo2_f_g_sc_default cov_calc.pbs\n",
      "qsub -v QUEUE=/gpfs/scratch/yur97/run_cov_061921/queue/q1590.pkl -A epo2_f_g_sc_default cov_calc.pbs\n",
      "qsub -v QUEUE=/gpfs/scratch/yur97/run_cov_061921/queue/q160.pkl -A epo2_f_g_sc_default cov_calc.pbs\n",
      "qsub -v QUEUE=/gpfs/scratch/yur97/run_cov_061921/queue/q1600.pkl -A epo2_f_g_sc_default cov_calc.pbs\n",
      "Done submitting jobs!\n"
     ]
    }
   ],
   "source": [
    "### Submit 070421\n",
    "ldirq = os.listdir(dir_queue)\n",
    "ldirq.sort()\n",
    "ldirq = list(ldirq[60:70])\n",
    "for q in ldirq:\n",
    "    queue = os.path.join(dir_queue,q)\n",
    "    qsub_command =f'qsub -v QUEUE={queue} -A epo2_f_g_sc_default cov_calc.pbs'\n",
    "    print(qsub_command) # Uncomment this line when testing to view the qsub command\n",
    "\n",
    "# # Comment the following 3 lines when testing to prevent jobs from being submitted\n",
    "#     exit_status = subprocess.call(qsub_command, shell=True)\n",
    "#     if exit_status is 1:  # Check to make sure the job submitted\n",
    "#         print(f'Job {qsub_command} failed to submit')\n",
    "        \n",
    "print(\"Done submitting jobs!\")"
   ]
  },
  {
   "cell_type": "code",
   "execution_count": 5,
   "metadata": {
    "collapsed": true,
    "jupyter": {
     "outputs_hidden": true,
     "source_hidden": true
    }
   },
   "outputs": [
    {
     "name": "stderr",
     "output_type": "stream",
     "text": [
      "<>:11: SyntaxWarning: \"is\" with a literal. Did you mean \"==\"?\n",
      "<>:11: SyntaxWarning: \"is\" with a literal. Did you mean \"==\"?\n",
      "<ipython-input-5-ad30f9dc3a58>:11: SyntaxWarning: \"is\" with a literal. Did you mean \"==\"?\n",
      "  if exit_status is 1:  # Check to make sure the job submitted\n"
     ]
    },
    {
     "name": "stdout",
     "output_type": "stream",
     "text": [
      "qsub -v QUEUE=/gpfs/scratch/yur97/run_cov_061921/queue/q1610.pkl -A epo2_m_g_lc_default cov_calc.pbs\n",
      "qsub -v QUEUE=/gpfs/scratch/yur97/run_cov_061921/queue/q1620.pkl -A epo2_m_g_lc_default cov_calc.pbs\n",
      "qsub -v QUEUE=/gpfs/scratch/yur97/run_cov_061921/queue/q1630.pkl -A epo2_m_g_lc_default cov_calc.pbs\n",
      "qsub -v QUEUE=/gpfs/scratch/yur97/run_cov_061921/queue/q1640.pkl -A epo2_m_g_lc_default cov_calc.pbs\n",
      "qsub -v QUEUE=/gpfs/scratch/yur97/run_cov_061921/queue/q1650.pkl -A epo2_m_g_lc_default cov_calc.pbs\n",
      "qsub -v QUEUE=/gpfs/scratch/yur97/run_cov_061921/queue/q1660.pkl -A epo2_m_g_lc_default cov_calc.pbs\n",
      "qsub -v QUEUE=/gpfs/scratch/yur97/run_cov_061921/queue/q1670.pkl -A epo2_m_g_lc_default cov_calc.pbs\n",
      "qsub -v QUEUE=/gpfs/scratch/yur97/run_cov_061921/queue/q1680.pkl -A epo2_m_g_lc_default cov_calc.pbs\n",
      "qsub -v QUEUE=/gpfs/scratch/yur97/run_cov_061921/queue/q1690.pkl -A epo2_m_g_lc_default cov_calc.pbs\n",
      "qsub -v QUEUE=/gpfs/scratch/yur97/run_cov_061921/queue/q170.pkl -A epo2_m_g_lc_default cov_calc.pbs\n",
      "qsub -v QUEUE=/gpfs/scratch/yur97/run_cov_061921/queue/q1700.pkl -A epo2_m_g_lc_default cov_calc.pbs\n",
      "qsub -v QUEUE=/gpfs/scratch/yur97/run_cov_061921/queue/q1710.pkl -A epo2_m_g_lc_default cov_calc.pbs\n",
      "qsub -v QUEUE=/gpfs/scratch/yur97/run_cov_061921/queue/q1720.pkl -A epo2_m_g_lc_default cov_calc.pbs\n",
      "qsub -v QUEUE=/gpfs/scratch/yur97/run_cov_061921/queue/q1730.pkl -A epo2_m_g_lc_default cov_calc.pbs\n",
      "qsub -v QUEUE=/gpfs/scratch/yur97/run_cov_061921/queue/q1740.pkl -A epo2_m_g_lc_default cov_calc.pbs\n",
      "qsub -v QUEUE=/gpfs/scratch/yur97/run_cov_061921/queue/q1750.pkl -A epo2_m_g_lc_default cov_calc.pbs\n",
      "qsub -v QUEUE=/gpfs/scratch/yur97/run_cov_061921/queue/q1760.pkl -A epo2_m_g_lc_default cov_calc.pbs\n",
      "qsub -v QUEUE=/gpfs/scratch/yur97/run_cov_061921/queue/q1770.pkl -A epo2_m_g_lc_default cov_calc.pbs\n",
      "qsub -v QUEUE=/gpfs/scratch/yur97/run_cov_061921/queue/q1780.pkl -A epo2_m_g_lc_default cov_calc.pbs\n",
      "qsub -v QUEUE=/gpfs/scratch/yur97/run_cov_061921/queue/q1790.pkl -A epo2_m_g_lc_default cov_calc.pbs\n"
     ]
    }
   ],
   "source": [
    "ldirq = os.listdir(dir_queue)\n",
    "ldirq.sort()\n",
    "ldirq = list(ldirq[70:90])\n",
    "for q in ldirq:\n",
    "    queue = os.path.join(dir_queue,q)\n",
    "    qsub_command =f'qsub -v QUEUE={queue} -A epo2_m_g_lc_default cov_calc.pbs'\n",
    "    print(qsub_command) # Uncomment this line when testing to view the qsub command\n",
    "\n",
    "# Comment the following 3 lines when testing to prevent jobs from being submitted\n",
    "#     exit_status = subprocess.call(qsub_command, shell=True)\n",
    "#     if exit_status is 1:  # Check to make sure the job submitted\n",
    "#         print(f'Job {qsub_command} failed to submit')"
   ]
  },
  {
   "cell_type": "markdown",
   "metadata": {},
   "source": [
    "***070721***"
   ]
  },
  {
   "cell_type": "code",
   "execution_count": 5,
   "metadata": {
    "collapsed": true,
    "jupyter": {
     "outputs_hidden": true,
     "source_hidden": true
    }
   },
   "outputs": [
    {
     "name": "stderr",
     "output_type": "stream",
     "text": [
      "<>:11: SyntaxWarning: \"is\" with a literal. Did you mean \"==\"?\n",
      "<>:11: SyntaxWarning: \"is\" with a literal. Did you mean \"==\"?\n",
      "<ipython-input-5-2f3170f80e37>:11: SyntaxWarning: \"is\" with a literal. Did you mean \"==\"?\n",
      "  if exit_status is 1:  # Check to make sure the job submitted\n"
     ]
    },
    {
     "name": "stdout",
     "output_type": "stream",
     "text": [
      "qsub -v QUEUE=/gpfs/scratch/yur97/run_cov_061921/queue/q180.pkl -A epo2_m_g_lc_default cov_calc.pbs\n",
      "qsub -v QUEUE=/gpfs/scratch/yur97/run_cov_061921/queue/q1800.pkl -A epo2_m_g_lc_default cov_calc.pbs\n",
      "qsub -v QUEUE=/gpfs/scratch/yur97/run_cov_061921/queue/q1810.pkl -A epo2_m_g_lc_default cov_calc.pbs\n",
      "qsub -v QUEUE=/gpfs/scratch/yur97/run_cov_061921/queue/q1820.pkl -A epo2_m_g_lc_default cov_calc.pbs\n",
      "qsub -v QUEUE=/gpfs/scratch/yur97/run_cov_061921/queue/q1830.pkl -A epo2_m_g_lc_default cov_calc.pbs\n",
      "qsub -v QUEUE=/gpfs/scratch/yur97/run_cov_061921/queue/q1840.pkl -A epo2_m_g_lc_default cov_calc.pbs\n",
      "qsub -v QUEUE=/gpfs/scratch/yur97/run_cov_061921/queue/q1850.pkl -A epo2_m_g_lc_default cov_calc.pbs\n",
      "qsub -v QUEUE=/gpfs/scratch/yur97/run_cov_061921/queue/q1860.pkl -A epo2_m_g_lc_default cov_calc.pbs\n",
      "qsub -v QUEUE=/gpfs/scratch/yur97/run_cov_061921/queue/q1870.pkl -A epo2_m_g_lc_default cov_calc.pbs\n",
      "qsub -v QUEUE=/gpfs/scratch/yur97/run_cov_061921/queue/q1880.pkl -A epo2_m_g_lc_default cov_calc.pbs\n",
      "qsub -v QUEUE=/gpfs/scratch/yur97/run_cov_061921/queue/q1890.pkl -A epo2_m_g_lc_default cov_calc.pbs\n",
      "qsub -v QUEUE=/gpfs/scratch/yur97/run_cov_061921/queue/q190.pkl -A epo2_m_g_lc_default cov_calc.pbs\n",
      "qsub -v QUEUE=/gpfs/scratch/yur97/run_cov_061921/queue/q1900.pkl -A epo2_m_g_lc_default cov_calc.pbs\n",
      "qsub -v QUEUE=/gpfs/scratch/yur97/run_cov_061921/queue/q1910.pkl -A epo2_m_g_lc_default cov_calc.pbs\n",
      "qsub -v QUEUE=/gpfs/scratch/yur97/run_cov_061921/queue/q1920.pkl -A epo2_m_g_lc_default cov_calc.pbs\n",
      "qsub -v QUEUE=/gpfs/scratch/yur97/run_cov_061921/queue/q1930.pkl -A epo2_m_g_lc_default cov_calc.pbs\n",
      "qsub -v QUEUE=/gpfs/scratch/yur97/run_cov_061921/queue/q1940.pkl -A epo2_m_g_lc_default cov_calc.pbs\n",
      "qsub -v QUEUE=/gpfs/scratch/yur97/run_cov_061921/queue/q1950.pkl -A epo2_m_g_lc_default cov_calc.pbs\n",
      "qsub -v QUEUE=/gpfs/scratch/yur97/run_cov_061921/queue/q1960.pkl -A epo2_m_g_lc_default cov_calc.pbs\n",
      "qsub -v QUEUE=/gpfs/scratch/yur97/run_cov_061921/queue/q1970.pkl -A epo2_m_g_lc_default cov_calc.pbs\n"
     ]
    }
   ],
   "source": [
    "ldirq = os.listdir(dir_queue)\n",
    "ldirq.sort()\n",
    "ldirq = list(ldirq[90:110])\n",
    "for q in ldirq:\n",
    "    queue = os.path.join(dir_queue,q)\n",
    "    qsub_command =f'qsub -v QUEUE={queue} -A epo2_m_g_lc_default cov_calc.pbs'\n",
    "    print(qsub_command) # Uncomment this line when testing to view the qsub command\n",
    "\n",
    "# Comment the following 3 lines when testing to prevent jobs from being submitted\n",
    "#     exit_status = subprocess.call(qsub_command, shell=True)\n",
    "#     if exit_status is 1:  # Check to make sure the job submitted\n",
    "#         print(f'Job {qsub_command} failed to submit')"
   ]
  },
  {
   "cell_type": "code",
   "execution_count": 7,
   "metadata": {
    "collapsed": true,
    "jupyter": {
     "outputs_hidden": true,
     "source_hidden": true
    }
   },
   "outputs": [
    {
     "name": "stderr",
     "output_type": "stream",
     "text": [
      "<>:11: SyntaxWarning: \"is\" with a literal. Did you mean \"==\"?\n",
      "<>:11: SyntaxWarning: \"is\" with a literal. Did you mean \"==\"?\n",
      "<ipython-input-7-8cc9792c3cd2>:11: SyntaxWarning: \"is\" with a literal. Did you mean \"==\"?\n",
      "  if exit_status is 1:  # Check to make sure the job submitted\n"
     ]
    },
    {
     "name": "stdout",
     "output_type": "stream",
     "text": [
      "qsub -v QUEUE=/gpfs/scratch/yur97/run_cov_061921/queue/q1980.pkl -A open cov_calc.pbs\n",
      "qsub -v QUEUE=/gpfs/scratch/yur97/run_cov_061921/queue/q1990.pkl -A open cov_calc.pbs\n",
      "qsub -v QUEUE=/gpfs/scratch/yur97/run_cov_061921/queue/q20.pkl -A open cov_calc.pbs\n",
      "qsub -v QUEUE=/gpfs/scratch/yur97/run_cov_061921/queue/q200.pkl -A open cov_calc.pbs\n",
      "qsub -v QUEUE=/gpfs/scratch/yur97/run_cov_061921/queue/q2000.pkl -A open cov_calc.pbs\n",
      "qsub -v QUEUE=/gpfs/scratch/yur97/run_cov_061921/queue/q2010.pkl -A open cov_calc.pbs\n",
      "qsub -v QUEUE=/gpfs/scratch/yur97/run_cov_061921/queue/q2020.pkl -A open cov_calc.pbs\n",
      "qsub -v QUEUE=/gpfs/scratch/yur97/run_cov_061921/queue/q2030.pkl -A open cov_calc.pbs\n",
      "qsub -v QUEUE=/gpfs/scratch/yur97/run_cov_061921/queue/q2040.pkl -A open cov_calc.pbs\n",
      "qsub -v QUEUE=/gpfs/scratch/yur97/run_cov_061921/queue/q2050.pkl -A open cov_calc.pbs\n"
     ]
    }
   ],
   "source": [
    "ldirq = os.listdir(dir_queue)\n",
    "ldirq.sort()\n",
    "ldirq = list(ldirq[110:120])\n",
    "for q in ldirq:\n",
    "    queue = os.path.join(dir_queue,q)\n",
    "    qsub_command =f'qsub -v QUEUE={queue} -A open cov_calc.pbs'\n",
    "    print(qsub_command) # Uncomment this line when testing to view the qsub command\n",
    "\n",
    "# Comment the following 3 lines when testing to prevent jobs from being submitted\n",
    "#     exit_status = subprocess.call(qsub_command, shell=True)\n",
    "#     if exit_status is 1:  # Check to make sure the job submitted\n",
    "#         print(f'Job {qsub_command} failed to submit')"
   ]
  },
  {
   "cell_type": "markdown",
   "metadata": {},
   "source": [
    "***\n",
    "***07082021***"
   ]
  },
  {
   "cell_type": "code",
   "execution_count": 4,
   "metadata": {},
   "outputs": [
    {
     "name": "stderr",
     "output_type": "stream",
     "text": [
      "<>:11: SyntaxWarning: \"is\" with a literal. Did you mean \"==\"?\n",
      "<>:11: SyntaxWarning: \"is\" with a literal. Did you mean \"==\"?\n",
      "<ipython-input-4-932b6711a739>:11: SyntaxWarning: \"is\" with a literal. Did you mean \"==\"?\n",
      "  if exit_status is 1:  # Check to make sure the job submitted\n"
     ]
    },
    {
     "name": "stdout",
     "output_type": "stream",
     "text": [
      "qsub -v QUEUE=/gpfs/scratch/yur97/run_cov_061921/queue/q2060.pkl -A epo2_m_g_lc_default cov_calc.pbs\n",
      "qsub -v QUEUE=/gpfs/scratch/yur97/run_cov_061921/queue/q2070.pkl -A epo2_m_g_lc_default cov_calc.pbs\n",
      "qsub -v QUEUE=/gpfs/scratch/yur97/run_cov_061921/queue/q2080.pkl -A epo2_m_g_lc_default cov_calc.pbs\n",
      "qsub -v QUEUE=/gpfs/scratch/yur97/run_cov_061921/queue/q2090.pkl -A epo2_m_g_lc_default cov_calc.pbs\n",
      "qsub -v QUEUE=/gpfs/scratch/yur97/run_cov_061921/queue/q210.pkl -A epo2_m_g_lc_default cov_calc.pbs\n",
      "qsub -v QUEUE=/gpfs/scratch/yur97/run_cov_061921/queue/q2100.pkl -A epo2_m_g_lc_default cov_calc.pbs\n",
      "qsub -v QUEUE=/gpfs/scratch/yur97/run_cov_061921/queue/q2110.pkl -A epo2_m_g_lc_default cov_calc.pbs\n",
      "qsub -v QUEUE=/gpfs/scratch/yur97/run_cov_061921/queue/q2120.pkl -A epo2_m_g_lc_default cov_calc.pbs\n",
      "qsub -v QUEUE=/gpfs/scratch/yur97/run_cov_061921/queue/q2130.pkl -A epo2_m_g_lc_default cov_calc.pbs\n",
      "qsub -v QUEUE=/gpfs/scratch/yur97/run_cov_061921/queue/q2140.pkl -A epo2_m_g_lc_default cov_calc.pbs\n"
     ]
    }
   ],
   "source": [
    "ldirq = os.listdir(dir_queue)\n",
    "ldirq.sort()\n",
    "ldirq = list(ldirq[120:130])\n",
    "for q in ldirq:\n",
    "    queue = os.path.join(dir_queue,q)\n",
    "    qsub_command =f'qsub -v QUEUE={queue} -A epo2_m_g_lc_default cov_calc.pbs'\n",
    "    print(qsub_command) # Uncomment this line when testing to view the qsub command\n",
    "\n",
    "# Comment the following 3 lines when testing to prevent jobs from being submitted\n",
    "#     exit_status = subprocess.call(qsub_command, shell=True)\n",
    "#     if exit_status is 1:  # Check to make sure the job submitted\n",
    "#         print(f'Job {qsub_command} failed to submit')"
   ]
  },
  {
   "cell_type": "markdown",
   "metadata": {},
   "source": [
    "***\n",
    "***07102021***"
   ]
  },
  {
   "cell_type": "code",
   "execution_count": 3,
   "metadata": {
    "collapsed": true,
    "jupyter": {
     "outputs_hidden": true
    }
   },
   "outputs": [
    {
     "name": "stderr",
     "output_type": "stream",
     "text": [
      "<>:11: SyntaxWarning: \"is\" with a literal. Did you mean \"==\"?\n",
      "<>:11: SyntaxWarning: \"is\" with a literal. Did you mean \"==\"?\n",
      "<ipython-input-3-1a2a040c7908>:11: SyntaxWarning: \"is\" with a literal. Did you mean \"==\"?\n",
      "  if exit_status is 1:  # Check to make sure the job submitted\n"
     ]
    },
    {
     "name": "stdout",
     "output_type": "stream",
     "text": [
      "qsub -v QUEUE=/gpfs/scratch/yur97/run_cov_061921/queue/q2150.pkl -A epo2_m_g_lc_default cov_calc.pbs\n",
      "qsub -v QUEUE=/gpfs/scratch/yur97/run_cov_061921/queue/q2160.pkl -A epo2_m_g_lc_default cov_calc.pbs\n",
      "qsub -v QUEUE=/gpfs/scratch/yur97/run_cov_061921/queue/q2170.pkl -A epo2_m_g_lc_default cov_calc.pbs\n",
      "qsub -v QUEUE=/gpfs/scratch/yur97/run_cov_061921/queue/q2180.pkl -A epo2_m_g_lc_default cov_calc.pbs\n",
      "qsub -v QUEUE=/gpfs/scratch/yur97/run_cov_061921/queue/q2190.pkl -A epo2_m_g_lc_default cov_calc.pbs\n",
      "qsub -v QUEUE=/gpfs/scratch/yur97/run_cov_061921/queue/q220.pkl -A epo2_m_g_lc_default cov_calc.pbs\n",
      "qsub -v QUEUE=/gpfs/scratch/yur97/run_cov_061921/queue/q2200.pkl -A epo2_m_g_lc_default cov_calc.pbs\n",
      "qsub -v QUEUE=/gpfs/scratch/yur97/run_cov_061921/queue/q2210.pkl -A epo2_m_g_lc_default cov_calc.pbs\n",
      "qsub -v QUEUE=/gpfs/scratch/yur97/run_cov_061921/queue/q2220.pkl -A epo2_m_g_lc_default cov_calc.pbs\n",
      "qsub -v QUEUE=/gpfs/scratch/yur97/run_cov_061921/queue/q2230.pkl -A epo2_m_g_lc_default cov_calc.pbs\n",
      "qsub -v QUEUE=/gpfs/scratch/yur97/run_cov_061921/queue/q2240.pkl -A epo2_m_g_lc_default cov_calc.pbs\n",
      "qsub -v QUEUE=/gpfs/scratch/yur97/run_cov_061921/queue/q2250.pkl -A epo2_m_g_lc_default cov_calc.pbs\n",
      "qsub -v QUEUE=/gpfs/scratch/yur97/run_cov_061921/queue/q2260.pkl -A epo2_m_g_lc_default cov_calc.pbs\n",
      "qsub -v QUEUE=/gpfs/scratch/yur97/run_cov_061921/queue/q2270.pkl -A epo2_m_g_lc_default cov_calc.pbs\n",
      "qsub -v QUEUE=/gpfs/scratch/yur97/run_cov_061921/queue/q2280.pkl -A epo2_m_g_lc_default cov_calc.pbs\n",
      "qsub -v QUEUE=/gpfs/scratch/yur97/run_cov_061921/queue/q2290.pkl -A epo2_m_g_lc_default cov_calc.pbs\n",
      "qsub -v QUEUE=/gpfs/scratch/yur97/run_cov_061921/queue/q230.pkl -A epo2_m_g_lc_default cov_calc.pbs\n",
      "qsub -v QUEUE=/gpfs/scratch/yur97/run_cov_061921/queue/q2300.pkl -A epo2_m_g_lc_default cov_calc.pbs\n",
      "qsub -v QUEUE=/gpfs/scratch/yur97/run_cov_061921/queue/q2310.pkl -A epo2_m_g_lc_default cov_calc.pbs\n",
      "qsub -v QUEUE=/gpfs/scratch/yur97/run_cov_061921/queue/q2320.pkl -A epo2_m_g_lc_default cov_calc.pbs\n"
     ]
    }
   ],
   "source": [
    "ldirq = os.listdir(dir_queue)\n",
    "ldirq.sort()\n",
    "ldirq = list(ldirq[130:150])\n",
    "for q in ldirq:\n",
    "    queue = os.path.join(dir_queue,q)\n",
    "    qsub_command =f'qsub -v QUEUE={queue} -A epo2_m_g_lc_default cov_calc.pbs'\n",
    "    print(qsub_command) # Uncomment this line when testing to view the qsub command\n",
    "\n",
    "# Comment the following 3 lines when testing to prevent jobs from being submitted\n",
    "#     exit_status = subprocess.call(qsub_command, shell=True)\n",
    "#     if exit_status is 1:  # Check to make sure the job submitted\n",
    "#         print(f'Job {qsub_command} failed to submit')"
   ]
  },
  {
   "cell_type": "code",
   "execution_count": 5,
   "metadata": {
    "collapsed": true,
    "jupyter": {
     "outputs_hidden": true
    }
   },
   "outputs": [
    {
     "name": "stderr",
     "output_type": "stream",
     "text": [
      "<>:11: SyntaxWarning: \"is\" with a literal. Did you mean \"==\"?\n",
      "<>:11: SyntaxWarning: \"is\" with a literal. Did you mean \"==\"?\n",
      "<ipython-input-5-7a55149b241c>:11: SyntaxWarning: \"is\" with a literal. Did you mean \"==\"?\n",
      "  if exit_status is 1:  # Check to make sure the job submitted\n"
     ]
    },
    {
     "name": "stdout",
     "output_type": "stream",
     "text": [
      "qsub -v QUEUE=/gpfs/scratch/yur97/run_cov_061921/queue/q2330.pkl -A open cov_calc.pbs\n",
      "qsub -v QUEUE=/gpfs/scratch/yur97/run_cov_061921/queue/q2340.pkl -A open cov_calc.pbs\n",
      "qsub -v QUEUE=/gpfs/scratch/yur97/run_cov_061921/queue/q2350.pkl -A open cov_calc.pbs\n",
      "qsub -v QUEUE=/gpfs/scratch/yur97/run_cov_061921/queue/q2360.pkl -A open cov_calc.pbs\n",
      "qsub -v QUEUE=/gpfs/scratch/yur97/run_cov_061921/queue/q2370.pkl -A open cov_calc.pbs\n",
      "qsub -v QUEUE=/gpfs/scratch/yur97/run_cov_061921/queue/q2380.pkl -A open cov_calc.pbs\n",
      "qsub -v QUEUE=/gpfs/scratch/yur97/run_cov_061921/queue/q2390.pkl -A open cov_calc.pbs\n",
      "qsub -v QUEUE=/gpfs/scratch/yur97/run_cov_061921/queue/q240.pkl -A open cov_calc.pbs\n",
      "qsub -v QUEUE=/gpfs/scratch/yur97/run_cov_061921/queue/q2400.pkl -A open cov_calc.pbs\n",
      "qsub -v QUEUE=/gpfs/scratch/yur97/run_cov_061921/queue/q2410.pkl -A open cov_calc.pbs\n",
      "qsub -v QUEUE=/gpfs/scratch/yur97/run_cov_061921/queue/q2420.pkl -A open cov_calc.pbs\n",
      "qsub -v QUEUE=/gpfs/scratch/yur97/run_cov_061921/queue/q2430.pkl -A open cov_calc.pbs\n",
      "qsub -v QUEUE=/gpfs/scratch/yur97/run_cov_061921/queue/q2440.pkl -A open cov_calc.pbs\n",
      "qsub -v QUEUE=/gpfs/scratch/yur97/run_cov_061921/queue/q2450.pkl -A open cov_calc.pbs\n",
      "qsub -v QUEUE=/gpfs/scratch/yur97/run_cov_061921/queue/q2460.pkl -A open cov_calc.pbs\n",
      "qsub -v QUEUE=/gpfs/scratch/yur97/run_cov_061921/queue/q2470.pkl -A open cov_calc.pbs\n",
      "qsub -v QUEUE=/gpfs/scratch/yur97/run_cov_061921/queue/q2480.pkl -A open cov_calc.pbs\n",
      "qsub -v QUEUE=/gpfs/scratch/yur97/run_cov_061921/queue/q2490.pkl -A open cov_calc.pbs\n",
      "qsub -v QUEUE=/gpfs/scratch/yur97/run_cov_061921/queue/q250.pkl -A open cov_calc.pbs\n",
      "qsub -v QUEUE=/gpfs/scratch/yur97/run_cov_061921/queue/q2500.pkl -A open cov_calc.pbs\n"
     ]
    }
   ],
   "source": [
    "ldirq = os.listdir(dir_queue)\n",
    "ldirq.sort()\n",
    "ldirq = list(ldirq[150:170])\n",
    "for q in ldirq:\n",
    "    queue = os.path.join(dir_queue,q)\n",
    "    qsub_command =f'qsub -v QUEUE={queue} -A open cov_calc.pbs'\n",
    "    print(qsub_command) # Uncomment this line when testing to view the qsub command\n",
    "\n",
    "# Comment the following 3 lines when testing to prevent jobs from being submitted\n",
    "#     exit_status = subprocess.call(qsub_command, shell=True)\n",
    "#     if exit_status is 1:  # Check to make sure the job submitted\n",
    "#         print(f'Job {qsub_command} failed to submit')"
   ]
  },
  {
   "cell_type": "markdown",
   "metadata": {},
   "source": [
    "***\n",
    "***07112021***"
   ]
  },
  {
   "cell_type": "code",
   "execution_count": 3,
   "metadata": {},
   "outputs": [
    {
     "name": "stderr",
     "output_type": "stream",
     "text": [
      "<>:11: SyntaxWarning: \"is\" with a literal. Did you mean \"==\"?\n",
      "<>:11: SyntaxWarning: \"is\" with a literal. Did you mean \"==\"?\n",
      "<ipython-input-3-f28e4dac29af>:11: SyntaxWarning: \"is\" with a literal. Did you mean \"==\"?\n",
      "  if exit_status is 1:  # Check to make sure the job submitted\n"
     ]
    },
    {
     "name": "stdout",
     "output_type": "stream",
     "text": [
      "qsub -v QUEUE=/gpfs/scratch/yur97/run_cov_061921/queue/q2510.pkl -A epo2_m_g_lc_default cov_calc.pbs\n",
      "qsub -v QUEUE=/gpfs/scratch/yur97/run_cov_061921/queue/q2520.pkl -A epo2_m_g_lc_default cov_calc.pbs\n",
      "qsub -v QUEUE=/gpfs/scratch/yur97/run_cov_061921/queue/q2530.pkl -A epo2_m_g_lc_default cov_calc.pbs\n",
      "qsub -v QUEUE=/gpfs/scratch/yur97/run_cov_061921/queue/q2540.pkl -A epo2_m_g_lc_default cov_calc.pbs\n",
      "qsub -v QUEUE=/gpfs/scratch/yur97/run_cov_061921/queue/q2550.pkl -A epo2_m_g_lc_default cov_calc.pbs\n",
      "qsub -v QUEUE=/gpfs/scratch/yur97/run_cov_061921/queue/q2560.pkl -A epo2_m_g_lc_default cov_calc.pbs\n",
      "qsub -v QUEUE=/gpfs/scratch/yur97/run_cov_061921/queue/q2570.pkl -A epo2_m_g_lc_default cov_calc.pbs\n",
      "qsub -v QUEUE=/gpfs/scratch/yur97/run_cov_061921/queue/q2580.pkl -A epo2_m_g_lc_default cov_calc.pbs\n",
      "qsub -v QUEUE=/gpfs/scratch/yur97/run_cov_061921/queue/q2590.pkl -A epo2_m_g_lc_default cov_calc.pbs\n",
      "qsub -v QUEUE=/gpfs/scratch/yur97/run_cov_061921/queue/q260.pkl -A epo2_m_g_lc_default cov_calc.pbs\n",
      "qsub -v QUEUE=/gpfs/scratch/yur97/run_cov_061921/queue/q2600.pkl -A epo2_m_g_lc_default cov_calc.pbs\n",
      "qsub -v QUEUE=/gpfs/scratch/yur97/run_cov_061921/queue/q2610.pkl -A epo2_m_g_lc_default cov_calc.pbs\n",
      "qsub -v QUEUE=/gpfs/scratch/yur97/run_cov_061921/queue/q2620.pkl -A epo2_m_g_lc_default cov_calc.pbs\n",
      "qsub -v QUEUE=/gpfs/scratch/yur97/run_cov_061921/queue/q2630.pkl -A epo2_m_g_lc_default cov_calc.pbs\n",
      "qsub -v QUEUE=/gpfs/scratch/yur97/run_cov_061921/queue/q2640.pkl -A epo2_m_g_lc_default cov_calc.pbs\n",
      "qsub -v QUEUE=/gpfs/scratch/yur97/run_cov_061921/queue/q2650.pkl -A epo2_m_g_lc_default cov_calc.pbs\n",
      "qsub -v QUEUE=/gpfs/scratch/yur97/run_cov_061921/queue/q2660.pkl -A epo2_m_g_lc_default cov_calc.pbs\n",
      "qsub -v QUEUE=/gpfs/scratch/yur97/run_cov_061921/queue/q2670.pkl -A epo2_m_g_lc_default cov_calc.pbs\n",
      "qsub -v QUEUE=/gpfs/scratch/yur97/run_cov_061921/queue/q2680.pkl -A epo2_m_g_lc_default cov_calc.pbs\n",
      "qsub -v QUEUE=/gpfs/scratch/yur97/run_cov_061921/queue/q2690.pkl -A epo2_m_g_lc_default cov_calc.pbs\n"
     ]
    }
   ],
   "source": [
    "ldirq = os.listdir(dir_queue)\n",
    "ldirq.sort()\n",
    "ldirq = list(ldirq[170:190])\n",
    "for q in ldirq:\n",
    "    queue = os.path.join(dir_queue,q)\n",
    "    qsub_command =f'qsub -v QUEUE={queue} -A epo2_m_g_lc_default cov_calc.pbs'\n",
    "    print(qsub_command) # Uncomment this line when testing to view the qsub command\n",
    "\n",
    "# Comment the following 3 lines when testing to prevent jobs from being submitted\n",
    "#     exit_status = subprocess.call(qsub_command, shell=True)\n",
    "#     if exit_status is 1:  # Check to make sure the job submitted\n",
    "#         print(f'Job {qsub_command} failed to submit')"
   ]
  },
  {
   "cell_type": "code",
   "execution_count": 5,
   "metadata": {},
   "outputs": [
    {
     "name": "stderr",
     "output_type": "stream",
     "text": [
      "<>:11: SyntaxWarning: \"is\" with a literal. Did you mean \"==\"?\n",
      "<>:11: SyntaxWarning: \"is\" with a literal. Did you mean \"==\"?\n",
      "<ipython-input-5-e04da4745579>:11: SyntaxWarning: \"is\" with a literal. Did you mean \"==\"?\n",
      "  if exit_status is 1:  # Check to make sure the job submitted\n"
     ]
    },
    {
     "name": "stdout",
     "output_type": "stream",
     "text": [
      "qsub -v QUEUE=/gpfs/scratch/yur97/run_cov_061921/queue/q270.pkl -A epo2_f_g_sc_default cov_calc.pbs\n",
      "qsub -v QUEUE=/gpfs/scratch/yur97/run_cov_061921/queue/q2700.pkl -A epo2_f_g_sc_default cov_calc.pbs\n",
      "qsub -v QUEUE=/gpfs/scratch/yur97/run_cov_061921/queue/q2710.pkl -A epo2_f_g_sc_default cov_calc.pbs\n",
      "qsub -v QUEUE=/gpfs/scratch/yur97/run_cov_061921/queue/q2720.pkl -A epo2_f_g_sc_default cov_calc.pbs\n",
      "qsub -v QUEUE=/gpfs/scratch/yur97/run_cov_061921/queue/q2730.pkl -A epo2_f_g_sc_default cov_calc.pbs\n",
      "qsub -v QUEUE=/gpfs/scratch/yur97/run_cov_061921/queue/q2740.pkl -A epo2_f_g_sc_default cov_calc.pbs\n",
      "qsub -v QUEUE=/gpfs/scratch/yur97/run_cov_061921/queue/q2750.pkl -A epo2_f_g_sc_default cov_calc.pbs\n",
      "qsub -v QUEUE=/gpfs/scratch/yur97/run_cov_061921/queue/q2760.pkl -A epo2_f_g_sc_default cov_calc.pbs\n",
      "qsub -v QUEUE=/gpfs/scratch/yur97/run_cov_061921/queue/q280.pkl -A epo2_f_g_sc_default cov_calc.pbs\n",
      "qsub -v QUEUE=/gpfs/scratch/yur97/run_cov_061921/queue/q290.pkl -A epo2_f_g_sc_default cov_calc.pbs\n",
      "Done submitting jobs!\n"
     ]
    }
   ],
   "source": [
    "ldirq = os.listdir(dir_queue)\n",
    "ldirq.sort()\n",
    "ldirq = list(ldirq[190:200])\n",
    "for q in ldirq:\n",
    "    queue = os.path.join(dir_queue,q)\n",
    "    qsub_command =f'qsub -v QUEUE={queue} -A epo2_f_g_sc_default cov_calc.pbs'\n",
    "    print(qsub_command) # Uncomment this line when testing to view the qsub command\n",
    "\n",
    "# # Comment the following 3 lines when testing to prevent jobs from being submitted\n",
    "#     exit_status = subprocess.call(qsub_command, shell=True)\n",
    "#     if exit_status is 1:  # Check to make sure the job submitted\n",
    "#         print(f'Job {qsub_command} failed to submit')\n",
    "        \n",
    "print(\"Done submitting jobs!\")"
   ]
  },
  {
   "cell_type": "markdown",
   "metadata": {},
   "source": [
    "***\n",
    "***07112021***"
   ]
  },
  {
   "cell_type": "code",
   "execution_count": 3,
   "metadata": {
    "scrolled": true
   },
   "outputs": [
    {
     "name": "stderr",
     "output_type": "stream",
     "text": [
      "<>:11: SyntaxWarning: \"is\" with a literal. Did you mean \"==\"?\n",
      "<>:11: SyntaxWarning: \"is\" with a literal. Did you mean \"==\"?\n",
      "<ipython-input-3-64125675a3b9>:11: SyntaxWarning: \"is\" with a literal. Did you mean \"==\"?\n",
      "  if exit_status is 1:  # Check to make sure the job submitted\n"
     ]
    },
    {
     "name": "stdout",
     "output_type": "stream",
     "text": [
      "qsub -v QUEUE=/gpfs/scratch/yur97/run_cov_061921/queue/q30.pkl -A epo2_m_g_lc_default cov_calc.pbs\n",
      "qsub -v QUEUE=/gpfs/scratch/yur97/run_cov_061921/queue/q300.pkl -A epo2_m_g_lc_default cov_calc.pbs\n",
      "qsub -v QUEUE=/gpfs/scratch/yur97/run_cov_061921/queue/q310.pkl -A epo2_m_g_lc_default cov_calc.pbs\n",
      "qsub -v QUEUE=/gpfs/scratch/yur97/run_cov_061921/queue/q320.pkl -A epo2_m_g_lc_default cov_calc.pbs\n",
      "qsub -v QUEUE=/gpfs/scratch/yur97/run_cov_061921/queue/q330.pkl -A epo2_m_g_lc_default cov_calc.pbs\n",
      "qsub -v QUEUE=/gpfs/scratch/yur97/run_cov_061921/queue/q340.pkl -A epo2_m_g_lc_default cov_calc.pbs\n",
      "qsub -v QUEUE=/gpfs/scratch/yur97/run_cov_061921/queue/q350.pkl -A epo2_m_g_lc_default cov_calc.pbs\n",
      "qsub -v QUEUE=/gpfs/scratch/yur97/run_cov_061921/queue/q360.pkl -A epo2_m_g_lc_default cov_calc.pbs\n",
      "qsub -v QUEUE=/gpfs/scratch/yur97/run_cov_061921/queue/q370.pkl -A epo2_m_g_lc_default cov_calc.pbs\n",
      "qsub -v QUEUE=/gpfs/scratch/yur97/run_cov_061921/queue/q380.pkl -A epo2_m_g_lc_default cov_calc.pbs\n"
     ]
    }
   ],
   "source": [
    "ldirq = os.listdir(dir_queue)\n",
    "ldirq.sort()\n",
    "ldirq = list(ldirq[200:210])\n",
    "for q in ldirq:\n",
    "    queue = os.path.join(dir_queue,q)\n",
    "    qsub_command =f'qsub -v QUEUE={queue} -A epo2_m_g_lc_default cov_calc.pbs'\n",
    "    print(qsub_command) # Uncomment this line when testing to view the qsub command\n",
    "\n",
    "# Comment the following 3 lines when testing to prevent jobs from being submitted\n",
    "#     exit_status = subprocess.call(qsub_command, shell=True)\n",
    "#     if exit_status is 1:  # Check to make sure the job submitted\n",
    "#         print(f'Job {qsub_command} failed to submit')"
   ]
  },
  {
   "cell_type": "code",
   "execution_count": 5,
   "metadata": {
    "collapsed": true,
    "jupyter": {
     "outputs_hidden": true
    }
   },
   "outputs": [
    {
     "name": "stderr",
     "output_type": "stream",
     "text": [
      "<>:11: SyntaxWarning: \"is\" with a literal. Did you mean \"==\"?\n",
      "<>:11: SyntaxWarning: \"is\" with a literal. Did you mean \"==\"?\n",
      "<ipython-input-5-0adbe07be04e>:11: SyntaxWarning: \"is\" with a literal. Did you mean \"==\"?\n",
      "  if exit_status is 1:  # Check to make sure the job submitted\n"
     ]
    },
    {
     "name": "stdout",
     "output_type": "stream",
     "text": [
      "qsub -v QUEUE=/gpfs/scratch/yur97/run_cov_061921/queue/q390.pkl -A epo2_h_g_bc_default cov_calc.pbs\n",
      "qsub -v QUEUE=/gpfs/scratch/yur97/run_cov_061921/queue/q40.pkl -A epo2_h_g_bc_default cov_calc.pbs\n",
      "qsub -v QUEUE=/gpfs/scratch/yur97/run_cov_061921/queue/q400.pkl -A epo2_h_g_bc_default cov_calc.pbs\n",
      "qsub -v QUEUE=/gpfs/scratch/yur97/run_cov_061921/queue/q410.pkl -A epo2_h_g_bc_default cov_calc.pbs\n",
      "qsub -v QUEUE=/gpfs/scratch/yur97/run_cov_061921/queue/q420.pkl -A epo2_h_g_bc_default cov_calc.pbs\n",
      "qsub -v QUEUE=/gpfs/scratch/yur97/run_cov_061921/queue/q430.pkl -A epo2_h_g_bc_default cov_calc.pbs\n",
      "qsub -v QUEUE=/gpfs/scratch/yur97/run_cov_061921/queue/q440.pkl -A epo2_h_g_bc_default cov_calc.pbs\n",
      "qsub -v QUEUE=/gpfs/scratch/yur97/run_cov_061921/queue/q450.pkl -A epo2_h_g_bc_default cov_calc.pbs\n",
      "qsub -v QUEUE=/gpfs/scratch/yur97/run_cov_061921/queue/q460.pkl -A epo2_h_g_bc_default cov_calc.pbs\n",
      "qsub -v QUEUE=/gpfs/scratch/yur97/run_cov_061921/queue/q470.pkl -A epo2_h_g_bc_default cov_calc.pbs\n"
     ]
    }
   ],
   "source": [
    "ldirq = os.listdir(dir_queue)\n",
    "ldirq.sort()\n",
    "ldirq = list(ldirq[210:220])\n",
    "for q in ldirq:\n",
    "    queue = os.path.join(dir_queue,q)\n",
    "    qsub_command =f'qsub -v QUEUE={queue} -A epo2_h_g_bc_default cov_calc.pbs'\n",
    "    print(qsub_command) # Uncomment this line when testing to view the qsub command\n",
    "\n",
    "# Comment the following 3 lines when testing to prevent jobs from being submitted\n",
    "#     exit_status = subprocess.call(qsub_command, shell=True)\n",
    "#     if exit_status is 1:  # Check to make sure the job submitted\n",
    "#         print(f'Job {qsub_command} failed to submit')"
   ]
  },
  {
   "cell_type": "markdown",
   "metadata": {},
   "source": [
    "***\n",
    "***07132021***"
   ]
  },
  {
   "cell_type": "code",
   "execution_count": 4,
   "metadata": {},
   "outputs": [
    {
     "name": "stderr",
     "output_type": "stream",
     "text": [
      "<>:11: SyntaxWarning: \"is\" with a literal. Did you mean \"==\"?\n",
      "<>:11: SyntaxWarning: \"is\" with a literal. Did you mean \"==\"?\n",
      "<ipython-input-4-34369ccb8627>:11: SyntaxWarning: \"is\" with a literal. Did you mean \"==\"?\n",
      "  if exit_status is 1:  # Check to make sure the job submitted\n"
     ]
    },
    {
     "name": "stdout",
     "output_type": "stream",
     "text": [
      "qsub -v QUEUE=/gpfs/scratch/yur97/run_cov_061921/queue/q480.pkl -A epo2_f_g_sc_default cov_calc.pbs\n",
      "qsub -v QUEUE=/gpfs/scratch/yur97/run_cov_061921/queue/q490.pkl -A epo2_f_g_sc_default cov_calc.pbs\n",
      "qsub -v QUEUE=/gpfs/scratch/yur97/run_cov_061921/queue/q50.pkl -A epo2_f_g_sc_default cov_calc.pbs\n",
      "qsub -v QUEUE=/gpfs/scratch/yur97/run_cov_061921/queue/q500.pkl -A epo2_f_g_sc_default cov_calc.pbs\n",
      "qsub -v QUEUE=/gpfs/scratch/yur97/run_cov_061921/queue/q510.pkl -A epo2_f_g_sc_default cov_calc.pbs\n",
      "qsub -v QUEUE=/gpfs/scratch/yur97/run_cov_061921/queue/q520.pkl -A epo2_f_g_sc_default cov_calc.pbs\n",
      "qsub -v QUEUE=/gpfs/scratch/yur97/run_cov_061921/queue/q530.pkl -A epo2_f_g_sc_default cov_calc.pbs\n",
      "qsub -v QUEUE=/gpfs/scratch/yur97/run_cov_061921/queue/q540.pkl -A epo2_f_g_sc_default cov_calc.pbs\n",
      "qsub -v QUEUE=/gpfs/scratch/yur97/run_cov_061921/queue/q550.pkl -A epo2_f_g_sc_default cov_calc.pbs\n",
      "qsub -v QUEUE=/gpfs/scratch/yur97/run_cov_061921/queue/q560.pkl -A epo2_f_g_sc_default cov_calc.pbs\n",
      "Done submitting jobs!\n"
     ]
    }
   ],
   "source": [
    "ldirq = os.listdir(dir_queue)\n",
    "ldirq.sort()\n",
    "ldirq = list(ldirq[220:230])\n",
    "for q in ldirq:\n",
    "    queue = os.path.join(dir_queue,q)\n",
    "    qsub_command =f'qsub -v QUEUE={queue} -A epo2_f_g_sc_default cov_calc.pbs'\n",
    "    print(qsub_command) # Uncomment this line when testing to view the qsub command\n",
    "\n",
    "# # Comment the following 3 lines when testing to prevent jobs from being submitted\n",
    "#     exit_status = subprocess.call(qsub_command, shell=True)\n",
    "#     if exit_status is 1:  # Check to make sure the job submitted\n",
    "#         print(f'Job {qsub_command} failed to submit')\n",
    "        \n",
    "print(\"Done submitting jobs!\")"
   ]
  },
  {
   "cell_type": "code",
   "execution_count": 6,
   "metadata": {},
   "outputs": [
    {
     "name": "stderr",
     "output_type": "stream",
     "text": [
      "<>:11: SyntaxWarning: \"is\" with a literal. Did you mean \"==\"?\n",
      "<>:11: SyntaxWarning: \"is\" with a literal. Did you mean \"==\"?\n",
      "<ipython-input-6-7b3bfef9df07>:11: SyntaxWarning: \"is\" with a literal. Did you mean \"==\"?\n",
      "  if exit_status is 1:  # Check to make sure the job submitted\n"
     ]
    },
    {
     "name": "stdout",
     "output_type": "stream",
     "text": [
      "qsub -v QUEUE=/gpfs/scratch/yur97/run_cov_061921/queue/q570.pkl -A epo2_m_g_lc_default cov_calc.pbs\n",
      "qsub -v QUEUE=/gpfs/scratch/yur97/run_cov_061921/queue/q580.pkl -A epo2_m_g_lc_default cov_calc.pbs\n",
      "qsub -v QUEUE=/gpfs/scratch/yur97/run_cov_061921/queue/q590.pkl -A epo2_m_g_lc_default cov_calc.pbs\n",
      "qsub -v QUEUE=/gpfs/scratch/yur97/run_cov_061921/queue/q60.pkl -A epo2_m_g_lc_default cov_calc.pbs\n",
      "qsub -v QUEUE=/gpfs/scratch/yur97/run_cov_061921/queue/q600.pkl -A epo2_m_g_lc_default cov_calc.pbs\n",
      "Done submitting jobs!\n"
     ]
    }
   ],
   "source": [
    "ldirq = os.listdir(dir_queue)\n",
    "ldirq.sort()\n",
    "ldirq = list(ldirq[230:235])\n",
    "for q in ldirq:\n",
    "    queue = os.path.join(dir_queue,q)\n",
    "    qsub_command =f'qsub -v QUEUE={queue} -A epo2_m_g_lc_default cov_calc.pbs'\n",
    "    print(qsub_command) # Uncomment this line when testing to view the qsub command\n",
    "\n",
    "# # Comment the following 3 lines when testing to prevent jobs from being submitted\n",
    "#     exit_status = subprocess.call(qsub_command, shell=True)\n",
    "#     if exit_status is 1:  # Check to make sure the job submitted\n",
    "#         print(f'Job {qsub_command} failed to submit')\n",
    "        \n",
    "print(\"Done submitting jobs!\")"
   ]
  },
  {
   "cell_type": "code",
   "execution_count": 9,
   "metadata": {},
   "outputs": [
    {
     "name": "stderr",
     "output_type": "stream",
     "text": [
      "<>:11: SyntaxWarning: \"is\" with a literal. Did you mean \"==\"?\n",
      "<>:11: SyntaxWarning: \"is\" with a literal. Did you mean \"==\"?\n",
      "<ipython-input-9-6399b644d477>:11: SyntaxWarning: \"is\" with a literal. Did you mean \"==\"?\n",
      "  if exit_status is 1:  # Check to make sure the job submitted\n"
     ]
    },
    {
     "name": "stdout",
     "output_type": "stream",
     "text": [
      "qsub -v QUEUE=/gpfs/scratch/yur97/run_cov_061921/queue/q610.pkl -A epo2_m_g_lc_default cov_calc.pbs\n",
      "qsub -v QUEUE=/gpfs/scratch/yur97/run_cov_061921/queue/q620.pkl -A epo2_m_g_lc_default cov_calc.pbs\n",
      "qsub -v QUEUE=/gpfs/scratch/yur97/run_cov_061921/queue/q630.pkl -A epo2_m_g_lc_default cov_calc.pbs\n",
      "qsub -v QUEUE=/gpfs/scratch/yur97/run_cov_061921/queue/q640.pkl -A epo2_m_g_lc_default cov_calc.pbs\n",
      "qsub -v QUEUE=/gpfs/scratch/yur97/run_cov_061921/queue/q650.pkl -A epo2_m_g_lc_default cov_calc.pbs\n",
      "qsub -v QUEUE=/gpfs/scratch/yur97/run_cov_061921/queue/q660.pkl -A epo2_m_g_lc_default cov_calc.pbs\n",
      "qsub -v QUEUE=/gpfs/scratch/yur97/run_cov_061921/queue/q670.pkl -A epo2_m_g_lc_default cov_calc.pbs\n",
      "qsub -v QUEUE=/gpfs/scratch/yur97/run_cov_061921/queue/q680.pkl -A epo2_m_g_lc_default cov_calc.pbs\n",
      "qsub -v QUEUE=/gpfs/scratch/yur97/run_cov_061921/queue/q690.pkl -A epo2_m_g_lc_default cov_calc.pbs\n",
      "qsub -v QUEUE=/gpfs/scratch/yur97/run_cov_061921/queue/q70.pkl -A epo2_m_g_lc_default cov_calc.pbs\n",
      "qsub -v QUEUE=/gpfs/scratch/yur97/run_cov_061921/queue/q700.pkl -A epo2_m_g_lc_default cov_calc.pbs\n",
      "qsub -v QUEUE=/gpfs/scratch/yur97/run_cov_061921/queue/q710.pkl -A epo2_m_g_lc_default cov_calc.pbs\n",
      "qsub -v QUEUE=/gpfs/scratch/yur97/run_cov_061921/queue/q720.pkl -A epo2_m_g_lc_default cov_calc.pbs\n",
      "qsub -v QUEUE=/gpfs/scratch/yur97/run_cov_061921/queue/q730.pkl -A epo2_m_g_lc_default cov_calc.pbs\n",
      "qsub -v QUEUE=/gpfs/scratch/yur97/run_cov_061921/queue/q740.pkl -A epo2_m_g_lc_default cov_calc.pbs\n",
      "Done submitting jobs!\n"
     ]
    }
   ],
   "source": [
    "ldirq = os.listdir(dir_queue)\n",
    "ldirq.sort()\n",
    "ldirq = list(ldirq[235:250])\n",
    "for q in ldirq:\n",
    "    queue = os.path.join(dir_queue,q)\n",
    "    qsub_command =f'qsub -v QUEUE={queue} -A epo2_m_g_lc_default cov_calc.pbs'\n",
    "    print(qsub_command) # Uncomment this line when testing to view the qsub command\n",
    "\n",
    "# # Comment the following 3 lines when testing to prevent jobs from being submitted\n",
    "    exit_status = subprocess.call(qsub_command, shell=True)\n",
    "    if exit_status is 1:  # Check to make sure the job submitted\n",
    "        print(f'Job {qsub_command} failed to submit')\n",
    "        \n",
    "print(\"Done submitting jobs!\")"
   ]
  },
  {
   "cell_type": "code",
   "execution_count": 11,
   "metadata": {},
   "outputs": [
    {
     "name": "stderr",
     "output_type": "stream",
     "text": [
      "<>:11: SyntaxWarning: \"is\" with a literal. Did you mean \"==\"?\n",
      "<>:11: SyntaxWarning: \"is\" with a literal. Did you mean \"==\"?\n",
      "<ipython-input-11-cf419b9ad7bd>:11: SyntaxWarning: \"is\" with a literal. Did you mean \"==\"?\n",
      "  if exit_status is 1:  # Check to make sure the job submitted\n"
     ]
    },
    {
     "name": "stdout",
     "output_type": "stream",
     "text": [
      "qsub -v QUEUE=/gpfs/scratch/yur97/run_cov_061921/queue/q750.pkl -A epo2_f_g_sc_default cov_calc.pbs\n",
      "qsub -v QUEUE=/gpfs/scratch/yur97/run_cov_061921/queue/q760.pkl -A epo2_f_g_sc_default cov_calc.pbs\n",
      "qsub -v QUEUE=/gpfs/scratch/yur97/run_cov_061921/queue/q770.pkl -A epo2_f_g_sc_default cov_calc.pbs\n",
      "qsub -v QUEUE=/gpfs/scratch/yur97/run_cov_061921/queue/q780.pkl -A epo2_f_g_sc_default cov_calc.pbs\n",
      "qsub -v QUEUE=/gpfs/scratch/yur97/run_cov_061921/queue/q790.pkl -A epo2_f_g_sc_default cov_calc.pbs\n",
      "qsub -v QUEUE=/gpfs/scratch/yur97/run_cov_061921/queue/q80.pkl -A epo2_f_g_sc_default cov_calc.pbs\n",
      "qsub -v QUEUE=/gpfs/scratch/yur97/run_cov_061921/queue/q800.pkl -A epo2_f_g_sc_default cov_calc.pbs\n",
      "qsub -v QUEUE=/gpfs/scratch/yur97/run_cov_061921/queue/q810.pkl -A epo2_f_g_sc_default cov_calc.pbs\n",
      "qsub -v QUEUE=/gpfs/scratch/yur97/run_cov_061921/queue/q820.pkl -A epo2_f_g_sc_default cov_calc.pbs\n",
      "qsub -v QUEUE=/gpfs/scratch/yur97/run_cov_061921/queue/q830.pkl -A epo2_f_g_sc_default cov_calc.pbs\n",
      "Done submitting jobs!\n"
     ]
    }
   ],
   "source": [
    "ldirq = os.listdir(dir_queue)\n",
    "ldirq.sort()\n",
    "ldirq = list(ldirq[250:260])\n",
    "for q in ldirq:\n",
    "    queue = os.path.join(dir_queue,q)\n",
    "    qsub_command =f'qsub -v QUEUE={queue} -A epo2_f_g_sc_default cov_calc.pbs'\n",
    "    print(qsub_command) # Uncomment this line when testing to view the qsub command\n",
    "\n",
    "# # Comment the following 3 lines when testing to prevent jobs from being submitted\n",
    "#     exit_status = subprocess.call(qsub_command, shell=True)\n",
    "#     if exit_status is 1:  # Check to make sure the job submitted\n",
    "#         print(f'Job {qsub_command} failed to submit')\n",
    "        \n",
    "print(\"Done submitting jobs!\")"
   ]
  },
  {
   "cell_type": "code",
   "execution_count": 4,
   "metadata": {
    "scrolled": true
   },
   "outputs": [
    {
     "name": "stderr",
     "output_type": "stream",
     "text": [
      "<>:11: SyntaxWarning: \"is\" with a literal. Did you mean \"==\"?\n",
      "<>:11: SyntaxWarning: \"is\" with a literal. Did you mean \"==\"?\n",
      "<ipython-input-4-ce27c04d804d>:11: SyntaxWarning: \"is\" with a literal. Did you mean \"==\"?\n",
      "  if exit_status is 1:  # Check to make sure the job submitted\n"
     ]
    },
    {
     "name": "stdout",
     "output_type": "stream",
     "text": [
      "qsub -v QUEUE=/gpfs/scratch/yur97/run_cov_061921/queue/q840.pkl -A epo2_f_g_sc_default cov_calc.pbs\n",
      "qsub -v QUEUE=/gpfs/scratch/yur97/run_cov_061921/queue/q850.pkl -A epo2_f_g_sc_default cov_calc.pbs\n",
      "qsub -v QUEUE=/gpfs/scratch/yur97/run_cov_061921/queue/q860.pkl -A epo2_f_g_sc_default cov_calc.pbs\n",
      "qsub -v QUEUE=/gpfs/scratch/yur97/run_cov_061921/queue/q870.pkl -A epo2_f_g_sc_default cov_calc.pbs\n",
      "qsub -v QUEUE=/gpfs/scratch/yur97/run_cov_061921/queue/q880.pkl -A epo2_f_g_sc_default cov_calc.pbs\n",
      "qsub -v QUEUE=/gpfs/scratch/yur97/run_cov_061921/queue/q890.pkl -A epo2_f_g_sc_default cov_calc.pbs\n",
      "qsub -v QUEUE=/gpfs/scratch/yur97/run_cov_061921/queue/q90.pkl -A epo2_f_g_sc_default cov_calc.pbs\n",
      "qsub -v QUEUE=/gpfs/scratch/yur97/run_cov_061921/queue/q900.pkl -A epo2_f_g_sc_default cov_calc.pbs\n",
      "qsub -v QUEUE=/gpfs/scratch/yur97/run_cov_061921/queue/q910.pkl -A epo2_f_g_sc_default cov_calc.pbs\n",
      "qsub -v QUEUE=/gpfs/scratch/yur97/run_cov_061921/queue/q920.pkl -A epo2_f_g_sc_default cov_calc.pbs\n",
      "Done submitting jobs!\n"
     ]
    }
   ],
   "source": [
    "ldirq = os.listdir(dir_queue)\n",
    "ldirq.sort()\n",
    "ldirq = list(ldirq[260:270])\n",
    "for q in ldirq:\n",
    "    queue = os.path.join(dir_queue,q)\n",
    "    qsub_command =f'qsub -v QUEUE={queue} -A epo2_f_g_sc_default cov_calc.pbs'\n",
    "    print(qsub_command) # Uncomment this line when testing to view the qsub command\n",
    "\n",
    "# # Comment the following 3 lines when testing to prevent jobs from being submitted\n",
    "#     exit_status = subprocess.call(qsub_command, shell=True)\n",
    "#     if exit_status is 1:  # Check to make sure the job submitted\n",
    "#         print(f'Job {qsub_command} failed to submit')\n",
    "        \n",
    "print(\"Done submitting jobs!\")"
   ]
  },
  {
   "cell_type": "code",
   "execution_count": 14,
   "metadata": {},
   "outputs": [
    {
     "name": "stderr",
     "output_type": "stream",
     "text": [
      "<>:11: SyntaxWarning: \"is\" with a literal. Did you mean \"==\"?\n",
      "<>:11: SyntaxWarning: \"is\" with a literal. Did you mean \"==\"?\n",
      "<ipython-input-14-c17ee4362c4d>:11: SyntaxWarning: \"is\" with a literal. Did you mean \"==\"?\n",
      "  if exit_status is 1:  # Check to make sure the job submitted\n"
     ]
    },
    {
     "name": "stdout",
     "output_type": "stream",
     "text": [
      "qsub -v QUEUE=/gpfs/scratch/yur97/run_cov_061921/queue/q930.pkl -A epo2_m_g_lc_default cov_calc.pbs\n",
      "qsub -v QUEUE=/gpfs/scratch/yur97/run_cov_061921/queue/q940.pkl -A epo2_m_g_lc_default cov_calc.pbs\n",
      "qsub -v QUEUE=/gpfs/scratch/yur97/run_cov_061921/queue/q950.pkl -A epo2_m_g_lc_default cov_calc.pbs\n",
      "qsub -v QUEUE=/gpfs/scratch/yur97/run_cov_061921/queue/q960.pkl -A epo2_m_g_lc_default cov_calc.pbs\n",
      "qsub -v QUEUE=/gpfs/scratch/yur97/run_cov_061921/queue/q970.pkl -A epo2_m_g_lc_default cov_calc.pbs\n",
      "qsub -v QUEUE=/gpfs/scratch/yur97/run_cov_061921/queue/q980.pkl -A epo2_m_g_lc_default cov_calc.pbs\n",
      "qsub -v QUEUE=/gpfs/scratch/yur97/run_cov_061921/queue/q990.pkl -A epo2_m_g_lc_default cov_calc.pbs\n",
      "Done submitting jobs!\n"
     ]
    }
   ],
   "source": [
    "ldirq = os.listdir(dir_queue)\n",
    "ldirq.sort()\n",
    "ldirq = list(ldirq[270:])\n",
    "for q in ldirq:\n",
    "    queue = os.path.join(dir_queue,q)\n",
    "    qsub_command =f'qsub -v QUEUE={queue} -A epo2_m_g_lc_default cov_calc.pbs'\n",
    "    print(qsub_command) # Uncomment this line when testing to view the qsub command\n",
    "\n",
    "# # Comment the following 3 lines when testing to prevent jobs from being submitted\n",
    "#     exit_status = subprocess.call(qsub_command, shell=True)\n",
    "#     if exit_status is 1:  # Check to make sure the job submitted\n",
    "#         print(f'Job {qsub_command} failed to submit')\n",
    "        \n",
    "print(\"Done submitting jobs!\")"
   ]
  },
  {
   "cell_type": "markdown",
   "metadata": {},
   "source": [
    "**Is all the patients covered?**"
   ]
  },
  {
   "cell_type": "code",
   "execution_count": 2,
   "metadata": {},
   "outputs": [],
   "source": [
    "dir_out = '../cov_out'\n",
    "lp = [p.split('.')[0] for p in os.listdir(dir_out)]"
   ]
  },
  {
   "cell_type": "code",
   "execution_count": 3,
   "metadata": {},
   "outputs": [],
   "source": [
    "dir_pos = '../patient_zero_position'\n",
    "lp_in = [p.split('.')[0] for p in os.listdir(dir_pos)]"
   ]
  },
  {
   "cell_type": "code",
   "execution_count": 4,
   "metadata": {},
   "outputs": [],
   "source": [
    "lp_rest = []\n",
    "for p in lp_in:\n",
    "    if p not in lp:\n",
    "        lp_rest.append(p+'.pkl')"
   ]
  },
  {
   "cell_type": "code",
   "execution_count": 5,
   "metadata": {},
   "outputs": [
    {
     "data": {
      "text/plain": [
       "['e9cb8877-8e83-46c0-93f0-ea20530c9400.pkl',\n",
       " '0bfd1043-8177-e3e4-e050-11ac0c4860c5.pkl',\n",
       " '90883300-d4b6-45d7-af9a-4e4ce4104500.pkl',\n",
       " '5b4b2312-acb5-4329-8d46-7f93213e3daf.pkl',\n",
       " '926a04de-ef57-4271-91db-e90de8aa8a1a.pkl',\n",
       " '0a6be23a-d5a0-4e95-ada2-a61b2b5d9485.pkl',\n",
       " 'cf6c7066-6611-43ec-aef1-295a976cce5b.pkl',\n",
       " '6e26f98e-c623-11e3-bf01-24c6515278c0.pkl',\n",
       " 'e07991a4-0901-4ed1-8704-aa376565d862.pkl']"
      ]
     },
     "execution_count": 5,
     "metadata": {},
     "output_type": "execute_result"
    }
   ],
   "source": [
    "lp_rest"
   ]
  },
  {
   "cell_type": "code",
   "execution_count": 6,
   "metadata": {},
   "outputs": [],
   "source": [
    "pickle.dump(lp_rest, open(os.path.join(dir_queue, 'queue_rest.pkl'),'wb'))"
   ]
  },
  {
   "cell_type": "code",
   "execution_count": 8,
   "metadata": {},
   "outputs": [
    {
     "name": "stdout",
     "output_type": "stream",
     "text": [
      "qsub -v QUEUE=/gpfs/scratch/yur97/run_cov_061921/queue/queue_rest.pkl -A epo2_m_g_lc_default cov_calc.pbs\n",
      "Done submitting jobs!\n"
     ]
    },
    {
     "name": "stderr",
     "output_type": "stream",
     "text": [
      "<>:7: SyntaxWarning: \"is\" with a literal. Did you mean \"==\"?\n",
      "<>:7: SyntaxWarning: \"is\" with a literal. Did you mean \"==\"?\n",
      "<ipython-input-8-084436af5167>:7: SyntaxWarning: \"is\" with a literal. Did you mean \"==\"?\n",
      "  if exit_status is 1:  # Check to make sure the job submitted\n"
     ]
    }
   ],
   "source": [
    "queue = os.path.join(dir_queue,'queue_rest.pkl')\n",
    "qsub_command =f'qsub -v QUEUE={queue} -A epo2_m_g_lc_default cov_calc.pbs'\n",
    "print(qsub_command) # Uncomment this line when testing to view the qsub command\n",
    "\n",
    "# # Comment the following 3 lines when testing to prevent jobs from being submitted\n",
    "# exit_status = subprocess.call(qsub_command, shell=True)\n",
    "# if exit_status is 1:  # Check to make sure the job submitted\n",
    "#     print(f'Job {qsub_command} failed to submit')\n",
    "\n",
    "print(\"Done submitting jobs!\")"
   ]
  }
 ],
 "metadata": {
  "kernelspec": {
   "display_name": "Python 3",
   "language": "python",
   "name": "python3"
  },
  "language_info": {
   "codemirror_mode": {
    "name": "ipython",
    "version": 3
   },
   "file_extension": ".py",
   "mimetype": "text/x-python",
   "name": "python",
   "nbconvert_exporter": "python",
   "pygments_lexer": "ipython3",
   "version": "3.8.3"
  }
 },
 "nbformat": 4,
 "nbformat_minor": 4
}
