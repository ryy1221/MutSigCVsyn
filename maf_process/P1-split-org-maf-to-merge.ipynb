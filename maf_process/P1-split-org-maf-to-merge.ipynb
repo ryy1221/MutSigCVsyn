{
 "cells": [
  {
   "cell_type": "code",
   "execution_count": 34,
   "metadata": {},
   "outputs": [],
   "source": [
    "### This script creates individual maf files to merge into cohorts\n",
    "### Author: Yiyun\n",
    "\n",
    "import pandas as pd\n",
    "import os\n",
    "import pickle\n",
    "from multiprocessing import Pool"
   ]
  },
  {
   "cell_type": "code",
   "execution_count": 43,
   "metadata": {},
   "outputs": [],
   "source": [
    "### Directory\n",
    "dir_in = '../org_cov_maf'\n",
    "dir_out = '../maf_out/maf_ind'"
   ]
  },
  {
   "cell_type": "code",
   "execution_count": 44,
   "metadata": {},
   "outputs": [],
   "source": [
    "### Read coverage files and split into individual files\n",
    "def parse_ind_maf(org):\n",
    "    global dir_in, dir_out\n",
    "    print(f'Start{org}')\n",
    "    if not (org.startswith('.')) and not (org == 'SoftTissue'):\n",
    "        df_maf = pd.read_csv(os.path.join(dir_in,org,'merged_tumor_covmerged_'+org+'.txt_filtered.maf'), sep = '\\t')\n",
    "        lpatients = df_maf['Tumor_Sample_Barcode'].unique()\n",
    "        for patients in lpatients:\n",
    "            df_ind = df_maf[df_maf['Tumor_Sample_Barcode'] == patients]\n",
    "            df_ind.to_csv(os.path.join(dir_out,patients+'.to_merge.csv'))\n",
    "    print(f'Finish{org}')"
   ]
  },
  {
   "cell_type": "code",
   "execution_count": 45,
   "metadata": {},
   "outputs": [
    {
     "name": "stdout",
     "output_type": "stream",
     "text": [
      "StartOvaryStartThyStartBiliaryStartPanc\n",
      "\n",
      "StartBreastStartLiverStartCNS\n",
      "\n",
      "\n",
      "StartLung\n",
      "\n",
      "\n"
     ]
    },
    {
     "name": "stderr",
     "output_type": "stream",
     "text": [
      "/opt/aci/sw/anaconda3/2020.07_gcc-4.8.5-khh/lib/python3.8/multiprocessing/process.py:108: DtypeWarning: Columns (17) have mixed types.Specify dtype option on import or set low_memory=False.\n",
      "  self._target(*self._args, **self._kwargs)\n"
     ]
    },
    {
     "name": "stdout",
     "output_type": "stream",
     "text": [
      "FinishThy\n",
      "StartLymph\n"
     ]
    },
    {
     "name": "stderr",
     "output_type": "stream",
     "text": [
      "/opt/aci/sw/anaconda3/2020.07_gcc-4.8.5-khh/lib/python3.8/multiprocessing/process.py:108: DtypeWarning: Columns (1,17,24,28,33,34,35,36) have mixed types.Specify dtype option on import or set low_memory=False.\n",
      "  self._target(*self._args, **self._kwargs)\n",
      "/opt/aci/sw/anaconda3/2020.07_gcc-4.8.5-khh/lib/python3.8/multiprocessing/process.py:108: DtypeWarning: Columns (1,17,24,33,34,35,36) have mixed types.Specify dtype option on import or set low_memory=False.\n",
      "  self._target(*self._args, **self._kwargs)\n",
      "/opt/aci/sw/anaconda3/2020.07_gcc-4.8.5-khh/lib/python3.8/multiprocessing/process.py:108: DtypeWarning: Columns (1,17,24,33,34,35,36) have mixed types.Specify dtype option on import or set low_memory=False.\n",
      "  self._target(*self._args, **self._kwargs)\n",
      "/opt/aci/sw/anaconda3/2020.07_gcc-4.8.5-khh/lib/python3.8/multiprocessing/process.py:108: DtypeWarning: Columns (1,17,24,33,34,35,36) have mixed types.Specify dtype option on import or set low_memory=False.\n",
      "  self._target(*self._args, **self._kwargs)\n",
      "/opt/aci/sw/anaconda3/2020.07_gcc-4.8.5-khh/lib/python3.8/multiprocessing/process.py:108: DtypeWarning: Columns (1,17,24,33,34,35,36) have mixed types.Specify dtype option on import or set low_memory=False.\n",
      "  self._target(*self._args, **self._kwargs)\n",
      "/opt/aci/sw/anaconda3/2020.07_gcc-4.8.5-khh/lib/python3.8/multiprocessing/process.py:108: DtypeWarning: Columns (1,17,33,34,35,36) have mixed types.Specify dtype option on import or set low_memory=False.\n",
      "  self._target(*self._args, **self._kwargs)\n",
      "/opt/aci/sw/anaconda3/2020.07_gcc-4.8.5-khh/lib/python3.8/multiprocessing/process.py:108: DtypeWarning: Columns (1,17,33,34,35,36) have mixed types.Specify dtype option on import or set low_memory=False.\n",
      "  self._target(*self._args, **self._kwargs)\n"
     ]
    },
    {
     "name": "stdout",
     "output_type": "stream",
     "text": [
      "FinishBiliary\n",
      "StartBone\n"
     ]
    },
    {
     "name": "stderr",
     "output_type": "stream",
     "text": [
      "/opt/aci/sw/anaconda3/2020.07_gcc-4.8.5-khh/lib/python3.8/multiprocessing/process.py:108: DtypeWarning: Columns (17,24) have mixed types.Specify dtype option on import or set low_memory=False.\n",
      "  self._target(*self._args, **self._kwargs)\n",
      "/opt/aci/sw/anaconda3/2020.07_gcc-4.8.5-khh/lib/python3.8/multiprocessing/process.py:108: DtypeWarning: Columns (1,17,24,28,33,34,35,36) have mixed types.Specify dtype option on import or set low_memory=False.\n",
      "  self._target(*self._args, **self._kwargs)\n"
     ]
    },
    {
     "name": "stdout",
     "output_type": "stream",
     "text": [
      "FinishBone\n",
      "StartEso\n"
     ]
    },
    {
     "name": "stderr",
     "output_type": "stream",
     "text": [
      "/opt/aci/sw/anaconda3/2020.07_gcc-4.8.5-khh/lib/python3.8/multiprocessing/process.py:108: DtypeWarning: Columns (1,17,24,33,34,35,36) have mixed types.Specify dtype option on import or set low_memory=False.\n",
      "  self._target(*self._args, **self._kwargs)\n"
     ]
    },
    {
     "name": "stdout",
     "output_type": "stream",
     "text": [
      "FinishOvary\n",
      "StartColoRect\n",
      "FinishCNS\n",
      "StartKidney\n"
     ]
    },
    {
     "name": "stderr",
     "output_type": "stream",
     "text": [
      "/opt/aci/sw/anaconda3/2020.07_gcc-4.8.5-khh/lib/python3.8/multiprocessing/process.py:108: DtypeWarning: Columns (1,17,33,34,35,36) have mixed types.Specify dtype option on import or set low_memory=False.\n",
      "  self._target(*self._args, **self._kwargs)\n"
     ]
    },
    {
     "name": "stdout",
     "output_type": "stream",
     "text": [
      "FinishBreast\n",
      "StartMyeloid\n",
      "FinishLymph\n"
     ]
    },
    {
     "name": "stderr",
     "output_type": "stream",
     "text": [
      "/opt/aci/sw/anaconda3/2020.07_gcc-4.8.5-khh/lib/python3.8/multiprocessing/process.py:108: DtypeWarning: Columns (17) have mixed types.Specify dtype option on import or set low_memory=False.\n",
      "  self._target(*self._args, **self._kwargs)\n"
     ]
    },
    {
     "name": "stdout",
     "output_type": "stream",
     "text": [
      "Start.DS_Store\n",
      "Finish.DS_Store\n",
      "StartStomach\n",
      "FinishMyeloid\n",
      "StartProst\n"
     ]
    },
    {
     "name": "stderr",
     "output_type": "stream",
     "text": [
      "/opt/aci/sw/anaconda3/2020.07_gcc-4.8.5-khh/lib/python3.8/multiprocessing/process.py:108: DtypeWarning: Columns (17,24) have mixed types.Specify dtype option on import or set low_memory=False.\n",
      "  self._target(*self._args, **self._kwargs)\n",
      "/opt/aci/sw/anaconda3/2020.07_gcc-4.8.5-khh/lib/python3.8/multiprocessing/process.py:108: DtypeWarning: Columns (1,17,24,28,33,34,35,36) have mixed types.Specify dtype option on import or set low_memory=False.\n",
      "  self._target(*self._args, **self._kwargs)\n",
      "/opt/aci/sw/anaconda3/2020.07_gcc-4.8.5-khh/lib/python3.8/multiprocessing/process.py:108: DtypeWarning: Columns (1,17,24,28,33,34,35,36) have mixed types.Specify dtype option on import or set low_memory=False.\n",
      "  self._target(*self._args, **self._kwargs)\n"
     ]
    },
    {
     "name": "stdout",
     "output_type": "stream",
     "text": [
      "FinishKidney\n",
      "StartSkin\n",
      "FinishPanc\n",
      "StartHead\n",
      "FinishProst\n",
      "StartUterus\n"
     ]
    },
    {
     "name": "stderr",
     "output_type": "stream",
     "text": [
      "/opt/aci/sw/anaconda3/2020.07_gcc-4.8.5-khh/lib/python3.8/multiprocessing/process.py:108: DtypeWarning: Columns (1,17,24,28,33,34,35,36) have mixed types.Specify dtype option on import or set low_memory=False.\n",
      "  self._target(*self._args, **self._kwargs)\n"
     ]
    },
    {
     "name": "stdout",
     "output_type": "stream",
     "text": [
      "FinishLung\n",
      "StartSoftTissue\n",
      "FinishSoftTissue\n",
      "StartCervix\n"
     ]
    },
    {
     "name": "stderr",
     "output_type": "stream",
     "text": [
      "/opt/aci/sw/anaconda3/2020.07_gcc-4.8.5-khh/lib/python3.8/multiprocessing/process.py:108: DtypeWarning: Columns (17) have mixed types.Specify dtype option on import or set low_memory=False.\n",
      "  self._target(*self._args, **self._kwargs)\n"
     ]
    },
    {
     "name": "stdout",
     "output_type": "stream",
     "text": [
      "FinishEso\n",
      "StartBladder\n",
      "FinishCervix\n",
      "Start.gitkeep\n",
      "Finish.gitkeep\n"
     ]
    },
    {
     "name": "stderr",
     "output_type": "stream",
     "text": [
      "/opt/aci/sw/anaconda3/2020.07_gcc-4.8.5-khh/lib/python3.8/multiprocessing/process.py:108: DtypeWarning: Columns (1,17,33,34,35,36) have mixed types.Specify dtype option on import or set low_memory=False.\n",
      "  self._target(*self._args, **self._kwargs)\n"
     ]
    },
    {
     "name": "stdout",
     "output_type": "stream",
     "text": [
      "FinishHead\n",
      "FinishStomach\n",
      "FinishUterus\n",
      "FinishBladder\n"
     ]
    },
    {
     "name": "stderr",
     "output_type": "stream",
     "text": [
      "/opt/aci/sw/anaconda3/2020.07_gcc-4.8.5-khh/lib/python3.8/multiprocessing/process.py:108: DtypeWarning: Columns (1,17,24,28,33,34,35,36) have mixed types.Specify dtype option on import or set low_memory=False.\n",
      "  self._target(*self._args, **self._kwargs)\n"
     ]
    },
    {
     "name": "stdout",
     "output_type": "stream",
     "text": [
      "FinishLiver\n",
      "FinishColoRect\n",
      "FinishSkin\n"
     ]
    }
   ],
   "source": [
    "lorg = os.listdir(dir_in)\n",
    "p = Pool(8)\n",
    "p.map(parse_ind_maf, lorg)\n",
    "p.close()\n",
    "p.join()"
   ]
  }
 ],
 "metadata": {
  "kernelspec": {
   "display_name": "Python 3",
   "language": "python",
   "name": "python3"
  },
  "language_info": {
   "codemirror_mode": {
    "name": "ipython",
    "version": 3
   },
   "file_extension": ".py",
   "mimetype": "text/x-python",
   "name": "python",
   "nbconvert_exporter": "python",
   "pygments_lexer": "ipython3",
   "version": "3.8.3"
  }
 },
 "nbformat": 4,
 "nbformat_minor": 4
}
