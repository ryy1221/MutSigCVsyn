{
 "cells": [
  {
   "cell_type": "code",
   "execution_count": 1,
   "metadata": {},
   "outputs": [],
   "source": [
    "### This script merge the individual coverage files into the cohorts\n",
    "### Author: Yiyun\n",
    "import pandas as pd\n",
    "import os\n",
    "from tqdm import tqdm\n",
    "from multiprocessing import Pool\n",
    "import pickle"
   ]
  },
  {
   "cell_type": "code",
   "execution_count": 2,
   "metadata": {},
   "outputs": [],
   "source": [
    "### File path and read directory\n",
    "dir_cohorts = '../anno_ref/cohorts/'\n",
    "dir_maf_ind = '../maf_out/maf_ind/'\n",
    "\n",
    "dir_out = '../maf_out/maf_cohorts_060121'"
   ]
  },
  {
   "cell_type": "code",
   "execution_count": 3,
   "metadata": {},
   "outputs": [],
   "source": [
    "# If all patients exisits\n",
    "lp = pickle.load(open('../anno_ref/list_all_patients.pkl','rb'))"
   ]
  },
  {
   "cell_type": "code",
   "execution_count": 5,
   "metadata": {
    "scrolled": true
   },
   "outputs": [
    {
     "name": "stdout",
     "output_type": "stream",
     "text": [
      "['digestive' 'kidney' 'lung' 'lymphatic' 'breast' 'female' 'cns']\n"
     ]
    },
    {
     "name": "stderr",
     "output_type": "stream",
     "text": [
      "  8%|▊         | 12/146 [00:00<00:01, 111.66it/s]/storage/home/yur97/anaconda3/lib/python3.8/multiprocessing/process.py:108: DtypeWarning: Columns (18,25,29,34,35,36) have mixed types.Specify dtype option on import or set low_memory=False.\n",
      "  self._target(*self._args, **self._kwargs)\n",
      " 16%|█▌        | 23/146 [00:00<00:01, 108.22it/s]/storage/home/yur97/anaconda3/lib/python3.8/multiprocessing/process.py:108: DtypeWarning: Columns (2,34,35,36,37) have mixed types.Specify dtype option on import or set low_memory=False.\n",
      "  self._target(*self._args, **self._kwargs)\n",
      "  1%|          | 2/197 [00:00<00:24,  7.80it/s]/storage/home/yur97/anaconda3/lib/python3.8/multiprocessing/process.py:108: DtypeWarning: Columns (2,34,35,36,37) have mixed types.Specify dtype option on import or set low_memory=False.\n",
      "  self._target(*self._args, **self._kwargs)\n",
      "  1%|          | 4/792 [00:00<01:15, 10.42it/s]s]/storage/home/yur97/anaconda3/lib/python3.8/multiprocessing/process.py:108: DtypeWarning: Columns (2,34,35,36,37) have mixed types.Specify dtype option on import or set low_memory=False.\n",
      "  self._target(*self._args, **self._kwargs)\n",
      "  5%|▍         | 9/186 [00:00<00:10, 16.29it/s]s]/storage/home/yur97/anaconda3/lib/python3.8/multiprocessing/process.py:108: DtypeWarning: Columns (25,29,34,35,36,37) have mixed types.Specify dtype option on import or set low_memory=False.\n",
      "  self._target(*self._args, **self._kwargs)\n",
      " 53%|█████▎    | 78/146 [00:00<00:00, 103.34it/s]/storage/home/yur97/anaconda3/lib/python3.8/multiprocessing/process.py:108: DtypeWarning: Columns (2,34,35,36,37) have mixed types.Specify dtype option on import or set low_memory=False.\n",
      "  self._target(*self._args, **self._kwargs)\n",
      "/storage/home/yur97/anaconda3/lib/python3.8/multiprocessing/process.py:108: DtypeWarning: Columns (2,18,34,35,36,37) have mixed types.Specify dtype option on import or set low_memory=False.\n",
      "  self._target(*self._args, **self._kwargs)\n",
      "  1%|          | 9/792 [00:00<01:27,  8.93it/s]/storage/home/yur97/anaconda3/lib/python3.8/multiprocessing/process.py:108: DtypeWarning: Columns (2,18,35,36,37) have mixed types.Specify dtype option on import or set low_memory=False.\n",
      "  self._target(*self._args, **self._kwargs)\n",
      "  7%|▋         | 13/186 [00:00<00:13, 12.58it/s]]/storage/home/yur97/anaconda3/lib/python3.8/multiprocessing/process.py:108: DtypeWarning: Columns (2,18,25,34,35,36,37) have mixed types.Specify dtype option on import or set low_memory=False.\n",
      "  self._target(*self._args, **self._kwargs)\n",
      "  9%|▉         | 17/186 [00:01<00:11, 14.72it/s] /storage/home/yur97/anaconda3/lib/python3.8/multiprocessing/process.py:108: DtypeWarning: Columns (2,18,25,29,34,35,36,37) have mixed types.Specify dtype option on import or set low_memory=False.\n",
      "  self._target(*self._args, **self._kwargs)\n",
      "  3%|▎         | 11/378 [00:01<00:49,  7.39it/s]]/storage/home/yur97/anaconda3/lib/python3.8/multiprocessing/process.py:108: DtypeWarning: Columns (2,18,34,35,36,37) have mixed types.Specify dtype option on import or set low_memory=False.\n",
      "  self._target(*self._args, **self._kwargs)\n",
      "  7%|▋         | 13/197 [00:01<00:20,  8.94it/s]/storage/home/yur97/anaconda3/lib/python3.8/multiprocessing/process.py:108: DtypeWarning: Columns (18,25,34,35,36,37) have mixed types.Specify dtype option on import or set low_memory=False.\n",
      "  self._target(*self._args, **self._kwargs)\n",
      "/storage/home/yur97/anaconda3/lib/python3.8/multiprocessing/process.py:108: DtypeWarning: Columns (2,34,35,36) have mixed types.Specify dtype option on import or set low_memory=False.\n",
      "  self._target(*self._args, **self._kwargs)\n",
      "  5%|▍         | 18/378 [00:01<00:31, 11.36it/s]]/storage/home/yur97/anaconda3/lib/python3.8/multiprocessing/process.py:108: DtypeWarning: Columns (2,18,25,29,34,35,36,37) have mixed types.Specify dtype option on import or set low_memory=False.\n",
      "  self._target(*self._args, **self._kwargs)\n",
      " 10%|▉         | 8/83 [00:02<00:24,  3.03it/s]s]/storage/home/yur97/anaconda3/lib/python3.8/multiprocessing/process.py:108: DtypeWarning: Columns (18,25,29,35,36) have mixed types.Specify dtype option on import or set low_memory=False.\n",
      "  self._target(*self._args, **self._kwargs)\n",
      " 13%|█▎        | 26/197 [00:02<00:17, 10.04it/s]]/storage/home/yur97/anaconda3/lib/python3.8/multiprocessing/process.py:108: DtypeWarning: Columns (2,18,25,29,34,35,36,37) have mixed types.Specify dtype option on import or set low_memory=False.\n",
      "  self._target(*self._args, **self._kwargs)\n",
      " 11%|█         | 9/83 [00:02<00:35,  2.08it/s]s]/storage/home/yur97/anaconda3/lib/python3.8/multiprocessing/process.py:108: DtypeWarning: Columns (18,25,35,36,37) have mixed types.Specify dtype option on import or set low_memory=False.\n",
      "  self._target(*self._args, **self._kwargs)\n",
      "/storage/home/yur97/anaconda3/lib/python3.8/multiprocessing/process.py:108: DtypeWarning: Columns (2,35,36,37) have mixed types.Specify dtype option on import or set low_memory=False.\n",
      "  self._target(*self._args, **self._kwargs)\n",
      " 22%|██▏       | 41/186 [00:03<00:11, 12.43it/s]/storage/home/yur97/anaconda3/lib/python3.8/multiprocessing/process.py:108: DtypeWarning: Columns (18,25,35,36,37) have mixed types.Specify dtype option on import or set low_memory=False.\n",
      "  self._target(*self._args, **self._kwargs)\n",
      " 28%|██▊       | 53/186 [00:04<00:12, 10.57it/s]]/storage/home/yur97/anaconda3/lib/python3.8/multiprocessing/process.py:108: DtypeWarning: Columns (25,29,34,35,36,37) have mixed types.Specify dtype option on import or set low_memory=False.\n",
      "  self._target(*self._args, **self._kwargs)\n",
      " 30%|██▉       | 55/186 [00:05<00:17,  7.63it/s]]/storage/home/yur97/anaconda3/lib/python3.8/multiprocessing/process.py:108: DtypeWarning: Columns (2,12,18,25,29,34,35,36,37) have mixed types.Specify dtype option on import or set low_memory=False.\n",
      "  self._target(*self._args, **self._kwargs)\n",
      " 31%|███       | 57/186 [00:05<00:24,  5.21it/s]]/storage/home/yur97/anaconda3/lib/python3.8/multiprocessing/process.py:108: DtypeWarning: Columns (34,35,36,37) have mixed types.Specify dtype option on import or set low_memory=False.\n",
      "  self._target(*self._args, **self._kwargs)\n",
      " 33%|███▎      | 62/186 [00:06<00:17,  7.07it/s]]/storage/home/yur97/anaconda3/lib/python3.8/multiprocessing/process.py:108: DtypeWarning: Columns (2,18,25,35,36) have mixed types.Specify dtype option on import or set low_memory=False.\n",
      "  self._target(*self._args, **self._kwargs)\n",
      " 16%|█▋        | 62/378 [00:06<00:49,  6.42it/s]/storage/home/yur97/anaconda3/lib/python3.8/multiprocessing/process.py:108: DtypeWarning: Columns (18,25,35,37) have mixed types.Specify dtype option on import or set low_memory=False.\n",
      "  self._target(*self._args, **self._kwargs)\n",
      " 28%|██▊       | 56/197 [00:06<00:15,  8.85it/s]/storage/home/yur97/anaconda3/lib/python3.8/multiprocessing/process.py:108: DtypeWarning: Columns (2,18,34,35,36,37) have mixed types.Specify dtype option on import or set low_memory=False.\n",
      "  self._target(*self._args, **self._kwargs)\n",
      " 37%|███▋      | 69/186 [00:07<00:14,  8.25it/s]/storage/home/yur97/anaconda3/lib/python3.8/multiprocessing/process.py:108: DtypeWarning: Columns (2,18,25,29,34,35,36,37) have mixed types.Specify dtype option on import or set low_memory=False.\n",
      "  self._target(*self._args, **self._kwargs)\n",
      " 38%|███▊      | 71/186 [00:07<00:13,  8.82it/s]/storage/home/yur97/anaconda3/lib/python3.8/multiprocessing/process.py:108: DtypeWarning: Columns (18,25,29,34,35,36,37) have mixed types.Specify dtype option on import or set low_memory=False.\n",
      "  self._target(*self._args, **self._kwargs)\n",
      "100%|██████████| 146/146 [00:07<00:00, 19.69it/s]\n",
      " 42%|████▏     | 79/186 [00:07<00:09, 11.58it/s]/storage/home/yur97/anaconda3/lib/python3.8/multiprocessing/process.py:108: DtypeWarning: Columns (2,25,34,35,36,37) have mixed types.Specify dtype option on import or set low_memory=False.\n",
      "  self._target(*self._args, **self._kwargs)\n",
      " 21%|██        | 79/378 [00:08<00:41,  7.26it/s]/storage/home/yur97/anaconda3/lib/python3.8/multiprocessing/process.py:108: DtypeWarning: Columns (2,18,34,35,36,37) have mixed types.Specify dtype option on import or set low_memory=False.\n",
      "  self._target(*self._args, **self._kwargs)\n",
      " 31%|███▏      | 26/83 [00:09<00:29,  1.91it/s]]/storage/home/yur97/anaconda3/lib/python3.8/multiprocessing/process.py:108: DtypeWarning: Columns (18,25,29,34,35,36,37) have mixed types.Specify dtype option on import or set low_memory=False.\n",
      "  self._target(*self._args, **self._kwargs)\n",
      "  8%|▊         | 61/792 [00:09<01:23,  8.72it/s]/storage/home/yur97/anaconda3/lib/python3.8/multiprocessing/process.py:108: DtypeWarning: Columns (18,25,29,34,35,36,37) have mixed types.Specify dtype option on import or set low_memory=False.\n",
      "  self._target(*self._args, **self._kwargs)\n",
      " 23%|██▎       | 86/378 [00:09<00:38,  7.62it/s]/storage/home/yur97/anaconda3/lib/python3.8/multiprocessing/process.py:108: DtypeWarning: Columns (2,18,25,29,34,35,36,37) have mixed types.Specify dtype option on import or set low_memory=False.\n",
      "  self._target(*self._args, **self._kwargs)\n",
      " 10%|▉         | 77/792 [00:11<01:19,  9.03it/s]]/storage/home/yur97/anaconda3/lib/python3.8/multiprocessing/process.py:108: DtypeWarning: Columns (2,18,25,34,35,36,37) have mixed types.Specify dtype option on import or set low_memory=False.\n",
      "  self._target(*self._args, **self._kwargs)\n",
      " 29%|██▉       | 110/378 [00:11<00:17, 15.22it/s]/storage/home/yur97/anaconda3/lib/python3.8/multiprocessing/process.py:108: DtypeWarning: Columns (2,18,25,35,36,37) have mixed types.Specify dtype option on import or set low_memory=False.\n",
      "  self._target(*self._args, **self._kwargs)\n",
      " 45%|████▍     | 37/83 [00:11<00:14,  3.24it/s]s]/storage/home/yur97/anaconda3/lib/python3.8/multiprocessing/process.py:108: DtypeWarning: Columns (2,25,34,35,36,37) have mixed types.Specify dtype option on import or set low_memory=False.\n",
      "  self._target(*self._args, **self._kwargs)\n",
      " 61%|██████    | 113/186 [00:11<00:07, 10.01it/s]/storage/home/yur97/anaconda3/lib/python3.8/multiprocessing/process.py:108: DtypeWarning: Columns (2,18,25,34,35,36,37) have mixed types.Specify dtype option on import or set low_memory=False.\n",
      "  self._target(*self._args, **self._kwargs)\n",
      " 11%|█         | 88/792 [00:12<02:05,  5.59it/s]]/storage/home/yur97/anaconda3/lib/python3.8/multiprocessing/process.py:108: DtypeWarning: Columns (2,18,35,36,37) have mixed types.Specify dtype option on import or set low_memory=False.\n",
      "  self._target(*self._args, **self._kwargs)\n",
      " 77%|███████▋  | 143/186 [00:14<00:03, 13.02it/s]/storage/home/yur97/anaconda3/lib/python3.8/multiprocessing/process.py:108: DtypeWarning: Columns (2,18,25,34,35,36,37) have mixed types.Specify dtype option on import or set low_memory=False.\n",
      "  self._target(*self._args, **self._kwargs)\n",
      " 54%|█████▍    | 45/83 [00:14<00:10,  3.67it/s]/storage/home/yur97/anaconda3/lib/python3.8/multiprocessing/process.py:108: DtypeWarning: Columns (18,25,34,35,36) have mixed types.Specify dtype option on import or set low_memory=False.\n",
      "  self._target(*self._args, **self._kwargs)\n",
      "100%|██████████| 186/186 [00:16<00:00, 11.33it/s]\n",
      " 64%|██████▍   | 127/197 [00:16<00:09,  7.76it/s]/storage/home/yur97/anaconda3/lib/python3.8/multiprocessing/process.py:108: DtypeWarning: Columns (2,34,35,36) have mixed types.Specify dtype option on import or set low_memory=False.\n",
      "  self._target(*self._args, **self._kwargs)\n",
      " 66%|██████▋   | 55/83 [00:17<00:09,  2.90it/s]s]/storage/home/yur97/anaconda3/lib/python3.8/multiprocessing/process.py:108: DtypeWarning: Columns (2,25,34,35,36,37) have mixed types.Specify dtype option on import or set low_memory=False.\n",
      "  self._target(*self._args, **self._kwargs)\n",
      "100%|██████████| 197/197 [00:20<00:00,  9.52it/s]\n",
      " 18%|█▊        | 145/792 [00:20<01:08,  9.40it/s]"
     ]
    },
    {
     "name": "stdout",
     "output_type": "stream",
     "text": [
      "finishbreast\n"
     ]
    },
    {
     "name": "stderr",
     "output_type": "stream",
     "text": [
      " 81%|████████  | 67/83 [00:20<00:04,  3.25it/s]s]"
     ]
    },
    {
     "name": "stdout",
     "output_type": "stream",
     "text": [
      "existscns\n"
     ]
    },
    {
     "name": "stderr",
     "output_type": "stream",
     "text": [
      " 66%|██████▌   | 248/378 [00:21<00:15,  8.31it/s]/storage/home/yur97/anaconda3/lib/python3.8/multiprocessing/process.py:108: DtypeWarning: Columns (18,34,35,36,37) have mixed types.Specify dtype option on import or set low_memory=False.\n",
      "  self._target(*self._args, **self._kwargs)\n",
      " 68%|██████▊   | 257/378 [00:22<00:13,  9.16it/s]/storage/home/yur97/anaconda3/lib/python3.8/multiprocessing/process.py:108: DtypeWarning: Columns (2,35,36,37) have mixed types.Specify dtype option on import or set low_memory=False.\n",
      "  self._target(*self._args, **self._kwargs)\n",
      " 21%|██        | 165/792 [00:24<02:42,  3.86it/s]/storage/home/yur97/anaconda3/lib/python3.8/multiprocessing/process.py:108: DtypeWarning: Columns (2,18,34,35,36) have mixed types.Specify dtype option on import or set low_memory=False.\n",
      "  self._target(*self._args, **self._kwargs)\n",
      " 72%|███████▏  | 274/378 [00:25<00:16,  6.33it/s]/storage/home/yur97/anaconda3/lib/python3.8/multiprocessing/process.py:108: DtypeWarning: Columns (34,35,36,37) have mixed types.Specify dtype option on import or set low_memory=False.\n",
      "  self._target(*self._args, **self._kwargs)\n",
      " 22%|██▏       | 173/792 [00:25<01:36,  6.44it/s]/storage/home/yur97/anaconda3/lib/python3.8/multiprocessing/process.py:108: DtypeWarning: Columns (18,25,29,34,35,36,37) have mixed types.Specify dtype option on import or set low_memory=False.\n",
      "  self._target(*self._args, **self._kwargs)\n",
      "100%|██████████| 83/83 [00:26<00:00,  3.14it/s]s]\n",
      "/storage/home/yur97/anaconda3/lib/python3.8/multiprocessing/process.py:108: DtypeWarning: Columns (2,18,34,35,36) have mixed types.Specify dtype option on import or set low_memory=False.\n",
      "  self._target(*self._args, **self._kwargs)\n",
      " 25%|██▌       | 198/792 [00:28<01:13,  8.08it/s]/storage/home/yur97/anaconda3/lib/python3.8/multiprocessing/process.py:108: DtypeWarning: Columns (2,18,25,29,34,35,36,37) have mixed types.Specify dtype option on import or set low_memory=False.\n",
      "  self._target(*self._args, **self._kwargs)\n",
      " 26%|██▌       | 203/792 [00:29<01:16,  7.71it/s]/storage/home/yur97/anaconda3/lib/python3.8/multiprocessing/process.py:108: DtypeWarning: Columns (18,34,35,36,37) have mixed types.Specify dtype option on import or set low_memory=False.\n",
      "  self._target(*self._args, **self._kwargs)\n",
      " 26%|██▋       | 209/792 [00:31<03:22,  2.88it/s]/storage/home/yur97/anaconda3/lib/python3.8/multiprocessing/process.py:108: DtypeWarning: Columns (2,34,35,36) have mixed types.Specify dtype option on import or set low_memory=False.\n",
      "  self._target(*self._args, **self._kwargs)\n",
      " 89%|████████▊ | 335/378 [00:32<00:04,  8.85it/s]/storage/home/yur97/anaconda3/lib/python3.8/multiprocessing/process.py:108: DtypeWarning: Columns (12,18,19,25,29,34,35,36,37) have mixed types.Specify dtype option on import or set low_memory=False.\n",
      "  self._target(*self._args, **self._kwargs)\n",
      " 90%|████████▉ | 339/378 [00:33<00:04,  7.86it/s]/storage/home/yur97/anaconda3/lib/python3.8/multiprocessing/process.py:108: DtypeWarning: Columns (25,34,35,36,37) have mixed types.Specify dtype option on import or set low_memory=False.\n",
      "  self._target(*self._args, **self._kwargs)\n",
      " 31%|███       | 245/792 [00:36<01:10,  7.75it/s]/storage/home/yur97/anaconda3/lib/python3.8/multiprocessing/process.py:108: DtypeWarning: Columns (25,34,35,36,37) have mixed types.Specify dtype option on import or set low_memory=False.\n",
      "  self._target(*self._args, **self._kwargs)\n",
      "100%|██████████| 378/378 [00:40<00:00,  9.43it/s]\n",
      " 35%|███▌      | 280/792 [00:40<00:58,  8.69it/s]"
     ]
    },
    {
     "name": "stdout",
     "output_type": "stream",
     "text": [
      "finishkidney\n"
     ]
    },
    {
     "name": "stderr",
     "output_type": "stream",
     "text": [
      " 40%|███▉      | 313/792 [00:45<03:36,  2.21it/s]/storage/home/yur97/anaconda3/lib/python3.8/multiprocessing/process.py:108: DtypeWarning: Columns (2,18,35,36,37) have mixed types.Specify dtype option on import or set low_memory=False.\n",
      "  self._target(*self._args, **self._kwargs)\n",
      " 40%|████      | 320/792 [00:50<05:56,  1.32it/s]"
     ]
    },
    {
     "name": "stdout",
     "output_type": "stream",
     "text": [
      "finishlymphatic\n"
     ]
    },
    {
     "name": "stderr",
     "output_type": "stream",
     "text": [
      "/storage/home/yur97/anaconda3/lib/python3.8/site-packages/numpy/lib/arraysetops.py:569: FutureWarning: elementwise comparison failed; returning scalar instead, but in the future will perform elementwise comparison\n",
      "  mask |= (ar1 == a)\n",
      " 41%|████      | 324/792 [01:14<36:42,  4.71s/it]/storage/home/yur97/anaconda3/lib/python3.8/multiprocessing/process.py:108: DtypeWarning: Columns (2,18,29,35,36,37) have mixed types.Specify dtype option on import or set low_memory=False.\n",
      "  self._target(*self._args, **self._kwargs)\n",
      " 41%|████      | 325/792 [01:14<25:59,  3.34s/it]/storage/home/yur97/anaconda3/lib/python3.8/multiprocessing/process.py:108: DtypeWarning: Columns (2,25,35,36,37) have mixed types.Specify dtype option on import or set low_memory=False.\n",
      "  self._target(*self._args, **self._kwargs)\n",
      " 41%|████▏     | 327/792 [01:14<13:23,  1.73s/it]/storage/home/yur97/anaconda3/lib/python3.8/multiprocessing/process.py:108: DtypeWarning: Columns (12,18,25,29,34,35,36,37) have mixed types.Specify dtype option on import or set low_memory=False.\n",
      "  self._target(*self._args, **self._kwargs)\n",
      " 42%|████▏     | 329/792 [01:15<09:32,  1.24s/it]/storage/home/yur97/anaconda3/lib/python3.8/multiprocessing/process.py:108: DtypeWarning: Columns (18,25) have mixed types.Specify dtype option on import or set low_memory=False.\n",
      "  self._target(*self._args, **self._kwargs)\n",
      " 42%|████▏     | 336/792 [01:17<01:58,  3.85it/s]/storage/home/yur97/anaconda3/lib/python3.8/multiprocessing/process.py:108: DtypeWarning: Columns (2,4,18,25,31,34,35,36,37,41) have mixed types.Specify dtype option on import or set low_memory=False.\n",
      "  self._target(*self._args, **self._kwargs)\n",
      " 43%|████▎     | 339/792 [01:21<05:23,  1.40it/s]/storage/home/yur97/anaconda3/lib/python3.8/multiprocessing/process.py:108: DtypeWarning: Columns (2,34,35,37) have mixed types.Specify dtype option on import or set low_memory=False.\n",
      "  self._target(*self._args, **self._kwargs)\n",
      " 44%|████▎     | 345/792 [01:26<10:54,  1.46s/it]/storage/home/yur97/anaconda3/lib/python3.8/multiprocessing/process.py:108: DtypeWarning: Columns (2,18,25,35,36,37) have mixed types.Specify dtype option on import or set low_memory=False.\n",
      "  self._target(*self._args, **self._kwargs)\n",
      " 45%|████▌     | 359/792 [01:27<01:05,  6.64it/s]/storage/home/yur97/anaconda3/lib/python3.8/multiprocessing/process.py:108: DtypeWarning: Columns (18,35,36,37) have mixed types.Specify dtype option on import or set low_memory=False.\n",
      "  self._target(*self._args, **self._kwargs)\n",
      " 46%|████▋     | 367/792 [01:28<01:01,  6.96it/s]/storage/home/yur97/anaconda3/lib/python3.8/multiprocessing/process.py:108: DtypeWarning: Columns (18,25,35,36,37) have mixed types.Specify dtype option on import or set low_memory=False.\n",
      "  self._target(*self._args, **self._kwargs)\n",
      " 59%|█████▉    | 471/792 [01:37<00:22, 14.28it/s]"
     ]
    },
    {
     "name": "stdout",
     "output_type": "stream",
     "text": [
      "finishlung"
     ]
    },
    {
     "name": "stderr",
     "output_type": "stream",
     "text": [
      " 60%|█████▉    | 473/792 [01:37<00:25, 12.48it/s]"
     ]
    },
    {
     "name": "stdout",
     "output_type": "stream",
     "text": [
      "\n"
     ]
    },
    {
     "name": "stderr",
     "output_type": "stream",
     "text": [
      " 80%|███████▉  | 633/792 [01:53<00:38,  4.16it/s]/storage/home/yur97/anaconda3/lib/python3.8/multiprocessing/process.py:108: DtypeWarning: Columns (25,35,36,37) have mixed types.Specify dtype option on import or set low_memory=False.\n",
      "  self._target(*self._args, **self._kwargs)\n",
      " 83%|████████▎ | 658/792 [01:58<00:24,  5.45it/s]"
     ]
    },
    {
     "name": "stdout",
     "output_type": "stream",
     "text": [
      "finishfemale\n"
     ]
    },
    {
     "name": "stderr",
     "output_type": "stream",
     "text": [
      " 86%|████████▋ | 684/792 [02:03<00:18,  5.97it/s]/storage/home/yur97/anaconda3/lib/python3.8/multiprocessing/process.py:108: DtypeWarning: Columns (2,25,29,34,35,36,37) have mixed types.Specify dtype option on import or set low_memory=False.\n",
      "  self._target(*self._args, **self._kwargs)\n",
      " 88%|████████▊ | 699/792 [02:05<00:14,  6.53it/s]/storage/home/yur97/anaconda3/lib/python3.8/multiprocessing/process.py:108: DtypeWarning: Columns (2,25,29,35,36,37) have mixed types.Specify dtype option on import or set low_memory=False.\n",
      "  self._target(*self._args, **self._kwargs)\n",
      " 89%|████████▉ | 706/792 [02:06<00:11,  7.59it/s]/storage/home/yur97/anaconda3/lib/python3.8/multiprocessing/process.py:108: DtypeWarning: Columns (25,29,34,35,36,37) have mixed types.Specify dtype option on import or set low_memory=False.\n",
      "  self._target(*self._args, **self._kwargs)\n",
      "100%|██████████| 792/792 [02:19<00:00,  5.66it/s]\n"
     ]
    },
    {
     "name": "stdout",
     "output_type": "stream",
     "text": [
      "finishdigestive\n"
     ]
    }
   ],
   "source": [
    "feature_type = 'system'\n",
    "df = pd.read_csv(os.path.join(dir_cohorts,feature_type+'.csv'))\n",
    "lfeat = df[feature_type].unique()\n",
    "print(lfeat)\n",
    "# merge patients\n",
    "def merge_maf(feature):\n",
    "    global df, feature_type\n",
    "    ldf = []\n",
    "    # Initialize dataframe and output path\n",
    "    path_out = os.path.join(dir_out,feature_type)\n",
    "    \n",
    "    if os.path.exists(os.path.join(path_out,feature+'.csv')):\n",
    "        print(f'exists{feature}')\n",
    "        return\n",
    "    \n",
    "    # Get patient list for histology\n",
    "    df_filtered = df[df[feature_type] == feature]\n",
    "    lp = df_filtered['tumor_aliquot_id'].unique()\n",
    "\n",
    "    #read patient file\n",
    "    for p in tqdm(lp):\n",
    "        df_maf_ind = pd.read_csv(os.path.join(dir_maf_ind,p+'.to_merge.categ.csv'), index_col = 0)\n",
    "        ldf.append(df_maf_ind)\n",
    "#     pickle.dump(ldf, open(os.path.join(path_out,feature+'.pkl'), 'wb'))  \n",
    "#     print(f'finish dump {feature}')\n",
    "    df_maf_merged = pd.concat(ldf, axis = 0)\n",
    "    df_maf_merged.to_csv(os.path.join(path_out,feature+'.csv'),sep='\\t', index = False)\n",
    "    print(f'finish{feature}')\n",
    "\n",
    "p = Pool(6)\n",
    "p.map(merge_maf, lfeat)\n",
    "p.close()\n",
    "p.join()"
   ]
  },
  {
   "cell_type": "markdown",
   "metadata": {},
   "source": [
    "**Hypermutator Exclusion in pancancer** -- 080621"
   ]
  },
  {
   "cell_type": "code",
   "execution_count": 4,
   "metadata": {},
   "outputs": [],
   "source": [
    "# Hypermutator sample file\n",
    "dir_sample = '../anno_ref/ICGC/mutational_signature'\n",
    "df_sample = pd.read_csv(os.path.join(dir_sample, 'SA_sample_classification.012718.txt'), sep = '\\t')\n",
    "sed_idx = df_sample[df_sample['class1'] == 'Secondary'].index\n",
    "samples = df_sample.loc[sed_idx, 'sample'].tolist()\n",
    "samples = [i.split('_')[-1] for i in samples]\n",
    "\n",
    "# The sample information file turn donorID to tumor aliquot ID\n",
    "dir_refs = '../anno_ref/proc_refs'\n",
    "df_info = pd.read_csv(os.path.join(dir_refs, 'PCAWG_sample_info.txt'), sep = '\\t')\n",
    "\n",
    "hype_aliquot_id = df_info[df_info['icgc_specimen_id'].isin(samples)]['tumour_specimen_aliquot_id'].tolist()"
   ]
  },
  {
   "cell_type": "code",
   "execution_count": 5,
   "metadata": {},
   "outputs": [
    {
     "name": "stderr",
     "output_type": "stream",
     "text": [
      "  0%|          | 1/2436 [00:00<05:43,  7.09it/s]"
     ]
    },
    {
     "name": "stdout",
     "output_type": "stream",
     "text": [
      "['pancancer']\n"
     ]
    },
    {
     "name": "stderr",
     "output_type": "stream",
     "text": [
      "  0%|          | 11/2436 [00:00<02:56, 13.74it/s]/opt/aci/sw/anaconda3/2020.07_gcc-4.8.5-bzb/lib/python3.8/site-packages/IPython/core/interactiveshell.py:3263: DtypeWarning: Columns (18,25,29,34,35,36) have mixed types.Specify dtype option on import or set low_memory=False.\n",
      "  if (await self.run_code(code, result,  async_=asy)):\n",
      "  1%|          | 15/2436 [00:01<03:46, 10.68it/s]/opt/aci/sw/anaconda3/2020.07_gcc-4.8.5-bzb/lib/python3.8/site-packages/IPython/core/interactiveshell.py:3263: DtypeWarning: Columns (2,34,35,36,37) have mixed types.Specify dtype option on import or set low_memory=False.\n",
      "  if (await self.run_code(code, result,  async_=asy)):\n",
      "  1%|          | 18/2436 [00:01<07:14,  5.57it/s]/opt/aci/sw/anaconda3/2020.07_gcc-4.8.5-bzb/lib/python3.8/site-packages/IPython/core/interactiveshell.py:3263: DtypeWarning: Columns (2,18,25,29,34,35,36,37) have mixed types.Specify dtype option on import or set low_memory=False.\n",
      "  if (await self.run_code(code, result,  async_=asy)):\n",
      "  2%|▏         | 38/2436 [00:03<03:06, 12.85it/s]/opt/aci/sw/anaconda3/2020.07_gcc-4.8.5-bzb/lib/python3.8/site-packages/IPython/core/interactiveshell.py:3263: DtypeWarning: Columns (18,25,35,36,37) have mixed types.Specify dtype option on import or set low_memory=False.\n",
      "  if (await self.run_code(code, result,  async_=asy)):\n",
      "  2%|▏         | 42/2436 [00:04<03:10, 12.58it/s]/opt/aci/sw/anaconda3/2020.07_gcc-4.8.5-bzb/lib/python3.8/site-packages/IPython/core/interactiveshell.py:3263: DtypeWarning: Columns (2,18,35,36,37) have mixed types.Specify dtype option on import or set low_memory=False.\n",
      "  if (await self.run_code(code, result,  async_=asy)):\n",
      "  4%|▎         | 88/2436 [00:07<03:16, 11.97it/s]/opt/aci/sw/anaconda3/2020.07_gcc-4.8.5-bzb/lib/python3.8/site-packages/IPython/core/interactiveshell.py:3263: DtypeWarning: Columns (2,18,34,35,36,37) have mixed types.Specify dtype option on import or set low_memory=False.\n",
      "  if (await self.run_code(code, result,  async_=asy)):\n",
      "  4%|▎         | 90/2436 [00:08<05:11,  7.53it/s]/opt/aci/sw/anaconda3/2020.07_gcc-4.8.5-bzb/lib/python3.8/site-packages/IPython/core/interactiveshell.py:3263: DtypeWarning: Columns (25,29,34,35,36,37) have mixed types.Specify dtype option on import or set low_memory=False.\n",
      "  if (await self.run_code(code, result,  async_=asy)):\n",
      "  4%|▍         | 97/2436 [00:09<06:50,  5.69it/s]/opt/aci/sw/anaconda3/2020.07_gcc-4.8.5-bzb/lib/python3.8/site-packages/IPython/core/interactiveshell.py:3263: DtypeWarning: Columns (2,18,25,34,35,36,37) have mixed types.Specify dtype option on import or set low_memory=False.\n",
      "  if (await self.run_code(code, result,  async_=asy)):\n",
      "  6%|▌         | 139/2436 [00:13<04:35,  8.33it/s]/opt/aci/sw/anaconda3/2020.07_gcc-4.8.5-bzb/lib/python3.8/site-packages/IPython/core/interactiveshell.py:3263: DtypeWarning: Columns (18,25,29,34,35,36,37) have mixed types.Specify dtype option on import or set low_memory=False.\n",
      "  if (await self.run_code(code, result,  async_=asy)):\n",
      "  6%|▋         | 155/2436 [00:15<04:13,  8.98it/s]/opt/aci/sw/anaconda3/2020.07_gcc-4.8.5-bzb/lib/python3.8/site-packages/IPython/core/interactiveshell.py:3263: DtypeWarning: Columns (18,25,34,35,36,37) have mixed types.Specify dtype option on import or set low_memory=False.\n",
      "  if (await self.run_code(code, result,  async_=asy)):\n",
      "  9%|▊         | 212/2436 [00:20<03:30, 10.55it/s]/opt/aci/sw/anaconda3/2020.07_gcc-4.8.5-bzb/lib/python3.8/site-packages/IPython/core/interactiveshell.py:3263: DtypeWarning: Columns (2,34,35,36) have mixed types.Specify dtype option on import or set low_memory=False.\n",
      "  if (await self.run_code(code, result,  async_=asy)):\n",
      " 11%|█▏        | 278/2436 [00:25<03:16, 10.98it/s]/opt/aci/sw/anaconda3/2020.07_gcc-4.8.5-bzb/lib/python3.8/site-packages/IPython/core/interactiveshell.py:3263: DtypeWarning: Columns (2,25,29,35,36,37) have mixed types.Specify dtype option on import or set low_memory=False.\n",
      "  if (await self.run_code(code, result,  async_=asy)):\n",
      " 14%|█▎        | 330/2436 [00:31<05:28,  6.41it/s]/opt/aci/sw/anaconda3/2020.07_gcc-4.8.5-bzb/lib/python3.8/site-packages/IPython/core/interactiveshell.py:3263: DtypeWarning: Columns (34,35,36,37) have mixed types.Specify dtype option on import or set low_memory=False.\n",
      "  if (await self.run_code(code, result,  async_=asy)):\n",
      " 14%|█▎        | 334/2436 [00:31<04:36,  7.59it/s]/opt/aci/sw/anaconda3/2020.07_gcc-4.8.5-bzb/lib/python3.8/site-packages/IPython/core/interactiveshell.py:3263: DtypeWarning: Columns (18,25,29,35,36) have mixed types.Specify dtype option on import or set low_memory=False.\n",
      "  if (await self.run_code(code, result,  async_=asy)):\n",
      " 18%|█▊        | 440/2436 [00:41<02:57, 11.26it/s]/opt/aci/sw/anaconda3/2020.07_gcc-4.8.5-bzb/lib/python3.8/site-packages/IPython/core/interactiveshell.py:3263: DtypeWarning: Columns (2,18,29,35,36,37) have mixed types.Specify dtype option on import or set low_memory=False.\n",
      "  if (await self.run_code(code, result,  async_=asy)):\n",
      " 20%|█▉        | 477/2436 [00:44<03:29,  9.34it/s]/opt/aci/sw/anaconda3/2020.07_gcc-4.8.5-bzb/lib/python3.8/site-packages/IPython/core/interactiveshell.py:3263: DtypeWarning: Columns (2,18,25,35,36,37) have mixed types.Specify dtype option on import or set low_memory=False.\n",
      "  if (await self.run_code(code, result,  async_=asy)):\n",
      " 22%|██▏       | 534/2436 [00:50<03:43,  8.51it/s]/opt/aci/sw/anaconda3/2020.07_gcc-4.8.5-bzb/lib/python3.8/site-packages/IPython/core/interactiveshell.py:3263: DtypeWarning: Columns (2,25,35,36,37) have mixed types.Specify dtype option on import or set low_memory=False.\n",
      "  if (await self.run_code(code, result,  async_=asy)):\n",
      " 22%|██▏       | 546/2436 [00:51<03:19,  9.46it/s]/opt/aci/sw/anaconda3/2020.07_gcc-4.8.5-bzb/lib/python3.8/site-packages/IPython/core/interactiveshell.py:3263: DtypeWarning: Columns (2,35,36,37) have mixed types.Specify dtype option on import or set low_memory=False.\n",
      "  if (await self.run_code(code, result,  async_=asy)):\n",
      " 23%|██▎       | 570/2436 [00:53<03:05, 10.05it/s]/opt/aci/sw/anaconda3/2020.07_gcc-4.8.5-bzb/lib/python3.8/site-packages/IPython/core/interactiveshell.py:3263: DtypeWarning: Columns (2,25,34,35,36,37) have mixed types.Specify dtype option on import or set low_memory=False.\n",
      "  if (await self.run_code(code, result,  async_=asy)):\n",
      " 24%|██▍       | 584/2436 [00:55<03:32,  8.73it/s]/opt/aci/sw/anaconda3/2020.07_gcc-4.8.5-bzb/lib/python3.8/site-packages/IPython/core/interactiveshell.py:3263: DtypeWarning: Columns (12,18,25,29,34,35,36,37) have mixed types.Specify dtype option on import or set low_memory=False.\n",
      "  if (await self.run_code(code, result,  async_=asy)):\n",
      " 27%|██▋       | 650/2436 [01:02<03:11,  9.31it/s]/opt/aci/sw/anaconda3/2020.07_gcc-4.8.5-bzb/lib/python3.8/site-packages/IPython/core/interactiveshell.py:3263: DtypeWarning: Columns (18,25,34,35,36) have mixed types.Specify dtype option on import or set low_memory=False.\n",
      "  if (await self.run_code(code, result,  async_=asy)):\n",
      " 27%|██▋       | 652/2436 [01:03<03:01,  9.83it/s]/opt/aci/sw/anaconda3/2020.07_gcc-4.8.5-bzb/lib/python3.8/site-packages/IPython/core/interactiveshell.py:3263: DtypeWarning: Columns (18,25) have mixed types.Specify dtype option on import or set low_memory=False.\n",
      "  if (await self.run_code(code, result,  async_=asy)):\n",
      " 27%|██▋       | 659/2436 [01:03<02:30, 11.83it/s]/opt/aci/sw/anaconda3/2020.07_gcc-4.8.5-bzb/lib/python3.8/site-packages/IPython/core/interactiveshell.py:3263: DtypeWarning: Columns (2,12,18,25,29,34,35,36,37) have mixed types.Specify dtype option on import or set low_memory=False.\n",
      "  if (await self.run_code(code, result,  async_=asy)):\n",
      " 39%|███▉      | 944/2436 [01:28<02:11, 11.34it/s]/opt/aci/sw/anaconda3/2020.07_gcc-4.8.5-bzb/lib/python3.8/site-packages/IPython/core/interactiveshell.py:3263: DtypeWarning: Columns (25,35,36,37) have mixed types.Specify dtype option on import or set low_memory=False.\n",
      "  if (await self.run_code(code, result,  async_=asy)):\n",
      " 39%|███▉      | 950/2436 [01:29<02:53,  8.55it/s]/opt/aci/sw/anaconda3/2020.07_gcc-4.8.5-bzb/lib/python3.8/site-packages/IPython/core/interactiveshell.py:3263: DtypeWarning: Columns (18,34,35,36,37) have mixed types.Specify dtype option on import or set low_memory=False.\n",
      "  if (await self.run_code(code, result,  async_=asy)):\n",
      " 47%|████▋     | 1152/2436 [01:46<01:45, 12.11it/s]/opt/aci/sw/anaconda3/2020.07_gcc-4.8.5-bzb/lib/python3.8/site-packages/IPython/core/interactiveshell.py:3263: DtypeWarning: Columns (2,18,34,35,36) have mixed types.Specify dtype option on import or set low_memory=False.\n",
      "  if (await self.run_code(code, result,  async_=asy)):\n",
      " 47%|████▋     | 1154/2436 [01:46<02:02, 10.50it/s]/opt/aci/sw/anaconda3/2020.07_gcc-4.8.5-bzb/lib/python3.8/site-packages/IPython/core/interactiveshell.py:3263: DtypeWarning: Columns (2,34,35,37) have mixed types.Specify dtype option on import or set low_memory=False.\n",
      "  if (await self.run_code(code, result,  async_=asy)):\n",
      " 49%|████▊     | 1185/2436 [01:50<02:00, 10.37it/s]/opt/aci/sw/anaconda3/2020.07_gcc-4.8.5-bzb/lib/python3.8/site-packages/IPython/core/interactiveshell.py:3263: DtypeWarning: Columns (2,18,25,35,36) have mixed types.Specify dtype option on import or set low_memory=False.\n",
      "  if (await self.run_code(code, result,  async_=asy)):\n",
      " 50%|████▉     | 1216/2436 [01:52<01:38, 12.42it/s]/opt/aci/sw/anaconda3/2020.07_gcc-4.8.5-bzb/lib/python3.8/site-packages/IPython/core/interactiveshell.py:3263: DtypeWarning: Columns (18,25,35,37) have mixed types.Specify dtype option on import or set low_memory=False.\n",
      "  if (await self.run_code(code, result,  async_=asy)):\n",
      " 51%|█████▏    | 1253/2436 [01:55<01:58,  9.95it/s]/opt/aci/sw/anaconda3/2020.07_gcc-4.8.5-bzb/lib/python3.8/site-packages/IPython/core/interactiveshell.py:3263: DtypeWarning: Columns (25,34,35,36,37) have mixed types.Specify dtype option on import or set low_memory=False.\n",
      "  if (await self.run_code(code, result,  async_=asy)):\n",
      " 58%|█████▊    | 1409/2436 [02:11<01:44,  9.79it/s]/opt/aci/sw/anaconda3/2020.07_gcc-4.8.5-bzb/lib/python3.8/site-packages/IPython/core/interactiveshell.py:3263: DtypeWarning: Columns (12,18,19,25,29,34,35,36,37) have mixed types.Specify dtype option on import or set low_memory=False.\n",
      "  if (await self.run_code(code, result,  async_=asy)):\n",
      " 81%|████████  | 1970/2436 [03:01<00:59,  7.88it/s]/opt/aci/sw/anaconda3/2020.07_gcc-4.8.5-bzb/lib/python3.8/site-packages/IPython/core/interactiveshell.py:3263: DtypeWarning: Columns (18,35,36,37) have mixed types.Specify dtype option on import or set low_memory=False.\n",
      "  if (await self.run_code(code, result,  async_=asy)):\n",
      " 83%|████████▎ | 2028/2436 [03:07<00:34, 11.86it/s]/opt/aci/sw/anaconda3/2020.07_gcc-4.8.5-bzb/lib/python3.8/site-packages/IPython/core/interactiveshell.py:3263: DtypeWarning: Columns (2,25,29,34,35,36,37) have mixed types.Specify dtype option on import or set low_memory=False.\n",
      "  if (await self.run_code(code, result,  async_=asy)):\n",
      "100%|██████████| 2436/2436 [03:37<00:00, 11.20it/s]\n"
     ]
    },
    {
     "name": "stdout",
     "output_type": "stream",
     "text": [
      "finishpancancer\n"
     ]
    }
   ],
   "source": [
    "### Change categ to str\n",
    "feature_type = 'pancancer'\n",
    "df = pd.read_csv(os.path.join(dir_cohorts,feature_type+'.csv'))\n",
    "lfeat = df[feature_type].unique()\n",
    "print(lfeat)\n",
    "# merge patients\n",
    "def format_categ(feature):\n",
    "    global df, feature_type\n",
    "    ldf = []\n",
    "\n",
    "    # Initialize dataframe and output path\n",
    "    path_out = os.path.join(dir_out,feature_type)\n",
    "    # Get patient list for histology\n",
    "    df_filtered = df[df[feature_type] == feature]\n",
    "    lp = df_filtered['tumor_aliquot_id'].unique()\n",
    "    lp = [i for i in lp if i not in hype_aliquot_id]\n",
    "    \n",
    "    for p in tqdm(lp):\n",
    "        df_maf_ind = pd.read_csv(os.path.join(dir_maf_ind,p+'.to_merge.categ.csv'), index_col = 0)\n",
    "        df_maf_ind['categ'] = df_maf_ind['categ'].astype(int)\n",
    "        ldf.append(df_maf_ind)\n",
    "\n",
    "    df_maf_merged = pd.concat(ldf, axis = 0)\n",
    "    df_maf_merged.to_csv(os.path.join(path_out,feature+'.nohypermutator.csv'),sep='\\t', index = False)\n",
    "    print(f'finish{feature}')\n",
    "\n",
    "format_categ('pancancer')"
   ]
  },
  {
   "cell_type": "code",
   "execution_count": 20,
   "metadata": {},
   "outputs": [
    {
     "name": "stdout",
     "output_type": "stream",
     "text": [
      "['Ovary-AdenoCA' 'CNS-PiloAstro' 'Liver-HCC' 'CNS-Oligo' 'Panc-Endocrine'\n",
      " 'Kidney-RCC' 'Prost-AdenoCA' 'Thy-AdenoCA' 'ColoRect-AdenoCA'\n",
      " 'Lymph-BNHL' 'Uterus-AdenoCA' 'Breast-AdenoCA' 'Lung-AdenoCA'\n",
      " 'Panc-AdenoCA' 'Eso-AdenoCA' 'Head-SCC' 'CNS-Medullo' 'CNS-GBM'\n",
      " 'SoftTissue-Leiomyo' 'Cervix-SCC' 'Skin-Melanoma' 'Lymph-CLL'\n",
      " 'SoftTissue-Liposarc' 'Kidney-ChRCC' 'Stomach-AdenoCA' 'Lung-SCC'\n",
      " 'Bladder-TCC' 'Myeloid-AML' 'Biliary-AdenoCA' 'Breast-LobularCA'\n",
      " 'Cervix-AdenoCA' 'Bone-Osteosarc' 'Breast-DCIS' 'Myeloid-MPN'\n",
      " 'Myeloid-MDS' 'Bone-Cart' 'Bone-Osteoblast' 'Bone-Epith' 'Bone-Benign']\n",
      "Ovary-AdenoCA\n",
      "109\n",
      "108\n",
      "CNS-PiloAstro\n",
      "89\n",
      "89\n",
      "Liver-HCC\n",
      "312\n",
      "310\n",
      "CNS-Oligo\n",
      "18\n",
      "18\n",
      "Panc-Endocrine\n",
      "81\n",
      "80\n",
      "Kidney-RCC\n",
      "143\n",
      "142\n",
      "Prost-AdenoCA\n",
      "199\n",
      "198\n",
      "Thy-AdenoCA\n",
      "48\n",
      "48\n",
      "ColoRect-AdenoCA\n",
      "52\n",
      "42\n",
      "Lymph-BNHL\n",
      "107\n",
      "107\n",
      "Uterus-AdenoCA\n",
      "43\n",
      "37\n",
      "Breast-AdenoCA\n",
      "193\n",
      "193\n",
      "Lung-AdenoCA\n",
      "36\n",
      "36\n",
      "Panc-AdenoCA\n",
      "230\n",
      "229\n",
      "Eso-AdenoCA\n",
      "97\n",
      "97\n",
      "Head-SCC\n",
      "56\n",
      "56\n",
      "CNS-Medullo\n",
      "141\n",
      "141\n",
      "CNS-GBM\n",
      "39\n",
      "38\n",
      "SoftTissue-Leiomyo\n",
      "15\n",
      "15\n",
      "Cervix-SCC\n",
      "18\n",
      "18\n",
      "Skin-Melanoma\n",
      "106\n",
      "0\n",
      "Lymph-CLL\n",
      "90\n",
      "90\n",
      "SoftTissue-Liposarc\n",
      "19\n",
      "19\n",
      "Kidney-ChRCC\n",
      "43\n",
      "43\n",
      "Stomach-AdenoCA\n",
      "68\n",
      "65\n",
      "Lung-SCC\n",
      "47\n",
      "47\n",
      "Bladder-TCC\n",
      "23\n",
      "23\n",
      "Myeloid-AML\n",
      "13\n",
      "13\n",
      "Biliary-AdenoCA\n",
      "33\n",
      "31\n",
      "Breast-LobularCA\n",
      "13\n",
      "13\n",
      "Cervix-AdenoCA\n",
      "2\n",
      "2\n",
      "Bone-Osteosarc\n",
      "35\n",
      "35\n",
      "Breast-DCIS\n",
      "3\n",
      "3\n",
      "Myeloid-MPN\n",
      "23\n",
      "23\n",
      "Myeloid-MDS\n",
      "2\n",
      "2\n",
      "Bone-Cart\n",
      "9\n",
      "9\n",
      "Bone-Osteoblast\n",
      "5\n",
      "5\n",
      "Bone-Epith\n",
      "10\n",
      "10\n",
      "Bone-Benign\n",
      "1\n",
      "1\n"
     ]
    }
   ],
   "source": [
    "feature_type = 'histology'\n",
    "df = pd.read_csv(os.path.join(dir_cohorts,feature_type+'.csv'))\n",
    "lfeat = df[feature_type].unique()\n",
    "print(lfeat)\n",
    "# merge patients\n",
    "def merge_maf(feature):\n",
    "    global df, feature_type\n",
    "    ldf = []\n",
    "    # Initialize dataframe and output path\n",
    "    path_out = os.path.join(dir_out,feature_type)\n",
    "    \n",
    "    # Get patient list for histology\n",
    "    df_filtered = df[df[feature_type] == feature]\n",
    "    lp = df_filtered['tumor_aliquot_id'].unique()\n",
    "    print(feature)\n",
    "    print(len(lp))\n",
    "    lp = [i for i in lp if i not in hype_aliquot_id]\n",
    "    print(len(lp))\n",
    "\n",
    "    #read patient file and append patient maf dataframe\n",
    "#     for p in tqdm(lp):\n",
    "#         df_maf_ind = pd.read_csv(os.path.join(dir_maf_ind,p+'.to_merge.categ.csv'), index_col = 0)\n",
    "#         df_maf_ind['categ'] = df_maf_ind['categ'].astype(int)\n",
    "#         ldf.append(df_maf_ind)\n",
    "\n",
    "#     df_maf_merged = pd.concat(ldf, axis = 0)\n",
    "#     df_maf_merged.to_csv(os.path.join(path_out,feature+'.nohypermutator.csv'),sep='\\t', index = False)\n",
    "#     print(f'finish{feature}')\n",
    "\n",
    "for feat in lfeat:\n",
    "    merge_maf(feat)"
   ]
  }
 ],
 "metadata": {
  "kernelspec": {
   "display_name": "Python 3",
   "language": "python",
   "name": "python3"
  },
  "language_info": {
   "codemirror_mode": {
    "name": "ipython",
    "version": 3
   },
   "file_extension": ".py",
   "mimetype": "text/x-python",
   "name": "python",
   "nbconvert_exporter": "python",
   "pygments_lexer": "ipython3",
   "version": "3.8.3"
  }
 },
 "nbformat": 4,
 "nbformat_minor": 4
}
