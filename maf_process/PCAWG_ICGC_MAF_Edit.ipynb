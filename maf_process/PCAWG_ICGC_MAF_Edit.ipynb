{
 "cells": [
  {
   "cell_type": "code",
   "execution_count": 1,
   "metadata": {},
   "outputs": [],
   "source": [
    "#This code is for process PCAWG ICGC consensus somatic pass only maf files. The output files are inputs for MutSigCV\n",
    "#Author: Yiyun Rao\n",
    "#Date last edit:05222020"
   ]
  },
  {
   "cell_type": "code",
   "execution_count": 2,
   "metadata": {},
   "outputs": [],
   "source": [
    "from optparse import OptionParser\n",
    "import shutil\n",
    "import os\n",
    "import re\n",
    "import time"
   ]
  },
  {
   "cell_type": "code",
   "execution_count": 2,
   "metadata": {},
   "outputs": [],
   "source": [
    "def parse_arguments():\n",
    "    parser = OptionParser(\"Usage: %prog -i <inputpath>\")\n",
    "    parser.add_option(\"-m\", \"--maf_file\",\n",
    "                      dest=\"inputPath\",\n",
    "                      help=\"The full absolute path of the PCAWG ICGC consensus passonly maf file\")\n",
    "    \n",
    "    (options, arg) = parser.parse_args()\n",
    "    if not options.inputPath:\n",
    "        parser.error(\"Requires at least one input file, the path of this script. Run with --help for help.\")\n",
    "        quit(1)\n",
    "    return options"
   ]
  },
  {
   "cell_type": "code",
   "execution_count": null,
   "metadata": {},
   "outputs": [],
   "source": [
    "file_maf = open(\"final_consensus_passonly.snv_mnv_indel.icgc.controlled.maf\")"
   ]
  },
  {
   "cell_type": "code",
   "execution_count": 6,
   "metadata": {},
   "outputs": [
    {
     "name": "stdout",
     "output_type": "stream",
     "text": [
      "TIME USED 1659.85083008 seconds\n"
     ]
    }
   ],
   "source": [
    "#def search_tumor_type_column(maffile):\n",
    "start1 = time.time()\n",
    "\n",
    "###Read the first line and find tumor type column(project_code)\n",
    "first_line = file_maf.readline()\n",
    "line_split = first_line.split(\"\\t\")\n",
    "idx = [line_split.index(cols) for cols in line_split if re.findall(\"project_code\",cols,flags = re.IGNORECASE)]\n",
    "if idx:\n",
    "    if len(idx)==1:\n",
    "        tumor_col = int(idx[0]) \n",
    "    else:\n",
    "        raise TumorTypeNotFoundError(\"MULTIPLE COLUMNS WERE MAPPED\")\n",
    "else:\n",
    "    raise TumorTypeNotFoundError(\"TUMOR TYPE COLUMN NOT FOUND\")\n",
    "\n",
    "###Get current directory and create tumor-type directory\n",
    "cwd = os.getcwd()\n",
    "new_path = cwd + \"/Tumor_type_maf\"\n",
    "if not os.path.exists(new_path):\n",
    "    os.makedirs(new_path)\n",
    "else:\n",
    "    raise PathAlreadyExistsError(\"DIRECTORY ALREADY EXISTS\")\n",
    "\n",
    "# ###Get the list of tumor types\n",
    "# list_tumor_type = []\n",
    "# next(file_maf)\n",
    "# for lines in file_maf:\n",
    "#     line_split = lines.split(\"\\t\")\n",
    "#     tumor_type = line_split[tumor_col]\n",
    "#     if tumor_type not in list_tumor_type:\n",
    "#         list_tumor_type.append(tumor_type)\n",
    "# n_tumor_type = len(list_tumor_type)\n",
    "\n",
    "# print str(n_tumor_type) + \" EXIST.\"\n",
    "# print \"START PARSING TUMOR TYPE...\"\n",
    "\n",
    "\n",
    "###Parse the MAF file, create new file according to tumor type and put corresponding patients in it\n",
    "next(file_maf)\n",
    "for lines in file_maf:\n",
    "    line_split = lines.split(\"\\t\")\n",
    "    tumor_type = line_split[tumor_col]\n",
    "    file_name = \"ICGC_consensus_passonly_snv_mnv_indel_\"+str(tumor_type)+\"_05252020.maf\"\n",
    "    #IF file doesn't exist, create file and write the header line\n",
    "    if not os.path.exists(new_path+'/'+file_name):\n",
    "        with open(new_path+'/'+file_name,'w') as f:\n",
    "            f.write(first_line)\n",
    "        f.close()\n",
    "    #Append the file to \n",
    "    with open(new_path+'/'+file_name,\"a\") as f1:\n",
    "        f1.write(lines)\n",
    "    f1.close()\n",
    "\n",
    "end1 = time.time()\n",
    "print \"TIME USED \"+str(end1-start1) + \" seconds\""
   ]
  },
  {
   "cell_type": "code",
   "execution_count": 3,
   "metadata": {},
   "outputs": [
    {
     "name": "stderr",
     "output_type": "stream",
     "text": [
      "Usage: ipykernel_launcher.py -i <inputpath>\n",
      "\n",
      "ipykernel_launcher.py: error: no such option: -f\n"
     ]
    },
    {
     "ename": "SystemExit",
     "evalue": "2",
     "output_type": "error",
     "traceback": [
      "An exception has occurred, use %tb to see the full traceback.\n",
      "\u001b[0;31mSystemExit\u001b[0m\u001b[0;31m:\u001b[0m 2\n"
     ]
    },
    {
     "name": "stderr",
     "output_type": "stream",
     "text": [
      "/opt/aci/sw/python/2.7.14_anaconda-5.0.1/lib/python2.7/site-packages/IPython/core/interactiveshell.py:2890: UserWarning: To exit: use 'exit', 'quit', or Ctrl-D.\n",
      "  warn(\"To exit: use 'exit', 'quit', or Ctrl-D.\", stacklevel=1)\n"
     ]
    }
   ],
   "source": [
    "#Main function area\n",
    "if __name__ == \"__main__\":\n",
    "    arguments = parse_arguments()\n",
    "    maf_file = arguments.inputPath\n",
    "    start1 = time.time()\n",
    "    search_tumor_type_column(maf_file)\n",
    "    end1 = time.time()"
   ]
  },
  {
   "cell_type": "code",
   "execution_count": 1,
   "metadata": {},
   "outputs": [],
   "source": [
    "#Error Area\n",
    "class TumorTypeNotFoundError(Exception):\n",
    "    def __init__(self, *args):\n",
    "        if args:\n",
    "            self.message = args[0]\n",
    "        else:\n",
    "            self.message = None\n",
    "\n",
    "    def __str__(self):\n",
    "        if self.message:\n",
    "            return 'TumorTypeNotFoundError, {0} '.format(self.message)\n",
    "        else:\n",
    "            return 'TumorTypeNotFoundError has been raised'\n",
    "        \n",
    "class PathAlreadyExistsError(Exception):\n",
    "    def __init__(self, *args):\n",
    "        if args:\n",
    "            self.message = args[0]\n",
    "        else:\n",
    "            self.message = None\n",
    "\n",
    "    def __str__(self):\n",
    "        if self.message:\n",
    "            return 'PathAlreadyExists, {0} '.format(self.message)\n",
    "        else:\n",
    "            return 'PathAlreadyExists has been raised'"
   ]
  }
 ],
 "metadata": {
  "kernelspec": {
   "display_name": "Python 3",
   "language": "python",
   "name": "python3"
  },
  "language_info": {
   "codemirror_mode": {
    "name": "ipython",
    "version": 3
   },
   "file_extension": ".py",
   "mimetype": "text/x-python",
   "name": "python",
   "nbconvert_exporter": "python",
   "pygments_lexer": "ipython3",
   "version": "3.8.3"
  }
 },
 "nbformat": 4,
 "nbformat_minor": 2
}
