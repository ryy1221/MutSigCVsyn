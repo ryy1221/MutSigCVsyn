{
 "cells": [
  {
   "cell_type": "code",
   "execution_count": null,
   "metadata": {
    "collapsed": true,
    "jupyter": {
     "outputs_hidden": true
    }
   },
   "outputs": [],
   "source": [
    "# This code is for process PCAWG ICGC patient coverage files. The output files will be merged into tissue type coverage for MutSigCV\n",
    "# Author: Yiyun Rao\n",
    "# Date last edit:05222020\n",
    "\n",
    "from optparse import OptionParser\n",
    "import os\n",
    "import re\n",
    "import time"
   ]
  },
  {
   "cell_type": "code",
   "execution_count": null,
   "metadata": {
    "collapsed": true,
    "jupyter": {
     "outputs_hidden": true
    }
   },
   "outputs": [],
   "source": [
    "# Error Area\n",
    "class TumorTypeNotFoundError(Exception):\n",
    "    def __init__(self, *args):\n",
    "        if args:\n",
    "            self.message = args[0]\n",
    "        else:\n",
    "            self.message = None\n",
    "\n",
    "    def __str__(self):\n",
    "        if self.message:\n",
    "            return 'TumorTypeNotFoundError, {0} '.format(self.message)\n",
    "        else:\n",
    "            return 'TumorTypeNotFoundError has been raised'\n",
    "\n",
    "\n",
    "class PathAlreadyExistsError(Exception):\n",
    "    def __init__(self, *args):\n",
    "        if args:\n",
    "            self.message = args[0]\n",
    "        else:\n",
    "            self.message = None\n",
    "\n",
    "    def __str__(self):\n",
    "        if self.message:\n",
    "            return 'PathAlreadyExists, {0} '.format(self.message)\n",
    "        else:\n",
    "            return 'PathAlreadyExists has been raised'"
   ]
  },
  {
   "cell_type": "code",
   "execution_count": null,
   "metadata": {
    "collapsed": true,
    "jupyter": {
     "outputs_hidden": true
    }
   },
   "outputs": [],
   "source": [
    "def search_tumor_type_column(coverage_file):\n",
    "    # Read the first line and find tumor type column(project_code)\n",
    "    with open(coverage_file, 'r') as file_coverage:\n",
    "        first_line = file_coverage.readline()\n",
    "        line_split = first_line.split(\"\\t\")\n",
    "        idx = [line_split.index(cols) for cols in line_split if re.findall(\"project_code\", cols, flags=re.IGNORECASE)]\n",
    "        if idx:\n",
    "            if len(idx) == 1:\n",
    "                tumor_col = int(idx[0])\n",
    "            else:\n",
    "                raise TumorTypeNotFoundError(\"MULTIPLE COLUMNS WERE MAPPED\")\n",
    "        else:\n",
    "            raise TumorTypeNotFoundError(\"TUMOR TYPE COLUMN NOT FOUND\")\n",
    "\n",
    "        # Get current directory and create tumor-type directory\n",
    "        new_path = \"../maf_out/merged_tumor_type_maf/\"\n",
    "        if not os.path.exists(new_path):\n",
    "            os.makedirs(new_path)\n",
    "        else:\n",
    "            raise PathAlreadyExistsError(\"DIRECTORY ALREADY EXISTS\")\n",
    "\n",
    "        # Parse the MAF file, create new file according to tumor type and put corresponding patients in it\n",
    "        next(file_coverage)\n",
    "        for lines in file_coverage:\n",
    "            line_split = lines.split(\"\\t\")\n",
    "            tumor_type = line_split[tumor_col]\n",
    "            file_name = \"merged_consensus_passonly_snv_mnv_indel_\" + str(tumor_type) + \".maf\"\n",
    "            # IF file doesn't exist, create file and write the header line\n",
    "            if not os.path.exists(new_path + '/' + file_name):\n",
    "                with open(new_path + '/' + file_name, 'w') as f:\n",
    "                    f.write(first_line)\n",
    "                f.close()\n",
    "            # Append the file to\n",
    "            with open(new_path + '/' + file_name, \"a\") as f1:\n",
    "                f1.write(lines)\n",
    "            f1.close()"
   ]
  },
  {
   "cell_type": "code",
   "execution_count": null,
   "metadata": {
    "collapsed": true,
    "jupyter": {
     "outputs_hidden": true
    }
   },
   "outputs": [],
   "source": [
    "# Main function\n",
    "if __name__ == \"__main__\":\n",
    "    arguments = parse_arguments()\n",
    "    maf_file = \"../maf_raw/merged.final_consensus_passonly.snv_mnv_indel.controlled.maf\"\n",
    "    start1 = time.time()\n",
    "    search_tumor_type_column(maf_file)\n",
    "    end1 = time.time()\n",
    "    print \"TIME USED \" + str(end1 - start1) + \" seconds\""
   ]
  }
 ],
 "metadata": {
  "kernelspec": {
   "display_name": "base-env",
   "language": "python",
   "name": "base-env"
  },
  "language_info": {
   "codemirror_mode": {
    "name": "ipython",
    "version": 3
   },
   "file_extension": ".py",
   "mimetype": "text/x-python",
   "name": "python",
   "nbconvert_exporter": "python",
   "pygments_lexer": "ipython3",
   "version": "3.8.3"
  }
 },
 "nbformat": 4,
 "nbformat_minor": 4
}
