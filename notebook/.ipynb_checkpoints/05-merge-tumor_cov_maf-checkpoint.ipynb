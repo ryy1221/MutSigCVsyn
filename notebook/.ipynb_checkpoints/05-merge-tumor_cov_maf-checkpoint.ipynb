{
 "cells": [
  {
   "cell_type": "code",
   "execution_count": 1,
   "metadata": {
    "collapsed": true
   },
   "outputs": [],
   "source": [
    "# This script merge the multiple organ level coverage and mutation file into one\n",
    "# Author: Yiyun\n",
    "\n",
    "import pandas as pd\n",
    "import os"
   ]
  },
  {
   "cell_type": "code",
   "execution_count": 2,
   "metadata": {
    "collapsed": true
   },
   "outputs": [],
   "source": [
    "org_dir = '../org_cov_maf'\n",
    "his_dir = '../his_cov_maf'\n",
    "outdir = '../multitumor'"
   ]
  },
  {
   "cell_type": "code",
   "execution_count": 13,
   "metadata": {},
   "outputs": [],
   "source": [
    "# merge 2 organ coverage file 'Ovary' and 'Thy'\n",
    "t1 = 'Ovary'\n",
    "t2 = 'Thy'\n",
    "maf1 = False\n",
    "maf2 = False\n",
    "cov1 = os.path.join(org_dir,t1, 'merged_'+t1+'.txt')\n",
    "cov2 = os.path.join(org_dir,t2, 'merged_'+t2+'.txt')\n",
    "for f in os.listdir(os.path.join(org_dir,t1)):\n",
    "    if f.endswith('maf'):\n",
    "        maf1 = os.path.join(org_dir,t1,f)\n",
    "for f in os.listdir(os.path.join(org_dir,t2)):\n",
    "    if f.endswith('maf'):\n",
    "        maf2 = os.path.join(org_dir,t2,f)\n",
    "\n",
    "# create output file\n",
    "outfolder = os.path.join(outdir, t1+'-'+t2)\n",
    "if not os.path.exists(outfolder):\n",
    "    os.mkdir(outfolder)\n",
    "outf_cov = os.path.join(outfolder, 'merged_'+t1+'-'+t2+'.txt')\n",
    "outf_maf = os.path.join(outfolder,'merged_'+t1+'-'+t2+'.maf')"
   ]
  },
  {
   "cell_type": "code",
   "execution_count": 5,
   "metadata": {
    "scrolled": true
   },
   "outputs": [
    {
     "name": "stderr",
     "output_type": "stream",
     "text": [
      "/opt/aci/sw/python/2.7.14_anaconda-5.0.1/lib/python2.7/site-packages/IPython/core/interactiveshell.py:2718: DtypeWarning: Columns (1,17,24,33,34,35,36) have mixed types. Specify dtype option on import or set low_memory=False.\n",
      "  interactivity=interactivity, compiler=compiler, result=result)\n"
     ]
    }
   ],
   "source": [
    "# concat maf file\n",
    "df_maf1 = pd.read_csv(maf1, header = 0, index_col=None, sep = '\\t')\n",
    "df_maf2 = pd.read_csv(maf2, header = 0, index_col = None, sep = '\\t')\n",
    "listdf_maf = [df_maf1,df_maf2]\n",
    "# write maf file\n",
    "merged_maf = pd.concat(listdf_maf)\n",
    "#merged_maf.to_csv(outf_maf, index=False, sep='\\t')"
   ]
  },
  {
   "cell_type": "code",
   "execution_count": null,
   "metadata": {
    "collapsed": true
   },
   "outputs": [],
   "source": [
    "# read dataframe\n",
    "df_cov1 = pd.read_csv(cov1, header=0, index_col=None, sep='\\t')\n",
    "df_cov2 = pd.read_csv(cov2, header=0, index_col=None, sep='\\t')"
   ]
  },
  {
   "cell_type": "code",
   "execution_count": 9,
   "metadata": {
    "collapsed": true
   },
   "outputs": [],
   "source": [
    "# merge pandas dataframe\n",
    "def merge_tumor(df_list):\n",
    "    for df in df_list:\n",
    "        df.set_index(['gene', 'zone', 'categ'], inplace=True)\n",
    "    df = pd.concat(df_list, axis=1) # join='inner'\n",
    "    df.reset_index(inplace=True)\n",
    "    #df.to_csv(outf_cov, index=False, sep='\\t')"
   ]
  },
  {
   "cell_type": "code",
   "execution_count": 11,
   "metadata": {
    "collapsed": true
   },
   "outputs": [],
   "source": [
    "merge_tumor(df_list)"
   ]
  },
  {
   "cell_type": "code",
   "execution_count": 20,
   "metadata": {
    "collapsed": true
   },
   "outputs": [],
   "source": []
  },
  {
   "cell_type": "code",
   "execution_count": 29,
   "metadata": {
    "collapsed": true
   },
   "outputs": [],
   "source": []
  }
 ],
 "metadata": {
  "kernelspec": {
   "display_name": "Python 2",
   "language": "python",
   "name": "python2"
  },
  "language_info": {
   "codemirror_mode": {
    "name": "ipython",
    "version": 2
   },
   "file_extension": ".py",
   "mimetype": "text/x-python",
   "name": "python",
   "nbconvert_exporter": "python",
   "pygments_lexer": "ipython2",
   "version": "2.7.14"
  }
 },
 "nbformat": 4,
 "nbformat_minor": 2
}
