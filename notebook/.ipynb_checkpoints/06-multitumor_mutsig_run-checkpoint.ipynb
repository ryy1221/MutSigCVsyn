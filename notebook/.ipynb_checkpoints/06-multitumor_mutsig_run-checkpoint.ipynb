{
 "cells": [
  {
   "cell_type": "code",
   "execution_count": 3,
   "metadata": {
    "collapsed": true
   },
   "outputs": [],
   "source": [
    "# This script is for running MutSig -Multitumor version\n",
    "import matlab.engine\n",
    "import os\n",
    "import shutil\n",
    "import time\n",
    "import matlab.engine\n",
    "eng = matlab.engine.start_matlab()"
   ]
  },
  {
   "cell_type": "code",
   "execution_count": 4,
   "metadata": {
    "collapsed": true
   },
   "outputs": [],
   "source": [
    "covariates = '../anno_ref/gene.covariates.converted.txt'\n",
    "mut_dic = '../anno_ref/mutation_type_dictionary_file.txt'\n",
    "chain_f = '../anno_ref/chr_files_hg19'\n",
    "mm_dir = '../multitumor'\n",
    "out_dir = '../mutsig_out/'"
   ]
  },
  {
   "cell_type": "code",
   "execution_count": 12,
   "metadata": {
    "collapsed": true
   },
   "outputs": [],
   "source": [
    "def runMutSig_mm(syn):\n",
    "    \n",
    "    global covariates, mut_dic, chain_f, mm_dir\n",
    "    \n",
    "    # if organ mode than use organ directory, if not then histology directory\n",
    "    listf = os.listdir(mm_dir)\n",
    "    \n",
    "    # get input maf and coverage files\n",
    "    for folders in listf:\n",
    "        start = time.time()\n",
    "        organ = folders\n",
    "        \n",
    "        if os.path.isdir(os.path.join(mm_dir,folders)):\n",
    "            # get input file in folder, set maf and coverage input to false\n",
    "            list_input = os.listdir(os.path.join(mm_dir, folders))\n",
    "            maf_input = False\n",
    "            cov_input = False\n",
    "            # find inputs\n",
    "            for fs in list_input:\n",
    "                if fs.endswith('maf'):  # maf file\n",
    "                    maf_input = os.path.join(mm_dir, folders, fs)\n",
    "                elif fs == 'merged_'+organ+'.txt':\n",
    "                    cov_input = os.path.join(mm_dir, folders, fs)\n",
    "                elif fs.startswith('.'):\n",
    "                    pass\n",
    "                \n",
    "            # check if both input exists\n",
    "            if not (maf_input and cov_input):\n",
    "                print \"NO COVERAGE OR NO MAF FILE: \" + organ\n",
    "                continue\n",
    "\n",
    "            # if syn\n",
    "            if syn:\n",
    "                out_p = os.path.join(out_dir,'multitumor','out08262020', 'syn', organ, organ)\n",
    "                try:\n",
    "                    list_out = os.listdir(os.path.join(out_dir,'multitumor','out08262020', 'syn', organ))\n",
    "                    if organ+'.sig_genes.txt' in list_out:\n",
    "                        print \"NOT RUNNING DONE FOR: \"+organ\n",
    "                        continue\n",
    "                except OSError:\n",
    "                    pass\n",
    "                # run matlab code\n",
    "                eng.cd(r'../mutsigsyn/', nargout = 0)\n",
    "                eng.MutSigCVs_nbg(maf_input,cov_input, covariates, out_p, mut_dic, chain_f, nargout = 0)\n",
    "                end = time.time()\n",
    "                print \"TIME USED FOR \"+ organ+ \" is \"+ str(end-start)\n",
    "                \n",
    "            else:\n",
    "                out_p = os.path.join(out_dir,'multitumor','out08262020','nsyn',organ, organ)\n",
    "                try:\n",
    "                    list_out = os.listdir(os.path.join(out_dir,'multitumor','out08262020','nsyn',organ))\n",
    "                    if organ+'.sig_genes.txt' in list_out:\n",
    "                        print \"NOT RUNNING DONE FOR: \"+organ\n",
    "                        continue\n",
    "                except OSError:\n",
    "                    pass\n",
    "                # run matlab code\n",
    "                eng.cd(r'../mutsig/', nargout = 0)\n",
    "                eng.MutSigCV_nbg(maf_input,cov_input, covariates, out_p, mut_dic, chain_f, nargout = 0)\n",
    "                end = time.time()\n",
    "                print \"TIME USED FOR \"+ organ+ \" is \"+ str(end-start)"
   ]
  },
  {
   "cell_type": "code",
   "execution_count": 13,
   "metadata": {},
   "outputs": [
    {
     "name": "stdout",
     "output_type": "stream",
     "text": [
      "../multitumor/Ovary-Thy/merged_Ovary-Thy.maf\n",
      "../multitumor/Ovary-Thy/merged_Ovary-Thy.txt\n",
      "../mutsig_out/multitumor/out08262020/syn/Ovary-Thy/Ovary-Thy\n"
     ]
    }
   ],
   "source": [
    "runMutSig_mm(syn=True)"
   ]
  },
  {
   "cell_type": "code",
   "execution_count": null,
   "metadata": {
    "collapsed": true
   },
   "outputs": [],
   "source": []
  }
 ],
 "metadata": {
  "kernelspec": {
   "display_name": "Python 2",
   "language": "python",
   "name": "python2"
  },
  "language_info": {
   "codemirror_mode": {
    "name": "ipython",
    "version": 2
   },
   "file_extension": ".py",
   "mimetype": "text/x-python",
   "name": "python",
   "nbconvert_exporter": "python",
   "pygments_lexer": "ipython2",
   "version": "2.7.14"
  }
 },
 "nbformat": 4,
 "nbformat_minor": 2
}
