{
 "cells": [
  {
   "cell_type": "code",
   "execution_count": 3,
   "metadata": {
    "collapsed": true
   },
   "outputs": [],
   "source": [
    "# this script merge the coverage files into the coverage input\n",
    "import os \n",
    "from os import listdir\n",
    "from os.path import isfile, join\n",
    "import re\n",
    "import time\n",
    "import shutil\n",
    "import os.path\n",
    "import csv"
   ]
  },
  {
   "cell_type": "code",
   "execution_count": 4,
   "metadata": {
    "collapsed": true
   },
   "outputs": [],
   "source": [
    "# get all patient information\n",
    "# this function parse the patient information file\n",
    "def parse_info_file(info_file):\n",
    "    donor_dict = {}\n",
    "    with open(info_file, 'r') as pcawg_info:\n",
    "        next(pcawg_info)\n",
    "        for lines in pcawg_info:\n",
    "            line_split = lines.split('\\t')\n",
    "            tumor_aliquot_id, normal_aliquot_id, donor_id, sample_id, specimen_id, project_code, gender, age \\\n",
    "                = line_split[0:8]\n",
    "            if donor_id not in donor_dict:\n",
    "                donor_dict[donor_id] = []\n",
    "            donor_dict[donor_id] = tumor_aliquot_id\n",
    "\n",
    "    return donor_dict\n",
    "\n",
    "dict_donor = parse_info_file('/gpfs/scratch/yur97/coverage_run/PCAWG_sample_info.txt')"
   ]
  },
  {
   "cell_type": "code",
   "execution_count": 5,
   "metadata": {},
   "outputs": [
    {
     "name": "stdout",
     "output_type": "stream",
     "text": [
      "['7ae872a6-c623-11e3-bf01-24c6515278c0.coverage.out.csv', '4ef20a13-f107-4654-adca-fc60b8f5be47.coverage.out.csv', '79b23f34-c623-11e3-bf01-24c6515278c0.coverage.out.csv', '983c14b8-f35b-497b-9fd4-5e5f5f0a7aa7.coverage.out.csv', '78bc2608-c623-11e3-bf01-24c6515278c0.coverage.out.csv', '7789ef18-c623-11e3-bf01-24c6515278c0.coverage.out.csv', '2584b428-c623-11e3-bf01-24c6515278c0.coverage.out.csv', '50e3a421-9741-4cd8-911b-0f47ca518b6a.coverage.out.csv', '5975deb5-00d2-4d18-b5c0-34ac9947fe11.coverage.out.csv', 'd876d576-c622-11e3-bf01-24c6515278c0.coverage.out.csv', '5a51a6fc-c623-11e3-bf01-24c6515278c0.coverage.out.csv', '56cc8740-b132-4cbc-b513-f0b5b2305ca6.coverage.out.csv', 'df9f8c80-c622-11e3-bf01-24c6515278c0.coverage.out.csv', 'a47c2012-c13d-48ac-88b6-e09bfd50122b.coverage.out.csv', 'f2b2111c-c622-11e3-bf01-24c6515278c0.coverage.out.csv', '1e2dcbcc-771c-43c5-8c8d-e0eb77cb3494.coverage.out.csv', 'ec399861-7a56-4ffd-8619-700b6e3a4367.coverage.out.csv', 'f0e0d978-3e32-4444-a07a-26049b2594e6.coverage.out.csv', '5c9b8a2c-c623-11e3-bf01-24c6515278c0.coverage.out.csv', 'e7c90af0-4b03-453e-b44f-e07248415088.coverage.out.csv', '796a8782-6d7e-47c8-b322-fcfe1dd240c8.coverage.out.csv', '97a6f44a-c622-11e3-bf01-24c6515278c0.coverage.out.csv', 'bb65d670-0411-4fc5-a6cb-019caec1ab36.coverage.out.csv', '760881cc-c623-11e3-bf01-24c6515278c0.coverage.out.csv', '7bdcb78a-c623-11e3-bf01-24c6515278c0.coverage.out.csv', '39458b0e-c623-11e3-bf01-24c6515278c0.coverage.out.csv', '60f81dba-c623-11e3-bf01-24c6515278c0.coverage.out.csv', '7034e5f6-c623-11e3-bf01-24c6515278c0.coverage.out.csv', '2109e1d4-c623-11e3-bf01-24c6515278c0.coverage.out.csv', '6f395380-c623-11e3-bf01-24c6515278c0.coverage.out.csv', 'bcc74a5e-c622-11e3-bf01-24c6515278c0.coverage.out.csv', '7512b38c-c623-11e3-bf01-24c6515278c0.coverage.out.csv', 'e4fd1b3e-c622-11e3-bf01-24c6515278c0.coverage.out.csv']\n",
      "['7ae872a6-c623-11e3-bf01-24c6515278c0', '4ef20a13-f107-4654-adca-fc60b8f5be47', '79b23f34-c623-11e3-bf01-24c6515278c0', '983c14b8-f35b-497b-9fd4-5e5f5f0a7aa7', '78bc2608-c623-11e3-bf01-24c6515278c0', '7789ef18-c623-11e3-bf01-24c6515278c0', '2584b428-c623-11e3-bf01-24c6515278c0', '50e3a421-9741-4cd8-911b-0f47ca518b6a', '5975deb5-00d2-4d18-b5c0-34ac9947fe11', 'd876d576-c622-11e3-bf01-24c6515278c0', '5a51a6fc-c623-11e3-bf01-24c6515278c0', '56cc8740-b132-4cbc-b513-f0b5b2305ca6', 'df9f8c80-c622-11e3-bf01-24c6515278c0', 'a47c2012-c13d-48ac-88b6-e09bfd50122b', 'f2b2111c-c622-11e3-bf01-24c6515278c0', '1e2dcbcc-771c-43c5-8c8d-e0eb77cb3494', 'ec399861-7a56-4ffd-8619-700b6e3a4367', 'f0e0d978-3e32-4444-a07a-26049b2594e6', '5c9b8a2c-c623-11e3-bf01-24c6515278c0', 'e7c90af0-4b03-453e-b44f-e07248415088', '796a8782-6d7e-47c8-b322-fcfe1dd240c8', '97a6f44a-c622-11e3-bf01-24c6515278c0', 'bb65d670-0411-4fc5-a6cb-019caec1ab36', '760881cc-c623-11e3-bf01-24c6515278c0', '7bdcb78a-c623-11e3-bf01-24c6515278c0', '39458b0e-c623-11e3-bf01-24c6515278c0', '60f81dba-c623-11e3-bf01-24c6515278c0', '7034e5f6-c623-11e3-bf01-24c6515278c0', '2109e1d4-c623-11e3-bf01-24c6515278c0', '6f395380-c623-11e3-bf01-24c6515278c0', 'bcc74a5e-c622-11e3-bf01-24c6515278c0', '7512b38c-c623-11e3-bf01-24c6515278c0', 'e4fd1b3e-c622-11e3-bf01-24c6515278c0']\n"
     ]
    }
   ],
   "source": [
    "coverage_dir = '/storage/home/yur97/scratch/MutSigCV/ICGC_input/tumor_type_coverage/Biliary-AdenoCA'\n",
    "list_file = listdir(coverage_dir)\n",
    "print list_file\n",
    "list_patient_id = []\n",
    "for files in list_file:\n",
    "    patient_id = files.split('.')[0]\n",
    "    list_patient_id.append(patient_id)\n",
    "print list_patient_id"
   ]
  },
  {
   "cell_type": "code",
   "execution_count": 6,
   "metadata": {
    "collapsed": true
   },
   "outputs": [],
   "source": [
    "# this function create a dictionary to store patient coverage values\n",
    "# dict_coverage[gene][zone][categ][patient1] = x\n",
    "def create_coverage_dict(patient_file, dict_coverage):\n",
    "    with open(patient_file, 'r') as read_patient_file:\n",
    "        next(read_patient_file)\n",
    "        patient_csv = csv.reader(read_patient_file, delimiter = '\\t')\n",
    "        for row in patient_csv:\n",
    "            gene,zone,patient,categ1,categ2,categ3,categ4,categ5,categ6,categ7 = row[0:10]\n",
    "            donor = dict_donor[patient]\n",
    "            if gene not in dict_coverage:\n",
    "                dict_coverage[gene] = {}\n",
    "            if zone not in dict_coverage[gene]:\n",
    "                dict_coverage[gene][zone] = {}\n",
    "                dict_coverage[gene][zone][1] = {}\n",
    "                dict_coverage[gene][zone][2] = {}\n",
    "                dict_coverage[gene][zone][3] = {}\n",
    "                dict_coverage[gene][zone][4] = {}\n",
    "                dict_coverage[gene][zone][5] = {}\n",
    "                dict_coverage[gene][zone][6] = {}\n",
    "                dict_coverage[gene][zone][7] = {}\n",
    "\n",
    "            dict_coverage[gene][zone][1][donor] = categ1\n",
    "            dict_coverage[gene][zone][2][donor] = categ2\n",
    "            dict_coverage[gene][zone][3][donor] = categ3\n",
    "            dict_coverage[gene][zone][4][donor] = categ4\n",
    "            dict_coverage[gene][zone][5][donor] = categ5\n",
    "            dict_coverage[gene][zone][6][donor] = categ6\n",
    "            dict_coverage[gene][zone][7][donor] = categ7\n",
    "    \n",
    "    return dict_coverage"
   ]
  },
  {
   "cell_type": "code",
   "execution_count": 7,
   "metadata": {
    "collapsed": true
   },
   "outputs": [],
   "source": [
    "list_file = listdir(coverage_dir)\n",
    "coverage_dict = {}\n",
    "for f in list_file:\n",
    "    absolute_f = join(coverage_dir, f)\n",
    "    coverage_dict = create_coverage_dict(absolute_f, coverage_dict)"
   ]
  },
  {
   "cell_type": "code",
   "execution_count": 8,
   "metadata": {
    "collapsed": true
   },
   "outputs": [],
   "source": [
    "with open(coverage_dir+'/'+'Biliary-AdenoCA_merged.coverage.txt','wb') as merge_f:\n",
    "    merge_f.write('gene'+'\\t'+'zone'+'\\t'+'categ')\n",
    "    for p in list_patient_id:\n",
    "        merge_f.write('\\t'+p)\n",
    "        if p == list_patient_id[-1]:\n",
    "            merge_f.write('\\n')\n",
    "    for genes in coverage_dict:\n",
    "        for zones in coverage_dict[genes]:\n",
    "            for i in coverage_dict[genes][zones]:\n",
    "                merge_f.write(genes+'\\t' + zones +'\\t' + str(i))\n",
    "                for patients in coverage_dict[genes][zones][i]:\n",
    "                    merge_f.write('\\t'+str(coverage_dict[genes][zones][i][patients]))\n",
    "                    if patients == coverage_dict[genes][zones][i].keys()[-1]:\n",
    "                        merge_f.write('\\n')"
   ]
  },
  {
   "cell_type": "code",
   "execution_count": null,
   "metadata": {
    "collapsed": true
   },
   "outputs": [],
   "source": []
  }
 ],
 "metadata": {
  "kernelspec": {
   "display_name": "Python 2",
   "language": "python",
   "name": "python2"
  },
  "language_info": {
   "codemirror_mode": {
    "name": "ipython",
    "version": 2
   },
   "file_extension": ".py",
   "mimetype": "text/x-python",
   "name": "python",
   "nbconvert_exporter": "python",
   "pygments_lexer": "ipython2",
   "version": "2.7.14"
  }
 },
 "nbformat": 4,
 "nbformat_minor": 2
}
