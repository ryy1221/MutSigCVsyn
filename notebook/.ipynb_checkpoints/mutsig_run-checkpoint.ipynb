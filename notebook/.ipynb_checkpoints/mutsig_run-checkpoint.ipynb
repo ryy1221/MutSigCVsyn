{
 "cells": [
  {
   "cell_type": "code",
   "execution_count": 2,
   "metadata": {
    "collapsed": true
   },
   "outputs": [],
   "source": [
    "# This script is for running MutSig \n",
    "import matlab.engine\n",
    "import os\n",
    "import shutil\n",
    "import time\n",
    "import matlab.engine\n",
    "eng = matlab.engine.start_matlab()"
   ]
  },
  {
   "cell_type": "code",
   "execution_count": 3,
   "metadata": {
    "collapsed": true
   },
   "outputs": [],
   "source": [
    "covariates = '../anno_ref/gene.covariates.converted.txt'\n",
    "mut_dic = '../anno_ref/mutation_type_dictionary_file.txt'\n",
    "chain_f = '../anno_ref/chr_files_hg19'\n",
    "org_dir = '../org_cov_maf'\n",
    "his_dir = '../his_cov_maf'\n",
    "out_dir = '../mutsig_out/'"
   ]
  },
  {
   "cell_type": "code",
   "execution_count": 5,
   "metadata": {
    "collapsed": true
   },
   "outputs": [],
   "source": [
    "def runMutSig(org, syn):\n",
    "    \n",
    "    global covariates, mut_dic, chain_f, org_dir,his_dir,out_dir\n",
    "    \n",
    "    # if organ mode than use organ directory, if not then histology directory\n",
    "    if org:\n",
    "        tdir = org_dir\n",
    "    else:\n",
    "        tdir = his_dir\n",
    "    listf = os.listdir(tdir)\n",
    "    \n",
    "    # get input maf and coverage files\n",
    "    for folders in listf:\n",
    "        start = time.time()\n",
    "        organ = folders\n",
    "        \n",
    "        if os.path.isdir(os.path.join(tdir,folders)):\n",
    "            # get input file in folder, set maf and coverage input to false\n",
    "            list_input = os.listdir(os.path.join(tdir, folders))\n",
    "            maf_input = False\n",
    "            cov_input = False\n",
    "            # find inputs\n",
    "            for fs in list_input:\n",
    "                if fs.endswith('maf'):  # maf file\n",
    "                    maf_input = os.path.join(tdir, folders, fs)\n",
    "                elif fs == 'merged_'+organ+'.txt':\n",
    "                    cov_input = os.path.join(tdir, folders, fs)\n",
    "                elif fs.startswith('.'):\n",
    "                    pass\n",
    "                \n",
    "            # check if both input exists\n",
    "            if not (maf_input and cov_input):\n",
    "                print \"NO COVERAGE OR NO MAF FILE: \" + organ\n",
    "                continue\n",
    "\n",
    "            # if syn\n",
    "            if syn:\n",
    "                out_p = os.path.join(out_dir,'syn','out08262020', organ, organ)\n",
    "                try:\n",
    "                    list_out = os.listdir(os.path.join(out_dir,'syn','out08262020', organ))\n",
    "                    if organ+'.sig_genes.txt' in list_out:\n",
    "                        print \"NOT RUNNING DONE FOR: \"+organ\n",
    "                        continue\n",
    "                except OSError:\n",
    "                    pass\n",
    "                # run matlab code\n",
    "                eng.cd(r'../mutsigsyn/', nargout = 0)\n",
    "                eng.MutSigCVs_nbg(maf_input,cov_input, covariates, out_p, mut_dic, chain_f, nargout = 0)\n",
    "                end = time.time()\n",
    "                print \"TIME USED FOR \"+ organ+ \" is \"+ str(end-start)\n",
    "                \n",
    "            else:\n",
    "                out_p = os.path.join(out_dir,'nsyn','out08262020', organ, organ)\n",
    "                try:\n",
    "                    list_out = os.listdir(os.path.join(out_dir,'nsyn','out08262020', organ))\n",
    "                    if organ+'.sig_genes.txt' in list_out:\n",
    "                        print \"NOT RUNNING DONE FOR: \"+organ\n",
    "                        continue\n",
    "                except OSError:\n",
    "                    pass\n",
    "                # run matlab code\n",
    "                eng.cd(r'../mutsig/', nargout = 0)\n",
    "                eng.MutSigCV_nbg(maf_input,cov_input, covariates, out_p, mut_dic, chain_f, nargout = 0)\n",
    "                end = time.time()\n",
    "                print \"TIME USED FOR \"+ organ+ \" is \"+ str(end-start)"
   ]
  },
  {
   "cell_type": "code",
   "execution_count": 8,
   "metadata": {},
   "outputs": [
    {
     "name": "stdout",
     "output_type": "stream",
     "text": [
      "DONE FOR: Ovary\n",
      "DONE FOR: Thy\n",
      "DONE FOR: Biliary\n",
      "DONE FOR: Breast\n",
      "DONE FOR: Panc\n",
      "DONE FOR: Lung\n",
      "DONE FOR: Liver\n",
      "DONE FOR: CNS\n",
      "DONE FOR: Lymph\n",
      "DONE FOR: Bone\n"
     ]
    },
    {
     "ename": "OSError",
     "evalue": "[Errno 2] No such file or directory: '../mutsig_out/syn/out08262020/ColoRect'",
     "output_type": "error",
     "traceback": [
      "\u001b[0;31m\u001b[0m",
      "\u001b[0;31mOSError\u001b[0mTraceback (most recent call last)",
      "\u001b[0;32m<ipython-input-8-1c8d094ab742>\u001b[0m in \u001b[0;36m<module>\u001b[0;34m()\u001b[0m\n\u001b[0;32m----> 1\u001b[0;31m \u001b[0mrunMutSig\u001b[0m\u001b[0;34m(\u001b[0m\u001b[0morg\u001b[0m\u001b[0;34m=\u001b[0m\u001b[0mTrue\u001b[0m\u001b[0;34m,\u001b[0m \u001b[0msyn\u001b[0m \u001b[0;34m=\u001b[0m \u001b[0mTrue\u001b[0m\u001b[0;34m)\u001b[0m\u001b[0;34m\u001b[0m\u001b[0m\n\u001b[0m",
      "\u001b[0;32m<ipython-input-5-2efe7382d9a1>\u001b[0m in \u001b[0;36mrunMutSig\u001b[0;34m(org, syn)\u001b[0m\n\u001b[1;32m     37\u001b[0m             \u001b[0;32mif\u001b[0m \u001b[0msyn\u001b[0m\u001b[0;34m:\u001b[0m\u001b[0;34m\u001b[0m\u001b[0m\n\u001b[1;32m     38\u001b[0m                 \u001b[0mout_p\u001b[0m \u001b[0;34m=\u001b[0m \u001b[0mos\u001b[0m\u001b[0;34m.\u001b[0m\u001b[0mpath\u001b[0m\u001b[0;34m.\u001b[0m\u001b[0mjoin\u001b[0m\u001b[0;34m(\u001b[0m\u001b[0mout_dir\u001b[0m\u001b[0;34m,\u001b[0m\u001b[0;34m'syn'\u001b[0m\u001b[0;34m,\u001b[0m\u001b[0;34m'out08262020'\u001b[0m\u001b[0;34m,\u001b[0m \u001b[0morgan\u001b[0m\u001b[0;34m,\u001b[0m \u001b[0morgan\u001b[0m\u001b[0;34m)\u001b[0m\u001b[0;34m\u001b[0m\u001b[0m\n\u001b[0;32m---> 39\u001b[0;31m                 \u001b[0mlist_out\u001b[0m \u001b[0;34m=\u001b[0m \u001b[0mos\u001b[0m\u001b[0;34m.\u001b[0m\u001b[0mlistdir\u001b[0m\u001b[0;34m(\u001b[0m\u001b[0mos\u001b[0m\u001b[0;34m.\u001b[0m\u001b[0mpath\u001b[0m\u001b[0;34m.\u001b[0m\u001b[0mjoin\u001b[0m\u001b[0;34m(\u001b[0m\u001b[0mout_dir\u001b[0m\u001b[0;34m,\u001b[0m\u001b[0;34m'syn'\u001b[0m\u001b[0;34m,\u001b[0m\u001b[0;34m'out08262020'\u001b[0m\u001b[0;34m,\u001b[0m \u001b[0morgan\u001b[0m\u001b[0;34m)\u001b[0m\u001b[0;34m)\u001b[0m\u001b[0;34m\u001b[0m\u001b[0m\n\u001b[0m\u001b[1;32m     40\u001b[0m                 \u001b[0;32mif\u001b[0m \u001b[0morgan\u001b[0m\u001b[0;34m+\u001b[0m\u001b[0;34m'.sig_genes.txt'\u001b[0m \u001b[0;32min\u001b[0m \u001b[0mlist_out\u001b[0m\u001b[0;34m:\u001b[0m\u001b[0;34m\u001b[0m\u001b[0m\n\u001b[1;32m     41\u001b[0m                     \u001b[0;32mprint\u001b[0m \u001b[0;34m\"DONE FOR: \"\u001b[0m\u001b[0;34m+\u001b[0m\u001b[0morgan\u001b[0m\u001b[0;34m\u001b[0m\u001b[0m\n",
      "\u001b[0;31mOSError\u001b[0m: [Errno 2] No such file or directory: '../mutsig_out/syn/out08262020/ColoRect'"
     ]
    }
   ],
   "source": [
    "runMutSig(org=True, syn = False)"
   ]
  }
 ],
 "metadata": {
  "kernelspec": {
   "display_name": "Python 2",
   "language": "python",
   "name": "python2"
  },
  "language_info": {
   "codemirror_mode": {
    "name": "ipython",
    "version": 2
   },
   "file_extension": ".py",
   "mimetype": "text/x-python",
   "name": "python",
   "nbconvert_exporter": "python",
   "pygments_lexer": "ipython2",
   "version": "2.7.14"
  }
 },
 "nbformat": 4,
 "nbformat_minor": 2
}
