{
 "cells": [
  {
   "cell_type": "markdown",
   "metadata": {},
   "source": [
    "*** \n",
    "**Date: Monday, Apr 26 2021**  \n",
    "<span style=\"color:red\">Goal: Finish running MutSigCVsyn nonexp across all tumor types</span>  \n",
    "<span style=\"color:pink\">Further Goal: Make p-val adjustment(I think this will not be so bad as long as I figured out the calculation)</span>  \n",
    "Progress:  \n",
    "1. Trim MAF and coverage files\n",
    "    - Found that some tumor types almost includes all genes?  \n",
    "        For example RNF14 - ENSG00000013561 not included in the Ovary list at all  \n",
    "        It's the problem in R script. Mapping Ensembl gene code after bioMart solved the problem\n",
    "2. No Myeloid expression data, use non-exp genes in Lymphoma\n",
    "3. Can't import Matlab engine in python... As there's also problems with python version, I'll write a script submit this as a job  -- solved by running script\n",
    "4. Due to little number of non exp genes, there are organs don't have enough mutations to analyze. \n",
    "    - First catch errors and continue run othor tumor types\n",
    "    - Consider loosen the non exp FPKM-UQ threshold, *if loosen threshold, a comparison of distribution should be made*\n",
    "    - <mark>Only Thy doesn't have enough mutations to analyze</mark>\n",
    "\n",
    "\n"
   ]
  },
  {
   "cell_type": "markdown",
   "metadata": {},
   "source": [
    "*** \n",
    "**Date: Tuesday, Apr 27 2021**  \n",
    "<span style=\"color:red\">Goal1: Send update about MutSigsyn and lossy before noon</span>  \n",
    "<span style=\"color:red\">Goal2: Prepare for journal club afternoon</span>  \n",
    "Progress:\n",
    "1. Learn Bayesian estimation for hypothesis testing\n",
    "    - I know what to do! First need to fit the distribution\n",
    "        Useful resouces on distributions:\n",
    "        1. [Statsmodel kernel estimation - nonparametric](https://www.statsmodels.org/devel/examples/notebooks/generated/kernel_density.html) However, this doesn't fit very well because our log pval is 0-inflated\n",
    "        2. [wiki of kernel density estimation](https://en.wikipedia.org/wiki/Kernel_density_estimation)\n",
    "        3. [MATLAB kde - nonparametric/semiparametric](https://www.mathworks.com/help/stats/nonparametric-estimates-of-cumulative-distribution-functions-and-their-inverses.html)\n",
    "        4. [An in-depth data analysis example of kde in python](https://jakevdp.github.io/PythonDataScienceHandbook/05.13-kernel-density-estimation.html)\n",
    "        5. [R BEZI function page](http://finzi.psych.upenn.edu/library/gamlss.dist/html/BEZI.html#:~:text=The%20zero%2Dinflated%20beta%20is,Cribari%2DNeto%2C%202004).) [Another BEZI page](https://rdrr.io/cran/gamlss.dist/man/BEZI.html#:~:text=The%20function%20BEZI()%20defines,parameter%20distribution%2C%20for%20a%20gamlss.&text=This%20distribution%20is%20an%20extension,Cribari%2DNeto%2C%202004).)\n",
    "        6. [R seme parametric kde](https://cran.r-project.org/web/packages/KSPM/vignettes/vignetteKSPM.html)\n",
    "    - Fit to 1 inflated model (raw p value) in R\n"
   ]
  },
  {
   "cell_type": "markdown",
   "metadata": {},
   "source": [
    "*** \n",
    "**Date: Friday, Apr 30 2021**  \n",
    "<span style=\"color:red\">Goal1: Figure out how to calculate p-val and have meeting</span>  \n",
    "<span style=\"color:pink\">Further Goal1: BCL2 BH4 domain enrichment analysis</span>  \n",
    "<span style=\"color:red\">Goal2: Move on with lossy figure integration</span>  \n",
    "Progress:\n",
    "1. Previously, fitting pval to 1 inflated beta distribution doesn't make much sense\n",
    "    - Weirdly, the model inflated at 0 more in null than in all gene model\n",
    "    - In addition, I don't know if I'm calculating correctly...\n",
    "2. Aftermeeting\n",
    "    - Use ecdf to estimate distribution, pay attention to the tail estimation on the zero end  \n",
    "    [R ecdf function](https://www.rdocumentation.org/packages/stats/versions/3.6.2/topics/ecdf)  \n",
    "    [This kde function give kernel estimated cdf and pdf, however it doesn't fit the distribution but only gives you values at each point.And not successful at estimation of nonexp distribution ](https://www.rdocumentation.org/packages/stats/versions/3.6.2/topics/ecdf)\n",
    "    - Use cdf to calculate probability density\n",
    "    - Specify prior probability for the calculation.\n",
    "3. [Use kCDF function and estimate value at the p-val position](https://search.r-project.org/CRAN/refmans/sROC/html/kCDF.html)\n",
    "    - The calculate FDR is not acsending or descending.\n",
    "    - The FDR depends on bandwidth a lot. Is it a point for adjusting sample size?"
   ]
  },
  {
   "cell_type": "markdown",
   "metadata": {},
   "source": [
    "*** \n",
    "**Date: Saturday, May 1 2021**  \n",
    "<span style=\"color:red\">Goal1: FDR for other tumors</span>  \n",
    "<span style=\"color:pink\">Further Goal1: BCL2 BH4 domain enrichment analysis</span>  \n",
    "Progress:\n",
    "1. Got a reasonable result with bandwidth 0.005 for kCDF function. \n",
    "    - Should I have different threshold for different tumor types?\n",
    "    - What FDR value should I aim for?\n",
    "2. So I'm loosenning the cut-off of FPKM-UQ .5 to 1 so that we can include \n",
    "    - Not so many more genes included, around 1000 more. \n",
    "    - Move control output and all gene output to one directory"
   ]
  },
  {
   "cell_type": "markdown",
   "metadata": {},
   "source": [
    "*** \n",
    "**Date: Sunday, May 2 2021**  \n",
    "<span style=\"color:red\">Goal1: FDR for other tumors</span>  \n",
    "<span style=\"color:red\">Goal2: Read Bo's email and do lossay work</span>  \n",
    "Progress:\n",
    "1. Yesterday ran MutSigCVsyn nonexp with FPKM-UQ =1 But Thy still didn't pass 50 mutation threshold. Today run cut off <5\n",
    "    - 0426 cutoff 0.5; 0501 cutoff 1; 0502 cutoff 5\n",
    "    - tbn, the cutoff 5 seems too large, lymph has ~10000(nearly half genes) as control\n",
    "2. Run MutSigCVsyn on cut-off 5 and copied all sig gene files into one directory"
   ]
  },
  {
   "cell_type": "markdown",
   "metadata": {},
   "source": [
    "*** \n",
    "**Date: Monday, May 3 2021**  \n",
    "<span style=\"color:red\">Goal1: FDR for other tumors</span>  \n",
    "<span style=\"color:pink\">Further Goal1: BH4 domain enrichment analysis</span> \n",
    "<span style=\"color:red\">Goal2: Read Bo's email and do lossay work</span>  \n",
    "Progress:\n",
    "1. Did 3 cut-offs. \n",
    "    - log10 p val may fits better\n",
    "    - In many tumors, The null is also very high. Especially the tail. Looking at individual tumors.\n",
    "    - Notice that it's not gaussian esitmation but normal estimation. Does it affect?"
   ]
  },
  {
   "cell_type": "markdown",
   "metadata": {},
   "source": [
    "**Date: Tuesday, May 4 2021**  \n",
    "<span style=\"color:red\">Goal1: FDR for other tumors</span>  \n",
    "<span style=\"color:pink\">Further Goal1: BH4 domain enrichment analysis</span> \n",
    "<span style=\"color:red\">Goal2: Read Bo's email and do lossay work</span>  \n",
    "Progress:\n",
    "1. I did fit but the result looks not correct:\n",
    "    - The cdf have to be very smooth(overfit problem)\n",
    "    - Top gene is not expressed\n",
    "    - use same run of p-val to adjust?\n",
    "    - use non-expressed v.s. all or non-expressed v.s. expressed?"
   ]
  },
  {
   "cell_type": "markdown",
   "metadata": {},
   "source": [
    "**Date: Wednesday, May 5 2021**  \n",
    "<span style=\"color:red\">Goal1: Plot distribution for all indications and output files for r processing</span>  \n",
    "Progress:\n",
    "1. Realize that there is a bug on appending non-exp genes\n",
    "    - Therefore fixed the bug, re idendity common nonexpressed genes\n",
    "2. Successfully estimated cdf and calculated FDR"
   ]
  },
  {
   "cell_type": "markdown",
   "metadata": {},
   "source": [
    "**Date: Thursday, May 6 2021**  \n",
    "<span style=\"color:red\">Goal1: Plot and analyze the heatmap</span>  \n",
    "Progress:\n",
    "1. Calculated the FDR yesterday using common nonexp across all indications.\n",
    "2. Noticed that the proto cadherin genes ranked top, should I drop them at the final result or drop them during the analysis?\n",
    "    - 43 genes left significant if dropping PCDH gene family\n",
    "    - If take it out before, what if people argue that why don't you put them into false positive?"
   ]
  },
  {
   "cell_type": "markdown",
   "metadata": {},
   "source": [
    "***\n",
    "**Date: Monday, May 10 2021**  \n",
    "<span style=\"color:red\">Goal1: Compute mutational heterogeneity(global and reginal), give a plan</span>  \n",
    "<span style=\"color:red\">Goal2: BH4 mutation vector for tomorrow</span>  \n",
    "<span style=\"color:pink\">Further Goal: Organize the code better</span>\n",
    "Progress:\n",
    "1. First check MutSig paper and the paper containing regional mutation rate, see what statistics they use\n",
    "    - How to calulate mutation frequency??? by gene? or just divided by 10Mb?\n",
    "    - If PCAWG already have it calculated?\n",
    "        PCAWG has the coding mutations count, but not break down to synonymous etc.\n",
    "    - Take coverage information into account?, no coverage, no mutation?\n",
    "2. I decided to first write a script, run through all MAF files, store cancer types, patient name, #syn,#nsyn #noncoding(UTR, intron) mutation\n",
    "    - 3*10^7 is the denominator for TCGA, note it's just exome frequency\n",
    "    - Maybe I don't need to calculate denominator, just leave it there for now, because for non-coding, nonsynonymous,the denominators are the same \n"
   ]
  },
  {
   "cell_type": "markdown",
   "metadata": {},
   "source": [
    "***\n",
    "**Date: Thursday, May 13 2021**  \n",
    "<span style=\"color:red\">Goal1: Plot mutation heterogeneity plot</span>  \n",
    "<span style=\"color:red\">Goal2: Plot Venn Diagram</span>  \n",
    "Progress:\n",
    "1. Calculate the synonymous mutation background.\n",
    "\n",
    "2. I decided to first write a script, run through all MAF files, store cancer types, patient name, #syn,#nsyn #noncoding(UTR, intron) mutation\n",
    "    - 3*10^7 is the denominator for TCGA, note it's just exome frequency\n",
    "    - Maybe I don't need to calculate denominator, just leave it there for now, because for non-coding, nonsynonymous,the denominators are the same \n"
   ]
  },
  {
   "cell_type": "markdown",
   "metadata": {},
   "source": [
    "***\n",
    "**Date: Monday, May 17 2021**  \n",
    "<span style=\"color:red\">Goal1: Plot dN/dS mutation plot</span>  \n",
    "<span style=\"color:red\">Goal2: Plot local mutation plot</span>  \n",
    "<span style=\"color:red\">Goal3: Correct Venn diagram</span>  \n",
    "<span style=\"color:red\">Goal4: Finish Bo project</span>  \n",
    "Progress:\n",
    "1. As in Universal patters of selection in cancer and somatic tissues, word describe dN/dS (also called Ka/Ks) is the ratio between the rate of non-synonymous substitutions per non-synonymous site and the rate of synonymous substitutions per synonymous site.\n",
    "    - Change calulation matric to 1/3, that is, one mut base only account for 1/3 in one position\n",
    "    - Method for estimating dN/dS? [Found a paper](https://watermark.silverchair.com/4nei.pdf?token=AQECAHi208BE49Ooan9kkhW_Ercy7Dm3ZL_9Cf3qfKAc485ysgAAAqUwggKhBgkqhkiG9w0BBwagggKSMIICjgIBADCCAocGCSqGSIb3DQEHATAeBglghkgBZQMEAS4wEQQM1dl5tBBPVE2b-inqAgEQgIICWBkKrwbQNRZRPU8BR1gZu1EzCAAy8yNz6GodJxP4qhS4X-NwG31dSfX1s7km_eWekoKx8KPmizclbg-SBMUOnRIfVpm044JmA-OiBP0fxpYddQG0RbNfRi0Nyc1qSn4NTqm7pawpj3nO8Nzp7AYyRYi7E63lZtaIhoJKfvUFjWfmLSLH1Z_2bp74rbDZR7cfavoob7C2MDPryWq1VLZ3ZUVLSPeewYSTK5w59OowUpDx4N-uGPTMsBSJ03HpJx3qlCi0yl5qyP7tFQLFvaCsENBVN2qroejiqwEwXXKmALCD6e-2Td7Hz3R9V0UG_sY9HJesc3OqqezXrGSJ7HN9EcAjUPqVmt4mFqNQNne-zus4QRwmgUOcQEsBctmvF0PtxOUJAVQN6bRd_ecLlU5WeUeNO2PhIoWT5dLJ_6LIHUpM6uLmx4_Rr_sqiVsWH09i2U7j830excJEVmiOWcAxPG2Pt4UiRFEkp-Y-4uPEZto8pYYnRvsfFCk84KlO1fql13lvromLXp1oG2FjCogZqZmykiQ60xlVRCufWoxxW3Is5cU2U_rZf_Il4bx1RyBbklDLCKUgrfNbAkx-PDeoAdRJnjgcgF8_T8pqlDIYrisH_T6wINIePxxsIBNaMk8v7ZI257-WIdVQr1PN3GhBCYd8xgEQfeb7EpfYg2P0wd5CPXO3qDqJZAmPu_bfi499gkoc4SxV7dL1-uSeTzrSlJWMLNJ3cgQ3L91fMZnw5lB6pJmIr8kBDJoOu_gbvMnqgUsgYdP45PgDU-4CinojoNLfjRNBL6Xqxg)\n",
    "   \n",
    "    \n",
    "    \n"
   ]
  },
  {
   "cell_type": "markdown",
   "metadata": {},
   "source": [
    "***\n",
    "**Date: Tuesday, May 18 2021**  \n",
    "<span style=\"color:red\">Goal1: Plot local mutation plot</span>  \n",
    "<span style=\"color:red\">Goal2: Correct Venn diagram</span>  \n",
    "<span style=\"color:red\">Goal3: Examine Heatmap</span>  \n",
    "<span style=\"color:red\">Goal4: Generate cytoscape file for Pia</span>  \n",
    "Progress:  \n",
    "1. Now we can plot the line plot, questions:\n",
    "    - Y axis is mutation frequency? "
   ]
  },
  {
   "cell_type": "markdown",
   "metadata": {},
   "source": [
    "***\n",
    "**Date: Wednesday, May 19 2021**  \n",
    "<span style=\"color:red\">Goal1: Plot local mutation plot, yesterday didn't finish running </span>  \n",
    "<span style=\"color:red\">Goal2: Correct Venn diagram</span>  \n",
    "<span style=\"color:red\">Goal3: Examine Heatmap</span>  \n",
    "<span style=\"color:red\">Goal4: Generate cytoscape file for Pia</span>  \n",
    "Progress:  \n",
    "1. Successfully plot line plot yesterday. However, maybe we need non-coding and other tumor types. \n",
    "    - A longer inteval(10Mbp) will save computing time. Or we can compute shorter 1Mbpss\n",
    "    - Solved with submitting pbs jobs.\n",
    "    - Add calculation of all mutations\n",
    "2. About Cytoscape file, use filter to select network. Use an original column as key.  \n",
    "    -Only nodes that are hits?\n",
    "    -All hits or just hits in a day？"
   ]
  },
  {
   "cell_type": "markdown",
   "metadata": {},
   "source": [
    "***\n",
    "**Date: Monday, June 7 2021**  \n",
    "<span style=\"color:red\">Goal1: Get heatmap of histology run, reason why nonexp rank high, correct FDR </span>  \n",
    "<span style=\"color:red\"><s>Goal2: Generate table expression regression for VCAN</s></span>  \n",
    "Progress:  \n",
    "1. Finish organizing VCAN table, next can do for other genes\n",
    "2. Found CCDC168 has very low p-vals that will affect FDR. \n",
    "    - Reason previously not found: One more patient add in, the gene is not bad gene any more?\n",
    "        - WHY previously not included? -- I exclude the last patient for every tumor type because of a typo?\n",
    "        - WHY there's bad genes?\n",
    "    - Potential solution if this is true: Correct for histology type specific with nonexp genes"
   ]
  },
  {
   "cell_type": "markdown",
   "metadata": {},
   "source": [
    "***\n",
    "**Date: Wednesday, June 9 2021**  \n",
    "<span style=\"color:red\">Goal1: Run histology, get heatmap and send email </span>  \n",
    "<span style=\"color:red\">Goal2: Schedule meeting with Justin for the FDR correction</span>  \n",
    "Progress:  \n",
    "1. Find some conflict between gene dictionary in dict_gene and coverage file -- should not affect, later\n",
    "2. Finish finding the low ncdcov quality genes, with criteria:\n",
    "    - ncd region length <100\n",
    "    - exon/ncd length ratio >10\n",
    "    - coverage rate < 1/1000bp\n",
    "3. filtered low quality genes in P3"
   ]
  },
  {
   "cell_type": "markdown",
   "metadata": {},
   "source": [
    "***\n",
    "**Date: Monday, June 14 2021**  \n",
    "<span style=\"color:red\">Goal1: Finish melanoma nsyn and reply to email </span>  \n",
    "<span style=\"color:red\">Goal2: Start writing results?</span>  \n",
    "Progress:  \n",
    "1. There are a few work to do so far:\n",
    "    1. Change the format of figures -- Doable\n",
    "    2. Run cohorts -- waiting for genes filtered\n",
    "    3. Regression analysis -- Doable\n",
    "    4. Writing method -- Doable"
   ]
  },
  {
   "cell_type": "markdown",
   "metadata": {},
   "source": [
    "***\n",
    "**Date: Wednesday, June 16 2021**  \n",
    "<span style=\"color:red\"><s>Goal1: Ask Judith about how to buy supplies</s></span>  \n",
    "<span style=\"color:red\"><s>Goal2: Finish melanoma nsyn and hold?reply to email</s></span>  \n",
    "<span style=\"color:red\">Goal3: Start writing Method</span>  \n",
    "<span style=\"color:red\">Goal4: I need to recheck the gene list in gene annotation, coverage file and covariate file.</span>   \n",
    "<span style=\"color:red\">Goal5: Email my understanding of the bagels</span>  \n",
    "Progress:  \n",
    "1. About Goal5, we just need argument about how genes have or not have covariates affect the result.\n",
    "\n"
   ]
  },
  {
   "cell_type": "markdown",
   "metadata": {},
   "source": [
    "***\n",
    "**Date: Thursday, June 17 2021**  \n",
    "<span style=\"color:red\">Goal1: Let update the format of figures</span>   \n",
    "<span style=\"color:pink\">Further Goal1: Filter the gene by your understanding and run MutSig</span>  \n",
    "<span style=\"color:pink\">Further Goal2: Run regression analysis</span>\n",
    "\n",
    "Progress:  \n",
    "1. Let's do regression first because I don't actually remember the figure comment"
   ]
  },
  {
   "cell_type": "markdown",
   "metadata": {},
   "source": [
    "***\n",
    "**Note for this weekend**\n",
    "1. recheck the gene list in gene annotation, coverage file and covariate file\n",
    "    - Try run coverage calculation see why there's extra genes. Maybe because the gene list is not complete in the first run\n",
    "    - I can run the coverage pipeline but will just filter the genes?\n",
    "    - No try run 1 pipelien see if it get through\n",
    "2. The method for choosing bandwith, the p/value or test statistics, send material to Justin\n",
    "3. New run on new threshold\n",
    "    - Found that the genes in strict threshold also include some genes that not change length\n",
    "    - Why not exclude the genes change length? directly or from the previous genes?\n",
    "    - Still about extremely short genes: remap the covariate file and do a run with only genes with covariates? What did BROAD do with the genes ?(Okay they don't have to because silent is also the background)\n",
    "    - How did PCAWG use MutSig?\n",
    "4. Don't need to exclude the genes that not included in covariates\n",
    "3. Pia model(best run on Friday)\n",
    "4. upload current code to gitlab(best run on Friday)"
   ]
  },
  {
   "cell_type": "markdown",
   "metadata": {},
   "source": [
    "***\n",
    "**Date: Monday, June 21 2021**  \n",
    "3 things to consider  \n",
    "1. Update the format of figures - can do anytime\n",
    "2. About the gene lists:\n",
    "    1. Run coverage again to confirm if all genes currently in the intersection can find coverage\n",
    "    2. Gene prefiltering: What to do about the extremely short genes? \n",
    "        1. Filter by strict filter, but can not prove why we filter them\n",
    "        2. Filter by GRCh38 37 difference, but theses genes still not getting filtered\n",
    "        3. Short gene, don't have enough background mutation information --- see what PCAWG did  \n",
    "\n",
    "Update:  \n",
    "1. The 19040 genes should all be in coverage file  \n",
    "    1. Let's check if the genes are in the current coverage file, No, okay I have to add the coverage of those genes Steps are:  \n",
    "        1. Decompress coverage file\n",
    "        2. Process patient 0 position file (pickle them this time) (need to double check if the covarage calculation is correct)\n",
    "        3. Calculate coverage\n",
    "\n",
    "2. The filter for the short genes: (New run 062121)\n",
    "    - We filter genes with extremely small non-coding regions (Show The scatter plot)\n",
    "    - And we find many of the genes have inconsistent assembly\n",
    "    - Are there any bad genes in the new run?\n",
    "\n",
    "Today's finding:  \n",
    "Found the bug happens in mutation type dictionary, which labels flank, IGR as noncoding mutations  \n",
    "Rerun without these mutations  \n",
    "But I think this will not solve the problem of short noncoding region"
   ]
  },
  {
   "cell_type": "markdown",
   "metadata": {},
   "source": [
    "***\n",
    "This solved the problem of short noncoding region, but why?  \n",
    "**Date: Tuesday, June 22 2021**  \n",
    "<span style=\"color:red\">Goal1: Update the result of new run, update the FDR correction figure</span>   \n",
    "<span style=\"color:red\">Further Goal1: Findout why the small ncd genes are not ranked top, prepare E-mail</span>  \n",
    "<span style=\"color:red\">Goal2: Run patient 0 position analysis for coverage calculation, also check patients</span>   \n",
    "<span style=\"color:red\">Goal3: Figure update for local mutation rate</span>   \n",
    "\n",
    "1. About bandwidth, as we don't have a true dataset, we can not do cross validation.\n",
    "3. Missed one patients, running the example for genome tracks, roughly know what happend\n"
   ]
  },
  {
   "cell_type": "markdown",
   "metadata": {},
   "source": [
    "***\n",
    "**Date: Thursday, June 24 2021**  \n",
    "<span style=\"color:red\">Goal1: Make other FDR correction figures(CDF) for tumor types?</span>   \n",
    "<span style=\"color:red\">Goal2: Update figures.pdf</span>   \n",
    "<span style=\"color:red\">Goal3: Find materials for the FDR calculation</span>   \n",
    "<span style=\"color:red\">Goal4: Reply nabeel email</span>   \n",
    "\n",
    "1. Likely because of big observed mutation score. If the gene has 0 background mutation, the observed score won't be so big\n",
    "2. Re-submit the job of background analysis\n",
    "3. Draw genome track with R?  -- created a new environment(new-env) with gviz, remember to add python 3.6\n",
    "4. The FDR calculation... The problem is not with p-value, is that I didn't find any analysis use kcdf to estimate a null distribution, as when people correct p-value, they assume it follows null distribution(0,1). Switch back to a naive bayes model?? in FDR control chapter efron book"
   ]
  },
  {
   "cell_type": "markdown",
   "metadata": {},
   "source": [
    "***\n",
    "**Date: Tuesday, June 28 2021**  \n",
    "<span style=\"color:red\">Goal1: Update figures.pdf</span>   \n",
    "<span style=\"color:red\">Goal2: New coverage calculation for patients</span>   \n",
    "<span style=\"color:red\">Goal3: Write method?</span>  \n",
    "\n",
    "1. I still need to think about the background mutation rate.\n",
    "2. First check the coverage calculation progress"
   ]
  },
  {
   "cell_type": "markdown",
   "metadata": {},
   "source": [
    "***\n",
    "**Date: Friday, July 2 2021**  \n",
    "<span style=\"color:red\">Goal1: PC9 prediction?</span>   \n",
    "<span style=\"color:red\">Goal2: New coverage calculation for patients</span>   \n",
    "<span style=\"color:red\">Goal3: Write method?</span>  \n"
   ]
  },
  {
   "cell_type": "markdown",
   "metadata": {},
   "source": [
    "***\n",
    "**Date: Saturday, July 3 2021**  \n",
    "<span style=\"color:red\">Goal1: PC9 prediction?</span>  \n",
    "1. need the genes corresponding to the scores, swipe the scores for those genes then predict as before  \n",
    "<span style=\"color:red\">Goal2: New coverage calculation for patients</span>  \n",
    "1. Started new jobs for patients  \n",
    "<span style=\"color:red\">Goal3: Write method? update figures?</span>  \n",
    "1. draw the method figure and update MutSigCVsyn method session?"
   ]
  }
 ],
 "metadata": {
  "kernelspec": {
   "display_name": "Python 3",
   "language": "python",
   "name": "python3"
  },
  "language_info": {
   "codemirror_mode": {
    "name": "ipython",
    "version": 3
   },
   "file_extension": ".py",
   "mimetype": "text/x-python",
   "name": "python",
   "nbconvert_exporter": "python",
   "pygments_lexer": "ipython3",
   "version": "3.8.3"
  }
 },
 "nbformat": 4,
 "nbformat_minor": 4
}
