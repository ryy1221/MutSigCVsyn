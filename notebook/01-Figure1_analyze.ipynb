{
 "cells": [
  {
   "cell_type": "code",
   "execution_count": 2,
   "metadata": {},
   "outputs": [],
   "source": [
    "# this code plot the distribution of PCAWG sample snv numbers\n",
    "# Author: Yiyun\n",
    "import pandas as pd\n",
    "import os, pickle, time\n",
    "from tqdm import tqdm\n",
    "import seaborn as sns\n",
    "import numpy as np\n",
    "from multiprocessing import Pool\n",
    "from collections import Counter\n",
    "from utils import *"
   ]
  },
  {
   "cell_type": "code",
   "execution_count": 3,
   "metadata": {
    "tags": []
   },
   "outputs": [],
   "source": [
    "### load file -- pcawg sample info\n",
    "pcawg_info = '../data/anno_refs/PCAWG_sample_info.txt'\n",
    "df_pcawg = pd.read_csv(pcawg_info,sep='\\t')\n",
    "#all gene list\n",
    "lgene = pickle.load(open('../data/proc_refs/gene_name_list_102121.pkl','rb'))# full coverage file"
   ]
  },
  {
   "cell_type": "code",
   "execution_count": 22,
   "metadata": {},
   "outputs": [],
   "source": [
    "# output directory\n",
    "dir_out_figure = '../manuscript/figures_data/'\n",
    "dir_out_table = '../manuscript/tables/'\n",
    "\n",
    "if not os.path.exists(dir_out_figure):\n",
    "    os.makedirs(dir_out_figure)\n",
    "if not os.path.exists(dir_out_table):\n",
    "    os.makedirs(dir_out_table)"
   ]
  },
  {
   "cell_type": "markdown",
   "metadata": {},
   "source": [
    "### 1. Mutation bias bins"
   ]
  },
  {
   "cell_type": "code",
   "execution_count": 31,
   "metadata": {},
   "outputs": [],
   "source": [
    "### Directory for maf file and cohort information\n",
    "dir_maf = '../data/maf/histology_all/'\n",
    "df_cohort = pd.read_csv('../data/proc_refs/histology.csv')\n",
    "lfeat = df_cohort['histology'].unique()\n",
    "\n",
    "# mutation bias bins\n",
    "exome_fcov = '../data/MutSigCVsyn_inputs/exome_full192.coverage.txt'\n",
    "df_fullcov = pd.read_csv(exome_fcov,sep = '\\t')\n",
    "mutbias_tab = df_fullcov['categ'].unique().tolist()\n",
    "mutbias_tab = df_fullcov['categ'].unique().tolist()"
   ]
  },
  {
   "cell_type": "code",
   "execution_count": 32,
   "metadata": {},
   "outputs": [],
   "source": [
    "### Functions of getting contxt and add context into dataframe\n",
    "def get_ctxt(x):\n",
    "    mid_idx = int((len(x)-1)/2)\n",
    "    bidx = mid_idx-1; aidx = mid_idx+1\n",
    "    bb = x[bidx];ref = x[mid_idx];ab = x[aidx]\n",
    "    return bb,ref,ab\n",
    "def get_ctxtdf(feat):   \n",
    "        global dir_maf\n",
    "        #Read maf files\n",
    "        maf = os.path.join(dir_maf,feat+'.csv')\n",
    "        df_maf = pd.read_csv(maf, sep = '\\t')\n",
    "        ldonor = df_maf['Donor_ID'].unique().tolist()\n",
    "        \n",
    "        # Initialize the dataframe\n",
    "        df_org = pd.DataFrame(0,columns = mutbias_tab, index = ldonor)\n",
    "        \n",
    "        # For each donor, get silent mutation bin\n",
    "        for donor in ldonor:\n",
    "            df_donor = df_maf[df_maf['Donor_ID'] == donor]\n",
    "            df_syn = df_donor[df_donor['Variant_Classification'] == 'Silent']\n",
    "            ref = df_syn['Reference_Allele']; alt = df_syn['Tumor_Seq_Allele2']; ctxt = df_syn['ref_context']\n",
    "            old_ctxt = ctxt.apply(get_ctxt)\n",
    "            # Append the list of bins into a list then convert into a count dictionary\n",
    "            ltxt_donor = []\n",
    "            for idx,txt in old_ctxt.items():\n",
    "                txt_change = f'{txt[0]}({ref[idx]}->{alt[idx]}){txt[2]}'\n",
    "                ltxt_donor.append(txt_change.upper())\n",
    "            dict_txt_donor = dict(Counter(ltxt_donor))\n",
    "            # Append count to dataframe\n",
    "            for key in dict_txt_donor:\n",
    "                df_org.loc[donor,key] = dict_txt_donor[key]\n",
    "        df_org['feature'] = feat \n",
    "        print(f'FINISH{feat}')\n",
    "\n",
    "        return df_org"
   ]
  },
  {
   "cell_type": "code",
   "execution_count": 33,
   "metadata": {
    "collapsed": true,
    "jupyter": {
     "outputs_hidden": true
    },
    "tags": []
   },
   "outputs": [
    {
     "name": "stdout",
     "output_type": "stream",
     "text": [
      "FINISHCNS-Oligo\n",
      "FINISHCNS-PiloAstro\n",
      "FINISHThy-AdenoCA\n"
     ]
    },
    {
     "name": "stderr",
     "output_type": "stream",
     "text": [
      "/storage/home/yur97/anaconda3/envs/mSigsyn/lib/python3.6/multiprocessing/process.py:93: DtypeWarning: Columns (17,24) have mixed types.Specify dtype option on import or set low_memory=False.\n",
      "  self._target(*self._args, **self._kwargs)\n"
     ]
    },
    {
     "name": "stdout",
     "output_type": "stream",
     "text": [
      "FINISHPanc-Endocrine\n"
     ]
    },
    {
     "name": "stderr",
     "output_type": "stream",
     "text": [
      "/storage/home/yur97/anaconda3/envs/mSigsyn/lib/python3.6/multiprocessing/process.py:93: DtypeWarning: Columns (17) have mixed types.Specify dtype option on import or set low_memory=False.\n",
      "  self._target(*self._args, **self._kwargs)\n",
      "/storage/home/yur97/anaconda3/envs/mSigsyn/lib/python3.6/multiprocessing/process.py:93: DtypeWarning: Columns (17) have mixed types.Specify dtype option on import or set low_memory=False.\n",
      "  self._target(*self._args, **self._kwargs)\n",
      "/storage/home/yur97/anaconda3/envs/mSigsyn/lib/python3.6/multiprocessing/process.py:93: DtypeWarning: Columns (1,17,24,28,33,34,35,36) have mixed types.Specify dtype option on import or set low_memory=False.\n",
      "  self._target(*self._args, **self._kwargs)\n",
      "/storage/home/yur97/anaconda3/envs/mSigsyn/lib/python3.6/multiprocessing/process.py:93: DtypeWarning: Columns (17) have mixed types.Specify dtype option on import or set low_memory=False.\n",
      "  self._target(*self._args, **self._kwargs)\n",
      "/storage/home/yur97/anaconda3/envs/mSigsyn/lib/python3.6/multiprocessing/process.py:93: DtypeWarning: Columns (17,24) have mixed types.Specify dtype option on import or set low_memory=False.\n",
      "  self._target(*self._args, **self._kwargs)\n",
      "/storage/home/yur97/anaconda3/envs/mSigsyn/lib/python3.6/multiprocessing/process.py:93: DtypeWarning: Columns (1,17,33,34,35,36) have mixed types.Specify dtype option on import or set low_memory=False.\n",
      "  self._target(*self._args, **self._kwargs)\n",
      "/storage/home/yur97/anaconda3/envs/mSigsyn/lib/python3.6/multiprocessing/process.py:93: DtypeWarning: Columns (1,17,33,34,35,36) have mixed types.Specify dtype option on import or set low_memory=False.\n",
      "  self._target(*self._args, **self._kwargs)\n",
      "/storage/home/yur97/anaconda3/envs/mSigsyn/lib/python3.6/multiprocessing/process.py:93: DtypeWarning: Columns (1,17,33,34,35,36) have mixed types.Specify dtype option on import or set low_memory=False.\n",
      "  self._target(*self._args, **self._kwargs)\n",
      "/storage/home/yur97/anaconda3/envs/mSigsyn/lib/python3.6/multiprocessing/process.py:93: DtypeWarning: Columns (17) have mixed types.Specify dtype option on import or set low_memory=False.\n",
      "  self._target(*self._args, **self._kwargs)\n"
     ]
    },
    {
     "name": "stdout",
     "output_type": "stream",
     "text": [
      "FINISHUterus-AdenoCA\n",
      "FINISHHead-SCC\n",
      "FINISHLung-AdenoCA\n"
     ]
    },
    {
     "name": "stderr",
     "output_type": "stream",
     "text": [
      "/storage/home/yur97/anaconda3/envs/mSigsyn/lib/python3.6/multiprocessing/process.py:93: DtypeWarning: Columns (17) have mixed types.Specify dtype option on import or set low_memory=False.\n",
      "  self._target(*self._args, **self._kwargs)\n"
     ]
    },
    {
     "name": "stdout",
     "output_type": "stream",
     "text": [
      "FINISHSoftTissue-Leiomyo\n"
     ]
    },
    {
     "name": "stderr",
     "output_type": "stream",
     "text": [
      "/storage/home/yur97/anaconda3/envs/mSigsyn/lib/python3.6/multiprocessing/process.py:93: DtypeWarning: Columns (1,17,24,33,34,35,36) have mixed types.Specify dtype option on import or set low_memory=False.\n",
      "  self._target(*self._args, **self._kwargs)\n"
     ]
    },
    {
     "name": "stdout",
     "output_type": "stream",
     "text": [
      "FINISHProst-AdenoCA\n"
     ]
    },
    {
     "name": "stderr",
     "output_type": "stream",
     "text": [
      "/storage/home/yur97/anaconda3/envs/mSigsyn/lib/python3.6/multiprocessing/process.py:93: DtypeWarning: Columns (1,17,24,33,34,35,36) have mixed types.Specify dtype option on import or set low_memory=False.\n",
      "  self._target(*self._args, **self._kwargs)\n",
      "/storage/home/yur97/anaconda3/envs/mSigsyn/lib/python3.6/multiprocessing/process.py:93: DtypeWarning: Columns (17) have mixed types.Specify dtype option on import or set low_memory=False.\n",
      "  self._target(*self._args, **self._kwargs)\n"
     ]
    },
    {
     "name": "stdout",
     "output_type": "stream",
     "text": [
      "FINISHCervix-SCC\n",
      "FINISHOvary-AdenoCA\n",
      "FINISHCNS-MedulloFINISHCNS-GBM\n",
      "\n"
     ]
    },
    {
     "name": "stderr",
     "output_type": "stream",
     "text": [
      "/storage/home/yur97/anaconda3/envs/mSigsyn/lib/python3.6/multiprocessing/process.py:93: DtypeWarning: Columns (24) have mixed types.Specify dtype option on import or set low_memory=False.\n",
      "  self._target(*self._args, **self._kwargs)\n"
     ]
    },
    {
     "name": "stdout",
     "output_type": "stream",
     "text": [
      "FINISHSoftTissue-Liposarc\n",
      "FINISHKidney-ChRCC\n",
      "FINISHLymph-BNHL\n",
      "FINISHLymph-CLL\n",
      "FINISHMyeloid-AML\n",
      "FINISHKidney-RCCFINISHBreast-LobularCA\n",
      "\n"
     ]
    },
    {
     "name": "stderr",
     "output_type": "stream",
     "text": [
      "/storage/home/yur97/anaconda3/envs/mSigsyn/lib/python3.6/multiprocessing/process.py:93: DtypeWarning: Columns (1,17,33,34,35,36) have mixed types.Specify dtype option on import or set low_memory=False.\n",
      "  self._target(*self._args, **self._kwargs)\n"
     ]
    },
    {
     "name": "stdout",
     "output_type": "stream",
     "text": [
      "FINISHCervix-AdenoCA\n",
      "FINISHBreast-DCIS\n",
      "FINISHMyeloid-MPN\n",
      "FINISHMyeloid-MDS\n"
     ]
    },
    {
     "name": "stderr",
     "output_type": "stream",
     "text": [
      "/storage/home/yur97/anaconda3/envs/mSigsyn/lib/python3.6/multiprocessing/process.py:93: DtypeWarning: Columns (17,24,28) have mixed types.Specify dtype option on import or set low_memory=False.\n",
      "  self._target(*self._args, **self._kwargs)\n"
     ]
    },
    {
     "name": "stdout",
     "output_type": "stream",
     "text": [
      "FINISHBone-CartFINISHBone-Osteosarc\n",
      "\n"
     ]
    },
    {
     "name": "stderr",
     "output_type": "stream",
     "text": [
      "/storage/home/yur97/anaconda3/envs/mSigsyn/lib/python3.6/multiprocessing/process.py:93: DtypeWarning: Columns (1,17,24,28,33,34,35,36) have mixed types.Specify dtype option on import or set low_memory=False.\n",
      "  self._target(*self._args, **self._kwargs)\n"
     ]
    },
    {
     "name": "stdout",
     "output_type": "stream",
     "text": [
      "FINISHBone-Osteoblast\n",
      "FINISHBladder-TCCFINISHBone-BenignFINISHBone-Epith\n",
      "\n",
      "\n",
      "FINISHBiliary-AdenoCA\n"
     ]
    },
    {
     "name": "stderr",
     "output_type": "stream",
     "text": [
      "/storage/home/yur97/anaconda3/envs/mSigsyn/lib/python3.6/multiprocessing/process.py:93: DtypeWarning: Columns (1,17,24,28,33,34,35,36) have mixed types.Specify dtype option on import or set low_memory=False.\n",
      "  self._target(*self._args, **self._kwargs)\n"
     ]
    },
    {
     "name": "stdout",
     "output_type": "stream",
     "text": [
      "FINISHPanc-AdenoCA\n",
      "FINISHBreast-AdenoCA\n",
      "FINISHEso-AdenoCA\n",
      "FINISHLung-SCC\n",
      "FINISHStomach-AdenoCA\n"
     ]
    },
    {
     "name": "stderr",
     "output_type": "stream",
     "text": [
      "/storage/home/yur97/anaconda3/envs/mSigsyn/lib/python3.6/multiprocessing/process.py:93: DtypeWarning: Columns (1,17,24,28,33,34,35,36) have mixed types.Specify dtype option on import or set low_memory=False.\n",
      "  self._target(*self._args, **self._kwargs)\n",
      "/storage/home/yur97/anaconda3/envs/mSigsyn/lib/python3.6/multiprocessing/process.py:93: DtypeWarning: Columns (1,33,34,35,36) have mixed types.Specify dtype option on import or set low_memory=False.\n",
      "  self._target(*self._args, **self._kwargs)\n"
     ]
    },
    {
     "name": "stdout",
     "output_type": "stream",
     "text": [
      "FINISHColoRect-AdenoCA\n",
      "FINISHLiver-HCC\n",
      "FINISHSkin-Melanoma\n"
     ]
    }
   ],
   "source": [
    "p = Pool(12)\n",
    "res = p.map(get_ctxtdf, lfeat)\n",
    "p.close()\n",
    "p.join()"
   ]
  },
  {
   "cell_type": "code",
   "execution_count": 34,
   "metadata": {},
   "outputs": [],
   "source": [
    "### Concat and calculate the final dataframe\n",
    "df_mutbias = pd.concat(res)\n",
    "mutbias_tab.append('feature')\n",
    "df_mutbias = df_mutbias[mutbias_tab]"
   ]
  },
  {
   "cell_type": "markdown",
   "metadata": {},
   "source": [
    "Organize mutbias data for plot"
   ]
  },
  {
   "cell_type": "code",
   "execution_count": 35,
   "metadata": {},
   "outputs": [],
   "source": [
    "### Determine transition, transversion, transition\n",
    "dict_mutname={6:'AT_transversion',5:'AT_transition',4:'GC_transversion',\\\n",
    "              3:'GC_transition',2:'CpG_transversion',1:'CpG_transition'}\n",
    "\n",
    "dict_melt = {}\n",
    "for mut in mutbias_tab[:-1]:\n",
    "    bases = re.findall(r'[A-Z]+', mut)\n",
    "    melt_categ = dict_mutname[validate_categ(bases[1], bases[2],bases[0]+bases[1]+bases[3])]\n",
    "    if melt_categ not in dict_melt:\n",
    "        dict_melt[melt_categ] = []\n",
    "    dict_melt[melt_categ].append(mut)\n",
    "\n",
    "### Combine the mutbias dictionary into 6 mutation categories\n",
    "df_mutcateg = pd.DataFrame()\n",
    "for k,v in dict_melt.items():\n",
    "    df_temp = df_mutbias[v].sum(axis=1).to_frame(name = k)\n",
    "    df_mutcateg = pd.concat([df_mutcateg, df_temp], axis = 1)\n",
    "df_mutcateg = pd.concat([df_mutcateg,df_mutbias['feature']], axis=1)\n",
    "\n",
    "df_categperc = \\\n",
    "(100. * df_mutcateg.iloc[:,:-1].transpose() / df_mutcateg.iloc[:,:-1].transpose().sum()).round(2).transpose()\n",
    "df_categperc = pd.concat([df_categperc,df_mutbias['feature']], axis=1)\n",
    "df_categperc.to_csv(\"%s/mut_categs.csv\" % dir_out_figure)"
   ]
  },
  {
   "cell_type": "code",
   "execution_count": 36,
   "metadata": {},
   "outputs": [],
   "source": [
    "# Save categ datafor plot\n",
    "# df_categperc.to_csv(\"%s/mut_categs.csv\" % dir_out_figure)"
   ]
  },
  {
   "cell_type": "markdown",
   "metadata": {},
   "source": [
    "### 2. Get mutation number for patient heterogeneity plot across cohort"
   ]
  },
  {
   "cell_type": "code",
   "execution_count": 37,
   "metadata": {},
   "outputs": [],
   "source": [
    "### Directory for maf file and cohort information\n",
    "dir_maf = '../data/maf/histology_all/'\n",
    "df_cohort = pd.read_csv('../data/proc_refs/histology.csv')\n",
    "lfeat = df_cohort['histology'].unique()\n",
    "\n",
    "lgene = pickle.load(open('../data/proc_refs/gene_name_list_102121.pkl','rb'))"
   ]
  },
  {
   "cell_type": "code",
   "execution_count": 38,
   "metadata": {
    "scrolled": true,
    "tags": []
   },
   "outputs": [
    {
     "name": "stderr",
     "output_type": "stream",
     "text": [
      "/storage/home/yur97/.local/lib/python3.6/site-packages/pandas/core/indexing.py:873: PerformanceWarning: indexing past lexsort depth may impact performance.\n",
      "  return self._getitem_tuple(key)\n",
      "/storage/home/yur97/.local/lib/python3.6/site-packages/pandas/core/indexing.py:873: PerformanceWarning: indexing past lexsort depth may impact performance.\n",
      "  return self._getitem_tuple(key)\n",
      "/storage/home/yur97/.local/lib/python3.6/site-packages/pandas/core/indexing.py:873: PerformanceWarning: indexing past lexsort depth may impact performance.\n",
      "  return self._getitem_tuple(key)\n",
      "/storage/home/yur97/anaconda3/envs/mSigsyn/lib/python3.6/multiprocessing/process.py:93: DtypeWarning: Columns (17,24) have mixed types.Specify dtype option on import or set low_memory=False.\n",
      "  self._target(*self._args, **self._kwargs)\n",
      "/storage/home/yur97/.local/lib/python3.6/site-packages/pandas/core/indexing.py:873: PerformanceWarning: indexing past lexsort depth may impact performance.\n",
      "  return self._getitem_tuple(key)\n",
      "/storage/home/yur97/anaconda3/envs/mSigsyn/lib/python3.6/multiprocessing/process.py:93: DtypeWarning: Columns (17) have mixed types.Specify dtype option on import or set low_memory=False.\n",
      "  self._target(*self._args, **self._kwargs)\n",
      "/storage/home/yur97/anaconda3/envs/mSigsyn/lib/python3.6/multiprocessing/process.py:93: DtypeWarning: Columns (17) have mixed types.Specify dtype option on import or set low_memory=False.\n",
      "  self._target(*self._args, **self._kwargs)\n",
      "/storage/home/yur97/.local/lib/python3.6/site-packages/pandas/core/indexing.py:873: PerformanceWarning: indexing past lexsort depth may impact performance.\n",
      "  return self._getitem_tuple(key)\n",
      "/storage/home/yur97/anaconda3/envs/mSigsyn/lib/python3.6/multiprocessing/process.py:93: DtypeWarning: Columns (1,17,24,28,33,34,35,36) have mixed types.Specify dtype option on import or set low_memory=False.\n",
      "  self._target(*self._args, **self._kwargs)\n",
      "/storage/home/yur97/anaconda3/envs/mSigsyn/lib/python3.6/multiprocessing/process.py:93: DtypeWarning: Columns (1,17,33,34,35,36) have mixed types.Specify dtype option on import or set low_memory=False.\n",
      "  self._target(*self._args, **self._kwargs)\n",
      "/storage/home/yur97/anaconda3/envs/mSigsyn/lib/python3.6/multiprocessing/process.py:93: DtypeWarning: Columns (17) have mixed types.Specify dtype option on import or set low_memory=False.\n",
      "  self._target(*self._args, **self._kwargs)\n",
      "/storage/home/yur97/anaconda3/envs/mSigsyn/lib/python3.6/multiprocessing/process.py:93: DtypeWarning: Columns (1,17,33,34,35,36) have mixed types.Specify dtype option on import or set low_memory=False.\n",
      "  self._target(*self._args, **self._kwargs)\n",
      "/storage/home/yur97/.local/lib/python3.6/site-packages/pandas/core/indexing.py:873: PerformanceWarning: indexing past lexsort depth may impact performance.\n",
      "  return self._getitem_tuple(key)\n",
      "/storage/home/yur97/.local/lib/python3.6/site-packages/pandas/core/indexing.py:873: PerformanceWarning: indexing past lexsort depth may impact performance.\n",
      "  return self._getitem_tuple(key)\n",
      "/storage/home/yur97/anaconda3/envs/mSigsyn/lib/python3.6/multiprocessing/process.py:93: DtypeWarning: Columns (1,17,33,34,35,36) have mixed types.Specify dtype option on import or set low_memory=False.\n",
      "  self._target(*self._args, **self._kwargs)\n",
      "/storage/home/yur97/.local/lib/python3.6/site-packages/pandas/core/indexing.py:873: PerformanceWarning: indexing past lexsort depth may impact performance.\n",
      "  return self._getitem_tuple(key)\n",
      "/storage/home/yur97/anaconda3/envs/mSigsyn/lib/python3.6/multiprocessing/process.py:93: DtypeWarning: Columns (17) have mixed types.Specify dtype option on import or set low_memory=False.\n",
      "  self._target(*self._args, **self._kwargs)\n",
      "/storage/home/yur97/anaconda3/envs/mSigsyn/lib/python3.6/multiprocessing/process.py:93: DtypeWarning: Columns (17) have mixed types.Specify dtype option on import or set low_memory=False.\n",
      "  self._target(*self._args, **self._kwargs)\n",
      "/storage/home/yur97/anaconda3/envs/mSigsyn/lib/python3.6/multiprocessing/process.py:93: DtypeWarning: Columns (17,24) have mixed types.Specify dtype option on import or set low_memory=False.\n",
      "  self._target(*self._args, **self._kwargs)\n",
      "/storage/home/yur97/.local/lib/python3.6/site-packages/pandas/core/indexing.py:873: PerformanceWarning: indexing past lexsort depth may impact performance.\n",
      "  return self._getitem_tuple(key)\n",
      "/storage/home/yur97/anaconda3/envs/mSigsyn/lib/python3.6/multiprocessing/process.py:93: DtypeWarning: Columns (17) have mixed types.Specify dtype option on import or set low_memory=False.\n",
      "  self._target(*self._args, **self._kwargs)\n",
      "/storage/home/yur97/anaconda3/envs/mSigsyn/lib/python3.6/multiprocessing/process.py:93: DtypeWarning: Columns (24) have mixed types.Specify dtype option on import or set low_memory=False.\n",
      "  self._target(*self._args, **self._kwargs)\n",
      "/storage/home/yur97/anaconda3/envs/mSigsyn/lib/python3.6/multiprocessing/process.py:93: DtypeWarning: Columns (1,17,24,33,34,35,36) have mixed types.Specify dtype option on import or set low_memory=False.\n",
      "  self._target(*self._args, **self._kwargs)\n",
      "/storage/home/yur97/.local/lib/python3.6/site-packages/pandas/core/indexing.py:873: PerformanceWarning: indexing past lexsort depth may impact performance.\n",
      "  return self._getitem_tuple(key)\n",
      "/storage/home/yur97/anaconda3/envs/mSigsyn/lib/python3.6/multiprocessing/process.py:93: DtypeWarning: Columns (1,17,24,33,34,35,36) have mixed types.Specify dtype option on import or set low_memory=False.\n",
      "  self._target(*self._args, **self._kwargs)\n",
      "/storage/home/yur97/anaconda3/envs/mSigsyn/lib/python3.6/multiprocessing/process.py:93: DtypeWarning: Columns (1,17,24,28,33,34,35,36) have mixed types.Specify dtype option on import or set low_memory=False.\n",
      "  self._target(*self._args, **self._kwargs)\n",
      "/storage/home/yur97/anaconda3/envs/mSigsyn/lib/python3.6/multiprocessing/process.py:93: DtypeWarning: Columns (1,17,24,28,33,34,35,36) have mixed types.Specify dtype option on import or set low_memory=False.\n",
      "  self._target(*self._args, **self._kwargs)\n",
      "/storage/home/yur97/anaconda3/envs/mSigsyn/lib/python3.6/multiprocessing/process.py:93: DtypeWarning: Columns (1,17,33,34,35,36) have mixed types.Specify dtype option on import or set low_memory=False.\n",
      "  self._target(*self._args, **self._kwargs)\n",
      "/storage/home/yur97/anaconda3/envs/mSigsyn/lib/python3.6/multiprocessing/process.py:93: DtypeWarning: Columns (17,24,28) have mixed types.Specify dtype option on import or set low_memory=False.\n",
      "  self._target(*self._args, **self._kwargs)\n",
      "/storage/home/yur97/.local/lib/python3.6/site-packages/pandas/core/indexing.py:873: PerformanceWarning: indexing past lexsort depth may impact performance.\n",
      "  return self._getitem_tuple(key)\n",
      "/storage/home/yur97/anaconda3/envs/mSigsyn/lib/python3.6/multiprocessing/process.py:93: DtypeWarning: Columns (1,17,24,28,33,34,35,36) have mixed types.Specify dtype option on import or set low_memory=False.\n",
      "  self._target(*self._args, **self._kwargs)\n",
      "/storage/home/yur97/anaconda3/envs/mSigsyn/lib/python3.6/multiprocessing/process.py:93: DtypeWarning: Columns (1,33,34,35,36) have mixed types.Specify dtype option on import or set low_memory=False.\n",
      "  self._target(*self._args, **self._kwargs)\n",
      "/storage/home/yur97/.local/lib/python3.6/site-packages/pandas/core/indexing.py:873: PerformanceWarning: indexing past lexsort depth may impact performance.\n",
      "  return self._getitem_tuple(key)\n"
     ]
    }
   ],
   "source": [
    "### Iterate through organs to get mutation number\n",
    "def get_n_mut(feat):\n",
    "    global dir_maf\n",
    "    #Read maf files\n",
    "    maf = os.path.join(dir_maf, feat+'.csv')\n",
    "    df_maf = pd.read_csv(maf, sep = '\\t')\n",
    "    df_maf = df_maf[df_maf['Hugo_Symbol'].isin(lgene)]\n",
    "    ldonor = df_maf['Donor_ID'].unique().tolist()\n",
    "    df_maf = df_maf.set_index(['Donor_ID','Variant_Classification'])\n",
    "    \n",
    "    df_temp = pd.DataFrame(index = ldonor, columns = ['n_silent','feature'])\n",
    "    \n",
    "    for donors in ldonor:\n",
    "        try:\n",
    "            df_donor = df_maf.loc[(donors,'Silent'),:]\n",
    "            n_syn = len(df_donor)\n",
    "            df_temp.loc[donors,:] =[n_syn,feat] \n",
    "        except KeyError:\n",
    "            df_temp.loc[donors,:] =[0,feat] \n",
    "    \n",
    "    return df_temp\n",
    "\n",
    "p = Pool(12)\n",
    "res_mut = p.map(get_n_mut, lfeat)\n",
    "p.close()\n",
    "p.join()"
   ]
  },
  {
   "cell_type": "code",
   "execution_count": 39,
   "metadata": {
    "tags": []
   },
   "outputs": [],
   "source": [
    "### Concat and calculate the final dataframe\n",
    "df_all = pd.concat(res_mut, ignore_index = False)"
   ]
  },
  {
   "cell_type": "code",
   "execution_count": 40,
   "metadata": {},
   "outputs": [],
   "source": [
    "# df_all = pd.read_csv('./figure1/mut_hete_patients_silent.csv')\n",
    "df_all['syn_freq'] = (df_all['n_silent']/float(7632212))*float(1000000)\n",
    "df_all.loc[df_all['syn_freq']==0, 'syn_freq'] = 0.01\n",
    "df_all['syn_freq'] = np.log10(df_all['syn_freq'].astype(float))"
   ]
  },
  {
   "cell_type": "code",
   "execution_count": 41,
   "metadata": {},
   "outputs": [],
   "source": [
    "df_all.to_csv(\"%s/patient_syn_mut_hete.csv\" % dir_out_figure)"
   ]
  },
  {
   "cell_type": "markdown",
   "metadata": {},
   "source": [
    "***\n",
    "***Analysis - the median, the max and the min***"
   ]
  },
  {
   "cell_type": "code",
   "execution_count": 5,
   "metadata": {},
   "outputs": [],
   "source": [
    "df_all = pd.read_csv(os.path.join(dir_out_figure, 'patient_syn_mut_hete.csv'))"
   ]
  },
  {
   "cell_type": "code",
   "execution_count": 15,
   "metadata": {},
   "outputs": [],
   "source": [
    "# retrieve the original frequency before transforming into log\n",
    "df_all['syn_freq'] = 10**df_all['syn_freq']\n",
    "df_all.loc[df_all['syn_freq']==0.01, 'syn_freq'] = 0"
   ]
  },
  {
   "cell_type": "code",
   "execution_count": 16,
   "metadata": {},
   "outputs": [],
   "source": [
    "### Get median mutation frequency\n",
    "group = df_all[['feature','syn_freq']].groupby(by = ['feature'])\n",
    "group.median().sort_values(by = 'syn_freq').to_csv('./figure1/median_mut_freq.csv')"
   ]
  },
  {
   "cell_type": "code",
   "execution_count": 19,
   "metadata": {},
   "outputs": [],
   "source": [
    "### Get the max and min mutation frequency within the cohorts\n",
    "df_stat = pd.concat([group.max(),group.min(),group.median()],axis = 1)\n",
    "df_stat.columns = ['max_synfreq','min_synfreq','median_synfreq']\n",
    "df_stat['max-min'] = df_stat['max_synfreq'] - df_stat['min_synfreq']"
   ]
  },
  {
   "cell_type": "code",
   "execution_count": 23,
   "metadata": {
    "tags": []
   },
   "outputs": [],
   "source": [
    "df_stat.to_csv(\"%s/tables1-stat_synmut_freq.csv\" % dir_out_table)"
   ]
  },
  {
   "cell_type": "markdown",
   "metadata": {},
   "source": [
    "### 3. Local mut rate  \n",
    "Make a sliding window of number of mutations"
   ]
  },
  {
   "cell_type": "code",
   "execution_count": 42,
   "metadata": {},
   "outputs": [],
   "source": [
    "import pandas as pd\n",
    "import os,pickle,matplotlib\n",
    "from tqdm import tqdm\n",
    "from utils import *\n",
    "from multiprocessing import Pool\n",
    "from datetime import date\n",
    "import numpy as np\n",
    "import seaborn as sns\n",
    "import matplotlib.pyplot as plt\n",
    "import time\n",
    "today = date.today()"
   ]
  },
  {
   "cell_type": "code",
   "execution_count": 44,
   "metadata": {},
   "outputs": [],
   "source": [
    "dir_maf = '../data/maf/histology_all/'\n",
    "df_cohort = pd.read_csv('../data/proc_refs/histology.csv')\n",
    "lfeat = df_cohort['histology'].unique()"
   ]
  },
  {
   "cell_type": "code",
   "execution_count": 45,
   "metadata": {},
   "outputs": [],
   "source": [
    "### Load annotation data\n",
    "dict_transcript_info = pickle.load(open('../data/proc_refs/dict_transcript_info_062121.pkl','rb'))\n",
    "dict_record = pickle.load(open('../data/proc_refs/dict_record_new.pkl','rb'))"
   ]
  },
  {
   "cell_type": "code",
   "execution_count": 49,
   "metadata": {
    "tags": []
   },
   "outputs": [],
   "source": [
    "def get_loc_mut(feat, interval,chromosome):\n",
    "    st = time.time()\n",
    "    df = pd.DataFrame(columns = ['Donor','chr-pos','n_syn'])\n",
    "    df_maf = pd.read_csv(os.path.join(dir_maf,feat+'.csv'), sep = '\\t')\n",
    "    ldonor = df_maf['Donor_ID'].unique().tolist()\n",
    "    df_silent = df_maf[(df_maf['Variant_Classification'] == 'Silent')&\\\n",
    "           (df_maf['Variant_Type'] == 'SNP') &\\\n",
    "           (df_maf['Chromosome'] == chromosome)]\n",
    "    syn_pos = df_silent['Start_position']\n",
    "    dict_synpos = {};lpos = [];lsyn = []\n",
    "    for i in range(0, len(dict_record['chr'+chromosome])-interval):\n",
    "        n=0\n",
    "        for pos in syn_pos:\n",
    "            if pos <= i+interval and pos>i:\n",
    "                n+=1\n",
    "        lpos.append(i+interval/2)# take the middle point of the interval and record the number\n",
    "        lsyn.append(n/len(ldonor))\n",
    "    dict_synpos['pos'] = lpos\n",
    "    dict_synpos['syn'] = lsyn\n",
    "    print(f'finish{feat}')\n",
    "    et = time.time()\n",
    "    print(str(et-st))\n",
    "    return dict_synpos"
   ]
  },
  {
   "cell_type": "code",
   "execution_count": 50,
   "metadata": {},
   "outputs": [
    {
     "name": "stderr",
     "output_type": "stream",
     "text": [
      "/storage/home/yur97/anaconda3/envs/mSigsyn/lib/python3.6/site-packages/IPython/core/interactiveshell.py:3263: DtypeWarning: Columns (17) have mixed types.Specify dtype option on import or set low_memory=False.\n",
      "  if (await self.run_code(code, result,  async_=asy)):\n"
     ]
    },
    {
     "name": "stdout",
     "output_type": "stream",
     "text": [
      "finishOvary-AdenoCA\n",
      "679.2931907176971\n"
     ]
    },
    {
     "name": "stderr",
     "output_type": "stream",
     "text": [
      "/storage/home/yur97/anaconda3/envs/mSigsyn/lib/python3.6/site-packages/IPython/core/interactiveshell.py:3263: DtypeWarning: Columns (1,17,33,34,35,36) have mixed types.Specify dtype option on import or set low_memory=False.\n",
      "  if (await self.run_code(code, result,  async_=asy)):\n"
     ]
    },
    {
     "name": "stdout",
     "output_type": "stream",
     "text": [
      "finishLung-SCC\n",
      "908.7365243434906\n",
      "finishThy-AdenoCA\n",
      "353.21310114860535\n"
     ]
    }
   ],
   "source": [
    "dict_loc_ovary = get_loc_mut('Ovary-AdenoCA',1000000,'18')\n",
    "dict_loc_lung = get_loc_mut('Lung-SCC',1000000,'18')\n",
    "dict_loc_thy = get_loc_mut('Thy-AdenoCA',1000000,'18')\n",
    "dict_all = {'Ovary':dict_loc_ovary,\n",
    "           'Lung':dict_loc_lung,\n",
    "           'Thy':dict_loc_thy}\n",
    "pickle.dump(dict_all, open(\"%s/locmut_chr18.pkl\" % dir_out_figure, 'wb'))"
   ]
  },
  {
   "cell_type": "code",
   "execution_count": 51,
   "metadata": {},
   "outputs": [
    {
     "name": "stdout",
     "output_type": "stream",
     "text": [
      "finishOvary-AdenoCA\n",
      "2670.389134645462\n",
      "finishLung-SCC\n",
      "3305.3760945796967\n",
      "finishThy-AdenoCA\n",
      "677.0706148147583\n"
     ]
    }
   ],
   "source": [
    "dict_loc_ovary = get_loc_mut('Ovary-AdenoCA',1000000,'8')\n",
    "dict_loc_lung = get_loc_mut('Lung-SCC',1000000,'8')\n",
    "dict_loc_thy = get_loc_mut('Thy-AdenoCA',1000000,'8')\n",
    "dict_all = {'Ovary':dict_loc_ovary,\n",
    "           'Lung':dict_loc_lung,\n",
    "           'Thy':dict_loc_thy}\n",
    "pickle.dump(dict_all, open(\"%s/locmut_chr8.pkl\" % dir_out_figure, 'wb'))"
   ]
  }
 ],
 "metadata": {
  "kernelspec": {
   "display_name": "Python 3",
   "language": "python",
   "name": "python3"
  },
  "language_info": {
   "codemirror_mode": {
    "name": "ipython",
    "version": 3
   },
   "file_extension": ".py",
   "mimetype": "text/x-python",
   "name": "python",
   "nbconvert_exporter": "python",
   "pygments_lexer": "ipython3",
   "version": "3.6.10"
  }
 },
 "nbformat": 4,
 "nbformat_minor": 4
}
