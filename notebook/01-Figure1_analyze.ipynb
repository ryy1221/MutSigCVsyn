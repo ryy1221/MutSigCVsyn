{
 "cells": [
  {
   "cell_type": "code",
   "execution_count": 1,
   "metadata": {},
   "outputs": [],
   "source": [
    "# this code plot the distribution of PCAWG sample snv numbers\n",
    "# Author: Yiyun\n",
    "import pandas as pd\n",
    "import os, pickle, time\n",
    "from tqdm import tqdm\n",
    "import seaborn as sns\n",
    "import numpy as np\n",
    "from multiprocessing import Pool\n",
    "from collections import Counter"
   ]
  },
  {
   "cell_type": "code",
   "execution_count": 2,
   "metadata": {},
   "outputs": [],
   "source": [
    "### load file -- pcawg sample info\n",
    "pcawg_info = '../anno_ref/PCAWG_sample_info.txt'\n",
    "df_pcawg = pd.read_csv(pcawg_info,sep='\\t')\n",
    "#all gene list\n",
    "lgene = pickle.load(open('../proc_09152020/gene_name_list_062121.pkl','rb'))# full coverage file"
   ]
  },
  {
   "cell_type": "markdown",
   "metadata": {},
   "source": [
    "### Mutation bias bins"
   ]
  },
  {
   "cell_type": "code",
   "execution_count": 26,
   "metadata": {},
   "outputs": [],
   "source": [
    "### Directory for maf file and cohort information\n",
    "dir_cohorts = '../anno_ref/cohorts'\n",
    "dir_maf = '../maf_out/maf_cohorts_060121'\n",
    "feature_type = 'histology'\n",
    "df = pd.read_csv(os.path.join(dir_cohorts,feature_type+'.csv'))\n",
    "lfeat = df[feature_type].unique()\n",
    "\n",
    "# mutation bias bins\n",
    "exome_fcov = '../anno_ref/exome_full192.coverage.txt'\n",
    "df_fullcov = pd.read_csv(exome_fcov,sep = '\\t')\n",
    "mutbias_tab = df_fullcov['categ'].unique().tolist()\n",
    "mutbias_tab = df_fullcov['categ'].unique().tolist()"
   ]
  },
  {
   "cell_type": "code",
   "execution_count": 30,
   "metadata": {},
   "outputs": [],
   "source": [
    "### Functions of getting contxt and add context into dataframe\n",
    "def get_ctxt(x):\n",
    "    mid_idx = int((len(x)-1)/2)\n",
    "    bidx = mid_idx-1; aidx = mid_idx+1\n",
    "    bb = x[bidx];ref = x[mid_idx];ab = x[aidx]\n",
    "    return bb,ref,ab\n",
    "def get_ctxtdf(feat):   \n",
    "        global dir_maf, feature_type\n",
    "        #Read maf files\n",
    "        maf = os.path.join(dir_maf, feature_type,feat+'.csv')\n",
    "        df_maf = pd.read_csv(maf, sep = '\\t')\n",
    "        ldonor = df_maf['Donor_ID'].unique().tolist()\n",
    "        \n",
    "        # Initialize the dataframe\n",
    "        df_org = pd.DataFrame(0,columns = mutbias_tab, index = ldonor)\n",
    "        \n",
    "        # For each donor, get silent mutation bin\n",
    "        for donor in ldonor:\n",
    "            df_donor = df_maf[df_maf['Donor_ID'] == donor]\n",
    "            df_syn = df_donor[df_donor['Variant_Classification'] == 'Silent']\n",
    "            ref = df_syn['Reference_Allele']; alt = df_syn['Tumor_Seq_Allele2']; ctxt = df_syn['ref_context']\n",
    "            old_ctxt = ctxt.apply(get_ctxt)\n",
    "            # Append the list of bins into a list then convert into a count dictionary\n",
    "            ltxt_donor = []\n",
    "            for idx,txt in old_ctxt.items():\n",
    "                txt_change = f'{txt[0]}({ref[idx]}->{alt[idx]}){txt[2]}'\n",
    "                ltxt_donor.append(txt_change.upper())\n",
    "            dict_txt_donor = dict(Counter(ltxt_donor))\n",
    "            # Append count to dataframe\n",
    "            for key in dict_txt_donor:\n",
    "                df_org.loc[donor,key] = dict_txt_donor[key]\n",
    "        df_org['feature'] = feat \n",
    "        print(f'FINISH{feat}')\n",
    "\n",
    "        return df_org"
   ]
  },
  {
   "cell_type": "code",
   "execution_count": 31,
   "metadata": {
    "collapsed": true,
    "jupyter": {
     "outputs_hidden": true
    }
   },
   "outputs": [
    {
     "name": "stderr",
     "output_type": "stream",
     "text": [
      "/opt/aci/sw/anaconda3/2020.07_gcc-4.8.5-khh/lib/python3.8/multiprocessing/process.py:108: DtypeWarning: Columns (24) have mixed types.Specify dtype option on import or set low_memory=False.\n",
      "  self._target(*self._args, **self._kwargs)\n",
      "/opt/aci/sw/anaconda3/2020.07_gcc-4.8.5-khh/lib/python3.8/multiprocessing/process.py:108: DtypeWarning: Columns (17,24,28) have mixed types.Specify dtype option on import or set low_memory=False.\n",
      "  self._target(*self._args, **self._kwargs)\n",
      "/opt/aci/sw/anaconda3/2020.07_gcc-4.8.5-khh/lib/python3.8/multiprocessing/process.py:108: DtypeWarning: Columns (17) have mixed types.Specify dtype option on import or set low_memory=False.\n",
      "  self._target(*self._args, **self._kwargs)\n"
     ]
    },
    {
     "name": "stdout",
     "output_type": "stream",
     "text": [
      "FINISHCNS-Oligo\n",
      "FINISHCNS-PiloAstro\n",
      "FINISHThy-AdenoCA\n"
     ]
    },
    {
     "name": "stderr",
     "output_type": "stream",
     "text": [
      "/opt/aci/sw/anaconda3/2020.07_gcc-4.8.5-khh/lib/python3.8/multiprocessing/process.py:108: DtypeWarning: Columns (17,24) have mixed types.Specify dtype option on import or set low_memory=False.\n",
      "  self._target(*self._args, **self._kwargs)\n"
     ]
    },
    {
     "name": "stdout",
     "output_type": "stream",
     "text": [
      "FINISHPanc-Endocrine\n"
     ]
    },
    {
     "name": "stderr",
     "output_type": "stream",
     "text": [
      "/opt/aci/sw/anaconda3/2020.07_gcc-4.8.5-khh/lib/python3.8/multiprocessing/process.py:108: DtypeWarning: Columns (17,24) have mixed types.Specify dtype option on import or set low_memory=False.\n",
      "  self._target(*self._args, **self._kwargs)\n",
      "/opt/aci/sw/anaconda3/2020.07_gcc-4.8.5-khh/lib/python3.8/multiprocessing/process.py:108: DtypeWarning: Columns (1,17,33,34,35,36) have mixed types.Specify dtype option on import or set low_memory=False.\n",
      "  self._target(*self._args, **self._kwargs)\n",
      "/opt/aci/sw/anaconda3/2020.07_gcc-4.8.5-khh/lib/python3.8/multiprocessing/process.py:108: DtypeWarning: Columns (1,17,24,33,34,35,36) have mixed types.Specify dtype option on import or set low_memory=False.\n",
      "  self._target(*self._args, **self._kwargs)\n",
      "/opt/aci/sw/anaconda3/2020.07_gcc-4.8.5-khh/lib/python3.8/multiprocessing/process.py:108: DtypeWarning: Columns (1,17,24,28,33,34,35,36) have mixed types.Specify dtype option on import or set low_memory=False.\n",
      "  self._target(*self._args, **self._kwargs)\n",
      "/opt/aci/sw/anaconda3/2020.07_gcc-4.8.5-khh/lib/python3.8/multiprocessing/process.py:108: DtypeWarning: Columns (1,17,33,34,35,36) have mixed types.Specify dtype option on import or set low_memory=False.\n",
      "  self._target(*self._args, **self._kwargs)\n",
      "/opt/aci/sw/anaconda3/2020.07_gcc-4.8.5-khh/lib/python3.8/multiprocessing/process.py:108: DtypeWarning: Columns (1,17,33,34,35,36) have mixed types.Specify dtype option on import or set low_memory=False.\n",
      "  self._target(*self._args, **self._kwargs)\n",
      "/opt/aci/sw/anaconda3/2020.07_gcc-4.8.5-khh/lib/python3.8/multiprocessing/process.py:108: DtypeWarning: Columns (1,17,24,28,33,34,35,36) have mixed types.Specify dtype option on import or set low_memory=False.\n",
      "  self._target(*self._args, **self._kwargs)\n"
     ]
    },
    {
     "name": "stdout",
     "output_type": "stream",
     "text": [
      "FINISHUterus-AdenoCA\n",
      "FINISHLung-AdenoCA\n"
     ]
    },
    {
     "name": "stderr",
     "output_type": "stream",
     "text": [
      "/opt/aci/sw/anaconda3/2020.07_gcc-4.8.5-khh/lib/python3.8/multiprocessing/process.py:108: DtypeWarning: Columns (1,17,24,33,34,35,36) have mixed types.Specify dtype option on import or set low_memory=False.\n",
      "  self._target(*self._args, **self._kwargs)\n"
     ]
    },
    {
     "name": "stdout",
     "output_type": "stream",
     "text": [
      "FINISHProst-AdenoCA\n",
      "FINISHOvary-AdenoCA\n"
     ]
    },
    {
     "name": "stderr",
     "output_type": "stream",
     "text": [
      "/opt/aci/sw/anaconda3/2020.07_gcc-4.8.5-khh/lib/python3.8/multiprocessing/process.py:108: DtypeWarning: Columns (1,17,24,33,34,35,36) have mixed types.Specify dtype option on import or set low_memory=False.\n",
      "  self._target(*self._args, **self._kwargs)\n"
     ]
    },
    {
     "name": "stdout",
     "output_type": "stream",
     "text": [
      "FINISHKidney-RCC\n",
      "FINISHLymph-BNHL\n"
     ]
    },
    {
     "name": "stderr",
     "output_type": "stream",
     "text": [
      "/opt/aci/sw/anaconda3/2020.07_gcc-4.8.5-khh/lib/python3.8/multiprocessing/process.py:108: DtypeWarning: Columns (17) have mixed types.Specify dtype option on import or set low_memory=False.\n",
      "  self._target(*self._args, **self._kwargs)\n"
     ]
    },
    {
     "name": "stdout",
     "output_type": "stream",
     "text": [
      "FINISHCNS-Medullo\n",
      "FINISHSoftTissue-Leiomyo\n"
     ]
    },
    {
     "name": "stderr",
     "output_type": "stream",
     "text": [
      "/opt/aci/sw/anaconda3/2020.07_gcc-4.8.5-khh/lib/python3.8/multiprocessing/process.py:108: DtypeWarning: Columns (17) have mixed types.Specify dtype option on import or set low_memory=False.\n",
      "  self._target(*self._args, **self._kwargs)\n"
     ]
    },
    {
     "name": "stdout",
     "output_type": "stream",
     "text": [
      "FINISHCervix-SCC\n",
      "FINISHCNS-GBM\n",
      "FINISHSoftTissue-Liposarc\n",
      "FINISHHead-SCC\n"
     ]
    },
    {
     "name": "stderr",
     "output_type": "stream",
     "text": [
      "/opt/aci/sw/anaconda3/2020.07_gcc-4.8.5-khh/lib/python3.8/multiprocessing/process.py:108: DtypeWarning: Columns (17,24) have mixed types.Specify dtype option on import or set low_memory=False.\n",
      "  self._target(*self._args, **self._kwargs)\n",
      "/opt/aci/sw/anaconda3/2020.07_gcc-4.8.5-khh/lib/python3.8/multiprocessing/process.py:108: DtypeWarning: Columns (1,17,24,28,33,34,35,36) have mixed types.Specify dtype option on import or set low_memory=False.\n",
      "  self._target(*self._args, **self._kwargs)\n"
     ]
    },
    {
     "name": "stdout",
     "output_type": "stream",
     "text": [
      "FINISHKidney-ChRCC\n",
      "FINISHLymph-CLL\n",
      "FINISHMyeloid-AML\n"
     ]
    },
    {
     "name": "stderr",
     "output_type": "stream",
     "text": [
      "/opt/aci/sw/anaconda3/2020.07_gcc-4.8.5-khh/lib/python3.8/multiprocessing/process.py:108: DtypeWarning: Columns (1,17,24,28,33,34,35,36) have mixed types.Specify dtype option on import or set low_memory=False.\n",
      "  self._target(*self._args, **self._kwargs)\n",
      "/opt/aci/sw/anaconda3/2020.07_gcc-4.8.5-khh/lib/python3.8/multiprocessing/process.py:108: DtypeWarning: Columns (1,17,24,33,34,35,36) have mixed types.Specify dtype option on import or set low_memory=False.\n",
      "  self._target(*self._args, **self._kwargs)\n"
     ]
    },
    {
     "name": "stdout",
     "output_type": "stream",
     "text": [
      "FINISHBladder-TCC\n"
     ]
    },
    {
     "name": "stderr",
     "output_type": "stream",
     "text": [
      "/opt/aci/sw/anaconda3/2020.07_gcc-4.8.5-khh/lib/python3.8/multiprocessing/process.py:108: DtypeWarning: Columns (1,17,24,33,34,35,36) have mixed types.Specify dtype option on import or set low_memory=False.\n",
      "  self._target(*self._args, **self._kwargs)\n"
     ]
    },
    {
     "name": "stdout",
     "output_type": "stream",
     "text": [
      "FINISHBreast-LobularCA\n",
      "FINISHCervix-AdenoCA\n",
      "FINISHBiliary-AdenoCA\n",
      "FINISHBreast-DCIS\n",
      "FINISHMyeloid-MPN\n",
      "FINISHMyeloid-MDS\n",
      "FINISHBone-Cart\n",
      "FINISHBone-Osteoblast\n",
      "FINISHBone-Epith\n",
      "FINISHBone-Benign\n",
      "FINISHBone-Osteosarc\n"
     ]
    },
    {
     "name": "stderr",
     "output_type": "stream",
     "text": [
      "/opt/aci/sw/anaconda3/2020.07_gcc-4.8.5-khh/lib/python3.8/multiprocessing/process.py:108: DtypeWarning: Columns (1,17,24,28,33,34,35,36) have mixed types.Specify dtype option on import or set low_memory=False.\n",
      "  self._target(*self._args, **self._kwargs)\n"
     ]
    },
    {
     "name": "stdout",
     "output_type": "stream",
     "text": [
      "FINISHBreast-AdenoCA\n",
      "FINISHPanc-AdenoCA\n",
      "FINISHStomach-AdenoCA\n",
      "FINISHLung-SCC\n"
     ]
    },
    {
     "name": "stderr",
     "output_type": "stream",
     "text": [
      "/opt/aci/sw/anaconda3/2020.07_gcc-4.8.5-khh/lib/python3.8/multiprocessing/process.py:108: DtypeWarning: Columns (1,3,17,24,28,30,33,34,35,36,40) have mixed types.Specify dtype option on import or set low_memory=False.\n",
      "  self._target(*self._args, **self._kwargs)\n"
     ]
    },
    {
     "name": "stdout",
     "output_type": "stream",
     "text": [
      "FINISHEso-AdenoCA\n"
     ]
    },
    {
     "name": "stderr",
     "output_type": "stream",
     "text": [
      "/opt/aci/sw/anaconda3/2020.07_gcc-4.8.5-khh/lib/python3.8/multiprocessing/process.py:108: DtypeWarning: Columns (1,17,33,34,35,36) have mixed types.Specify dtype option on import or set low_memory=False.\n",
      "  self._target(*self._args, **self._kwargs)\n"
     ]
    },
    {
     "name": "stdout",
     "output_type": "stream",
     "text": [
      "FINISHColoRect-AdenoCA\n",
      "FINISHLiver-HCC\n",
      "FINISHSkin-Melanoma\n"
     ]
    }
   ],
   "source": [
    "p = Pool(10)\n",
    "res = p.map(get_ctxtdf, lfeat)\n",
    "p.close()\n",
    "p.join()"
   ]
  },
  {
   "cell_type": "code",
   "execution_count": 32,
   "metadata": {},
   "outputs": [],
   "source": [
    "### Concat and calculate the final dataframe\n",
    "df_mutbias = pd.concat(res)\n",
    "# mutbias_tab.append('feature')\n",
    "df_mutbias = df_mutbias[mutbias_tab]\n",
    "# df_mutbias.to_csv('./figure1/mut_bins.csv')"
   ]
  },
  {
   "cell_type": "markdown",
   "metadata": {},
   "source": [
    "Organize mutbias data for plot"
   ]
  },
  {
   "cell_type": "code",
   "execution_count": 22,
   "metadata": {},
   "outputs": [],
   "source": [
    "### Combine mutation bins\n",
    "df_mutbias = pd.read_csv('./figure1/mut_bins.csv', index_col = 0)"
   ]
  },
  {
   "cell_type": "code",
   "execution_count": 27,
   "metadata": {},
   "outputs": [],
   "source": [
    "### Determine transition, transversion, transition\n",
    "from utils import *\n",
    "\n",
    "dict_mutname={6:'AT_transversion',5:'AT_transition',4:'GC_transversion',\\\n",
    "              3:'GC_transition',2:'CpG_transversion',1:'CpG_transition'}\n",
    "\n",
    "dict_melt = {}\n",
    "for mut in mutbias_tab[:-1]:\n",
    "    bases = re.findall(r'[A-Z]+', mut)\n",
    "    melt_categ = dict_mutname[validate_categ(bases[1], bases[2],bases[0]+bases[1]+bases[3])]\n",
    "    if melt_categ not in dict_melt:\n",
    "        dict_melt[melt_categ] = []\n",
    "    dict_melt[melt_categ].append(mut)\n",
    "\n",
    "### Combine the mutbias dictionary into 6 mutation categories\n",
    "df_mutcateg = pd.DataFrame()\n",
    "for k,v in dict_melt.items():\n",
    "    df_temp = df_mutbias[v].sum(axis=1).to_frame(name = k)\n",
    "    df_mutcateg = pd.concat([df_mutcateg, df_temp], axis = 1)\n",
    "df_mutcateg = pd.concat([df_mutcateg,df_mutbias['feature']], axis=1)\n",
    "\n",
    "df_categperc = \\\n",
    "(100. * df_mutcateg.iloc[:,:-1].transpose() / df_mutcateg.iloc[:,:-1].transpose().sum()).round(2).transpose()\n",
    "df_categperc = pd.concat([df_categperc,df_mutbias['feature']], axis=1)\n",
    "# # df_categperc.to_csv('./figure1/mut_categs.csv')"
   ]
  },
  {
   "cell_type": "markdown",
   "metadata": {},
   "source": [
    "### Get mutation number"
   ]
  },
  {
   "cell_type": "code",
   "execution_count": 4,
   "metadata": {},
   "outputs": [],
   "source": [
    "### Directory for maf file and cohort information\n",
    "dir_cohorts = '../anno_ref/cohorts'\n",
    "dir_maf = '../maf_out/maf_cohorts_060121'\n",
    "feature_type = 'histology'\n",
    "df = pd.read_csv(os.path.join(dir_cohorts,feature_type+'.csv'))\n",
    "lfeat = df[feature_type].unique()\n",
    "\n",
    "lgene = pickle.load(open('../proc_09152020/gene_name_list_062121.pkl','rb'))"
   ]
  },
  {
   "cell_type": "code",
   "execution_count": 5,
   "metadata": {
    "jupyter": {
     "outputs_hidden": true
    },
    "scrolled": true
   },
   "outputs": [
    {
     "name": "stderr",
     "output_type": "stream",
     "text": [
      "/opt/aci/sw/anaconda3/2020.07_gcc-4.8.5-bzb/lib/python3.8/multiprocessing/process.py:108: DtypeWarning: Columns (17,24) have mixed types.Specify dtype option on import or set low_memory=False.\n",
      "  self._target(*self._args, **self._kwargs)\n",
      "/opt/aci/sw/anaconda3/2020.07_gcc-4.8.5-bzb/lib/python3.8/multiprocessing/process.py:108: DtypeWarning: Columns (17) have mixed types.Specify dtype option on import or set low_memory=False.\n",
      "  self._target(*self._args, **self._kwargs)\n",
      "/opt/aci/sw/anaconda3/2020.07_gcc-4.8.5-bzb/lib/python3.8/multiprocessing/process.py:108: DtypeWarning: Columns (17,24) have mixed types.Specify dtype option on import or set low_memory=False.\n",
      "  self._target(*self._args, **self._kwargs)\n",
      "/opt/aci/sw/anaconda3/2020.07_gcc-4.8.5-bzb/lib/python3.8/multiprocessing/process.py:108: DtypeWarning: Columns (17) have mixed types.Specify dtype option on import or set low_memory=False.\n",
      "  self._target(*self._args, **self._kwargs)\n",
      "/opt/aci/sw/anaconda3/2020.07_gcc-4.8.5-bzb/lib/python3.8/multiprocessing/process.py:108: DtypeWarning: Columns (1,17,24,28,33,34,35,36) have mixed types.Specify dtype option on import or set low_memory=False.\n",
      "  self._target(*self._args, **self._kwargs)\n",
      "/opt/aci/sw/anaconda3/2020.07_gcc-4.8.5-bzb/lib/python3.8/multiprocessing/process.py:108: DtypeWarning: Columns (1,17,24,33,34,35,36) have mixed types.Specify dtype option on import or set low_memory=False.\n",
      "  self._target(*self._args, **self._kwargs)\n",
      "/opt/aci/sw/anaconda3/2020.07_gcc-4.8.5-bzb/lib/python3.8/multiprocessing/process.py:108: DtypeWarning: Columns (1,17,33,34,35,36) have mixed types.Specify dtype option on import or set low_memory=False.\n",
      "  self._target(*self._args, **self._kwargs)\n",
      "/opt/aci/sw/anaconda3/2020.07_gcc-4.8.5-bzb/lib/python3.8/multiprocessing/process.py:108: DtypeWarning: Columns (1,17,33,34,35,36) have mixed types.Specify dtype option on import or set low_memory=False.\n",
      "  self._target(*self._args, **self._kwargs)\n",
      "/opt/aci/sw/anaconda3/2020.07_gcc-4.8.5-bzb/lib/python3.8/multiprocessing/process.py:108: DtypeWarning: Columns (1,17,24,28,33,34,35,36) have mixed types.Specify dtype option on import or set low_memory=False.\n",
      "  self._target(*self._args, **self._kwargs)\n",
      "/opt/aci/sw/anaconda3/2020.07_gcc-4.8.5-bzb/lib/python3.8/multiprocessing/process.py:108: DtypeWarning: Columns (1,17,24,28,33,34,35,36) have mixed types.Specify dtype option on import or set low_memory=False.\n",
      "  self._target(*self._args, **self._kwargs)\n",
      "/opt/aci/sw/anaconda3/2020.07_gcc-4.8.5-bzb/lib/python3.8/multiprocessing/process.py:108: DtypeWarning: Columns (1,17,24,33,34,35,36) have mixed types.Specify dtype option on import or set low_memory=False.\n",
      "  self._target(*self._args, **self._kwargs)\n",
      "/opt/aci/sw/anaconda3/2020.07_gcc-4.8.5-bzb/lib/python3.8/multiprocessing/process.py:108: DtypeWarning: Columns (1,17,24,28,33,34,35,36) have mixed types.Specify dtype option on import or set low_memory=False.\n",
      "  self._target(*self._args, **self._kwargs)\n",
      "/opt/aci/sw/anaconda3/2020.07_gcc-4.8.5-bzb/lib/python3.8/multiprocessing/process.py:108: DtypeWarning: Columns (1,3,17,24,28,30,33,34,35,36,40) have mixed types.Specify dtype option on import or set low_memory=False.\n",
      "  self._target(*self._args, **self._kwargs)\n",
      "/opt/aci/sw/anaconda3/2020.07_gcc-4.8.5-bzb/lib/python3.8/multiprocessing/process.py:108: DtypeWarning: Columns (1,17,33,34,35,36) have mixed types.Specify dtype option on import or set low_memory=False.\n",
      "  self._target(*self._args, **self._kwargs)\n"
     ]
    },
    {
     "ename": "AttributeError",
     "evalue": "'list' object has no attribute 'tolist'",
     "output_type": "error",
     "traceback": [
      "\u001b[0;31m---------------------------------------------------------------------------\u001b[0m",
      "\u001b[0;31mRemoteTraceback\u001b[0m                           Traceback (most recent call last)",
      "\u001b[0;31mRemoteTraceback\u001b[0m: \n\"\"\"\nTraceback (most recent call last):\n  File \"/opt/aci/sw/anaconda3/2020.07_gcc-4.8.5-bzb/lib/python3.8/multiprocessing/pool.py\", line 125, in worker\n    result = (True, func(*args, **kwds))\n  File \"/opt/aci/sw/anaconda3/2020.07_gcc-4.8.5-bzb/lib/python3.8/multiprocessing/pool.py\", line 48, in mapstar\n    return list(map(*args))\n  File \"<ipython-input-5-7945a95190e9>\", line 7, in get_n_mut\n    df_maf = df_maf[df_maf['Hugo_Symbol'].isin(lgene.tolist())]\nAttributeError: 'list' object has no attribute 'tolist'\n\"\"\"",
      "\nThe above exception was the direct cause of the following exception:\n",
      "\u001b[0;31mAttributeError\u001b[0m                            Traceback (most recent call last)",
      "\u001b[0;32m<ipython-input-5-7945a95190e9>\u001b[0m in \u001b[0;36m<module>\u001b[0;34m\u001b[0m\n\u001b[1;32m     22\u001b[0m \u001b[0;34m\u001b[0m\u001b[0m\n\u001b[1;32m     23\u001b[0m \u001b[0mp\u001b[0m \u001b[0;34m=\u001b[0m \u001b[0mPool\u001b[0m\u001b[0;34m(\u001b[0m\u001b[0;36m8\u001b[0m\u001b[0;34m)\u001b[0m\u001b[0;34m\u001b[0m\u001b[0;34m\u001b[0m\u001b[0m\n\u001b[0;32m---> 24\u001b[0;31m \u001b[0mres_mut\u001b[0m \u001b[0;34m=\u001b[0m \u001b[0mp\u001b[0m\u001b[0;34m.\u001b[0m\u001b[0mmap\u001b[0m\u001b[0;34m(\u001b[0m\u001b[0mget_n_mut\u001b[0m\u001b[0;34m,\u001b[0m \u001b[0mlfeat\u001b[0m\u001b[0;34m)\u001b[0m\u001b[0;34m\u001b[0m\u001b[0;34m\u001b[0m\u001b[0m\n\u001b[0m\u001b[1;32m     25\u001b[0m \u001b[0mp\u001b[0m\u001b[0;34m.\u001b[0m\u001b[0mclose\u001b[0m\u001b[0;34m(\u001b[0m\u001b[0;34m)\u001b[0m\u001b[0;34m\u001b[0m\u001b[0;34m\u001b[0m\u001b[0m\n\u001b[1;32m     26\u001b[0m \u001b[0mp\u001b[0m\u001b[0;34m.\u001b[0m\u001b[0mjoin\u001b[0m\u001b[0;34m(\u001b[0m\u001b[0;34m)\u001b[0m\u001b[0;34m\u001b[0m\u001b[0;34m\u001b[0m\u001b[0m\n",
      "\u001b[0;32m/opt/aci/sw/anaconda3/2020.07_gcc-4.8.5-bzb/lib/python3.8/multiprocessing/pool.py\u001b[0m in \u001b[0;36mmap\u001b[0;34m(self, func, iterable, chunksize)\u001b[0m\n\u001b[1;32m    362\u001b[0m         \u001b[0;32min\u001b[0m \u001b[0ma\u001b[0m \u001b[0mlist\u001b[0m \u001b[0mthat\u001b[0m \u001b[0;32mis\u001b[0m \u001b[0mreturned\u001b[0m\u001b[0;34m.\u001b[0m\u001b[0;34m\u001b[0m\u001b[0;34m\u001b[0m\u001b[0m\n\u001b[1;32m    363\u001b[0m         '''\n\u001b[0;32m--> 364\u001b[0;31m         \u001b[0;32mreturn\u001b[0m \u001b[0mself\u001b[0m\u001b[0;34m.\u001b[0m\u001b[0m_map_async\u001b[0m\u001b[0;34m(\u001b[0m\u001b[0mfunc\u001b[0m\u001b[0;34m,\u001b[0m \u001b[0miterable\u001b[0m\u001b[0;34m,\u001b[0m \u001b[0mmapstar\u001b[0m\u001b[0;34m,\u001b[0m \u001b[0mchunksize\u001b[0m\u001b[0;34m)\u001b[0m\u001b[0;34m.\u001b[0m\u001b[0mget\u001b[0m\u001b[0;34m(\u001b[0m\u001b[0;34m)\u001b[0m\u001b[0;34m\u001b[0m\u001b[0;34m\u001b[0m\u001b[0m\n\u001b[0m\u001b[1;32m    365\u001b[0m \u001b[0;34m\u001b[0m\u001b[0m\n\u001b[1;32m    366\u001b[0m     \u001b[0;32mdef\u001b[0m \u001b[0mstarmap\u001b[0m\u001b[0;34m(\u001b[0m\u001b[0mself\u001b[0m\u001b[0;34m,\u001b[0m \u001b[0mfunc\u001b[0m\u001b[0;34m,\u001b[0m \u001b[0miterable\u001b[0m\u001b[0;34m,\u001b[0m \u001b[0mchunksize\u001b[0m\u001b[0;34m=\u001b[0m\u001b[0;32mNone\u001b[0m\u001b[0;34m)\u001b[0m\u001b[0;34m:\u001b[0m\u001b[0;34m\u001b[0m\u001b[0;34m\u001b[0m\u001b[0m\n",
      "\u001b[0;32m/opt/aci/sw/anaconda3/2020.07_gcc-4.8.5-bzb/lib/python3.8/multiprocessing/pool.py\u001b[0m in \u001b[0;36mget\u001b[0;34m(self, timeout)\u001b[0m\n\u001b[1;32m    769\u001b[0m             \u001b[0;32mreturn\u001b[0m \u001b[0mself\u001b[0m\u001b[0;34m.\u001b[0m\u001b[0m_value\u001b[0m\u001b[0;34m\u001b[0m\u001b[0;34m\u001b[0m\u001b[0m\n\u001b[1;32m    770\u001b[0m         \u001b[0;32melse\u001b[0m\u001b[0;34m:\u001b[0m\u001b[0;34m\u001b[0m\u001b[0;34m\u001b[0m\u001b[0m\n\u001b[0;32m--> 771\u001b[0;31m             \u001b[0;32mraise\u001b[0m \u001b[0mself\u001b[0m\u001b[0;34m.\u001b[0m\u001b[0m_value\u001b[0m\u001b[0;34m\u001b[0m\u001b[0;34m\u001b[0m\u001b[0m\n\u001b[0m\u001b[1;32m    772\u001b[0m \u001b[0;34m\u001b[0m\u001b[0m\n\u001b[1;32m    773\u001b[0m     \u001b[0;32mdef\u001b[0m \u001b[0m_set\u001b[0m\u001b[0;34m(\u001b[0m\u001b[0mself\u001b[0m\u001b[0;34m,\u001b[0m \u001b[0mi\u001b[0m\u001b[0;34m,\u001b[0m \u001b[0mobj\u001b[0m\u001b[0;34m)\u001b[0m\u001b[0;34m:\u001b[0m\u001b[0;34m\u001b[0m\u001b[0;34m\u001b[0m\u001b[0m\n",
      "\u001b[0;31mAttributeError\u001b[0m: 'list' object has no attribute 'tolist'"
     ]
    }
   ],
   "source": [
    "### Iterate through organs to get mutation number\n",
    "def get_n_mut(feat):\n",
    "    global dir_maf, feature_type\n",
    "    #Read maf files\n",
    "    maf = os.path.join(dir_maf, feature_type,feat+'.csv')\n",
    "    df_maf = pd.read_csv(maf, sep = '\\t')\n",
    "    df_maf = df_maf[df_maf['Hugo_Symbol'].isin(lgene.tolist())]\n",
    "    ldonor = df_maf['Donor_ID'].unique().tolist()\n",
    "    df_maf = df_maf.set_index(['Donor_ID','Variant_Classification'])\n",
    "    \n",
    "    df_temp = pd.DataFrame(index = ldonor, columns = ['n_silent','feature'])\n",
    "    \n",
    "    for donors in ldonor:\n",
    "        try:\n",
    "            df_donor = df_maf.loc[(donors,'Silent'),:]\n",
    "            n_syn = len(df_donor)\n",
    "            df_temp.loc[donors,:] =[n_syn,feat] \n",
    "        except KeyError:\n",
    "            df_temp.loc[donors,:] =[0,feat] \n",
    "    \n",
    "    return df_temp\n",
    "\n",
    "p = Pool(8)\n",
    "res_mut = p.map(get_n_mut, lfeat)\n",
    "p.close()\n",
    "p.join()"
   ]
  },
  {
   "cell_type": "code",
   "execution_count": 113,
   "metadata": {},
   "outputs": [],
   "source": [
    "### Concat and calculate the final dataframe\n",
    "df_all = pd.concat(res_mut, ignore_index = False)\n",
    "# df_all.to_csv('mut_hete_patients_May-21-2021.csv')\n",
    "df_all.to_csv('./figure1/mut_hete_patients_silent.csv')"
   ]
  },
  {
   "cell_type": "markdown",
   "metadata": {},
   "source": [
    "***\n",
    "Analysis - the median, the max and the min"
   ]
  },
  {
   "cell_type": "code",
   "execution_count": 6,
   "metadata": {},
   "outputs": [],
   "source": [
    "df_all = pd.read_csv('./figure1/mut_hete_patients_silent.csv')\n",
    "df_all['syn_freq'] = df_all['n_silent']/float(7564562)*float(1000000)"
   ]
  },
  {
   "cell_type": "code",
   "execution_count": 9,
   "metadata": {},
   "outputs": [],
   "source": [
    "### Get median mutation frequency\n",
    "group = df_all[['feature','syn_freq']].groupby(by = ['feature'])\n",
    "group.median().sort_values(by = 'syn_freq').to_csv('./figure1/median_mut_freq.csv')"
   ]
  },
  {
   "cell_type": "code",
   "execution_count": 18,
   "metadata": {},
   "outputs": [],
   "source": [
    "### Get the max and min mutation frequency within the cohorts\n",
    "df_stat = pd.concat([group.max(),group.min(),group.median()],axis = 1)\n",
    "df_stat.columns = ['max_synfreq','min_synfreq','median_synfreq']\n",
    "df_stat['max-min'] = df_stat['max_synfreq'] - df_stat['min_synfreq']"
   ]
  },
  {
   "cell_type": "code",
   "execution_count": 20,
   "metadata": {},
   "outputs": [],
   "source": [
    "df_stat.to_csv('./figure1/stat_synmut_freq.csv')"
   ]
  },
  {
   "cell_type": "code",
   "execution_count": 21,
   "metadata": {},
   "outputs": [
    {
     "data": {
      "text/html": [
       "<div>\n",
       "<style scoped>\n",
       "    .dataframe tbody tr th:only-of-type {\n",
       "        vertical-align: middle;\n",
       "    }\n",
       "\n",
       "    .dataframe tbody tr th {\n",
       "        vertical-align: top;\n",
       "    }\n",
       "\n",
       "    .dataframe thead th {\n",
       "        text-align: right;\n",
       "    }\n",
       "</style>\n",
       "<table border=\"1\" class=\"dataframe\">\n",
       "  <thead>\n",
       "    <tr style=\"text-align: right;\">\n",
       "      <th></th>\n",
       "      <th>max_synfreq</th>\n",
       "      <th>min_synfreq</th>\n",
       "      <th>median_synfreq</th>\n",
       "      <th>max-min</th>\n",
       "    </tr>\n",
       "    <tr>\n",
       "      <th>feature</th>\n",
       "      <th></th>\n",
       "      <th></th>\n",
       "      <th></th>\n",
       "      <th></th>\n",
       "    </tr>\n",
       "  </thead>\n",
       "  <tbody>\n",
       "    <tr>\n",
       "      <th>Biliary-AdenoCA</th>\n",
       "      <td>103.376772</td>\n",
       "      <td>0.264391</td>\n",
       "      <td>1.850735</td>\n",
       "      <td>103.112381</td>\n",
       "    </tr>\n",
       "    <tr>\n",
       "      <th>Bladder-TCC</th>\n",
       "      <td>24.059556</td>\n",
       "      <td>0.925368</td>\n",
       "      <td>5.552205</td>\n",
       "      <td>23.134188</td>\n",
       "    </tr>\n",
       "    <tr>\n",
       "      <th>Bone-Benign</th>\n",
       "      <td>0.132195</td>\n",
       "      <td>0.132195</td>\n",
       "      <td>0.132195</td>\n",
       "      <td>0.000000</td>\n",
       "    </tr>\n",
       "    <tr>\n",
       "      <th>Bone-Cart</th>\n",
       "      <td>0.793172</td>\n",
       "      <td>0.132195</td>\n",
       "      <td>0.396586</td>\n",
       "      <td>0.660977</td>\n",
       "    </tr>\n",
       "    <tr>\n",
       "      <th>Bone-Epith</th>\n",
       "      <td>1.189758</td>\n",
       "      <td>0.264391</td>\n",
       "      <td>0.462684</td>\n",
       "      <td>0.925368</td>\n",
       "    </tr>\n",
       "    <tr>\n",
       "      <th>Bone-Osteoblast</th>\n",
       "      <td>0.264391</td>\n",
       "      <td>0.000000</td>\n",
       "      <td>0.132195</td>\n",
       "      <td>0.264391</td>\n",
       "    </tr>\n",
       "    <tr>\n",
       "      <th>Bone-Osteosarc</th>\n",
       "      <td>4.494642</td>\n",
       "      <td>0.132195</td>\n",
       "      <td>1.057563</td>\n",
       "      <td>4.362447</td>\n",
       "    </tr>\n",
       "    <tr>\n",
       "      <th>Breast-AdenoCA</th>\n",
       "      <td>34.767380</td>\n",
       "      <td>0.132195</td>\n",
       "      <td>1.982930</td>\n",
       "      <td>34.635184</td>\n",
       "    </tr>\n",
       "    <tr>\n",
       "      <th>Breast-DCIS</th>\n",
       "      <td>1.321954</td>\n",
       "      <td>0.264391</td>\n",
       "      <td>0.528781</td>\n",
       "      <td>1.057563</td>\n",
       "    </tr>\n",
       "    <tr>\n",
       "      <th>Breast-LobularCA</th>\n",
       "      <td>19.036132</td>\n",
       "      <td>0.264391</td>\n",
       "      <td>1.718540</td>\n",
       "      <td>18.771741</td>\n",
       "    </tr>\n",
       "    <tr>\n",
       "      <th>CNS-GBM</th>\n",
       "      <td>158.634433</td>\n",
       "      <td>1.057563</td>\n",
       "      <td>2.115126</td>\n",
       "      <td>157.576870</td>\n",
       "    </tr>\n",
       "    <tr>\n",
       "      <th>CNS-Medullo</th>\n",
       "      <td>2.247321</td>\n",
       "      <td>0.000000</td>\n",
       "      <td>0.396586</td>\n",
       "      <td>2.247321</td>\n",
       "    </tr>\n",
       "    <tr>\n",
       "      <th>CNS-Oligo</th>\n",
       "      <td>1.586344</td>\n",
       "      <td>0.000000</td>\n",
       "      <td>0.925368</td>\n",
       "      <td>1.586344</td>\n",
       "    </tr>\n",
       "    <tr>\n",
       "      <th>CNS-PiloAstro</th>\n",
       "      <td>0.528781</td>\n",
       "      <td>0.000000</td>\n",
       "      <td>0.000000</td>\n",
       "      <td>0.528781</td>\n",
       "    </tr>\n",
       "    <tr>\n",
       "      <th>Cervix-AdenoCA</th>\n",
       "      <td>1.850735</td>\n",
       "      <td>1.718540</td>\n",
       "      <td>1.784637</td>\n",
       "      <td>0.132195</td>\n",
       "    </tr>\n",
       "    <tr>\n",
       "      <th>Cervix-SCC</th>\n",
       "      <td>5.155619</td>\n",
       "      <td>0.660977</td>\n",
       "      <td>2.643907</td>\n",
       "      <td>4.494642</td>\n",
       "    </tr>\n",
       "    <tr>\n",
       "      <th>ColoRect-AdenoCA</th>\n",
       "      <td>347.012821</td>\n",
       "      <td>0.925368</td>\n",
       "      <td>4.957326</td>\n",
       "      <td>346.087454</td>\n",
       "    </tr>\n",
       "    <tr>\n",
       "      <th>Eso-AdenoCA</th>\n",
       "      <td>18.242960</td>\n",
       "      <td>0.000000</td>\n",
       "      <td>6.080987</td>\n",
       "      <td>18.242960</td>\n",
       "    </tr>\n",
       "    <tr>\n",
       "      <th>Head-SCC</th>\n",
       "      <td>25.249314</td>\n",
       "      <td>0.000000</td>\n",
       "      <td>3.833665</td>\n",
       "      <td>25.249314</td>\n",
       "    </tr>\n",
       "    <tr>\n",
       "      <th>Kidney-ChRCC</th>\n",
       "      <td>2.511712</td>\n",
       "      <td>0.000000</td>\n",
       "      <td>0.660977</td>\n",
       "      <td>2.511712</td>\n",
       "    </tr>\n",
       "    <tr>\n",
       "      <th>Kidney-RCC</th>\n",
       "      <td>14.144904</td>\n",
       "      <td>0.132195</td>\n",
       "      <td>1.982930</td>\n",
       "      <td>14.012708</td>\n",
       "    </tr>\n",
       "    <tr>\n",
       "      <th>Liver-HCC</th>\n",
       "      <td>21.944430</td>\n",
       "      <td>0.132195</td>\n",
       "      <td>2.643907</td>\n",
       "      <td>21.812234</td>\n",
       "    </tr>\n",
       "    <tr>\n",
       "      <th>Lung-AdenoCA</th>\n",
       "      <td>48.251307</td>\n",
       "      <td>0.132195</td>\n",
       "      <td>5.618303</td>\n",
       "      <td>48.119111</td>\n",
       "    </tr>\n",
       "    <tr>\n",
       "      <th>Lung-SCC</th>\n",
       "      <td>41.509343</td>\n",
       "      <td>2.115126</td>\n",
       "      <td>10.046847</td>\n",
       "      <td>39.394217</td>\n",
       "    </tr>\n",
       "    <tr>\n",
       "      <th>Lymph-BNHL</th>\n",
       "      <td>33.974208</td>\n",
       "      <td>0.132195</td>\n",
       "      <td>2.115126</td>\n",
       "      <td>33.842012</td>\n",
       "    </tr>\n",
       "    <tr>\n",
       "      <th>Lymph-CLL</th>\n",
       "      <td>2.247321</td>\n",
       "      <td>0.000000</td>\n",
       "      <td>0.660977</td>\n",
       "      <td>2.247321</td>\n",
       "    </tr>\n",
       "    <tr>\n",
       "      <th>Myeloid-AML</th>\n",
       "      <td>2.115126</td>\n",
       "      <td>0.000000</td>\n",
       "      <td>0.660977</td>\n",
       "      <td>2.115126</td>\n",
       "    </tr>\n",
       "    <tr>\n",
       "      <th>Myeloid-MDS</th>\n",
       "      <td>0.264391</td>\n",
       "      <td>0.264391</td>\n",
       "      <td>0.264391</td>\n",
       "      <td>0.000000</td>\n",
       "    </tr>\n",
       "    <tr>\n",
       "      <th>Myeloid-MPN</th>\n",
       "      <td>1.189758</td>\n",
       "      <td>0.000000</td>\n",
       "      <td>0.396586</td>\n",
       "      <td>1.189758</td>\n",
       "    </tr>\n",
       "    <tr>\n",
       "      <th>Ovary-AdenoCA</th>\n",
       "      <td>12.822950</td>\n",
       "      <td>0.793172</td>\n",
       "      <td>2.379516</td>\n",
       "      <td>12.029778</td>\n",
       "    </tr>\n",
       "    <tr>\n",
       "      <th>Panc-AdenoCA</th>\n",
       "      <td>18.639546</td>\n",
       "      <td>0.000000</td>\n",
       "      <td>1.982930</td>\n",
       "      <td>18.639546</td>\n",
       "    </tr>\n",
       "    <tr>\n",
       "      <th>Panc-Endocrine</th>\n",
       "      <td>8.328308</td>\n",
       "      <td>0.000000</td>\n",
       "      <td>0.660977</td>\n",
       "      <td>8.328308</td>\n",
       "    </tr>\n",
       "    <tr>\n",
       "      <th>Prost-AdenoCA</th>\n",
       "      <td>6.477573</td>\n",
       "      <td>0.000000</td>\n",
       "      <td>0.925368</td>\n",
       "      <td>6.477573</td>\n",
       "    </tr>\n",
       "    <tr>\n",
       "      <th>Skin-Melanoma</th>\n",
       "      <td>240.595556</td>\n",
       "      <td>0.793172</td>\n",
       "      <td>21.746137</td>\n",
       "      <td>239.802384</td>\n",
       "    </tr>\n",
       "    <tr>\n",
       "      <th>SoftTissue-Leiomyo</th>\n",
       "      <td>5.155619</td>\n",
       "      <td>0.793172</td>\n",
       "      <td>1.718540</td>\n",
       "      <td>4.362447</td>\n",
       "    </tr>\n",
       "    <tr>\n",
       "      <th>SoftTissue-Liposarc</th>\n",
       "      <td>5.155619</td>\n",
       "      <td>0.000000</td>\n",
       "      <td>1.586344</td>\n",
       "      <td>5.155619</td>\n",
       "    </tr>\n",
       "    <tr>\n",
       "      <th>Stomach-AdenoCA</th>\n",
       "      <td>217.990149</td>\n",
       "      <td>0.000000</td>\n",
       "      <td>3.370982</td>\n",
       "      <td>217.990149</td>\n",
       "    </tr>\n",
       "    <tr>\n",
       "      <th>Thy-AdenoCA</th>\n",
       "      <td>1.586344</td>\n",
       "      <td>0.000000</td>\n",
       "      <td>0.528781</td>\n",
       "      <td>1.586344</td>\n",
       "    </tr>\n",
       "    <tr>\n",
       "      <th>Uterus-AdenoCA</th>\n",
       "      <td>48.119111</td>\n",
       "      <td>0.528781</td>\n",
       "      <td>2.511712</td>\n",
       "      <td>47.590330</td>\n",
       "    </tr>\n",
       "  </tbody>\n",
       "</table>\n",
       "</div>"
      ],
      "text/plain": [
       "                     max_synfreq  min_synfreq  median_synfreq     max-min\n",
       "feature                                                                  \n",
       "Biliary-AdenoCA       103.376772     0.264391        1.850735  103.112381\n",
       "Bladder-TCC            24.059556     0.925368        5.552205   23.134188\n",
       "Bone-Benign             0.132195     0.132195        0.132195    0.000000\n",
       "Bone-Cart               0.793172     0.132195        0.396586    0.660977\n",
       "Bone-Epith              1.189758     0.264391        0.462684    0.925368\n",
       "Bone-Osteoblast         0.264391     0.000000        0.132195    0.264391\n",
       "Bone-Osteosarc          4.494642     0.132195        1.057563    4.362447\n",
       "Breast-AdenoCA         34.767380     0.132195        1.982930   34.635184\n",
       "Breast-DCIS             1.321954     0.264391        0.528781    1.057563\n",
       "Breast-LobularCA       19.036132     0.264391        1.718540   18.771741\n",
       "CNS-GBM               158.634433     1.057563        2.115126  157.576870\n",
       "CNS-Medullo             2.247321     0.000000        0.396586    2.247321\n",
       "CNS-Oligo               1.586344     0.000000        0.925368    1.586344\n",
       "CNS-PiloAstro           0.528781     0.000000        0.000000    0.528781\n",
       "Cervix-AdenoCA          1.850735     1.718540        1.784637    0.132195\n",
       "Cervix-SCC              5.155619     0.660977        2.643907    4.494642\n",
       "ColoRect-AdenoCA      347.012821     0.925368        4.957326  346.087454\n",
       "Eso-AdenoCA            18.242960     0.000000        6.080987   18.242960\n",
       "Head-SCC               25.249314     0.000000        3.833665   25.249314\n",
       "Kidney-ChRCC            2.511712     0.000000        0.660977    2.511712\n",
       "Kidney-RCC             14.144904     0.132195        1.982930   14.012708\n",
       "Liver-HCC              21.944430     0.132195        2.643907   21.812234\n",
       "Lung-AdenoCA           48.251307     0.132195        5.618303   48.119111\n",
       "Lung-SCC               41.509343     2.115126       10.046847   39.394217\n",
       "Lymph-BNHL             33.974208     0.132195        2.115126   33.842012\n",
       "Lymph-CLL               2.247321     0.000000        0.660977    2.247321\n",
       "Myeloid-AML             2.115126     0.000000        0.660977    2.115126\n",
       "Myeloid-MDS             0.264391     0.264391        0.264391    0.000000\n",
       "Myeloid-MPN             1.189758     0.000000        0.396586    1.189758\n",
       "Ovary-AdenoCA          12.822950     0.793172        2.379516   12.029778\n",
       "Panc-AdenoCA           18.639546     0.000000        1.982930   18.639546\n",
       "Panc-Endocrine          8.328308     0.000000        0.660977    8.328308\n",
       "Prost-AdenoCA           6.477573     0.000000        0.925368    6.477573\n",
       "Skin-Melanoma         240.595556     0.793172       21.746137  239.802384\n",
       "SoftTissue-Leiomyo      5.155619     0.793172        1.718540    4.362447\n",
       "SoftTissue-Liposarc     5.155619     0.000000        1.586344    5.155619\n",
       "Stomach-AdenoCA       217.990149     0.000000        3.370982  217.990149\n",
       "Thy-AdenoCA             1.586344     0.000000        0.528781    1.586344\n",
       "Uterus-AdenoCA         48.119111     0.528781        2.511712   47.590330"
      ]
     },
     "execution_count": 21,
     "metadata": {},
     "output_type": "execute_result"
    }
   ],
   "source": [
    "df_stat"
   ]
  },
  {
   "cell_type": "markdown",
   "metadata": {},
   "source": [
    "Olde code"
   ]
  },
  {
   "cell_type": "code",
   "execution_count": null,
   "metadata": {
    "jupyter": {
     "source_hidden": true
    }
   },
   "outputs": [],
   "source": [
    "#             n_mis = len(df_donor[df_donor['Variant_Classification'] == 'Missense_Mutation'])\n",
    "#             n_ncod = len(df_donor[df_donor['Variant_Classification'].isin(['Intron',\"3'UTR\",\"5'UTR\"])])\n",
    "#             n_nsyn = len(df_donor[df_donor['Variant_Classification'].isin(['Missense_Mutation', 'Nonsense_Mutation','Splice_Site', 'Nonstop_Mutation','Start_Codon_SNP'])])\n",
    "\n",
    "#             l_donor = [donors, n_syn,n_mis,n_nsyn,n_ncod]\n",
    "#             df_temp = pd.DataFrame([l_donor], columns = ['Donor','n_silent','n_missense','n_nsyn','n_noncoding'])\n",
    "#             df_org = pd.concat([df_org,df_temp], ignore_index = True)"
   ]
  },
  {
   "cell_type": "markdown",
   "metadata": {},
   "source": [
    "### Pie plot data"
   ]
  },
  {
   "cell_type": "code",
   "execution_count": 22,
   "metadata": {},
   "outputs": [],
   "source": [
    "### Directory for maf file and cohort information\n",
    "dir_cohorts = '../anno_ref/cohorts'\n",
    "dir_maf = '../maf_out/maf_cohorts_060121'\n",
    "feature_type = 'histology'\n",
    "df = pd.read_csv(os.path.join(dir_cohorts,feature_type+'.csv'))\n",
    "lfeat = df[feature_type].unique()\n",
    "\n",
    "lgene = pickle.load(open('../proc_09152020/gene_name_list_062121.pkl','rb'))"
   ]
  },
  {
   "cell_type": "code",
   "execution_count": 30,
   "metadata": {},
   "outputs": [],
   "source": [
    "### Count all synonymous and missense mutations and other mutations\n",
    "### Iterate through organs to get mutation number\n",
    "df_maf = pd.read_csv(os.path.join(dir_maf,feature_type, 'Ovary-AdenoCA'+'.csv'), sep = '\\t')\n",
    "mut_class = df_maf['Variant_Classification'].unique()\n",
    "\n",
    "def get_n_mut(feat):\n",
    "    global dir_maf, mut_class\n",
    "    \n",
    "    df_tot_org = pd.DataFrame(columns = mut_class, index = [feat])\n",
    "    #Read maf files\n",
    "    df_maf = pd.read_csv(os.path.join(dir_maf,feature_type, feat+'.csv'), sep = '\\t')\n",
    "    df_maf = df_maf[df_maf['Hugo_Symbol'].isin(lgene)]\n",
    "    # Get number of mutations in each categories\n",
    "    for mut_type in mut_class:\n",
    "        n_mut = len(df_maf[df_maf['Variant_Classification'] == mut_type])\n",
    "        df_tot_org.loc[feat,mut_type] = n_mut\n",
    "    return df_tot_org"
   ]
  },
  {
   "cell_type": "code",
   "execution_count": 31,
   "metadata": {
    "collapsed": true,
    "jupyter": {
     "outputs_hidden": true
    }
   },
   "outputs": [
    {
     "name": "stderr",
     "output_type": "stream",
     "text": [
      "/opt/aci/sw/anaconda3/2020.07_gcc-4.8.5-khh/lib/python3.8/multiprocessing/process.py:108: DtypeWarning: Columns (17,24) have mixed types.Specify dtype option on import or set low_memory=False.\n",
      "  self._target(*self._args, **self._kwargs)\n",
      "/opt/aci/sw/anaconda3/2020.07_gcc-4.8.5-khh/lib/python3.8/multiprocessing/process.py:108: DtypeWarning: Columns (17,24) have mixed types.Specify dtype option on import or set low_memory=False.\n",
      "  self._target(*self._args, **self._kwargs)\n",
      "/opt/aci/sw/anaconda3/2020.07_gcc-4.8.5-khh/lib/python3.8/multiprocessing/process.py:108: DtypeWarning: Columns (1,17,24,33,34,35,36) have mixed types.Specify dtype option on import or set low_memory=False.\n",
      "  self._target(*self._args, **self._kwargs)\n",
      "/opt/aci/sw/anaconda3/2020.07_gcc-4.8.5-khh/lib/python3.8/multiprocessing/process.py:108: DtypeWarning: Columns (17) have mixed types.Specify dtype option on import or set low_memory=False.\n",
      "  self._target(*self._args, **self._kwargs)\n",
      "/opt/aci/sw/anaconda3/2020.07_gcc-4.8.5-khh/lib/python3.8/multiprocessing/process.py:108: DtypeWarning: Columns (1,17,24,28,33,34,35,36) have mixed types.Specify dtype option on import or set low_memory=False.\n",
      "  self._target(*self._args, **self._kwargs)\n",
      "/opt/aci/sw/anaconda3/2020.07_gcc-4.8.5-khh/lib/python3.8/multiprocessing/process.py:108: DtypeWarning: Columns (1,17,33,34,35,36) have mixed types.Specify dtype option on import or set low_memory=False.\n",
      "  self._target(*self._args, **self._kwargs)\n",
      "/opt/aci/sw/anaconda3/2020.07_gcc-4.8.5-khh/lib/python3.8/multiprocessing/process.py:108: DtypeWarning: Columns (24) have mixed types.Specify dtype option on import or set low_memory=False.\n",
      "  self._target(*self._args, **self._kwargs)\n",
      "/opt/aci/sw/anaconda3/2020.07_gcc-4.8.5-khh/lib/python3.8/multiprocessing/process.py:108: DtypeWarning: Columns (1,17,33,34,35,36) have mixed types.Specify dtype option on import or set low_memory=False.\n",
      "  self._target(*self._args, **self._kwargs)\n",
      "/opt/aci/sw/anaconda3/2020.07_gcc-4.8.5-khh/lib/python3.8/multiprocessing/process.py:108: DtypeWarning: Columns (17) have mixed types.Specify dtype option on import or set low_memory=False.\n",
      "  self._target(*self._args, **self._kwargs)\n",
      "/opt/aci/sw/anaconda3/2020.07_gcc-4.8.5-khh/lib/python3.8/multiprocessing/process.py:108: DtypeWarning: Columns (17) have mixed types.Specify dtype option on import or set low_memory=False.\n",
      "  self._target(*self._args, **self._kwargs)\n",
      "/opt/aci/sw/anaconda3/2020.07_gcc-4.8.5-khh/lib/python3.8/multiprocessing/process.py:108: DtypeWarning: Columns (1,17,24,33,34,35,36) have mixed types.Specify dtype option on import or set low_memory=False.\n",
      "  self._target(*self._args, **self._kwargs)\n",
      "/opt/aci/sw/anaconda3/2020.07_gcc-4.8.5-khh/lib/python3.8/multiprocessing/process.py:108: DtypeWarning: Columns (1,17,33,34,35,36) have mixed types.Specify dtype option on import or set low_memory=False.\n",
      "  self._target(*self._args, **self._kwargs)\n",
      "/opt/aci/sw/anaconda3/2020.07_gcc-4.8.5-khh/lib/python3.8/multiprocessing/process.py:108: DtypeWarning: Columns (1,17,24,33,34,35,36) have mixed types.Specify dtype option on import or set low_memory=False.\n",
      "  self._target(*self._args, **self._kwargs)\n",
      "/opt/aci/sw/anaconda3/2020.07_gcc-4.8.5-khh/lib/python3.8/multiprocessing/process.py:108: DtypeWarning: Columns (1,17,24,33,34,35,36) have mixed types.Specify dtype option on import or set low_memory=False.\n",
      "  self._target(*self._args, **self._kwargs)\n",
      "/opt/aci/sw/anaconda3/2020.07_gcc-4.8.5-khh/lib/python3.8/multiprocessing/process.py:108: DtypeWarning: Columns (1,17,24,28,33,34,35,36) have mixed types.Specify dtype option on import or set low_memory=False.\n",
      "  self._target(*self._args, **self._kwargs)\n",
      "/opt/aci/sw/anaconda3/2020.07_gcc-4.8.5-khh/lib/python3.8/multiprocessing/process.py:108: DtypeWarning: Columns (17) have mixed types.Specify dtype option on import or set low_memory=False.\n",
      "  self._target(*self._args, **self._kwargs)\n",
      "/opt/aci/sw/anaconda3/2020.07_gcc-4.8.5-khh/lib/python3.8/multiprocessing/process.py:108: DtypeWarning: Columns (1,17,24,28,33,34,35,36) have mixed types.Specify dtype option on import or set low_memory=False.\n",
      "  self._target(*self._args, **self._kwargs)\n",
      "/opt/aci/sw/anaconda3/2020.07_gcc-4.8.5-khh/lib/python3.8/multiprocessing/process.py:108: DtypeWarning: Columns (1,17,24,28,33,34,35,36) have mixed types.Specify dtype option on import or set low_memory=False.\n",
      "  self._target(*self._args, **self._kwargs)\n",
      "/opt/aci/sw/anaconda3/2020.07_gcc-4.8.5-khh/lib/python3.8/multiprocessing/process.py:108: DtypeWarning: Columns (17,24,28) have mixed types.Specify dtype option on import or set low_memory=False.\n",
      "  self._target(*self._args, **self._kwargs)\n",
      "/opt/aci/sw/anaconda3/2020.07_gcc-4.8.5-khh/lib/python3.8/multiprocessing/process.py:108: DtypeWarning: Columns (1,3,17,24,28,30,33,34,35,36,40) have mixed types.Specify dtype option on import or set low_memory=False.\n",
      "  self._target(*self._args, **self._kwargs)\n",
      "/opt/aci/sw/anaconda3/2020.07_gcc-4.8.5-khh/lib/python3.8/multiprocessing/process.py:108: DtypeWarning: Columns (1,17,33,34,35,36) have mixed types.Specify dtype option on import or set low_memory=False.\n",
      "  self._target(*self._args, **self._kwargs)\n",
      "/opt/aci/sw/anaconda3/2020.07_gcc-4.8.5-khh/lib/python3.8/multiprocessing/process.py:108: DtypeWarning: Columns (1,17,33,34,35,36) have mixed types.Specify dtype option on import or set low_memory=False.\n",
      "  self._target(*self._args, **self._kwargs)\n"
     ]
    }
   ],
   "source": [
    "p = Pool(8)\n",
    "res = p.map(get_n_mut, lfeat)\n",
    "p.close()\n",
    "p.join()"
   ]
  },
  {
   "cell_type": "code",
   "execution_count": 32,
   "metadata": {},
   "outputs": [],
   "source": [
    "df_tot = pd.concat(res)\n",
    "df_tot.loc['sum',:] = df_tot.sum()"
   ]
  },
  {
   "cell_type": "code",
   "execution_count": 34,
   "metadata": {},
   "outputs": [],
   "source": [
    "### All coding mutations\n",
    "labels = ['Missense','Silent','Other']\n",
    "n_mis = df_tot.loc['sum','Missense_Mutation']\n",
    "n_syn = df_tot.loc['sum','Silent']\n",
    "n_other = df_tot.loc['sum','Nonsense_Mutation']+df_tot.loc['sum','Splice_Site']\\\n",
    "    +df_tot.loc['sum','De_novo_Start_OutOfFrame']+df_tot.loc['sum','Frame_Shift_Del']\\\n",
    "+df_tot.loc['sum','In_Frame_Del']+df_tot.loc['sum','Frame_Shift_Ins']+df_tot.loc['sum','De_novo_Start_InFrame']\\\n",
    "+df_tot.loc['sum','Nonstop_Mutation']+df_tot.loc['sum','Start_Codon_Del']+df_tot.loc['sum','Start_Codon_SNP']\\\n",
    "+df_tot.loc['sum','In_Frame_Ins']+df_tot.loc['sum','Stop_Codon_Del']\n",
    "\n",
    "sizes = [n_mis,n_syn,n_other]"
   ]
  },
  {
   "cell_type": "code",
   "execution_count": 36,
   "metadata": {},
   "outputs": [],
   "source": [
    "pickle.dump(sizes, open('./figure1/pie_size.pkl','wb'))"
   ]
  },
  {
   "cell_type": "markdown",
   "metadata": {},
   "source": [
    "### Local mut rate"
   ]
  },
  {
   "cell_type": "code",
   "execution_count": 1,
   "metadata": {},
   "outputs": [],
   "source": [
    "import pandas as pd\n",
    "import os,pickle\n",
    "from tqdm import tqdm\n",
    "from utils import *\n",
    "from multiprocessing import Pool\n",
    "from datetime import date\n",
    "\n",
    "today = date.today()"
   ]
  },
  {
   "cell_type": "code",
   "execution_count": 2,
   "metadata": {},
   "outputs": [],
   "source": [
    "dir_cohorts = '../anno_ref/cohorts'\n",
    "dir_maf = '../maf_out/maf_cohorts_060121'\n",
    "feature_type = 'histology'\n",
    "df = pd.read_csv(os.path.join(dir_cohorts,feature_type+'.csv'))\n",
    "lfeat = df[feature_type].unique()"
   ]
  },
  {
   "cell_type": "code",
   "execution_count": 3,
   "metadata": {},
   "outputs": [],
   "source": [
    "### Load annotation data\n",
    "dict_transcript_info = pickle.load(open('../proc_09152020/dict_transcript_info_062121.pkl','rb'))\n",
    "dict_record = pickle.load(open('../proc_09152020/dict_record_new.pkl','rb'))"
   ]
  },
  {
   "cell_type": "code",
   "execution_count": 7,
   "metadata": {},
   "outputs": [],
   "source": [
    "### Parameter card\n",
    "chromosome = '3'\n",
    "feat = 'Ovary-AdenoCA'\n",
    "start_range = 27; end_range=77"
   ]
  },
  {
   "cell_type": "code",
   "execution_count": 8,
   "metadata": {},
   "outputs": [],
   "source": [
    "interval = 1000000\n",
    "### Create breakpoints for chr1\n",
    "l_bk = []\n",
    "breakpoints = list(range(0, len(dict_record['chr'+chromosome]), interval))\n",
    "for i in range(0, len(breakpoints)-1):\n",
    "    group = [breakpoints[i], breakpoints[i+1]]\n",
    "    l_bk.append(group)"
   ]
  },
  {
   "cell_type": "code",
   "execution_count": 53,
   "metadata": {},
   "outputs": [],
   "source": [
    "### Define function to calculate\n",
    "def get_chr_mut(i):\n",
    "    global chromosome, feat\n",
    "    \n",
    "    df = pd.DataFrame(columns = ['Donor','chr-pos','n_syn','n_nsyn','n_coding','n_all'])\n",
    "    df_maf = pd.read_csv(os.path.join(dir_maf,feature_type, feat+'.csv'), sep = '\\t')\n",
    "    ldonor = df_maf['Donor_ID'].unique().tolist()\n",
    "\n",
    "    for donors in tqdm(ldonor):\n",
    "#             # Initialize a donor dataframe\n",
    "        df_donor = df_maf[df_maf['Donor_ID'] == donors]\n",
    "        df_donor = df_donor[df_donor['Chromosome'] == chromosome]\n",
    "        df_donor = df_donor[df_donor['Variant_Type'] == 'SNP']\n",
    "        df_donor = df_donor[(df_donor['Start_position'] < l_bk[i][1]) & \\\n",
    "                            (df_donor['Start_position'] > l_bk[i][0])]\n",
    "        n_all = len(df_donor)\n",
    "        n_syn = len(df_donor[df_donor['Variant_Classification'] == 'Silent'])\n",
    "        n_nsyn = len(df_donor[df_donor['Variant_Classification'].isin(['Missense_Mutation', 'Nonsense_Mutation','Splice_Site', 'Nonstop_Mutation','Start_Codon_SNP'])])\n",
    "        l_donor = [donors, '1-'+str(i), n_syn, n_nsyn, n_syn+n_nsyn, n_all]\n",
    "        df_temp = pd.DataFrame([l_donor], columns = ['Donor','chr-pos','n_syn','n_nsyn','n_coding','n_all'])\n",
    "        df = pd.concat([df,df_temp], ignore_index = True)\n",
    "        \n",
    "    return df"
   ]
  },
  {
   "cell_type": "code",
   "execution_count": 54,
   "metadata": {
    "collapsed": true,
    "jupyter": {
     "outputs_hidden": true
    }
   },
   "outputs": [
    {
     "ename": "KeyboardInterrupt",
     "evalue": "",
     "output_type": "error",
     "traceback": [
      "\u001b[0;31m---------------------------------------------------------------------------\u001b[0m",
      "\u001b[0;31mKeyboardInterrupt\u001b[0m                         Traceback (most recent call last)",
      "\u001b[0;32m<ipython-input-54-0a20c67ba23e>\u001b[0m in \u001b[0;36m<module>\u001b[0;34m\u001b[0m\n\u001b[1;32m      1\u001b[0m \u001b[0;31m### Run get mutation, we don't get the full range\u001b[0m\u001b[0;34m\u001b[0m\u001b[0;34m\u001b[0m\u001b[0;34m\u001b[0m\u001b[0m\n\u001b[1;32m      2\u001b[0m \u001b[0mp\u001b[0m \u001b[0;34m=\u001b[0m \u001b[0mPool\u001b[0m\u001b[0;34m(\u001b[0m\u001b[0;36m8\u001b[0m\u001b[0;34m)\u001b[0m\u001b[0;34m\u001b[0m\u001b[0;34m\u001b[0m\u001b[0m\n\u001b[0;32m----> 3\u001b[0;31m \u001b[0mres\u001b[0m \u001b[0;34m=\u001b[0m \u001b[0mp\u001b[0m\u001b[0;34m.\u001b[0m\u001b[0mmap\u001b[0m\u001b[0;34m(\u001b[0m\u001b[0mget_chr_mut\u001b[0m\u001b[0;34m,\u001b[0m \u001b[0mrange\u001b[0m\u001b[0;34m(\u001b[0m\u001b[0mstart_range\u001b[0m\u001b[0;34m,\u001b[0m \u001b[0mend_range\u001b[0m\u001b[0;34m)\u001b[0m\u001b[0;34m)\u001b[0m\u001b[0;34m\u001b[0m\u001b[0;34m\u001b[0m\u001b[0m\n\u001b[0m\u001b[1;32m      4\u001b[0m \u001b[0mp\u001b[0m\u001b[0;34m.\u001b[0m\u001b[0mclose\u001b[0m\u001b[0;34m(\u001b[0m\u001b[0;34m)\u001b[0m\u001b[0;34m\u001b[0m\u001b[0;34m\u001b[0m\u001b[0m\n\u001b[1;32m      5\u001b[0m \u001b[0mp\u001b[0m\u001b[0;34m.\u001b[0m\u001b[0mjoin\u001b[0m\u001b[0;34m(\u001b[0m\u001b[0;34m)\u001b[0m\u001b[0;34m\u001b[0m\u001b[0;34m\u001b[0m\u001b[0m\n",
      "\u001b[0;32m/opt/aci/sw/anaconda3/2020.07_gcc-4.8.5-khh/lib/python3.8/multiprocessing/pool.py\u001b[0m in \u001b[0;36mmap\u001b[0;34m(self, func, iterable, chunksize)\u001b[0m\n\u001b[1;32m    362\u001b[0m         \u001b[0;32min\u001b[0m \u001b[0ma\u001b[0m \u001b[0mlist\u001b[0m \u001b[0mthat\u001b[0m \u001b[0;32mis\u001b[0m \u001b[0mreturned\u001b[0m\u001b[0;34m.\u001b[0m\u001b[0;34m\u001b[0m\u001b[0;34m\u001b[0m\u001b[0m\n\u001b[1;32m    363\u001b[0m         '''\n\u001b[0;32m--> 364\u001b[0;31m         \u001b[0;32mreturn\u001b[0m \u001b[0mself\u001b[0m\u001b[0;34m.\u001b[0m\u001b[0m_map_async\u001b[0m\u001b[0;34m(\u001b[0m\u001b[0mfunc\u001b[0m\u001b[0;34m,\u001b[0m \u001b[0miterable\u001b[0m\u001b[0;34m,\u001b[0m \u001b[0mmapstar\u001b[0m\u001b[0;34m,\u001b[0m \u001b[0mchunksize\u001b[0m\u001b[0;34m)\u001b[0m\u001b[0;34m.\u001b[0m\u001b[0mget\u001b[0m\u001b[0;34m(\u001b[0m\u001b[0;34m)\u001b[0m\u001b[0;34m\u001b[0m\u001b[0;34m\u001b[0m\u001b[0m\n\u001b[0m\u001b[1;32m    365\u001b[0m \u001b[0;34m\u001b[0m\u001b[0m\n\u001b[1;32m    366\u001b[0m     \u001b[0;32mdef\u001b[0m \u001b[0mstarmap\u001b[0m\u001b[0;34m(\u001b[0m\u001b[0mself\u001b[0m\u001b[0;34m,\u001b[0m \u001b[0mfunc\u001b[0m\u001b[0;34m,\u001b[0m \u001b[0miterable\u001b[0m\u001b[0;34m,\u001b[0m \u001b[0mchunksize\u001b[0m\u001b[0;34m=\u001b[0m\u001b[0;32mNone\u001b[0m\u001b[0;34m)\u001b[0m\u001b[0;34m:\u001b[0m\u001b[0;34m\u001b[0m\u001b[0;34m\u001b[0m\u001b[0m\n",
      "\u001b[0;32m/opt/aci/sw/anaconda3/2020.07_gcc-4.8.5-khh/lib/python3.8/multiprocessing/pool.py\u001b[0m in \u001b[0;36mget\u001b[0;34m(self, timeout)\u001b[0m\n\u001b[1;32m    763\u001b[0m \u001b[0;34m\u001b[0m\u001b[0m\n\u001b[1;32m    764\u001b[0m     \u001b[0;32mdef\u001b[0m \u001b[0mget\u001b[0m\u001b[0;34m(\u001b[0m\u001b[0mself\u001b[0m\u001b[0;34m,\u001b[0m \u001b[0mtimeout\u001b[0m\u001b[0;34m=\u001b[0m\u001b[0;32mNone\u001b[0m\u001b[0;34m)\u001b[0m\u001b[0;34m:\u001b[0m\u001b[0;34m\u001b[0m\u001b[0;34m\u001b[0m\u001b[0m\n\u001b[0;32m--> 765\u001b[0;31m         \u001b[0mself\u001b[0m\u001b[0;34m.\u001b[0m\u001b[0mwait\u001b[0m\u001b[0;34m(\u001b[0m\u001b[0mtimeout\u001b[0m\u001b[0;34m)\u001b[0m\u001b[0;34m\u001b[0m\u001b[0;34m\u001b[0m\u001b[0m\n\u001b[0m\u001b[1;32m    766\u001b[0m         \u001b[0;32mif\u001b[0m \u001b[0;32mnot\u001b[0m \u001b[0mself\u001b[0m\u001b[0;34m.\u001b[0m\u001b[0mready\u001b[0m\u001b[0;34m(\u001b[0m\u001b[0;34m)\u001b[0m\u001b[0;34m:\u001b[0m\u001b[0;34m\u001b[0m\u001b[0;34m\u001b[0m\u001b[0m\n\u001b[1;32m    767\u001b[0m             \u001b[0;32mraise\u001b[0m \u001b[0mTimeoutError\u001b[0m\u001b[0;34m\u001b[0m\u001b[0;34m\u001b[0m\u001b[0m\n",
      "\u001b[0;32m/opt/aci/sw/anaconda3/2020.07_gcc-4.8.5-khh/lib/python3.8/multiprocessing/pool.py\u001b[0m in \u001b[0;36mwait\u001b[0;34m(self, timeout)\u001b[0m\n\u001b[1;32m    760\u001b[0m \u001b[0;34m\u001b[0m\u001b[0m\n\u001b[1;32m    761\u001b[0m     \u001b[0;32mdef\u001b[0m \u001b[0mwait\u001b[0m\u001b[0;34m(\u001b[0m\u001b[0mself\u001b[0m\u001b[0;34m,\u001b[0m \u001b[0mtimeout\u001b[0m\u001b[0;34m=\u001b[0m\u001b[0;32mNone\u001b[0m\u001b[0;34m)\u001b[0m\u001b[0;34m:\u001b[0m\u001b[0;34m\u001b[0m\u001b[0;34m\u001b[0m\u001b[0m\n\u001b[0;32m--> 762\u001b[0;31m         \u001b[0mself\u001b[0m\u001b[0;34m.\u001b[0m\u001b[0m_event\u001b[0m\u001b[0;34m.\u001b[0m\u001b[0mwait\u001b[0m\u001b[0;34m(\u001b[0m\u001b[0mtimeout\u001b[0m\u001b[0;34m)\u001b[0m\u001b[0;34m\u001b[0m\u001b[0;34m\u001b[0m\u001b[0m\n\u001b[0m\u001b[1;32m    763\u001b[0m \u001b[0;34m\u001b[0m\u001b[0m\n\u001b[1;32m    764\u001b[0m     \u001b[0;32mdef\u001b[0m \u001b[0mget\u001b[0m\u001b[0;34m(\u001b[0m\u001b[0mself\u001b[0m\u001b[0;34m,\u001b[0m \u001b[0mtimeout\u001b[0m\u001b[0;34m=\u001b[0m\u001b[0;32mNone\u001b[0m\u001b[0;34m)\u001b[0m\u001b[0;34m:\u001b[0m\u001b[0;34m\u001b[0m\u001b[0;34m\u001b[0m\u001b[0m\n",
      "\u001b[0;32m/opt/aci/sw/anaconda3/2020.07_gcc-4.8.5-khh/lib/python3.8/threading.py\u001b[0m in \u001b[0;36mwait\u001b[0;34m(self, timeout)\u001b[0m\n\u001b[1;32m    556\u001b[0m             \u001b[0msignaled\u001b[0m \u001b[0;34m=\u001b[0m \u001b[0mself\u001b[0m\u001b[0;34m.\u001b[0m\u001b[0m_flag\u001b[0m\u001b[0;34m\u001b[0m\u001b[0;34m\u001b[0m\u001b[0m\n\u001b[1;32m    557\u001b[0m             \u001b[0;32mif\u001b[0m \u001b[0;32mnot\u001b[0m \u001b[0msignaled\u001b[0m\u001b[0;34m:\u001b[0m\u001b[0;34m\u001b[0m\u001b[0;34m\u001b[0m\u001b[0m\n\u001b[0;32m--> 558\u001b[0;31m                 \u001b[0msignaled\u001b[0m \u001b[0;34m=\u001b[0m \u001b[0mself\u001b[0m\u001b[0;34m.\u001b[0m\u001b[0m_cond\u001b[0m\u001b[0;34m.\u001b[0m\u001b[0mwait\u001b[0m\u001b[0;34m(\u001b[0m\u001b[0mtimeout\u001b[0m\u001b[0;34m)\u001b[0m\u001b[0;34m\u001b[0m\u001b[0;34m\u001b[0m\u001b[0m\n\u001b[0m\u001b[1;32m    559\u001b[0m             \u001b[0;32mreturn\u001b[0m \u001b[0msignaled\u001b[0m\u001b[0;34m\u001b[0m\u001b[0;34m\u001b[0m\u001b[0m\n\u001b[1;32m    560\u001b[0m \u001b[0;34m\u001b[0m\u001b[0m\n",
      "\u001b[0;32m/opt/aci/sw/anaconda3/2020.07_gcc-4.8.5-khh/lib/python3.8/threading.py\u001b[0m in \u001b[0;36mwait\u001b[0;34m(self, timeout)\u001b[0m\n\u001b[1;32m    300\u001b[0m         \u001b[0;32mtry\u001b[0m\u001b[0;34m:\u001b[0m    \u001b[0;31m# restore state no matter what (e.g., KeyboardInterrupt)\u001b[0m\u001b[0;34m\u001b[0m\u001b[0;34m\u001b[0m\u001b[0m\n\u001b[1;32m    301\u001b[0m             \u001b[0;32mif\u001b[0m \u001b[0mtimeout\u001b[0m \u001b[0;32mis\u001b[0m \u001b[0;32mNone\u001b[0m\u001b[0;34m:\u001b[0m\u001b[0;34m\u001b[0m\u001b[0;34m\u001b[0m\u001b[0m\n\u001b[0;32m--> 302\u001b[0;31m                 \u001b[0mwaiter\u001b[0m\u001b[0;34m.\u001b[0m\u001b[0macquire\u001b[0m\u001b[0;34m(\u001b[0m\u001b[0;34m)\u001b[0m\u001b[0;34m\u001b[0m\u001b[0;34m\u001b[0m\u001b[0m\n\u001b[0m\u001b[1;32m    303\u001b[0m                 \u001b[0mgotit\u001b[0m \u001b[0;34m=\u001b[0m \u001b[0;32mTrue\u001b[0m\u001b[0;34m\u001b[0m\u001b[0;34m\u001b[0m\u001b[0m\n\u001b[1;32m    304\u001b[0m             \u001b[0;32melse\u001b[0m\u001b[0;34m:\u001b[0m\u001b[0;34m\u001b[0m\u001b[0;34m\u001b[0m\u001b[0m\n",
      "\u001b[0;31mKeyboardInterrupt\u001b[0m: "
     ]
    },
    {
     "name": "stderr",
     "output_type": "stream",
     "text": [
      "Process ForkPoolWorker-60:\n",
      "Process ForkPoolWorker-54:\n",
      "Process ForkPoolWorker-59:\n",
      "Process ForkPoolWorker-61:\n",
      "Process ForkPoolWorker-56:\n",
      "Traceback (most recent call last):\n",
      "Process ForkPoolWorker-58:\n",
      "Traceback (most recent call last):\n",
      "Traceback (most recent call last):\n",
      "Traceback (most recent call last):\n",
      "  File \"/opt/aci/sw/anaconda3/2020.07_gcc-4.8.5-khh/lib/python3.8/multiprocessing/process.py\", line 315, in _bootstrap\n",
      "    self.run()\n",
      "Traceback (most recent call last):\n",
      "  File \"/opt/aci/sw/anaconda3/2020.07_gcc-4.8.5-khh/lib/python3.8/multiprocessing/process.py\", line 315, in _bootstrap\n",
      "    self.run()\n",
      "  File \"/opt/aci/sw/anaconda3/2020.07_gcc-4.8.5-khh/lib/python3.8/multiprocessing/process.py\", line 108, in run\n",
      "    self._target(*self._args, **self._kwargs)\n",
      "  File \"/opt/aci/sw/anaconda3/2020.07_gcc-4.8.5-khh/lib/python3.8/multiprocessing/process.py\", line 315, in _bootstrap\n",
      "    self.run()\n",
      "  File \"/opt/aci/sw/anaconda3/2020.07_gcc-4.8.5-khh/lib/python3.8/multiprocessing/process.py\", line 315, in _bootstrap\n",
      "    self.run()\n",
      "  File \"/opt/aci/sw/anaconda3/2020.07_gcc-4.8.5-khh/lib/python3.8/multiprocessing/process.py\", line 315, in _bootstrap\n",
      "    self.run()\n",
      "  File \"/opt/aci/sw/anaconda3/2020.07_gcc-4.8.5-khh/lib/python3.8/multiprocessing/pool.py\", line 125, in worker\n",
      "    result = (True, func(*args, **kwds))\n",
      "  File \"/opt/aci/sw/anaconda3/2020.07_gcc-4.8.5-khh/lib/python3.8/multiprocessing/process.py\", line 108, in run\n",
      "    self._target(*self._args, **self._kwargs)\n",
      "  File \"/opt/aci/sw/anaconda3/2020.07_gcc-4.8.5-khh/lib/python3.8/multiprocessing/pool.py\", line 125, in worker\n",
      "    result = (True, func(*args, **kwds))\n",
      "Traceback (most recent call last):\n",
      "  File \"/opt/aci/sw/anaconda3/2020.07_gcc-4.8.5-khh/lib/python3.8/multiprocessing/process.py\", line 108, in run\n",
      "    self._target(*self._args, **self._kwargs)\n",
      "Process ForkPoolWorker-57:\n",
      "  File \"/opt/aci/sw/anaconda3/2020.07_gcc-4.8.5-khh/lib/python3.8/multiprocessing/pool.py\", line 48, in mapstar\n",
      "    return list(map(*args))\n",
      "  File \"/opt/aci/sw/anaconda3/2020.07_gcc-4.8.5-khh/lib/python3.8/multiprocessing/process.py\", line 108, in run\n",
      "    self._target(*self._args, **self._kwargs)\n",
      "  File \"/opt/aci/sw/anaconda3/2020.07_gcc-4.8.5-khh/lib/python3.8/multiprocessing/process.py\", line 108, in run\n",
      "    self._target(*self._args, **self._kwargs)\n",
      "  File \"/opt/aci/sw/anaconda3/2020.07_gcc-4.8.5-khh/lib/python3.8/multiprocessing/pool.py\", line 48, in mapstar\n",
      "    return list(map(*args))\n",
      "Process ForkPoolWorker-55:\n",
      "  File \"/opt/aci/sw/anaconda3/2020.07_gcc-4.8.5-khh/lib/python3.8/multiprocessing/pool.py\", line 125, in worker\n",
      "    result = (True, func(*args, **kwds))\n",
      "  File \"/opt/aci/sw/anaconda3/2020.07_gcc-4.8.5-khh/lib/python3.8/multiprocessing/pool.py\", line 125, in worker\n",
      "    result = (True, func(*args, **kwds))\n",
      "  File \"/opt/aci/sw/anaconda3/2020.07_gcc-4.8.5-khh/lib/python3.8/multiprocessing/pool.py\", line 125, in worker\n",
      "    result = (True, func(*args, **kwds))\n",
      "  File \"<ipython-input-53-1c61114b5453>\", line 6, in get_chr_mut\n",
      "    df_maf = pd.read_csv(os.path.join(dir_maf,feature_type, feat+'.csv'), sep = '\\t')\n",
      "  File \"/opt/aci/sw/anaconda3/2020.07_gcc-4.8.5-khh/lib/python3.8/multiprocessing/process.py\", line 315, in _bootstrap\n",
      "    self.run()\n",
      "  File \"<ipython-input-53-1c61114b5453>\", line 6, in get_chr_mut\n",
      "    df_maf = pd.read_csv(os.path.join(dir_maf,feature_type, feat+'.csv'), sep = '\\t')\n",
      "Traceback (most recent call last):\n",
      "  File \"/opt/aci/sw/anaconda3/2020.07_gcc-4.8.5-khh/lib/python3.8/site-packages/pandas/io/parsers.py\", line 676, in parser_f\n",
      "    return _read(filepath_or_buffer, kwds)\n",
      "Traceback (most recent call last):\n",
      "  File \"/opt/aci/sw/anaconda3/2020.07_gcc-4.8.5-khh/lib/python3.8/multiprocessing/pool.py\", line 48, in mapstar\n",
      "    return list(map(*args))\n",
      "  File \"/opt/aci/sw/anaconda3/2020.07_gcc-4.8.5-khh/lib/python3.8/multiprocessing/process.py\", line 108, in run\n",
      "    self._target(*self._args, **self._kwargs)\n",
      "  File \"/opt/aci/sw/anaconda3/2020.07_gcc-4.8.5-khh/lib/python3.8/site-packages/pandas/io/parsers.py\", line 676, in parser_f\n",
      "    return _read(filepath_or_buffer, kwds)\n",
      "  File \"/opt/aci/sw/anaconda3/2020.07_gcc-4.8.5-khh/lib/python3.8/multiprocessing/pool.py\", line 48, in mapstar\n",
      "    return list(map(*args))\n",
      "  File \"/opt/aci/sw/anaconda3/2020.07_gcc-4.8.5-khh/lib/python3.8/multiprocessing/pool.py\", line 48, in mapstar\n",
      "    return list(map(*args))\n",
      "  File \"<ipython-input-53-1c61114b5453>\", line 6, in get_chr_mut\n",
      "    df_maf = pd.read_csv(os.path.join(dir_maf,feature_type, feat+'.csv'), sep = '\\t')\n",
      "  File \"/opt/aci/sw/anaconda3/2020.07_gcc-4.8.5-khh/lib/python3.8/multiprocessing/process.py\", line 315, in _bootstrap\n",
      "    self.run()\n",
      "  File \"<ipython-input-53-1c61114b5453>\", line 6, in get_chr_mut\n",
      "    df_maf = pd.read_csv(os.path.join(dir_maf,feature_type, feat+'.csv'), sep = '\\t')\n",
      "  File \"/opt/aci/sw/anaconda3/2020.07_gcc-4.8.5-khh/lib/python3.8/multiprocessing/process.py\", line 315, in _bootstrap\n",
      "    self.run()\n",
      "  File \"<ipython-input-53-1c61114b5453>\", line 6, in get_chr_mut\n",
      "    df_maf = pd.read_csv(os.path.join(dir_maf,feature_type, feat+'.csv'), sep = '\\t')\n",
      "  File \"/opt/aci/sw/anaconda3/2020.07_gcc-4.8.5-khh/lib/python3.8/multiprocessing/pool.py\", line 125, in worker\n",
      "    result = (True, func(*args, **kwds))\n",
      "  File \"/opt/aci/sw/anaconda3/2020.07_gcc-4.8.5-khh/lib/python3.8/site-packages/pandas/io/parsers.py\", line 454, in _read\n",
      "    data = parser.read(nrows)\n",
      "  File \"/opt/aci/sw/anaconda3/2020.07_gcc-4.8.5-khh/lib/python3.8/site-packages/pandas/io/parsers.py\", line 454, in _read\n",
      "    data = parser.read(nrows)\n",
      "  File \"/opt/aci/sw/anaconda3/2020.07_gcc-4.8.5-khh/lib/python3.8/site-packages/pandas/io/parsers.py\", line 676, in parser_f\n",
      "    return _read(filepath_or_buffer, kwds)\n",
      "  File \"/opt/aci/sw/anaconda3/2020.07_gcc-4.8.5-khh/lib/python3.8/site-packages/pandas/io/parsers.py\", line 676, in parser_f\n",
      "    return _read(filepath_or_buffer, kwds)\n",
      "  File \"/opt/aci/sw/anaconda3/2020.07_gcc-4.8.5-khh/lib/python3.8/multiprocessing/pool.py\", line 48, in mapstar\n",
      "    return list(map(*args))\n",
      "  File \"/opt/aci/sw/anaconda3/2020.07_gcc-4.8.5-khh/lib/python3.8/multiprocessing/process.py\", line 108, in run\n",
      "    self._target(*self._args, **self._kwargs)\n",
      "  File \"/opt/aci/sw/anaconda3/2020.07_gcc-4.8.5-khh/lib/python3.8/site-packages/pandas/io/parsers.py\", line 1133, in read\n",
      "    ret = self._engine.read(nrows)\n",
      "  File \"/opt/aci/sw/anaconda3/2020.07_gcc-4.8.5-khh/lib/python3.8/multiprocessing/process.py\", line 108, in run\n",
      "    self._target(*self._args, **self._kwargs)\n",
      "  File \"/opt/aci/sw/anaconda3/2020.07_gcc-4.8.5-khh/lib/python3.8/site-packages/pandas/io/parsers.py\", line 676, in parser_f\n",
      "    return _read(filepath_or_buffer, kwds)\n",
      "  File \"/opt/aci/sw/anaconda3/2020.07_gcc-4.8.5-khh/lib/python3.8/site-packages/pandas/io/parsers.py\", line 454, in _read\n",
      "    data = parser.read(nrows)\n",
      "  File \"/opt/aci/sw/anaconda3/2020.07_gcc-4.8.5-khh/lib/python3.8/multiprocessing/pool.py\", line 125, in worker\n",
      "    result = (True, func(*args, **kwds))\n",
      "  File \"/opt/aci/sw/anaconda3/2020.07_gcc-4.8.5-khh/lib/python3.8/site-packages/pandas/io/parsers.py\", line 1133, in read\n",
      "    ret = self._engine.read(nrows)\n",
      "  File \"/opt/aci/sw/anaconda3/2020.07_gcc-4.8.5-khh/lib/python3.8/multiprocessing/pool.py\", line 125, in worker\n",
      "    result = (True, func(*args, **kwds))\n",
      "  File \"/opt/aci/sw/anaconda3/2020.07_gcc-4.8.5-khh/lib/python3.8/site-packages/pandas/io/parsers.py\", line 1133, in read\n",
      "    ret = self._engine.read(nrows)\n",
      "  File \"/opt/aci/sw/anaconda3/2020.07_gcc-4.8.5-khh/lib/python3.8/site-packages/pandas/io/parsers.py\", line 454, in _read\n",
      "    data = parser.read(nrows)\n",
      "  File \"<ipython-input-53-1c61114b5453>\", line 6, in get_chr_mut\n",
      "    df_maf = pd.read_csv(os.path.join(dir_maf,feature_type, feat+'.csv'), sep = '\\t')\n",
      "  File \"/opt/aci/sw/anaconda3/2020.07_gcc-4.8.5-khh/lib/python3.8/site-packages/pandas/io/parsers.py\", line 2037, in read\n",
      "    data = self._reader.read(nrows)\n",
      "  File \"/opt/aci/sw/anaconda3/2020.07_gcc-4.8.5-khh/lib/python3.8/site-packages/pandas/io/parsers.py\", line 454, in _read\n",
      "    data = parser.read(nrows)\n",
      "  File \"/opt/aci/sw/anaconda3/2020.07_gcc-4.8.5-khh/lib/python3.8/site-packages/pandas/io/parsers.py\", line 2037, in read\n",
      "    data = self._reader.read(nrows)\n",
      "  File \"/opt/aci/sw/anaconda3/2020.07_gcc-4.8.5-khh/lib/python3.8/site-packages/pandas/io/parsers.py\", line 1133, in read\n",
      "    ret = self._engine.read(nrows)\n",
      "  File \"/opt/aci/sw/anaconda3/2020.07_gcc-4.8.5-khh/lib/python3.8/multiprocessing/pool.py\", line 48, in mapstar\n",
      "    return list(map(*args))\n",
      "  File \"/opt/aci/sw/anaconda3/2020.07_gcc-4.8.5-khh/lib/python3.8/multiprocessing/pool.py\", line 48, in mapstar\n",
      "    return list(map(*args))\n",
      "  File \"pandas/_libs/parsers.pyx\", line 860, in pandas._libs.parsers.TextReader.read\n",
      "  File \"/opt/aci/sw/anaconda3/2020.07_gcc-4.8.5-khh/lib/python3.8/site-packages/pandas/io/parsers.py\", line 676, in parser_f\n",
      "    return _read(filepath_or_buffer, kwds)\n",
      "  File \"/opt/aci/sw/anaconda3/2020.07_gcc-4.8.5-khh/lib/python3.8/site-packages/pandas/io/parsers.py\", line 2037, in read\n",
      "    data = self._reader.read(nrows)\n",
      "  File \"/opt/aci/sw/anaconda3/2020.07_gcc-4.8.5-khh/lib/python3.8/site-packages/pandas/io/parsers.py\", line 2037, in read\n",
      "    data = self._reader.read(nrows)\n",
      "  File \"/opt/aci/sw/anaconda3/2020.07_gcc-4.8.5-khh/lib/python3.8/site-packages/pandas/io/parsers.py\", line 1133, in read\n",
      "    ret = self._engine.read(nrows)\n",
      "  File \"pandas/_libs/parsers.pyx\", line 860, in pandas._libs.parsers.TextReader.read\n",
      "  File \"<ipython-input-53-1c61114b5453>\", line 6, in get_chr_mut\n",
      "    df_maf = pd.read_csv(os.path.join(dir_maf,feature_type, feat+'.csv'), sep = '\\t')\n",
      "  File \"pandas/_libs/parsers.pyx\", line 875, in pandas._libs.parsers.TextReader._read_low_memory\n",
      "  File \"<ipython-input-53-1c61114b5453>\", line 6, in get_chr_mut\n",
      "    df_maf = pd.read_csv(os.path.join(dir_maf,feature_type, feat+'.csv'), sep = '\\t')\n",
      "  File \"pandas/_libs/parsers.pyx\", line 860, in pandas._libs.parsers.TextReader.read\n",
      "  File \"/opt/aci/sw/anaconda3/2020.07_gcc-4.8.5-khh/lib/python3.8/site-packages/pandas/io/parsers.py\", line 454, in _read\n",
      "    data = parser.read(nrows)\n",
      "  File \"pandas/_libs/parsers.pyx\", line 952, in pandas._libs.parsers.TextReader._read_rows\n",
      "  File \"/opt/aci/sw/anaconda3/2020.07_gcc-4.8.5-khh/lib/python3.8/site-packages/pandas/io/parsers.py\", line 676, in parser_f\n",
      "    return _read(filepath_or_buffer, kwds)\n",
      "  File \"/opt/aci/sw/anaconda3/2020.07_gcc-4.8.5-khh/lib/python3.8/site-packages/pandas/io/parsers.py\", line 2037, in read\n",
      "    data = self._reader.read(nrows)\n",
      "  File \"/opt/aci/sw/anaconda3/2020.07_gcc-4.8.5-khh/lib/python3.8/site-packages/pandas/io/parsers.py\", line 676, in parser_f\n",
      "    return _read(filepath_or_buffer, kwds)\n",
      "  File \"/opt/aci/sw/anaconda3/2020.07_gcc-4.8.5-khh/lib/python3.8/site-packages/pandas/io/parsers.py\", line 1133, in read\n",
      "    ret = self._engine.read(nrows)\n",
      "  File \"pandas/_libs/parsers.pyx\", line 860, in pandas._libs.parsers.TextReader.read\n",
      "  File \"pandas/_libs/parsers.pyx\", line 875, in pandas._libs.parsers.TextReader._read_low_memory\n",
      "  File \"/opt/aci/sw/anaconda3/2020.07_gcc-4.8.5-khh/lib/python3.8/site-packages/pandas/io/parsers.py\", line 2037, in read\n",
      "    data = self._reader.read(nrows)\n",
      "  File \"pandas/_libs/parsers.pyx\", line 875, in pandas._libs.parsers.TextReader._read_low_memory\n",
      "  File \"/opt/aci/sw/anaconda3/2020.07_gcc-4.8.5-khh/lib/python3.8/site-packages/pandas/io/parsers.py\", line 454, in _read\n",
      "    data = parser.read(nrows)\n",
      "  File \"pandas/_libs/parsers.pyx\", line 1097, in pandas._libs.parsers.TextReader._convert_column_data\n",
      "  File \"pandas/_libs/parsers.pyx\", line 952, in pandas._libs.parsers.TextReader._read_rows\n",
      "  File \"pandas/_libs/parsers.pyx\", line 875, in pandas._libs.parsers.TextReader._read_low_memory\n",
      "  File \"pandas/_libs/parsers.pyx\", line 860, in pandas._libs.parsers.TextReader.read\n",
      "  File \"pandas/_libs/parsers.pyx\", line 952, in pandas._libs.parsers.TextReader._read_rows\n",
      "  File \"/opt/aci/sw/anaconda3/2020.07_gcc-4.8.5-khh/lib/python3.8/site-packages/pandas/io/parsers.py\", line 454, in _read\n",
      "    data = parser.read(nrows)\n",
      "  File \"pandas/_libs/parsers.pyx\", line 860, in pandas._libs.parsers.TextReader.read\n",
      "  File \"pandas/_libs/parsers.pyx\", line 875, in pandas._libs.parsers.TextReader._read_low_memory\n",
      "  File \"/opt/aci/sw/anaconda3/2020.07_gcc-4.8.5-khh/lib/python3.8/site-packages/pandas/io/parsers.py\", line 1133, in read\n",
      "    ret = self._engine.read(nrows)\n",
      "  File \"pandas/_libs/parsers.pyx\", line 1097, in pandas._libs.parsers.TextReader._convert_column_data\n",
      "  File \"/opt/aci/sw/anaconda3/2020.07_gcc-4.8.5-khh/lib/python3.8/site-packages/pandas/io/parsers.py\", line 1133, in read\n",
      "    ret = self._engine.read(nrows)\n",
      "  File \"pandas/_libs/parsers.pyx\", line 1097, in pandas._libs.parsers.TextReader._convert_column_data\n",
      "  File \"/opt/aci/sw/anaconda3/2020.07_gcc-4.8.5-khh/lib/python3.8/site-packages/pandas/core/dtypes/common.py\", line 1565, in is_extension_array_dtype\n",
      "    def is_extension_array_dtype(arr_or_dtype) -> bool:\n",
      "  File \"pandas/_libs/parsers.pyx\", line 875, in pandas._libs.parsers.TextReader._read_low_memory\n",
      "  File \"/opt/aci/sw/anaconda3/2020.07_gcc-4.8.5-khh/lib/python3.8/site-packages/pandas/io/parsers.py\", line 2037, in read\n",
      "    data = self._reader.read(nrows)\n",
      "  File \"pandas/_libs/parsers.pyx\", line 952, in pandas._libs.parsers.TextReader._read_rows\n",
      "  File \"pandas/_libs/parsers.pyx\", line 952, in pandas._libs.parsers.TextReader._read_rows\n",
      "  File \"/opt/aci/sw/anaconda3/2020.07_gcc-4.8.5-khh/lib/python3.8/site-packages/pandas/core/dtypes/common.py\", line 1565, in is_extension_array_dtype\n",
      "    def is_extension_array_dtype(arr_or_dtype) -> bool:\n",
      "  File \"/opt/aci/sw/anaconda3/2020.07_gcc-4.8.5-khh/lib/python3.8/site-packages/pandas/core/dtypes/common.py\", line 1565, in is_extension_array_dtype\n",
      "    def is_extension_array_dtype(arr_or_dtype) -> bool:\n",
      "KeyboardInterrupt\n",
      "  File \"/opt/aci/sw/anaconda3/2020.07_gcc-4.8.5-khh/lib/python3.8/site-packages/pandas/io/parsers.py\", line 2037, in read\n",
      "    data = self._reader.read(nrows)\n",
      "  File \"pandas/_libs/parsers.pyx\", line 1084, in pandas._libs.parsers.TextReader._convert_column_data\n",
      "  File \"pandas/_libs/parsers.pyx\", line 952, in pandas._libs.parsers.TextReader._read_rows\n",
      "  File \"pandas/_libs/parsers.pyx\", line 860, in pandas._libs.parsers.TextReader.read\n",
      "  File \"pandas/_libs/parsers.pyx\", line 1097, in pandas._libs.parsers.TextReader._convert_column_data\n",
      "  File \"pandas/_libs/parsers.pyx\", line 860, in pandas._libs.parsers.TextReader.read\n",
      "KeyboardInterrupt\n",
      "KeyboardInterrupt\n",
      "  File \"pandas/_libs/parsers.pyx\", line 1084, in pandas._libs.parsers.TextReader._convert_column_data\n",
      "  File \"/opt/aci/sw/anaconda3/2020.07_gcc-4.8.5-khh/lib/python3.8/site-packages/pandas/core/dtypes/common.py\", line 1565, in is_extension_array_dtype\n",
      "    def is_extension_array_dtype(arr_or_dtype) -> bool:\n",
      "  File \"pandas/_libs/parsers.pyx\", line 875, in pandas._libs.parsers.TextReader._read_low_memory\n",
      "  File \"pandas/_libs/parsers.pyx\", line 875, in pandas._libs.parsers.TextReader._read_low_memory\n",
      "  File \"pandas/_libs/parsers.pyx\", line 1130, in pandas._libs.parsers.TextReader._convert_tokens\n",
      "  File \"pandas/_libs/parsers.pyx\", line 1130, in pandas._libs.parsers.TextReader._convert_tokens\n",
      "  File \"pandas/_libs/parsers.pyx\", line 952, in pandas._libs.parsers.TextReader._read_rows\n",
      "  File \"pandas/_libs/parsers.pyx\", line 952, in pandas._libs.parsers.TextReader._read_rows\n",
      "  File \"pandas/_libs/parsers.pyx\", line 1173, in pandas._libs.parsers.TextReader._convert_with_dtype\n",
      "KeyboardInterrupt\n",
      "  File \"pandas/_libs/parsers.pyx\", line 1173, in pandas._libs.parsers.TextReader._convert_with_dtype\n",
      "  File \"pandas/_libs/parsers.pyx\", line 1084, in pandas._libs.parsers.TextReader._convert_column_data\n",
      "  File \"/opt/aci/sw/anaconda3/2020.07_gcc-4.8.5-khh/lib/python3.8/site-packages/pandas/core/dtypes/common.py\", line 542, in is_categorical_dtype\n",
      "    def is_categorical_dtype(arr_or_dtype) -> bool:\n",
      "  File \"pandas/_libs/parsers.pyx\", line 1084, in pandas._libs.parsers.TextReader._convert_column_data\n",
      "  File \"/opt/aci/sw/anaconda3/2020.07_gcc-4.8.5-khh/lib/python3.8/site-packages/pandas/core/dtypes/common.py\", line 542, in is_categorical_dtype\n",
      "    def is_categorical_dtype(arr_or_dtype) -> bool:\n",
      "KeyboardInterrupt\n",
      "KeyboardInterrupt\n",
      "  File \"pandas/_libs/parsers.pyx\", line 1130, in pandas._libs.parsers.TextReader._convert_tokens\n",
      "  File \"pandas/_libs/parsers.pyx\", line 1173, in pandas._libs.parsers.TextReader._convert_with_dtype\n",
      "  File \"pandas/_libs/parsers.pyx\", line 1130, in pandas._libs.parsers.TextReader._convert_tokens\n",
      "  File \"pandas/_libs/parsers.pyx\", line 1173, in pandas._libs.parsers.TextReader._convert_with_dtype\n",
      "  File \"/opt/aci/sw/anaconda3/2020.07_gcc-4.8.5-khh/lib/python3.8/site-packages/pandas/core/dtypes/common.py\", line 542, in is_categorical_dtype\n",
      "    def is_categorical_dtype(arr_or_dtype) -> bool:\n",
      "  File \"/opt/aci/sw/anaconda3/2020.07_gcc-4.8.5-khh/lib/python3.8/site-packages/pandas/core/dtypes/common.py\", line 542, in is_categorical_dtype\n",
      "    def is_categorical_dtype(arr_or_dtype) -> bool:\n",
      "KeyboardInterrupt\n",
      "KeyboardInterrupt\n"
     ]
    }
   ],
   "source": [
    "### Run get mutation, we don't get the full range\n",
    "p = Pool(8)\n",
    "res = p.map(get_chr_mut, range(start_range, end_range))\n",
    "p.close()\n",
    "p.join()\n",
    "\n",
    "### Concat the results\n",
    "df_all = pd.concat(res, ignore_index = True)\n",
    "\n",
    "### Save results\n",
    "fname = feat+'_chr'+chromosome+'_'+str(interval)+'_'+str(start_range)+'-'+str(end_range)+'_'+today.strftime(\"%b-%d-%Y\")+'.csv'\n",
    "df_all.to_csv(os.path.join('./figure1',fname))"
   ]
  }
 ],
 "metadata": {
  "kernelspec": {
   "display_name": "Python 3",
   "language": "python",
   "name": "python3"
  },
  "language_info": {
   "codemirror_mode": {
    "name": "ipython",
    "version": 3
   },
   "file_extension": ".py",
   "mimetype": "text/x-python",
   "name": "python",
   "nbconvert_exporter": "python",
   "pygments_lexer": "ipython3",
   "version": "3.8.3"
  }
 },
 "nbformat": 4,
 "nbformat_minor": 4
}
