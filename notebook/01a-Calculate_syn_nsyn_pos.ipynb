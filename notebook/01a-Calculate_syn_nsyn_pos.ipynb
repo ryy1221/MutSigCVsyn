{
 "cells": [
  {
   "cell_type": "code",
   "execution_count": null,
   "metadata": {},
   "outputs": [],
   "source": [
    "# this code calculate all the positions that can have \n",
    "# synonymous mutations/non-synonymous mutations in known protein coding genes(same as in coverage)\n",
    "# Author: Yiyun\n",
    "\n",
    "\n",
    "# import sys  # In case not appended\n",
    "# sys.path\n",
    "# sys.path.append('/storage/home/yur97/work/anaconda3/lib/python3.8/site-packages')"
   ]
  },
  {
   "cell_type": "code",
   "execution_count": 2,
   "metadata": {},
   "outputs": [],
   "source": [
    "import pandas as pd\n",
    "import os\n",
    "import pickle\n",
    "from tqdm import tqdm\n",
    "from Bio import SeqIO\n",
    "from Bio.Seq import Seq\n",
    "from utils import *\n",
    "from multiprocessing import Pool"
   ]
  },
  {
   "cell_type": "code",
   "execution_count": 3,
   "metadata": {},
   "outputs": [],
   "source": [
    "### Load annotation data\n",
    "dict_name = pickle.load(open('../proc_09152020/dict_name.pkl','rb'))\n",
    "dict_transcript_info = pickle.load(open('../proc_09152020/dict_transcript_info.pkl','rb'))\n",
    "dict_record = pickle.load(open('../proc_09152020/dict_record_new.pkl','rb'))\n",
    "# dict_record = SeqIO.to_dict(SeqIO.parse('../anno_ref/gencode_v19/GRCh37.p13.genome.fa', 'fasta'))\n",
    "# pickle.dump(dict_record, open('../proc_09152020/dict_record_new.pkl','wb')) # new dict record that compatible with python3"
   ]
  },
  {
   "cell_type": "code",
   "execution_count": 4,
   "metadata": {},
   "outputs": [],
   "source": [
    "# Get number of positions that can have silent mutations in a known protein coding gene\n",
    "def get_n(cds_seq):\n",
    "    base_context = None   #codon\n",
    "    context_position = None  #position of base in codon\n",
    "    lp_flag = 0  #low quality flag\n",
    "    n_context = 0  #cds position\n",
    "    silent_bases = 0 # Total silent positions in the gene\n",
    "    nonsilent_bases = 0\n",
    "\n",
    "    for bases in cds_seq:\n",
    "        silent_n = 0 # if a base can cause silent mutation or not\n",
    "\n",
    "        if bases == \"N\":\n",
    "            lp_flag = 1\n",
    "            continue\n",
    "\n",
    "        #Determine codon context\n",
    "        n_context += 1\n",
    "        if n_context % 3 != 0:\n",
    "            context_position = n_context % 3 - 1\n",
    "            codon_n = (n_context // 3) * 3\n",
    "            base_context = cds_seq[codon_n:codon_n + 3]\n",
    "\n",
    "        else:\n",
    "            context_position = 2\n",
    "            codon_n = n_context\n",
    "            base_context = cds_seq[codon_n - 3:codon_n]\n",
    "        #If any mutation can cause silent mutation, if can, change flag\n",
    "        other_nuc = filter(lambda i: i != bases, nuc)\n",
    "        for mut_bases in other_nuc:\n",
    "            context_before = base_context  # This is the original tri-nucleotide context\n",
    "            context_after = base_context[:context_position] + mut_bases + base_context[context_position + 1:]\n",
    "            if is_silent(context_before, context_after):\n",
    "                silent_n += float(1/3)\n",
    "\n",
    "        # From silent_n for this base get nonsilent_n for this base\n",
    "        nonsilent_n = 1-silent_n\n",
    "        \n",
    "        # get silent bases and nonsilent bases\n",
    "        silent_bases+= silent_n\n",
    "        nonsilent_bases+=nonsilent_n\n",
    "    \n",
    "    return [silent_bases, nonsilent_bases]"
   ]
  },
  {
   "cell_type": "code",
   "execution_count": 5,
   "metadata": {},
   "outputs": [],
   "source": [
    "# Define function for multiprocessing\n",
    "def cal_n_silent(transcript):\n",
    "#     name = dict_name[transcript]\n",
    "    strand = dict_transcript_info[transcript]['strand']\n",
    "    chromosome = dict_transcript_info[transcript]['chr'].strip('chr')\n",
    "    list_cds = get_mrna_position(transcript, dict_transcript_info, strand)\n",
    "    seq_transcript = get_transcript_sequence(transcript, dict_transcript_info, dict_record, strand)\n",
    "    seq_cds = get_cdna_sequence(list_cds, strand, seq_transcript)\n",
    "    try:\n",
    "        res = get_n(seq_cds)\n",
    "    except KeyError:\n",
    "        # If the cds is not complete, we directly use 1/3 of the sequence length\n",
    "        res = [len(seq_cds)/3, (len(seq_cds)/3)*2]\n",
    "        \n",
    "    return res"
   ]
  },
  {
   "cell_type": "code",
   "execution_count": 6,
   "metadata": {},
   "outputs": [],
   "source": [
    "# Multiprocessing calculate all synonymous positions in genes\n",
    "p = Pool(4)\n",
    "res = p.map(cal_n_silent, dict_transcript_info.keys())\n",
    "p.close()\n",
    "p.join()"
   ]
  },
  {
   "cell_type": "code",
   "execution_count": 7,
   "metadata": {},
   "outputs": [],
   "source": [
    "syn = [];nsyn = []\n",
    "for transcripts in res:\n",
    "    syn.append(transcripts[0])\n",
    "    nsyn.append(transcripts[1])"
   ]
  },
  {
   "cell_type": "code",
   "execution_count": 9,
   "metadata": {},
   "outputs": [
    {
     "data": {
      "text/plain": [
       "7564562"
      ]
     },
     "execution_count": 9,
     "metadata": {},
     "output_type": "execute_result"
    }
   ],
   "source": [
    "round(sum(syn))"
   ]
  },
  {
   "cell_type": "code",
   "execution_count": 8,
   "metadata": {},
   "outputs": [
    {
     "data": {
      "text/plain": [
       "25388970"
      ]
     },
     "execution_count": 8,
     "metadata": {},
     "output_type": "execute_result"
    }
   ],
   "source": [
    "round(sum(nsyn))"
   ]
  }
 ],
 "metadata": {
  "kernelspec": {
   "display_name": "Python 3",
   "language": "python",
   "name": "python3"
  },
  "language_info": {
   "codemirror_mode": {
    "name": "ipython",
    "version": 3
   },
   "file_extension": ".py",
   "mimetype": "text/x-python",
   "name": "python",
   "nbconvert_exporter": "python",
   "pygments_lexer": "ipython3",
   "version": "3.8.3"
  }
 },
 "nbformat": 4,
 "nbformat_minor": 4
}
