{
 "cells": [
  {
   "cell_type": "code",
   "execution_count": 3,
   "metadata": {
    "collapsed": true
   },
   "outputs": [],
   "source": [
    "# This code is for comparing genes in PCAWG and genes in the BROAD covariate file\n",
    "# Author: yiyun\n",
    "# Date : 08202020\n"
   ]
  },
  {
   "cell_type": "code",
   "execution_count": 37,
   "metadata": {},
   "outputs": [],
   "source": [
    "#load file\n",
    "covar_f = '../anno_ref/gene.covariates.txt'\n",
    "covar = open(covar_f,'r')\n",
    "next(covar)\n",
    "list_covar =[]\n",
    "for lines in covar:\n",
    "    gene = lines.split('\\t')[0]\n",
    "    list_covar.append(gene)\n",
    "\n",
    "#pcawg all gene list(from all unique genes in coverage file)\n",
    "pcawg_f = '../anno_ref/pcawg_genelist.txt'\n",
    "pcawg = open(pcawg_f,'r')\n",
    "list_pcawg= []\n",
    "for lines in pcawg:\n",
    "    genes = lines.strip('\\n')\n",
    "    list_pcawg.append(genes)"
   ]
  },
  {
   "cell_type": "code",
   "execution_count": 38,
   "metadata": {},
   "outputs": [
    {
     "name": "stdout",
     "output_type": "stream",
     "text": [
      "16839\n",
      "18267\n"
     ]
    }
   ],
   "source": [
    "print len(list_pcawg)\n",
    "print len(list_covar)"
   ]
  },
  {
   "cell_type": "code",
   "execution_count": 39,
   "metadata": {},
   "outputs": [
    {
     "name": "stdout",
     "output_type": "stream",
     "text": [
      "2094\n"
     ]
    }
   ],
   "source": [
    "#genes in pcawg not in covar\n",
    "list_pnc = []\n",
    "for g in list_pcawg:\n",
    "    if g not in list_covar:\n",
    "        list_pnc.append(g)\n",
    "print len(list_pnc)\n",
    "# print list_pnc"
   ]
  },
  {
   "cell_type": "code",
   "execution_count": 40,
   "metadata": {},
   "outputs": [
    {
     "name": "stdout",
     "output_type": "stream",
     "text": [
      "3522\n"
     ]
    }
   ],
   "source": [
    "#genes in covar not in pcawg\n",
    "list_cnp = []\n",
    "for g in list_covar:\n",
    "    if g not in list_pcawg:\n",
    "        list_cnp.append(g)\n",
    "print len(list_cnp)\n",
    "# print list_cnp"
   ]
  }
 ],
 "metadata": {
  "kernelspec": {
   "display_name": "Python 2",
   "language": "python",
   "name": "python2"
  },
  "language_info": {
   "codemirror_mode": {
    "name": "ipython",
    "version": 2
   },
   "file_extension": ".py",
   "mimetype": "text/x-python",
   "name": "python",
   "nbconvert_exporter": "python",
   "pygments_lexer": "ipython2",
   "version": "2.7.14"
  }
 },
 "nbformat": 4,
 "nbformat_minor": 2
}
