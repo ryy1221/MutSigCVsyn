{
 "cells": [
  {
   "cell_type": "code",
   "execution_count": 1,
   "metadata": {},
   "outputs": [],
   "source": [
    "### This script plot data for figure 3 -- non-synonymous result\n",
    "import pandas as pd\n",
    "import os, pickle\n",
    "import numpy as np"
   ]
  },
  {
   "cell_type": "markdown",
   "metadata": {},
   "source": [
    "***\n",
    "### Get significant genes for non-synonymous result -- heatmap"
   ]
  },
  {
   "cell_type": "code",
   "execution_count": 8,
   "metadata": {},
   "outputs": [],
   "source": [
    "dir_anlyze = '../mutsig_out/anlyze'\n",
    "dir_out = './figure4/'\n",
    "cohort = ['histology','organ','origin','system','pancancer']"
   ]
  },
  {
   "cell_type": "code",
   "execution_count": 12,
   "metadata": {},
   "outputs": [],
   "source": [
    "def get_sign(feature_type,run, syn_nsyn):\n",
    "    df_all = pd.DataFrame()\n",
    "\n",
    "    sig_pathlist = pickle.load(open(os.path.join(dir_anlyze, feature_type +'.'+syn_nsyn+'.sig_genes.pathlist.'+run+'.pkl'),'rb'))\n",
    "    for fpath in sig_pathlist:\n",
    "        df_res_feat = pd.read_csv(fpath,sep = '\\t')\n",
    "        df_res_feat['feature'] = fpath.split('/')[-1].split('.')[0]\n",
    "        # Filter genes proto-cadherin genes and find significant genes\n",
    "        df_res_feat = df_res_feat[~df_res_feat['gene'].str.startswith('PCDH')]\n",
    "        df_res_sig = df_res_feat[df_res_feat['q']<0.1]        \n",
    "        df_all = pd.concat([df_all,df_res_sig], ignore_index = True)\n",
    "    \n",
    "    # Save dataframe\n",
    "#     df_all.to_csv(os.path.join(dir_out,feature_type+'.'+syn_nsyn+'.df_all_forheatmap.'+run+'.csv'))\n",
    "    return df_all"
   ]
  },
  {
   "cell_type": "code",
   "execution_count": 13,
   "metadata": {},
   "outputs": [],
   "source": [
    "df_all_new = get_sign('histology', 'cohort_072221', 'nsyn')\n",
    "lnsyn_new = df_all_new['gene'].unique().tolist()"
   ]
  },
  {
   "cell_type": "code",
   "execution_count": null,
   "metadata": {},
   "outputs": [],
   "source": [
    "df_all_old = get_sign('histology', '062121', 'nsyn')\n",
    "lnsyn_old = df_all_old['gene'].unique().tolist()"
   ]
  },
  {
   "cell_type": "markdown",
   "metadata": {},
   "source": [
    "***\n",
    "### Venn Diagram"
   ]
  },
  {
   "cell_type": "code",
   "execution_count": 14,
   "metadata": {},
   "outputs": [],
   "source": [
    "### Read PCAWG file and get df of driver genes, including PCAWG unique and both\n",
    "dir_refs = '../anno_ref/anlyze-manuscript/'\n",
    "df_pcawg = pd.read_csv(os.path.join(dir_refs, 'TableS1_compendium_mutational_drivers.csv'))\n",
    "df_pcawg = df_pcawg[df_pcawg['Element_type'] == 'cds']\n",
    "df_pcawg = df_pcawg[df_pcawg['Category'].isin(['both','discovery_unique'])]\n",
    "lpg = set(df_pcawg[\"Gene\"].unique())\n",
    "# If PCAWG exclusive driver list\n",
    "lpg_only = set(df_pcawg[df_pcawg['Category'] =='discovery_unique']['Gene'].tolist())\n",
    "\n",
    "### Read the census gene file and get cancer census gene list\n",
    "lcgc = []\n",
    "census_file = os.path.join(dir_refs, 'Census_all.csv')\n",
    "census_info = open(census_file,\"r\")\n",
    "next(census_info)\n",
    "for lines in census_info:\n",
    "    line_split = lines.split(',')\n",
    "    gene = line_split[0]\n",
    "    if gene not in lcgc:\n",
    "        lcgc.append(gene)\n",
    "\n",
    "### Read nsyn candidate gene list\n",
    "cohorts = ['histology','organ','origin','system','pancancer']\n",
    "dir_out = './figure3/'; dir_anlyze = '../mutsig_out/anlyze'\n",
    "feature_type = 'histology';syn_nsyn = 'nsyn';run = 'cohort_072221'\n",
    "\n",
    "sig_pathlist = pickle.load(open(os.path.join(dir_anlyze, feature_type +'.'+syn_nsyn+'.sig_genes.pathlist.062121.pkl'),'rb'))\n",
    "lfeat = [i.split('/')[-1].split('.')[0] for i in sig_pathlist]\n",
    "df_nsyn = pd.read_csv(os.path.join(dir_out,feature_type+'.'+syn_nsyn+'.df_all_forheatmap.'+run+'.csv'),index_col = 0)\n",
    "lnsyn = df_nsyn['gene'].unique().tolist()"
   ]
  },
  {
   "cell_type": "code",
   "execution_count": 16,
   "metadata": {},
   "outputs": [],
   "source": [
    "def calc_venn_size(lpcawg, census_list, lsig_nsyn):\n",
    "    n_nsyn = len(set(lsig_nsyn)); n_cgc = len(set(census_list)); n_pe = len(lpcawg)\n",
    "    print(f'MutSigCVsyn nonsynonymous has {len(set(lsig_nsyn))} genes')\n",
    "    print(f'Concensus list has {len(set(census_list))} genes')\n",
    "    print(f'pcawg exclusive and both drivers has {len(set(lpcawg))} genes')\n",
    "    \n",
    "    ### Intersection of one with another\n",
    "    ovp_cgc_nsyn = len(set(lsig_nsyn).intersection(set(census_list)))\n",
    "    ovp_cgc_pe = len(set(census_list).intersection(set(lpcawg)))\n",
    "    ovp_pe_nsyn = len(set(lsig_nsyn).intersection(set(lpcawg)))\n",
    "    print(f'MutSigCVsyn nonsynonymous and CGC {len(set(lsig_nsyn).intersection(set(census_list)))}')\n",
    "    print(f'MutSigCVsyn nonsynonymous and PCAWG both&exclusive {len(set(lsig_nsyn).intersection(set(df_pcawg[\"Gene\"].unique())))}')\n",
    "    print(f'PCAWG both&exclusive and CGC {len(set(census_list).intersection(set(df_pcawg[\"Gene\"].unique())))}')\n",
    "    ### Intersection of all\n",
    "    s1 = set(census_list).intersection(set(df_pcawg['Gene'].unique()))\n",
    "    s2 = set(s1).intersection(set(lsig_nsyn))\n",
    "    inter_all = len(s2)\n",
    "    print(f'Intersection of all is {len(s2)}' )\n",
    "    \n",
    "    ### Calculate venn size\n",
    "    s3_cgc_nsyn = ovp_cgc_nsyn -inter_all\n",
    "    s5_cgc_pe = ovp_cgc_pe - inter_all\n",
    "    s6_nsyn_pe = ovp_pe_nsyn - inter_all\n",
    "    s1_cgc = n_cgc-inter_all - s3_cgc_nsyn - s5_cgc_pe\n",
    "    s2_nsyn = n_nsyn - inter_all - s3_cgc_nsyn - s6_nsyn_pe\n",
    "    s4_pe = n_pe -inter_all -s5_cgc_pe - s6_nsyn_pe\n",
    "\n",
    "    venn_subset = (s1_cgc, s2_nsyn, s3_cgc_nsyn, s4_pe,s5_cgc_pe, s6_nsyn_pe, inter_all)\n",
    "    \n",
    "    s2 = s2 # CGC and PCAWG\n",
    "    pcawg_only = set(lsig_nsyn).intersection(set(lpcawg)) - s2\n",
    "    lcgc_only = set(lsig_nsyn).intersection(set(census_list))-s2\n",
    "    lnovel = set(lsig_nsyn) - pcawg_only - lcgc_only - s2\n",
    "    \n",
    "    return venn_subset, s2 , pcawg_only, lcgc_only, lnovel"
   ]
  },
  {
   "cell_type": "code",
   "execution_count": 20,
   "metadata": {},
   "outputs": [
    {
     "name": "stdout",
     "output_type": "stream",
     "text": [
      "MutSigCVsyn nonsynonymous has 144 genes\n",
      "Concensus list has 723 genes\n",
      "pcawg exclusive and both drivers has 150 genes\n",
      "MutSigCVsyn nonsynonymous and CGC 84\n",
      "MutSigCVsyn nonsynonymous and PCAWG both&exclusive 91\n",
      "PCAWG both&exclusive and CGC 108\n",
      "Intersection of all is 72\n"
     ]
    }
   ],
   "source": [
    "### PCAWG driver\n",
    "venn_size, cgc_pg, pg_only, cgc_only, novel = calc_venn_size(lpg, lcgc,lnsyn)\n",
    "dict_venn = {\n",
    "    'size':venn_size,\n",
    "    'cgc_pcawg':cgc_pg,\n",
    "    'pcawg_only': pg_only,\n",
    "    'cgc_only': cgc_only,\n",
    "    'novel': novel,\n",
    "    'pcawg_exclusive':set(lnsyn).intersection(set(lpg_only))\n",
    "}\n",
    "# pickle.dump(dict_venn, open(os.path.join(dir_out, 'dict_venn_072221.pkl'), 'wb'))"
   ]
  },
  {
   "cell_type": "code",
   "execution_count": 31,
   "metadata": {},
   "outputs": [
    {
     "data": {
      "text/plain": [
       "(606, 44, 9, 22, 39, 20, 69)"
      ]
     },
     "execution_count": 31,
     "metadata": {},
     "output_type": "execute_result"
    }
   ],
   "source": [
    "venn_size"
   ]
  },
  {
   "cell_type": "code",
   "execution_count": 19,
   "metadata": {},
   "outputs": [
    {
     "name": "stdout",
     "output_type": "stream",
     "text": [
      "pcawg exclusive drivers has 15 genes\n",
      "{'PRKCD', 'KLHL6', 'GRB2', 'RRAGC', 'PLK1', 'TMEM30A'}\n"
     ]
    }
   ],
   "source": [
    "### Exclusive driver overlap\n",
    "print(f'pcawg exclusive drivers has {len(set(lpg_only))} genes')\n",
    "print(set(lnsyn).intersection(set(lpg_only)))"
   ]
  }
 ],
 "metadata": {
  "kernelspec": {
   "display_name": "Python 3",
   "language": "python",
   "name": "python3"
  },
  "language_info": {
   "codemirror_mode": {
    "name": "ipython",
    "version": 3
   },
   "file_extension": ".py",
   "mimetype": "text/x-python",
   "name": "python",
   "nbconvert_exporter": "python",
   "pygments_lexer": "ipython3",
   "version": "3.8.3"
  }
 },
 "nbformat": 4,
 "nbformat_minor": 4
}
