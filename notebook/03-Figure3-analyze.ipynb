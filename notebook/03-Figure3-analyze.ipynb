{
 "cells": [
  {
   "cell_type": "code",
   "execution_count": 1,
   "metadata": {},
   "outputs": [],
   "source": [
    "### This script plot data for figure 3 -- non-synonymous result\n",
    "import pandas as pd\n",
    "import os, pickle\n",
    "import numpy as np"
   ]
  },
  {
   "cell_type": "markdown",
   "metadata": {},
   "source": [
    "***\n",
    "### Get significant genes for non-synonymous result -- heatmap"
   ]
  },
  {
   "cell_type": "code",
   "execution_count": 25,
   "metadata": {},
   "outputs": [],
   "source": [
    "dir_anlyze = '../mutsig_out/anlyze'\n",
    "dir_out = './figure3/'\n",
    "dir_res = '../mutsig_out/'\n",
    "cohort = ['histology','organ','origin','system','pancancer']\n",
    "\n",
    "# output directory\n",
    "dir_out_figure = '../manuscript/figures_data/'\n",
    "dir_out_table = '../manuscript/tables/'\n",
    "\n",
    "if not os.path.exists(dir_out_figure):\n",
    "    os.makedirs(dir_out_figure)\n",
    "if not os.path.exists(dir_out_table):\n",
    "    os.makedirs(dir_out_table)"
   ]
  },
  {
   "cell_type": "code",
   "execution_count": 3,
   "metadata": {},
   "outputs": [],
   "source": [
    "### For feature type, get the number of successfully run \n",
    "def get_res_path(feature_type, run,  syn_nsyn = None):\n",
    "    dir_res_feat = os.path.join(dir_res,syn_nsyn,run)\n",
    "    # Append the path of significant gene files into a list\n",
    "    lsig_f = []\n",
    "    for feat in os.listdir(dir_res_feat):\n",
    "        fsig = [i for i in os.listdir(os.path.join(dir_res_feat,feat)) \\\n",
    "                if i.endswith('sig_genes.txt')]\n",
    "        if len(fsig) > 0: \n",
    "            fsig_path = os.path.join(dir_res_feat, feat, fsig[0])\n",
    "            lsig_f.append(fsig_path)\n",
    "    # pickle.dump(lsig_f, open(os.path.join(dir_anlyze, \\\n",
    "    #         feature_type+'.'+syn_nsyn+'.sig_genes.pathlist.'+run+'.pkl'),'wb'))"
   ]
  },
  {
   "cell_type": "code",
   "execution_count": 4,
   "metadata": {},
   "outputs": [],
   "source": [
    "get_res_path('histology', 'cohort_new_nohypermutator', 'nsyn')"
   ]
  },
  {
   "cell_type": "code",
   "execution_count": 2,
   "metadata": {},
   "outputs": [],
   "source": [
    "def get_sign(feature_type,run, syn_nsyn):\n",
    "    df_all = pd.DataFrame()\n",
    "\n",
    "    sig_pathlist = pickle.load(open(os.path.join(dir_anlyze, feature_type +'.'+syn_nsyn+'.sig_genes.pathlist.'+run+'.pkl'),'rb'))\n",
    "    for fpath in sig_pathlist:\n",
    "        df_res_feat = pd.read_csv(fpath,sep = '\\t')\n",
    "        df_res_feat['feature'] = fpath.split('/')[-1].split('.')[0]\n",
    "        # Filter genes proto-cadherin genes and find significant genes\n",
    "        df_res_feat = df_res_feat[~df_res_feat['gene'].str.startswith('PCDH')]\n",
    "        df_res_sig = df_res_feat[df_res_feat['q']<0.1]        \n",
    "        df_all = pd.concat([df_all,df_res_sig], ignore_index = True)\n",
    "    \n",
    "    # Save dataframe\n",
    "    # df_all.to_csv(os.path.join(dir_out_figure,run+'.nsyn_forheatmap.csv'))\n",
    "    return df_all"
   ]
  },
  {
   "cell_type": "code",
   "execution_count": 5,
   "metadata": {},
   "outputs": [],
   "source": [
    "df_all_new = get_sign('histology', 'cohort_new_nohypermutator', 'nsyn')\n",
    "lnsyn_new = df_all_new['gene'].unique().tolist()"
   ]
  },
  {
   "cell_type": "code",
   "execution_count": 6,
   "metadata": {},
   "outputs": [
    {
     "data": {
      "text/plain": [
       "133"
      ]
     },
     "execution_count": 6,
     "metadata": {},
     "output_type": "execute_result"
    }
   ],
   "source": [
    "len(lnsyn_new) # How many significant non-synonymous genes"
   ]
  },
  {
   "cell_type": "code",
   "execution_count": 9,
   "metadata": {},
   "outputs": [
    {
     "data": {
      "text/plain": [
       "29"
      ]
     },
     "execution_count": 9,
     "metadata": {},
     "output_type": "execute_result"
    }
   ],
   "source": [
    "len(df_all_new['feature'].unique().tolist()) # how many unique cohorts"
   ]
  },
  {
   "cell_type": "code",
   "execution_count": 13,
   "metadata": {},
   "outputs": [
    {
     "data": {
      "text/plain": [
       "21"
      ]
     },
     "execution_count": 13,
     "metadata": {},
     "output_type": "execute_result"
    }
   ],
   "source": [
    "len(df_all_new[df_all_new['gene'] == 'TP53']) # TP53 is significant across how many cohorts"
   ]
  },
  {
   "cell_type": "markdown",
   "metadata": {},
   "source": [
    "***\n",
    "### Venn Diagram"
   ]
  },
  {
   "cell_type": "code",
   "execution_count": 18,
   "metadata": {},
   "outputs": [],
   "source": [
    "### Read PCAWG file and get df of driver genes, including PCAWG unique and both\n",
    "dir_refs = '../data/anno_refs/'\n",
    "df_pcawg = pd.read_csv(os.path.join(dir_refs, 'TableS1_compendium_mutational_drivers.csv'))\n",
    "df_pcawg = df_pcawg[df_pcawg['Element_type'] == 'cds']\n",
    "df_pcawg = df_pcawg[df_pcawg['Category'].isin(['both','discovery_unique'])]\n",
    "lpg = set(df_pcawg[\"Gene\"].unique())\n",
    "# If PCAWG exclusive driver list\n",
    "lpg_only = set(df_pcawg[df_pcawg['Category'] =='discovery_unique']['Gene'].tolist())\n",
    "\n",
    "### Read the census gene file and get cancer census gene list\n",
    "lcgc = []\n",
    "census_file = os.path.join(dir_refs, 'Census_all.csv')\n",
    "census_info = open(census_file,\"r\")\n",
    "next(census_info)\n",
    "for lines in census_info:\n",
    "    line_split = lines.split(',')\n",
    "    gene = line_split[0]\n",
    "    if gene not in lcgc:\n",
    "        lcgc.append(gene)\n",
    "\n",
    "### Read nsyn candidate gene list\n",
    "dir_anlyze = '../mutsig_out/anlyze'\n",
    "feature_type = 'histology';syn_nsyn = 'nsyn'\n",
    "run = 'cohort_new_nohypermutator'\n",
    "\n",
    "sig_pathlist = pickle.load(open(os.path.join(dir_anlyze, feature_type +'.'+syn_nsyn+'.sig_genes.pathlist.'+run+'.pkl'),'rb'))\n",
    "lfeat = [i.split('/')[-1].split('.')[0] for i in sig_pathlist]\n",
    "df_nsyn = pd.read_csv(os.path.join(dir_out_figure,run+'.nsyn_forheatmap.csv'),index_col = 0)\n",
    "lnsyn = df_nsyn['gene'].unique().tolist()"
   ]
  },
  {
   "cell_type": "code",
   "execution_count": 12,
   "metadata": {},
   "outputs": [],
   "source": [
    "def calc_venn_size(lpcawg, census_list, lsig_nsyn):\n",
    "    n_nsyn = len(set(lsig_nsyn)); n_cgc = len(set(census_list)); n_pe = len(lpcawg)\n",
    "    print(f'MutSigCVsyn nonsynonymous has {len(set(lsig_nsyn))} genes')\n",
    "    print(f'Concensus list has {len(set(census_list))} genes')\n",
    "    print(f'pcawg exclusive and both drivers has {len(set(lpcawg))} genes')\n",
    "    \n",
    "    ### Intersection of one with another\n",
    "    ovp_cgc_nsyn = len(set(lsig_nsyn).intersection(set(census_list)))\n",
    "    ovp_cgc_pe = len(set(census_list).intersection(set(lpcawg)))\n",
    "    ovp_pe_nsyn = len(set(lsig_nsyn).intersection(set(lpcawg)))\n",
    "    print(f'MutSigCVsyn nonsynonymous and CGC {len(set(lsig_nsyn).intersection(set(census_list)))}')\n",
    "    print(f'MutSigCVsyn nonsynonymous and PCAWG both&exclusive {len(set(lsig_nsyn).intersection(set(df_pcawg[\"Gene\"].unique())))}')\n",
    "    print(f'PCAWG both&exclusive and CGC {len(set(census_list).intersection(set(df_pcawg[\"Gene\"].unique())))}')\n",
    "    ### Intersection of all\n",
    "    s1 = set(census_list).intersection(set(df_pcawg['Gene'].unique()))\n",
    "    s2 = set(s1).intersection(set(lsig_nsyn))\n",
    "    inter_all = len(s2)\n",
    "    print(f'Intersection of all is {len(s2)}' )\n",
    "    \n",
    "    ### Calculate venn size\n",
    "    s3_cgc_nsyn = ovp_cgc_nsyn -inter_all\n",
    "    s5_cgc_pe = ovp_cgc_pe - inter_all\n",
    "    s6_nsyn_pe = ovp_pe_nsyn - inter_all\n",
    "    s1_cgc = n_cgc-inter_all - s3_cgc_nsyn - s5_cgc_pe\n",
    "    s2_nsyn = n_nsyn - inter_all - s3_cgc_nsyn - s6_nsyn_pe\n",
    "    s4_pe = n_pe -inter_all -s5_cgc_pe - s6_nsyn_pe\n",
    "\n",
    "    venn_subset = (s1_cgc, s2_nsyn, s3_cgc_nsyn, s4_pe,s5_cgc_pe, s6_nsyn_pe, inter_all)\n",
    "    \n",
    "    s2 = s2 # CGC and PCAWG\n",
    "    pcawg_only = set(lsig_nsyn).intersection(set(lpcawg)) - s2\n",
    "    lcgc_only = set(lsig_nsyn).intersection(set(census_list))-s2\n",
    "    lnovel = set(lsig_nsyn) - pcawg_only - lcgc_only - s2\n",
    "    \n",
    "    return venn_subset, s2 , pcawg_only, lcgc_only, lnovel"
   ]
  },
  {
   "cell_type": "code",
   "execution_count": 13,
   "metadata": {},
   "outputs": [
    {
     "name": "stdout",
     "output_type": "stream",
     "text": [
      "MutSigCVsyn nonsynonymous has 133 genes\n",
      "Concensus list has 723 genes\n",
      "pcawg exclusive and both drivers has 150 genes\n",
      "MutSigCVsyn nonsynonymous and CGC 78\n",
      "MutSigCVsyn nonsynonymous and PCAWG both&exclusive 88\n",
      "PCAWG both&exclusive and CGC 108\n",
      "Intersection of all is 69\n"
     ]
    }
   ],
   "source": [
    "### PCAWG driver\n",
    "venn_size, cgc_pg, pg_only, cgc_only, novel = calc_venn_size(lpg, lcgc,lnsyn)"
   ]
  },
  {
   "cell_type": "code",
   "execution_count": 14,
   "metadata": {},
   "outputs": [
    {
     "data": {
      "text/plain": [
       "(606, 36, 9, 23, 39, 19, 69)"
      ]
     },
     "execution_count": 14,
     "metadata": {},
     "output_type": "execute_result"
    }
   ],
   "source": [
    "venn_size"
   ]
  },
  {
   "cell_type": "code",
   "execution_count": 15,
   "metadata": {},
   "outputs": [
    {
     "name": "stdout",
     "output_type": "stream",
     "text": [
      "pcawg exclusive drivers has 15 genes\n",
      "{'KLHL6', 'PLK1', 'GRB2', 'PRKCD', 'RRAGC', 'TMEM30A'}\n"
     ]
    }
   ],
   "source": [
    "### Exclusive driver overlap\n",
    "print(f'pcawg exclusive drivers has {len(set(lpg_only))} genes')\n",
    "print(set(lnsyn).intersection(set(lpg_only)))"
   ]
  },
  {
   "cell_type": "code",
   "execution_count": 26,
   "metadata": {},
   "outputs": [],
   "source": [
    "# Save the PCAWG exclusive driver\n",
    "df_pcawg[df_pcawg['Category'].isin(['discovery_unique'])][['Gene','Element_type','Category']].to_csv(\"%s/tables2-pcawg_exclusive.csv\" % dir_out_table)"
   ]
  },
  {
   "cell_type": "code",
   "execution_count": 27,
   "metadata": {},
   "outputs": [
    {
     "data": {
      "text/html": [
       "<div>\n",
       "<style scoped>\n",
       "    .dataframe tbody tr th:only-of-type {\n",
       "        vertical-align: middle;\n",
       "    }\n",
       "\n",
       "    .dataframe tbody tr th {\n",
       "        vertical-align: top;\n",
       "    }\n",
       "\n",
       "    .dataframe thead th {\n",
       "        text-align: right;\n",
       "    }\n",
       "</style>\n",
       "<table border=\"1\" class=\"dataframe\">\n",
       "  <thead>\n",
       "    <tr style=\"text-align: right;\">\n",
       "      <th></th>\n",
       "      <th>Element</th>\n",
       "      <th>Gene</th>\n",
       "      <th>Ensembl</th>\n",
       "      <th>Element_type</th>\n",
       "      <th>Category</th>\n",
       "      <th>MoF</th>\n",
       "      <th>Tissue</th>\n",
       "    </tr>\n",
       "  </thead>\n",
       "  <tbody>\n",
       "    <tr>\n",
       "      <th>572</th>\n",
       "      <td>gc19_pc.cds::gencode::TMEM30A::ENSG00000112697.11</td>\n",
       "      <td>TMEM30A</td>\n",
       "      <td>ENSG00000112697.11</td>\n",
       "      <td>cds</td>\n",
       "      <td>discovery_unique</td>\n",
       "      <td>LoF</td>\n",
       "      <td>Lymph-BNHL</td>\n",
       "    </tr>\n",
       "    <tr>\n",
       "      <th>573</th>\n",
       "      <td>gc19_pc.cds::gencode::PLK1::ENSG00000166851.10</td>\n",
       "      <td>PLK1</td>\n",
       "      <td>ENSG00000166851.10</td>\n",
       "      <td>cds</td>\n",
       "      <td>discovery_unique</td>\n",
       "      <td>unknown</td>\n",
       "      <td>Stomach-AdenoCA</td>\n",
       "    </tr>\n",
       "    <tr>\n",
       "      <th>574</th>\n",
       "      <td>gc19_pc.cds::gencode::PA2G4::ENSG00000170515.9</td>\n",
       "      <td>PA2G4</td>\n",
       "      <td>ENSG00000170515.9</td>\n",
       "      <td>cds</td>\n",
       "      <td>discovery_unique</td>\n",
       "      <td>unknown</td>\n",
       "      <td>Head-SCC</td>\n",
       "    </tr>\n",
       "    <tr>\n",
       "      <th>575</th>\n",
       "      <td>gc19_pc.cds::gencode::SRSF7::ENSG00000115875.14</td>\n",
       "      <td>SRSF7</td>\n",
       "      <td>ENSG00000115875.14</td>\n",
       "      <td>cds</td>\n",
       "      <td>discovery_unique</td>\n",
       "      <td>unknown</td>\n",
       "      <td>Lymph-BNHL</td>\n",
       "    </tr>\n",
       "    <tr>\n",
       "      <th>576</th>\n",
       "      <td>gc19_pc.cds::gencode::CAMK1::ENSG00000134072.6</td>\n",
       "      <td>CAMK1</td>\n",
       "      <td>ENSG00000134072.6</td>\n",
       "      <td>cds</td>\n",
       "      <td>discovery_unique</td>\n",
       "      <td>unknown</td>\n",
       "      <td>Liver-HCC</td>\n",
       "    </tr>\n",
       "    <tr>\n",
       "      <th>577</th>\n",
       "      <td>gc19_pc.cds::gencode::TMSB4X::ENSG00000205542.6</td>\n",
       "      <td>TMSB4X</td>\n",
       "      <td>ENSG00000205542.6</td>\n",
       "      <td>cds</td>\n",
       "      <td>discovery_unique</td>\n",
       "      <td>LoF</td>\n",
       "      <td>Lymph-BNHL</td>\n",
       "    </tr>\n",
       "    <tr>\n",
       "      <th>578</th>\n",
       "      <td>gc19_pc.cds::gencode::KLHL6::ENSG00000172578.7</td>\n",
       "      <td>KLHL6</td>\n",
       "      <td>ENSG00000172578.7</td>\n",
       "      <td>cds</td>\n",
       "      <td>discovery_unique</td>\n",
       "      <td>unknown</td>\n",
       "      <td>Lymph-BNHL</td>\n",
       "    </tr>\n",
       "    <tr>\n",
       "      <th>579</th>\n",
       "      <td>gc19_pc.cds::gencode::RRAGC::ENSG00000116954.7</td>\n",
       "      <td>RRAGC</td>\n",
       "      <td>ENSG00000116954.7</td>\n",
       "      <td>cds</td>\n",
       "      <td>discovery_unique</td>\n",
       "      <td>Act</td>\n",
       "      <td>Lymph-BNHL</td>\n",
       "    </tr>\n",
       "    <tr>\n",
       "      <th>580</th>\n",
       "      <td>gc19_pc.cds::gencode::GRB2::ENSG00000177885.9</td>\n",
       "      <td>GRB2</td>\n",
       "      <td>ENSG00000177885.9</td>\n",
       "      <td>cds</td>\n",
       "      <td>discovery_unique</td>\n",
       "      <td>unknown</td>\n",
       "      <td>Lymph-BNHL</td>\n",
       "    </tr>\n",
       "    <tr>\n",
       "      <th>581</th>\n",
       "      <td>gc19_pc.cds::gencode::DYRK1A::ENSG00000157540.15</td>\n",
       "      <td>DYRK1A</td>\n",
       "      <td>ENSG00000157540.15</td>\n",
       "      <td>cds</td>\n",
       "      <td>discovery_unique</td>\n",
       "      <td>unknown</td>\n",
       "      <td>Liver-HCC</td>\n",
       "    </tr>\n",
       "    <tr>\n",
       "      <th>582</th>\n",
       "      <td>gc19_pc.cds::gencode::CTC-512J12.6::ENSG000002...</td>\n",
       "      <td>CTC-512J12.6</td>\n",
       "      <td>ENSG00000267173.1</td>\n",
       "      <td>cds</td>\n",
       "      <td>discovery_unique</td>\n",
       "      <td>unknown</td>\n",
       "      <td>meta_Lung;meta_Squamous</td>\n",
       "    </tr>\n",
       "    <tr>\n",
       "      <th>583</th>\n",
       "      <td>gc19_pc.cds::gencode::DYNC1I1::ENSG00000158560.10</td>\n",
       "      <td>DYNC1I1</td>\n",
       "      <td>ENSG00000158560.10</td>\n",
       "      <td>cds</td>\n",
       "      <td>discovery_unique</td>\n",
       "      <td>unknown</td>\n",
       "      <td>Panc-Endocrine</td>\n",
       "    </tr>\n",
       "    <tr>\n",
       "      <th>584</th>\n",
       "      <td>gc19_pc.cds::gencode::PRKCD::ENSG00000163932.9</td>\n",
       "      <td>PRKCD</td>\n",
       "      <td>ENSG00000163932.9</td>\n",
       "      <td>cds</td>\n",
       "      <td>discovery_unique</td>\n",
       "      <td>unknown</td>\n",
       "      <td>Lymph-BNHL</td>\n",
       "    </tr>\n",
       "    <tr>\n",
       "      <th>585</th>\n",
       "      <td>gc19_pc.cds::gencode::RIPK4::ENSG00000183421.7</td>\n",
       "      <td>RIPK4</td>\n",
       "      <td>ENSG00000183421.7</td>\n",
       "      <td>cds</td>\n",
       "      <td>discovery_unique</td>\n",
       "      <td>unknown</td>\n",
       "      <td>Panc-AdenoCA</td>\n",
       "    </tr>\n",
       "    <tr>\n",
       "      <th>586</th>\n",
       "      <td>gc19_pc.cds::gencode::RELA::ENSG00000173039.14</td>\n",
       "      <td>RELA</td>\n",
       "      <td>ENSG00000173039.14</td>\n",
       "      <td>cds</td>\n",
       "      <td>discovery_unique</td>\n",
       "      <td>unknown</td>\n",
       "      <td>Stomach-AdenoCA</td>\n",
       "    </tr>\n",
       "  </tbody>\n",
       "</table>\n",
       "</div>"
      ],
      "text/plain": [
       "                                               Element          Gene  \\\n",
       "572  gc19_pc.cds::gencode::TMEM30A::ENSG00000112697.11       TMEM30A   \n",
       "573     gc19_pc.cds::gencode::PLK1::ENSG00000166851.10          PLK1   \n",
       "574     gc19_pc.cds::gencode::PA2G4::ENSG00000170515.9         PA2G4   \n",
       "575    gc19_pc.cds::gencode::SRSF7::ENSG00000115875.14         SRSF7   \n",
       "576     gc19_pc.cds::gencode::CAMK1::ENSG00000134072.6         CAMK1   \n",
       "577    gc19_pc.cds::gencode::TMSB4X::ENSG00000205542.6        TMSB4X   \n",
       "578     gc19_pc.cds::gencode::KLHL6::ENSG00000172578.7         KLHL6   \n",
       "579     gc19_pc.cds::gencode::RRAGC::ENSG00000116954.7         RRAGC   \n",
       "580      gc19_pc.cds::gencode::GRB2::ENSG00000177885.9          GRB2   \n",
       "581   gc19_pc.cds::gencode::DYRK1A::ENSG00000157540.15        DYRK1A   \n",
       "582  gc19_pc.cds::gencode::CTC-512J12.6::ENSG000002...  CTC-512J12.6   \n",
       "583  gc19_pc.cds::gencode::DYNC1I1::ENSG00000158560.10       DYNC1I1   \n",
       "584     gc19_pc.cds::gencode::PRKCD::ENSG00000163932.9         PRKCD   \n",
       "585     gc19_pc.cds::gencode::RIPK4::ENSG00000183421.7         RIPK4   \n",
       "586     gc19_pc.cds::gencode::RELA::ENSG00000173039.14          RELA   \n",
       "\n",
       "                Ensembl Element_type          Category      MoF  \\\n",
       "572  ENSG00000112697.11          cds  discovery_unique      LoF   \n",
       "573  ENSG00000166851.10          cds  discovery_unique  unknown   \n",
       "574   ENSG00000170515.9          cds  discovery_unique  unknown   \n",
       "575  ENSG00000115875.14          cds  discovery_unique  unknown   \n",
       "576   ENSG00000134072.6          cds  discovery_unique  unknown   \n",
       "577   ENSG00000205542.6          cds  discovery_unique      LoF   \n",
       "578   ENSG00000172578.7          cds  discovery_unique  unknown   \n",
       "579   ENSG00000116954.7          cds  discovery_unique      Act   \n",
       "580   ENSG00000177885.9          cds  discovery_unique  unknown   \n",
       "581  ENSG00000157540.15          cds  discovery_unique  unknown   \n",
       "582   ENSG00000267173.1          cds  discovery_unique  unknown   \n",
       "583  ENSG00000158560.10          cds  discovery_unique  unknown   \n",
       "584   ENSG00000163932.9          cds  discovery_unique  unknown   \n",
       "585   ENSG00000183421.7          cds  discovery_unique  unknown   \n",
       "586  ENSG00000173039.14          cds  discovery_unique  unknown   \n",
       "\n",
       "                      Tissue  \n",
       "572               Lymph-BNHL  \n",
       "573          Stomach-AdenoCA  \n",
       "574                 Head-SCC  \n",
       "575               Lymph-BNHL  \n",
       "576                Liver-HCC  \n",
       "577               Lymph-BNHL  \n",
       "578               Lymph-BNHL  \n",
       "579               Lymph-BNHL  \n",
       "580               Lymph-BNHL  \n",
       "581                Liver-HCC  \n",
       "582  meta_Lung;meta_Squamous  \n",
       "583           Panc-Endocrine  \n",
       "584               Lymph-BNHL  \n",
       "585             Panc-AdenoCA  \n",
       "586          Stomach-AdenoCA  "
      ]
     },
     "execution_count": 27,
     "metadata": {},
     "output_type": "execute_result"
    }
   ],
   "source": [
    "df_pcawg[df_pcawg['Category'].isin(['discovery_unique'])]"
   ]
  },
  {
   "cell_type": "markdown",
   "metadata": {},
   "source": [
    "***Get Seperate pivot tables***"
   ]
  },
  {
   "cell_type": "code",
   "execution_count": 16,
   "metadata": {},
   "outputs": [],
   "source": [
    "idx0 = df_nsyn.loc[df_nsyn['q'] == 0, 'q'].index\n",
    "df_nsyn.loc[idx0, 'q'] = 1E-30\n",
    "df_nsyn['q'] = -np.log10(df_nsyn['q'])"
   ]
  },
  {
   "cell_type": "code",
   "execution_count": 17,
   "metadata": {},
   "outputs": [
    {
     "name": "stdout",
     "output_type": "stream",
     "text": [
      "No significant genes: SoftTissue-Liposarc\n",
      "No significant genes: Cervix-SCC\n",
      "No significant genes: Myeloid-MPN\n"
     ]
    }
   ],
   "source": [
    "df_pivot_nsyn = df_nsyn.pivot_table('q', index='gene', columns='feature')\n",
    "for feat in lfeat:\n",
    "    if feat not in df_pivot_nsyn.columns:\n",
    "#         df_pivot_syn[feat] = float('NaN')\n",
    "        print(f'No significant genes: {feat}')\n",
    "df_pivot_nsyn['n_sig_gene'] = df_pivot_nsyn.notnull().sum(axis=1)\n",
    "df_pivot_gene_nsyn = df_pivot_nsyn.sort_values(by = 'n_sig_gene', ascending = False)\n",
    "df_pivot_gene_nsyn = df_pivot_gene_nsyn.iloc[:, 0:-1]"
   ]
  },
  {
   "cell_type": "code",
   "execution_count": 18,
   "metadata": {},
   "outputs": [],
   "source": [
    "dict_venn = {\n",
    "    'size':venn_size,\n",
    "    'cgc_pcawg':cgc_pg,\n",
    "    'pcawg_only': pg_only,\n",
    "    'cgc_only': cgc_only,\n",
    "    'novel': novel,\n",
    "    'pcawg_exclusive':set(lnsyn).intersection(set(lpg_only))\n",
    "}"
   ]
  },
  {
   "cell_type": "code",
   "execution_count": 19,
   "metadata": {},
   "outputs": [
    {
     "ename": "AttributeError",
     "evalue": "'set' object has no attribute 'transpose'",
     "output_type": "error",
     "traceback": [
      "\u001b[0;31m---------------------------------------------------------------------------\u001b[0m",
      "\u001b[0;31mAttributeError\u001b[0m                            Traceback (most recent call last)",
      "\u001b[0;32m<ipython-input-19-6b507d679cdf>\u001b[0m in \u001b[0;36m<module>\u001b[0;34m\u001b[0m\n\u001b[1;32m      5\u001b[0m \u001b[0mdf_pivot_pcawg_exclusive\u001b[0m \u001b[0;34m=\u001b[0m \u001b[0mdf_pivot_gene_nsyn\u001b[0m\u001b[0;34m.\u001b[0m\u001b[0mloc\u001b[0m\u001b[0;34m[\u001b[0m\u001b[0mdict_venn\u001b[0m\u001b[0;34m[\u001b[0m\u001b[0;34m'pcawg_exclusive'\u001b[0m\u001b[0;34m]\u001b[0m\u001b[0;34m]\u001b[0m\u001b[0;34m\u001b[0m\u001b[0;34m\u001b[0m\u001b[0m\n\u001b[1;32m      6\u001b[0m \u001b[0;34m\u001b[0m\u001b[0m\n\u001b[0;32m----> 7\u001b[0;31m \u001b[0mdict_venn\u001b[0m\u001b[0;34m[\u001b[0m\u001b[0;34m'cgc_only'\u001b[0m\u001b[0;34m]\u001b[0m\u001b[0;34m.\u001b[0m\u001b[0mtranspose\u001b[0m\u001b[0;34m(\u001b[0m\u001b[0;34m)\u001b[0m\u001b[0;34m.\u001b[0m\u001b[0mdropna\u001b[0m\u001b[0;34m(\u001b[0m\u001b[0maxis\u001b[0m\u001b[0;34m=\u001b[0m\u001b[0;36m1\u001b[0m\u001b[0;34m,\u001b[0m \u001b[0mhow\u001b[0m\u001b[0;34m=\u001b[0m\u001b[0;34m'all'\u001b[0m\u001b[0;34m)\u001b[0m\u001b[0;34m\u001b[0m\u001b[0;34m\u001b[0m\u001b[0m\n\u001b[0m",
      "\u001b[0;31mAttributeError\u001b[0m: 'set' object has no attribute 'transpose'"
     ]
    }
   ],
   "source": [
    "df_pivot_cgc_pcawg = df_pivot_gene_nsyn.loc[dict_venn['cgc_pcawg']]\n",
    "df_pivot_pcawg_only = df_pivot_gene_nsyn.loc[dict_venn['pcawg_only']]\n",
    "df_pivot_cgc_only = df_pivot_gene_nsyn.loc[dict_venn['cgc_only']]\n",
    "df_pivot_novel = df_pivot_gene_nsyn.loc[dict_venn['novel']]\n",
    "df_pivot_pcawg_exclusive = df_pivot_gene_nsyn.loc[dict_venn['pcawg_exclusive']]\n",
    "# dict_venn['cgc_only'].transpose().dropna(axis=1, how='all')"
   ]
  },
  {
   "cell_type": "code",
   "execution_count": 20,
   "metadata": {},
   "outputs": [],
   "source": [
    "dict_venn = {\n",
    "    'size':venn_size,\n",
    "    'cgc_pcawg':df_pivot_cgc_pcawg,\n",
    "    'pcawg_only': df_pivot_pcawg_only,\n",
    "    'cgc_only': df_pivot_cgc_only,\n",
    "    'novel': df_pivot_novel,\n",
    "    'pcawg_exclusive':df_pivot_pcawg_exclusive\n",
    "}"
   ]
  },
  {
   "cell_type": "code",
   "execution_count": 22,
   "metadata": {},
   "outputs": [],
   "source": [
    "pickle.dump(dict_venn, open(os.path.join(dir_out_figure, 'dict_venn.pkl'), 'wb'))"
   ]
  },
  {
   "cell_type": "code",
   "execution_count": 23,
   "metadata": {},
   "outputs": [],
   "source": [
    "pickle.dump(df_pivot_gene_nsyn, open(os.path.join(dir_out_figure, 'df_nsyn_pivot.pkl'), 'wb'))"
   ]
  }
 ],
 "metadata": {
  "kernelspec": {
   "display_name": "Python 3",
   "language": "python",
   "name": "python3"
  },
  "language_info": {
   "codemirror_mode": {
    "name": "ipython",
    "version": 3
   },
   "file_extension": ".py",
   "mimetype": "text/x-python",
   "name": "python",
   "nbconvert_exporter": "python",
   "pygments_lexer": "ipython3",
   "version": "3.6.10"
  }
 },
 "nbformat": 4,
 "nbformat_minor": 4
}
