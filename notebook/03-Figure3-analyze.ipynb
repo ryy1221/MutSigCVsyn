{
 "cells": [
  {
   "cell_type": "code",
   "execution_count": 1,
   "metadata": {},
   "outputs": [],
   "source": [
    "### This script plot data for figure 3 -- non-synonymous result\n",
    "import pandas as pd\n",
    "import os, pickle\n",
    "import numpy as np"
   ]
  },
  {
   "cell_type": "markdown",
   "metadata": {},
   "source": [
    "***\n",
    "### Get significant genes for non-synonymous result -- heatmap"
   ]
  },
  {
   "cell_type": "code",
   "execution_count": 3,
   "metadata": {},
   "outputs": [],
   "source": [
    "dir_anlyze = '../mutsig_out/anlyze'\n",
    "dir_out = './figure3/'\n",
    "dir_res = '../mutsig_out/'\n",
    "dir_cohort = '../anno_ref/cohorts'\n",
    "cohort = ['histology','organ','origin','system','pancancer']\n",
    "\n",
    "# output directory\n",
    "dir_out_figure = '../manuscript/figures_data/'\n",
    "\n",
    "if not os.path.exists(dir_out_figure):\n",
    "    os.makedirs(dir_out_figure)"
   ]
  },
  {
   "cell_type": "code",
   "execution_count": 7,
   "metadata": {},
   "outputs": [],
   "source": [
    "### For feature type, get the number of successfully run \n",
    "def get_res_path(feature_type, run,  syn_nsyn = None):\n",
    "    dir_res_feat = os.path.join(dir_res,syn_nsyn,run,feature_type)\n",
    "    # Append the path of significant gene files into a list\n",
    "    lsig_f = []\n",
    "    for feat in os.listdir(dir_res_feat):\n",
    "        fsig = [i for i in os.listdir(os.path.join(dir_res_feat,feat)) \\\n",
    "                if i.endswith('sig_genes.txt')]\n",
    "        if len(fsig) > 0: \n",
    "            fsig_path = os.path.join(dir_res_feat, feat, fsig[0])\n",
    "            lsig_f.append(fsig_path)\n",
    "    pickle.dump(lsig_f, open(os.path.join(dir_anlyze, \\\n",
    "            feature_type+'.'+syn_nsyn+'.sig_genes.pathlist.'+run+'.pkl'),'wb'))"
   ]
  },
  {
   "cell_type": "code",
   "execution_count": 8,
   "metadata": {},
   "outputs": [],
   "source": [
    "get_res_path('histology', 'cohort_090821', 'nsyn')"
   ]
  },
  {
   "cell_type": "code",
   "execution_count": 9,
   "metadata": {},
   "outputs": [],
   "source": [
    "def get_sign(feature_type,run, syn_nsyn):\n",
    "    df_all = pd.DataFrame()\n",
    "\n",
    "    sig_pathlist = pickle.load(open(os.path.join(dir_anlyze, feature_type +'.'+syn_nsyn+'.sig_genes.pathlist.'+run+'.pkl'),'rb'))\n",
    "    for fpath in sig_pathlist:\n",
    "        df_res_feat = pd.read_csv(fpath,sep = '\\t')\n",
    "        df_res_feat['feature'] = fpath.split('/')[-1].split('.')[0]\n",
    "        # Filter genes proto-cadherin genes and find significant genes\n",
    "        df_res_feat = df_res_feat[~df_res_feat['gene'].str.startswith('PCDH')]\n",
    "        df_res_sig = df_res_feat[df_res_feat['q']<0.1]        \n",
    "        df_all = pd.concat([df_all,df_res_sig], ignore_index = True)\n",
    "    \n",
    "    # Save dataframe\n",
    "    df_all.to_csv(os.path.join(dir_out_figure,'nsyn_forheatmap.csv'))\n",
    "    return df_all"
   ]
  },
  {
   "cell_type": "code",
   "execution_count": 10,
   "metadata": {},
   "outputs": [],
   "source": [
    "df_all_new = get_sign('histology', 'cohort_090821', 'nsyn')\n",
    "lnsyn_new = df_all_new['gene'].unique().tolist()"
   ]
  },
  {
   "cell_type": "code",
   "execution_count": 12,
   "metadata": {},
   "outputs": [
    {
     "data": {
      "text/plain": [
       "145"
      ]
     },
     "execution_count": 12,
     "metadata": {},
     "output_type": "execute_result"
    }
   ],
   "source": [
    "len(lnsyn_new) # How many significant non-synonymous genes"
   ]
  },
  {
   "cell_type": "markdown",
   "metadata": {},
   "source": [
    "***\n",
    "### Venn Diagram"
   ]
  },
  {
   "cell_type": "code",
   "execution_count": 4,
   "metadata": {},
   "outputs": [],
   "source": [
    "### Read PCAWG file and get df of driver genes, including PCAWG unique and both\n",
    "dir_refs = '../anno_ref/anlyze-manuscript/'\n",
    "df_pcawg = pd.read_csv(os.path.join(dir_refs, 'TableS1_compendium_mutational_drivers.csv'))\n",
    "df_pcawg = df_pcawg[df_pcawg['Element_type'] == 'cds']\n",
    "df_pcawg = df_pcawg[df_pcawg['Category'].isin(['both','discovery_unique'])]\n",
    "lpg = set(df_pcawg[\"Gene\"].unique())\n",
    "# If PCAWG exclusive driver list\n",
    "lpg_only = set(df_pcawg[df_pcawg['Category'] =='discovery_unique']['Gene'].tolist())\n",
    "\n",
    "### Read the census gene file and get cancer census gene list\n",
    "lcgc = []\n",
    "census_file = os.path.join(dir_refs, 'Census_all.csv')\n",
    "census_info = open(census_file,\"r\")\n",
    "next(census_info)\n",
    "for lines in census_info:\n",
    "    line_split = lines.split(',')\n",
    "    gene = line_split[0]\n",
    "    if gene not in lcgc:\n",
    "        lcgc.append(gene)\n",
    "\n",
    "### Read nsyn candidate gene list\n",
    "cohorts = ['histology','organ','origin','system','pancancer']\n",
    "dir_anlyze = '../mutsig_out/anlyze'\n",
    "feature_type = 'histology';syn_nsyn = 'nsyn';run = 'cohort_090821'\n",
    "\n",
    "sig_pathlist = pickle.load(open(os.path.join(dir_anlyze, feature_type +'.'+syn_nsyn+'.sig_genes.pathlist.062121.pkl'),'rb'))\n",
    "lfeat = [i.split('/')[-1].split('.')[0] for i in sig_pathlist]\n",
    "df_nsyn = pd.read_csv(os.path.join(dir_out_figure,'nsyn_forheatmap.csv'),index_col = 0)\n",
    "lnsyn = df_nsyn['gene'].unique().tolist()"
   ]
  },
  {
   "cell_type": "code",
   "execution_count": 5,
   "metadata": {},
   "outputs": [],
   "source": [
    "def calc_venn_size(lpcawg, census_list, lsig_nsyn):\n",
    "    n_nsyn = len(set(lsig_nsyn)); n_cgc = len(set(census_list)); n_pe = len(lpcawg)\n",
    "    print(f'MutSigCVsyn nonsynonymous has {len(set(lsig_nsyn))} genes')\n",
    "    print(f'Concensus list has {len(set(census_list))} genes')\n",
    "    print(f'pcawg exclusive and both drivers has {len(set(lpcawg))} genes')\n",
    "    \n",
    "    ### Intersection of one with another\n",
    "    ovp_cgc_nsyn = len(set(lsig_nsyn).intersection(set(census_list)))\n",
    "    ovp_cgc_pe = len(set(census_list).intersection(set(lpcawg)))\n",
    "    ovp_pe_nsyn = len(set(lsig_nsyn).intersection(set(lpcawg)))\n",
    "    print(f'MutSigCVsyn nonsynonymous and CGC {len(set(lsig_nsyn).intersection(set(census_list)))}')\n",
    "    print(f'MutSigCVsyn nonsynonymous and PCAWG both&exclusive {len(set(lsig_nsyn).intersection(set(df_pcawg[\"Gene\"].unique())))}')\n",
    "    print(f'PCAWG both&exclusive and CGC {len(set(census_list).intersection(set(df_pcawg[\"Gene\"].unique())))}')\n",
    "    ### Intersection of all\n",
    "    s1 = set(census_list).intersection(set(df_pcawg['Gene'].unique()))\n",
    "    s2 = set(s1).intersection(set(lsig_nsyn))\n",
    "    inter_all = len(s2)\n",
    "    print(f'Intersection of all is {len(s2)}' )\n",
    "    \n",
    "    ### Calculate venn size\n",
    "    s3_cgc_nsyn = ovp_cgc_nsyn -inter_all\n",
    "    s5_cgc_pe = ovp_cgc_pe - inter_all\n",
    "    s6_nsyn_pe = ovp_pe_nsyn - inter_all\n",
    "    s1_cgc = n_cgc-inter_all - s3_cgc_nsyn - s5_cgc_pe\n",
    "    s2_nsyn = n_nsyn - inter_all - s3_cgc_nsyn - s6_nsyn_pe\n",
    "    s4_pe = n_pe -inter_all -s5_cgc_pe - s6_nsyn_pe\n",
    "\n",
    "    venn_subset = (s1_cgc, s2_nsyn, s3_cgc_nsyn, s4_pe,s5_cgc_pe, s6_nsyn_pe, inter_all)\n",
    "    \n",
    "    s2 = s2 # CGC and PCAWG\n",
    "    pcawg_only = set(lsig_nsyn).intersection(set(lpcawg)) - s2\n",
    "    lcgc_only = set(lsig_nsyn).intersection(set(census_list))-s2\n",
    "    lnovel = set(lsig_nsyn) - pcawg_only - lcgc_only - s2\n",
    "    \n",
    "    return venn_subset, s2 , pcawg_only, lcgc_only, lnovel"
   ]
  },
  {
   "cell_type": "code",
   "execution_count": 22,
   "metadata": {},
   "outputs": [
    {
     "name": "stdout",
     "output_type": "stream",
     "text": [
      "MutSigCVsyn nonsynonymous has 145 genes\n",
      "Concensus list has 723 genes\n",
      "pcawg exclusive and both drivers has 150 genes\n",
      "MutSigCVsyn nonsynonymous and CGC 84\n",
      "MutSigCVsyn nonsynonymous and PCAWG both&exclusive 91\n",
      "PCAWG both&exclusive and CGC 108\n",
      "Intersection of all is 72\n"
     ]
    }
   ],
   "source": [
    "### PCAWG driver\n",
    "venn_size, cgc_pg, pg_only, cgc_only, novel = calc_venn_size(lpg, lcgc,lnsyn)\n",
    "dict_venn = {\n",
    "    'size':venn_size,\n",
    "    'cgc_pcawg':cgc_pg,\n",
    "    'pcawg_only': pg_only,\n",
    "    'cgc_only': cgc_only,\n",
    "    'novel': novel,\n",
    "    'pcawg_exclusive':set(lnsyn).intersection(set(lpg_only))\n",
    "}"
   ]
  },
  {
   "cell_type": "code",
   "execution_count": 23,
   "metadata": {},
   "outputs": [
    {
     "data": {
      "text/plain": [
       "(603, 42, 12, 23, 36, 19, 72)"
      ]
     },
     "execution_count": 23,
     "metadata": {},
     "output_type": "execute_result"
    }
   ],
   "source": [
    "venn_size"
   ]
  },
  {
   "cell_type": "code",
   "execution_count": 24,
   "metadata": {},
   "outputs": [
    {
     "name": "stdout",
     "output_type": "stream",
     "text": [
      "pcawg exclusive drivers has 15 genes\n",
      "{'PRKCD', 'TMEM30A', 'GRB2', 'RRAGC', 'PLK1', 'KLHL6'}\n"
     ]
    }
   ],
   "source": [
    "### Exclusive driver overlap\n",
    "print(f'pcawg exclusive drivers has {len(set(lpg_only))} genes')\n",
    "print(set(lnsyn).intersection(set(lpg_only)))"
   ]
  },
  {
   "cell_type": "markdown",
   "metadata": {},
   "source": [
    "***Get Seperate pivot tables***"
   ]
  },
  {
   "cell_type": "code",
   "execution_count": 47,
   "metadata": {},
   "outputs": [],
   "source": [
    "idx0 = df_nsyn.loc[df_nsyn['q'] == 0, 'q'].index\n",
    "df_nsyn.loc[idx0, 'q'] = 1E-30\n",
    "df_nsyn['q'] = -np.log10(df_nsyn['q'])"
   ]
  },
  {
   "cell_type": "code",
   "execution_count": 54,
   "metadata": {},
   "outputs": [
    {
     "name": "stdout",
     "output_type": "stream",
     "text": [
      "No significant genes: SoftTissue-Liposarc\n",
      "No significant genes: Cervix-SCC\n",
      "No significant genes: Myeloid-MPN\n"
     ]
    }
   ],
   "source": [
    "df_pivot_nsyn = df_nsyn.pivot_table('q', index='gene', columns='feature')\n",
    "for feat in lfeat:\n",
    "    if feat not in df_pivot_nsyn.columns:\n",
    "#         df_pivot_syn[feat] = float('NaN')\n",
    "        print(f'No significant genes: {feat}')\n",
    "df_pivot_nsyn['n_sig_gene'] = df_pivot_nsyn.notnull().sum(axis=1)\n",
    "df_pivot_gene_nsyn = df_pivot_nsyn.sort_values(by = 'n_sig_gene', ascending = False)\n",
    "df_pivot_gene_nsyn = df_pivot_gene_nsyn.iloc[:, 0:-1]"
   ]
  },
  {
   "cell_type": "code",
   "execution_count": 55,
   "metadata": {},
   "outputs": [],
   "source": [
    "dict_venn = {\n",
    "    'size':venn_size,\n",
    "    'cgc_pcawg':cgc_pg,\n",
    "    'pcawg_only': pg_only,\n",
    "    'cgc_only': cgc_only,\n",
    "    'novel': novel,\n",
    "    'pcawg_exclusive':set(lnsyn).intersection(set(lpg_only))\n",
    "}"
   ]
  },
  {
   "cell_type": "code",
   "execution_count": 56,
   "metadata": {},
   "outputs": [],
   "source": [
    "df_pivot_cgc_pcawg = df_pivot_gene_nsyn.loc[dict_venn['cgc_pcawg']]\n",
    "df_pivot_pcawg_only = df_pivot_gene_nsyn.loc[dict_venn['pcawg_only']]\n",
    "df_pivot_cgc_only = df_pivot_gene_nsyn.loc[dict_venn['cgc_only']]\n",
    "df_pivot_novel = df_pivot_gene_nsyn.loc[dict_venn['novel']]\n",
    "df_pivot_pcawg_exclusive = df_pivot_gene_nsyn.loc[dict_venn['pcawg_exclusive']]\n",
    "\n",
    "dict_venn['cgc_only'].transpose().dropna(axis=1, how='all')"
   ]
  },
  {
   "cell_type": "code",
   "execution_count": 57,
   "metadata": {},
   "outputs": [],
   "source": [
    "dict_venn = {\n",
    "    'size':venn_size,\n",
    "    'cgc_pcawg':df_pivot_cgc_pcawg,\n",
    "    'pcawg_only': df_pivot_pcawg_only,\n",
    "    'cgc_only': df_pivot_cgc_only,\n",
    "    'novel': df_pivot_novel,\n",
    "    'pcawg_exclusive':df_pivot_pcawg_exclusive\n",
    "}"
   ]
  },
  {
   "cell_type": "code",
   "execution_count": 58,
   "metadata": {},
   "outputs": [],
   "source": [
    "pickle.dump(dict_venn, open(os.path.join(dir_out_figure, 'dict_venn.pkl'), 'wb'))"
   ]
  }
 ],
 "metadata": {
  "kernelspec": {
   "display_name": "Python 3",
   "language": "python",
   "name": "python3"
  },
  "language_info": {
   "codemirror_mode": {
    "name": "ipython",
    "version": 3
   },
   "file_extension": ".py",
   "mimetype": "text/x-python",
   "name": "python",
   "nbconvert_exporter": "python",
   "pygments_lexer": "ipython3",
   "version": "3.6.10"
  }
 },
 "nbformat": 4,
 "nbformat_minor": 4
}
