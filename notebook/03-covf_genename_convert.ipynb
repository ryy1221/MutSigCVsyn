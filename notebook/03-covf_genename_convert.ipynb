{
 "cells": [
  {
   "cell_type": "code",
   "execution_count": 1,
   "metadata": {},
   "outputs": [],
   "source": [
    "# this code is to convert the outdated gene name in gene.covariates.txt into HGNC symbol, the table is generated from \n",
    "# an R convert code using Biomart\n",
    "# Author: Yiyun Rao\n",
    "\n",
    "import pandas as pd\n",
    "import re, os, pickle"
   ]
  },
  {
   "cell_type": "code",
   "execution_count": 14,
   "metadata": {},
   "outputs": [],
   "source": [
    "dir_ref = '../anno_ref/proc_refs'\n",
    "dir_mutsig_in = '../anno_ref/MutSigCVsyn_inputs'\n",
    "\n",
    "lgene = pickle.load(open(os.path.join(dir_ref,'gene_name_list_062121.pkl'),'rb'))\n",
    "df_covar = pd.read_csv(os.path.join(dir_mutsig_in, 'gene.covariates.txt'),sep = '\\t',index_col = 0)"
   ]
  },
  {
   "cell_type": "markdown",
   "metadata": {},
   "source": [
    "***\n",
    "**Old code***"
   ]
  },
  {
   "cell_type": "code",
   "execution_count": 2,
   "metadata": {
    "collapsed": true,
    "jupyter": {
     "outputs_hidden": true
    }
   },
   "outputs": [],
   "source": [
    "#pcawg all gene list(from all unique genes in coverage file)\n",
    "pcawg_f = '../anno_ref/pcawg_genelist.txt'\n",
    "pcawg = open(pcawg_f,'r')\n",
    "list_pcawg= []\n",
    "for lines in pcawg:\n",
    "    genes = lines.strip('\\n')\n",
    "    list_pcawg.append(genes)\n",
    "\n",
    "#load file\n",
    "covar_f = '../anno_ref/gene.covariates.txt'\n",
    "covar = open(covar_f,'r')\n",
    "next(covar)\n",
    "list_covar =[]\n",
    "for lines in covar:\n",
    "    gene = lines.split('\\t')[0]\n",
    "    list_covar.append(gene)"
   ]
  },
  {
   "cell_type": "code",
   "execution_count": 3,
   "metadata": {},
   "outputs": [],
   "source": [
    "# open table and read as dictionary\n",
    "tab = \"../anno_ref/gene_synonym_table.txt\"\n",
    "dict_syn = {}\n",
    "with open(tab, 'r') as tabf:\n",
    "    next(tabf)\n",
    "    for lines in tabf:\n",
    "        line_split = lines.strip('\\n').split('\\t')\n",
    "        gene_hgnc = line_split[0]\n",
    "        gene_synlist = line_split[1:]\n",
    "\n",
    "        for gsyn in gene_synlist:\n",
    "            gsyn = gsyn.strip(' ')\n",
    "            if gsyn not in dict_syn:\n",
    "                dict_syn[gsyn] = gene_hgnc "
   ]
  },
  {
   "cell_type": "code",
   "execution_count": 4,
   "metadata": {
    "collapsed": true,
    "jupyter": {
     "outputs_hidden": true
    }
   },
   "outputs": [],
   "source": [
    "# (external)open table and read as dictionary\n",
    "tab = \"../anno_ref/gene.covariates.external.txt\"\n",
    "dict_syn = {}\n",
    "with open(tab, 'r') as tabf:\n",
    "    next(tabf)\n",
    "    for lines in tabf:\n",
    "        line_split = lines.strip('\\n').split('\\t')\n",
    "        gene_hgnc = line_split[0]\n",
    "        gene_syn = line_split[1]\n",
    "        if gene_syn not in dict_syn:\n",
    "            dict_syn[gene_syn] = gene_hgnc"
   ]
  },
  {
   "cell_type": "code",
   "execution_count": 5,
   "metadata": {
    "collapsed": true,
    "jupyter": {
     "outputs_hidden": true
    }
   },
   "outputs": [],
   "source": [
    "# read covariates data as pandas dataframe\n",
    "covar_f = '../anno_ref/gene.covariates.txt'\n",
    "df_cov = pd.read_csv(covar_f, sep = '\\t')"
   ]
  },
  {
   "cell_type": "code",
   "execution_count": 6,
   "metadata": {
    "collapsed": true,
    "jupyter": {
     "outputs_hidden": true
    }
   },
   "outputs": [],
   "source": [
    "# open covariate file and find gene synom\n",
    "dict_newname = {}\n",
    "# cov_m = open('../anno_ref/gene.covariates.converted.txt' ,'wb')\n",
    "list_cgene = []\n",
    "with open(covar_f, 'r') as covar:\n",
    "    for lines in covar:\n",
    "        gene = lines.split('\\t')[0]\n",
    "        newname = gene\n",
    "        try:\n",
    "            newname = dict_syn[gene]\n",
    "            if newname not in list_covar and newname not in list_cgene: # already exist and duplicate genes not updated\n",
    "                df_cov.replace(to_replace=r'^'+re.escape(gene)+'$', value=newname, regex=True, inplace = True)\n",
    "        except KeyError:\n",
    "            pass\n",
    "        list_cgene.append(newname)"
   ]
  },
  {
   "cell_type": "code",
   "execution_count": 10,
   "metadata": {},
   "outputs": [],
   "source": [
    "# write df_cov to pandas dataframe\n",
    "df_cov.to_csv('../anno_ref/gene.covariates.converted.txt', index=False, header= True, sep='\\t')"
   ]
  },
  {
   "cell_type": "code",
   "execution_count": 22,
   "metadata": {},
   "outputs": [
    {
     "data": {
      "text/html": [
       "<div>\n",
       "<style>\n",
       "    .dataframe thead tr:only-child th {\n",
       "        text-align: right;\n",
       "    }\n",
       "\n",
       "    .dataframe thead th {\n",
       "        text-align: left;\n",
       "    }\n",
       "\n",
       "    .dataframe tbody tr th {\n",
       "        vertical-align: top;\n",
       "    }\n",
       "</style>\n",
       "<table border=\"1\" class=\"dataframe\">\n",
       "  <thead>\n",
       "    <tr style=\"text-align: right;\">\n",
       "      <th></th>\n",
       "      <th>gene</th>\n",
       "      <th>expr</th>\n",
       "      <th>reptime</th>\n",
       "      <th>hic</th>\n",
       "    </tr>\n",
       "  </thead>\n",
       "  <tbody>\n",
       "  </tbody>\n",
       "</table>\n",
       "</div>"
      ],
      "text/plain": [
       "Empty DataFrame\n",
       "Columns: [gene, expr, reptime, hic]\n",
       "Index: []"
      ]
     },
     "execution_count": 22,
     "metadata": {},
     "output_type": "execute_result"
    }
   ],
   "source": [
    "df_cov[df_cov['gene'].duplicated()]"
   ]
  },
  {
   "cell_type": "code",
   "execution_count": 23,
   "metadata": {},
   "outputs": [
    {
     "data": {
      "text/plain": [
       "18268"
      ]
     },
     "execution_count": 23,
     "metadata": {},
     "output_type": "execute_result"
    }
   ],
   "source": [
    "len(list_cgene)"
   ]
  },
  {
   "cell_type": "code",
   "execution_count": 24,
   "metadata": {},
   "outputs": [
    {
     "name": "stdout",
     "output_type": "stream",
     "text": [
      "816\n"
     ]
    }
   ],
   "source": [
    "# genes in new covariates not in old covariates\n",
    "list_gc = []\n",
    "for g in list_cgene:\n",
    "    if g not in list_covar:\n",
    "        list_gc.append(g)\n",
    "print len(list_gc)"
   ]
  },
  {
   "cell_type": "code",
   "execution_count": 25,
   "metadata": {},
   "outputs": [
    {
     "name": "stdout",
     "output_type": "stream",
     "text": [
      "2631\n"
     ]
    }
   ],
   "source": [
    "# gene in new covariates not in pcawg\n",
    "list_pnnc = []\n",
    "for g in list_cgene:\n",
    "    if g not in list_pcawg:\n",
    "        list_pnnc.append(g)\n",
    "print len(list_pnnc)"
   ]
  },
  {
   "cell_type": "code",
   "execution_count": 26,
   "metadata": {},
   "outputs": [
    {
     "name": "stdout",
     "output_type": "stream",
     "text": [
      "1863\n"
     ]
    }
   ],
   "source": [
    "# gene in pcawg not in new covariates\n",
    "list_cnnp = []\n",
    "for g in list_pcawg:\n",
    "    if g not in list_cgene:\n",
    "        list_cnnp.append(g)\n",
    "print len(list_cnnp)"
   ]
  },
  {
   "cell_type": "code",
   "execution_count": null,
   "metadata": {
    "collapsed": true,
    "jupyter": {
     "outputs_hidden": true
    }
   },
   "outputs": [],
   "source": []
  }
 ],
 "metadata": {
  "kernelspec": {
   "display_name": "Python 3",
   "language": "python",
   "name": "python3"
  },
  "language_info": {
   "codemirror_mode": {
    "name": "ipython",
    "version": 3
   },
   "file_extension": ".py",
   "mimetype": "text/x-python",
   "name": "python",
   "nbconvert_exporter": "python",
   "pygments_lexer": "ipython3",
   "version": "3.8.3"
  }
 },
 "nbformat": 4,
 "nbformat_minor": 4
}
