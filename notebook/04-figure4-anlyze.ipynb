{
 "cells": [
  {
   "cell_type": "code",
   "execution_count": 26,
   "metadata": {},
   "outputs": [],
   "source": [
    "# This notebook visualize the p-vals across all tumors\n",
    "# This notebook start from the non-exp gene mapping in expression file\n",
    "import pandas as pd\n",
    "import os, pickle, shutil, time\n",
    "from tqdm import tqdm\n",
    "from collections import Counter\n",
    "import numpy as np"
   ]
  },
  {
   "cell_type": "code",
   "execution_count": 2,
   "metadata": {},
   "outputs": [],
   "source": [
    "### Generate the label dictionary\n",
    "dir_cohort = '../anno_ref/cohorts'\n",
    "feature_type = 'histology'\n",
    "df_feat = pd.read_csv(os.path.join(dir_cohort,feature_type+'.csv'))\n",
    "dict_feat_np = dict(Counter(df_feat[feature_type]))\n",
    "dict_feat_np = {k: v for k, v in sorted(dict_feat_np.items(), key=lambda item: item[1])}\n",
    "lfeat = list(dict_feat_np)"
   ]
  },
  {
   "cell_type": "code",
   "execution_count": 3,
   "metadata": {},
   "outputs": [],
   "source": [
    "# output directory\n",
    "dir_out_figure = '../manuscript/figures_data/'\n",
    "\n",
    "if not os.path.exists(dir_out_figure):\n",
    "    os.makedirs(dir_out_figure)"
   ]
  },
  {
   "cell_type": "markdown",
   "metadata": {},
   "source": [
    "***\n",
    "### Save sig_genes.txt paths"
   ]
  },
  {
   "cell_type": "code",
   "execution_count": 4,
   "metadata": {},
   "outputs": [],
   "source": [
    "### For feature type, get the number of successfully run \n",
    "dir_res = '../mutsig_out/'\n",
    "dir_anlyze = '../mutsig_out/anlyze'\n",
    "def get_res_path(feature_type, run,  syn_nsyn = None):\n",
    "    dir_res_feat = os.path.join(dir_res,syn_nsyn,run,feature_type)\n",
    "\n",
    "    # Append the path of significant gene files into a list\n",
    "    lsig_f = []\n",
    "    for feat in os.listdir(dir_res_feat):\n",
    "        fsig = [i for i in os.listdir(os.path.join(dir_res_feat,feat)) \\\n",
    "                if i.endswith('sig_genes.txt')]\n",
    "        if len(fsig) > 0: \n",
    "            fsig_path = os.path.join(dir_res_feat, feat, fsig[0])\n",
    "            lsig_f.append(fsig_path)\n",
    "    # pickle.dump(lsig_f, open(os.path.join(dir_anlyze, \\\n",
    "    #         feature_type+'.'+syn_nsyn+'.sig_genes.pathlist.'+run+'.pkl'),'wb'))"
   ]
  },
  {
   "cell_type": "code",
   "execution_count": 5,
   "metadata": {},
   "outputs": [],
   "source": [
    "# features = ['histology','organ','origin','system','pancancer']\n",
    "get_res_path('histology', 'cohort_090821', 'syn')\n",
    "get_res_path('histology', 'cohort_090821', 'nsyn')"
   ]
  },
  {
   "cell_type": "markdown",
   "metadata": {},
   "source": [
    "***\n",
    "### Find and save common non-exp genes in all tumor types"
   ]
  },
  {
   "cell_type": "code",
   "execution_count": 7,
   "metadata": {},
   "outputs": [],
   "source": [
    "### Filepath\n",
    "exp_dir = '../anno_ref/ICGC/pcawg_rnaseq/'\n",
    "gene_tophat = 'tophat_star_fpkm.v2.aliquot_gl.tsv'\n",
    "\n",
    "### Get all histology names\n",
    "feature_type = 'histology'\n",
    "df_feat = pd.read_csv(os.path.join(dir_cohort,feature_type+'.csv'))\n",
    "lfeat = df_feat['histology'].unique().tolist()\n",
    "\n",
    "# Out dir \n",
    "dir_out_fig4 = './figure4/'"
   ]
  },
  {
   "cell_type": "code",
   "execution_count": 8,
   "metadata": {},
   "outputs": [],
   "source": [
    "# Read aliquot id information\n",
    "df_exp_info = pd.read_csv(os.path.join(exp_dir,'rnaseq.metadata.tsv'), sep = '\\t')\n",
    "\n",
    "# Read expression information\n",
    "df_exp = pd.read_csv(os.path.join(exp_dir,gene_tophat),sep = '\\t', index_col = 0)"
   ]
  },
  {
   "cell_type": "code",
   "execution_count": 9,
   "metadata": {},
   "outputs": [
    {
     "name": "stdout",
     "output_type": "stream",
     "text": [
      "27 have expression information, other cohorts use the common non-expression genes(intersection) from these cohorts.\n"
     ]
    }
   ],
   "source": [
    "df_tumor_exp_info = df_exp_info[df_exp_info['tumor.normal']=='tumor']\n",
    "histologies = df_tumor_exp_info['histology_abbreviation'].unique().tolist()\n",
    "print(f'{len(histologies)} have expression information, other cohorts use the common non-expression genes(intersection) from these cohorts.')"
   ]
  },
  {
   "cell_type": "code",
   "execution_count": 10,
   "metadata": {},
   "outputs": [],
   "source": [
    "### make histology-nonexpressed genes dictionary, the threshold is 1\n",
    "dict_nexp = {}; lnexp = []\n",
    "for his in histologies:\n",
    "    df_his_info = df_tumor_exp_info[df_tumor_exp_info['histology_abbreviation'] == his]\n",
    "    ltumor_id = df_his_info['aliquot_id'].unique().tolist()\n",
    "    df_exp_tumor = df_exp[ltumor_id]\n",
    "    nonexp_genes = df_exp_tumor[df_exp_tumor<1].dropna().index.tolist()\n",
    "    dict_nexp[his] = nonexp_genes\n",
    "    lnexp.append(nonexp_genes)\n",
    "    \n",
    "result = set(lnexp[0]).intersection(*lnexp[1:])"
   ]
  },
  {
   "cell_type": "code",
   "execution_count": 14,
   "metadata": {
    "tags": []
   },
   "outputs": [],
   "source": [
    "with open(os.path.join(dir_out_fig4,'common_nonexp_ids.csv'), 'w') as f:\n",
    "    # f.write('gene'+'\\n')\n",
    "    for genes in list(result):\n",
    "            f.write(genes+'\\n')"
   ]
  },
  {
   "cell_type": "markdown",
   "metadata": {},
   "source": [
    "### Get p-val's from all feats -- For FDR  "
   ]
  },
  {
   "cell_type": "code",
   "execution_count": 19,
   "metadata": {},
   "outputs": [],
   "source": [
    "### Read non-expressed gene name file\n",
    "df_ne_gene = pd.read_csv(os.path.join(dir_out_fig4,'common_nonexp_names.csv'))\n",
    "lne = df_ne_gene['genes']"
   ]
  },
  {
   "cell_type": "code",
   "execution_count": 20,
   "metadata": {},
   "outputs": [
    {
     "name": "stdout",
     "output_type": "stream",
     "text": [
      "There are total 1057 non-expressed genes out of 19225 genes\n"
     ]
    }
   ],
   "source": [
    "# Read all gene list\n",
    "lgene = pickle.load(open('../anno_ref/proc_refs/gene_name_list_062121.pkl','rb'))\n",
    "print(f'There are total {len(set(lgene).intersection(set(lne)))} \\\n",
    "non-expressed genes out of {len(lgene)} genes')\n",
    "\n",
    "cohort = ['histology','organ','origin','system','pancancer']\n",
    "dir_anlyze = '../mutsig_out/anlyze'"
   ]
  },
  {
   "cell_type": "code",
   "execution_count": 24,
   "metadata": {},
   "outputs": [],
   "source": [
    "### Get pvals -- input for FDR calculation\n",
    "def get_allpvals(feature_type,run, syn_nsyn):\n",
    "    global lne, dir_anlyze\n",
    "    df_exp = pd.DataFrame(); df_ne = pd.DataFrame()\n",
    "    sig_pathlist = pickle.load(open(os.path.join(dir_anlyze, feature_type +'.'+syn_nsyn+'.sig_genes.pathlist.'+run+'.pkl'),'rb'))\n",
    "    for fpath in sig_pathlist:\n",
    "        df_res_feat = pd.read_csv(fpath,sep = '\\t')\n",
    "        df_res_feat['feature'] = fpath.split('/')[-1].split('.')[0]\n",
    "        df_nonexp_p = df_res_feat[df_res_feat['gene'].isin(lne)][['gene','p','q','feature']].reset_index(drop = True)\n",
    "        df_nonexp_p['exp/nonexp'] = 'nonexp'\n",
    "        df_exp_p = df_res_feat[~df_res_feat['gene'].isin(lne)][['gene','p','q','feature']].reset_index(drop = True)\n",
    "        df_exp_p['exp/nonexp'] = 'exp'\n",
    "        \n",
    "        df_exp = pd.concat([df_exp,df_exp_p], ignore_index = True)\n",
    "        df_ne = pd.concat([df_ne,df_nonexp_p], ignore_index = True)\n",
    "        \n",
    "\n",
    "    df_all = pd.concat([df_exp,df_ne], ignore_index = True)\n",
    "\n",
    "    # Save all p-val dataframe\n",
    "    df_all.to_csv(os.path.join(dir_out_fig4,feature_type+'.'+syn_nsyn+'.df_all_forFDR.'+run+'.csv'))\n",
    "    \n",
    "    return df_all\n",
    "df = get_allpvals('histology','cohort_090821','syn')"
   ]
  },
  {
   "cell_type": "markdown",
   "metadata": {},
   "source": [
    "***After FDR calculation*** -- save processed dataframe for figures.py"
   ]
  },
  {
   "cell_type": "code",
   "execution_count": 27,
   "metadata": {},
   "outputs": [],
   "source": [
    "# Read the significant gene dataframe after FDR calculation\n",
    "feature_type = 'histology';syn_nsyn = 'syn';run = 'cohort_090821';\n",
    "df_syn = pd.read_csv(os.path.join(dir_out_fig4,feature_type+'.syn.df_all_forheatmap.'+run+'.csv'),\\\n",
    "index_col = 0)\n",
    "df_syn['FDR'] = -np.log10(df_syn['FDR']) # Transform into log scale"
   ]
  },
  {
   "cell_type": "code",
   "execution_count": 28,
   "metadata": {
    "collapsed": true,
    "jupyter": {
     "outputs_hidden": true
    },
    "tags": []
   },
   "outputs": [
    {
     "name": "stdout",
     "output_type": "stream",
     "text": [
      "No significant genes: Ovary-AdenoCA\n",
      "No significant genes: Liver-HCC\n",
      "No significant genes: CNS-Oligo\n",
      "No significant genes: Kidney-RCC\n",
      "No significant genes: Thy-AdenoCA\n",
      "No significant genes: ColoRect-AdenoCA\n",
      "No significant genes: Lung-AdenoCA\n",
      "No significant genes: CNS-Medullo\n",
      "No significant genes: CNS-GBM\n",
      "No significant genes: Kidney-ChRCC\n",
      "No significant genes: Stomach-AdenoCA\n",
      "No significant genes: Lung-SCC\n",
      "No significant genes: Bladder-TCC\n",
      "No significant genes: Myeloid-AML\n",
      "No significant genes: Biliary-AdenoCA\n",
      "No significant genes: Cervix-AdenoCA\n",
      "No significant genes: Bone-Osteosarc\n",
      "No significant genes: Breast-DCIS\n",
      "No significant genes: Myeloid-MPN\n",
      "No significant genes: Myeloid-MDS\n",
      "No significant genes: Bone-Cart\n",
      "No significant genes: Bone-Osteoblast\n",
      "No significant genes: Bone-Epith\n",
      "No significant genes: Bone-Benign\n"
     ]
    }
   ],
   "source": [
    "df_pivot_syn = df_syn.pivot_table('FDR', index='gene', columns='feature')\n",
    "for feat in lfeat:\n",
    "    if feat not in df_pivot_syn.columns:\n",
    "#         df_pivot_syn[feat] = float('NaN')\n",
    "        print(f'No significant genes: {feat}')\n",
    "df_pivot_syn['n_sig_gene'] = df_pivot_syn.notnull().sum(axis=1)\n",
    "df_pivot_gene_syn = df_pivot_syn.sort_values(by = 'n_sig_gene', ascending = False)\n",
    "df_pivot_gene_syn = df_pivot_gene_syn.iloc[:, 0:-1]"
   ]
  },
  {
   "cell_type": "code",
   "execution_count": 29,
   "metadata": {},
   "outputs": [],
   "source": [
    "# df_pivot_gene_syn.to_csv(os.path.join(dir_out_figure, 'syn_forheatmap.csv'))"
   ]
  },
  {
   "cell_type": "markdown",
   "metadata": {},
   "source": [
    "***\n",
    "### Candidate number between synonymous and non-synonymous"
   ]
  },
  {
   "cell_type": "code",
   "execution_count": 9,
   "metadata": {},
   "outputs": [],
   "source": [
    "cohorts = ['histology','organ','origin','system','pancancer']\n",
    "dir_out = './figure4/'\n",
    "dir_anlyze = '../mutsig_out/anlyze'\n",
    "\n",
    "#Load synonymous result\n",
    "feature_type = 'histology';syn_nsyn = 'syn';run = 'cohort_072221';threshold =1;\n",
    "syn_pathlist = pickle.load(open(os.path.join(dir_anlyze, feature_type+'.'+syn_nsyn+'.sig_genes.pathlist.'+run+'.pkl'),'rb'))\n",
    "lfeat_syn = [i.split('/')[-1].split('.')[0] for i in syn_pathlist]\n",
    "df_syn = pd.read_csv(os.path.join(dir_out,feature_type+'.syn.df_all_forheatmap.'+run+'.'+str(threshold)+'.csv'),\\\n",
    "                     index_col = 0)\n",
    "\n",
    "#Load nonsynonymous result\n",
    "feature_type = 'histology';syn_nsyn = 'nsyn';run = 'cohort_072221'\n",
    "nsyn_pathlist = pickle.load(open(os.path.join(dir_anlyze, feature_type+'.'+syn_nsyn+'.sig_genes.pathlist.'+run+'.pkl'),'rb'))\n",
    "lfeat = [i.split('/')[-1].split('.')[0] for i in nsyn_pathlist]\n",
    "df_nsyn = pd.read_csv(os.path.join(dir_out,feature_type+'.nsyn.df_all_forheatmap.'+run+'.csv'),\\\n",
    "                      index_col = 0)"
   ]
  },
  {
   "cell_type": "code",
   "execution_count": 18,
   "metadata": {},
   "outputs": [],
   "source": [
    "###  Build dataframe for histology types |syn candidates |nonsyn candidates\n",
    "df = pd.DataFrame(columns = ['syn','nsyn','np'], index = lfeat)\n",
    "for feat in lfeat:\n",
    "    nsig_syn = len(df_syn[df_syn['feature'] == feat])\n",
    "    nsig_nsyn = len(df_nsyn[df_nsyn['feature'] == feat])\n",
    "    df.loc[feat, 'syn'] = nsig_syn\n",
    "    df.loc[feat,'nsyn'] = nsig_nsyn\n",
    "df = df[['syn','nsyn']]\n",
    "df = pd.melt(df.reset_index(), id_vars='index', var_name=\"syn.nsyn\", value_name=\"nsig\") \n",
    "# Append patient number to each histology types\n",
    "for feat in lfeat:\n",
    "    idx = df[df['index'] == feat].index\n",
    "    df.loc[idx, 'index'] = '(n='+str(dict_feat_np[feat])+') '+feat\n",
    "# Save file\n",
    "df.columns = [feature_type, 'syn.nsyn','nsig']\n",
    "# df.to_csv(os.path.join(dir_out, feature_type+'.syn_nsyn.'+run+'.nsig.csv'))"
   ]
  }
 ],
 "metadata": {
  "kernelspec": {
   "display_name": "Python 3",
   "language": "python",
   "name": "python3"
  },
  "language_info": {
   "codemirror_mode": {
    "name": "ipython",
    "version": 3
   },
   "file_extension": ".py",
   "mimetype": "text/x-python",
   "name": "python",
   "nbconvert_exporter": "python",
   "pygments_lexer": "ipython3",
   "version": "3.6.10"
  }
 },
 "nbformat": 4,
 "nbformat_minor": 4
}
