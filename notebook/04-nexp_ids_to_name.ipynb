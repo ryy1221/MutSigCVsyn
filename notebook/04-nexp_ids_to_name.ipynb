{
 "cells": [
  {
   "cell_type": "code",
   "execution_count": 2,
   "id": "35defef7-002b-404e-9f23-89aa44f1973d",
   "metadata": {},
   "outputs": [],
   "source": [
    "### This script convert non-expressed gene id to gene name\n",
    "rm(list=ls())\n",
    "setwd('./')"
   ]
  },
  {
   "cell_type": "code",
   "execution_count": 4,
   "id": "16ab87b9-ecbc-4efb-b4f7-4fe6b0a14896",
   "metadata": {},
   "outputs": [],
   "source": [
    "dir.out.fig4 = './figure4/'"
   ]
  },
  {
   "cell_type": "code",
   "execution_count": 9,
   "id": "6b4879d3-9ee5-42c3-8577-0e524a757053",
   "metadata": {},
   "outputs": [],
   "source": [
    "library(biomaRt)\n",
    "ensembl <- useMart(host='http://grch37.ensembl.org', \n",
    "                     biomart='ENSEMBL_MART_ENSEMBL', \n",
    "                     dataset='hsapiens_gene_ensembl')"
   ]
  },
  {
   "cell_type": "code",
   "execution_count": 28,
   "id": "f56b2d3b-2d1a-4cf2-b746-555d37c72f69",
   "metadata": {},
   "outputs": [],
   "source": [
    "###-----------------------For common nonexp genes-----------------------------------\n",
    "### Read gene file\n",
    "file.name = 'common_nonexp_ids.csv'\n",
    "df.gene.id = read.csv(file.path(dir.out.fig4, file.name))"
   ]
  },
  {
   "cell_type": "code",
   "execution_count": 30,
   "id": "03f5fb37-284e-44d0-8131-f8c8246d7b46",
   "metadata": {},
   "outputs": [
    {
     "ename": "ERROR",
     "evalue": "Error in file.path(out.dir, out.name): object 'out.dir' not found\n",
     "output_type": "error",
     "traceback": [
      "Error in file.path(out.dir, out.name): object 'out.dir' not found\nTraceback:\n",
      "1. write.csv(genes, file = file.path(out.dir, out.name), row.names = FALSE)",
      "2. eval.parent(Call)",
      "3. eval(expr, p)",
      "4. eval(expr, p)",
      "5. write.table(genes, file = file.path(out.dir, out.name), row.names = FALSE, \n .     col.names = TRUE, sep = \",\", dec = \".\", qmethod = \"double\")",
      "6. file.path(out.dir, out.name)"
     ]
    }
   ],
   "source": [
    "## Get the gene name from gene id\n",
    "res = getBM(attributes = c(\"external_gene_name\",\"ensembl_gene_id_version\"),\n",
    "            filters = \"ensembl_gene_id_version\",\n",
    "            values = df.gene.id$gene,\n",
    "            mart = ensembl)\n",
    "genes = res$external_gene_name[!duplicated(res$external_gene_name)]\n",
    "genes = as.data.frame(genes)\n"
   ]
  },
  {
   "cell_type": "code",
   "execution_count": 31,
   "id": "6d79b98f-0cfd-4dec-a283-cc2ee2bbab53",
   "metadata": {},
   "outputs": [],
   "source": [
    "out.name = 'common_nonexp_names.csv'\n",
    "# write.csv(genes, file = file.path(dir.out.fig4, out.name), row.names = FALSE)"
   ]
  }
 ],
 "metadata": {
  "kernelspec": {
   "display_name": "R",
   "language": "R",
   "name": "ir"
  },
  "language_info": {
   "codemirror_mode": "r",
   "file_extension": ".r",
   "mimetype": "text/x-r-source",
   "name": "R",
   "pygments_lexer": "r",
   "version": "3.6.0"
  }
 },
 "nbformat": 4,
 "nbformat_minor": 5
}
