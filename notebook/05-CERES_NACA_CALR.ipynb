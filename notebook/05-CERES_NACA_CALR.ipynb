{
 "cells": [
  {
   "cell_type": "code",
   "execution_count": 6,
   "metadata": {},
   "outputs": [],
   "source": [
    "### This is a gene specific analysis notebook\n",
    "import pickle, os\n",
    "import pandas as pd\n",
    "import numpy as np\n",
    "from scipy.stats import mannwhitneyu"
   ]
  },
  {
   "cell_type": "code",
   "execution_count": 7,
   "metadata": {},
   "outputs": [],
   "source": [
    "# output directory\n",
    "dir_out_figure = '../manuscript/figures_data/'\n",
    "if not os.path.exists(dir_out_figure):\n",
    "    os.makedirs(dir_out_figure)"
   ]
  },
  {
   "cell_type": "markdown",
   "metadata": {},
   "source": [
    "***NACA***"
   ]
  },
  {
   "cell_type": "code",
   "execution_count": 8,
   "metadata": {},
   "outputs": [],
   "source": [
    "### Read data -- depmap data in figure5 foler\n",
    "dir_depmap = './figure5/depmap'\n",
    "gene_name = 'NACA'"
   ]
  },
  {
   "cell_type": "code",
   "execution_count": 9,
   "metadata": {},
   "outputs": [],
   "source": [
    "def get_lineage(gene, histology):\n",
    "    ### Read file\n",
    "    df_depmap = pd.read_csv(os.path.join(dir_depmap, gene+'_21Q2.csv'))\n",
    "    print(df_depmap[df_depmap['Lineage'] == histology]['Lineage Subtype'].unique())"
   ]
  },
  {
   "cell_type": "code",
   "execution_count": 10,
   "metadata": {},
   "outputs": [
    {
     "name": "stdout",
     "output_type": "stream",
     "text": [
      "['Melanoma' 'Skin Squamous' 'Merkel Cell Carcinoma']\n"
     ]
    }
   ],
   "source": [
    "### Because NACA is a melanoma candidate, we find what lineage it is in\n",
    "get_lineage(gene_name, 'Skin')"
   ]
  },
  {
   "cell_type": "code",
   "execution_count": 11,
   "metadata": {},
   "outputs": [],
   "source": [
    "def get_CERES(gene, lineage):\n",
    "    df_depmap = pd.read_csv(os.path.join(dir_depmap, gene+'_21Q2.csv'))\n",
    "    df_depmap.columns = ['ID', 'CERES', 'Name', 'Primary Disease', 'Lineage', 'Lineage Subtype', 'Expression', 'Mutation']\n",
    "\n",
    "    df_gene = df_depmap[df_depmap['Lineage Subtype'] == lineage]\n",
    "    print(f'{len(df_gene)} in histology subtype')\n",
    "    df_other = df_depmap[df_depmap['Lineage Subtype'] != lineage]\n",
    "    print(f'{len(df_other)} not in histology subtype')\n",
    "    df_all = pd.DataFrame({'inlineage':df_gene['CERES'],\n",
    "                          'other':df_other['CERES']})\n",
    "    df_all = df_all.melt()\n",
    "    \n",
    "    return df_all, df_gene, df_other"
   ]
  },
  {
   "cell_type": "code",
   "execution_count": 12,
   "metadata": {},
   "outputs": [
    {
     "name": "stdout",
     "output_type": "stream",
     "text": [
      "56 in histology subtype\n",
      "921 not in histology subtype\n"
     ]
    }
   ],
   "source": [
    "df_naca_ceres, inlineage, other = get_CERES(gene_name, 'Melanoma')"
   ]
  },
  {
   "cell_type": "code",
   "execution_count": 13,
   "metadata": {},
   "outputs": [],
   "source": [
    "testStat, pval = mannwhitneyu(inlineage[\"CERES\"], other[\"CERES\"])"
   ]
  },
  {
   "cell_type": "code",
   "execution_count": 15,
   "metadata": {},
   "outputs": [],
   "source": [
    "dict_naca = {'df_ceres':df_naca_ceres,'testStat':testStat,'pval':pval}\n",
    "pickle.dump(dict_naca, open(os.path.join(dir_out_figure, 'dict_naca.pkl'), 'wb'))"
   ]
  },
  {
   "cell_type": "markdown",
   "metadata": {},
   "source": [
    "***CALR***"
   ]
  },
  {
   "cell_type": "code",
   "execution_count": 16,
   "metadata": {},
   "outputs": [],
   "source": [
    "dir_depmap = './figure5/depmap'\n",
    "gene_name = 'CALR'"
   ]
  },
  {
   "cell_type": "code",
   "execution_count": 17,
   "metadata": {},
   "outputs": [
    {
     "name": "stdout",
     "output_type": "stream",
     "text": [
      "['Endometrial Adenocarcinoma' 'Endometrial Adenosquamous'\n",
      " 'Endometrial Stromal Sarcoma' 'MMMT' 'Choriocarcinoma'\n",
      " 'Uterine Carcinosarcoma' 'Endometrial Squamous' 'Mullerian Carcinoma'\n",
      " 'Clear Cell Carcinoma']\n"
     ]
    }
   ],
   "source": [
    "get_lineage(gene_name, 'Uterus')"
   ]
  },
  {
   "cell_type": "code",
   "execution_count": 18,
   "metadata": {},
   "outputs": [
    {
     "name": "stdout",
     "output_type": "stream",
     "text": [
      "20 in histology subtype\n",
      "969 not in histology subtype\n"
     ]
    }
   ],
   "source": [
    "df_calr_ceres, inlineage, other = get_CERES(gene_name, 'Endometrial Adenocarcinoma')"
   ]
  },
  {
   "cell_type": "code",
   "execution_count": 19,
   "metadata": {},
   "outputs": [],
   "source": [
    "testStat, pval = mannwhitneyu(inlineage[\"CERES\"], other[\"CERES\"])"
   ]
  },
  {
   "cell_type": "code",
   "execution_count": 20,
   "metadata": {},
   "outputs": [],
   "source": [
    "dict_calr = {'df_ceres':df_calr_ceres,'testStat':testStat,'pval':pval}\n",
    "pickle.dump(dict_calr, open(os.path.join(dir_out_figure, 'dict_calr.pkl'), 'wb'))"
   ]
  }
 ],
 "metadata": {
  "kernelspec": {
   "display_name": "Python 3",
   "language": "python",
   "name": "python3"
  },
  "language_info": {
   "codemirror_mode": {
    "name": "ipython",
    "version": 3
   },
   "file_extension": ".py",
   "mimetype": "text/x-python",
   "name": "python",
   "nbconvert_exporter": "python",
   "pygments_lexer": "ipython3",
   "version": "3.6.10"
  }
 },
 "nbformat": 4,
 "nbformat_minor": 4
}
