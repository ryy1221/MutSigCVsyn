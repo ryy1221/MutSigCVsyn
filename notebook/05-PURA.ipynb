{
 "cells": [
  {
   "cell_type": "code",
   "execution_count": 14,
   "metadata": {},
   "outputs": [],
   "source": [
    "### This is a gene specific analysis notebook\n",
    "import pickle, os\n",
    "import pandas as pd\n",
    "import numpy as np\n",
    "from scipy.stats import mannwhitneyu"
   ]
  },
  {
   "cell_type": "code",
   "execution_count": 15,
   "metadata": {},
   "outputs": [],
   "source": [
    "# output directory\n",
    "dir_out_figure = '../manuscript/figures_data/'\n",
    "\n",
    "if not os.path.exists(dir_out_figure):\n",
    "    os.makedirs(dir_out_figure)"
   ]
  },
  {
   "cell_type": "code",
   "execution_count": 16,
   "metadata": {},
   "outputs": [],
   "source": [
    "#-------------Read Data------------------\n",
    "# Read expression data\n",
    "dir_refs = '../anno_ref/proc_refs'\n",
    "exp_dir = '../anno_ref/ICGC/pcawg_rnaseq/'\n",
    "gene_tophat = 'tophat_star_fpkm.v2.aliquot_gl.tsv'\n",
    "# Read aliquot id information\n",
    "df_exp_info = pd.read_csv(os.path.join(exp_dir,'rnaseq.metadata.tsv'), sep = '\\t')\n",
    "# Read expression information\n",
    "df_exp = pd.read_csv(os.path.join(exp_dir,gene_tophat),sep = '\\t', index_col = 0)"
   ]
  },
  {
   "cell_type": "code",
   "execution_count": 17,
   "metadata": {},
   "outputs": [],
   "source": [
    "gene_name = 'PURA'"
   ]
  },
  {
   "cell_type": "code",
   "execution_count": 18,
   "metadata": {},
   "outputs": [],
   "source": [
    "# Read the synonymous candidate dataframe\n",
    "dir_out_fig4 = './figure4/'\n",
    "feature_type = 'histology';syn_nsyn = 'syn';run = 'cohort_090821'\n",
    "df_syn = pd.read_csv(os.path.join(dir_out_fig4,feature_type+'.syn.df_all_forheatmap.'+run+'.csv'),index_col = 0)\n",
    "df_syn = df_syn.set_index('gene')\n",
    "\n",
    "# Read the significant gene-id dataframe\n",
    "fsig_name = 'sig_gene_name_id.csv'\n",
    "df_nsig = pd.read_csv(os.path.join(dir_out_fig4, fsig_name))\n",
    "df_nsig.columns = ['name', 'id']\n",
    "\n",
    "dir_maf = '../maf_out/maf_cohorts_060121'"
   ]
  },
  {
   "cell_type": "code",
   "execution_count": 19,
   "metadata": {},
   "outputs": [],
   "source": [
    "#-------------Syn Patient Expression------------------\n",
    "def get_gene_exp(gene_name, df_expression):\n",
    "    global df_nsig\n",
    "    idx = df_nsig[df_nsig['name'] == gene_name].index\n",
    "    gene_id = df_nsig.loc[idx, 'id'].values[0]\n",
    "    df = df_expression.loc[df_expression.index.str.contains(rf'{gene_id}'),:]\n",
    "    return df\n",
    "\n",
    "def get_syn_mut(gene_name):\n",
    "    global df_syn\n",
    "    histology = df_syn.loc[gene_name,'feature']\n",
    "    df_maf = pd.read_csv(os.path.join(dir_maf,feature_type, histology+'.csv'), sep = '\\t')\n",
    "    df_maf = df_maf.set_index(['Hugo_Symbol','Variant_Classification','Donor_ID' ])\n",
    "    df_silent = df_maf.loc[pd.IndexSlice[gene_name, 'Silent',:],:]\n",
    "    patient = df_silent.index.get_level_values('Donor_ID').unique().tolist()\n",
    "    \n",
    "    return df_silent, patient\n",
    "\n",
    "def get_patient_id(gene_name, patients):\n",
    "    global df_exp_info, df_syn\n",
    "    histology = df_syn.loc[gene_name,'feature']\n",
    "    df = df_exp_info[df_exp_info['histology_abbreviation'] == histology]\n",
    "    \n",
    "    # Get tumor, syn and normal patient aliquot id\n",
    "    normal_id = df[df['tumor.normal'] == 'normal']['aliquot_id']\n",
    "    df_tumor = df[df['tumor.normal'] == 'tumor']\n",
    "    tumor_syn_id = df_tumor[df_tumor['icgc_donor_id'].isin(patients)]['aliquot_id']\n",
    "    tumor_other_id = df_tumor[~df_tumor['icgc_donor_id'].isin(patients)]['aliquot_id']\n",
    "    \n",
    "    return normal_id, tumor_syn_id, tumor_other_id\n",
    "\n",
    "def get_patient_exp(ids, df_gene_exp, tissue_type = None):\n",
    "    df_for_test = df_gene_exp[ids].transpose()\n",
    "    df = df_gene_exp[ids].transpose().reset_index()\n",
    "    df['tumor.normal'] = tissue_type\n",
    "    df.columns = ['id','exp','tumor.normal']\n",
    "    \n",
    "    return df, df_for_test"
   ]
  },
  {
   "cell_type": "code",
   "execution_count": 20,
   "metadata": {},
   "outputs": [],
   "source": [
    "def get_expression(gene):\n",
    "    histology = df_syn.loc[gene,'feature']\n",
    "\n",
    "    df_exp_gene = get_gene_exp(gene, df_exp)\n",
    "    df_synmut, synp = get_syn_mut(gene)\n",
    "    id_normal, id_syn, id_other =get_patient_id(gene, synp)\n",
    "\n",
    "    df_normal, normal_test = get_patient_exp(id_normal, df_exp_gene, 'normal')\n",
    "    df_tsyn, syn_test = get_patient_exp(id_syn, df_exp_gene,'tumor_syn')\n",
    "    df_tother, other_test = get_patient_exp(id_other, df_exp_gene, 'tumor_other')\n",
    "    df_all = pd.concat([df_normal,df_tsyn,df_tother])\n",
    "\n",
    "    nnorm = len(df_normal['id'].unique())\n",
    "    print(f'Number of normal patient: {nnorm}')\n",
    "    nsyn = len(df_tsyn['id'].unique())\n",
    "    print(f'Number of synonymous patients: {nsyn}')\n",
    "    nother = len(df_tother['id'].unique())\n",
    "    print(f'Number of other tumor patients:{nother}')\n",
    "    \n",
    "    normal_test.columns = ['expression']\n",
    "    syn_test.columns = ['expression']\n",
    "    other_test.columns = ['expression']\n",
    "\n",
    "    return df_all, normal_test, syn_test,other_test"
   ]
  },
  {
   "cell_type": "code",
   "execution_count": 21,
   "metadata": {},
   "outputs": [
    {
     "name": "stderr",
     "output_type": "stream",
     "text": [
      "/storage/home/yur97/anaconda3/envs/mSigsyn/lib/python3.6/site-packages/IPython/core/interactiveshell.py:3343: DtypeWarning: Columns (1,17,24,28,33,34,35,36) have mixed types.Specify dtype option on import or set low_memory=False.\n",
      "  exec(code_obj, self.user_global_ns, self.user_ns)\n"
     ]
    },
    {
     "name": "stdout",
     "output_type": "stream",
     "text": [
      "Number of normal patient: 6\n",
      "Number of synonymous patients: 0\n",
      "Number of other tumor patients:85\n"
     ]
    }
   ],
   "source": [
    "df_exp_pura, test_normal, test_syn,test_other = get_expression(gene_name)"
   ]
  },
  {
   "cell_type": "code",
   "execution_count": 22,
   "metadata": {},
   "outputs": [],
   "source": [
    "testStat, pval = mannwhitneyu(test_normal, test_other)"
   ]
  },
  {
   "cell_type": "code",
   "execution_count": 23,
   "metadata": {},
   "outputs": [],
   "source": [
    "dict_pura = {'df_exp':df_exp_pura,'testStat':testStat,'pval':pval}\n",
    "pickle.dump(dict_pura, open(os.path.join(dir_out_figure, 'dict_pura.pkl'), 'wb'))"
   ]
  },
  {
   "cell_type": "markdown",
   "metadata": {},
   "source": [
    "-----------------------\n",
    "Permutation test"
   ]
  },
  {
   "cell_type": "code",
   "execution_count": 80,
   "metadata": {},
   "outputs": [],
   "source": [
    "np.random.seed(500)"
   ]
  },
  {
   "cell_type": "code",
   "execution_count": 58,
   "metadata": {},
   "outputs": [],
   "source": [
    "x= np.array(test_other['expression'].tolist()); y = np.array(test_normal['expression'].tolist())\n",
    "obs_mean_diff = x.mean()-y.mean()\n",
    "pooled = np.hstack([x,y])"
   ]
  },
  {
   "cell_type": "code",
   "execution_count": 81,
   "metadata": {},
   "outputs": [],
   "source": [
    "def permutation_test(pool,xsize,ysize):\n",
    "    permuted = np.random.permutation(pool)\n",
    "    starX = permuted[:xsize]\n",
    "    starY = permuted[-ysize:]\n",
    "    return starX.mean() - starY.mean()"
   ]
  },
  {
   "cell_type": "code",
   "execution_count": 91,
   "metadata": {},
   "outputs": [],
   "source": [
    "npermute = 10000\n",
    "lpermute = []\n",
    "for i in range(npermute):\n",
    "    lpermute.append(permutation_test(pooled,x.size, y.size))"
   ]
  },
  {
   "cell_type": "code",
   "execution_count": 92,
   "metadata": {},
   "outputs": [],
   "source": [
    "diffCount = len(np.where(np.array(lpermute<= obs_mean_diff))[0])"
   ]
  },
  {
   "cell_type": "code",
   "execution_count": 93,
   "metadata": {},
   "outputs": [
    {
     "data": {
      "text/plain": [
       "0.0059"
      ]
     },
     "execution_count": 93,
     "metadata": {},
     "output_type": "execute_result"
    }
   ],
   "source": [
    "float(diffCount)/float(npermute)"
   ]
  }
 ],
 "metadata": {
  "kernelspec": {
   "display_name": "Python 3",
   "language": "python",
   "name": "python3"
  },
  "language_info": {
   "codemirror_mode": {
    "name": "ipython",
    "version": 3
   },
   "file_extension": ".py",
   "mimetype": "text/x-python",
   "name": "python",
   "nbconvert_exporter": "python",
   "pygments_lexer": "ipython3",
   "version": "3.6.10"
  }
 },
 "nbformat": 4,
 "nbformat_minor": 4
}
