{
 "cells": [
  {
   "cell_type": "code",
   "execution_count": 2,
   "metadata": {},
   "outputs": [],
   "source": [
    "### This note book analyze figure 5 - synonymous candidate result\n",
    "# Author: Yiyun\n",
    "\n",
    "import pandas as pd\n",
    "import os,pickle"
   ]
  },
  {
   "cell_type": "markdown",
   "metadata": {},
   "source": [
    "***\n",
    "### Synonymous candidates in CGC - TSG, oncogenes..."
   ]
  },
  {
   "cell_type": "code",
   "execution_count": 3,
   "metadata": {},
   "outputs": [
    {
     "name": "stdout",
     "output_type": "stream",
     "text": [
      "No significant genes: CNS-Oligo\n",
      "No significant genes: Bladder-TCC\n"
     ]
    }
   ],
   "source": [
    "### Read synonymous candidate list and create pivot table for genes\n",
    "cohorts = ['histology','organ','origin','system','pancancer']\n",
    "dir_out = './figure4/'\n",
    "dir_anlyze = '../mutsig_out/anlyze'\n",
    "feature_type = 'histology';syn_nsyn = 'syn'\n",
    "sig_pathlist = pickle.load(open(os.path.join(dir_anlyze, feature_type +'.'+syn_nsyn+'.sig_genes.pathlist.062121.pkl'),'rb'))\n",
    "lfeat = [i.split('/')[-1].split('.')[0] for i in sig_pathlist]\n",
    "df_syn = pd.read_csv(os.path.join(dir_out, 'p-val_distribution',feature_type+'.syn.df_all_forheatmap.062121.csv'),index_col = 0)\n",
    "### Sort by genes\n",
    "df_pivot_syn = df_syn.pivot_table('FDR', index='gene', columns='feature')\n",
    "for feat in lfeat:\n",
    "    if feat not in df_pivot_syn.columns:\n",
    "        df_pivot_syn[feat] = float('NaN')\n",
    "#         print(f'No significant genes: {feat}')\n",
    "df_pivot_syn['n_sig_gene'] = df_pivot_syn.notnull().sum(axis=1)\n",
    "df_pivot_gene_syn = df_pivot_syn.sort_values(by = 'n_sig_gene', ascending = False)\n",
    "df_pivot_gene_syn = df_pivot_gene_syn.iloc[:, 0:-1]"
   ]
  },
  {
   "cell_type": "code",
   "execution_count": 4,
   "metadata": {},
   "outputs": [],
   "source": [
    "### read the census gene file and get cancer census gene list\n",
    "df_census = pd.read_csv(\"../anno_ref/Census_all.csv\")"
   ]
  },
  {
   "cell_type": "code",
   "execution_count": 20,
   "metadata": {},
   "outputs": [],
   "source": [
    "df_census = df_census.set_index('Gene Symbol')"
   ]
  },
  {
   "cell_type": "code",
   "execution_count": 22,
   "metadata": {
    "collapsed": true,
    "jupyter": {
     "outputs_hidden": true
    }
   },
   "outputs": [
    {
     "name": "stdout",
     "output_type": "stream",
     "text": [
      "Name                                                paired-like homeobox 2b\n",
      "Entrez GeneId                                                          8929\n",
      "Genome Location                                         4:41744082-41748970\n",
      "Tier                                                                      1\n",
      "Hallmark                                                                Yes\n",
      "Chr Band                                                                 13\n",
      "Somatic                                                                 yes\n",
      "Germline                                                                yes\n",
      "Tumour Types(Somatic)                                         neuroblastoma\n",
      "Tumour Types(Germline)                                        neuroblastoma\n",
      "Cancer Syndrome                                      familial neuroblastoma\n",
      "Tissue Type                                                               O\n",
      "Molecular Genetics                                                      Rec\n",
      "Role in Cancer                                                          TSG\n",
      "Mutation Types                                                       Mis, F\n",
      "Translocation Partner                                                   NaN\n",
      "Other Germline Mut                                                      yes\n",
      "Other Syndrome                  Congenital central hypoventilation syndrome\n",
      "Synonyms                  8929,ENSG00000109132.6,NBPhox,PHOX2B,PMX2B,Pho...\n",
      "Name: PHOX2B, dtype: object\n",
      "Name                      phosphoinositide-3-kinase, catalytic, alpha po...\n",
      "Entrez GeneId                                                          5290\n",
      "Genome Location                                       3:179148523-179240093\n",
      "Tier                                                                      1\n",
      "Hallmark                                                                Yes\n",
      "Chr Band                                                              26.32\n",
      "Somatic                                                                 yes\n",
      "Germline                                                                NaN\n",
      "Tumour Types(Somatic)             colorectal, gastric, glioblastoma, breast\n",
      "Tumour Types(Germline)                                                  NaN\n",
      "Cancer Syndrome                                                         NaN\n",
      "Tissue Type                                                            E, O\n",
      "Molecular Genetics                                                      Dom\n",
      "Role in Cancer                                                     oncogene\n",
      "Mutation Types                                                          Mis\n",
      "Translocation Partner                                                   NaN\n",
      "Other Germline Mut                                                      NaN\n",
      "Other Syndrome                                                          NaN\n",
      "Synonyms                          5290,ENSG00000121879.4,P42336,PI3K,PIK3CA\n",
      "Name: PIK3CA, dtype: object\n",
      "Name                      v-abl Abelson murine leukemia viral oncogene h...\n",
      "Entrez GeneId                                                            25\n",
      "Genome Location                                       9:130713946-130885683\n",
      "Tier                                                                      1\n",
      "Hallmark                                                                Yes\n",
      "Chr Band                                                              34.12\n",
      "Somatic                                                                 yes\n",
      "Germline                                                                NaN\n",
      "Tumour Types(Somatic)                                       CML, ALL, T-ALL\n",
      "Tumour Types(Germline)                                                  NaN\n",
      "Cancer Syndrome                                                         NaN\n",
      "Tissue Type                                                               L\n",
      "Molecular Genetics                                                      Dom\n",
      "Role in Cancer                                             oncogene, fusion\n",
      "Mutation Types                                                       T, Mis\n",
      "Translocation Partner                                     BCR, ETV6, NUP214\n",
      "Other Germline Mut                                                      NaN\n",
      "Other Syndrome                                                          NaN\n",
      "Synonyms                  25,ABL,ABL1,ENSG00000097007.17,JTK7,P00519,c-A...\n",
      "Name: ABL1, dtype: object\n",
      "Name                                 serine/arginine-rich splicing factor 2\n",
      "Entrez GeneId                                                          6427\n",
      "Genome Location                                        17:76734115-76737333\n",
      "Tier                                                                      1\n",
      "Hallmark                                                                NaN\n",
      "Chr Band                                                               25.1\n",
      "Somatic                                                                 yes\n",
      "Germline                                                                NaN\n",
      "Tumour Types(Somatic)                                              MDS, CLL\n",
      "Tumour Types(Germline)                                                  NaN\n",
      "Cancer Syndrome                                                         NaN\n",
      "Tissue Type                                                               L\n",
      "Molecular Genetics                                                      Dom\n",
      "Role in Cancer                                                     oncogene\n",
      "Mutation Types                                                          Mis\n",
      "Translocation Partner                                                   NaN\n",
      "Other Germline Mut                                                      NaN\n",
      "Other Syndrome                                                          NaN\n",
      "Synonyms                  6427,ENSG00000161547.16,PR264,Q01130,SC-35,SC3...\n",
      "Name: SRSF2, dtype: object\n",
      "Name                                     solute carrier family 45, member 3\n",
      "Entrez GeneId                                                         85414\n",
      "Genome Location                                       1:205657851-205680459\n",
      "Tier                                                                      1\n",
      "Hallmark                                                                Yes\n",
      "Chr Band                                                               32.1\n",
      "Somatic                                                                 yes\n",
      "Germline                                                                NaN\n",
      "Tumour Types(Somatic)                                              prostate\n",
      "Tumour Types(Germline)                                                  NaN\n",
      "Cancer Syndrome                                                         NaN\n",
      "Tissue Type                                                               E\n",
      "Molecular Genetics                                                      Dom\n",
      "Role in Cancer                                                       fusion\n",
      "Mutation Types                                                            T\n",
      "Translocation Partner                           ETV1, ETV5, ELK4, ERG, BRAF\n",
      "Other Germline Mut                                                      NaN\n",
      "Other Syndrome                                                          NaN\n",
      "Synonyms                  85414,ENSG00000158715.5,IPCA-2,IPCA-6,IPCA-8,P...\n",
      "Name: SLC45A3, dtype: object\n",
      "Name                      nascent-polypeptide-associated complex alpha p...\n",
      "Entrez GeneId                                                          4666\n",
      "Genome Location                                        12:56712433-56725299\n",
      "Tier                                                                      2\n",
      "Hallmark                                                                NaN\n",
      "Chr Band                                                               13.3\n",
      "Somatic                                                                 yes\n",
      "Germline                                                                NaN\n",
      "Tumour Types(Somatic)                                                   NHL\n",
      "Tumour Types(Germline)                                                  NaN\n",
      "Cancer Syndrome                                                         NaN\n",
      "Tissue Type                                                               L\n",
      "Molecular Genetics                                                      Dom\n",
      "Role in Cancer                                                       fusion\n",
      "Mutation Types                                                            T\n",
      "Translocation Partner                                                  BCL6\n",
      "Other Germline Mut                                                      NaN\n",
      "Other Syndrome                                                          NaN\n",
      "Synonyms                          4666,E9PAV3,ENSG00000196531.10,NACA,NACA1\n",
      "Name: NACA, dtype: object\n",
      "Name                                                 B-cell CLL/lymphoma 2\n",
      "Entrez GeneId                                                          596\n",
      "Genome Location                                       18:63123346-63320128\n",
      "Tier                                                                     1\n",
      "Hallmark                                                               NaN\n",
      "Chr Band                                                             21.33\n",
      "Somatic                                                                yes\n",
      "Germline                                                               NaN\n",
      "Tumour Types(Somatic)                                             NHL, CLL\n",
      "Tumour Types(Germline)                                                 NaN\n",
      "Cancer Syndrome                                                        NaN\n",
      "Tissue Type                                                              L\n",
      "Molecular Genetics                                                     Dom\n",
      "Role in Cancer                                            oncogene, fusion\n",
      "Mutation Types                                                           T\n",
      "Translocation Partner                                                  IGH\n",
      "Other Germline Mut                                                     NaN\n",
      "Other Syndrome                                                         NaN\n",
      "Synonyms                  596,BCL2,Bcl-2,ENSG00000171791.12,P10415,PPP1R50\n",
      "Name: BCL2, dtype: object\n"
     ]
    }
   ],
   "source": [
    "### Find overlap between synonymous candidate and CGC genes\n",
    "for gene in df_pivot_gene_syn.index.tolist():\n",
    "    if gene in df_census.index.tolist():\n",
    "        print(df_census.loc[gene])"
   ]
  }
 ],
 "metadata": {
  "kernelspec": {
   "display_name": "Python 3",
   "language": "python",
   "name": "python3"
  },
  "language_info": {
   "codemirror_mode": {
    "name": "ipython",
    "version": 3
   },
   "file_extension": ".py",
   "mimetype": "text/x-python",
   "name": "python",
   "nbconvert_exporter": "python",
   "pygments_lexer": "ipython3",
   "version": "3.8.3"
  }
 },
 "nbformat": 4,
 "nbformat_minor": 4
}
