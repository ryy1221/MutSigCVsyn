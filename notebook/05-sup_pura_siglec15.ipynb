{
 "cells": [
  {
   "cell_type": "code",
   "execution_count": 2,
   "metadata": {},
   "outputs": [],
   "source": [
    "### This is a gene specific analysis notebook\n",
    "import pickle, os\n",
    "import pandas as pd\n",
    "import numpy as np\n",
    "from scipy.stats import mannwhitneyu"
   ]
  },
  {
   "cell_type": "code",
   "execution_count": 3,
   "metadata": {},
   "outputs": [],
   "source": [
    "# output directory\n",
    "dir_out_figure = '../manuscript/figures_data/'\n",
    "\n",
    "if not os.path.exists(dir_out_figure):\n",
    "    os.makedirs(dir_out_figure)"
   ]
  },
  {
   "cell_type": "code",
   "execution_count": 4,
   "metadata": {},
   "outputs": [],
   "source": [
    "#-------------Read Data------------------\n",
    "# Read expression data\n",
    "exp_dir = '../data/anno_refs/pcawg_rnaseq/'\n",
    "gene_tophat = 'tophat_star_fpkm.v2.aliquot_gl.tsv'\n",
    "# Read aliquot id information\n",
    "df_exp_info = pd.read_csv(os.path.join(exp_dir,'rnaseq.metadata.tsv'), sep = '\\t')\n",
    "# Read expression information\n",
    "df_exp = pd.read_csv(os.path.join(exp_dir,gene_tophat),sep = '\\t', index_col = 0)"
   ]
  },
  {
   "cell_type": "code",
   "execution_count": 5,
   "metadata": {},
   "outputs": [],
   "source": [
    "# Read the synonymous candidate dataframe\n",
    "dir_out_fig4 = './figure4/'\n",
    "feature_type = 'histology';syn_nsyn = 'syn';run = 'cohort_new_newcova_nohypermutator'\n",
    "df_syn = pd.read_csv(os.path.join(dir_out_fig4,feature_type+'.syn.df_all_forheatmap.'+run+'.csv'),index_col = 0)\n",
    "df_syn = df_syn.set_index('gene')\n",
    "\n",
    "# Read the significant gene-id dataframe\n",
    "fsig_name = 'sig_gene_name_id.csv'\n",
    "df_nsig = pd.read_csv(os.path.join(dir_out_fig4, fsig_name))\n",
    "df_nsig.columns = ['name', 'id']\n",
    "\n",
    "dir_maf = '../data/maf/histology_nohypermutator'"
   ]
  },
  {
   "cell_type": "code",
   "execution_count": 6,
   "metadata": {},
   "outputs": [],
   "source": [
    "#-------------Syn Patient Expression------------------\n",
    "def get_gene_exp(gene_name, df_expression):\n",
    "    global df_nsig\n",
    "    idx = df_nsig[df_nsig['name'] == gene_name].index\n",
    "    gene_id = df_nsig.loc[idx, 'id'].values[0]\n",
    "    df = df_expression.loc[df_expression.index.str.contains(rf'{gene_id}'),:]\n",
    "    return df\n",
    "\n",
    "def get_syn_mut(gene_name):\n",
    "    global df_syn\n",
    "    histology = df_syn.loc[gene_name,'feature']\n",
    "    df_maf = pd.read_csv(os.path.join(dir_maf, histology+'.csv'), sep = '\\t')\n",
    "    df_maf = df_maf.set_index(['Hugo_Symbol','Variant_Classification','Donor_ID' ])\n",
    "    df_mut = df_maf.loc[pd.IndexSlice[gene_name, :,:],:]\n",
    "    df_silent = df_maf.loc[pd.IndexSlice[gene_name, 'Silent',:],:]\n",
    "    patient = df_silent.index.get_level_values('Donor_ID').unique().tolist()\n",
    "    \n",
    "    return df_mut, df_silent, patient\n",
    "\n",
    "def get_patient_id(gene_name, patients):\n",
    "    global df_exp_info, df_syn\n",
    "    histology = df_syn.loc[gene_name,'feature']\n",
    "    df = df_exp_info[df_exp_info['histology_abbreviation'] == histology]\n",
    "    \n",
    "    # Get tumor, syn and normal patient aliquot id\n",
    "    normal_id = df[df['tumor.normal'] == 'normal']['aliquot_id']\n",
    "    df_tumor = df[df['tumor.normal'] == 'tumor']\n",
    "    tumor_syn_id = df_tumor[df_tumor['icgc_donor_id'].isin(patients)]['aliquot_id']\n",
    "    tumor_other_id = df_tumor[~df_tumor['icgc_donor_id'].isin(patients)]['aliquot_id']\n",
    "    \n",
    "    return normal_id, tumor_syn_id, tumor_other_id\n",
    "\n",
    "def get_patient_exp(ids, df_gene_exp, tissue_type = None):\n",
    "    df_for_test = df_gene_exp[ids].transpose()\n",
    "    df = df_gene_exp[ids].transpose().reset_index()\n",
    "    df['tumor.normal'] = tissue_type\n",
    "    df.columns = ['id','exp','tumor.normal']\n",
    "    \n",
    "    return df, df_for_test"
   ]
  },
  {
   "cell_type": "code",
   "execution_count": 7,
   "metadata": {},
   "outputs": [],
   "source": [
    "def get_expression(gene):\n",
    "    histology = df_syn.loc[gene,'feature']\n",
    "\n",
    "    df_exp_gene = get_gene_exp(gene, df_exp)\n",
    "    df_allmut, df_synmut, synp = get_syn_mut(gene)\n",
    "    id_normal, id_syn, id_other =get_patient_id(gene, synp)\n",
    "\n",
    "    df_normal, normal_test = get_patient_exp(id_normal, df_exp_gene, 'normal')\n",
    "    df_tsyn, syn_test = get_patient_exp(id_syn, df_exp_gene,'tumor_syn')\n",
    "    df_tother, other_test = get_patient_exp(id_other, df_exp_gene, 'tumor_other')\n",
    "    df_all = pd.concat([df_normal,df_tsyn,df_tother])\n",
    "\n",
    "    nnorm = len(df_normal['id'].unique())\n",
    "    print(f'Number of normal patient: {nnorm}')\n",
    "    nsyn = len(df_tsyn['id'].unique())\n",
    "    print(f'Number of synonymous patients: {nsyn} out of {synp}')\n",
    "    nother = len(df_tother['id'].unique())\n",
    "    print(f'Number of other tumor patients:{nother}')\n",
    "    \n",
    "    normal_test.columns = ['expression']\n",
    "    syn_test.columns = ['expression']\n",
    "    other_test.columns = ['expression']\n",
    "\n",
    "    return df_allmut,df_synmut,df_all, normal_test, syn_test,other_test"
   ]
  },
  {
   "cell_type": "code",
   "execution_count": 8,
   "metadata": {},
   "outputs": [
    {
     "name": "stderr",
     "output_type": "stream",
     "text": [
      "/storage/home/yur97/anaconda3/envs/mSigsyn/lib/python3.6/site-packages/IPython/core/interactiveshell.py:3343: DtypeWarning: Columns (17) have mixed types.Specify dtype option on import or set low_memory=False.\n",
      "  exec(code_obj, self.user_global_ns, self.user_ns)\n"
     ]
    },
    {
     "name": "stdout",
     "output_type": "stream",
     "text": [
      "Number of normal patient: 6\n",
      "Number of synonymous patients: 0 out of ['DO1004', 'DO218347']\n",
      "Number of other tumor patients:85\n"
     ]
    }
   ],
   "source": [
    "gene_name = 'PURA'\n",
    "df_mutall_gene,df_synmut_gene,df_exp_pura, test_normal, test_syn,test_other = get_expression(gene_name)\n",
    "testStat, pval = mannwhitneyu(test_normal, test_other)\n",
    "dict_pura = {'df_exp':df_exp_pura,'testStat':testStat,'pval':pval}\n",
    "pickle.dump(dict_pura, open(os.path.join(dir_out_figure, 'dict_pura.pkl'), 'wb'))"
   ]
  },
  {
   "cell_type": "markdown",
   "metadata": {},
   "source": [
    "***\n",
    "### SIGLEC5"
   ]
  },
  {
   "cell_type": "code",
   "execution_count": 20,
   "metadata": {},
   "outputs": [],
   "source": [
    "dir_depmap = './figure5/depmap'\n",
    "gene_name = 'SIGLEC15'"
   ]
  },
  {
   "cell_type": "code",
   "execution_count": 21,
   "metadata": {},
   "outputs": [],
   "source": [
    "def get_lineage(gene, histology):\n",
    "    ### Read file\n",
    "    df_depmap = pd.read_csv(os.path.join(dir_depmap, gene+'_21Q2.csv'))\n",
    "    print(df_depmap[df_depmap['Lineage'] == histology]['Lineage Subtype'].unique())"
   ]
  },
  {
   "cell_type": "code",
   "execution_count": 22,
   "metadata": {},
   "outputs": [
    {
     "name": "stdout",
     "output_type": "stream",
     "text": [
      "['Exocrine']\n"
     ]
    }
   ],
   "source": [
    "get_lineage(gene_name, 'Pancreas')"
   ]
  },
  {
   "cell_type": "code",
   "execution_count": 42,
   "metadata": {},
   "outputs": [],
   "source": [
    "def get_CERES(gene, lineage):\n",
    "    df_depmap = pd.read_csv(os.path.join(dir_depmap, gene+'_21Q2.csv'))\n",
    "    df_depmap.columns = ['ID', 'CERES', 'Name', 'Primary Disease', 'Lineage', 'Lineage Subtype', 'Expression', 'Mutation']\n",
    "\n",
    "    df_gene = df_depmap[df_depmap['Lineage Subtype'] == lineage]\n",
    "    print(f'{len(df_gene[\"Expression\"])} in histology subtype')\n",
    "    df_other = df_depmap[df_depmap['Lineage Subtype'] != lineage]\n",
    "    print(f'{len(df_other[\"Expression\"])} not in histology subtype')\n",
    "    df_all = pd.DataFrame({'inlineage':df_gene['Expression'],\n",
    "                          'other':df_other['Expression']})\n",
    "    df_all = df_all.melt()\n",
    "    \n",
    "    return df_all, df_gene, df_other"
   ]
  },
  {
   "cell_type": "code",
   "execution_count": 47,
   "metadata": {},
   "outputs": [
    {
     "name": "stdout",
     "output_type": "stream",
     "text": [
      "44 in histology subtype\n",
      "945 not in histology subtype\n"
     ]
    }
   ],
   "source": [
    "df_siglec15, inlineage, other = get_CERES(gene_name, 'Exocrine')\n",
    "testStat, pval = mannwhitneyu(inlineage[\"Expression\"], other[\"Expression\"])"
   ]
  },
  {
   "cell_type": "code",
   "execution_count": 48,
   "metadata": {},
   "outputs": [],
   "source": [
    "dict_siglec15 = {'df_exp':df_siglec15,'testStat':testStat,'pval':pval}\n",
    "pickle.dump(dict_siglec15, open(os.path.join(dir_out_figure, 'dict_siglec15.pkl'), 'wb'))"
   ]
  },
  {
   "cell_type": "markdown",
   "metadata": {
    "jp-MarkdownHeadingCollapsed": true,
    "tags": []
   },
   "source": [
    "***\n",
    "### SRSF2 global splicing alteration\n"
   ]
  },
  {
   "cell_type": "code",
   "execution_count": 90,
   "metadata": {},
   "outputs": [],
   "source": [
    "# Read splicing data\n",
    "splice_dir = '../anno_ref/ICGC/alternative_splicing'\n",
    "exp_dir = '../data/anno_refs/pcawg_rnaseq/'\n",
    "\n",
    "splice_fname = 'all_per_gene_func.tsv'\n",
    "# Read aliquot id information\n",
    "df_exp_info = pd.read_csv(os.path.join(exp_dir,'rnaseq.metadata.tsv'), sep = '\\t')\n",
    "# Read expression information\n",
    "df_splice = pd.read_csv(os.path.join(splice_dir,splice_fname),sep = '\\t', index_col = 0)"
   ]
  },
  {
   "cell_type": "code",
   "execution_count": 91,
   "metadata": {},
   "outputs": [],
   "source": [
    "def get_syn_mut(gene_name):\n",
    "    global df_syn\n",
    "    histology = df_syn.loc[gene_name,'feature']\n",
    "    df_maf = pd.read_csv(os.path.join(dir_maf, histology+'.csv'), sep = '\\t')\n",
    "    df_maf = df_maf.set_index(['Hugo_Symbol','Variant_Classification','Donor_ID' ])\n",
    "    df_mut = df_maf.loc[pd.IndexSlice[gene_name, :,:],:]\n",
    "    df_silent = df_maf.loc[pd.IndexSlice[gene_name, 'Silent',:],:]\n",
    "    synpatient = df_silent.index.get_level_values('Donor_ID').unique().tolist()\n",
    "    allpatient = df_mut.index.get_level_values('Donor_ID').unique().tolist()\n",
    "    histpatient = df_maf.index.get_level_values('Donor_ID').unique().tolist()\n",
    "    \n",
    "    return df_mut, df_silent, synpatient, allpatient, histpatient\n",
    "def get_splicing_patient_id(gene_name):\n",
    "    global df_exp_info, df_syn\n",
    "    histology = df_syn.loc[gene_name,'feature']\n",
    "    df = df_exp_info[df_exp_info['histology_abbreviation'] == histology]\n",
    "    \n",
    "    # Get tumor, syn and normal patient aliquot id\n",
    "    normal_id = df[df['tumor.normal'] == 'normal']['aliquot_id']\n",
    "    df_tumor = df[df['tumor.normal'] == 'tumor']\n",
    "    # tumor_syn_id = df_tumor[df_tumor['icgc_donor_id'].isin(patients)]['aliquot_id']\n",
    "    # print(df_tumor[df_tumor['icgc_donor_id'].isin(patients)])\n",
    "    # tumor_other_id = df_tumor[~df_tumor['icgc_donor_id'].isin(patients)]['aliquot_id']\n",
    "    \n",
    "    return df_tumor\n",
    "\n",
    "def get_patient_exp(ids, df_gene_exp, tissue_type = None):\n",
    "    df_for_test = df_gene_exp[ids].transpose()\n",
    "    df = df_gene_exp[ids].transpose().reset_index()\n",
    "    df['tumor.normal'] = tissue_type\n",
    "    df.columns = ['id','exp','tumor.normal']\n",
    "    \n",
    "    return df, df_for_test"
   ]
  },
  {
   "cell_type": "code",
   "execution_count": 92,
   "metadata": {},
   "outputs": [],
   "source": [
    "gene_name = 'SRSF2'"
   ]
  },
  {
   "cell_type": "code",
   "execution_count": 93,
   "metadata": {},
   "outputs": [],
   "source": [
    "df_splice_gene = get_gene_exp('SRSF2', df_splice)"
   ]
  },
  {
   "cell_type": "code",
   "execution_count": 94,
   "metadata": {},
   "outputs": [
    {
     "name": "stderr",
     "output_type": "stream",
     "text": [
      "/storage/home/yur97/anaconda3/envs/mSigsyn/lib/python3.6/site-packages/IPython/core/interactiveshell.py:3263: DtypeWarning: Columns (17,24) have mixed types.Specify dtype option on import or set low_memory=False.\n",
      "  if (await self.run_code(code, result,  async_=asy)):\n"
     ]
    }
   ],
   "source": [
    "df_allmut, df_synmut, synp,allp,histp = get_syn_mut(gene_name)"
   ]
  },
  {
   "cell_type": "code",
   "execution_count": 95,
   "metadata": {},
   "outputs": [],
   "source": [
    "df_splicing_hist = get_splicing_patient_id(gene_name)"
   ]
  },
  {
   "cell_type": "code",
   "execution_count": 113,
   "metadata": {},
   "outputs": [],
   "source": [
    "tumor_gene_id = df_splicing_hist[df_splicing_hist['icgc_donor_id'].isin(allp)]['aliquot_id'].unique().tolist()\n",
    "tumor_syn_id = df_splicing_hist[df_splicing_hist['icgc_donor_id'].isin(synp)]['aliquot_id'].unique().tolist()\n",
    "all_hist_id = df_splicing_hist[df_splicing_hist['icgc_donor_id'].isin(histp)]['aliquot_id'].unique().tolist()"
   ]
  },
  {
   "cell_type": "code",
   "execution_count": 114,
   "metadata": {},
   "outputs": [],
   "source": [
    "all_hist_id = [i for i in all_hist_id if i not in tumor_gene_id]\n",
    "tumor_gene_id = [i for i in tumor_gene_id if i not in tumor_syn_id]"
   ]
  },
  {
   "cell_type": "code",
   "execution_count": 115,
   "metadata": {},
   "outputs": [],
   "source": [
    "df_gene, gene_test = get_patient_exp(tumor_gene_id, df_splice_gene, 'gene_all')\n",
    "df_syn_gene, syn_test = get_patient_exp(tumor_syn_id, df_splice_gene,'syn')\n",
    "df_hist, hist_test = get_patient_exp(all_hist_id, df_splice_gene,'hist')\n",
    "\n",
    "df_all = pd.concat([df_gene,df_syn_gene,df_hist])"
   ]
  },
  {
   "cell_type": "code",
   "execution_count": 116,
   "metadata": {},
   "outputs": [
    {
     "data": {
      "text/plain": [
       "<AxesSubplot:xlabel='tumor.normal', ylabel='exp'>"
      ]
     },
     "execution_count": 116,
     "metadata": {},
     "output_type": "execute_result"
    },
    {
     "data": {
      "image/png": "[encoded data removed]",
      "text/plain": [
       "<Figure size 432x288 with 1 Axes>"
      ]
     },
     "metadata": {
      "needs_background": "light"
     },
     "output_type": "display_data"
    }
   ],
   "source": [
    "sns.boxplot(x = 'tumor.normal', y = 'exp', data = df_all)"
   ]
  },
  {
   "cell_type": "code",
   "execution_count": 123,
   "metadata": {},
   "outputs": [],
   "source": [
    "testStat, pval = mannwhitneyu(gene_test, hist_test)"
   ]
  },
  {
   "cell_type": "code",
   "execution_count": 124,
   "metadata": {},
   "outputs": [
    {
     "data": {
      "text/plain": [
       "0.13084995885617695"
      ]
     },
     "execution_count": 124,
     "metadata": {},
     "output_type": "execute_result"
    }
   ],
   "source": [
    "pval"
   ]
  },
  {
   "cell_type": "markdown",
   "metadata": {
    "jp-MarkdownHeadingCollapsed": true,
    "tags": []
   },
   "source": [
    "-----------------------\n",
    "### Permutation test example"
   ]
  },
  {
   "cell_type": "code",
   "execution_count": 19,
   "metadata": {},
   "outputs": [],
   "source": [
    "np.random.seed(500)"
   ]
  },
  {
   "cell_type": "code",
   "execution_count": 128,
   "metadata": {},
   "outputs": [],
   "source": [
    "x= np.array(hist_test['ENSG00000161547.10'].tolist()); y = np.array(syn_test['ENSG00000161547.10'].tolist())\n",
    "obs_mean_diff = x.mean()-y.mean()\n",
    "pooled = np.hstack([x,y])"
   ]
  },
  {
   "cell_type": "code",
   "execution_count": 129,
   "metadata": {},
   "outputs": [],
   "source": [
    "def permutation_test(pool,xsize,ysize):\n",
    "    permuted = np.random.permutation(pool)\n",
    "    starX = permuted[:xsize]\n",
    "    starY = permuted[-ysize:]\n",
    "    return starX.mean() - starY.mean()"
   ]
  },
  {
   "cell_type": "code",
   "execution_count": 130,
   "metadata": {},
   "outputs": [],
   "source": [
    "npermute = 10000\n",
    "lpermute = []\n",
    "for i in range(npermute):\n",
    "    lpermute.append(permutation_test(pooled,x.size, y.size))"
   ]
  },
  {
   "cell_type": "code",
   "execution_count": 131,
   "metadata": {},
   "outputs": [],
   "source": [
    "diffCount = len(np.where(np.array(lpermute>= obs_mean_diff))[0])"
   ]
  },
  {
   "cell_type": "code",
   "execution_count": 132,
   "metadata": {},
   "outputs": [
    {
     "data": {
      "text/plain": [
       "0.6913"
      ]
     },
     "execution_count": 132,
     "metadata": {},
     "output_type": "execute_result"
    }
   ],
   "source": [
    "float(diffCount)/float(npermute)"
   ]
  }
 ],
 "metadata": {
  "kernelspec": {
   "display_name": "Python 3",
   "language": "python",
   "name": "python3"
  },
  "language_info": {
   "codemirror_mode": {
    "name": "ipython",
    "version": 3
   },
   "file_extension": ".py",
   "mimetype": "text/x-python",
   "name": "python",
   "nbconvert_exporter": "python",
   "pygments_lexer": "ipython3",
   "version": "3.6.10"
  }
 },
 "nbformat": 4,
 "nbformat_minor": 4
}
