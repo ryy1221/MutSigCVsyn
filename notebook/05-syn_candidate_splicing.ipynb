{
 "cells": [
  {
   "cell_type": "code",
   "execution_count": 1,
   "metadata": {},
   "outputs": [],
   "source": [
    "### This notebook analyze candidate mutation positions and see if they lies in the splicing region\n",
    "import pandas as pd\n",
    "import os,pickle,re\n",
    "from tqdm import tqdm"
   ]
  },
  {
   "cell_type": "code",
   "execution_count": 8,
   "metadata": {},
   "outputs": [],
   "source": [
    "### Read the synonymous candidate list/maf directory\n",
    "dir_out_fig4 = './figure4/'\n",
    "feature_type = 'histology';syn_nsyn = 'syn';run = 'cohort_090821'\n",
    "df_syn = pd.read_csv(os.path.join(dir_out_fig4,feature_type+'.syn.df_all_forheatmap.'+run+'.csv'),index_col = 0)\n",
    "df_syn = df_syn.set_index('gene')\n",
    "\n",
    "dir_maf = '../maf_out/maf_cohorts_060121'\n",
    "feature_type = 'histology'"
   ]
  },
  {
   "cell_type": "code",
   "execution_count": 9,
   "metadata": {},
   "outputs": [],
   "source": [
    "# Read transcript info file\n",
    "dict_transcript_info = pickle.load(open('../anno_ref/proc_refs/dict_transcript_info_062121.pkl','rb'))\n",
    "dict_name = pickle.load(open(os.path.join('../anno_ref/proc_refs','dict_name_forcov_062121.pkl'), 'rb'))\n",
    "# dict_record = pickle.load(open('../anno_ref/proc_refs/dict_record_new.pkl','rb'))"
   ]
  },
  {
   "cell_type": "code",
   "execution_count": 10,
   "metadata": {},
   "outputs": [],
   "source": [
    "# Find transcript for the gene\n",
    "# Create dictionary for candidate gene name - transcript id\n",
    "dict_name_id = {}\n",
    "for sig_genes in df_syn.index.tolist():\n",
    "    for transcript,gene in dict_name.items():\n",
    "        if gene == sig_genes:\n",
    "            dict_name_id[sig_genes] = transcript"
   ]
  },
  {
   "cell_type": "code",
   "execution_count": 11,
   "metadata": {},
   "outputs": [],
   "source": [
    "### Get the synonymous mutations of the candidate gene in the cohort\n",
    "def get_syn_mut(gene):\n",
    "    global df_syn\n",
    "    \n",
    "    histology = df_syn.loc[gene,'feature'] #histology type\n",
    "    # open maf file\n",
    "    df_maf = pd.read_csv(os.path.join(dir_maf,feature_type, histology+'.csv'), sep = '\\t')\n",
    "    df_maf = df_maf.set_index(['Hugo_Symbol','Variant_Classification','Donor_ID' ])\n",
    "    # total number of donors in this cohort\n",
    "    ldonor_all = df_maf.index.get_level_values('Donor_ID').unique().tolist()\n",
    "    #print(f'Total {len(ldonor_all)} patients')\n",
    "    \n",
    "    # Find synonymous mutations\n",
    "    df_gene_mut = df_maf.loc[pd.IndexSlice[gene, 'Silent',:],:]### All patients' specific histology in this histology type\n",
    "    # Number of patients have synonymous mutations\n",
    "    ldonor = df_gene_mut.index.get_level_values('Donor_ID').unique().tolist()\n",
    "    #print(f'{len(ldonor)} patients have synonymous mutations, they are: {ldonor}')\n",
    "\n",
    "    return df_gene_mut,histology"
   ]
  },
  {
   "cell_type": "code",
   "execution_count": 34,
   "metadata": {},
   "outputs": [],
   "source": [
    "# Determine if the mutaiton position is close to the exon start-end\n",
    "def find_splicing_pos(mut_pos, cds, gene_strand):\n",
    "    flag = 0; effect = None\n",
    "    if gene_strand == '-':\n",
    "        if mut_pos< cds[1] and mut_pos > cds[1]-20:\n",
    "            effect = 'within 20bp of 5 prime splicing site';flag=1\n",
    "        elif mut_pos > cds[0] and mut_pos< cds[0] + 20:\n",
    "            effect = 'within 20bp of 3 prime splicing site';flag=1\n",
    "    else:\n",
    "        if mut_pos> cds[0] and mut_pos < cds[0]+20:\n",
    "            effect = 'within 20bp of 5 prime splicing site';flag = 1\n",
    "        elif mut_pos < cds[1] and mut_pos> cds[1] - 20:\n",
    "            effect = 'within 20bp of 3 prime splicing site';flag = 1\n",
    "    return flag, effect"
   ]
  },
  {
   "cell_type": "code",
   "execution_count": 35,
   "metadata": {},
   "outputs": [],
   "source": [
    "# Determine if the mutaiton position is close to the exon start-end\n",
    "def find_initiation_pos(mut_pos, cds, gene_strand):\n",
    "    flag = 0; effect = None\n",
    "    # if gene_strand == '-':\n",
    "    #     if mut_pos< cds[1] and mut_pos > cds[1]-10:\n",
    "    #         effect = 'within 10bp of initiation site';flag = 1\n",
    "    #     elif mut_pos > cds[0] and mut_pos< cds[0] +20:\n",
    "    #         effect = 'within 20bp of 3 prime splicing site';flag = 1\n",
    "    # else:\n",
    "    if mut_pos > cds[0] and mut_pos< cds[0] + 10:\n",
    "        effect = 'within 10bp of initiation site';flag = 1\n",
    "    elif mut_pos < cds[1] and mut_pos> cds[1]- 20:\n",
    "        effect = 'within 20bp of 3 prime splicing site';flag = 1\n",
    "    return flag, effect"
   ]
  },
  {
   "cell_type": "code",
   "execution_count": 36,
   "metadata": {},
   "outputs": [],
   "source": [
    "def make_gene_df(gene, histology, mutation, exon, effect):\n",
    "    dict_gene_splice = {'Gene':[gene], 'Histology':[histology], 'Mutation':[mutation], 'Exon':[exon], 'Effect':[effect]}\n",
    "    df = pd.DataFrame.from_dict(dict_gene_splice)\n",
    "    print(dict_gene_splice)\n",
    "    return df"
   ]
  },
  {
   "cell_type": "code",
   "execution_count": 47,
   "metadata": {
    "tags": []
   },
   "outputs": [
    {
     "name": "stdout",
     "output_type": "stream",
     "text": [
      "searching for gene BCL2\n"
     ]
    },
    {
     "name": "stderr",
     "output_type": "stream",
     "text": [
      "/storage/home/yur97/anaconda3/envs/mSigsyn/lib/python3.6/site-packages/IPython/core/interactiveshell.py:3263: DtypeWarning: Columns (1,17,33,34,35,36) have mixed types.Specify dtype option on import or set low_memory=False.\n",
      "  if (await self.run_code(code, result,  async_=asy)):\n"
     ]
    },
    {
     "name": "stdout",
     "output_type": "stream",
     "text": [
      "searching for gene SRSF2\n",
      "{'Gene': ['SRSF2'], 'Histology': ['Lymph-BNHL'], 'Mutation': ['chr17:g.74733234G>A'], 'Exon': [2], 'Effect': ['within 20bp of 3 prime splicing site']}\n",
      "searching for gene ITLN1\n"
     ]
    },
    {
     "name": "stderr",
     "output_type": "stream",
     "text": [
      "/storage/home/yur97/anaconda3/envs/mSigsyn/lib/python3.6/site-packages/IPython/core/interactiveshell.py:3263: DtypeWarning: Columns (24) have mixed types.Specify dtype option on import or set low_memory=False.\n",
      "  if (await self.run_code(code, result,  async_=asy)):\n"
     ]
    },
    {
     "name": "stdout",
     "output_type": "stream",
     "text": [
      "searching for gene XIRP2\n",
      "{'Gene': ['XIRP2'], 'Histology': ['Skin-Melanoma'], 'Mutation': ['chr2:g.168096370A>G'], 'Exon': [7], 'Effect': ['within 20bp of 5 prime splicing site']}\n",
      "searching for gene ACTA1\n"
     ]
    },
    {
     "name": "stderr",
     "output_type": "stream",
     "text": [
      "/storage/home/yur97/anaconda3/envs/mSigsyn/lib/python3.6/site-packages/IPython/core/interactiveshell.py:3263: DtypeWarning: Columns (17) have mixed types.Specify dtype option on import or set low_memory=False.\n",
      "  if (await self.run_code(code, result,  async_=asy)):\n"
     ]
    },
    {
     "name": "stdout",
     "output_type": "stream",
     "text": [
      "{'Gene': ['ACTA1'], 'Histology': ['Lymph-CLL'], 'Mutation': ['chr1:g.229567630A>G'], 'Exon': [6], 'Effect': ['within 20bp of 5 prime splicing site']}\n",
      "{'Gene': ['ACTA1'], 'Histology': ['Lymph-CLL'], 'Mutation': ['chr1:g.229567636C>A'], 'Exon': [6], 'Effect': ['within 20bp of 5 prime splicing site']}\n",
      "{'Gene': ['ACTA1'], 'Histology': ['Lymph-CLL'], 'Mutation': ['chr1:g.229567639C>A'], 'Exon': [6], 'Effect': ['within 20bp of 5 prime splicing site']}\n",
      "{'Gene': ['ACTA1'], 'Histology': ['Lymph-CLL'], 'Mutation': ['chr1:g.229567630A>G'], 'Exon': [6], 'Effect': ['within 20bp of 5 prime splicing site']}\n",
      "{'Gene': ['ACTA1'], 'Histology': ['Lymph-CLL'], 'Mutation': ['chr1:g.229567636C>A'], 'Exon': [6], 'Effect': ['within 20bp of 5 prime splicing site']}\n",
      "{'Gene': ['ACTA1'], 'Histology': ['Lymph-CLL'], 'Mutation': ['chr1:g.229567639C>A'], 'Exon': [6], 'Effect': ['within 20bp of 5 prime splicing site']}\n",
      "searching for gene GLRA3\n"
     ]
    },
    {
     "name": "stderr",
     "output_type": "stream",
     "text": [
      "/storage/home/yur97/anaconda3/envs/mSigsyn/lib/python3.6/site-packages/IPython/core/interactiveshell.py:3263: DtypeWarning: Columns (1,17,24,33,34,35,36) have mixed types.Specify dtype option on import or set low_memory=False.\n",
      "  if (await self.run_code(code, result,  async_=asy)):\n"
     ]
    },
    {
     "name": "stdout",
     "output_type": "stream",
     "text": [
      "searching for gene SOX18\n",
      "{'Gene': ['SOX18'], 'Histology': ['Eso-AdenoCA'], 'Mutation': ['chr20:g.62680308C>T'], 'Exon': [2], 'Effect': ['within 20bp of 5 prime splicing site']}\n",
      "searching for gene DMRTB1\n",
      "searching for gene SIGLEC15\n",
      "{'Gene': ['SIGLEC15'], 'Histology': ['Panc-AdenoCA'], 'Mutation': ['chr18:g.43418687G>C'], 'Exon': [4], 'Effect': ['within 20bp of 5 prime splicing site']}\n",
      "searching for gene TP53I3\n",
      "searching for gene CALR\n"
     ]
    },
    {
     "name": "stderr",
     "output_type": "stream",
     "text": [
      "/storage/home/yur97/anaconda3/envs/mSigsyn/lib/python3.6/site-packages/IPython/core/interactiveshell.py:3263: DtypeWarning: Columns (1,17,24,28,33,34,35,36) have mixed types.Specify dtype option on import or set low_memory=False.\n",
      "  if (await self.run_code(code, result,  async_=asy)):\n"
     ]
    },
    {
     "name": "stdout",
     "output_type": "stream",
     "text": [
      "searching for gene HIST1H4E\n",
      "searching for gene HIST1H3G\n",
      "{'Gene': ['HIST1H3G'], 'Histology': ['Breast-AdenoCA'], 'Mutation': ['chr6:g.26271214C>A'], 'Exon': [1], 'Effect': ['within 10bp of initiation site']}\n",
      "searching for gene PURA\n",
      "searching for gene TUBA4A\n",
      "searching for gene HIST1H2BK\n",
      "searching for gene AKAP2\n",
      "searching for gene NOL9\n",
      "searching for gene ACTRT2\n",
      "searching for gene NACA\n",
      "searching for gene PRX\n",
      "searching for gene MSRB2\n",
      "searching for gene ITPR2\n",
      "searching for gene SH3BGR\n"
     ]
    },
    {
     "name": "stderr",
     "output_type": "stream",
     "text": [
      "/storage/home/yur97/anaconda3/envs/mSigsyn/lib/python3.6/site-packages/IPython/core/interactiveshell.py:3263: DtypeWarning: Columns (17,24) have mixed types.Specify dtype option on import or set low_memory=False.\n",
      "  if (await self.run_code(code, result,  async_=asy)):\n"
     ]
    },
    {
     "name": "stdout",
     "output_type": "stream",
     "text": [
      "{'Gene': ['SH3BGR'], 'Histology': ['Panc-Endocrine'], 'Mutation': ['chr21:g.40834315G>A'], 'Exon': [3], 'Effect': ['within 20bp of 5 prime splicing site']}\n",
      "searching for gene ACVRL1\n",
      "{'Gene': ['ACVRL1'], 'Histology': ['Prost-AdenoCA'], 'Mutation': ['chr12:g.52307539C>T'], 'Exon': [4], 'Effect': ['within 20bp of 3 prime splicing site']}\n",
      "{'Gene': ['ACVRL1'], 'Histology': ['Prost-AdenoCA'], 'Mutation': ['chr12:g.52307549T>C'], 'Exon': [4], 'Effect': ['within 20bp of 3 prime splicing site']}\n",
      "searching for gene TPM2\n",
      "searching for gene ZFP69\n"
     ]
    }
   ],
   "source": [
    "df_splice = pd.DataFrame(columns = ['Gene','Histology', 'Mutation', 'Exon', 'Effect'])\n",
    "for genes in dict_name_id:\n",
    "    print(f'searching for gene {genes}')\n",
    "    transcript = dict_name_id[genes]\n",
    "    chromosome = dict_transcript_info[transcript]['chr']\n",
    "    CDS = dict_transcript_info[transcript]['CDS']\n",
    "    len_cds = len(CDS);len_exon = len(dict_transcript_info[transcript]['exon'])\n",
    "    # If there is extra UTR exon, add the index by +1 in the following session\n",
    "    n_plusidx = len_exon-len_cds+1\n",
    "    strand = dict_transcript_info[transcript]['strand']\n",
    "    df_synmut, his = get_syn_mut(genes)\n",
    "\n",
    "    # If negative strand then reverse the exon orders\n",
    "    # if strand == '-':\n",
    "    #     CDS.reverse()\n",
    "    for mutations in df_synmut['Genome_Change'].unique().tolist():\n",
    "        change = mutations.split(':')[1]\n",
    "        mutation = chromosome+':g.'+change\n",
    "        muts = int(re.findall(r'\\d+', mutation)[1])\n",
    "        for idx,exons in enumerate(CDS):\n",
    "            if idx == 0: # Find initiation mutations\n",
    "                res, eff = find_initiation_pos(muts, exons, strand)\n",
    "                if res == 1:\n",
    "                    exn = idx +n_plusidx; df_gene_splice = make_gene_df(genes, his, mutation, exn, eff)\n",
    "                    df_splice = pd.concat([df_splice, df_gene_splice], axis = 0)\n",
    "            else:\n",
    "                res, eff = find_splicing_pos(muts, exons, strand)\n",
    "                if res ==1:\n",
    "                    exn = idx+n_plusidx; df_gene_splice = make_gene_df(genes, his, mutation, exn, eff)\n",
    "                    df_splice = pd.concat([df_splice, df_gene_splice], axis = 0)"
   ]
  },
  {
   "cell_type": "code",
   "execution_count": 48,
   "metadata": {},
   "outputs": [
    {
     "data": {
      "text/html": [
       "<div>\n",
       "<style scoped>\n",
       "    .dataframe tbody tr th:only-of-type {\n",
       "        vertical-align: middle;\n",
       "    }\n",
       "\n",
       "    .dataframe tbody tr th {\n",
       "        vertical-align: top;\n",
       "    }\n",
       "\n",
       "    .dataframe thead th {\n",
       "        text-align: right;\n",
       "    }\n",
       "</style>\n",
       "<table border=\"1\" class=\"dataframe\">\n",
       "  <thead>\n",
       "    <tr style=\"text-align: right;\">\n",
       "      <th></th>\n",
       "      <th>Gene</th>\n",
       "      <th>Histology</th>\n",
       "      <th>Mutation</th>\n",
       "      <th>Exon</th>\n",
       "      <th>Effect</th>\n",
       "    </tr>\n",
       "  </thead>\n",
       "  <tbody>\n",
       "    <tr>\n",
       "      <th>0</th>\n",
       "      <td>SRSF2</td>\n",
       "      <td>Lymph-BNHL</td>\n",
       "      <td>chr17:g.74733234G&gt;A</td>\n",
       "      <td>2</td>\n",
       "      <td>within 20bp of 3 prime splicing site</td>\n",
       "    </tr>\n",
       "    <tr>\n",
       "      <th>0</th>\n",
       "      <td>XIRP2</td>\n",
       "      <td>Skin-Melanoma</td>\n",
       "      <td>chr2:g.168096370A&gt;G</td>\n",
       "      <td>7</td>\n",
       "      <td>within 20bp of 5 prime splicing site</td>\n",
       "    </tr>\n",
       "    <tr>\n",
       "      <th>0</th>\n",
       "      <td>ACTA1</td>\n",
       "      <td>Lymph-CLL</td>\n",
       "      <td>chr1:g.229567630A&gt;G</td>\n",
       "      <td>6</td>\n",
       "      <td>within 20bp of 5 prime splicing site</td>\n",
       "    </tr>\n",
       "    <tr>\n",
       "      <th>0</th>\n",
       "      <td>ACTA1</td>\n",
       "      <td>Lymph-CLL</td>\n",
       "      <td>chr1:g.229567636C&gt;A</td>\n",
       "      <td>6</td>\n",
       "      <td>within 20bp of 5 prime splicing site</td>\n",
       "    </tr>\n",
       "    <tr>\n",
       "      <th>0</th>\n",
       "      <td>ACTA1</td>\n",
       "      <td>Lymph-CLL</td>\n",
       "      <td>chr1:g.229567639C&gt;A</td>\n",
       "      <td>6</td>\n",
       "      <td>within 20bp of 5 prime splicing site</td>\n",
       "    </tr>\n",
       "    <tr>\n",
       "      <th>0</th>\n",
       "      <td>ACTA1</td>\n",
       "      <td>Lymph-CLL</td>\n",
       "      <td>chr1:g.229567630A&gt;G</td>\n",
       "      <td>6</td>\n",
       "      <td>within 20bp of 5 prime splicing site</td>\n",
       "    </tr>\n",
       "    <tr>\n",
       "      <th>0</th>\n",
       "      <td>ACTA1</td>\n",
       "      <td>Lymph-CLL</td>\n",
       "      <td>chr1:g.229567636C&gt;A</td>\n",
       "      <td>6</td>\n",
       "      <td>within 20bp of 5 prime splicing site</td>\n",
       "    </tr>\n",
       "    <tr>\n",
       "      <th>0</th>\n",
       "      <td>ACTA1</td>\n",
       "      <td>Lymph-CLL</td>\n",
       "      <td>chr1:g.229567639C&gt;A</td>\n",
       "      <td>6</td>\n",
       "      <td>within 20bp of 5 prime splicing site</td>\n",
       "    </tr>\n",
       "    <tr>\n",
       "      <th>0</th>\n",
       "      <td>SOX18</td>\n",
       "      <td>Eso-AdenoCA</td>\n",
       "      <td>chr20:g.62680308C&gt;T</td>\n",
       "      <td>2</td>\n",
       "      <td>within 20bp of 5 prime splicing site</td>\n",
       "    </tr>\n",
       "    <tr>\n",
       "      <th>0</th>\n",
       "      <td>SIGLEC15</td>\n",
       "      <td>Panc-AdenoCA</td>\n",
       "      <td>chr18:g.43418687G&gt;C</td>\n",
       "      <td>4</td>\n",
       "      <td>within 20bp of 5 prime splicing site</td>\n",
       "    </tr>\n",
       "    <tr>\n",
       "      <th>0</th>\n",
       "      <td>HIST1H3G</td>\n",
       "      <td>Breast-AdenoCA</td>\n",
       "      <td>chr6:g.26271214C&gt;A</td>\n",
       "      <td>1</td>\n",
       "      <td>within 10bp of initiation site</td>\n",
       "    </tr>\n",
       "    <tr>\n",
       "      <th>0</th>\n",
       "      <td>SH3BGR</td>\n",
       "      <td>Panc-Endocrine</td>\n",
       "      <td>chr21:g.40834315G&gt;A</td>\n",
       "      <td>3</td>\n",
       "      <td>within 20bp of 5 prime splicing site</td>\n",
       "    </tr>\n",
       "    <tr>\n",
       "      <th>0</th>\n",
       "      <td>ACVRL1</td>\n",
       "      <td>Prost-AdenoCA</td>\n",
       "      <td>chr12:g.52307539C&gt;T</td>\n",
       "      <td>4</td>\n",
       "      <td>within 20bp of 3 prime splicing site</td>\n",
       "    </tr>\n",
       "    <tr>\n",
       "      <th>0</th>\n",
       "      <td>ACVRL1</td>\n",
       "      <td>Prost-AdenoCA</td>\n",
       "      <td>chr12:g.52307549T&gt;C</td>\n",
       "      <td>4</td>\n",
       "      <td>within 20bp of 3 prime splicing site</td>\n",
       "    </tr>\n",
       "  </tbody>\n",
       "</table>\n",
       "</div>"
      ],
      "text/plain": [
       "       Gene       Histology             Mutation Exon  \\\n",
       "0     SRSF2      Lymph-BNHL  chr17:g.74733234G>A    2   \n",
       "0     XIRP2   Skin-Melanoma  chr2:g.168096370A>G    7   \n",
       "0     ACTA1       Lymph-CLL  chr1:g.229567630A>G    6   \n",
       "0     ACTA1       Lymph-CLL  chr1:g.229567636C>A    6   \n",
       "0     ACTA1       Lymph-CLL  chr1:g.229567639C>A    6   \n",
       "0     ACTA1       Lymph-CLL  chr1:g.229567630A>G    6   \n",
       "0     ACTA1       Lymph-CLL  chr1:g.229567636C>A    6   \n",
       "0     ACTA1       Lymph-CLL  chr1:g.229567639C>A    6   \n",
       "0     SOX18     Eso-AdenoCA  chr20:g.62680308C>T    2   \n",
       "0  SIGLEC15    Panc-AdenoCA  chr18:g.43418687G>C    4   \n",
       "0  HIST1H3G  Breast-AdenoCA   chr6:g.26271214C>A    1   \n",
       "0    SH3BGR  Panc-Endocrine  chr21:g.40834315G>A    3   \n",
       "0    ACVRL1   Prost-AdenoCA  chr12:g.52307539C>T    4   \n",
       "0    ACVRL1   Prost-AdenoCA  chr12:g.52307549T>C    4   \n",
       "\n",
       "                                 Effect  \n",
       "0  within 20bp of 3 prime splicing site  \n",
       "0  within 20bp of 5 prime splicing site  \n",
       "0  within 20bp of 5 prime splicing site  \n",
       "0  within 20bp of 5 prime splicing site  \n",
       "0  within 20bp of 5 prime splicing site  \n",
       "0  within 20bp of 5 prime splicing site  \n",
       "0  within 20bp of 5 prime splicing site  \n",
       "0  within 20bp of 5 prime splicing site  \n",
       "0  within 20bp of 5 prime splicing site  \n",
       "0  within 20bp of 5 prime splicing site  \n",
       "0        within 10bp of initiation site  \n",
       "0  within 20bp of 5 prime splicing site  \n",
       "0  within 20bp of 3 prime splicing site  \n",
       "0  within 20bp of 3 prime splicing site  "
      ]
     },
     "execution_count": 48,
     "metadata": {},
     "output_type": "execute_result"
    }
   ],
   "source": [
    "df_splice"
   ]
  }
 ],
 "metadata": {
  "kernelspec": {
   "display_name": "Python 3",
   "language": "python",
   "name": "python3"
  },
  "language_info": {
   "codemirror_mode": {
    "name": "ipython",
    "version": 3
   },
   "file_extension": ".py",
   "mimetype": "text/x-python",
   "name": "python",
   "nbconvert_exporter": "python",
   "pygments_lexer": "ipython3",
   "version": "3.6.10"
  }
 },
 "nbformat": 4,
 "nbformat_minor": 4
}
