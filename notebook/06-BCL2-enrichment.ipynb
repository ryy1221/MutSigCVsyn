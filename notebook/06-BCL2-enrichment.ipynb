{
 "cells": [
  {
   "cell_type": "code",
   "execution_count": 1,
   "id": "71692804-cd45-4e4f-8e45-0bb71a6251cb",
   "metadata": {
    "tags": []
   },
   "outputs": [
    {
     "name": "stderr",
     "output_type": "stream",
     "text": [
      "Registered S3 methods overwritten by 'ggplot2':\n",
      "  method         from \n",
      "  [.quosures     rlang\n",
      "  c.quosures     rlang\n",
      "  print.quosures rlang\n",
      "Warning message:\n",
      "\"package 'trackViewer' was built under R version 3.6.1\"Loading required package: GenomicRanges\n",
      "Warning message:\n",
      "\"package 'GenomicRanges' was built under R version 3.6.1\"Loading required package: stats4\n",
      "Loading required package: BiocGenerics\n",
      "Warning message:\n",
      "\"package 'BiocGenerics' was built under R version 3.6.1\"Loading required package: parallel\n",
      "\n",
      "Attaching package: 'BiocGenerics'\n",
      "\n",
      "The following objects are masked from 'package:parallel':\n",
      "\n",
      "    clusterApply, clusterApplyLB, clusterCall, clusterEvalQ,\n",
      "    clusterExport, clusterMap, parApply, parCapply, parLapply,\n",
      "    parLapplyLB, parRapply, parSapply, parSapplyLB\n",
      "\n",
      "The following objects are masked from 'package:stats':\n",
      "\n",
      "    IQR, mad, sd, var, xtabs\n",
      "\n",
      "The following objects are masked from 'package:base':\n",
      "\n",
      "    Filter, Find, Map, Position, Reduce, anyDuplicated, append,\n",
      "    as.data.frame, basename, cbind, colnames, dirname, do.call,\n",
      "    duplicated, eval, evalq, get, grep, grepl, intersect, is.unsorted,\n",
      "    lapply, mapply, match, mget, order, paste, pmax, pmax.int, pmin,\n",
      "    pmin.int, rank, rbind, rownames, sapply, setdiff, sort, table,\n",
      "    tapply, union, unique, unsplit, which, which.max, which.min\n",
      "\n",
      "Loading required package: S4Vectors\n",
      "Warning message:\n",
      "\"package 'S4Vectors' was built under R version 3.6.1\"\n",
      "Attaching package: 'S4Vectors'\n",
      "\n",
      "The following object is masked from 'package:base':\n",
      "\n",
      "    expand.grid\n",
      "\n",
      "Loading required package: IRanges\n",
      "Warning message:\n",
      "\"package 'IRanges' was built under R version 3.6.1\"Loading required package: GenomeInfoDb\n",
      "Warning message:\n",
      "\"package 'GenomeInfoDb' was built under R version 3.6.1\"Loading required package: grid\n",
      "Registered S3 method overwritten by 'openssl':\n",
      "  method      from\n",
      "  print.bytes Rcpp\n"
     ]
    }
   ],
   "source": [
    "### This note book is an R notebook for BCL-2 analysis\n",
    "# First load packages\n",
    "rm(list = ls())\n",
    "setwd(\"./figure6/\")\n",
    "library(ggplot2)\n",
    "library(trackViewer)"
   ]
  },
  {
   "cell_type": "code",
   "execution_count": 2,
   "id": "e19ff6c8-4c8b-445b-9392-c3402b467139",
   "metadata": {},
   "outputs": [],
   "source": [
    "dir.fig.out = '../../manuscript/figures'"
   ]
  },
  {
   "cell_type": "code",
   "execution_count": 3,
   "id": "3df4639c-ccc8-439e-89f7-6bb7ab8499f1",
   "metadata": {},
   "outputs": [],
   "source": [
    "# 1. ------\n",
    "# Set sequence position information for the domains and exons\n",
    "BH4 = c(28,90); BH3 = c(277,321); BH1 = c(406,465);BH2 = c(559,606)\n",
    "exon1 = c(60985315, 60985899)"
   ]
  },
  {
   "cell_type": "code",
   "execution_count": 4,
   "id": "d3469812-05b4-4cff-8ad3-9a4bc1a2c4e2",
   "metadata": {},
   "outputs": [
    {
     "name": "stdout",
     "output_type": "stream",
     "text": [
      "[1] \"Finish reading BCL-2 sequence\"\n"
     ]
    }
   ],
   "source": [
    "# 2. -----\n",
    "# Read BCL-2 mutation file(already parsed for synonymous muts)\n",
    "df.bcl2.syn = read.csv('./data/df_bcl2_syn.csv', sep = ',')\n",
    "# Read Bcl2 sequence (from GRCh37, what was used to calculate coverage)\n",
    "# This is the coding sequence\n",
    "bcl2.seq = 'ATGGCGCACGCTGGGAGAACAGGGTACGATAACCGGGAGATAGTGATGAAGTACATCCATTATAAGCTGTCGCAGAGGGGCTACGAGTGGGATGCGGGAGATGTGGGCGCCGCGCCCCCGGGGGCCGCCCCCGCACCGGGCATCTTCTCCTCCCAGCCCGGGCACACGCCCCATCCAGCCGCATCCCGGGACCCGGTCGCCAGGACCTCGCCGCTGCAGACCCCGGCTGCCCCCGGCGCCGCCGCGGGGCCTGCGCTCAGCCCGGTGCCACCTGTGGTCCACCTGACCCTCCGCCAGGCCGGCGACGACTTCTCCCGCCGCTACCGCCGCGACTTCGCCGAGATGTCCAGCCAGCTGCACCTGACGCCCTTCACCGCGCGGGGACGCTTTGCCACGGTGGTGGAGGAGCTCTTCAGGGACGGGGTGAACTGGGGGAGGATTGTGGCCTTCTTTGAGTTCGGTGGGGTCATGTGTGTGGAGAGCGTCAACCGGGAGATGTCGCCCCTGGTGGACAACATCGCCCTGTGGATGACTGAGTACCTGAACCGGCACCTGCACACCTGGATCCAGGATAACGGAGGCTGGGATGCCTTTGTGGAACTGTACGGCCCCAGCATGCGGCCTCTGTTTGATTTCTCCTGGCTGTCTCTGAAGACTCTGCTCAGTTTGGCCCTGGTGGGAGCTTGCATCACCCTGGGTGCCTATCTGGGCCACAAG'\n",
    "bcl2.seq <- strsplit(bcl2.seq, split=NULL)[[1]]\n",
    "print('Finish reading BCL-2 sequence')"
   ]
  },
  {
   "cell_type": "code",
   "execution_count": 5,
   "id": "f1be1934-1538-4bbd-94b2-f4ed4678c5f4",
   "metadata": {},
   "outputs": [
    {
     "name": "stdout",
     "output_type": "stream",
     "text": [
      "[1] \"Finish reading BCL-2 mutation\"\n"
     ]
    }
   ],
   "source": [
    "# 3. For mutation number\n",
    "#------\n",
    "# An arrary with length bcl2 sequence filled with 0\n",
    "arr.bcl2 = replicate(length(bcl2.seq), 0)\n",
    "# Go through the bcl2 synonymous mutations and update arrary\n",
    "for(i in (1:nrow(df.bcl2.syn))){\n",
    "  pos = df.bcl2.syn$Start_position[i]\n",
    "  mut_pos = exon1[2] - pos +1\n",
    "  arr.bcl2[mut_pos] = arr.bcl2[mut_pos] + 1\n",
    "}\n",
    "print('Finish reading BCL-2 mutation')"
   ]
  },
  {
   "cell_type": "code",
   "execution_count": 6,
   "id": "cf53a034-c170-4d54-b7ec-e6fa3474e0ce",
   "metadata": {},
   "outputs": [],
   "source": [
    "# Steal the function rand_vect from stackoverflow...\n",
    "# https://stackoverflow.com/questions/24845909/generate-n-random-integers-that-sum-to-m-in-r\n",
    "rand_vect <- function(N, M, sd = 1, pos.only = TRUE) {\n",
    "  vec <- rnorm(N, M/N, sd)\n",
    "  if (abs(sum(vec)) < 0.01) vec <- vec + 1\n",
    "  vec <- round(vec / sum(vec) * M)\n",
    "  deviation <- M - sum(vec)\n",
    "  for (. in seq_len(abs(deviation))) {\n",
    "    vec[i] <- vec[i <- sample(N, 1)] + sign(deviation)\n",
    "  }\n",
    "  if (pos.only) while (any(vec < 0)) {\n",
    "    negs <- vec < 0\n",
    "    pos  <- vec > 0\n",
    "    vec[negs][i] <- vec[negs][i <- sample(sum(negs), 1)] + 1\n",
    "    vec[pos][i]  <- vec[pos ][i <- sample(sum(pos ), 1)] - 1\n",
    "  }\n",
    "  vec\n",
    "}"
   ]
  },
  {
   "cell_type": "code",
   "execution_count": 7,
   "id": "bd73812a-a2c1-4fbb-8af1-b27faf93e489",
   "metadata": {},
   "outputs": [
    {
     "name": "stdout",
     "output_type": "stream",
     "text": [
      "[1] \"Start sampling BCL-2 mutations\"\n",
      "[1] \"Finish sampling BCL-2 mutations\"\n"
     ]
    }
   ],
   "source": [
    "print('Start sampling BCL-2 mutations')\n",
    "# Sampling the BCL-2 mutations for 10000 times\n",
    "set.seed(600)\n",
    "par(mfrow = c(2,2))\n",
    "sampled.arr.nmut = t(replicate(10000,rand_vect(717, 41, pos.only = TRUE)))\n",
    "print('Finish sampling BCL-2 mutations')"
   ]
  },
  {
   "cell_type": "code",
   "execution_count": 8,
   "id": "5f73be1f-e845-4b1f-a0a4-fbaa07384d33",
   "metadata": {
    "tags": []
   },
   "outputs": [],
   "source": [
    "# Calculate permutation p-values\n",
    "bh4.per.nmut = rowSums(sampled.arr.nmut[,BH4[1]:BH4[2]])\n",
    "bh4.obs.nmut = sum(arr.bcl2[BH4[1]:BH4[2]])\n",
    "bh4.exceed = length(bh4.per.nmut[bh4.per.nmut>= bh4.obs.nmut])\n",
    "bh4.pval = bh4.exceed/10000"
   ]
  },
  {
   "cell_type": "code",
   "execution_count": 27,
   "id": "da8b52e8-89ed-4b36-a8f5-4316665fd6d7",
   "metadata": {},
   "outputs": [],
   "source": [
    "### Build a list for saving the intermediate data\n",
    "bh4.stat = list('per.nmut' = bh4.per.nmut, 'obs.nmut' = bh4.obs.nmut, 'exceed' = bh4.exceed, 'pval' = bh4.pval)\n",
    "saveRDS(bh4.stat, file=\"../../manuscript/figures_data/bh4_stat.RData\")"
   ]
  },
  {
   "cell_type": "markdown",
   "id": "0eb8ff7a-2183-4182-8d25-652cd5cb6f3e",
   "metadata": {},
   "source": [
    "***Don't have to run the permutation, directly load intermediate data from here***"
   ]
  },
  {
   "cell_type": "code",
   "execution_count": 29,
   "id": "a9f8b9a4-f6a0-4b55-8144-0f6a560326fa",
   "metadata": {},
   "outputs": [],
   "source": [
    "### Load the intermediate data\n",
    "bh4.stat = readRDS(\"../../manuscript/figures_data/bh4_stat.RData\")"
   ]
  },
  {
   "cell_type": "code",
   "execution_count": 31,
   "id": "754e899a-5ca6-4afe-be24-82b1010fc282",
   "metadata": {},
   "outputs": [],
   "source": [
    "bh4.per.nmut = bh4.stat$per.nmut; bh4.obs.nmut = bh4.stat$obs.nmut; bh4.exceed = bh4.stat$exceed; bh4.pval = bh4.stat$pval"
   ]
  },
  {
   "cell_type": "code",
   "execution_count": 41,
   "id": "f077dff1-fdf5-49a6-b2fd-97f3faab26c8",
   "metadata": {},
   "outputs": [
    {
     "data": {
      "image/png": "[encoded data removed]",
      "text/plain": [
       "plot without title"
      ]
     },
     "metadata": {},
     "output_type": "display_data"
    }
   ],
   "source": [
    "sp = qplot(bh4.per.nmut, geom=\"histogram\", bins = 30,xlab = \"Permuted mutation number in BH4 motif\", ylab = 'Frequency')\n",
    "sp   + \n",
    "  geom_vline(xintercept = bh4.obs.nmut, color = \"red\", size=1) + \n",
    "  annotate(geom=\"text\",x=30, y= 2500,label=paste('pvalue = ',bh4.pval),color=\"black\", size = 6,fontface = \"bold\")+\n",
    "  theme_classic()+theme(text=element_text(size=16,face = 'bold'))\n",
    "ggsave(file.path(dir.fig.out, 'fig5_bh4_hist.pdf'), height = 3 , width = 5)"
   ]
  },
  {
   "cell_type": "code",
   "execution_count": 42,
   "id": "063d9b77-9ca0-4d87-85ab-53ead6a57ced",
   "metadata": {},
   "outputs": [],
   "source": [
    "#------------------------------------------------------\n",
    "# For lollipop plot\n",
    "#------\n",
    "# Get mutation positions\n",
    "muts = which(arr.bcl2!=0)\n",
    "n.mut = c()\n",
    "for(i in which(arr.bcl2!=0)){\n",
    "  n.mut = c(n.mut,arr.bcl2[i])\n",
    "}\n",
    "sample.gr <- GRanges(\"BCL-2 cDNA\", IRanges(muts, width=1))\n",
    "sample.gr$score <- n.mut\n",
    "features <- GRanges(\"BCL-2 cDNA\", IRanges(c(28, 277, 406,559), \n",
    "                                          width=c(62, 44, 59,47),\n",
    "                                          names=c('BH4','BH3','BH1','BH2')))\n",
    "# get number of mutations in each domain\n",
    "n4=0;n3=0;n1=0;n2=0;na = 0;nb=0;nc=0;nd=0;ne = 0\n",
    "for(i in muts){\n",
    "  if(i<BH4[1]){\n",
    "    na = na+1\n",
    "  }\n",
    "  if(i<=BH4[2] &&i>=BH4[1]){\n",
    "    n4 = n4+1\n",
    "  }\n",
    "  if(i>BH4[2] && i< BH3[1]){\n",
    "    nb = nb+1\n",
    "  }\n",
    "  if(i<=BH3[2] &&i>=BH3[1]){\n",
    "    n3 = n3+1\n",
    "  }\n",
    "  if(i<BH1[1] &&i>BH3[2]){\n",
    "    nc = nc+1\n",
    "  }\n",
    "  if(i<=BH1[2] &&i>=BH1[1]){\n",
    "    n1 = n1+1\n",
    "  }\n",
    "  if(i<BH2[1] &&i>BH1[2]){\n",
    "    nd = nd+1\n",
    "  }\n",
    "  if(i<=BH1[2] &&i>=BH2[1]){\n",
    "    n2 = n2+1\n",
    "  }\n",
    "  if(i>BH2[2]){\n",
    "    ne = ne+1\n",
    "  }\n",
    "}\n",
    "\n",
    "mut.color = c(rep(\"#F4F6F6\",na),rep(\"#FF8833\",n4),\n",
    "              rep(\"#F4F6F6\",nb),rep(\"#51C6E6\",n3),\n",
    "              rep(\"#F4F6F6\",nc),rep(\"#DFA32D\",n1),\n",
    "              rep(\"#F4F6F6\",nd),rep(\"#DFA32D\",n2),\n",
    "              rep(\"#F4F6F6\",ne))\n",
    "borders = c(rep(\"gray80\",na),rep(\"gray30\",n4),\n",
    "            rep(\"gray80\",nb),rep(\"gray30\",n3),\n",
    "            rep(\"gray80\",nc),rep(\"gray30\",n1),\n",
    "            rep(\"gray80\",nd),rep(\"gray30\",n2),\n",
    "            rep(\"gray80\",ne))\n",
    "\n",
    "sample.gr$color = mut.color\n",
    "sample.gr$border = borders"
   ]
  },
  {
   "cell_type": "code",
   "execution_count": 46,
   "id": "0b9af878-a423-42a3-af26-3f9c9edbd2de",
   "metadata": {},
   "outputs": [
    {
     "ename": "ERROR",
     "evalue": "Error in trackList[[1]]: object of type 'closure' is not subsettable\n",
     "output_type": "error",
     "traceback": [
      "Error in trackList[[1]]: object of type 'closure' is not subsettable\nTraceback:\n",
      "1. setTrackStyleParam(trackList[[1]], \"ylabgp\", list(cex = 0.6))"
     ]
    }
   ],
   "source": [
    "setTrackStyleParam(trackList[[1]], \"ylabgp\", list(cex=.6))"
   ]
  },
  {
   "cell_type": "code",
   "execution_count": 48,
   "id": "70d6547d-f98e-4c21-bd73-bf9373ecbef7",
   "metadata": {},
   "outputs": [
    {
     "data": {
      "text/html": [
       "<strong>png:</strong> 2"
      ],
      "text/latex": [
       "\\textbf{png:} 2"
      ],
      "text/markdown": [
       "**png:** 2"
      ],
      "text/plain": [
       "png \n",
       "  2 "
      ]
     },
     "metadata": {},
     "output_type": "display_data"
    }
   ],
   "source": [
    "pdf(file=file.path(dir.fig.out, 'fig5_lollipop.pdf'), width = 8, height = 3)\n",
    "lolliplot(sample.gr,features, \n",
    "          ranges = GRanges(\"BCL-2 cDNA\", IRanges(0, length(bcl2.seq))),\n",
    "          ylab=\"Mutation Number\", yaxis = F,fontface = 'bold')\n",
    "dev.off()"
   ]
  }
 ],
 "metadata": {
  "kernelspec": {
   "display_name": "R",
   "language": "R",
   "name": "ir"
  },
  "language_info": {
   "codemirror_mode": "r",
   "file_extension": ".r",
   "mimetype": "text/x-r-source",
   "name": "R",
   "pygments_lexer": "r",
   "version": "3.6.0"
  }
 },
 "nbformat": 4,
 "nbformat_minor": 5
}
