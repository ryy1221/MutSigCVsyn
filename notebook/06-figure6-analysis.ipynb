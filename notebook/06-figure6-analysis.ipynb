{
 "cells": [
  {
   "cell_type": "code",
   "execution_count": 40,
   "metadata": {},
   "outputs": [],
   "source": [
    "### This notebook is the analysis of BCL-2 mutations, permutation analysis\n",
    "\n",
    "import pandas as pd\n",
    "import os\n",
    "import pickle\n",
    "from Bio import SeqIO\n",
    "from Bio.Seq import Seq\n",
    "from utils import *\n",
    "import pickle\n",
    "import re"
   ]
  },
  {
   "cell_type": "code",
   "execution_count": 2,
   "metadata": {},
   "outputs": [],
   "source": [
    "dir_out = './figure6/'"
   ]
  },
  {
   "cell_type": "markdown",
   "metadata": {},
   "source": [
    "***1. BCL-2 mutation information(input for R lollipop plot and permutation test)***"
   ]
  },
  {
   "cell_type": "code",
   "execution_count": 3,
   "metadata": {},
   "outputs": [
    {
     "name": "stderr",
     "output_type": "stream",
     "text": [
      "/opt/aci/sw/anaconda3/2020.07_gcc-4.8.5-bzb/lib/python3.8/site-packages/IPython/core/interactiveshell.py:3071: DtypeWarning: Columns (1,17,33,34,35,36) have mixed types.Specify dtype option on import or set low_memory=False.\n",
      "  has_raised = await self.run_ast_nodes(code_ast.body, cell_name,\n"
     ]
    }
   ],
   "source": [
    "# Read the BCL-2 mutation maf files\n",
    "dir_maf = '../maf_out/maf_cohorts_060121'\n",
    "feature = 'histology'\n",
    "feat = 'Lymph-BNHL.csv'\n",
    "\n",
    "df_mut = pd.read_csv(os.path.join(dir_maf, feature,feat), sep = '\\t')"
   ]
  },
  {
   "cell_type": "code",
   "execution_count": 4,
   "metadata": {},
   "outputs": [],
   "source": [
    "# Filter out BCL-2 silent mutation\n",
    "df_bcl2_syn = df_mut[(df_mut['Variant_Classification'] == 'Silent') & (df_mut['Hugo_Symbol'] == 'BCL2')]\n",
    "\n",
    "# Save the synonymous mutation dataframe for permutation and lolliplot input\n",
    "#df_bcl2_syn.to_csv(os.path.join(dir_out,'data','df_bcl2_syn.csv'))"
   ]
  },
  {
   "cell_type": "code",
   "execution_count": 16,
   "metadata": {},
   "outputs": [
    {
     "data": {
      "text/plain": [
       "41"
      ]
     },
     "execution_count": 16,
     "metadata": {},
     "output_type": "execute_result"
    }
   ],
   "source": [
    "len(df_bcl2_syn) ### The number of synonymous mutations in total"
   ]
  },
  {
   "cell_type": "code",
   "execution_count": 20,
   "metadata": {},
   "outputs": [
    {
     "data": {
      "text/plain": [
       "26"
      ]
     },
     "execution_count": 20,
     "metadata": {},
     "output_type": "execute_result"
    }
   ],
   "source": [
    "len(df_bcl2_syn['Donor_ID'].unique()) ### Total number of patients"
   ]
  },
  {
   "cell_type": "code",
   "execution_count": null,
   "metadata": {},
   "outputs": [],
   "source": [
    "# bcl2_syn_mut = df_bcl2_syn['Start_position'].to_list() # Don't know what this is for"
   ]
  },
  {
   "cell_type": "markdown",
   "metadata": {},
   "source": [
    "***2. BCL-2 CDS sequence(permutation test, sequence is copy and pasted into R)***"
   ]
  },
  {
   "cell_type": "code",
   "execution_count": 9,
   "metadata": {},
   "outputs": [],
   "source": [
    "# Load annotation data\n",
    "dict_name = pickle.load(open('../anno_ref/proc_refs/dict_name_062121.pkl','rb'))\n",
    "dict_transcript_info = pickle.load(open('../anno_ref/proc_refs/dict_transcript_info_062121.pkl','rb'))\n",
    "dict_record = SeqIO.to_dict(SeqIO.parse('../anno_ref/gencode_v19/GRCh37.p13.genome.fa', 'fasta'))"
   ]
  },
  {
   "cell_type": "code",
   "execution_count": 10,
   "metadata": {},
   "outputs": [],
   "source": [
    "# This information was mannually got from Uniprot\n",
    "BH4 = (27,90); BH3 = (276,321); BH1 = (405,465);BH2 = (558,606)"
   ]
  },
  {
   "cell_type": "code",
   "execution_count": 11,
   "metadata": {},
   "outputs": [],
   "source": [
    "# The canonical transcript is ENST00000398117\n",
    "bcl2_info = dict_transcript_info['ENST00000398117']"
   ]
  },
  {
   "cell_type": "code",
   "execution_count": 12,
   "metadata": {},
   "outputs": [],
   "source": [
    "### Get the cds sequence of BCL2\n",
    "list_cds = get_mrna_position('ENST00000398117', dict_transcript_info, '-')\n",
    "seq_transcript = get_transcript_sequence('ENST00000398117', dict_transcript_info, dict_record, '-')\n",
    "seq_cds = get_cdna_sequence(list_cds, '-', seq_transcript)"
   ]
  },
  {
   "cell_type": "code",
   "execution_count": 51,
   "metadata": {},
   "outputs": [
    {
     "name": "stdout",
     "output_type": "stream",
     "text": [
      "DO52685\n",
      "DO52695\n",
      "DO27857\n",
      "DO52652\n",
      "DO27859\n",
      "DO27809\n",
      "DO52664\n",
      "DO52689\n",
      "DO52669\n"
     ]
    },
    {
     "data": {
      "text/plain": [
       "9"
      ]
     },
     "execution_count": 51,
     "metadata": {},
     "output_type": "execute_result"
    }
   ],
   "source": [
    "### how many patients have BH4 mutation\n",
    "\n",
    "# BH4 position\n",
    "BH4_start = 60985899-27+1\n",
    "BH4_end = 60985899-90+1\n",
    "\n",
    "# Print out Patient ID that have BH4 mutation\n",
    "dlist = []\n",
    "for i in df_bcl2_syn.index:\n",
    "    pos = re.findall('\\d+',df_bcl2_syn.loc[i,'Genome_Change'])[1]\n",
    "    pos_list.append(pos)\n",
    "    if int(pos) >= BH4_end and int(pos) <=BH4_start:\n",
    "        print(df_bcl2_syn.loc[i,'Donor_ID'])\n",
    "        dlist.append(df_bcl2_syn.loc[i,'Donor_ID'])\n",
    "\n",
    "len(set(dlist))"
   ]
  },
  {
   "cell_type": "markdown",
   "metadata": {},
   "source": [
    "***3. The data goes into R***\n",
    "06-BCL-2_enrichment.R for the permutation plot\n"
   ]
  }
 ],
 "metadata": {
  "kernelspec": {
   "display_name": "Python 3",
   "language": "python",
   "name": "python3"
  },
  "language_info": {
   "codemirror_mode": {
    "name": "ipython",
    "version": 3
   },
   "file_extension": ".py",
   "mimetype": "text/x-python",
   "name": "python",
   "nbconvert_exporter": "python",
   "pygments_lexer": "ipython3",
   "version": "3.6.10"
  }
 },
 "nbformat": 4,
 "nbformat_minor": 4
}
