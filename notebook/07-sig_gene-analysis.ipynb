{
 "cells": [
  {
   "cell_type": "code",
   "execution_count": 1,
   "metadata": {
    "collapsed": true
   },
   "outputs": [],
   "source": [
    "# This script analyze significant gene result from tumor type run\n",
    "# Author Yiyun\n",
    "\n",
    "import pandas as pd\n",
    "from os.path import join, isdir, exists\n",
    "from os import listdir, remove"
   ]
  },
  {
   "cell_type": "code",
   "execution_count": 2,
   "metadata": {},
   "outputs": [],
   "source": [
    "# find file position and store in dictionary\n",
    "dir_nsout = '../mutsig_out/nsyn/out10212020'\n",
    "dir_sout = '../mutsig_out/syn/out10212020'\n",
    "out_dir = '../mutsig_out/anlyze'\n",
    "dict_nsyn = {}\n",
    "dict_syn = {}\n",
    "\n",
    "def find_f(drt, dict_mut):\n",
    "    for dirs in listdir(drt):\n",
    "        if '-' not in dirs:\n",
    "            dirs_path = join(drt,dirs)\n",
    "            if isdir(dirs_path):\n",
    "                for f in listdir(dirs_path):\n",
    "                    if f.endswith('sig_genes.txt'):\n",
    "                        organ = f.split('.')[0]\n",
    "                        fpath = join(dirs_path,f)\n",
    "                        if organ not in dict_mut:\n",
    "                            dict_mut[organ] = fpath\n",
    "    return dict_mut\n",
    "\n",
    "dict_nsyn = find_f(dir_nsout, dict_nsyn)\n",
    "dict_syn = find_f(dir_sout, dict_syn)"
   ]
  },
  {
   "cell_type": "code",
   "execution_count": 3,
   "metadata": {
    "collapsed": true
   },
   "outputs": [],
   "source": [
    "outpsyn = join(out_dir,'synrestop50_all_1021.csv')\n",
    "outpnsyn = join(out_dir,'nsynrestop50_all_1021.csv')\n",
    "if exists(outpsyn):\n",
    "    os.remove(outpsyn)\n",
    "if exists(outpnsyn):\n",
    "    os.remove(outpnsyn)\n",
    "    \n",
    "for org in dict_syn:\n",
    "    fsyn = dict_syn[org]\n",
    "    fnsyn = dict_nsyn[org]\n",
    "    dfsyn = pd.read_csv(fsyn,header=0,sep = '\\t')\n",
    "    if not exists(outpsyn):\n",
    "        with open(outpsyn, 'wb') as outfsyn:\n",
    "            outfsyn.write(org+'\\n')\n",
    "    else: \n",
    "        with open(outpsyn, 'a') as outfsyn:\n",
    "            outfsyn.write(org+'\\n')\n",
    "    dfnsyn = pd.read_csv(fnsyn,header=0,sep = '\\t')\n",
    "    if not exists(outpnsyn):\n",
    "        with open(outpnsyn, 'wb') as outfnsyn:\n",
    "            outfnsyn.write(org+'\\n')\n",
    "    else: \n",
    "        with open(outpnsyn, 'a') as outfnsyn:\n",
    "            outfnsyn.write(org+'\\n')\n",
    "    dfsyn.iloc[0:50,:].to_csv(outpsyn, mode='a', header=True, sep= '\\t')\n",
    "    dfnsyn.iloc[0:50,:].to_csv(outpnsyn, mode='a', header=True, sep= '\\t')"
   ]
  },
  {
   "cell_type": "code",
   "execution_count": null,
   "metadata": {
    "collapsed": true
   },
   "outputs": [],
   "source": []
  },
  {
   "cell_type": "code",
   "execution_count": null,
   "metadata": {
    "collapsed": true
   },
   "outputs": [],
   "source": []
  }
 ],
 "metadata": {
  "kernelspec": {
   "display_name": "Python 2",
   "language": "python",
   "name": "python2"
  },
  "language_info": {
   "codemirror_mode": {
    "name": "ipython",
    "version": 2
   },
   "file_extension": ".py",
   "mimetype": "text/x-python",
   "name": "python",
   "nbconvert_exporter": "python",
   "pygments_lexer": "ipython2",
   "version": "2.7.14"
  }
 },
 "nbformat": 4,
 "nbformat_minor": 2
}
