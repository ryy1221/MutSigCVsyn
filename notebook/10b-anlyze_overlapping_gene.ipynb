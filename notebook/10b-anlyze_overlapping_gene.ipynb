{
 "cells": [
  {
   "cell_type": "code",
   "execution_count": 4,
   "metadata": {
    "collapsed": true
   },
   "outputs": [],
   "source": [
    "from os.path import join, isdir, exists\n",
    "from os import listdir\n",
    "import pickle\n",
    "from collections import Counter\n",
    "import pandas as pd\n",
    "import re"
   ]
  },
  {
   "cell_type": "code",
   "execution_count": 5,
   "metadata": {
    "collapsed": true
   },
   "outputs": [],
   "source": [
    "nsyn_dir = '../mutsig_out/nsyn/out10212020'\n",
    "syn_dir = '../mutsig_out/syn/out10212020'\n",
    "org_dir = '../org_cov_maf'\n",
    "\n",
    "outdir = '../proc_09152020/dovgene'"
   ]
  },
  {
   "cell_type": "code",
   "execution_count": 29,
   "metadata": {},
   "outputs": [],
   "source": [
    "def get_dictionary(org):\n",
    "    f = join(outdir,org+'_102120.tsv' )\n",
    "    \n",
    "    dmut = {}\n",
    "    \n",
    "    with open(f,'r') as orgf:\n",
    "        for lines in orgf:\n",
    "            line_split = lines.split('\\t')\n",
    "            if len(line_split) > 2:\n",
    "                gene,mut,vc,ovpgene,cons = lines.split('\\t')\n",
    "                cons = cons.strip('\\n')\n",
    "                cons = re.findall(r\"'(.*?)'\", cons)\n",
    "\n",
    "                if gene not in dmut:\n",
    "                    dmut[gene] = {}\n",
    "                if mut not in dmut[gene]:\n",
    "                    dmut[gene][mut] = {}\n",
    "                    dmut[gene][mut]['ovp'] = {}\n",
    "                    dmut[gene][mut]['vc'] = vc\n",
    "                if ovpgene not in dmut[gene][mut]['ovp']:\n",
    "                    blacklist = ['downstream_gene_variant','upstream_gene_variant']\n",
    "                    cons = [v for v in cons if v not in blacklist]\n",
    "\n",
    "                    if not cons:\n",
    "                        dmut[gene][mut] = {}\n",
    "                        dmut[gene][mut]['ovp'] = {}\n",
    "                        dmut[gene][mut]['vc'] = None\n",
    "                    else:\n",
    "                        dmut[gene][mut]['ovp'][ovpgene] = str(cons)\n",
    "            else:\n",
    "                gene,mut = lines.split('\\t')\n",
    "                if gene not in dmut:\n",
    "                    dmut[gene] = {}\n",
    "                if mut not in dmut[gene]:\n",
    "                    dmut[gene][mut] = {}\n",
    "                    dmut[gene][mut]['ovp'] = {}\n",
    "                    dmut[gene][mut]['vc'] = None\n",
    "                \n",
    "\n",
    "    return dmut"
   ]
  },
  {
   "cell_type": "code",
   "execution_count": 30,
   "metadata": {
    "collapsed": true
   },
   "outputs": [],
   "source": [
    "def get_area(lymf,gene):\n",
    "    larea =[]\n",
    "    for muts in lymf[gene]:\n",
    "        larea.append(lymf[gene][muts]['vc'])\n",
    "            \n",
    "    return dict(Counter(larea))"
   ]
  },
  {
   "cell_type": "code",
   "execution_count": 13,
   "metadata": {
    "collapsed": true
   },
   "outputs": [],
   "source": [
    "def get_ovp_gene(lymf,gene):\n",
    "    lcg = []\n",
    "    for muts in lymf[gene]:\n",
    "        for ovpgene in lymf[gene][muts]['ovp']:\n",
    "            if ovpgene not in lcg:\n",
    "                lcg.append(ovpgene)\n",
    "    \n",
    "    return lcg"
   ]
  },
  {
   "cell_type": "code",
   "execution_count": 14,
   "metadata": {
    "collapsed": true
   },
   "outputs": [],
   "source": [
    "def get_ovp_area(lymf,gene):\n",
    "    lovp = []\n",
    "    for muts in lymf[gene]:\n",
    "        for ovpgene in lymf[gene][muts]['ovp']:\n",
    "            lovp.append(lymf[gene][muts]['ovp'][ovpgene])\n",
    "            \n",
    "    return dict(Counter(lovp))"
   ]
  },
  {
   "cell_type": "code",
   "execution_count": 31,
   "metadata": {},
   "outputs": [],
   "source": [
    "# this little function get the significant gene file path by organ name\n",
    "lorg = listdir(org_dir)\n",
    "for organ in lorg:\n",
    "    if not organ.startswith('.') and not organ == 'SoftTissue':\n",
    "        orgf = join(outdir,organ+'_102120.tsv' )\n",
    "        # get gene list for query\n",
    "        organ_dir = join(syn_dir,organ)\n",
    "        for f in listdir(organ_dir):\n",
    "            if f.endswith('sig_genes.txt'):\n",
    "                f_dir = join(organ_dir,f)\n",
    "                df_org = pd.read_csv(f_dir,sep = '\\t', index_col=None)\n",
    "                \n",
    "                dictmut = get_dictionary(organ)\n",
    "                \n",
    "                for index, row in df_org.iterrows():\n",
    "                    gene = df_org.loc[index,'gene']\n",
    "                    try:\n",
    "                        narea = get_area(dictmut,gene)\n",
    "                        lovpgene = get_ovp_gene(dictmut,gene)\n",
    "\n",
    "                        if narea.keys() == [None]:\n",
    "                            df_org.loc[index,'ovp_area'] = 0\n",
    "                        else:\n",
    "                            del narea[None]\n",
    "                            df_org.loc[index,'ovp_area'] = str(narea)\n",
    "                        df_org.loc[index,'ovp_gene'] = str(lovpgene)\n",
    "\n",
    "                        lovparea = []\n",
    "                        for g in lovpgene:\n",
    "                            ovparea = get_ovp_area(dictmut,gene)\n",
    "                            lovparea.append(ovparea)\n",
    "\n",
    "                        df_org.loc[index,'ovp_gene_area'] = str(lovparea)\n",
    "                    except KeyError:\n",
    "                        pass\n",
    "                        \n",
    "                cols = ['gene', 'n_nonsilent', 'n_silent','n_noncoding', 'nnei', 'x','X','p','q', 'ovp_area', 'ovp_gene', 'ovp_gene_area']\n",
    "\n",
    "                df_org = df_org[cols]\n",
    "                df_org = df_org[df_org['ovp_area'].notnull()]\n",
    "                \n",
    "#                 write to output\n",
    "                outpsyn = 'ovpgene_anlyze_1029.csv'\n",
    "                if not exists(outpsyn):\n",
    "                    with open(outpsyn, 'wb') as outfsyn:\n",
    "                        outfsyn.write(organ+'\\n')\n",
    "                else: \n",
    "                    with open(outpsyn, 'a') as outfsyn:\n",
    "                        outfsyn.write(organ+'\\n')\n",
    "                df_org.to_csv(outpsyn, mode='a', header=True, sep= ',')"
   ]
  },
  {
   "cell_type": "code",
   "execution_count": 67,
   "metadata": {
    "collapsed": true
   },
   "outputs": [],
   "source": [
    "outf='../mutsig_out/anlyze/lymph_syn_res.cvs'\n",
    "df_org.to_csv(outf, mode='wb', header=True, sep= '\\t', index = False)"
   ]
  },
  {
   "cell_type": "code",
   "execution_count": null,
   "metadata": {
    "collapsed": true
   },
   "outputs": [],
   "source": []
  }
 ],
 "metadata": {
  "kernelspec": {
   "display_name": "Python 2",
   "language": "python",
   "name": "python2"
  },
  "language_info": {
   "codemirror_mode": {
    "name": "ipython",
    "version": 2
   },
   "file_extension": ".py",
   "mimetype": "text/x-python",
   "name": "python",
   "nbconvert_exporter": "python",
   "pygments_lexer": "ipython2",
   "version": "2.7.14"
  }
 },
 "nbformat": 4,
 "nbformat_minor": 2
}
