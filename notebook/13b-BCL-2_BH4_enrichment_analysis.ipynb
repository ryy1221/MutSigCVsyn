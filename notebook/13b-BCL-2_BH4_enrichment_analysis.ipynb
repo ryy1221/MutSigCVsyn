{
 "cells": [
  {
   "cell_type": "code",
   "execution_count": 1,
   "metadata": {},
   "outputs": [],
   "source": [
    "### This script if for generating an arrary containing BCL-2 mutation information across the sequence\n",
    "import sys  # In case not appended\n",
    "# sys.path\n",
    "# sys.path.append('/storage/home/yur97/work/anaconda3/lib/python3.8/site-packages')\n",
    "\n",
    "import os\n",
    "import pandas as pd\n",
    "import pickle\n",
    "from Bio import SeqIO\n",
    "from Bio.Seq import Seq\n",
    "from utils import *"
   ]
  },
  {
   "cell_type": "markdown",
   "metadata": {},
   "source": [
    "***\n",
    "### Get the BCL2 CDS sequence "
   ]
  },
  {
   "cell_type": "code",
   "execution_count": 2,
   "metadata": {},
   "outputs": [],
   "source": [
    "# Load annotation data\n",
    "dict_name = pickle.load(open('../proc_09152020/dict_name.pkl','rb'))\n",
    "dict_transcript_info = pickle.load(open('../proc_09152020/dict_transcript_info.pkl','rb'))\n",
    "dict_record = SeqIO.to_dict(SeqIO.parse('../anno_ref/gencode_v19/GRCh37.p13.genome.fa', 'fasta'))"
   ]
  },
  {
   "cell_type": "code",
   "execution_count": 3,
   "metadata": {},
   "outputs": [],
   "source": [
    "# This information was mannually got from Uniprot\n",
    "BH4 = (27,90); BH3 = (276,321); BH1 = (405,465);BH2 = (558,606)"
   ]
  },
  {
   "cell_type": "code",
   "execution_count": 4,
   "metadata": {},
   "outputs": [],
   "source": [
    "# The canonical transcript is ENST00000398117\n",
    "bcl2_info = dict_transcript_info['ENST00000398117']"
   ]
  },
  {
   "cell_type": "code",
   "execution_count": 5,
   "metadata": {},
   "outputs": [],
   "source": [
    "### Get the cds sequence of BCL2\n",
    "list_cds = get_mrna_position('ENST00000398117', dict_transcript_info, '-')\n",
    "seq_transcript = get_transcript_sequence('ENST00000398117', dict_transcript_info, dict_record, '-')\n",
    "seq_cds = get_cdna_sequence(list_cds, '-', seq_transcript)"
   ]
  },
  {
   "cell_type": "code",
   "execution_count": 6,
   "metadata": {},
   "outputs": [
    {
     "data": {
      "text/plain": [
       "Seq('ATGGCGCACGCTGGGAGAACAGGGTACGATAACCGGGAGATAGTGATGAAGTAC...AAG')"
      ]
     },
     "execution_count": 6,
     "metadata": {},
     "output_type": "execute_result"
    }
   ],
   "source": [
    "seq_cds"
   ]
  },
  {
   "cell_type": "markdown",
   "metadata": {},
   "source": [
    "***\n",
    "### Get BCL-2 mutation data"
   ]
  },
  {
   "cell_type": "code",
   "execution_count": 45,
   "metadata": {},
   "outputs": [],
   "source": [
    "# Open the lymphoma MAF file and filter\n",
    "flymph = '../org_cov_maf/Lymph/merged_tumor_covmerged_Lymph.txt_filtered.maf'\n",
    "df_mut = pd.read_csv(flymph, sep = '\\t')\n",
    "df_bcl2_syn = df_mut[(df_mut['Variant_Classification'] == 'Silent') & (df_mut['Hugo_Symbol'] == 'BCL2')]\n",
    "bcl2_syn_mut = df_bcl2_syn['Start_position'].to_list()"
   ]
  },
  {
   "cell_type": "code",
   "execution_count": null,
   "metadata": {},
   "outputs": [],
   "source": [
    "### Get AC"
   ]
  }
 ],
 "metadata": {
  "kernelspec": {
   "display_name": "Python 3",
   "language": "python",
   "name": "python3"
  },
  "language_info": {
   "codemirror_mode": {
    "name": "ipython",
    "version": 3
   },
   "file_extension": ".py",
   "mimetype": "text/x-python",
   "name": "python",
   "nbconvert_exporter": "python",
   "pygments_lexer": "ipython3",
   "version": "3.8.3"
  }
 },
 "nbformat": 4,
 "nbformat_minor": 4
}
