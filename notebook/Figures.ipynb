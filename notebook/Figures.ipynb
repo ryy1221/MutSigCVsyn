{
 "cells": [
  {
   "cell_type": "markdown",
   "id": "02f434f3-e412-41f3-aa14-4560e169e222",
   "metadata": {},
   "source": [
    "***Import functions and plot settings***"
   ]
  },
  {
   "cell_type": "code",
   "execution_count": 26,
   "id": "9c8b152e-1f7c-4514-91b2-70a9cc73145d",
   "metadata": {},
   "outputs": [],
   "source": [
    "import pickle, os, matplotlib\n",
    "import matplotlib.pyplot as plt\n",
    "# from matplotlib.colors import LinearSegmentedColormap\n",
    "# from matplotlib.ticker import ScalarFormatter\n",
    "import pandas as pd\n",
    "import seaborn as sns\n",
    "from matplotlib import gridspec\n",
    "from collections import Counter\n",
    "from matplotlib_venn import venn3, venn3_circles\n",
    "import numpy as np\n",
    "from matplotlib.patches import Rectangle"
   ]
  },
  {
   "cell_type": "code",
   "execution_count": 27,
   "id": "f150ea34-1576-44f1-a8a3-a69e6130e8f7",
   "metadata": {},
   "outputs": [],
   "source": [
    "# settings\n",
    "plt.interactive(False)\n",
    "matplotlib.rcParams['pdf.fonttype'] = 42\n",
    "matplotlib.rcParams['ps.fonttype'] = 42\n",
    "def set_snsfont(s):\n",
    "    sns.set(font_scale=s)\n",
    "    sns.set_style(\"white\")\n",
    "set_snsfont(1)\n",
    "\n",
    "# output directory\n",
    "dir_in = '../manuscript/figures_data/'\n",
    "dir_out = '../manuscript/figures/'\n",
    "\n",
    "if not os.path.exists(dir_out):\n",
    "    os.makedirs(dir_out)"
   ]
  },
  {
   "cell_type": "code",
   "execution_count": 28,
   "id": "004bdefc-e958-47c9-b557-5b71040b7fd9",
   "metadata": {
    "tags": []
   },
   "outputs": [],
   "source": [
    "### Generate the label dictionary\n",
    "dir_cohort = '../anno_ref/cohorts'\n",
    "feature_type = 'histology'\n",
    "df_feat = pd.read_csv(os.path.join(dir_cohort,feature_type+'.csv'))\n",
    "dict_feat_np = dict(Counter(df_feat[feature_type]))\n",
    "dict_feat_np = {k: v for k, v in sorted(dict_feat_np.items(), key=lambda item: item[1])}"
   ]
  },
  {
   "cell_type": "markdown",
   "id": "2158af81-85a8-4f08-8c2f-48de217d35c0",
   "metadata": {
    "tags": []
   },
   "source": [
    "------------\n",
    "### Figure0-1\n",
    "***Figure0-pie plot***  \n",
    "Change 'other' into more detailed label"
   ]
  },
  {
   "cell_type": "code",
   "execution_count": 17,
   "id": "cd44bc7c-88e7-4f18-be26-f6b10c650385",
   "metadata": {},
   "outputs": [],
   "source": [
    "### Load pie data\n",
    "sizes = pickle.load(open(os.path.join(dir_in, 'pie_size.pkl'),'rb'))\n",
    "labels = ['Missense','Silent','Other']\n",
    "\n",
    "# Pie chart, where the slices will be ordered and plotted counter-clockwise:\n",
    "explode = (0, 0.1, 0)  # only \"explode\" the 2nd slice (i.e. 'Hogs')\n",
    "# plt.rcParams.update(plt.rcParamsDefault)\n",
    "# plt.rcParams.update({'font.size': 22, 'axes.titlepad':50.0,'font.weight':'bold'})\n",
    "\n",
    "plt.figure()\n",
    "plt.pie(sizes, explode=explode, labels=labels, autopct='%1.1f%%',\\\n",
    "        shadow=True, startangle=90)\n",
    "plt.axis('equal')  # Equal aspect ratio ensures that pie is drawn as a circle.\n",
    "plt.savefig(\"%s/fig0pie_plot.pdf\" % dir_out)\n",
    "plt.close()"
   ]
  },
  {
   "cell_type": "markdown",
   "id": "ee157f62-28e4-4cfb-960d-ea8168078d12",
   "metadata": {},
   "source": [
    "***Figure1-mutation heterogeneity***"
   ]
  },
  {
   "cell_type": "code",
   "execution_count": 4,
   "id": "c0f8130d-8939-495a-9775-7b1d84a011f3",
   "metadata": {},
   "outputs": [],
   "source": [
    "#mutation heterogeneity data\n",
    "df_muthete = pd.read_csv(os.path.join(dir_in, 'patient_syn_mut_hete.csv'))\n",
    "group = df_muthete[['feature','syn_freq']].groupby(by = ['feature'])\n",
    "sort_idx = group.median().sort_values(by = 'syn_freq').index\n",
    "                                          \n",
    "# Read mutation bias data\n",
    "df_mutcateg = pd.read_csv(os.path.join(dir_in, 'mut_categs.csv'), index_col = 0)\n",
    "df_mutcateg = df_mutcateg.dropna()\n",
    "lfeat = df_mutcateg['feature'].unique().tolist()"
   ]
  },
  {
   "cell_type": "code",
   "execution_count": 49,
   "id": "70ed43b7-8aa4-4759-9486-24389bfdd896",
   "metadata": {
    "tags": []
   },
   "outputs": [
    {
     "ename": "NameError",
     "evalue": "name 'df_muthete' is not defined",
     "output_type": "error",
     "traceback": [
      "\u001b[0;31m---------------------------------------------------------------------------\u001b[0m",
      "\u001b[0;31mNameError\u001b[0m                                 Traceback (most recent call last)",
      "\u001b[0;32m<ipython-input-49-51e005426e56>\u001b[0m in \u001b[0;36m<module>\u001b[0;34m\u001b[0m\n\u001b[1;32m      4\u001b[0m                          height_ratios=[5, 1])\n\u001b[1;32m      5\u001b[0m \u001b[0mfig\u001b[0m\u001b[0;34m.\u001b[0m\u001b[0madd_subplot\u001b[0m\u001b[0;34m(\u001b[0m\u001b[0mspec\u001b[0m\u001b[0;34m[\u001b[0m\u001b[0;36m0\u001b[0m\u001b[0;34m,\u001b[0m\u001b[0;34m:\u001b[0m\u001b[0;34m]\u001b[0m\u001b[0;34m)\u001b[0m\u001b[0;34m\u001b[0m\u001b[0;34m\u001b[0m\u001b[0m\n\u001b[0;32m----> 6\u001b[0;31m \u001b[0max\u001b[0m \u001b[0;34m=\u001b[0m \u001b[0msns\u001b[0m\u001b[0;34m.\u001b[0m\u001b[0mboxplot\u001b[0m\u001b[0;34m(\u001b[0m\u001b[0mx\u001b[0m\u001b[0;34m=\u001b[0m\u001b[0;34m\"feature\"\u001b[0m\u001b[0;34m,\u001b[0m \u001b[0my\u001b[0m\u001b[0;34m=\u001b[0m\u001b[0;34m\"syn_freq\"\u001b[0m\u001b[0;34m,\u001b[0m \u001b[0mdata\u001b[0m\u001b[0;34m=\u001b[0m\u001b[0mdf_muthete\u001b[0m\u001b[0;34m,\u001b[0m \u001b[0morder\u001b[0m \u001b[0;34m=\u001b[0m \u001b[0msort_idx\u001b[0m\u001b[0;34m,\u001b[0m \u001b[0mpalette\u001b[0m \u001b[0;34m=\u001b[0m \u001b[0;34m\"Spectral\"\u001b[0m\u001b[0;34m)\u001b[0m\u001b[0;34m\u001b[0m\u001b[0;34m\u001b[0m\u001b[0m\n\u001b[0m\u001b[1;32m      7\u001b[0m \u001b[0max\u001b[0m \u001b[0;34m=\u001b[0m \u001b[0msns\u001b[0m\u001b[0;34m.\u001b[0m\u001b[0mstripplot\u001b[0m\u001b[0;34m(\u001b[0m\u001b[0mx\u001b[0m\u001b[0;34m=\u001b[0m\u001b[0;34m\"feature\"\u001b[0m\u001b[0;34m,\u001b[0m \u001b[0my\u001b[0m\u001b[0;34m=\u001b[0m\u001b[0;34m\"syn_freq\"\u001b[0m\u001b[0;34m,\u001b[0m \u001b[0mdata\u001b[0m\u001b[0;34m=\u001b[0m\u001b[0mdf_muthete\u001b[0m\u001b[0;34m,\u001b[0m\u001b[0morder\u001b[0m \u001b[0;34m=\u001b[0m \u001b[0msort_idx\u001b[0m\u001b[0;34m,\u001b[0m \u001b[0mcolor\u001b[0m \u001b[0;34m=\u001b[0m \u001b[0;34m'grey'\u001b[0m\u001b[0;34m,\u001b[0m \u001b[0mjitter\u001b[0m\u001b[0;34m=\u001b[0m\u001b[0;36m0.05\u001b[0m\u001b[0;34m,\u001b[0m \u001b[0malpha\u001b[0m \u001b[0;34m=\u001b[0m \u001b[0;36m0.9\u001b[0m\u001b[0;34m)\u001b[0m\u001b[0;34m\u001b[0m\u001b[0;34m\u001b[0m\u001b[0m\n\u001b[1;32m      8\u001b[0m \u001b[0max\u001b[0m\u001b[0;34m.\u001b[0m\u001b[0mset_ylabel\u001b[0m\u001b[0;34m(\u001b[0m\u001b[0;34m'log 10 Patient silent mutation frequency(/Mbp)'\u001b[0m\u001b[0;34m)\u001b[0m\u001b[0;34m;\u001b[0m\u001b[0max\u001b[0m\u001b[0;34m.\u001b[0m\u001b[0mset_xlabel\u001b[0m\u001b[0;34m(\u001b[0m\u001b[0;34m''\u001b[0m\u001b[0;34m)\u001b[0m\u001b[0;34m\u001b[0m\u001b[0;34m\u001b[0m\u001b[0m\n",
      "\u001b[0;31mNameError\u001b[0m: name 'df_muthete' is not defined"
     ]
    }
   ],
   "source": [
    "### Plot mutation heterogeneity plot-----------\n",
    "fig = plt.figure(figsize =(20,12))\n",
    "spec = gridspec.GridSpec(ncols=39, nrows=2,\n",
    "                         height_ratios=[5, 1])\n",
    "fig.add_subplot(spec[0,:])\n",
    "ax = sns.boxplot(x=\"feature\", y=\"syn_freq\", data=df_muthete, order = sort_idx, palette = \"Spectral\")\n",
    "ax = sns.stripplot(x=\"feature\", y=\"syn_freq\", data=df_muthete,order = sort_idx, color = 'grey', jitter=0.05, alpha = 0.9)\n",
    "ax.set_ylabel('log 10 Patient silent mutation frequency(/Mbp)');ax.set_xlabel('')\n",
    "labels = [] # new label with patient number\n",
    "for label in ax.get_xticklabels():\n",
    "    feat = label.get_text()\n",
    "    new_label = '(n='+str(dict_feat_np[feat])+') '+feat\n",
    "    labels.append(new_label)\n",
    "    label.set_ha(\"right\")\n",
    "#     label.set_rotation(90)\n",
    "ax.set_xticklabels(labels) #reset new label number\n",
    "ax.tick_params(axis='x', which='major',labelbottom = False, bottom=False, top = False, labeltop=True,rotation = 90)\n",
    "sns.despine(left=True, bottom=True)\n",
    "\n",
    "### plot mutation bias plot---------------------\n",
    "color_sets = ['red','green','blue','black','magenta','yellow']\n",
    "for i in range(0,len(lfeat)):\n",
    "    df_his = df_mutcateg[df_mutcateg['feature'] == sort_idx[i]]\n",
    "    n_patient = len(df_his)\n",
    "    if i> 0:\n",
    "        ax = fig.add_subplot(spec[1,i])\n",
    "        df_his.plot.area(ax = plt.gca(),colormap='tab20')\n",
    "        ax.get_legend().remove()\n",
    "        #df_his.plot.bar(stacked = True,ax = axs,width = 1, color = color_sets, legend = False)\n",
    "        ax.set_xticklabels('')\n",
    "        ax.set_yticklabels('')\n",
    "    else:\n",
    "        ax = fig.add_subplot(spec[1,i])\n",
    "        df_his.plot.area(ax = plt.gca(),colormap='tab20')\n",
    "        #df_his.plot.bar(stacked = True,ax = axs,width = 1, color = color_sets)\n",
    "        ax.set_xticklabels('')\n",
    "        ax.set_yticklabels('')\n",
    "        ax.legend(bbox_to_anchor=(-1.1, 1))\n",
    "        # ax.legend(bbox_to_anchor=(-1.1, 1),prop=dict(size=12))\n",
    "\n",
    "plt.tight_layout()\n",
    "# plt.show()\n",
    "plt.savefig(\"%s/fig1mut_hete_plot.pdf\" % dir_out)\n",
    "plt.close()"
   ]
  },
  {
   "cell_type": "markdown",
   "id": "0df51582-88b1-45c9-bed9-a2afe4496ee5",
   "metadata": {},
   "source": [
    "***Figure1-local mutation rate***"
   ]
  },
  {
   "cell_type": "code",
   "execution_count": 4,
   "id": "0de5ae26-71cb-4d04-9b00-9e0178861ab9",
   "metadata": {},
   "outputs": [],
   "source": [
    "### Plot mutational heterogeneity plot\n",
    "dict_loc8 = pickle.load(open(os.path.join(dir_in, 'locmut_chr8.pkl'),'rb'))\n",
    "dict_loc18 = pickle.load(open(os.path.join(dir_in, 'locmut_chr18.pkl'),'rb'))"
   ]
  },
  {
   "cell_type": "code",
   "execution_count": null,
   "id": "d1e94b3e-e6e9-4d39-9e48-3f4cd8196eb0",
   "metadata": {},
   "outputs": [],
   "source": [
    "matplotlib.rcParams['agg.path.chunksize'] = 10000\n",
    "plt.figure(figsize = (15,3))\n",
    "ovary, = plt.plot(dict_loc8['Ovary']['pos'],dict_loc8['Ovary']['syn'], linewidth=1)\n",
    "lung,= plt.plot(dict_loc8['Lung']['pos'],dict_loc8['Lung']['syn'], linewidth=1)\n",
    "thy,= plt.plot(dict_loc8['Thy']['pos'],dict_loc8['Thy']['syn'], linewidth=1)\n",
    "plt.legend([ovary,lung,thy], [\"Ovary-AdenoCA\", \"Lung-SCC\",\"Thy-AdenoCA\"])\n",
    "plt.ylabel('Synonymous mutation number(/patient)')\n",
    "plt.xlabel('Chromosome 8')\n",
    "plt.savefig(\"%s/fig1locmut_chr8.pdf\" % dir_out)\n",
    "plt.close()"
   ]
  },
  {
   "cell_type": "code",
   "execution_count": null,
   "id": "d0b7c73b-b52b-44a2-bca6-837b3c581214",
   "metadata": {},
   "outputs": [],
   "source": [
    "matplotlib.rcParams['agg.path.chunksize'] = 10000\n",
    "plt.figure(figsize = (15,3))\n",
    "ovary, = plt.plot(dict_loc18['Ovary']['pos'],dict_loc18['Ovary']['syn'], linewidth=1)\n",
    "lung,= plt.plot(dict_loc18['Lung']['pos'],dict_loc18['Lung']['syn'], linewidth=1)\n",
    "thy,= plt.plot(dict_loc18['Thy']['pos'],dict_loc18['Thy']['syn'], linewidth=1)\n",
    "plt.legend([ovary,lung,thy], [\"Ovary-AdenoCA\", \"Lung-SCC\",\"Thy-AdenoCA\"])\n",
    "plt.ylabel('Synonymous mutation number(/patient)')\n",
    "plt.xlabel('Chromosome 18')\n",
    "plt.savefig(\"%s/fig1locmut_chr18.pdf\" % dir_out)\n",
    "plt.close()"
   ]
  },
  {
   "cell_type": "markdown",
   "id": "98214763-33b6-453b-a78b-e7801b62064d",
   "metadata": {
    "tags": []
   },
   "source": [
    "-----\n",
    "### Figure3"
   ]
  },
  {
   "cell_type": "markdown",
   "id": "6277f839-c0a7-4788-9931-4a91f7f82eb2",
   "metadata": {},
   "source": [
    "***Figure3-non-synonymous heatmap***"
   ]
  },
  {
   "cell_type": "code",
   "execution_count": 6,
   "id": "a62c6e10-9dbf-48a6-a30a-059427f21ce6",
   "metadata": {},
   "outputs": [],
   "source": [
    "dict_venn = pickle.load(open(os.path.join(dir_in, 'dict_venn.pkl'),'rb'))\n",
    "df_nsyn = pd.read_csv(os.path.join(dir_in,'nsyn_forheatmap.csv'),index_col = 0)"
   ]
  },
  {
   "cell_type": "code",
   "execution_count": 49,
   "id": "5800bb0d-fb72-4ff5-804e-119bc9c0deca",
   "metadata": {},
   "outputs": [],
   "source": [
    "def draw_venn(idx, annotation):\n",
    "    plt.figure(figsize = (8,5))\n",
    "    v = venn3(subsets = dict_venn['size'] , \\\n",
    "              set_labels = ('Cancer Gene Census', 'MutSigCVsyn-\\nnonsynonymous', 'PCAWG driver list'),\\\n",
    "             alpha = 0.2)\n",
    "    v.get_patch_by_id(idx).set_alpha(1.0)\n",
    "    v.get_patch_by_id(idx).set_color('white')\n",
    "    # v.get_label_by_id('111').set_text('PCAWG & CGC')\n",
    "    # Set label position\n",
    "    for text in v.set_labels:\n",
    "        if text.get_text() == 'PCAWG driver list':\n",
    "            x = text.get_position()[0]+0.15\n",
    "            y = text.get_position()[1]-0.2\n",
    "            text.set_position((x,y))\n",
    "\n",
    "    c = venn3_circles(subsets=dict_venn['size'], linestyle='dashed', linewidth = 1)\n",
    "    c[1].set_lw(1.5)\n",
    "    c[1].set_ls('dotted')\n",
    "    plt.annotate(annotation, xy=v.get_label_by_id(idx).get_position() - np.array([0, 0.02]), xytext=(100,-70),\n",
    "                 ha='center', textcoords='offset points', bbox=dict(boxstyle='round,pad=0.5', fc='blue', alpha=0.2),\n",
    "                 arrowprops=dict(arrowstyle='->', connectionstyle='arc3,rad=0.2',color='grey'))\n",
    "    \n",
    "    plt.tight_layout()\n",
    "    # plt.show()\n",
    "    plt.savefig(os.path.join(dir_out,f'fig3_venn_{annotation}.pdf'))\n",
    "    plt.close()"
   ]
  },
  {
   "cell_type": "code",
   "execution_count": 50,
   "id": "889c983c-ee9f-4bb0-adb2-494a0d000d39",
   "metadata": {},
   "outputs": [],
   "source": [
    "draw_venn('111','PCAWG_CGC')\n",
    "draw_venn('010','Novel')\n",
    "draw_venn('110','CGC_only')\n",
    "draw_venn('011','PCAWG_only')"
   ]
  },
  {
   "cell_type": "code",
   "execution_count": 14,
   "id": "f4e2e899-12df-4e87-a9f9-472fbdc3c590",
   "metadata": {},
   "outputs": [],
   "source": [
    "from matplotlib.patches import Rectangle"
   ]
  },
  {
   "cell_type": "code",
   "execution_count": 51,
   "id": "96bdd7be-3458-465e-97ef-2d363b47ea5b",
   "metadata": {},
   "outputs": [],
   "source": [
    "def draw_heatmap(df,annotation):\n",
    "    shape = df.shape\n",
    "    fig, ax = plt.subplots(figsize = (shape[1]/3+3, shape[0]/3+2))\n",
    "    cmap = plt.get_cmap(\"YlGnBu\",30);cmap.set_under('white')\n",
    "    ax = sns.heatmap(df,cmap=cmap,yticklabels=True,xticklabels=True,\\\n",
    "                     square=True,linewidth = 0.5,linecolor=\"grey\", cbar_kws={\"shrink\": 0.3})\n",
    "    ax.set_xlabel('Significant Genes'); ax.set_ylabel('Histology Cohort')\n",
    "    # add patient number to ticks\n",
    "    labels=[]\n",
    "    for label in ax.get_yticklabels():\n",
    "        feat = label.get_text()\n",
    "        new_label =feat +  ' (n='+str(dict_feat_np[feat])+') '\n",
    "        labels.append(new_label)\n",
    "        label.set_ha(\"right\")\n",
    "    ax.set_yticklabels(labels)\n",
    "    \n",
    "    ### IF this is the PCAWG only set, hightlight the PCAWG exclusive genes identified\n",
    "    if annotation == 'PCAWG_only':\n",
    "        r1 = Rectangle((3, 3), 1, 1, fill=False, edgecolor='blue', lw=1.5)\n",
    "        ax.add_patch(r1)\n",
    "        r2 = Rectangle((4, 3), 1, 1, fill=False, edgecolor='blue', lw=1.5)\n",
    "        ax.add_patch(r2)\n",
    "        r3 = Rectangle((11, 3), 1, 1, fill=False, edgecolor='blue', lw=1.5)\n",
    "        ax.add_patch(r3)\n",
    "        r4 = Rectangle((14, 3), 1, 1, fill=False, edgecolor='blue', lw=1.5)\n",
    "        ax.add_patch(r4)\n",
    "        r5 = Rectangle((16, 5), 1, 1, fill=False, edgecolor='blue', lw=1.5)\n",
    "        ax.add_patch(r5)\n",
    "        r6 = Rectangle((17, 3), 1, 1, fill=False, edgecolor='blue', lw=1.5)\n",
    "        ax.add_patch(r6)\n",
    "\n",
    "    plt.tight_layout()\n",
    "    # plt.show()\n",
    "    plt.savefig(os.path.join(dir_out,f'fig3_heatmap_{annotation}.pdf'))\n",
    "    plt.close()"
   ]
  },
  {
   "cell_type": "code",
   "execution_count": 46,
   "id": "980e4715-31b1-49ee-8caf-79223330dc81",
   "metadata": {
    "tags": []
   },
   "outputs": [],
   "source": [
    "draw_heatmap(dict_venn['novel'].transpose().dropna(axis=0, how='all'),'Novel')\n",
    "draw_heatmap(dict_venn['cgc_pcawg'].transpose().dropna(axis=0, how='all'),'PCAWG_CGC')\n",
    "draw_heatmap(dict_venn['cgc_only'].transpose().dropna(axis=0, how='all'),'CGC_only')\n",
    "draw_heatmap(dict_venn['pcawg_only'].transpose().dropna(axis=0, how='all'),'PCAWG_only')"
   ]
  },
  {
   "cell_type": "markdown",
   "id": "0621efd0-7864-4fff-8791-caadb08e6b8e",
   "metadata": {
    "tags": []
   },
   "source": [
    "---------------\n",
    "### Figure4- Synonymous heatmap"
   ]
  },
  {
   "cell_type": "code",
   "execution_count": 61,
   "id": "eabc85cb-0481-4671-bf53-e4e9a9ec45c9",
   "metadata": {},
   "outputs": [],
   "source": [
    "df_pivot_syn = pd.read_csv(os.path.join(dir_in,'syn_forheatmap.csv'),index_col = 0)"
   ]
  },
  {
   "cell_type": "code",
   "execution_count": 62,
   "id": "c166ee9b-b701-44d6-adbb-ffbfd4146291",
   "metadata": {},
   "outputs": [],
   "source": [
    "def draw_heatmap_syn(df):\n",
    "    shape = df.shape\n",
    "    fig, ax = plt.subplots(figsize = (shape[1]/3+3, shape[0]/3+2))\n",
    "    cmap = plt.get_cmap(\"YlGnBu\",30);cmap.set_under('white')\n",
    "    ax = sns.heatmap(df,cmap=cmap,yticklabels=True,xticklabels=True,\\\n",
    "                     square=True,linewidth = 0.5,linecolor=\"grey\", cbar_kws={\"shrink\": 0.3})\n",
    "    ax.set_xlabel('Significant Genes'); ax.set_ylabel('Histology Cohort')\n",
    "    # add patient number to ticks\n",
    "    labels=[]\n",
    "    for label in ax.get_yticklabels():\n",
    "        feat = label.get_text()\n",
    "        new_label =feat +  ' (n='+str(dict_feat_np[feat])+') '\n",
    "        labels.append(new_label)\n",
    "        label.set_ha(\"right\")\n",
    "    ax.set_yticklabels(labels)\n",
    "\n",
    "    plt.tight_layout()\n",
    "    plt.savefig(os.path.join(dir_out,f'fig4_heatmap.pdf'))\n",
    "    plt.close()"
   ]
  },
  {
   "cell_type": "code",
   "execution_count": 63,
   "id": "cd696cad-1a61-4bca-8019-d8c0d02a9bd2",
   "metadata": {},
   "outputs": [],
   "source": [
    "draw_heatmap_syn(df_pivot_syn.transpose())"
   ]
  }
 ],
 "metadata": {
  "kernelspec": {
   "display_name": "Python 3",
   "language": "python",
   "name": "python3"
  },
  "language_info": {
   "codemirror_mode": {
    "name": "ipython",
    "version": 3
   },
   "file_extension": ".py",
   "mimetype": "text/x-python",
   "name": "python",
   "nbconvert_exporter": "python",
   "pygments_lexer": "ipython3",
   "version": "3.6.10"
  }
 },
 "nbformat": 4,
 "nbformat_minor": 5
}
