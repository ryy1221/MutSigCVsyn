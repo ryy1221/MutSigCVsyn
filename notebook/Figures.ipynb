{
 "cells": [
  {
   "cell_type": "markdown",
   "id": "02f434f3-e412-41f3-aa14-4560e169e222",
   "metadata": {},
   "source": [
    "***Import functions and plot settings***"
   ]
  },
  {
   "cell_type": "code",
   "execution_count": 1,
   "id": "9c8b152e-1f7c-4514-91b2-70a9cc73145d",
   "metadata": {},
   "outputs": [],
   "source": [
    "import pickle, os, matplotlib\n",
    "import matplotlib.pyplot as plt\n",
    "# from matplotlib.colors import LinearSegmentedColormap\n",
    "# from matplotlib.ticker import ScalarFormatter\n",
    "import pandas as pd\n",
    "import seaborn as sns\n",
    "from matplotlib import gridspec\n",
    "from collections import Counter\n",
    "from matplotlib_venn import venn3, venn3_circles\n",
    "import numpy as np\n",
    "from matplotlib.patches import Rectangle"
   ]
  },
  {
   "cell_type": "code",
   "execution_count": 2,
   "id": "f150ea34-1576-44f1-a8a3-a69e6130e8f7",
   "metadata": {},
   "outputs": [],
   "source": [
    "# settings\n",
    "plt.interactive(False)\n",
    "matplotlib.rcParams['pdf.fonttype'] = 3\n",
    "matplotlib.rcParams['ps.fonttype'] = 42\n",
    "# font = {'weight' : 'semibold'}\n",
    "# matplotlib.rc('font', **font)\n",
    "params = {'mathtext.default': 'regular',\n",
    "         'font.weight':'demi',\n",
    "         'axes.labelweight': 'demi',\n",
    "         'font.family':'sans-serif'}          \n",
    "plt.rcParams.update(params)\n",
    "\n",
    "def set_snsfont(s):\n",
    "    sns.set(font_scale=s)\n",
    "    sns.set_style(\"white\")\n",
    "set_snsfont(1.2)\n",
    "\n",
    "# output directory\n",
    "dir_in = '../manuscript/figures_data/'\n",
    "dir_out = '../manuscript/figures/'\n",
    "\n",
    "if not os.path.exists(dir_out):\n",
    "    os.makedirs(dir_out)"
   ]
  },
  {
   "cell_type": "code",
   "execution_count": 3,
   "id": "004bdefc-e958-47c9-b557-5b71040b7fd9",
   "metadata": {
    "tags": []
   },
   "outputs": [],
   "source": [
    "### Generate the label dictionary\n",
    "dir_cohort = '../anno_ref/cohorts'\n",
    "feature_type = 'histology'\n",
    "df_feat = pd.read_csv(os.path.join(dir_cohort,feature_type+'.csv'))\n",
    "dict_feat_np = dict(Counter(df_feat[feature_type]))\n",
    "dict_feat_np = {k: v for k, v in sorted(dict_feat_np.items(), key=lambda item: item[1])}"
   ]
  },
  {
   "cell_type": "markdown",
   "id": "2158af81-85a8-4f08-8c2f-48de217d35c0",
   "metadata": {
    "tags": []
   },
   "source": [
    "------------\n",
    "### Figure0-1\n",
    "***Figure0-pie plot***  \n",
    "Change 'other' into more detailed label"
   ]
  },
  {
   "cell_type": "code",
   "execution_count": 5,
   "id": "cd44bc7c-88e7-4f18-be26-f6b10c650385",
   "metadata": {},
   "outputs": [],
   "source": [
    "### Load pie data\n",
    "sizes = pickle.load(open(os.path.join(dir_in, 'pie_size.pkl'),'rb'))\n",
    "labels = ['Missense','Silent','Other']\n",
    "\n",
    "# Pie chart, where the slices will be ordered and plotted counter-clockwise:\n",
    "explode = (0, 0.1, 0)  # only \"explode\" the 2nd slice (i.e. 'Hogs')\n",
    "# plt.rcParams.update(plt.rcParamsDefault)\n",
    "# plt.rcParams.update({'font.size': 22, 'axes.titlepad':50.0,'font.weight':'bold'})\n",
    "\n",
    "plt.figure()\n",
    "plt.pie(sizes, explode=explode, labels=labels, autopct='%1.1f%%',\\\n",
    "        shadow=True, startangle=90)\n",
    "plt.axis('equal')  # Equal aspect ratio ensures that pie is drawn as a circle.\n",
    "plt.savefig(\"%s/fig0pie_plot.pdf\" % dir_out)\n",
    "plt.close()"
   ]
  },
  {
   "cell_type": "markdown",
   "id": "ee157f62-28e4-4cfb-960d-ea8168078d12",
   "metadata": {},
   "source": [
    "***Figure1-mutation heterogeneity***"
   ]
  },
  {
   "cell_type": "code",
   "execution_count": 5,
   "id": "c0f8130d-8939-495a-9775-7b1d84a011f3",
   "metadata": {},
   "outputs": [],
   "source": [
    "#mutation heterogeneity data\n",
    "df_muthete = pd.read_csv(os.path.join(dir_in, 'patient_syn_mut_hete.csv'))\n",
    "group = df_muthete[['feature','syn_freq']].groupby(by = ['feature'])\n",
    "sort_idx = group.median().sort_values(by = 'syn_freq').index\n",
    "                                          \n",
    "# Read mutation bias data\n",
    "df_mutcateg = pd.read_csv(os.path.join(dir_in, 'mut_categs.csv'), index_col = 0)\n",
    "df_mutcateg = df_mutcateg.dropna()\n",
    "lfeat = df_mutcateg['feature'].unique().tolist()"
   ]
  },
  {
   "cell_type": "code",
   "execution_count": 4,
   "id": "70ed43b7-8aa4-4759-9486-24389bfdd896",
   "metadata": {
    "tags": []
   },
   "outputs": [
    {
     "ename": "NameError",
     "evalue": "name 'df_muthete' is not defined",
     "output_type": "error",
     "traceback": [
      "\u001b[0;31m---------------------------------------------------------------------------\u001b[0m",
      "\u001b[0;31mNameError\u001b[0m                                 Traceback (most recent call last)",
      "\u001b[0;32m<ipython-input-4-120bbd37f177>\u001b[0m in \u001b[0;36m<module>\u001b[0;34m\u001b[0m\n\u001b[1;32m      4\u001b[0m                          height_ratios=[5, 0.6])\n\u001b[1;32m      5\u001b[0m \u001b[0mfig\u001b[0m\u001b[0;34m.\u001b[0m\u001b[0madd_subplot\u001b[0m\u001b[0;34m(\u001b[0m\u001b[0mspec\u001b[0m\u001b[0;34m[\u001b[0m\u001b[0;36m0\u001b[0m\u001b[0;34m,\u001b[0m\u001b[0;34m:\u001b[0m\u001b[0;34m]\u001b[0m\u001b[0;34m)\u001b[0m\u001b[0;34m\u001b[0m\u001b[0;34m\u001b[0m\u001b[0m\n\u001b[0;32m----> 6\u001b[0;31m \u001b[0max\u001b[0m \u001b[0;34m=\u001b[0m \u001b[0msns\u001b[0m\u001b[0;34m.\u001b[0m\u001b[0mboxplot\u001b[0m\u001b[0;34m(\u001b[0m\u001b[0mx\u001b[0m\u001b[0;34m=\u001b[0m\u001b[0;34m\"feature\"\u001b[0m\u001b[0;34m,\u001b[0m \u001b[0my\u001b[0m\u001b[0;34m=\u001b[0m\u001b[0;34m\"syn_freq\"\u001b[0m\u001b[0;34m,\u001b[0m \u001b[0mdata\u001b[0m\u001b[0;34m=\u001b[0m\u001b[0mdf_muthete\u001b[0m\u001b[0;34m,\u001b[0m \u001b[0morder\u001b[0m \u001b[0;34m=\u001b[0m \u001b[0msort_idx\u001b[0m\u001b[0;34m,\u001b[0m \u001b[0mpalette\u001b[0m \u001b[0;34m=\u001b[0m \u001b[0;34m\"Spectral\"\u001b[0m\u001b[0;34m)\u001b[0m\u001b[0;34m\u001b[0m\u001b[0;34m\u001b[0m\u001b[0m\n\u001b[0m\u001b[1;32m      7\u001b[0m \u001b[0max\u001b[0m \u001b[0;34m=\u001b[0m \u001b[0msns\u001b[0m\u001b[0;34m.\u001b[0m\u001b[0mstripplot\u001b[0m\u001b[0;34m(\u001b[0m\u001b[0mx\u001b[0m\u001b[0;34m=\u001b[0m\u001b[0;34m\"feature\"\u001b[0m\u001b[0;34m,\u001b[0m \u001b[0my\u001b[0m\u001b[0;34m=\u001b[0m\u001b[0;34m\"syn_freq\"\u001b[0m\u001b[0;34m,\u001b[0m \u001b[0mdata\u001b[0m\u001b[0;34m=\u001b[0m\u001b[0mdf_muthete\u001b[0m\u001b[0;34m,\u001b[0m\u001b[0morder\u001b[0m \u001b[0;34m=\u001b[0m \u001b[0msort_idx\u001b[0m\u001b[0;34m,\u001b[0m \u001b[0mcolor\u001b[0m \u001b[0;34m=\u001b[0m \u001b[0;34m'grey'\u001b[0m\u001b[0;34m,\u001b[0m \u001b[0mjitter\u001b[0m\u001b[0;34m=\u001b[0m\u001b[0;36m0.05\u001b[0m\u001b[0;34m,\u001b[0m \u001b[0malpha\u001b[0m \u001b[0;34m=\u001b[0m \u001b[0;36m0.9\u001b[0m\u001b[0;34m)\u001b[0m\u001b[0;34m\u001b[0m\u001b[0;34m\u001b[0m\u001b[0m\n\u001b[1;32m      8\u001b[0m \u001b[0max\u001b[0m\u001b[0;34m.\u001b[0m\u001b[0mset_ylabel\u001b[0m\u001b[0;34m(\u001b[0m\u001b[0;34m'$log_{10}$ syn mutation frequency per Mbp'\u001b[0m\u001b[0;34m)\u001b[0m\u001b[0;34m;\u001b[0m\u001b[0max\u001b[0m\u001b[0;34m.\u001b[0m\u001b[0mset_xlabel\u001b[0m\u001b[0;34m(\u001b[0m\u001b[0;34m''\u001b[0m\u001b[0;34m)\u001b[0m\u001b[0;34m\u001b[0m\u001b[0;34m\u001b[0m\u001b[0m\n",
      "\u001b[0;31mNameError\u001b[0m: name 'df_muthete' is not defined"
     ]
    }
   ],
   "source": [
    "### Plot mutation heterogeneity plot-----------\n",
    "fig = plt.figure(figsize =(15,5))\n",
    "spec = gridspec.GridSpec(ncols=39, nrows=2,\n",
    "                         height_ratios=[5, 0.6])\n",
    "fig.add_subplot(spec[0,:])\n",
    "ax = sns.boxplot(x=\"feature\", y=\"syn_freq\", data=df_muthete, order = sort_idx, palette = \"Spectral\")\n",
    "ax = sns.stripplot(x=\"feature\", y=\"syn_freq\", data=df_muthete,order = sort_idx, color = 'grey', jitter=0.05, alpha = 0.9)\n",
    "ax.set_ylabel('$log_{10}$ syn mutation frequency per Mbp');ax.set_xlabel('')\n",
    "labels = [] # new label with patient number\n",
    "for label in ax.get_xticklabels():\n",
    "    feat = label.get_text()\n",
    "    new_label = '(n='+str(dict_feat_np[feat])+') '+feat\n",
    "    labels.append(new_label)\n",
    "    label.set_ha(\"right\")\n",
    "#     label.set_rotation(90)\n",
    "ax.set_xticklabels(labels) #reset new label number\n",
    "ax.tick_params(axis='x', which='major',labelbottom = False, bottom=False, top = False, labeltop=True,rotation = 90)\n",
    "sns.despine(left=True, bottom=True)\n",
    "\n",
    "### plot mutation bias plot---------------------\n",
    "color_sets = ['red','green','blue','black','magenta','yellow']\n",
    "for i in range(0,len(lfeat)):\n",
    "    df_his = df_mutcateg[df_mutcateg['feature'] == sort_idx[i]]\n",
    "    n_patient = len(df_his)\n",
    "    if i> 0:\n",
    "        ax = fig.add_subplot(spec[1,i])\n",
    "        df_his.plot.area(ax = plt.gca(),colormap='tab20')\n",
    "        ax.get_legend().remove()\n",
    "        #df_his.plot.bar(stacked = True,ax = axs,width = 1, color = color_sets, legend = False)\n",
    "        ax.set_xticklabels('')\n",
    "        ax.set_yticklabels('')\n",
    "    else:\n",
    "        ax = fig.add_subplot(spec[1,i])\n",
    "        df_his.plot.area(ax = plt.gca(),colormap='tab20')\n",
    "        #df_his.plot.bar(stacked = True,ax = axs,width = 1, color = color_sets)\n",
    "        ax.set_xticklabels('')\n",
    "        ax.set_yticklabels('')\n",
    "        ax.legend(loc='lower center', bbox_to_anchor=(23.3, -1),prop={'size': 12},\n",
    "                  ncol=6, fancybox=True, shadow=False, handlelength=0.6, borderpad=0.2, labelspacing=0.2)\n",
    "\n",
    "plt.tight_layout()\n",
    "# plt.show()\n",
    "plt.savefig(\"%s/fig1mut_hete_plot.pdf\" % dir_out)\n",
    "plt.close()"
   ]
  },
  {
   "cell_type": "markdown",
   "id": "0df51582-88b1-45c9-bed9-a2afe4496ee5",
   "metadata": {},
   "source": [
    "***Figure1-local mutation rate*** -- This could only be run in a large memory kernel"
   ]
  },
  {
   "cell_type": "code",
   "execution_count": 4,
   "id": "0de5ae26-71cb-4d04-9b00-9e0178861ab9",
   "metadata": {},
   "outputs": [],
   "source": [
    "### Plot local mutational heterogeneity plot\n",
    "dict_loc8 = pickle.load(open(os.path.join(dir_in, 'locmut_chr8.pkl'),'rb'))\n",
    "dict_loc18 = pickle.load(open(os.path.join(dir_in, 'locmut_chr18.pkl'),'rb'))"
   ]
  },
  {
   "cell_type": "code",
   "execution_count": 6,
   "id": "a155f37f-732d-4e62-a27c-8bebda4d9832",
   "metadata": {},
   "outputs": [],
   "source": [
    "matplotlib.rcParams['agg.path.chunksize'] = 10000\n",
    "\n",
    "fig = plt.figure(figsize = (13,5))\n",
    "### plot the chr8 mutation\n",
    "plt.subplot(211)\n",
    "ovary, = plt.plot(dict_loc8['Ovary']['pos'],dict_loc8['Ovary']['syn'], linewidth=1)\n",
    "lung,= plt.plot(dict_loc8['Lung']['pos'],dict_loc8['Lung']['syn'], linewidth=1)\n",
    "thy,= plt.plot(dict_loc8['Thy']['pos'],dict_loc8['Thy']['syn'], linewidth=1)\n",
    "plt.gca().spines['right'].set_visible(False); plt.gca().spines['top'].set_visible(False)\n",
    "plt.xlabel('Chromosome 8 (Mbp)')\n",
    "plt.xticks(np.arange(0,146274826,10000000))\n",
    "plt.gca().set_xticklabels([int((x/1000000)) for x in np.arange(0,146274826,10000000)])\n",
    "plt.legend([ovary,lung,thy], [\"Ovary-AdenoCA\", \"Lung-SCC\",\"Thy-AdenoCA\"],frameon=False,loc = 'upper left')\n",
    "#plot the chr18 mutation\n",
    "plt.subplot(212)\n",
    "ovary, = plt.plot(dict_loc18['Ovary']['pos'],dict_loc18['Ovary']['syn'], linewidth=1)\n",
    "lung,= plt.plot(dict_loc18['Lung']['pos'],dict_loc18['Lung']['syn'], linewidth=1)\n",
    "thy,= plt.plot(dict_loc18['Thy']['pos'],dict_loc18['Thy']['syn'], linewidth=1)\n",
    "plt.gca().spines['right'].set_visible(False); plt.gca().spines['top'].set_visible(False)\n",
    "plt.xlabel('Chromosome 18 (Mbp)')\n",
    "plt.xticks(np.arange(0,76117153,10000000))\n",
    "plt.gca().set_xticklabels([int((x/1000000)) for x in np.arange(0,76117153,10000000)])\n",
    "\n",
    "fig.text(0, 0.5, 'Syn mutation per patient per Mbp', va='center',ha=\"center\", rotation='vertical')\n",
    "\n",
    "plt.tight_layout()\n",
    "# plt.show()\n",
    "plt.savefig(\"%s/fig1_locmut.pdf\" % dir_out)\n",
    "plt.close()"
   ]
  },
  {
   "cell_type": "markdown",
   "id": "98214763-33b6-453b-a78b-e7801b62064d",
   "metadata": {
    "tags": []
   },
   "source": [
    "-----\n",
    "### Figure3"
   ]
  },
  {
   "cell_type": "markdown",
   "id": "6277f839-c0a7-4788-9931-4a91f7f82eb2",
   "metadata": {},
   "source": [
    "***Figure3-non-synonymous heatmap***"
   ]
  },
  {
   "cell_type": "code",
   "execution_count": 7,
   "id": "a62c6e10-9dbf-48a6-a30a-059427f21ce6",
   "metadata": {},
   "outputs": [],
   "source": [
    "dict_venn = pickle.load(open(os.path.join(dir_in, 'dict_venn.pkl'),'rb'))\n",
    "df_nsyn = pickle.load(open(os.path.join(dir_in, 'df_nsyn_pivot.pkl'), 'rb'))"
   ]
  },
  {
   "cell_type": "markdown",
   "id": "ecd9d1e0-4820-49e4-a02f-e7886a998232",
   "metadata": {},
   "source": [
    "***Below a test script for new figure 3***"
   ]
  },
  {
   "cell_type": "code",
   "execution_count": 121,
   "id": "86195f4f-2f92-4dba-ae4d-3a5babdf8be4",
   "metadata": {
    "tags": []
   },
   "outputs": [],
   "source": [
    "# Select cohort to plot\n",
    "sel = ['Breast-AdenoCA','Lymph-BNHL','Head-SCC','ColoRect-AdenoCA','Lung-AdenoCA', 'Kidney-RCC','Biliary-AdenoCA']\n",
    "df_nsyn_sel = df_nsyn.loc[:,sel]\n",
    "df_nsyn_sel = df_nsyn_sel[df_nsyn_sel>5]\n",
    "df_nsyn_sel = df_nsyn_sel.dropna(axis=0, how='all')\n",
    "df_nsyn_sel = df_nsyn_sel.transpose()"
   ]
  },
  {
   "cell_type": "code",
   "execution_count": 130,
   "id": "e8c65d64-73f0-4393-b308-d2f9dbe5b392",
   "metadata": {},
   "outputs": [],
   "source": [
    "shape = df_nsyn_sel.shape\n",
    "# fig, ax = plt.subplots(figsize = (shape[1]/3+3, shape[0]/3+2))\n",
    "fig, ax = plt.subplots(figsize = (15,4))\n",
    "\n",
    "cmap = plt.get_cmap(\"YlGnBu\",30);cmap.set_under('white')\n",
    "ax = sns.heatmap(df_nsyn_sel,cmap=cmap,yticklabels=True,xticklabels=True,\\\n",
    "                 square= False,linewidth = 0.5,linecolor=\"grey\", cbar_kws={\"shrink\": 0.3})\n",
    "ax.set_ylabel('Histology Cohorts'); ax.set_xlabel('Significant Genes')\n",
    "# add patient number to ticks\n",
    "labels=[]\n",
    "for label in ax.get_yticklabels():\n",
    "    feat = label.get_text()\n",
    "    new_label =feat +  ' (n='+str(dict_feat_np[feat])+') '\n",
    "    labels.append(new_label)\n",
    "    label.set_ha(\"right\")\n",
    "    \n",
    "# plt.rcParams['xtick.bottom']  = True\n",
    "# plt.rcParams['xtick.top'] = False\n",
    "ax.set_yticklabels(labels)\n",
    "plt.tight_layout()\n",
    "# plt.show()\n",
    "plt.savefig(os.path.join(dir_out,f'fig3_heatmap_sel.pdf'))\n",
    "plt.close()"
   ]
  },
  {
   "cell_type": "code",
   "execution_count": 115,
   "id": "cb4511d2-2656-4ba4-a333-926444000278",
   "metadata": {
    "tags": []
   },
   "outputs": [],
   "source": [
    "plt.figure(figsize = (6,4))\n",
    "v = venn3(subsets = dict_venn['size'] , \\\n",
    "          set_labels = ('Cancer Gene Census', 'MutSigCVsyn-\\nnonsynonymous', 'PCAWG driver list'),\\\n",
    "         alpha = 0.2)\n",
    "# v.get_patch_by_id(idx).set_alpha(1.0)\n",
    "# v.get_patch_by_id(idx).set_color('white')\n",
    "# v.get_label_by_id('111').set_text('PCAWG & CGC')\n",
    "# Set label position\n",
    "for text in v.set_labels:\n",
    "    if text.get_text() == 'PCAWG driver list':\n",
    "        x = text.get_position()[0]+0.15\n",
    "        y = text.get_position()[1]-0.2\n",
    "        text.set_position((x,y))\n",
    "\n",
    "c = venn3_circles(subsets=dict_venn['size'], linestyle='dashed', linewidth = 1)\n",
    "# c[1].set_lw(1.5)\n",
    "# c[1].set_ls('dotted')\n",
    "# plt.annotate(annotation, xy=v.get_label_by_id(idx).get_position() - np.array([0, 0.02]), xytext=(100,-70),\n",
    "#              ha='center', textcoords='offset points', bbox=dict(boxstyle='round,pad=0.5', fc='blue', alpha=0.2),\n",
    "#              arrowprops=dict(arrowstyle='->', connectionstyle='arc3,rad=0.2',color='grey'))\n",
    "\n",
    "plt.tight_layout()\n",
    "# plt.show()\n",
    "plt.savefig(os.path.join(dir_out,f'fig3_venn.pdf'))\n",
    "plt.close()"
   ]
  },
  {
   "cell_type": "markdown",
   "id": "578d8ed8-d843-41c5-b518-6549074d408a",
   "metadata": {},
   "source": [
    "***End of test script for new figure 3***"
   ]
  },
  {
   "cell_type": "code",
   "execution_count": 131,
   "id": "5800bb0d-fb72-4ff5-804e-119bc9c0deca",
   "metadata": {},
   "outputs": [],
   "source": [
    "def draw_venn(idx, annotation):\n",
    "    plt.figure(figsize = (8,5))\n",
    "    v = venn3(subsets = dict_venn['size'] , \\\n",
    "              set_labels = ('Cancer Gene Census', 'MutSigCVsyn-\\nnonsynonymous', 'PCAWG driver list'),\\\n",
    "             alpha = 0.2)\n",
    "    v.get_patch_by_id(idx).set_alpha(1.0)\n",
    "    v.get_patch_by_id(idx).set_color('white')\n",
    "    # v.get_label_by_id('111').set_text('PCAWG & CGC')\n",
    "    # Set label position\n",
    "    for text in v.set_labels:\n",
    "        if text.get_text() == 'PCAWG driver list':\n",
    "            x = text.get_position()[0]+0.15\n",
    "            y = text.get_position()[1]-0.2\n",
    "            text.set_position((x,y))\n",
    "\n",
    "    c = venn3_circles(subsets=dict_venn['size'], linestyle='dashed', linewidth = 1)\n",
    "    c[1].set_lw(1.5)\n",
    "    c[1].set_ls('dotted')\n",
    "    plt.annotate(annotation, xy=v.get_label_by_id(idx).get_position() - np.array([0, 0.02]), xytext=(100,-70),\n",
    "                 ha='center', textcoords='offset points', bbox=dict(boxstyle='round,pad=0.5', fc='blue', alpha=0.2),\n",
    "                 arrowprops=dict(arrowstyle='->', connectionstyle='arc3,rad=0.2',color='grey'))\n",
    "    \n",
    "    plt.tight_layout()\n",
    "    # plt.show()\n",
    "    plt.savefig(os.path.join(dir_out,f'fig3_venn_{annotation}.pdf'))\n",
    "    plt.close()"
   ]
  },
  {
   "cell_type": "code",
   "execution_count": 132,
   "id": "889c983c-ee9f-4bb0-adb2-494a0d000d39",
   "metadata": {},
   "outputs": [],
   "source": [
    "# draw_venn('111','PCAWG_CGC')\n",
    "# draw_venn('010','Novel')\n",
    "# draw_venn('110','CGC_only')\n",
    "draw_venn('011','PCAWG_only')"
   ]
  },
  {
   "cell_type": "code",
   "execution_count": 136,
   "id": "96bdd7be-3458-465e-97ef-2d363b47ea5b",
   "metadata": {},
   "outputs": [],
   "source": [
    "def draw_heatmap(df,annotation):\n",
    "    shape = df.shape\n",
    "    fig, ax = plt.subplots(figsize = (shape[1]/3+3, shape[0]/3+2))\n",
    "    cmap = plt.get_cmap(\"YlGnBu\",30);cmap.set_under('white')\n",
    "    ax = sns.heatmap(df,cmap=cmap,yticklabels=True,xticklabels=True,\\\n",
    "                     square=True,linewidth = 0.5,linecolor=\"grey\", cbar_kws={\"shrink\": 0.3})\n",
    "    ax.set_xlabel('Significant Genes'); ax.set_ylabel('Histology Cohort')\n",
    "    # add patient number to ticks\n",
    "    labels=[]\n",
    "    for label in ax.get_yticklabels():\n",
    "        feat = label.get_text()\n",
    "        new_label =feat +  ' (n='+str(dict_feat_np[feat])+') '\n",
    "        labels.append(new_label)\n",
    "        label.set_ha(\"right\")\n",
    "    ax.set_yticklabels(labels)\n",
    "    \n",
    "    ### IF this is the PCAWG only set, hightlight the PCAWG exclusive genes identified\n",
    "    if annotation == 'PCAWG_only':\n",
    "        r1 = Rectangle((3, 3), 1, 1, fill=False, edgecolor='blue', lw=1.5)\n",
    "        ax.add_patch(r1)\n",
    "        r2 = Rectangle((4, 3), 1, 1, fill=False, edgecolor='blue', lw=1.5)\n",
    "        ax.add_patch(r2)\n",
    "        r3 = Rectangle((11, 3), 1, 1, fill=False, edgecolor='blue', lw=1.5)\n",
    "        ax.add_patch(r3)\n",
    "        r4 = Rectangle((14, 3), 1, 1, fill=False, edgecolor='blue', lw=1.5)\n",
    "        ax.add_patch(r4)\n",
    "        r5 = Rectangle((16, 6), 1, 1, fill=False, edgecolor='blue', lw=1.5)\n",
    "        ax.add_patch(r5)\n",
    "        r6 = Rectangle((17, 3), 1, 1, fill=False, edgecolor='blue', lw=1.5)\n",
    "        ax.add_patch(r6)\n",
    "\n",
    "    plt.tight_layout()\n",
    "    # plt.show()\n",
    "    plt.savefig(os.path.join(dir_out,f'fig3_heatmap_{annotation}.pdf'))\n",
    "    plt.close()"
   ]
  },
  {
   "cell_type": "code",
   "execution_count": 137,
   "id": "980e4715-31b1-49ee-8caf-79223330dc81",
   "metadata": {
    "tags": []
   },
   "outputs": [],
   "source": [
    "# draw_heatmap(dict_venn['novel'].transpose().dropna(axis=0, how='all'),'Novel')\n",
    "# draw_heatmap(dict_venn['cgc_pcawg'].transpose().dropna(axis=0, how='all'),'PCAWG_CGC')\n",
    "# draw_heatmap(dict_venn['cgc_only'].transpose().dropna(axis=0, how='all'),'CGC_only')\n",
    "draw_heatmap(dict_venn['pcawg_only'].transpose().dropna(axis=0, how='all'),'PCAWG_only')"
   ]
  },
  {
   "cell_type": "markdown",
   "id": "0621efd0-7864-4fff-8791-caadb08e6b8e",
   "metadata": {
    "tags": []
   },
   "source": [
    "---------------\n",
    "### Figure4- Synonymous heatmap"
   ]
  },
  {
   "cell_type": "code",
   "execution_count": 138,
   "id": "eabc85cb-0481-4671-bf53-e4e9a9ec45c9",
   "metadata": {},
   "outputs": [],
   "source": [
    "df_pivot_syn = pd.read_csv(os.path.join(dir_in,'syn_forheatmap.csv'),index_col = 0)"
   ]
  },
  {
   "cell_type": "code",
   "execution_count": 144,
   "id": "c166ee9b-b701-44d6-adbb-ffbfd4146291",
   "metadata": {},
   "outputs": [],
   "source": [
    "def draw_heatmap_syn(df):\n",
    "    shape = df.shape\n",
    "    fig, ax = plt.subplots(figsize = (shape[1]/3+3, shape[0]/3+2))\n",
    "    cmap = plt.get_cmap(\"YlGnBu\",30);cmap.set_under('white')\n",
    "    ax = sns.heatmap(df,cmap=cmap,yticklabels=True,xticklabels=True,\\\n",
    "                     square=True,linewidth = 0.5,linecolor=\"grey\", cbar_kws={\"shrink\": 0.3})\n",
    "    ax.set_ylabel('Significant Genes'); ax.set_xlabel('Histology Cohort')\n",
    "    # add patient number to ticks\n",
    "    labels=[]\n",
    "    for label in ax.get_xticklabels():\n",
    "        feat = label.get_text()\n",
    "        new_label =feat +  ' (n='+str(dict_feat_np[feat])+') '\n",
    "        labels.append(new_label)\n",
    "        label.set_ha(\"right\")\n",
    "    ax.set_xticklabels(labels)\n",
    "\n",
    "    plt.tight_layout()\n",
    "    plt.savefig(os.path.join(dir_out,f'fig4_heatmap.pdf'))\n",
    "    plt.close()"
   ]
  },
  {
   "cell_type": "code",
   "execution_count": 145,
   "id": "cd696cad-1a61-4bca-8019-d8c0d02a9bd2",
   "metadata": {},
   "outputs": [],
   "source": [
    "draw_heatmap_syn(df_pivot_syn)"
   ]
  },
  {
   "cell_type": "markdown",
   "id": "4143e6b2-bfb8-4d98-ad6e-d3bd4d4f9753",
   "metadata": {},
   "source": [
    "---------------\n",
    "### Suppfig1 - Individual genes(expression/ceres test)"
   ]
  },
  {
   "cell_type": "markdown",
   "id": "26a38ff6-e2d7-46f0-869e-066e25507e1a",
   "metadata": {},
   "source": [
    "PURA expression"
   ]
  },
  {
   "cell_type": "code",
   "execution_count": 5,
   "id": "4fc8df7a-f952-498a-a301-aaacca9bf5dc",
   "metadata": {},
   "outputs": [],
   "source": [
    "dict_pura = pickle.load(open(os.path.join(dir_in, 'dict_pura.pkl'),'rb'))\n",
    "dict_naca = pickle.load(open(os.path.join(dir_in, 'dict_naca.pkl'),'rb'))\n",
    "dict_calr = pickle.load(open(os.path.join(dir_in, 'dict_calr.pkl'),'rb'))"
   ]
  },
  {
   "cell_type": "code",
   "execution_count": 39,
   "id": "924e7b37-b883-4f66-acc5-aae3905ec82c",
   "metadata": {},
   "outputs": [],
   "source": [
    "def format_fig(ax):\n",
    "    ax.spines['right'].set_visible(False)\n",
    "    ax.spines['top'].set_visible(False)"
   ]
  },
  {
   "cell_type": "code",
   "execution_count": 52,
   "id": "bd8ad598-1329-4084-9025-f71f6e4c4190",
   "metadata": {},
   "outputs": [],
   "source": [
    "### PURA\n",
    "plt.figure(figsize = (15,5))\n",
    "ax1 = plt.subplot(131)\n",
    "ax1 = sns.boxplot(x = 'tumor.normal', y = 'exp', data = dict_pura['df_exp'])\n",
    "ax1.set_xticklabels(['Normal(n = 6)','Tumor(n = 85)']); ax1.set_ylabel('PURA FPKM');ax1.set_xlabel('')\n",
    "format_fig(ax1)\n",
    "text = f'p-value = {round(dict_pura[\"pval\"],6)}'\n",
    "ax1.annotate(text, (0.5,11),horizontalalignment=\"center\",)\n",
    "\n",
    "### NACA\n",
    "ax2 = plt.subplot(132)\n",
    "ax2 = sns.boxplot(x = 'variable', y = 'value', data = dict_naca['df_ceres'])\n",
    "ax2.set_xticklabels(['Melanoma Lineage\\n(n = 56)','Other Lineage\\n(n = 921)'])\n",
    "ax2.set_ylabel('NACA CERES Score');ax2.set_xlabel('')\n",
    "format_fig(ax2)\n",
    "text = f'p-value = {round(dict_naca[\"pval\"],6)}'\n",
    "ax2.annotate(text, (0.5,-0.6),horizontalalignment=\"center\",)\n",
    "\n",
    "### CALR\n",
    "ax3 = plt.subplot(133)\n",
    "ax3 = sns.boxplot(x = 'variable', y = 'value', data = dict_calr['df_ceres'])\n",
    "ax3.set_xticklabels(['Endometrial AdenoCA\\nLineage\\n(n = 20)',\\\n",
    "                    'Other Lineage\\n(n = 969)'])\n",
    "ax3.set_ylabel('CALR CERES Score');ax3.set_xlabel('')\n",
    "format_fig(ax3)\n",
    "text = f'p-value = {round(dict_calr[\"pval\"],6)}'\n",
    "ax3.annotate(text, (0.5,0.3),horizontalalignment=\"center\",)\n",
    "\n",
    "plt.tight_layout()\n",
    "plt.savefig(os.path.join(dir_out,f'figs2.pdf'))\n",
    "# plt.show()\n",
    "plt.close()"
   ]
  }
 ],
 "metadata": {
  "kernelspec": {
   "display_name": "Python 3",
   "language": "python",
   "name": "python3"
  },
  "language_info": {
   "codemirror_mode": {
    "name": "ipython",
    "version": 3
   },
   "file_extension": ".py",
   "mimetype": "text/x-python",
   "name": "python",
   "nbconvert_exporter": "python",
   "pygments_lexer": "ipython3",
   "version": "3.6.10"
  }
 },
 "nbformat": 4,
 "nbformat_minor": 5
}
