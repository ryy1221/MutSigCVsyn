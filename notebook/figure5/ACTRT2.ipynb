{
 "cells": [
  {
   "cell_type": "code",
   "execution_count": 1,
   "metadata": {},
   "outputs": [],
   "source": [
    "### This is a gene specific analysis notebook\n",
    "from candidate_utils import *"
   ]
  },
  {
   "cell_type": "code",
   "execution_count": 2,
   "metadata": {},
   "outputs": [],
   "source": [
    "%load_ext autoreload\n",
    "%autoreload 2"
   ]
  },
  {
   "cell_type": "code",
   "execution_count": 3,
   "metadata": {},
   "outputs": [],
   "source": [
    "# Gene-transcript dict\n",
    "dict_name = pickle.load(open(os.path.join(dir_refs,'dict_name_forcov_062121.pkl'), 'rb'))"
   ]
  },
  {
   "cell_type": "code",
   "execution_count": 4,
   "metadata": {},
   "outputs": [],
   "source": [
    "gene_name = 'ACTRT2'"
   ]
  },
  {
   "cell_type": "code",
   "execution_count": 5,
   "metadata": {},
   "outputs": [
    {
     "name": "stdout",
     "output_type": "stream",
     "text": [
      "ENST00000378404\n"
     ]
    }
   ],
   "source": [
    "# Find transcript for the gene\n",
    "for transcript,gene in dict_name.items():\n",
    "    if gene == gene_name:\n",
    "        print(transcript)"
   ]
  },
  {
   "cell_type": "markdown",
   "metadata": {},
   "source": [
    "<span style=\"color:blue\">**The histology subtypes of patients with the mutation**</span>.\n"
   ]
  },
  {
   "cell_type": "code",
   "execution_count": 6,
   "metadata": {},
   "outputs": [
    {
     "name": "stderr",
     "output_type": "stream",
     "text": [
      "/opt/aci/sw/anaconda3/2020.07_gcc-4.8.5-bzb/lib/python3.8/site-packages/IPython/core/interactiveshell.py:3263: DtypeWarning: Columns (1,17,33,34,35,36) have mixed types.Specify dtype option on import or set low_memory=False.\n",
      "  if (await self.run_code(code, result,  async_=asy)):\n"
     ]
    }
   ],
   "source": [
    "df_str, df_num = get_num_str(gene_name)"
   ]
  },
  {
   "cell_type": "code",
   "execution_count": 14,
   "metadata": {},
   "outputs": [
    {
     "data": {
      "text/html": [
       "<div>\n",
       "<style scoped>\n",
       "    .dataframe tbody tr th:only-of-type {\n",
       "        vertical-align: middle;\n",
       "    }\n",
       "\n",
       "    .dataframe tbody tr th {\n",
       "        vertical-align: top;\n",
       "    }\n",
       "\n",
       "    .dataframe thead th {\n",
       "        text-align: right;\n",
       "    }\n",
       "</style>\n",
       "<table border=\"1\" class=\"dataframe\">\n",
       "  <thead>\n",
       "    <tr style=\"text-align: right;\">\n",
       "      <th></th>\n",
       "      <th>dcc_specimen_type</th>\n",
       "      <th>histology_tier3</th>\n",
       "      <th>histology_tier4</th>\n",
       "      <th>tumour_histological_type</th>\n",
       "      <th>tumour_stage</th>\n",
       "      <th>tumour_histological_comment</th>\n",
       "      <th>specimen_donor_treatment_type</th>\n",
       "    </tr>\n",
       "  </thead>\n",
       "  <tbody>\n",
       "    <tr>\n",
       "      <th>syn</th>\n",
       "      <td>{'Metastatic tumour - metastasis to distant lo...</td>\n",
       "      <td>{'Melanoma': 10}</td>\n",
       "      <td>{'Malignant melanoma': 10}</td>\n",
       "      <td>{'Malignant melanoma, NOS': 10}</td>\n",
       "      <td>{'IV': 5, nan: 2, 'III': 3}</td>\n",
       "      <td>{nan: 10}</td>\n",
       "      <td>{'surgery': 7, nan: 2, 'other therapy': 1}</td>\n",
       "    </tr>\n",
       "    <tr>\n",
       "      <th>all</th>\n",
       "      <td>{'Metastatic tumour - NOS': 35, 'Metastatic tu...</td>\n",
       "      <td>{'Melanoma': 107}</td>\n",
       "      <td>{'Malignant melanoma': 107}</td>\n",
       "      <td>{'Malignant melanoma, NOS': 107}</td>\n",
       "      <td>{nan: 37, 'III': 46, 'IV': 23, 'I': 1}</td>\n",
       "      <td>{nan: 107}</td>\n",
       "      <td>{nan: 37, 'surgery': 67, 'other therapy': 3}</td>\n",
       "    </tr>\n",
       "  </tbody>\n",
       "</table>\n",
       "</div>"
      ],
      "text/plain": [
       "                                     dcc_specimen_type    histology_tier3  \\\n",
       "syn  {'Metastatic tumour - metastasis to distant lo...   {'Melanoma': 10}   \n",
       "all  {'Metastatic tumour - NOS': 35, 'Metastatic tu...  {'Melanoma': 107}   \n",
       "\n",
       "                 histology_tier4          tumour_histological_type  \\\n",
       "syn   {'Malignant melanoma': 10}   {'Malignant melanoma, NOS': 10}   \n",
       "all  {'Malignant melanoma': 107}  {'Malignant melanoma, NOS': 107}   \n",
       "\n",
       "                               tumour_stage tumour_histological_comment  \\\n",
       "syn             {'IV': 5, nan: 2, 'III': 3}                   {nan: 10}   \n",
       "all  {nan: 37, 'III': 46, 'IV': 23, 'I': 1}                  {nan: 107}   \n",
       "\n",
       "                    specimen_donor_treatment_type  \n",
       "syn    {'surgery': 7, nan: 2, 'other therapy': 1}  \n",
       "all  {nan: 37, 'surgery': 67, 'other therapy': 3}  "
      ]
     },
     "execution_count": 14,
     "metadata": {},
     "output_type": "execute_result"
    }
   ],
   "source": [
    "df_str"
   ]
  },
  {
   "cell_type": "code",
   "execution_count": 8,
   "metadata": {},
   "outputs": [
    {
     "data": {
      "text/html": [
       "<div>\n",
       "<style scoped>\n",
       "    .dataframe tbody tr th:only-of-type {\n",
       "        vertical-align: middle;\n",
       "    }\n",
       "\n",
       "    .dataframe tbody tr th {\n",
       "        vertical-align: top;\n",
       "    }\n",
       "\n",
       "    .dataframe thead th {\n",
       "        text-align: right;\n",
       "    }\n",
       "</style>\n",
       "<table border=\"1\" class=\"dataframe\">\n",
       "  <thead>\n",
       "    <tr style=\"text-align: right;\">\n",
       "      <th></th>\n",
       "      <th></th>\n",
       "      <th>SV.events</th>\n",
       "      <th>Coding.SNVs</th>\n",
       "      <th>Non.coding.SNVs</th>\n",
       "      <th>CNA.events..do_not_use.</th>\n",
       "      <th>Retrotransposon.insertions</th>\n",
       "      <th>Mitochondrial.mutations</th>\n",
       "      <th>all.Indels</th>\n",
       "    </tr>\n",
       "    <tr>\n",
       "      <th>mut_status</th>\n",
       "      <th></th>\n",
       "      <th></th>\n",
       "      <th></th>\n",
       "      <th></th>\n",
       "      <th></th>\n",
       "      <th></th>\n",
       "      <th></th>\n",
       "      <th></th>\n",
       "    </tr>\n",
       "  </thead>\n",
       "  <tbody>\n",
       "    <tr>\n",
       "      <th rowspan=\"8\" valign=\"top\">syn</th>\n",
       "      <th>count</th>\n",
       "      <td>10.000000</td>\n",
       "      <td>10.000000</td>\n",
       "      <td>10.000000</td>\n",
       "      <td>10.000000</td>\n",
       "      <td>10.000000</td>\n",
       "      <td>10.000000</td>\n",
       "      <td>10.000000</td>\n",
       "    </tr>\n",
       "    <tr>\n",
       "      <th>mean</th>\n",
       "      <td>150.000000</td>\n",
       "      <td>1187.800000</td>\n",
       "      <td>157415.300000</td>\n",
       "      <td>429.600000</td>\n",
       "      <td>2.000000</td>\n",
       "      <td>2.400000</td>\n",
       "      <td>3350.000000</td>\n",
       "    </tr>\n",
       "    <tr>\n",
       "      <th>std</th>\n",
       "      <td>162.213166</td>\n",
       "      <td>703.170092</td>\n",
       "      <td>96038.491580</td>\n",
       "      <td>329.688135</td>\n",
       "      <td>4.642796</td>\n",
       "      <td>2.633122</td>\n",
       "      <td>6916.203583</td>\n",
       "    </tr>\n",
       "    <tr>\n",
       "      <th>min</th>\n",
       "      <td>34.000000</td>\n",
       "      <td>177.000000</td>\n",
       "      <td>19198.000000</td>\n",
       "      <td>161.000000</td>\n",
       "      <td>0.000000</td>\n",
       "      <td>0.000000</td>\n",
       "      <td>404.000000</td>\n",
       "    </tr>\n",
       "    <tr>\n",
       "      <th>25%</th>\n",
       "      <td>57.500000</td>\n",
       "      <td>745.000000</td>\n",
       "      <td>109858.250000</td>\n",
       "      <td>217.750000</td>\n",
       "      <td>0.000000</td>\n",
       "      <td>0.250000</td>\n",
       "      <td>834.750000</td>\n",
       "    </tr>\n",
       "    <tr>\n",
       "      <th>50%</th>\n",
       "      <td>94.500000</td>\n",
       "      <td>932.500000</td>\n",
       "      <td>127443.500000</td>\n",
       "      <td>340.500000</td>\n",
       "      <td>0.000000</td>\n",
       "      <td>2.000000</td>\n",
       "      <td>989.500000</td>\n",
       "    </tr>\n",
       "    <tr>\n",
       "      <th>75%</th>\n",
       "      <td>151.250000</td>\n",
       "      <td>1902.000000</td>\n",
       "      <td>202181.750000</td>\n",
       "      <td>517.750000</td>\n",
       "      <td>1.750000</td>\n",
       "      <td>2.750000</td>\n",
       "      <td>1776.750000</td>\n",
       "    </tr>\n",
       "    <tr>\n",
       "      <th>max</th>\n",
       "      <td>573.000000</td>\n",
       "      <td>2138.000000</td>\n",
       "      <td>316831.000000</td>\n",
       "      <td>1251.000000</td>\n",
       "      <td>15.000000</td>\n",
       "      <td>7.000000</td>\n",
       "      <td>22963.000000</td>\n",
       "    </tr>\n",
       "    <tr>\n",
       "      <th rowspan=\"8\" valign=\"top\">all</th>\n",
       "      <th>count</th>\n",
       "      <td>106.000000</td>\n",
       "      <td>107.000000</td>\n",
       "      <td>107.000000</td>\n",
       "      <td>107.000000</td>\n",
       "      <td>107.000000</td>\n",
       "      <td>107.000000</td>\n",
       "      <td>107.000000</td>\n",
       "    </tr>\n",
       "    <tr>\n",
       "      <th>mean</th>\n",
       "      <td>182.490566</td>\n",
       "      <td>803.971963</td>\n",
       "      <td>112468.271028</td>\n",
       "      <td>487.065421</td>\n",
       "      <td>4.990654</td>\n",
       "      <td>2.168224</td>\n",
       "      <td>1000.140187</td>\n",
       "    </tr>\n",
       "    <tr>\n",
       "      <th>std</th>\n",
       "      <td>213.635080</td>\n",
       "      <td>1008.382232</td>\n",
       "      <td>144315.255781</td>\n",
       "      <td>461.390500</td>\n",
       "      <td>34.356756</td>\n",
       "      <td>1.840252</td>\n",
       "      <td>2274.979637</td>\n",
       "    </tr>\n",
       "    <tr>\n",
       "      <th>min</th>\n",
       "      <td>12.000000</td>\n",
       "      <td>20.000000</td>\n",
       "      <td>2126.000000</td>\n",
       "      <td>118.000000</td>\n",
       "      <td>0.000000</td>\n",
       "      <td>0.000000</td>\n",
       "      <td>79.000000</td>\n",
       "    </tr>\n",
       "    <tr>\n",
       "      <th>25%</th>\n",
       "      <td>49.250000</td>\n",
       "      <td>121.500000</td>\n",
       "      <td>17297.000000</td>\n",
       "      <td>202.000000</td>\n",
       "      <td>0.000000</td>\n",
       "      <td>1.000000</td>\n",
       "      <td>401.000000</td>\n",
       "    </tr>\n",
       "    <tr>\n",
       "      <th>50%</th>\n",
       "      <td>98.000000</td>\n",
       "      <td>496.000000</td>\n",
       "      <td>70331.000000</td>\n",
       "      <td>317.000000</td>\n",
       "      <td>0.000000</td>\n",
       "      <td>2.000000</td>\n",
       "      <td>556.000000</td>\n",
       "    </tr>\n",
       "    <tr>\n",
       "      <th>75%</th>\n",
       "      <td>242.750000</td>\n",
       "      <td>932.500000</td>\n",
       "      <td>138316.500000</td>\n",
       "      <td>636.000000</td>\n",
       "      <td>2.000000</td>\n",
       "      <td>3.000000</td>\n",
       "      <td>900.000000</td>\n",
       "    </tr>\n",
       "    <tr>\n",
       "      <th>max</th>\n",
       "      <td>1234.000000</td>\n",
       "      <td>5164.000000</td>\n",
       "      <td>854014.000000</td>\n",
       "      <td>3128.000000</td>\n",
       "      <td>355.000000</td>\n",
       "      <td>8.000000</td>\n",
       "      <td>22963.000000</td>\n",
       "    </tr>\n",
       "  </tbody>\n",
       "</table>\n",
       "</div>"
      ],
      "text/plain": [
       "                    SV.events  Coding.SNVs  Non.coding.SNVs  \\\n",
       "mut_status                                                    \n",
       "syn        count    10.000000    10.000000        10.000000   \n",
       "           mean    150.000000  1187.800000    157415.300000   \n",
       "           std     162.213166   703.170092     96038.491580   \n",
       "           min      34.000000   177.000000     19198.000000   \n",
       "           25%      57.500000   745.000000    109858.250000   \n",
       "           50%      94.500000   932.500000    127443.500000   \n",
       "           75%     151.250000  1902.000000    202181.750000   \n",
       "           max     573.000000  2138.000000    316831.000000   \n",
       "all        count   106.000000   107.000000       107.000000   \n",
       "           mean    182.490566   803.971963    112468.271028   \n",
       "           std     213.635080  1008.382232    144315.255781   \n",
       "           min      12.000000    20.000000      2126.000000   \n",
       "           25%      49.250000   121.500000     17297.000000   \n",
       "           50%      98.000000   496.000000     70331.000000   \n",
       "           75%     242.750000   932.500000    138316.500000   \n",
       "           max    1234.000000  5164.000000    854014.000000   \n",
       "\n",
       "                  CNA.events..do_not_use.  Retrotransposon.insertions  \\\n",
       "mut_status                                                              \n",
       "syn        count                10.000000                   10.000000   \n",
       "           mean                429.600000                    2.000000   \n",
       "           std                 329.688135                    4.642796   \n",
       "           min                 161.000000                    0.000000   \n",
       "           25%                 217.750000                    0.000000   \n",
       "           50%                 340.500000                    0.000000   \n",
       "           75%                 517.750000                    1.750000   \n",
       "           max                1251.000000                   15.000000   \n",
       "all        count               107.000000                  107.000000   \n",
       "           mean                487.065421                    4.990654   \n",
       "           std                 461.390500                   34.356756   \n",
       "           min                 118.000000                    0.000000   \n",
       "           25%                 202.000000                    0.000000   \n",
       "           50%                 317.000000                    0.000000   \n",
       "           75%                 636.000000                    2.000000   \n",
       "           max                3128.000000                  355.000000   \n",
       "\n",
       "                  Mitochondrial.mutations    all.Indels  \n",
       "mut_status                                               \n",
       "syn        count                10.000000     10.000000  \n",
       "           mean                  2.400000   3350.000000  \n",
       "           std                   2.633122   6916.203583  \n",
       "           min                   0.000000    404.000000  \n",
       "           25%                   0.250000    834.750000  \n",
       "           50%                   2.000000    989.500000  \n",
       "           75%                   2.750000   1776.750000  \n",
       "           max                   7.000000  22963.000000  \n",
       "all        count               107.000000    107.000000  \n",
       "           mean                  2.168224   1000.140187  \n",
       "           std                   1.840252   2274.979637  \n",
       "           min                   0.000000     79.000000  \n",
       "           25%                   1.000000    401.000000  \n",
       "           50%                   2.000000    556.000000  \n",
       "           75%                   3.000000    900.000000  \n",
       "           max                   8.000000  22963.000000  "
      ]
     },
     "execution_count": 8,
     "metadata": {},
     "output_type": "execute_result"
    }
   ],
   "source": [
    "df_num"
   ]
  },
  {
   "cell_type": "markdown",
   "metadata": {},
   "source": [
    "<span style=\"color:blue\">**Mutation**</span>.\n"
   ]
  },
  {
   "cell_type": "code",
   "execution_count": 9,
   "metadata": {},
   "outputs": [
    {
     "name": "stderr",
     "output_type": "stream",
     "text": [
      "/opt/aci/sw/anaconda3/2020.07_gcc-4.8.5-bzb/lib/python3.8/site-packages/IPython/core/interactiveshell.py:3263: DtypeWarning: Columns (1,17,33,34,35,36) have mixed types.Specify dtype option on import or set low_memory=False.\n",
      "  if (await self.run_code(code, result,  async_=asy)):\n"
     ]
    },
    {
     "name": "stdout",
     "output_type": "stream",
     "text": [
      "Total 106 patients\n",
      "10 patients have synonymous mutations, they are: ['DO220899', 'DO37474', 'DO220902', 'DO37409', 'DO220878', 'DO220913', 'DO220882', 'DO220905', 'DO220896', 'DO220873']\n",
      "1:g.2938376G>A\n",
      "1:g.2939042C>T\n",
      "1:g.2939360C>T\n",
      "1:g.2939042C>T\n",
      "1:g.2938709G>A\n",
      "1:g.2938811G>A\n",
      "1:g.2938331G>A\n",
      "1:g.2938889G>A\n",
      "1:g.2938739C>T\n",
      "1:g.2939261G>A\n"
     ]
    }
   ],
   "source": [
    "df_all, df_mut, donor_list = get_mut(gene_name)"
   ]
  },
  {
   "cell_type": "code",
   "execution_count": 10,
   "metadata": {},
   "outputs": [
    {
     "data": {
      "text/plain": [
       "Hugo_Symbol  Variant_Classification  Donor_ID\n",
       "ACTRT2       Silent                  DO220899    g.chr1:2938376G>A\n",
       "                                     DO37474     g.chr1:2939042C>T\n",
       "             5'Flank                 DO220902    g.chr1:2936079C>T\n",
       "             Silent                  DO220902    g.chr1:2939360C>T\n",
       "                                     DO37409     g.chr1:2939042C>T\n",
       "             5'Flank                 DO220878    g.chr1:2935626T>C\n",
       "                                     DO220878    g.chr1:2937101G>A\n",
       "             Silent                  DO220878    g.chr1:2938709G>A\n",
       "                                     DO220913    g.chr1:2938811G>A\n",
       "             IGR                     DO220913    g.chr1:2939473G>A\n",
       "             Silent                  DO220882    g.chr1:2938331G>A\n",
       "                                     DO220905    g.chr1:2938889G>A\n",
       "                                     DO220896    g.chr1:2938739C>T\n",
       "                                     DO220873    g.chr1:2939261G>A\n",
       "Name: Genome_Change, dtype: object"
      ]
     },
     "execution_count": 10,
     "metadata": {},
     "output_type": "execute_result"
    }
   ],
   "source": [
    "df_all.loc[pd.IndexSlice[gene_name, :,donor_list],'Genome_Change']"
   ]
  },
  {
   "cell_type": "markdown",
   "metadata": {},
   "source": [
    "<span style=\"color:blue\">**CNV**</span>.\n"
   ]
  },
  {
   "cell_type": "code",
   "execution_count": 11,
   "metadata": {},
   "outputs": [
    {
     "name": "stdout",
     "output_type": "stream",
     "text": [
      "                               25103371-28ac-4f43-b0e2-2d376d0dcb84\n",
      "Gene Symbol Locus ID Cytoband                                      \n",
      "ACTRT2      140625   1p36.32                                    4.0\n",
      "                               41a7b031-d928-4a1f-891b-82fb3f6d548f\n",
      "Gene Symbol Locus ID Cytoband                                      \n",
      "ACTRT2      140625   1p36.32                                    4.0\n",
      "                               63762458-902a-4329-a823-703b54cb5f9d\n",
      "Gene Symbol Locus ID Cytoband                                      \n",
      "ACTRT2      140625   1p36.32                                    2.0\n",
      "                               88f2c496-3eb4-4c03-b3a5-8d5a55803aaf\n",
      "Gene Symbol Locus ID Cytoband                                      \n",
      "ACTRT2      140625   1p36.32                                    3.0\n",
      "                               9fc5b5c7-3973-42b4-8710-454de0cb5b50\n",
      "Gene Symbol Locus ID Cytoband                                      \n",
      "ACTRT2      140625   1p36.32                                    3.0\n",
      "                               a84915de-6562-4836-86f9-f2a05598296e\n",
      "Gene Symbol Locus ID Cytoband                                      \n",
      "ACTRT2      140625   1p36.32                                    4.0\n",
      "                               e2b2357c-da6f-4ca3-9c07-a22f0423e8fe\n",
      "Gene Symbol Locus ID Cytoband                                      \n",
      "ACTRT2      140625   1p36.32                                    2.0\n",
      "                               eeddf701-93f9-4f10-85cb-9dce1760bae8\n",
      "Gene Symbol Locus ID Cytoband                                      \n",
      "ACTRT2      140625   1p36.32                                    2.0\n",
      "                               f24688a9-7952-49d8-ba80-2bbad472379c\n",
      "Gene Symbol Locus ID Cytoband                                      \n",
      "ACTRT2      140625   1p36.32                                    2.0\n",
      "                               f81693ba-09ee-4201-a389-0ceeda8a4636\n",
      "Gene Symbol Locus ID Cytoband                                      \n",
      "ACTRT2      140625   1p36.32                                    2.0\n"
     ]
    }
   ],
   "source": [
    "cnv = get_cnv(donor_list, gene_name)"
   ]
  },
  {
   "cell_type": "markdown",
   "metadata": {},
   "source": [
    "<span style=\"color:blue\">**Expression PCAWG**</span>.\n"
   ]
  },
  {
   "cell_type": "code",
   "execution_count": 12,
   "metadata": {},
   "outputs": [
    {
     "name": "stderr",
     "output_type": "stream",
     "text": [
      "/opt/aci/sw/anaconda3/2020.07_gcc-4.8.5-bzb/lib/python3.8/site-packages/IPython/core/interactiveshell.py:3343: DtypeWarning: Columns (1,17,33,34,35,36) have mixed types.Specify dtype option on import or set low_memory=False.\n",
      "  exec(code_obj, self.user_global_ns, self.user_ns)\n"
     ]
    },
    {
     "name": "stdout",
     "output_type": "stream",
     "text": [
      "Number of normal patient: 0\n",
      "Number of synonymous patients: 2\n",
      "Number of other tumor patients:34\n",
      "test statistic:33.0,p-value:0.4517\n"
     ]
    },
    {
     "data": {
      "image/png": "[encoded data removed]",
      "text/plain": [
       "<Figure size 360x216 with 1 Axes>"
      ]
     },
     "metadata": {
      "needs_background": "light"
     },
     "output_type": "display_data"
    }
   ],
   "source": [
    "get_expression(gene_name)"
   ]
  },
  {
   "cell_type": "markdown",
   "metadata": {},
   "source": [
    "<span style=\"color:blue\">**CRISPR**</span>.\n"
   ]
  },
  {
   "cell_type": "code",
   "execution_count": 15,
   "metadata": {},
   "outputs": [
    {
     "name": "stdout",
     "output_type": "stream",
     "text": [
      "['Melanoma' 'Skin Squamous' 'Merkel Cell Carcinoma']\n"
     ]
    }
   ],
   "source": [
    "get_lineage(gene_name, 'Skin')"
   ]
  },
  {
   "cell_type": "code",
   "execution_count": 16,
   "metadata": {},
   "outputs": [
    {
     "name": "stdout",
     "output_type": "stream",
     "text": [
      "57 in histology subtype\n",
      "932 not in histology subtype\n",
      "test statistic:22914.0,    p-value:0.0407\n",
      "test statistic:24464.0,    p-value:0.0223\n"
     ]
    },
    {
     "data": {
      "image/png": "[encoded data removed]",
      "text/plain": [
       "<Figure size 360x216 with 1 Axes>"
      ]
     },
     "metadata": {
      "needs_background": "light"
     },
     "output_type": "display_data"
    },
    {
     "data": {
      "image/png": "[encoded data removed]",
      "text/plain": [
       "<Figure size 360x216 with 1 Axes>"
      ]
     },
     "metadata": {
      "needs_background": "light"
     },
     "output_type": "display_data"
    }
   ],
   "source": [
    "# def get_CERES(gene, lineage):\n",
    "#     dir_depmap = './depmap'\n",
    "#     df_depmap = pd.read_csv(os.path.join(dir_depmap, gene+'_21Q2.csv'))\n",
    "#     df_depmap.columns = ['ID', 'CERES', 'Name', 'Primary Disease', 'Lineage', 'Lineage Subtype', 'Mutation']\n",
    "\n",
    "#     df_gene = df_depmap[df_depmap['Lineage Subtype'] == lineage]\n",
    "#     print(f'{len(df_gene)} in histology subtype')\n",
    "#     df_other = df_depmap[df_depmap['Lineage Subtype'] != lineage]\n",
    "#     print(f'{len(df_other)} not in histology subtype')\n",
    "#     df_all = pd.DataFrame({'inlineage':df_gene['CERES'],\n",
    "#                           'other':df_other['CERES']})\n",
    "#     df_all = df_all.melt()\n",
    "\n",
    "#     fig,ax = plt.subplots(figsize=(5,3))\n",
    "#     ax = sns.boxplot(x = 'variable', y = 'value', data = df_all)\n",
    "\n",
    "#     mannwhitneyu(df_gene['CERES'], df_other['CERES'])\n",
    "#     text = f'test statistic:{round(mannwhitneyu(df_gene[\"CERES\"], df_other[\"CERES\"])[0],4)},\\\n",
    "#     p-value:{round(mannwhitneyu(df_gene[\"CERES\"], df_other[\"CERES\"])[1],4)}'\n",
    "#     print(text)\n",
    "#     ax.set_title('CERES:'+lineage+'_'+gene+'_'+text)\n",
    "    \n",
    "#     # Expression\n",
    "#     df_all_exp = pd.DataFrame({'inlineage':df_gene['Expression'],\n",
    "#                       'other':df_other['Expression']})\n",
    "#     df_all_exp = df_all_exp.melt()\n",
    "#     fig,ax = plt.subplots(figsize=(5,3))\n",
    "#     ax = sns.boxplot(x = 'variable', y = 'value', data = df_all_exp)\n",
    "\n",
    "#     mannwhitneyu(df_gene['Expression'], df_other['Expression'])\n",
    "#     text = f'test statistic:{round(mannwhitneyu(df_gene[\"Expression\"], df_other[\"Expression\"])[0],4)},\\\n",
    "#     p-value:{round(mannwhitneyu(df_gene[\"Expression\"], df_other[\"Expression\"])[1],4)}'\n",
    "#     print(text)\n",
    "#     ax.set_title('DepMap Expression:'+lineage+'_'+gene+'_'+text)\n",
    "get_CERES(gene_name, 'Melanoma')"
   ]
  },
  {
   "cell_type": "markdown",
   "metadata": {},
   "source": [
    "<span style=\"color:blue\">**Alternative Splicing**</span>  "
   ]
  },
  {
   "cell_type": "code",
   "execution_count": 21,
   "metadata": {},
   "outputs": [],
   "source": [
    "dir_splice = '../../anno_ref/ICGC/alternative_splicing'\n",
    "exp_dir = '../../anno_ref/ICGC/pcawg_rnaseq/'\n",
    "# Read aliquot id information\n",
    "df_exp_info = pd.read_csv(os.path.join(exp_dir,'rnaseq.metadata.tsv'), sep = '\\t')"
   ]
  },
  {
   "cell_type": "code",
   "execution_count": 16,
   "metadata": {},
   "outputs": [
    {
     "name": "stdout",
     "output_type": "stream",
     "text": [
      "DO50345 is not in PCAWG transcriptome analysis\n",
      "DO50326 is not in PCAWG transcriptome analysis\n",
      "DO50387 is not in PCAWG transcriptome analysis\n",
      "DO50401 is not in PCAWG transcriptome analysis\n",
      "DO50337 is not in PCAWG transcriptome analysis\n"
     ]
    }
   ],
   "source": [
    "### If patient is in the splicing file(transcriptome analysis info)\n",
    "for donor in donor_list:\n",
    "    tumor_id = df_exp_info[df_exp_info['icgc_donor_id'] == donor]['aliquot_id']\n",
    "    if len(tumor_id) ==0:\n",
    "        print(f'{donor} is not in PCAWG transcriptome analysis')"
   ]
  }
 ],
 "metadata": {
  "kernelspec": {
   "display_name": "Python 3",
   "language": "python",
   "name": "python3"
  },
  "language_info": {
   "codemirror_mode": {
    "name": "ipython",
    "version": 3
   },
   "file_extension": ".py",
   "mimetype": "text/x-python",
   "name": "python",
   "nbconvert_exporter": "python",
   "pygments_lexer": "ipython3",
   "version": "3.8.3"
  }
 },
 "nbformat": 4,
 "nbformat_minor": 4
}
