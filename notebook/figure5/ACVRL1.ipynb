{
 "cells": [
  {
   "cell_type": "code",
   "execution_count": 1,
   "metadata": {},
   "outputs": [],
   "source": [
    "### This is a gene specific analysis notebook\n",
    "from candidate_utils import *"
   ]
  },
  {
   "cell_type": "code",
   "execution_count": 2,
   "metadata": {},
   "outputs": [],
   "source": [
    "%load_ext autoreload\n",
    "%autoreload 2"
   ]
  },
  {
   "cell_type": "code",
   "execution_count": 10,
   "metadata": {},
   "outputs": [],
   "source": [
    "# Gene-transcript dict\n",
    "dict_name = pickle.load(open(os.path.join(dir_refs,'dict_name_forcov_062121.pkl'), 'rb'))"
   ]
  },
  {
   "cell_type": "code",
   "execution_count": 8,
   "metadata": {},
   "outputs": [],
   "source": [
    "gene_name = 'ACVRL1'"
   ]
  },
  {
   "cell_type": "code",
   "execution_count": 11,
   "metadata": {},
   "outputs": [
    {
     "name": "stdout",
     "output_type": "stream",
     "text": [
      "ENST00000388922\n"
     ]
    }
   ],
   "source": [
    "# Find transcript for the gene\n",
    "for transcript,gene in dict_name.items():\n",
    "    if gene == gene_name:\n",
    "        print(transcript)"
   ]
  },
  {
   "cell_type": "markdown",
   "metadata": {},
   "source": [
    "<span style=\"color:blue\">**The histology subtypes of patients with the mutation**</span>.\n"
   ]
  },
  {
   "cell_type": "code",
   "execution_count": 6,
   "metadata": {},
   "outputs": [
    {
     "name": "stderr",
     "output_type": "stream",
     "text": [
      "/opt/aci/sw/anaconda3/2020.07_gcc-4.8.5-bzb/lib/python3.8/site-packages/IPython/core/interactiveshell.py:3263: DtypeWarning: Columns (17,24) have mixed types.Specify dtype option on import or set low_memory=False.\n",
      "  if (await self.run_code(code, result,  async_=asy)):\n"
     ]
    }
   ],
   "source": [
    "df_str, df_num = get_num_str(gene_name)"
   ]
  },
  {
   "cell_type": "code",
   "execution_count": 7,
   "metadata": {},
   "outputs": [
    {
     "data": {
      "text/html": [
       "<div>\n",
       "<style scoped>\n",
       "    .dataframe tbody tr th:only-of-type {\n",
       "        vertical-align: middle;\n",
       "    }\n",
       "\n",
       "    .dataframe tbody tr th {\n",
       "        vertical-align: top;\n",
       "    }\n",
       "\n",
       "    .dataframe thead th {\n",
       "        text-align: right;\n",
       "    }\n",
       "</style>\n",
       "<table border=\"1\" class=\"dataframe\">\n",
       "  <thead>\n",
       "    <tr style=\"text-align: right;\">\n",
       "      <th></th>\n",
       "      <th>dcc_specimen_type</th>\n",
       "      <th>histology_tier3</th>\n",
       "      <th>histology_tier4</th>\n",
       "      <th>tumour_histological_type</th>\n",
       "      <th>tumour_stage</th>\n",
       "      <th>tumour_histological_comment</th>\n",
       "      <th>specimen_donor_treatment_type</th>\n",
       "    </tr>\n",
       "  </thead>\n",
       "  <tbody>\n",
       "    <tr>\n",
       "      <th>syn</th>\n",
       "      <td>{'Primary tumour - solid tissue': 3}</td>\n",
       "      <td>{'Adenocarcinoma': 3}</td>\n",
       "      <td>{'Adenocarcinoma': 3}</td>\n",
       "      <td>{'Adenocarcinoma, NOS': 3}</td>\n",
       "      <td>{'T2cN0': 1, 'T3aN0': 1, 'T3aN0M0': 1}</td>\n",
       "      <td>{nan: 3}</td>\n",
       "      <td>{'no treatment': 3}</td>\n",
       "    </tr>\n",
       "    <tr>\n",
       "      <th>all</th>\n",
       "      <td>{'Primary tumour - solid tissue': 194, 'Metast...</td>\n",
       "      <td>{'Adenocarcinoma': 199}</td>\n",
       "      <td>{'Adenocarcinoma': 199}</td>\n",
       "      <td>{'Adenocarcinoma, NOS': 180, 'Acinar cell carc...</td>\n",
       "      <td>{'T2cN0': 22, 'T1c': 12, 'T2a': 17, nan: 29, '...</td>\n",
       "      <td>{nan: 199}</td>\n",
       "      <td>{'no treatment': 168, nan: 19, 'other therapy'...</td>\n",
       "    </tr>\n",
       "  </tbody>\n",
       "</table>\n",
       "</div>"
      ],
      "text/plain": [
       "                                     dcc_specimen_type  \\\n",
       "syn               {'Primary tumour - solid tissue': 3}   \n",
       "all  {'Primary tumour - solid tissue': 194, 'Metast...   \n",
       "\n",
       "             histology_tier3          histology_tier4  \\\n",
       "syn    {'Adenocarcinoma': 3}    {'Adenocarcinoma': 3}   \n",
       "all  {'Adenocarcinoma': 199}  {'Adenocarcinoma': 199}   \n",
       "\n",
       "                              tumour_histological_type  \\\n",
       "syn                         {'Adenocarcinoma, NOS': 3}   \n",
       "all  {'Adenocarcinoma, NOS': 180, 'Acinar cell carc...   \n",
       "\n",
       "                                          tumour_stage  \\\n",
       "syn             {'T2cN0': 1, 'T3aN0': 1, 'T3aN0M0': 1}   \n",
       "all  {'T2cN0': 22, 'T1c': 12, 'T2a': 17, nan: 29, '...   \n",
       "\n",
       "    tumour_histological_comment  \\\n",
       "syn                    {nan: 3}   \n",
       "all                  {nan: 199}   \n",
       "\n",
       "                         specimen_donor_treatment_type  \n",
       "syn                                {'no treatment': 3}  \n",
       "all  {'no treatment': 168, nan: 19, 'other therapy'...  "
      ]
     },
     "execution_count": 7,
     "metadata": {},
     "output_type": "execute_result"
    }
   ],
   "source": [
    "df_str"
   ]
  },
  {
   "cell_type": "code",
   "execution_count": 8,
   "metadata": {},
   "outputs": [
    {
     "data": {
      "text/html": [
       "<div>\n",
       "<style scoped>\n",
       "    .dataframe tbody tr th:only-of-type {\n",
       "        vertical-align: middle;\n",
       "    }\n",
       "\n",
       "    .dataframe tbody tr th {\n",
       "        vertical-align: top;\n",
       "    }\n",
       "\n",
       "    .dataframe thead th {\n",
       "        text-align: right;\n",
       "    }\n",
       "</style>\n",
       "<table border=\"1\" class=\"dataframe\">\n",
       "  <thead>\n",
       "    <tr style=\"text-align: right;\">\n",
       "      <th></th>\n",
       "      <th></th>\n",
       "      <th>SV.events</th>\n",
       "      <th>Coding.SNVs</th>\n",
       "      <th>Non.coding.SNVs</th>\n",
       "      <th>CNA.events..do_not_use.</th>\n",
       "      <th>Retrotransposon.insertions</th>\n",
       "      <th>Mitochondrial.mutations</th>\n",
       "      <th>all.Indels</th>\n",
       "    </tr>\n",
       "    <tr>\n",
       "      <th>mut_status</th>\n",
       "      <th></th>\n",
       "      <th></th>\n",
       "      <th></th>\n",
       "      <th></th>\n",
       "      <th></th>\n",
       "      <th></th>\n",
       "      <th></th>\n",
       "      <th></th>\n",
       "    </tr>\n",
       "  </thead>\n",
       "  <tbody>\n",
       "    <tr>\n",
       "      <th rowspan=\"8\" valign=\"top\">syn</th>\n",
       "      <th>count</th>\n",
       "      <td>3.000000</td>\n",
       "      <td>3.000000</td>\n",
       "      <td>3.000000</td>\n",
       "      <td>3.000000</td>\n",
       "      <td>3.000000</td>\n",
       "      <td>3.000000</td>\n",
       "      <td>3.000000</td>\n",
       "    </tr>\n",
       "    <tr>\n",
       "      <th>mean</th>\n",
       "      <td>23.333333</td>\n",
       "      <td>41.333333</td>\n",
       "      <td>3874.000000</td>\n",
       "      <td>153.666667</td>\n",
       "      <td>0.666667</td>\n",
       "      <td>5.666667</td>\n",
       "      <td>220.666667</td>\n",
       "    </tr>\n",
       "    <tr>\n",
       "      <th>std</th>\n",
       "      <td>10.503968</td>\n",
       "      <td>28.571548</td>\n",
       "      <td>2356.565085</td>\n",
       "      <td>45.796652</td>\n",
       "      <td>1.154701</td>\n",
       "      <td>4.725816</td>\n",
       "      <td>123.791491</td>\n",
       "    </tr>\n",
       "    <tr>\n",
       "      <th>min</th>\n",
       "      <td>13.000000</td>\n",
       "      <td>14.000000</td>\n",
       "      <td>1392.000000</td>\n",
       "      <td>117.000000</td>\n",
       "      <td>0.000000</td>\n",
       "      <td>2.000000</td>\n",
       "      <td>80.000000</td>\n",
       "    </tr>\n",
       "    <tr>\n",
       "      <th>25%</th>\n",
       "      <td>18.000000</td>\n",
       "      <td>26.500000</td>\n",
       "      <td>2770.500000</td>\n",
       "      <td>128.000000</td>\n",
       "      <td>0.000000</td>\n",
       "      <td>3.000000</td>\n",
       "      <td>174.500000</td>\n",
       "    </tr>\n",
       "    <tr>\n",
       "      <th>50%</th>\n",
       "      <td>23.000000</td>\n",
       "      <td>39.000000</td>\n",
       "      <td>4149.000000</td>\n",
       "      <td>139.000000</td>\n",
       "      <td>0.000000</td>\n",
       "      <td>4.000000</td>\n",
       "      <td>269.000000</td>\n",
       "    </tr>\n",
       "    <tr>\n",
       "      <th>75%</th>\n",
       "      <td>28.500000</td>\n",
       "      <td>55.000000</td>\n",
       "      <td>5115.000000</td>\n",
       "      <td>172.000000</td>\n",
       "      <td>1.000000</td>\n",
       "      <td>7.500000</td>\n",
       "      <td>291.000000</td>\n",
       "    </tr>\n",
       "    <tr>\n",
       "      <th>max</th>\n",
       "      <td>34.000000</td>\n",
       "      <td>71.000000</td>\n",
       "      <td>6081.000000</td>\n",
       "      <td>205.000000</td>\n",
       "      <td>2.000000</td>\n",
       "      <td>11.000000</td>\n",
       "      <td>313.000000</td>\n",
       "    </tr>\n",
       "    <tr>\n",
       "      <th rowspan=\"8\" valign=\"top\">all</th>\n",
       "      <th>count</th>\n",
       "      <td>198.000000</td>\n",
       "      <td>199.000000</td>\n",
       "      <td>199.000000</td>\n",
       "      <td>199.000000</td>\n",
       "      <td>197.000000</td>\n",
       "      <td>184.000000</td>\n",
       "      <td>199.000000</td>\n",
       "    </tr>\n",
       "    <tr>\n",
       "      <th>mean</th>\n",
       "      <td>93.904040</td>\n",
       "      <td>29.989950</td>\n",
       "      <td>3174.261307</td>\n",
       "      <td>382.783920</td>\n",
       "      <td>4.680203</td>\n",
       "      <td>4.000000</td>\n",
       "      <td>294.115578</td>\n",
       "    </tr>\n",
       "    <tr>\n",
       "      <th>std</th>\n",
       "      <td>101.265224</td>\n",
       "      <td>22.316817</td>\n",
       "      <td>2252.340725</td>\n",
       "      <td>299.114212</td>\n",
       "      <td>11.294493</td>\n",
       "      <td>2.929033</td>\n",
       "      <td>307.690340</td>\n",
       "    </tr>\n",
       "    <tr>\n",
       "      <th>min</th>\n",
       "      <td>0.000000</td>\n",
       "      <td>0.000000</td>\n",
       "      <td>44.000000</td>\n",
       "      <td>73.000000</td>\n",
       "      <td>0.000000</td>\n",
       "      <td>0.000000</td>\n",
       "      <td>1.000000</td>\n",
       "    </tr>\n",
       "    <tr>\n",
       "      <th>25%</th>\n",
       "      <td>29.250000</td>\n",
       "      <td>17.500000</td>\n",
       "      <td>1834.500000</td>\n",
       "      <td>169.500000</td>\n",
       "      <td>0.000000</td>\n",
       "      <td>2.000000</td>\n",
       "      <td>116.500000</td>\n",
       "    </tr>\n",
       "    <tr>\n",
       "      <th>50%</th>\n",
       "      <td>67.000000</td>\n",
       "      <td>27.000000</td>\n",
       "      <td>2886.000000</td>\n",
       "      <td>275.000000</td>\n",
       "      <td>2.000000</td>\n",
       "      <td>3.000000</td>\n",
       "      <td>244.000000</td>\n",
       "    </tr>\n",
       "    <tr>\n",
       "      <th>75%</th>\n",
       "      <td>121.000000</td>\n",
       "      <td>37.000000</td>\n",
       "      <td>3737.000000</td>\n",
       "      <td>487.500000</td>\n",
       "      <td>4.000000</td>\n",
       "      <td>5.000000</td>\n",
       "      <td>347.000000</td>\n",
       "    </tr>\n",
       "    <tr>\n",
       "      <th>max</th>\n",
       "      <td>777.000000</td>\n",
       "      <td>185.000000</td>\n",
       "      <td>16980.000000</td>\n",
       "      <td>1617.000000</td>\n",
       "      <td>98.000000</td>\n",
       "      <td>19.000000</td>\n",
       "      <td>3012.000000</td>\n",
       "    </tr>\n",
       "  </tbody>\n",
       "</table>\n",
       "</div>"
      ],
      "text/plain": [
       "                   SV.events  Coding.SNVs  Non.coding.SNVs  \\\n",
       "mut_status                                                   \n",
       "syn        count    3.000000     3.000000         3.000000   \n",
       "           mean    23.333333    41.333333      3874.000000   \n",
       "           std     10.503968    28.571548      2356.565085   \n",
       "           min     13.000000    14.000000      1392.000000   \n",
       "           25%     18.000000    26.500000      2770.500000   \n",
       "           50%     23.000000    39.000000      4149.000000   \n",
       "           75%     28.500000    55.000000      5115.000000   \n",
       "           max     34.000000    71.000000      6081.000000   \n",
       "all        count  198.000000   199.000000       199.000000   \n",
       "           mean    93.904040    29.989950      3174.261307   \n",
       "           std    101.265224    22.316817      2252.340725   \n",
       "           min      0.000000     0.000000        44.000000   \n",
       "           25%     29.250000    17.500000      1834.500000   \n",
       "           50%     67.000000    27.000000      2886.000000   \n",
       "           75%    121.000000    37.000000      3737.000000   \n",
       "           max    777.000000   185.000000     16980.000000   \n",
       "\n",
       "                  CNA.events..do_not_use.  Retrotransposon.insertions  \\\n",
       "mut_status                                                              \n",
       "syn        count                 3.000000                    3.000000   \n",
       "           mean                153.666667                    0.666667   \n",
       "           std                  45.796652                    1.154701   \n",
       "           min                 117.000000                    0.000000   \n",
       "           25%                 128.000000                    0.000000   \n",
       "           50%                 139.000000                    0.000000   \n",
       "           75%                 172.000000                    1.000000   \n",
       "           max                 205.000000                    2.000000   \n",
       "all        count               199.000000                  197.000000   \n",
       "           mean                382.783920                    4.680203   \n",
       "           std                 299.114212                   11.294493   \n",
       "           min                  73.000000                    0.000000   \n",
       "           25%                 169.500000                    0.000000   \n",
       "           50%                 275.000000                    2.000000   \n",
       "           75%                 487.500000                    4.000000   \n",
       "           max                1617.000000                   98.000000   \n",
       "\n",
       "                  Mitochondrial.mutations   all.Indels  \n",
       "mut_status                                              \n",
       "syn        count                 3.000000     3.000000  \n",
       "           mean                  5.666667   220.666667  \n",
       "           std                   4.725816   123.791491  \n",
       "           min                   2.000000    80.000000  \n",
       "           25%                   3.000000   174.500000  \n",
       "           50%                   4.000000   269.000000  \n",
       "           75%                   7.500000   291.000000  \n",
       "           max                  11.000000   313.000000  \n",
       "all        count               184.000000   199.000000  \n",
       "           mean                  4.000000   294.115578  \n",
       "           std                   2.929033   307.690340  \n",
       "           min                   0.000000     1.000000  \n",
       "           25%                   2.000000   116.500000  \n",
       "           50%                   3.000000   244.000000  \n",
       "           75%                   5.000000   347.000000  \n",
       "           max                  19.000000  3012.000000  "
      ]
     },
     "execution_count": 8,
     "metadata": {},
     "output_type": "execute_result"
    }
   ],
   "source": [
    "df_num"
   ]
  },
  {
   "cell_type": "markdown",
   "metadata": {},
   "source": [
    "<span style=\"color:blue\">**Mutation**</span>.\n"
   ]
  },
  {
   "cell_type": "code",
   "execution_count": 12,
   "metadata": {},
   "outputs": [
    {
     "name": "stderr",
     "output_type": "stream",
     "text": [
      "/opt/aci/sw/anaconda3/2020.07_gcc-4.8.5-bzb/lib/python3.8/site-packages/IPython/core/interactiveshell.py:3263: DtypeWarning: Columns (17,24) have mixed types.Specify dtype option on import or set low_memory=False.\n",
      "  if (await self.run_code(code, result,  async_=asy)):\n"
     ]
    },
    {
     "name": "stdout",
     "output_type": "stream",
     "text": [
      "Total 199 patients\n",
      "3 patients have synonymous mutations, they are: ['DO52501', 'DO10809', 'DO50416']\n",
      "12:g.52307539C>T\n",
      "12:g.52307549T>C\n",
      "12:g.52314611G>A\n"
     ]
    }
   ],
   "source": [
    "df_all, df_mut, donor_list = get_mut(gene_name)"
   ]
  },
  {
   "cell_type": "code",
   "execution_count": 10,
   "metadata": {},
   "outputs": [
    {
     "data": {
      "text/plain": [
       "Hugo_Symbol  Variant_Classification  Donor_ID\n",
       "ACVRL1       Silent                  DO52501     g.chr12:52307539C>T\n",
       "                                     DO10809     g.chr12:52307549T>C\n",
       "                                     DO50416     g.chr12:52314611G>A\n",
       "Name: Genome_Change, dtype: object"
      ]
     },
     "execution_count": 10,
     "metadata": {},
     "output_type": "execute_result"
    }
   ],
   "source": [
    "df_all.loc[pd.IndexSlice[gene_name, :,donor_list],'Genome_Change']"
   ]
  },
  {
   "cell_type": "markdown",
   "metadata": {},
   "source": [
    "<span style=\"color:blue\">**CNV**</span>.\n"
   ]
  },
  {
   "cell_type": "code",
   "execution_count": 14,
   "metadata": {},
   "outputs": [
    {
     "name": "stdout",
     "output_type": "stream",
     "text": [
      "                               54319e3d-c28f-4ba1-9c87-299d303e4de3\n",
      "Gene Symbol Locus ID Cytoband                                      \n",
      "ACVRL1      94       12q13.13                                   2.0\n",
      "                               ad007b59-46f6-48b9-958a-2b9d28cca3b7\n",
      "Gene Symbol Locus ID Cytoband                                      \n",
      "ACVRL1      94       12q13.13                                   2.0\n",
      "                               f9c1df10-25b8-c8ae-e040-11ac0d486375\n",
      "Gene Symbol Locus ID Cytoband                                      \n",
      "ACVRL1      94       12q13.13                                   2.0\n"
     ]
    }
   ],
   "source": [
    "cnv = get_cnv(donor_list, gene_name)"
   ]
  },
  {
   "cell_type": "markdown",
   "metadata": {},
   "source": [
    "<span style=\"color:blue\">**Expression PCAWG**</span>.\n"
   ]
  },
  {
   "cell_type": "code",
   "execution_count": 15,
   "metadata": {},
   "outputs": [
    {
     "name": "stderr",
     "output_type": "stream",
     "text": [
      "/opt/aci/sw/anaconda3/2020.07_gcc-4.8.5-bzb/lib/python3.8/site-packages/IPython/core/interactiveshell.py:3343: DtypeWarning: Columns (17,24) have mixed types.Specify dtype option on import or set low_memory=False.\n",
      "  exec(code_obj, self.user_global_ns, self.user_ns)\n"
     ]
    },
    {
     "name": "stdout",
     "output_type": "stream",
     "text": [
      "Number of normal patient: 1\n",
      "Number of synonymous patients: 0\n",
      "Number of other tumor patients:19\n",
      "test statistic:0.0,p-value:0.0\n"
     ]
    },
    {
     "name": "stderr",
     "output_type": "stream",
     "text": [
      "/opt/aci/sw/anaconda3/2020.07_gcc-4.8.5-bzb/lib/python3.8/site-packages/scipy/stats/stats.py:7039: RuntimeWarning: divide by zero encountered in double_scalars\n",
      "  z = (bigu - meanrank) / sd\n"
     ]
    },
    {
     "data": {
      "image/png": "[encoded data removed]",
      "text/plain": [
       "<Figure size 360x216 with 1 Axes>"
      ]
     },
     "metadata": {
      "needs_background": "light"
     },
     "output_type": "display_data"
    }
   ],
   "source": [
    "get_expression(gene_name)"
   ]
  },
  {
   "cell_type": "markdown",
   "metadata": {},
   "source": [
    "<span style=\"color:blue\">**CRISPR**</span>.\n"
   ]
  },
  {
   "cell_type": "code",
   "execution_count": 17,
   "metadata": {},
   "outputs": [
    {
     "name": "stdout",
     "output_type": "stream",
     "text": [
      "['Prostate Adenocarcinoma' 'Prostate Hyperplasia']\n"
     ]
    }
   ],
   "source": [
    "get_lineage(gene_name, 'Prostate')"
   ]
  },
  {
   "cell_type": "code",
   "execution_count": 18,
   "metadata": {},
   "outputs": [
    {
     "name": "stdout",
     "output_type": "stream",
     "text": [
      "5 in histology subtype\n",
      "984 not in histology subtype\n",
      "test statistic:1655.0,    p-value:0.1033\n",
      "test statistic:2276.0,    p-value:0.3864\n"
     ]
    },
    {
     "data": {
      "image/png": "[encoded data removed]",
      "text/plain": [
       "<Figure size 360x216 with 1 Axes>"
      ]
     },
     "metadata": {
      "needs_background": "light"
     },
     "output_type": "display_data"
    },
    {
     "data": {
      "image/png": "[encoded data removed]",
      "text/plain": [
       "<Figure size 360x216 with 1 Axes>"
      ]
     },
     "metadata": {
      "needs_background": "light"
     },
     "output_type": "display_data"
    }
   ],
   "source": [
    "get_CERES(gene_name, 'Prostate Adenocarcinoma')"
   ]
  },
  {
   "cell_type": "markdown",
   "metadata": {},
   "source": [
    "<span style=\"color:blue\">**Alternative Splicing**</span>  "
   ]
  },
  {
   "cell_type": "code",
   "execution_count": 5,
   "metadata": {},
   "outputs": [],
   "source": [
    "dir_splice = '../../anno_ref/ICGC/alternative_splicing'\n",
    "exp_dir = '../../anno_ref/ICGC/pcawg_rnaseq/'\n",
    "# Read aliquot id information\n",
    "df_exp_info = pd.read_csv(os.path.join(exp_dir,'rnaseq.metadata.tsv'), sep = '\\t')"
   ]
  },
  {
   "cell_type": "code",
   "execution_count": 13,
   "metadata": {},
   "outputs": [
    {
     "name": "stdout",
     "output_type": "stream",
     "text": [
      "DO52501 is not in PCAWG transcriptome analysis\n",
      "DO10809 is not in PCAWG transcriptome analysis\n",
      "DO50416 is not in PCAWG transcriptome analysis\n"
     ]
    }
   ],
   "source": [
    "### If patient is in the splicing file(transcriptome analysis info)\n",
    "for donor in donor_list:\n",
    "    tumor_id = df_exp_info[df_exp_info['icgc_donor_id'] == donor]['aliquot_id']\n",
    "    if len(tumor_id) ==0:\n",
    "        print(f'{donor} is not in PCAWG transcriptome analysis')"
   ]
  }
 ],
 "metadata": {
  "kernelspec": {
   "display_name": "Python 3",
   "language": "python",
   "name": "python3"
  },
  "language_info": {
   "codemirror_mode": {
    "name": "ipython",
    "version": 3
   },
   "file_extension": ".py",
   "mimetype": "text/x-python",
   "name": "python",
   "nbconvert_exporter": "python",
   "pygments_lexer": "ipython3",
   "version": "3.8.3"
  }
 },
 "nbformat": 4,
 "nbformat_minor": 4
}
