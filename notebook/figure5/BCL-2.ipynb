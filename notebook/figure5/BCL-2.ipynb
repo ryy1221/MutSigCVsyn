{
 "cells": [
  {
   "cell_type": "code",
   "execution_count": 1,
   "metadata": {},
   "outputs": [],
   "source": [
    "### This is a gene specific analysis notebook\n",
    "from candidate_utils import *"
   ]
  },
  {
   "cell_type": "code",
   "execution_count": 2,
   "metadata": {},
   "outputs": [],
   "source": [
    "%load_ext autoreload\n",
    "%autoreload 2"
   ]
  },
  {
   "cell_type": "code",
   "execution_count": 3,
   "metadata": {},
   "outputs": [],
   "source": [
    "# Gene-transcript dict\n",
    "dict_name = pickle.load(open(os.path.join(dir_refs,'dict_name_forcov_062121.pkl'), 'rb'))"
   ]
  },
  {
   "cell_type": "code",
   "execution_count": 5,
   "metadata": {},
   "outputs": [],
   "source": [
    "gene_name = 'BCL2'"
   ]
  },
  {
   "cell_type": "code",
   "execution_count": 6,
   "metadata": {},
   "outputs": [
    {
     "name": "stdout",
     "output_type": "stream",
     "text": [
      "ENST00000398117\n"
     ]
    }
   ],
   "source": [
    "# Find transcript for the gene\n",
    "for transcript,gene in dict_name.items():\n",
    "    if gene == gene_name:\n",
    "        print(transcript)"
   ]
  },
  {
   "cell_type": "markdown",
   "metadata": {},
   "source": [
    "<span style=\"color:blue\">**The histology subtypes of patients with the mutation**</span>.\n"
   ]
  },
  {
   "cell_type": "code",
   "execution_count": 7,
   "metadata": {},
   "outputs": [
    {
     "name": "stderr",
     "output_type": "stream",
     "text": [
      "/opt/aci/sw/anaconda3/2020.07_gcc-4.8.5-bzb/lib/python3.8/site-packages/IPython/core/interactiveshell.py:3263: DtypeWarning: Columns (1,17,33,34,35,36) have mixed types.Specify dtype option on import or set low_memory=False.\n",
      "  if (await self.run_code(code, result,  async_=asy)):\n"
     ]
    }
   ],
   "source": [
    "df_str, df_num = get_num_str(gene_name)"
   ]
  },
  {
   "cell_type": "code",
   "execution_count": 8,
   "metadata": {},
   "outputs": [
    {
     "data": {
      "text/plain": [
       "\"{'Follicular lymphoma, grade 1': 16, 'Marginal zone B-cell lymphoma, NOS': 1, 'ML, large B-cell, diffuse': 7, 'Follicular lymphoma, grade 3': 2}\""
      ]
     },
     "execution_count": 8,
     "metadata": {},
     "output_type": "execute_result"
    }
   ],
   "source": [
    "df_str.loc['syn', 'tumour_histological_type']"
   ]
  },
  {
   "cell_type": "code",
   "execution_count": 10,
   "metadata": {},
   "outputs": [
    {
     "data": {
      "text/plain": [
       "\"{'Burkitt lymphoma, NOS': 17, 'Follicular lymphoma, grade 1': 27, 'Follicular lymphoma, grade 2': 4, 'ML, large B-cell, diffuse': 48, 'Marginal zone B-cell lymphoma, NOS': 2, 'Malignant lymphoma, NOS': 2, 'Follicular lymphoma, grade 3': 5, 'Mediastinal large B-cell lymphoma': 1, 'Post transplant lymphoproliferative disorder, NOS': 1}\""
      ]
     },
     "execution_count": 10,
     "metadata": {},
     "output_type": "execute_result"
    }
   ],
   "source": [
    "df_str.loc['all', 'tumour_histological_type']"
   ]
  },
  {
   "cell_type": "code",
   "execution_count": 9,
   "metadata": {},
   "outputs": [
    {
     "data": {
      "text/html": [
       "<div>\n",
       "<style scoped>\n",
       "    .dataframe tbody tr th:only-of-type {\n",
       "        vertical-align: middle;\n",
       "    }\n",
       "\n",
       "    .dataframe tbody tr th {\n",
       "        vertical-align: top;\n",
       "    }\n",
       "\n",
       "    .dataframe thead th {\n",
       "        text-align: right;\n",
       "    }\n",
       "</style>\n",
       "<table border=\"1\" class=\"dataframe\">\n",
       "  <thead>\n",
       "    <tr style=\"text-align: right;\">\n",
       "      <th></th>\n",
       "      <th></th>\n",
       "      <th>SV.events</th>\n",
       "      <th>Coding.SNVs</th>\n",
       "      <th>Non.coding.SNVs</th>\n",
       "      <th>CNA.events..do_not_use.</th>\n",
       "      <th>Retrotransposon.insertions</th>\n",
       "      <th>Mitochondrial.mutations</th>\n",
       "      <th>all.Indels</th>\n",
       "    </tr>\n",
       "    <tr>\n",
       "      <th>mut_status</th>\n",
       "      <th></th>\n",
       "      <th></th>\n",
       "      <th></th>\n",
       "      <th></th>\n",
       "      <th></th>\n",
       "      <th></th>\n",
       "      <th></th>\n",
       "      <th></th>\n",
       "    </tr>\n",
       "  </thead>\n",
       "  <tbody>\n",
       "    <tr>\n",
       "      <th rowspan=\"8\" valign=\"top\">syn</th>\n",
       "      <th>count</th>\n",
       "      <td>26.000000</td>\n",
       "      <td>26.000000</td>\n",
       "      <td>26.000000</td>\n",
       "      <td>26.000000</td>\n",
       "      <td>26.000000</td>\n",
       "      <td>26.000000</td>\n",
       "      <td>26.000000</td>\n",
       "    </tr>\n",
       "    <tr>\n",
       "      <th>mean</th>\n",
       "      <td>39.192308</td>\n",
       "      <td>83.269231</td>\n",
       "      <td>9317.192308</td>\n",
       "      <td>168.692308</td>\n",
       "      <td>0.115385</td>\n",
       "      <td>2.038462</td>\n",
       "      <td>696.923077</td>\n",
       "    </tr>\n",
       "    <tr>\n",
       "      <th>std</th>\n",
       "      <td>51.325642</td>\n",
       "      <td>41.430962</td>\n",
       "      <td>5833.535059</td>\n",
       "      <td>98.882868</td>\n",
       "      <td>0.431455</td>\n",
       "      <td>1.660862</td>\n",
       "      <td>435.344362</td>\n",
       "    </tr>\n",
       "    <tr>\n",
       "      <th>min</th>\n",
       "      <td>3.000000</td>\n",
       "      <td>34.000000</td>\n",
       "      <td>3866.000000</td>\n",
       "      <td>80.000000</td>\n",
       "      <td>0.000000</td>\n",
       "      <td>0.000000</td>\n",
       "      <td>252.000000</td>\n",
       "    </tr>\n",
       "    <tr>\n",
       "      <th>25%</th>\n",
       "      <td>9.250000</td>\n",
       "      <td>53.250000</td>\n",
       "      <td>5298.000000</td>\n",
       "      <td>107.500000</td>\n",
       "      <td>0.000000</td>\n",
       "      <td>1.000000</td>\n",
       "      <td>367.750000</td>\n",
       "    </tr>\n",
       "    <tr>\n",
       "      <th>50%</th>\n",
       "      <td>19.000000</td>\n",
       "      <td>72.000000</td>\n",
       "      <td>8283.500000</td>\n",
       "      <td>136.500000</td>\n",
       "      <td>0.000000</td>\n",
       "      <td>2.000000</td>\n",
       "      <td>594.500000</td>\n",
       "    </tr>\n",
       "    <tr>\n",
       "      <th>75%</th>\n",
       "      <td>46.000000</td>\n",
       "      <td>110.000000</td>\n",
       "      <td>10882.750000</td>\n",
       "      <td>191.500000</td>\n",
       "      <td>0.000000</td>\n",
       "      <td>3.000000</td>\n",
       "      <td>899.500000</td>\n",
       "    </tr>\n",
       "    <tr>\n",
       "      <th>max</th>\n",
       "      <td>244.000000</td>\n",
       "      <td>187.000000</td>\n",
       "      <td>31510.000000</td>\n",
       "      <td>553.000000</td>\n",
       "      <td>2.000000</td>\n",
       "      <td>5.000000</td>\n",
       "      <td>2041.000000</td>\n",
       "    </tr>\n",
       "    <tr>\n",
       "      <th rowspan=\"8\" valign=\"top\">all</th>\n",
       "      <th>count</th>\n",
       "      <td>107.000000</td>\n",
       "      <td>107.000000</td>\n",
       "      <td>107.000000</td>\n",
       "      <td>107.000000</td>\n",
       "      <td>107.000000</td>\n",
       "      <td>107.000000</td>\n",
       "      <td>107.000000</td>\n",
       "    </tr>\n",
       "    <tr>\n",
       "      <th>mean</th>\n",
       "      <td>53.971963</td>\n",
       "      <td>102.551402</td>\n",
       "      <td>11760.000000</td>\n",
       "      <td>200.887850</td>\n",
       "      <td>0.588785</td>\n",
       "      <td>2.037383</td>\n",
       "      <td>869.457944</td>\n",
       "    </tr>\n",
       "    <tr>\n",
       "      <th>std</th>\n",
       "      <td>126.737171</td>\n",
       "      <td>125.078785</td>\n",
       "      <td>14016.428355</td>\n",
       "      <td>260.838536</td>\n",
       "      <td>4.365286</td>\n",
       "      <td>1.704186</td>\n",
       "      <td>1101.120170</td>\n",
       "    </tr>\n",
       "    <tr>\n",
       "      <th>min</th>\n",
       "      <td>0.000000</td>\n",
       "      <td>11.000000</td>\n",
       "      <td>1581.000000</td>\n",
       "      <td>79.000000</td>\n",
       "      <td>0.000000</td>\n",
       "      <td>0.000000</td>\n",
       "      <td>60.000000</td>\n",
       "    </tr>\n",
       "    <tr>\n",
       "      <th>25%</th>\n",
       "      <td>9.000000</td>\n",
       "      <td>37.500000</td>\n",
       "      <td>3986.500000</td>\n",
       "      <td>109.500000</td>\n",
       "      <td>0.000000</td>\n",
       "      <td>1.000000</td>\n",
       "      <td>273.500000</td>\n",
       "    </tr>\n",
       "    <tr>\n",
       "      <th>50%</th>\n",
       "      <td>21.000000</td>\n",
       "      <td>63.000000</td>\n",
       "      <td>7395.000000</td>\n",
       "      <td>136.000000</td>\n",
       "      <td>0.000000</td>\n",
       "      <td>2.000000</td>\n",
       "      <td>503.000000</td>\n",
       "    </tr>\n",
       "    <tr>\n",
       "      <th>75%</th>\n",
       "      <td>54.500000</td>\n",
       "      <td>117.000000</td>\n",
       "      <td>14662.500000</td>\n",
       "      <td>202.500000</td>\n",
       "      <td>0.000000</td>\n",
       "      <td>3.000000</td>\n",
       "      <td>1187.500000</td>\n",
       "    </tr>\n",
       "    <tr>\n",
       "      <th>max</th>\n",
       "      <td>1226.000000</td>\n",
       "      <td>1072.000000</td>\n",
       "      <td>111457.000000</td>\n",
       "      <td>2632.000000</td>\n",
       "      <td>45.000000</td>\n",
       "      <td>8.000000</td>\n",
       "      <td>9421.000000</td>\n",
       "    </tr>\n",
       "  </tbody>\n",
       "</table>\n",
       "</div>"
      ],
      "text/plain": [
       "                    SV.events  Coding.SNVs  Non.coding.SNVs  \\\n",
       "mut_status                                                    \n",
       "syn        count    26.000000    26.000000        26.000000   \n",
       "           mean     39.192308    83.269231      9317.192308   \n",
       "           std      51.325642    41.430962      5833.535059   \n",
       "           min       3.000000    34.000000      3866.000000   \n",
       "           25%       9.250000    53.250000      5298.000000   \n",
       "           50%      19.000000    72.000000      8283.500000   \n",
       "           75%      46.000000   110.000000     10882.750000   \n",
       "           max     244.000000   187.000000     31510.000000   \n",
       "all        count   107.000000   107.000000       107.000000   \n",
       "           mean     53.971963   102.551402     11760.000000   \n",
       "           std     126.737171   125.078785     14016.428355   \n",
       "           min       0.000000    11.000000      1581.000000   \n",
       "           25%       9.000000    37.500000      3986.500000   \n",
       "           50%      21.000000    63.000000      7395.000000   \n",
       "           75%      54.500000   117.000000     14662.500000   \n",
       "           max    1226.000000  1072.000000    111457.000000   \n",
       "\n",
       "                  CNA.events..do_not_use.  Retrotransposon.insertions  \\\n",
       "mut_status                                                              \n",
       "syn        count                26.000000                   26.000000   \n",
       "           mean                168.692308                    0.115385   \n",
       "           std                  98.882868                    0.431455   \n",
       "           min                  80.000000                    0.000000   \n",
       "           25%                 107.500000                    0.000000   \n",
       "           50%                 136.500000                    0.000000   \n",
       "           75%                 191.500000                    0.000000   \n",
       "           max                 553.000000                    2.000000   \n",
       "all        count               107.000000                  107.000000   \n",
       "           mean                200.887850                    0.588785   \n",
       "           std                 260.838536                    4.365286   \n",
       "           min                  79.000000                    0.000000   \n",
       "           25%                 109.500000                    0.000000   \n",
       "           50%                 136.000000                    0.000000   \n",
       "           75%                 202.500000                    0.000000   \n",
       "           max                2632.000000                   45.000000   \n",
       "\n",
       "                  Mitochondrial.mutations   all.Indels  \n",
       "mut_status                                              \n",
       "syn        count                26.000000    26.000000  \n",
       "           mean                  2.038462   696.923077  \n",
       "           std                   1.660862   435.344362  \n",
       "           min                   0.000000   252.000000  \n",
       "           25%                   1.000000   367.750000  \n",
       "           50%                   2.000000   594.500000  \n",
       "           75%                   3.000000   899.500000  \n",
       "           max                   5.000000  2041.000000  \n",
       "all        count               107.000000   107.000000  \n",
       "           mean                  2.037383   869.457944  \n",
       "           std                   1.704186  1101.120170  \n",
       "           min                   0.000000    60.000000  \n",
       "           25%                   1.000000   273.500000  \n",
       "           50%                   2.000000   503.000000  \n",
       "           75%                   3.000000  1187.500000  \n",
       "           max                   8.000000  9421.000000  "
      ]
     },
     "execution_count": 9,
     "metadata": {},
     "output_type": "execute_result"
    }
   ],
   "source": [
    "df_num"
   ]
  },
  {
   "cell_type": "markdown",
   "metadata": {},
   "source": [
    "<span style=\"color:blue\">**Mutation**</span>.\n"
   ]
  },
  {
   "cell_type": "code",
   "execution_count": 11,
   "metadata": {},
   "outputs": [
    {
     "name": "stderr",
     "output_type": "stream",
     "text": [
      "/opt/aci/sw/anaconda3/2020.07_gcc-4.8.5-bzb/lib/python3.8/site-packages/IPython/core/interactiveshell.py:3263: DtypeWarning: Columns (1,17,33,34,35,36) have mixed types.Specify dtype option on import or set low_memory=False.\n",
      "  if (await self.run_code(code, result,  async_=asy)):\n"
     ]
    },
    {
     "name": "stdout",
     "output_type": "stream",
     "text": [
      "Total 107 patients\n",
      "26 patients have synonymous mutations, they are: ['DO27805', 'DO52651', 'DO52671', 'DO52685', 'DO52695', 'DO27857', 'DO52690', 'DO52652', 'DO27859', 'DO27809', 'DO52693', 'DO52694', 'DO52664', 'DO27773', 'DO52650', 'DO52677', 'DO52663', 'DO52647', 'DO27801', 'DO27797', 'DO52653', 'DO52689', 'DO52669', 'DO27781', 'DO27785', 'DO52655']\n",
      "18:g.60985471G>A\n",
      "18:g.60985492C>T\n",
      "18:g.60985573G>A\n",
      "18:g.60985366A>G\n",
      "18:g.60985435C>T\n",
      "18:g.60985834C>T\n",
      "18:g.60985876C>A\n",
      "18:g.60985834C>T\n",
      "18:g.60985833G>A\n",
      "18:g.60985359G>A\n",
      "18:g.60985366A>T\n",
      "18:g.60985861C>T\n",
      "18:g.60985833G>A\n",
      "18:g.60985834C>T\n",
      "18:g.60985549G>A\n",
      "18:g.60985711C>A\n",
      "18:g.60985549G>A\n",
      "18:g.60985876C>T\n",
      "18:g.60985528G>A\n",
      "18:g.60985834C>T\n",
      "18:g.60985540G>A\n",
      "18:g.60985713G>T\n",
      "18:g.60985363C>T\n",
      "18:g.60985417G>A\n",
      "18:g.60985717T>C\n",
      "18:g.60985795C>G\n",
      "18:g.60985876C>G\n",
      "18:g.60985492C>T\n",
      "18:g.60985582G>A\n",
      "18:g.60985753G>A\n",
      "18:g.60985384G>A\n",
      "18:g.60985545G>A\n",
      "18:g.60985738C>T\n",
      "18:g.60985615C>T\n",
      "18:g.60985834C>T\n",
      "18:g.60985435C>T\n",
      "18:g.60985444C>T\n",
      "18:g.60985867G>A\n",
      "18:g.60985735G>A\n",
      "18:g.60985444C>T\n",
      "18:g.60985714G>A\n"
     ]
    }
   ],
   "source": [
    "df_all, df_mut, donor_list = get_mut(gene_name)"
   ]
  },
  {
   "cell_type": "code",
   "execution_count": 12,
   "metadata": {},
   "outputs": [
    {
     "data": {
      "text/plain": [
       "Hugo_Symbol  Variant_Classification  Donor_ID\n",
       "BCL2         Intron                  DO27805                         g.chr18:60811577G>T\n",
       "                                     DO27805                         g.chr18:60984530T>C\n",
       "                                     DO27805                         g.chr18:60984840G>A\n",
       "                                     DO27805                         g.chr18:60985097C>T\n",
       "                                     DO27805                         g.chr18:60985100G>A\n",
       "                                                                  ...                   \n",
       "             5'Flank                 DO52655                         g.chr18:60988444T>G\n",
       "                                     DO52655                         g.chr18:60988451A>T\n",
       "             Intron                  DO52655            g.chr18:60796845_60796848delTTTG\n",
       "             5'UTR                   DO52655                        g.chr18:60986215delA\n",
       "             5'Flank                 DO52655     g.chr18:60988219_60988229delCGTGGTGTTTA\n",
       "Name: Genome_Change, Length: 961, dtype: object"
      ]
     },
     "execution_count": 12,
     "metadata": {},
     "output_type": "execute_result"
    }
   ],
   "source": [
    "df_all.loc[pd.IndexSlice[gene_name, :,donor_list],'Genome_Change']"
   ]
  },
  {
   "cell_type": "markdown",
   "metadata": {},
   "source": [
    "<span style=\"color:blue\">**CNV**</span>.\n"
   ]
  },
  {
   "cell_type": "code",
   "execution_count": 13,
   "metadata": {},
   "outputs": [
    {
     "name": "stdout",
     "output_type": "stream",
     "text": [
      "                               068f4f69-d2fe-4f25-912e-ca7d4623efb6\n",
      "Gene Symbol Locus ID Cytoband                                      \n",
      "BCL2        596      18q21.33                                   2.0\n",
      "                               07835447-5d7e-4828-80fd-89b063989c9a\n",
      "Gene Symbol Locus ID Cytoband                                      \n",
      "BCL2        596      18q21.33                                   3.0\n",
      "                               0d569bd5-418d-4d72-87ca-8e14668c2119\n",
      "Gene Symbol Locus ID Cytoband                                      \n",
      "BCL2        596      18q21.33                                   2.0\n",
      "                               15678c3d-ce61-454d-849e-1d4ca358909b\n",
      "Gene Symbol Locus ID Cytoband                                      \n",
      "BCL2        596      18q21.33                                   2.0\n",
      "                               1d1eeba2-4d7b-4380-b0b6-26d246bc4158\n",
      "Gene Symbol Locus ID Cytoband                                      \n",
      "BCL2        596      18q21.33                                   2.0\n",
      "                               2c3ada8b-9650-4859-9857-43209c0f7cea\n",
      "Gene Symbol Locus ID Cytoband                                      \n",
      "BCL2        596      18q21.33                                   2.0\n",
      "                               3b55c58d-f95a-4a1d-9aa1-8d2c026656a9\n",
      "Gene Symbol Locus ID Cytoband                                      \n",
      "BCL2        596      18q21.33                                   2.0\n",
      "                               3e7ccab5-5b1d-4147-b907-77cab8f0837e\n",
      "Gene Symbol Locus ID Cytoband                                      \n",
      "BCL2        596      18q21.33                                   2.0\n",
      "                               3e94aa64-7dd3-4d63-a5de-b4050d3dfafa\n",
      "Gene Symbol Locus ID Cytoband                                      \n",
      "BCL2        596      18q21.33                                   3.0\n",
      "                               41dba8d1-8aad-474c-a82b-20b28ab818bd\n",
      "Gene Symbol Locus ID Cytoband                                      \n",
      "BCL2        596      18q21.33                                   2.0\n",
      "                               4e7e6e1f-c648-446f-bdf6-0b1fcc6dfa83\n",
      "Gene Symbol Locus ID Cytoband                                      \n",
      "BCL2        596      18q21.33                                   2.0\n",
      "                               56e57223-264e-489d-bc9a-a07789065c40\n",
      "Gene Symbol Locus ID Cytoband                                      \n",
      "BCL2        596      18q21.33                                   2.0\n",
      "                               626c9788-d70c-449b-b9dc-5e3f6fc00991\n",
      "Gene Symbol Locus ID Cytoband                                      \n",
      "BCL2        596      18q21.33                                   2.0\n",
      "                               81b4dd02-34ec-4ddc-8818-ed888a60ad88\n",
      "Gene Symbol Locus ID Cytoband                                      \n",
      "BCL2        596      18q21.33                                   2.0\n",
      "                               858631eb-4e91-4aad-809c-c3948519313d\n",
      "Gene Symbol Locus ID Cytoband                                      \n",
      "BCL2        596      18q21.33                                   4.0\n",
      "                               8fc11cb6-9d79-41c3-bb45-0dadda890e8d\n",
      "Gene Symbol Locus ID Cytoband                                      \n",
      "BCL2        596      18q21.33                                   2.0\n",
      "                               9b3e7a03-cf8c-4da8-bc36-20129d7783ba\n",
      "Gene Symbol Locus ID Cytoband                                      \n",
      "BCL2        596      18q21.33                                   2.0\n",
      "                               9e842227-2bc6-4185-bedb-abeb03836b51\n",
      "Gene Symbol Locus ID Cytoband                                      \n",
      "BCL2        596      18q21.33                                   2.0\n",
      "                               baa02e74-9cae-4996-858e-17d9f52d924b\n",
      "Gene Symbol Locus ID Cytoband                                      \n",
      "BCL2        596      18q21.33                                   2.0\n",
      "                               bd6bd940-ef06-433a-80d9-dca5683e9cd2\n",
      "Gene Symbol Locus ID Cytoband                                      \n",
      "BCL2        596      18q21.33                                   2.0\n",
      "                               e2b09705-c5c8-48ee-a90e-19648a7bf2cb\n",
      "Gene Symbol Locus ID Cytoband                                      \n",
      "BCL2        596      18q21.33                                   1.0\n",
      "                               ebe0ed67-2d3f-45cd-8f9b-4912595b16a0\n",
      "Gene Symbol Locus ID Cytoband                                      \n",
      "BCL2        596      18q21.33                                   2.0\n",
      "                               f047cb85-8f88-45d5-83c3-0416c9f3fff7\n",
      "Gene Symbol Locus ID Cytoband                                      \n",
      "BCL2        596      18q21.33                                   2.0\n",
      "                               f04aecf0-eb12-4ab9-928e-7bcf201b0b40\n",
      "Gene Symbol Locus ID Cytoband                                      \n",
      "BCL2        596      18q21.33                                   2.0\n",
      "                               f60007b3-0603-4ad1-8b47-d2d4c4c621e4\n",
      "Gene Symbol Locus ID Cytoband                                      \n",
      "BCL2        596      18q21.33                                   3.0\n",
      "                               fdf7dfb7-9285-46b3-be60-672164507705\n",
      "Gene Symbol Locus ID Cytoband                                      \n",
      "BCL2        596      18q21.33                                   2.0\n"
     ]
    }
   ],
   "source": [
    "cnv = get_cnv(donor_list, gene_name)"
   ]
  },
  {
   "cell_type": "markdown",
   "metadata": {},
   "source": [
    "<span style=\"color:blue\">**Expression PCAWG**</span>.\n"
   ]
  },
  {
   "cell_type": "code",
   "execution_count": 14,
   "metadata": {},
   "outputs": [
    {
     "name": "stderr",
     "output_type": "stream",
     "text": [
      "/opt/aci/sw/anaconda3/2020.07_gcc-4.8.5-bzb/lib/python3.8/site-packages/IPython/core/interactiveshell.py:3343: DtypeWarning: Columns (1,17,33,34,35,36) have mixed types.Specify dtype option on import or set low_memory=False.\n",
      "  exec(code_obj, self.user_global_ns, self.user_ns)\n"
     ]
    },
    {
     "name": "stdout",
     "output_type": "stream",
     "text": [
      "Number of normal patient: 0\n",
      "Number of synonymous patients: 26\n",
      "Number of other tumor patients:77\n",
      "test statistic:314.0,p-value:0.0\n"
     ]
    },
    {
     "data": {
      "image/png": "[encoded data removed]",
      "text/plain": [
       "<Figure size 360x216 with 1 Axes>"
      ]
     },
     "metadata": {
      "needs_background": "light"
     },
     "output_type": "display_data"
    }
   ],
   "source": [
    "get_expression(gene_name)"
   ]
  },
  {
   "cell_type": "markdown",
   "metadata": {},
   "source": [
    "<span style=\"color:blue\">**CRISPR**</span>.\n"
   ]
  },
  {
   "cell_type": "code",
   "execution_count": 16,
   "metadata": {},
   "outputs": [
    {
     "name": "stdout",
     "output_type": "stream",
     "text": [
      "['Lymphoma Unspecified' 'Non Hodgkin Lymphoma' 'Hodgkin Lymphoma' 'ATL']\n"
     ]
    }
   ],
   "source": [
    "get_lineage(gene_name, 'Lymphocyte')"
   ]
  },
  {
   "cell_type": "code",
   "execution_count": 17,
   "metadata": {},
   "outputs": [
    {
     "name": "stdout",
     "output_type": "stream",
     "text": [
      "21 in histology subtype\n",
      "968 not in histology subtype\n",
      "test statistic:9798.0,    p-value:0.3889\n",
      "test statistic:7564.5,    p-value:0.0224\n"
     ]
    },
    {
     "data": {
      "image/png": "[encoded data removed]",
      "text/plain": [
       "<Figure size 360x216 with 1 Axes>"
      ]
     },
     "metadata": {
      "needs_background": "light"
     },
     "output_type": "display_data"
    },
    {
     "data": {
      "image/png": "[encoded data removed]",
      "text/plain": [
       "<Figure size 360x216 with 1 Axes>"
      ]
     },
     "metadata": {
      "needs_background": "light"
     },
     "output_type": "display_data"
    }
   ],
   "source": [
    "# def get_CERES(gene, lineage):\n",
    "#     dir_depmap = './depmap'\n",
    "#     df_depmap = pd.read_csv(os.path.join(dir_depmap, gene+'_21Q2.csv'))\n",
    "#     df_depmap.columns = ['ID', 'CERES', 'Name', 'Primary Disease', 'Lineage', 'Lineage Subtype', 'Mutation']\n",
    "\n",
    "#     df_gene = df_depmap[df_depmap['Lineage Subtype'] == lineage]\n",
    "#     print(f'{len(df_gene)} in histology subtype')\n",
    "#     df_other = df_depmap[df_depmap['Lineage Subtype'] != lineage]\n",
    "#     print(f'{len(df_other)} not in histology subtype')\n",
    "#     df_all = pd.DataFrame({'inlineage':df_gene['CERES'],\n",
    "#                           'other':df_other['CERES']})\n",
    "#     df_all = df_all.melt()\n",
    "\n",
    "#     fig,ax = plt.subplots(figsize=(5,3))\n",
    "#     ax = sns.boxplot(x = 'variable', y = 'value', data = df_all)\n",
    "\n",
    "#     mannwhitneyu(df_gene['CERES'], df_other['CERES'])\n",
    "#     text = f'test statistic:{round(mannwhitneyu(df_gene[\"CERES\"], df_other[\"CERES\"])[0],4)},\\\n",
    "#     p-value:{round(mannwhitneyu(df_gene[\"CERES\"], df_other[\"CERES\"])[1],4)}'\n",
    "#     print(text)\n",
    "#     ax.set_title('CERES:'+lineage+'_'+gene+'_'+text)\n",
    "    \n",
    "#     # Expression\n",
    "#     df_all_exp = pd.DataFrame({'inlineage':df_gene['Expression'],\n",
    "#                       'other':df_other['Expression']})\n",
    "#     df_all_exp = df_all_exp.melt()\n",
    "#     fig,ax = plt.subplots(figsize=(5,3))\n",
    "#     ax = sns.boxplot(x = 'variable', y = 'value', data = df_all_exp)\n",
    "\n",
    "#     mannwhitneyu(df_gene['Expression'], df_other['Expression'])\n",
    "#     text = f'test statistic:{round(mannwhitneyu(df_gene[\"Expression\"], df_other[\"Expression\"])[0],4)},\\\n",
    "#     p-value:{round(mannwhitneyu(df_gene[\"Expression\"], df_other[\"Expression\"])[1],4)}'\n",
    "#     print(text)\n",
    "#     ax.set_title('DepMap Expression:'+lineage+'_'+gene+'_'+text)\n",
    "get_CERES(gene_name, 'Non Hodgkin Lymphoma')"
   ]
  },
  {
   "cell_type": "markdown",
   "metadata": {},
   "source": [
    "<span style=\"color:blue\">**Alternative Splicing**</span>  "
   ]
  },
  {
   "cell_type": "code",
   "execution_count": 21,
   "metadata": {},
   "outputs": [],
   "source": [
    "dir_splice = '../../anno_ref/ICGC/alternative_splicing'\n",
    "exp_dir = '../../anno_ref/ICGC/pcawg_rnaseq/'\n",
    "# Read aliquot id information\n",
    "df_exp_info = pd.read_csv(os.path.join(exp_dir,'rnaseq.metadata.tsv'), sep = '\\t')"
   ]
  },
  {
   "cell_type": "code",
   "execution_count": 16,
   "metadata": {},
   "outputs": [
    {
     "name": "stdout",
     "output_type": "stream",
     "text": [
      "DO50345 is not in PCAWG transcriptome analysis\n",
      "DO50326 is not in PCAWG transcriptome analysis\n",
      "DO50387 is not in PCAWG transcriptome analysis\n",
      "DO50401 is not in PCAWG transcriptome analysis\n",
      "DO50337 is not in PCAWG transcriptome analysis\n"
     ]
    }
   ],
   "source": [
    "### If patient is in the splicing file(transcriptome analysis info)\n",
    "for donor in donor_list:\n",
    "    tumor_id = df_exp_info[df_exp_info['icgc_donor_id'] == donor]['aliquot_id']\n",
    "    if len(tumor_id) ==0:\n",
    "        print(f'{donor} is not in PCAWG transcriptome analysis')"
   ]
  }
 ],
 "metadata": {
  "kernelspec": {
   "display_name": "Python 3",
   "language": "python",
   "name": "python3"
  },
  "language_info": {
   "codemirror_mode": {
    "name": "ipython",
    "version": 3
   },
   "file_extension": ".py",
   "mimetype": "text/x-python",
   "name": "python",
   "nbconvert_exporter": "python",
   "pygments_lexer": "ipython3",
   "version": "3.8.3"
  }
 },
 "nbformat": 4,
 "nbformat_minor": 4
}
