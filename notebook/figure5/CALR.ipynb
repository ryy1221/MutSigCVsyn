{
 "cells": [
  {
   "cell_type": "code",
   "execution_count": 60,
   "metadata": {},
   "outputs": [],
   "source": [
    "### This is a gene specific analysis notebook\n",
    "from candidate_utils import *"
   ]
  },
  {
   "cell_type": "code",
   "execution_count": 61,
   "metadata": {},
   "outputs": [
    {
     "name": "stdout",
     "output_type": "stream",
     "text": [
      "The autoreload extension is already loaded. To reload it, use:\n",
      "  %reload_ext autoreload\n"
     ]
    }
   ],
   "source": [
    "%load_ext autoreload\n",
    "%autoreload 2"
   ]
  },
  {
   "cell_type": "code",
   "execution_count": 8,
   "metadata": {},
   "outputs": [],
   "source": [
    "# Gene-transcript dict\n",
    "dict_name = pickle.load(open(os.path.join(dir_refs,'dict_name_forcov_062121.pkl'), 'rb'))"
   ]
  },
  {
   "cell_type": "code",
   "execution_count": 9,
   "metadata": {},
   "outputs": [],
   "source": [
    "gene_name = 'CALR'"
   ]
  },
  {
   "cell_type": "code",
   "execution_count": 10,
   "metadata": {},
   "outputs": [
    {
     "name": "stdout",
     "output_type": "stream",
     "text": [
      "ENST00000316448\n"
     ]
    }
   ],
   "source": [
    "# Find transcript for the gene\n",
    "for transcript,gene in dict_name.items():\n",
    "    if gene == gene_name:\n",
    "        print(transcript)"
   ]
  },
  {
   "cell_type": "markdown",
   "metadata": {},
   "source": [
    "<span style=\"color:blue\">**The histology subtypes of patients with the mutation**</span>.\n"
   ]
  },
  {
   "cell_type": "code",
   "execution_count": 35,
   "metadata": {},
   "outputs": [],
   "source": [
    "df_str, df_num = get_num_str(gene_name)"
   ]
  },
  {
   "cell_type": "code",
   "execution_count": 36,
   "metadata": {},
   "outputs": [
    {
     "data": {
      "text/html": [
       "<div>\n",
       "<style scoped>\n",
       "    .dataframe tbody tr th:only-of-type {\n",
       "        vertical-align: middle;\n",
       "    }\n",
       "\n",
       "    .dataframe tbody tr th {\n",
       "        vertical-align: top;\n",
       "    }\n",
       "\n",
       "    .dataframe thead th {\n",
       "        text-align: right;\n",
       "    }\n",
       "</style>\n",
       "<table border=\"1\" class=\"dataframe\">\n",
       "  <thead>\n",
       "    <tr style=\"text-align: right;\">\n",
       "      <th></th>\n",
       "      <th>dcc_specimen_type</th>\n",
       "      <th>histology_tier3</th>\n",
       "      <th>histology_tier4</th>\n",
       "      <th>tumour_histological_type</th>\n",
       "      <th>tumour_stage</th>\n",
       "      <th>tumour_histological_comment</th>\n",
       "      <th>specimen_donor_treatment_type</th>\n",
       "    </tr>\n",
       "  </thead>\n",
       "  <tbody>\n",
       "    <tr>\n",
       "      <th>syn</th>\n",
       "      <td>{'Primary tumour - solid tissue': 1}</td>\n",
       "      <td>{'Adenocarcinoma': 1}</td>\n",
       "      <td>{'Serous cystadenocarcinoma': 1}</td>\n",
       "      <td>{'Serous cystadenocarcinoma, NOS': 1}</td>\n",
       "      <td>{nan: 1}</td>\n",
       "      <td>{nan: 1}</td>\n",
       "      <td>{nan: 1}</td>\n",
       "    </tr>\n",
       "    <tr>\n",
       "      <th>all</th>\n",
       "      <td>{'Primary tumour - solid tissue': 44}</td>\n",
       "      <td>{'Adenocarcinoma': 44}</td>\n",
       "      <td>{'Serous cystadenocarcinoma': 20, 'Adenocarcin...</td>\n",
       "      <td>{'Serous cystadenocarcinoma, NOS': 20, 'Endome...</td>\n",
       "      <td>{nan: 44}</td>\n",
       "      <td>{nan: 44}</td>\n",
       "      <td>{nan: 44}</td>\n",
       "    </tr>\n",
       "  </tbody>\n",
       "</table>\n",
       "</div>"
      ],
      "text/plain": [
       "                         dcc_specimen_type         histology_tier3  \\\n",
       "syn   {'Primary tumour - solid tissue': 1}   {'Adenocarcinoma': 1}   \n",
       "all  {'Primary tumour - solid tissue': 44}  {'Adenocarcinoma': 44}   \n",
       "\n",
       "                                       histology_tier4  \\\n",
       "syn                   {'Serous cystadenocarcinoma': 1}   \n",
       "all  {'Serous cystadenocarcinoma': 20, 'Adenocarcin...   \n",
       "\n",
       "                              tumour_histological_type tumour_stage  \\\n",
       "syn              {'Serous cystadenocarcinoma, NOS': 1}     {nan: 1}   \n",
       "all  {'Serous cystadenocarcinoma, NOS': 20, 'Endome...    {nan: 44}   \n",
       "\n",
       "    tumour_histological_comment specimen_donor_treatment_type  \n",
       "syn                    {nan: 1}                      {nan: 1}  \n",
       "all                   {nan: 44}                     {nan: 44}  "
      ]
     },
     "execution_count": 36,
     "metadata": {},
     "output_type": "execute_result"
    }
   ],
   "source": [
    "df_str"
   ]
  },
  {
   "cell_type": "code",
   "execution_count": 37,
   "metadata": {},
   "outputs": [
    {
     "data": {
      "text/html": [
       "<div>\n",
       "<style scoped>\n",
       "    .dataframe tbody tr th:only-of-type {\n",
       "        vertical-align: middle;\n",
       "    }\n",
       "\n",
       "    .dataframe tbody tr th {\n",
       "        vertical-align: top;\n",
       "    }\n",
       "\n",
       "    .dataframe thead th {\n",
       "        text-align: right;\n",
       "    }\n",
       "</style>\n",
       "<table border=\"1\" class=\"dataframe\">\n",
       "  <thead>\n",
       "    <tr style=\"text-align: right;\">\n",
       "      <th></th>\n",
       "      <th></th>\n",
       "      <th>SV.events</th>\n",
       "      <th>Coding.SNVs</th>\n",
       "      <th>Non.coding.SNVs</th>\n",
       "      <th>CNA.events..do_not_use.</th>\n",
       "      <th>Retrotransposon.insertions</th>\n",
       "      <th>Mitochondrial.mutations</th>\n",
       "      <th>all.Indels</th>\n",
       "    </tr>\n",
       "    <tr>\n",
       "      <th>mut_status</th>\n",
       "      <th></th>\n",
       "      <th></th>\n",
       "      <th></th>\n",
       "      <th></th>\n",
       "      <th></th>\n",
       "      <th></th>\n",
       "      <th></th>\n",
       "      <th></th>\n",
       "    </tr>\n",
       "  </thead>\n",
       "  <tbody>\n",
       "    <tr>\n",
       "      <th rowspan=\"8\" valign=\"top\">syn</th>\n",
       "      <th>count</th>\n",
       "      <td>1.000000</td>\n",
       "      <td>1.000000</td>\n",
       "      <td>1.000000</td>\n",
       "      <td>1.000000</td>\n",
       "      <td>1.000000</td>\n",
       "      <td>1.000000</td>\n",
       "      <td>1.000000</td>\n",
       "    </tr>\n",
       "    <tr>\n",
       "      <th>mean</th>\n",
       "      <td>291.000000</td>\n",
       "      <td>165.000000</td>\n",
       "      <td>13512.000000</td>\n",
       "      <td>919.000000</td>\n",
       "      <td>11.000000</td>\n",
       "      <td>1.000000</td>\n",
       "      <td>538.000000</td>\n",
       "    </tr>\n",
       "    <tr>\n",
       "      <th>std</th>\n",
       "      <td>NaN</td>\n",
       "      <td>NaN</td>\n",
       "      <td>NaN</td>\n",
       "      <td>NaN</td>\n",
       "      <td>NaN</td>\n",
       "      <td>NaN</td>\n",
       "      <td>NaN</td>\n",
       "    </tr>\n",
       "    <tr>\n",
       "      <th>min</th>\n",
       "      <td>291.000000</td>\n",
       "      <td>165.000000</td>\n",
       "      <td>13512.000000</td>\n",
       "      <td>919.000000</td>\n",
       "      <td>11.000000</td>\n",
       "      <td>1.000000</td>\n",
       "      <td>538.000000</td>\n",
       "    </tr>\n",
       "    <tr>\n",
       "      <th>25%</th>\n",
       "      <td>291.000000</td>\n",
       "      <td>165.000000</td>\n",
       "      <td>13512.000000</td>\n",
       "      <td>919.000000</td>\n",
       "      <td>11.000000</td>\n",
       "      <td>1.000000</td>\n",
       "      <td>538.000000</td>\n",
       "    </tr>\n",
       "    <tr>\n",
       "      <th>50%</th>\n",
       "      <td>291.000000</td>\n",
       "      <td>165.000000</td>\n",
       "      <td>13512.000000</td>\n",
       "      <td>919.000000</td>\n",
       "      <td>11.000000</td>\n",
       "      <td>1.000000</td>\n",
       "      <td>538.000000</td>\n",
       "    </tr>\n",
       "    <tr>\n",
       "      <th>75%</th>\n",
       "      <td>291.000000</td>\n",
       "      <td>165.000000</td>\n",
       "      <td>13512.000000</td>\n",
       "      <td>919.000000</td>\n",
       "      <td>11.000000</td>\n",
       "      <td>1.000000</td>\n",
       "      <td>538.000000</td>\n",
       "    </tr>\n",
       "    <tr>\n",
       "      <th>max</th>\n",
       "      <td>291.000000</td>\n",
       "      <td>165.000000</td>\n",
       "      <td>13512.000000</td>\n",
       "      <td>919.000000</td>\n",
       "      <td>11.000000</td>\n",
       "      <td>1.000000</td>\n",
       "      <td>538.000000</td>\n",
       "    </tr>\n",
       "    <tr>\n",
       "      <th rowspan=\"8\" valign=\"top\">all</th>\n",
       "      <th>count</th>\n",
       "      <td>42.000000</td>\n",
       "      <td>44.000000</td>\n",
       "      <td>44.000000</td>\n",
       "      <td>44.000000</td>\n",
       "      <td>44.000000</td>\n",
       "      <td>44.000000</td>\n",
       "      <td>44.000000</td>\n",
       "    </tr>\n",
       "    <tr>\n",
       "      <th>mean</th>\n",
       "      <td>189.690476</td>\n",
       "      <td>177.386364</td>\n",
       "      <td>19950.659091</td>\n",
       "      <td>535.500000</td>\n",
       "      <td>14.750000</td>\n",
       "      <td>2.931818</td>\n",
       "      <td>4509.681818</td>\n",
       "    </tr>\n",
       "    <tr>\n",
       "      <th>std</th>\n",
       "      <td>160.288382</td>\n",
       "      <td>301.980225</td>\n",
       "      <td>44733.102607</td>\n",
       "      <td>380.657112</td>\n",
       "      <td>28.151686</td>\n",
       "      <td>2.500211</td>\n",
       "      <td>13792.103413</td>\n",
       "    </tr>\n",
       "    <tr>\n",
       "      <th>min</th>\n",
       "      <td>0.000000</td>\n",
       "      <td>25.000000</td>\n",
       "      <td>2585.000000</td>\n",
       "      <td>95.000000</td>\n",
       "      <td>0.000000</td>\n",
       "      <td>0.000000</td>\n",
       "      <td>285.000000</td>\n",
       "    </tr>\n",
       "    <tr>\n",
       "      <th>25%</th>\n",
       "      <td>47.500000</td>\n",
       "      <td>51.500000</td>\n",
       "      <td>4251.500000</td>\n",
       "      <td>188.250000</td>\n",
       "      <td>2.000000</td>\n",
       "      <td>1.000000</td>\n",
       "      <td>435.750000</td>\n",
       "    </tr>\n",
       "    <tr>\n",
       "      <th>50%</th>\n",
       "      <td>188.500000</td>\n",
       "      <td>70.000000</td>\n",
       "      <td>6734.000000</td>\n",
       "      <td>525.500000</td>\n",
       "      <td>3.000000</td>\n",
       "      <td>2.000000</td>\n",
       "      <td>511.500000</td>\n",
       "    </tr>\n",
       "    <tr>\n",
       "      <th>75%</th>\n",
       "      <td>281.750000</td>\n",
       "      <td>146.500000</td>\n",
       "      <td>15116.250000</td>\n",
       "      <td>732.250000</td>\n",
       "      <td>11.500000</td>\n",
       "      <td>5.000000</td>\n",
       "      <td>745.250000</td>\n",
       "    </tr>\n",
       "    <tr>\n",
       "      <th>max</th>\n",
       "      <td>794.000000</td>\n",
       "      <td>1510.000000</td>\n",
       "      <td>280752.000000</td>\n",
       "      <td>1772.000000</td>\n",
       "      <td>141.000000</td>\n",
       "      <td>10.000000</td>\n",
       "      <td>66618.000000</td>\n",
       "    </tr>\n",
       "  </tbody>\n",
       "</table>\n",
       "</div>"
      ],
      "text/plain": [
       "                   SV.events  Coding.SNVs  Non.coding.SNVs  \\\n",
       "mut_status                                                   \n",
       "syn        count    1.000000     1.000000         1.000000   \n",
       "           mean   291.000000   165.000000     13512.000000   \n",
       "           std           NaN          NaN              NaN   \n",
       "           min    291.000000   165.000000     13512.000000   \n",
       "           25%    291.000000   165.000000     13512.000000   \n",
       "           50%    291.000000   165.000000     13512.000000   \n",
       "           75%    291.000000   165.000000     13512.000000   \n",
       "           max    291.000000   165.000000     13512.000000   \n",
       "all        count   42.000000    44.000000        44.000000   \n",
       "           mean   189.690476   177.386364     19950.659091   \n",
       "           std    160.288382   301.980225     44733.102607   \n",
       "           min      0.000000    25.000000      2585.000000   \n",
       "           25%     47.500000    51.500000      4251.500000   \n",
       "           50%    188.500000    70.000000      6734.000000   \n",
       "           75%    281.750000   146.500000     15116.250000   \n",
       "           max    794.000000  1510.000000    280752.000000   \n",
       "\n",
       "                  CNA.events..do_not_use.  Retrotransposon.insertions  \\\n",
       "mut_status                                                              \n",
       "syn        count                 1.000000                    1.000000   \n",
       "           mean                919.000000                   11.000000   \n",
       "           std                        NaN                         NaN   \n",
       "           min                 919.000000                   11.000000   \n",
       "           25%                 919.000000                   11.000000   \n",
       "           50%                 919.000000                   11.000000   \n",
       "           75%                 919.000000                   11.000000   \n",
       "           max                 919.000000                   11.000000   \n",
       "all        count                44.000000                   44.000000   \n",
       "           mean                535.500000                   14.750000   \n",
       "           std                 380.657112                   28.151686   \n",
       "           min                  95.000000                    0.000000   \n",
       "           25%                 188.250000                    2.000000   \n",
       "           50%                 525.500000                    3.000000   \n",
       "           75%                 732.250000                   11.500000   \n",
       "           max                1772.000000                  141.000000   \n",
       "\n",
       "                  Mitochondrial.mutations    all.Indels  \n",
       "mut_status                                               \n",
       "syn        count                 1.000000      1.000000  \n",
       "           mean                  1.000000    538.000000  \n",
       "           std                        NaN           NaN  \n",
       "           min                   1.000000    538.000000  \n",
       "           25%                   1.000000    538.000000  \n",
       "           50%                   1.000000    538.000000  \n",
       "           75%                   1.000000    538.000000  \n",
       "           max                   1.000000    538.000000  \n",
       "all        count                44.000000     44.000000  \n",
       "           mean                  2.931818   4509.681818  \n",
       "           std                   2.500211  13792.103413  \n",
       "           min                   0.000000    285.000000  \n",
       "           25%                   1.000000    435.750000  \n",
       "           50%                   2.000000    511.500000  \n",
       "           75%                   5.000000    745.250000  \n",
       "           max                  10.000000  66618.000000  "
      ]
     },
     "execution_count": 37,
     "metadata": {},
     "output_type": "execute_result"
    }
   ],
   "source": [
    "df_num"
   ]
  },
  {
   "cell_type": "markdown",
   "metadata": {},
   "source": [
    "<span style=\"color:blue\">**Mutation**</span>.\n"
   ]
  },
  {
   "cell_type": "code",
   "execution_count": 38,
   "metadata": {},
   "outputs": [
    {
     "name": "stderr",
     "output_type": "stream",
     "text": [
      "/opt/aci/sw/anaconda3/2020.07_gcc-4.8.5-bzb/lib/python3.8/site-packages/IPython/core/interactiveshell.py:3263: DtypeWarning: Columns (1,17,24,28,33,34,35,36) have mixed types.Specify dtype option on import or set low_memory=False.\n",
      "  if (await self.run_code(code, result,  async_=asy)):\n"
     ]
    },
    {
     "name": "stdout",
     "output_type": "stream",
     "text": [
      "Total 43 patients\n",
      "1 patients have synonymous mutations, they are: ['DO41217']\n",
      "19:g.13051179C>T\n",
      "19:g.13051188A>C\n",
      "19:g.13051197T>G\n"
     ]
    }
   ],
   "source": [
    "df_all, df_mut, donor_list = get_mut(gene_name)"
   ]
  },
  {
   "cell_type": "code",
   "execution_count": 39,
   "metadata": {},
   "outputs": [
    {
     "data": {
      "text/plain": [
       "Hugo_Symbol  Variant_Classification  Donor_ID\n",
       "CALR         Silent                  DO41217     g.chr19:13051179C>T\n",
       "                                     DO41217     g.chr19:13051188A>C\n",
       "                                     DO41217     g.chr19:13051197T>G\n",
       "             Missense_Mutation       DO41217     g.chr19:13051215A>C\n",
       "Name: Genome_Change, dtype: object"
      ]
     },
     "execution_count": 39,
     "metadata": {},
     "output_type": "execute_result"
    }
   ],
   "source": [
    "df_all.loc[pd.IndexSlice[gene_name, :,donor_list],'Genome_Change']"
   ]
  },
  {
   "cell_type": "markdown",
   "metadata": {},
   "source": [
    "<span style=\"color:blue\">**CNV**</span>.\n"
   ]
  },
  {
   "cell_type": "code",
   "execution_count": 51,
   "metadata": {},
   "outputs": [
    {
     "data": {
      "text/html": [
       "<div>\n",
       "<style scoped>\n",
       "    .dataframe tbody tr th:only-of-type {\n",
       "        vertical-align: middle;\n",
       "    }\n",
       "\n",
       "    .dataframe tbody tr th {\n",
       "        vertical-align: top;\n",
       "    }\n",
       "\n",
       "    .dataframe thead th {\n",
       "        text-align: right;\n",
       "    }\n",
       "</style>\n",
       "<table border=\"1\" class=\"dataframe\">\n",
       "  <thead>\n",
       "    <tr style=\"text-align: right;\">\n",
       "      <th></th>\n",
       "      <th></th>\n",
       "      <th></th>\n",
       "      <th>96f337d2-cec4-4484-87cd-ab2109d2bf50</th>\n",
       "    </tr>\n",
       "    <tr>\n",
       "      <th>Gene Symbol</th>\n",
       "      <th>Locus ID</th>\n",
       "      <th>Cytoband</th>\n",
       "      <th></th>\n",
       "    </tr>\n",
       "  </thead>\n",
       "  <tbody>\n",
       "    <tr>\n",
       "      <th>CALR</th>\n",
       "      <th>811</th>\n",
       "      <th>19p13.2</th>\n",
       "      <td>4.0</td>\n",
       "    </tr>\n",
       "  </tbody>\n",
       "</table>\n",
       "</div>"
      ],
      "text/plain": [
       "                               96f337d2-cec4-4484-87cd-ab2109d2bf50\n",
       "Gene Symbol Locus ID Cytoband                                      \n",
       "CALR        811      19p13.2                                    4.0"
      ]
     },
     "execution_count": 51,
     "metadata": {},
     "output_type": "execute_result"
    }
   ],
   "source": [
    "cnv = get_cnv(donor_list, gene_name)\n",
    "cnv"
   ]
  },
  {
   "cell_type": "markdown",
   "metadata": {},
   "source": [
    "<span style=\"color:blue\">**Expression PCAWG**</span>.\n"
   ]
  },
  {
   "cell_type": "code",
   "execution_count": 50,
   "metadata": {},
   "outputs": [
    {
     "name": "stderr",
     "output_type": "stream",
     "text": [
      "/opt/aci/sw/anaconda3/2020.07_gcc-4.8.5-bzb/lib/python3.8/site-packages/IPython/core/interactiveshell.py:3343: DtypeWarning: Columns (1,17,24,28,33,34,35,36) have mixed types.Specify dtype option on import or set low_memory=False.\n",
      "  exec(code_obj, self.user_global_ns, self.user_ns)\n"
     ]
    },
    {
     "name": "stdout",
     "output_type": "stream",
     "text": [
      "Number of normal patient: 1\n",
      "Number of synonymous patients: 1\n",
      "Number of other tumor patients:50\n"
     ]
    },
    {
     "data": {
      "image/png": "[encoded data removed]",
      "text/plain": [
       "<Figure size 720x432 with 1 Axes>"
      ]
     },
     "metadata": {
      "needs_background": "light"
     },
     "output_type": "display_data"
    }
   ],
   "source": [
    "get_expression(gene_name)"
   ]
  },
  {
   "cell_type": "markdown",
   "metadata": {},
   "source": [
    "<span style=\"color:blue\">**CRISPR**</span>.\n"
   ]
  },
  {
   "cell_type": "code",
   "execution_count": 58,
   "metadata": {},
   "outputs": [
    {
     "name": "stdout",
     "output_type": "stream",
     "text": [
      "['Endometrial Adenocarcinoma' 'Endometrial Adenosquamous'\n",
      " 'Endometrial Stromal Sarcoma' 'MMMT' 'Choriocarcinoma'\n",
      " 'Uterine Carcinosarcoma' 'Endometrial Squamous' 'Mullerian Carcinoma'\n",
      " 'Clear Cell Carcinoma']\n"
     ]
    }
   ],
   "source": [
    "get_lineage(gene_name, 'Uterus')"
   ]
  },
  {
   "cell_type": "code",
   "execution_count": 62,
   "metadata": {},
   "outputs": [
    {
     "name": "stdout",
     "output_type": "stream",
     "text": [
      "20 in histology subtype\n",
      "969 not in histology subtype\n"
     ]
    },
    {
     "data": {
      "image/png": "[encoded data removed]",
      "text/plain": [
       "<Figure size 360x216 with 1 Axes>"
      ]
     },
     "metadata": {
      "needs_background": "light"
     },
     "output_type": "display_data"
    },
    {
     "data": {
      "image/png": "[encoded data removed]",
      "text/plain": [
       "<Figure size 360x216 with 1 Axes>"
      ]
     },
     "metadata": {
      "needs_background": "light"
     },
     "output_type": "display_data"
    }
   ],
   "source": [
    "get_CERES(gene_name, 'Endometrial Adenocarcinoma')"
   ]
  }
 ],
 "metadata": {
  "kernelspec": {
   "display_name": "Python 3",
   "language": "python",
   "name": "python3"
  },
  "language_info": {
   "codemirror_mode": {
    "name": "ipython",
    "version": 3
   },
   "file_extension": ".py",
   "mimetype": "text/x-python",
   "name": "python",
   "nbconvert_exporter": "python",
   "pygments_lexer": "ipython3",
   "version": "3.8.3"
  }
 },
 "nbformat": 4,
 "nbformat_minor": 4
}
