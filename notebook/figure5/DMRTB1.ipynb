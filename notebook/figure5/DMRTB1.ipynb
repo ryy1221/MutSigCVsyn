{
 "cells": [
  {
   "cell_type": "code",
   "execution_count": 1,
   "metadata": {},
   "outputs": [],
   "source": [
    "### This is a gene specific analysis notebook\n",
    "from candidate_utils import *"
   ]
  },
  {
   "cell_type": "code",
   "execution_count": 2,
   "metadata": {},
   "outputs": [],
   "source": [
    "%load_ext autoreload\n",
    "%autoreload 2"
   ]
  },
  {
   "cell_type": "code",
   "execution_count": 3,
   "metadata": {},
   "outputs": [],
   "source": [
    "# Gene-transcript dict\n",
    "dict_name = pickle.load(open(os.path.join(dir_refs,'dict_name_forcov_062121.pkl'), 'rb'))"
   ]
  },
  {
   "cell_type": "code",
   "execution_count": 4,
   "metadata": {},
   "outputs": [],
   "source": [
    "gene_name = 'DMRTB1'"
   ]
  },
  {
   "cell_type": "code",
   "execution_count": 5,
   "metadata": {},
   "outputs": [
    {
     "name": "stdout",
     "output_type": "stream",
     "text": [
      "ENST00000371445\n"
     ]
    }
   ],
   "source": [
    "# Find transcript for the gene\n",
    "for transcript,gene in dict_name.items():\n",
    "    if gene == gene_name:\n",
    "        print(transcript)"
   ]
  },
  {
   "cell_type": "markdown",
   "metadata": {},
   "source": [
    "<span style=\"color:blue\">**The histology subtypes of patients with the mutation**</span>.\n"
   ]
  },
  {
   "cell_type": "code",
   "execution_count": 6,
   "metadata": {},
   "outputs": [
    {
     "name": "stderr",
     "output_type": "stream",
     "text": [
      "/opt/aci/sw/anaconda3/2020.07_gcc-4.8.5-bzb/lib/python3.8/site-packages/IPython/core/interactiveshell.py:3263: DtypeWarning: Columns (1,17,24,33,34,35,36) have mixed types.Specify dtype option on import or set low_memory=False.\n",
      "  if (await self.run_code(code, result,  async_=asy)):\n"
     ]
    }
   ],
   "source": [
    "df_str, df_num = get_num_str(gene_name)"
   ]
  },
  {
   "cell_type": "code",
   "execution_count": 10,
   "metadata": {},
   "outputs": [
    {
     "data": {
      "text/plain": [
       "\"{nan: 60, 'Infiltrating duct carcinoma, NOS': 157, 'Intraductal papillary-mucinous carcinoma, invasive': 6, 'Acinar cell carcinoma': 1, 'Mucinous adenocarcinoma': 3, 'Mucinous cystadenocarcinoma, NOS': 1, 'Adenosquamous carcinoma': 4}\""
      ]
     },
     "execution_count": 10,
     "metadata": {},
     "output_type": "execute_result"
    }
   ],
   "source": [
    "df_str.loc['all','tumour_histological_type']"
   ]
  },
  {
   "cell_type": "code",
   "execution_count": 8,
   "metadata": {},
   "outputs": [
    {
     "data": {
      "text/html": [
       "<div>\n",
       "<style scoped>\n",
       "    .dataframe tbody tr th:only-of-type {\n",
       "        vertical-align: middle;\n",
       "    }\n",
       "\n",
       "    .dataframe tbody tr th {\n",
       "        vertical-align: top;\n",
       "    }\n",
       "\n",
       "    .dataframe thead th {\n",
       "        text-align: right;\n",
       "    }\n",
       "</style>\n",
       "<table border=\"1\" class=\"dataframe\">\n",
       "  <thead>\n",
       "    <tr style=\"text-align: right;\">\n",
       "      <th></th>\n",
       "      <th></th>\n",
       "      <th>SV.events</th>\n",
       "      <th>Coding.SNVs</th>\n",
       "      <th>Non.coding.SNVs</th>\n",
       "      <th>CNA.events..do_not_use.</th>\n",
       "      <th>Retrotransposon.insertions</th>\n",
       "      <th>Mitochondrial.mutations</th>\n",
       "      <th>all.Indels</th>\n",
       "    </tr>\n",
       "    <tr>\n",
       "      <th>mut_status</th>\n",
       "      <th></th>\n",
       "      <th></th>\n",
       "      <th></th>\n",
       "      <th></th>\n",
       "      <th></th>\n",
       "      <th></th>\n",
       "      <th></th>\n",
       "      <th></th>\n",
       "    </tr>\n",
       "  </thead>\n",
       "  <tbody>\n",
       "    <tr>\n",
       "      <th rowspan=\"8\" valign=\"top\">syn</th>\n",
       "      <th>count</th>\n",
       "      <td>6.000000</td>\n",
       "      <td>6.000000</td>\n",
       "      <td>6.000000</td>\n",
       "      <td>6.000000</td>\n",
       "      <td>6.000000</td>\n",
       "      <td>6.000000</td>\n",
       "      <td>6.000000</td>\n",
       "    </tr>\n",
       "    <tr>\n",
       "      <th>mean</th>\n",
       "      <td>84.333333</td>\n",
       "      <td>1615.500000</td>\n",
       "      <td>212489.666667</td>\n",
       "      <td>275.333333</td>\n",
       "      <td>0.666667</td>\n",
       "      <td>2.666667</td>\n",
       "      <td>1283.000000</td>\n",
       "    </tr>\n",
       "    <tr>\n",
       "      <th>std</th>\n",
       "      <td>88.991385</td>\n",
       "      <td>1293.003751</td>\n",
       "      <td>158158.019245</td>\n",
       "      <td>206.418668</td>\n",
       "      <td>1.211060</td>\n",
       "      <td>2.422120</td>\n",
       "      <td>936.930520</td>\n",
       "    </tr>\n",
       "    <tr>\n",
       "      <th>min</th>\n",
       "      <td>30.000000</td>\n",
       "      <td>542.000000</td>\n",
       "      <td>70331.000000</td>\n",
       "      <td>157.000000</td>\n",
       "      <td>0.000000</td>\n",
       "      <td>0.000000</td>\n",
       "      <td>431.000000</td>\n",
       "    </tr>\n",
       "    <tr>\n",
       "      <th>25%</th>\n",
       "      <td>40.250000</td>\n",
       "      <td>600.500000</td>\n",
       "      <td>79879.000000</td>\n",
       "      <td>179.000000</td>\n",
       "      <td>0.000000</td>\n",
       "      <td>1.000000</td>\n",
       "      <td>615.500000</td>\n",
       "    </tr>\n",
       "    <tr>\n",
       "      <th>50%</th>\n",
       "      <td>56.500000</td>\n",
       "      <td>1070.000000</td>\n",
       "      <td>166630.000000</td>\n",
       "      <td>206.500000</td>\n",
       "      <td>0.000000</td>\n",
       "      <td>2.000000</td>\n",
       "      <td>909.500000</td>\n",
       "    </tr>\n",
       "    <tr>\n",
       "      <th>75%</th>\n",
       "      <td>62.250000</td>\n",
       "      <td>2626.250000</td>\n",
       "      <td>332539.000000</td>\n",
       "      <td>215.250000</td>\n",
       "      <td>0.750000</td>\n",
       "      <td>4.500000</td>\n",
       "      <td>1875.500000</td>\n",
       "    </tr>\n",
       "    <tr>\n",
       "      <th>max</th>\n",
       "      <td>264.000000</td>\n",
       "      <td>3422.000000</td>\n",
       "      <td>432543.000000</td>\n",
       "      <td>694.000000</td>\n",
       "      <td>3.000000</td>\n",
       "      <td>6.000000</td>\n",
       "      <td>2733.000000</td>\n",
       "    </tr>\n",
       "    <tr>\n",
       "      <th rowspan=\"8\" valign=\"top\">all</th>\n",
       "      <th>count</th>\n",
       "      <td>106.000000</td>\n",
       "      <td>107.000000</td>\n",
       "      <td>107.000000</td>\n",
       "      <td>107.000000</td>\n",
       "      <td>107.000000</td>\n",
       "      <td>107.000000</td>\n",
       "      <td>107.000000</td>\n",
       "    </tr>\n",
       "    <tr>\n",
       "      <th>mean</th>\n",
       "      <td>182.490566</td>\n",
       "      <td>803.971963</td>\n",
       "      <td>112468.271028</td>\n",
       "      <td>487.065421</td>\n",
       "      <td>4.990654</td>\n",
       "      <td>2.168224</td>\n",
       "      <td>1000.140187</td>\n",
       "    </tr>\n",
       "    <tr>\n",
       "      <th>std</th>\n",
       "      <td>213.635080</td>\n",
       "      <td>1008.382232</td>\n",
       "      <td>144315.255781</td>\n",
       "      <td>461.390500</td>\n",
       "      <td>34.356756</td>\n",
       "      <td>1.840252</td>\n",
       "      <td>2274.979637</td>\n",
       "    </tr>\n",
       "    <tr>\n",
       "      <th>min</th>\n",
       "      <td>12.000000</td>\n",
       "      <td>20.000000</td>\n",
       "      <td>2126.000000</td>\n",
       "      <td>118.000000</td>\n",
       "      <td>0.000000</td>\n",
       "      <td>0.000000</td>\n",
       "      <td>79.000000</td>\n",
       "    </tr>\n",
       "    <tr>\n",
       "      <th>25%</th>\n",
       "      <td>49.250000</td>\n",
       "      <td>121.500000</td>\n",
       "      <td>17297.000000</td>\n",
       "      <td>202.000000</td>\n",
       "      <td>0.000000</td>\n",
       "      <td>1.000000</td>\n",
       "      <td>401.000000</td>\n",
       "    </tr>\n",
       "    <tr>\n",
       "      <th>50%</th>\n",
       "      <td>98.000000</td>\n",
       "      <td>496.000000</td>\n",
       "      <td>70331.000000</td>\n",
       "      <td>317.000000</td>\n",
       "      <td>0.000000</td>\n",
       "      <td>2.000000</td>\n",
       "      <td>556.000000</td>\n",
       "    </tr>\n",
       "    <tr>\n",
       "      <th>75%</th>\n",
       "      <td>242.750000</td>\n",
       "      <td>932.500000</td>\n",
       "      <td>138316.500000</td>\n",
       "      <td>636.000000</td>\n",
       "      <td>2.000000</td>\n",
       "      <td>3.000000</td>\n",
       "      <td>900.000000</td>\n",
       "    </tr>\n",
       "    <tr>\n",
       "      <th>max</th>\n",
       "      <td>1234.000000</td>\n",
       "      <td>5164.000000</td>\n",
       "      <td>854014.000000</td>\n",
       "      <td>3128.000000</td>\n",
       "      <td>355.000000</td>\n",
       "      <td>8.000000</td>\n",
       "      <td>22963.000000</td>\n",
       "    </tr>\n",
       "  </tbody>\n",
       "</table>\n",
       "</div>"
      ],
      "text/plain": [
       "                    SV.events  Coding.SNVs  Non.coding.SNVs  \\\n",
       "mut_status                                                    \n",
       "syn        count     6.000000     6.000000         6.000000   \n",
       "           mean     84.333333  1615.500000    212489.666667   \n",
       "           std      88.991385  1293.003751    158158.019245   \n",
       "           min      30.000000   542.000000     70331.000000   \n",
       "           25%      40.250000   600.500000     79879.000000   \n",
       "           50%      56.500000  1070.000000    166630.000000   \n",
       "           75%      62.250000  2626.250000    332539.000000   \n",
       "           max     264.000000  3422.000000    432543.000000   \n",
       "all        count   106.000000   107.000000       107.000000   \n",
       "           mean    182.490566   803.971963    112468.271028   \n",
       "           std     213.635080  1008.382232    144315.255781   \n",
       "           min      12.000000    20.000000      2126.000000   \n",
       "           25%      49.250000   121.500000     17297.000000   \n",
       "           50%      98.000000   496.000000     70331.000000   \n",
       "           75%     242.750000   932.500000    138316.500000   \n",
       "           max    1234.000000  5164.000000    854014.000000   \n",
       "\n",
       "                  CNA.events..do_not_use.  Retrotransposon.insertions  \\\n",
       "mut_status                                                              \n",
       "syn        count                 6.000000                    6.000000   \n",
       "           mean                275.333333                    0.666667   \n",
       "           std                 206.418668                    1.211060   \n",
       "           min                 157.000000                    0.000000   \n",
       "           25%                 179.000000                    0.000000   \n",
       "           50%                 206.500000                    0.000000   \n",
       "           75%                 215.250000                    0.750000   \n",
       "           max                 694.000000                    3.000000   \n",
       "all        count               107.000000                  107.000000   \n",
       "           mean                487.065421                    4.990654   \n",
       "           std                 461.390500                   34.356756   \n",
       "           min                 118.000000                    0.000000   \n",
       "           25%                 202.000000                    0.000000   \n",
       "           50%                 317.000000                    0.000000   \n",
       "           75%                 636.000000                    2.000000   \n",
       "           max                3128.000000                  355.000000   \n",
       "\n",
       "                  Mitochondrial.mutations    all.Indels  \n",
       "mut_status                                               \n",
       "syn        count                 6.000000      6.000000  \n",
       "           mean                  2.666667   1283.000000  \n",
       "           std                   2.422120    936.930520  \n",
       "           min                   0.000000    431.000000  \n",
       "           25%                   1.000000    615.500000  \n",
       "           50%                   2.000000    909.500000  \n",
       "           75%                   4.500000   1875.500000  \n",
       "           max                   6.000000   2733.000000  \n",
       "all        count               107.000000    107.000000  \n",
       "           mean                  2.168224   1000.140187  \n",
       "           std                   1.840252   2274.979637  \n",
       "           min                   0.000000     79.000000  \n",
       "           25%                   1.000000    401.000000  \n",
       "           50%                   2.000000    556.000000  \n",
       "           75%                   3.000000    900.000000  \n",
       "           max                   8.000000  22963.000000  "
      ]
     },
     "execution_count": 8,
     "metadata": {},
     "output_type": "execute_result"
    }
   ],
   "source": [
    "df_num"
   ]
  },
  {
   "cell_type": "markdown",
   "metadata": {},
   "source": [
    "<span style=\"color:blue\">**Mutation**</span>.\n"
   ]
  },
  {
   "cell_type": "code",
   "execution_count": 11,
   "metadata": {},
   "outputs": [
    {
     "name": "stderr",
     "output_type": "stream",
     "text": [
      "/opt/aci/sw/anaconda3/2020.07_gcc-4.8.5-bzb/lib/python3.8/site-packages/IPython/core/interactiveshell.py:3263: DtypeWarning: Columns (1,17,24,33,34,35,36) have mixed types.Specify dtype option on import or set low_memory=False.\n",
      "  if (await self.run_code(code, result,  async_=asy)):\n"
     ]
    },
    {
     "name": "stdout",
     "output_type": "stream",
     "text": [
      "Total 230 patients\n",
      "4 patients have synonymous mutations, they are: ['DO49422', 'DO34809', 'DO49460', 'DO33248']\n",
      "1:g.53930492C>T\n",
      "1:g.53925543C>T\n",
      "1:g.53925618G>A\n",
      "1:g.53925309C>T\n"
     ]
    }
   ],
   "source": [
    "df_all, df_mut, donor_list = get_mut(gene_name)"
   ]
  },
  {
   "cell_type": "code",
   "execution_count": 12,
   "metadata": {},
   "outputs": [
    {
     "data": {
      "text/plain": [
       "Hugo_Symbol  Variant_Classification  Donor_ID\n",
       "DMRTB1       Silent                  DO49422     g.chr1:53930492C>T\n",
       "                                     DO34809     g.chr1:53925543C>T\n",
       "                                     DO49460     g.chr1:53925618G>A\n",
       "                                     DO33248     g.chr1:53925309C>T\n",
       "Name: Genome_Change, dtype: object"
      ]
     },
     "execution_count": 12,
     "metadata": {},
     "output_type": "execute_result"
    }
   ],
   "source": [
    "df_all.loc[pd.IndexSlice[gene_name, :,donor_list],'Genome_Change']"
   ]
  },
  {
   "cell_type": "markdown",
   "metadata": {},
   "source": [
    "<span style=\"color:blue\">**CNV**</span>.\n"
   ]
  },
  {
   "cell_type": "code",
   "execution_count": 13,
   "metadata": {},
   "outputs": [
    {
     "name": "stdout",
     "output_type": "stream",
     "text": [
      "                               1327bbd4-a466-4e26-905f-cf91315f1cc8\n",
      "Gene Symbol Locus ID Cytoband                                      \n",
      "DMRTB1      63948    1p32.3                                     4.0\n",
      "                               5255d645-d3d2-422e-8449-046cd21f4935\n",
      "Gene Symbol Locus ID Cytoband                                      \n",
      "DMRTB1      63948    1p32.3                                     2.0\n",
      "                               9ffe694e-b488-489e-bdbe-0800e505eec4\n",
      "Gene Symbol Locus ID Cytoband                                      \n",
      "DMRTB1      63948    1p32.3                                     2.0\n",
      "                               edac1323-2497-45e6-9148-e9c955292ba2\n",
      "Gene Symbol Locus ID Cytoband                                      \n",
      "DMRTB1      63948    1p32.3                                     3.0\n"
     ]
    }
   ],
   "source": [
    "cnv = get_cnv(donor_list, gene_name)"
   ]
  },
  {
   "cell_type": "markdown",
   "metadata": {},
   "source": [
    "<span style=\"color:blue\">**Expression PCAWG**</span>.\n"
   ]
  },
  {
   "cell_type": "code",
   "execution_count": 14,
   "metadata": {},
   "outputs": [
    {
     "name": "stderr",
     "output_type": "stream",
     "text": [
      "/opt/aci/sw/anaconda3/2020.07_gcc-4.8.5-bzb/lib/python3.8/site-packages/IPython/core/interactiveshell.py:3343: DtypeWarning: Columns (1,17,24,33,34,35,36) have mixed types.Specify dtype option on import or set low_memory=False.\n",
      "  exec(code_obj, self.user_global_ns, self.user_ns)\n"
     ]
    },
    {
     "name": "stdout",
     "output_type": "stream",
     "text": [
      "Number of normal patient: 0\n",
      "Number of synonymous patients: 2\n",
      "Number of other tumor patients:76\n",
      "test statistic:52.0,p-value:0.1098\n"
     ]
    },
    {
     "data": {
      "image/png": "[encoded data removed]",
      "text/plain": [
       "<Figure size 360x216 with 1 Axes>"
      ]
     },
     "metadata": {
      "needs_background": "light"
     },
     "output_type": "display_data"
    }
   ],
   "source": [
    "get_expression(gene_name)"
   ]
  },
  {
   "cell_type": "markdown",
   "metadata": {},
   "source": [
    "<span style=\"color:blue\">**CRISPR**</span>.\n"
   ]
  },
  {
   "cell_type": "code",
   "execution_count": 15,
   "metadata": {},
   "outputs": [
    {
     "name": "stdout",
     "output_type": "stream",
     "text": [
      "['Exocrine']\n"
     ]
    }
   ],
   "source": [
    "get_lineage(gene_name, 'Pancreas')"
   ]
  },
  {
   "cell_type": "code",
   "execution_count": 16,
   "metadata": {},
   "outputs": [
    {
     "name": "stdout",
     "output_type": "stream",
     "text": [
      "44 in histology subtype\n",
      "945 not in histology subtype\n",
      "test statistic:15695.0,    p-value:0.003\n",
      "test statistic:18432.0,    p-value:0.034\n"
     ]
    },
    {
     "data": {
      "image/png": "[encoded data removed]",
      "text/plain": [
       "<Figure size 360x216 with 1 Axes>"
      ]
     },
     "metadata": {
      "needs_background": "light"
     },
     "output_type": "display_data"
    },
    {
     "data": {
      "image/png": "[encoded data removed]",
      "text/plain": [
       "<Figure size 360x216 with 1 Axes>"
      ]
     },
     "metadata": {
      "needs_background": "light"
     },
     "output_type": "display_data"
    }
   ],
   "source": [
    "# def get_CERES(gene, lineage):\n",
    "#     dir_depmap = './depmap'\n",
    "#     df_depmap = pd.read_csv(os.path.join(dir_depmap, gene+'_21Q2.csv'))\n",
    "#     df_depmap.columns = ['ID', 'CERES', 'Name', 'Primary Disease', 'Lineage', 'Lineage Subtype', 'Mutation']\n",
    "\n",
    "#     df_gene = df_depmap[df_depmap['Lineage Subtype'] == lineage]\n",
    "#     print(f'{len(df_gene)} in histology subtype')\n",
    "#     df_other = df_depmap[df_depmap['Lineage Subtype'] != lineage]\n",
    "#     print(f'{len(df_other)} not in histology subtype')\n",
    "#     df_all = pd.DataFrame({'inlineage':df_gene['CERES'],\n",
    "#                           'other':df_other['CERES']})\n",
    "#     df_all = df_all.melt()\n",
    "\n",
    "#     fig,ax = plt.subplots(figsize=(5,3))\n",
    "#     ax = sns.boxplot(x = 'variable', y = 'value', data = df_all)\n",
    "\n",
    "#     mannwhitneyu(df_gene['CERES'], df_other['CERES'])\n",
    "#     text = f'test statistic:{round(mannwhitneyu(df_gene[\"CERES\"], df_other[\"CERES\"])[0],4)},\\\n",
    "#     p-value:{round(mannwhitneyu(df_gene[\"CERES\"], df_other[\"CERES\"])[1],4)}'\n",
    "#     print(text)\n",
    "#     ax.set_title('CERES:'+lineage+'_'+gene+'_'+text)\n",
    "    \n",
    "#     # Expression\n",
    "#     df_all_exp = pd.DataFrame({'inlineage':df_gene['Expression'],\n",
    "#                       'other':df_other['Expression']})\n",
    "#     df_all_exp = df_all_exp.melt()\n",
    "#     fig,ax = plt.subplots(figsize=(5,3))\n",
    "#     ax = sns.boxplot(x = 'variable', y = 'value', data = df_all_exp)\n",
    "\n",
    "#     mannwhitneyu(df_gene['Expression'], df_other['Expression'])\n",
    "#     text = f'test statistic:{round(mannwhitneyu(df_gene[\"Expression\"], df_other[\"Expression\"])[0],4)},\\\n",
    "#     p-value:{round(mannwhitneyu(df_gene[\"Expression\"], df_other[\"Expression\"])[1],4)}'\n",
    "#     print(text)\n",
    "#     ax.set_title('DepMap Expression:'+lineage+'_'+gene+'_'+text)\n",
    "get_CERES(gene_name, 'Exocrine')"
   ]
  },
  {
   "cell_type": "markdown",
   "metadata": {},
   "source": [
    "<span style=\"color:blue\">**Alternative Splicing**</span>  "
   ]
  },
  {
   "cell_type": "code",
   "execution_count": 21,
   "metadata": {},
   "outputs": [],
   "source": [
    "dir_splice = '../../anno_ref/ICGC/alternative_splicing'\n",
    "exp_dir = '../../anno_ref/ICGC/pcawg_rnaseq/'\n",
    "# Read aliquot id information\n",
    "df_exp_info = pd.read_csv(os.path.join(exp_dir,'rnaseq.metadata.tsv'), sep = '\\t')"
   ]
  },
  {
   "cell_type": "code",
   "execution_count": 16,
   "metadata": {},
   "outputs": [
    {
     "name": "stdout",
     "output_type": "stream",
     "text": [
      "DO50345 is not in PCAWG transcriptome analysis\n",
      "DO50326 is not in PCAWG transcriptome analysis\n",
      "DO50387 is not in PCAWG transcriptome analysis\n",
      "DO50401 is not in PCAWG transcriptome analysis\n",
      "DO50337 is not in PCAWG transcriptome analysis\n"
     ]
    }
   ],
   "source": [
    "### If patient is in the splicing file(transcriptome analysis info)\n",
    "for donor in donor_list:\n",
    "    tumor_id = df_exp_info[df_exp_info['icgc_donor_id'] == donor]['aliquot_id']\n",
    "    if len(tumor_id) ==0:\n",
    "        print(f'{donor} is not in PCAWG transcriptome analysis')"
   ]
  }
 ],
 "metadata": {
  "kernelspec": {
   "display_name": "Python 3",
   "language": "python",
   "name": "python3"
  },
  "language_info": {
   "codemirror_mode": {
    "name": "ipython",
    "version": 3
   },
   "file_extension": ".py",
   "mimetype": "text/x-python",
   "name": "python",
   "nbconvert_exporter": "python",
   "pygments_lexer": "ipython3",
   "version": "3.8.3"
  }
 },
 "nbformat": 4,
 "nbformat_minor": 4
}
