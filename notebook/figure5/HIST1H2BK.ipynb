{
 "cells": [
  {
   "cell_type": "code",
   "execution_count": 1,
   "metadata": {},
   "outputs": [],
   "source": [
    "### This is a gene specific analysis notebook\n",
    "from candidate_utils import *"
   ]
  },
  {
   "cell_type": "code",
   "execution_count": 2,
   "metadata": {},
   "outputs": [],
   "source": [
    "%load_ext autoreload\n",
    "%autoreload 2"
   ]
  },
  {
   "cell_type": "code",
   "execution_count": 3,
   "metadata": {},
   "outputs": [],
   "source": [
    "# Gene-transcript dict\n",
    "dict_name = pickle.load(open(os.path.join(dir_refs,'dict_name_forcov_062121.pkl'), 'rb'))"
   ]
  },
  {
   "cell_type": "code",
   "execution_count": 4,
   "metadata": {},
   "outputs": [],
   "source": [
    "gene_name = 'HIST1H2BK'"
   ]
  },
  {
   "cell_type": "code",
   "execution_count": 5,
   "metadata": {},
   "outputs": [
    {
     "name": "stdout",
     "output_type": "stream",
     "text": [
      "ENST00000396891\n"
     ]
    }
   ],
   "source": [
    "# Find transcript for the gene\n",
    "for transcript,gene in dict_name.items():\n",
    "    if gene == gene_name:\n",
    "        print(transcript)"
   ]
  },
  {
   "cell_type": "markdown",
   "metadata": {},
   "source": [
    "<span style=\"color:blue\">**The histology subtypes of patients with the mutation**</span>.\n"
   ]
  },
  {
   "cell_type": "code",
   "execution_count": 6,
   "metadata": {},
   "outputs": [
    {
     "name": "stderr",
     "output_type": "stream",
     "text": [
      "/opt/aci/sw/anaconda3/2020.07_gcc-4.8.5-bzb/lib/python3.8/site-packages/IPython/core/interactiveshell.py:3263: DtypeWarning: Columns (1,17,33,34,35,36) have mixed types.Specify dtype option on import or set low_memory=False.\n",
      "  if (await self.run_code(code, result,  async_=asy)):\n"
     ]
    }
   ],
   "source": [
    "df_str, df_num = get_num_str(gene_name)"
   ]
  },
  {
   "cell_type": "code",
   "execution_count": 7,
   "metadata": {},
   "outputs": [
    {
     "data": {
      "text/html": [
       "<div>\n",
       "<style scoped>\n",
       "    .dataframe tbody tr th:only-of-type {\n",
       "        vertical-align: middle;\n",
       "    }\n",
       "\n",
       "    .dataframe tbody tr th {\n",
       "        vertical-align: top;\n",
       "    }\n",
       "\n",
       "    .dataframe thead th {\n",
       "        text-align: right;\n",
       "    }\n",
       "</style>\n",
       "<table border=\"1\" class=\"dataframe\">\n",
       "  <thead>\n",
       "    <tr style=\"text-align: right;\">\n",
       "      <th></th>\n",
       "      <th>dcc_specimen_type</th>\n",
       "      <th>histology_tier3</th>\n",
       "      <th>histology_tier4</th>\n",
       "      <th>tumour_histological_type</th>\n",
       "      <th>tumour_stage</th>\n",
       "      <th>tumour_histological_comment</th>\n",
       "      <th>specimen_donor_treatment_type</th>\n",
       "    </tr>\n",
       "  </thead>\n",
       "  <tbody>\n",
       "    <tr>\n",
       "      <th>syn</th>\n",
       "      <td>{'Primary tumour - lymph node': 8}</td>\n",
       "      <td>{'Mature B-cell lymphoma': 8}</td>\n",
       "      <td>{'Diffse large B-cell lymphoma': 6, 'Follicula...</td>\n",
       "      <td>{'ML, large B-cell, diffuse': 6, 'Follicular l...</td>\n",
       "      <td>{'unknown': 8}</td>\n",
       "      <td>{nan: 8}</td>\n",
       "      <td>{'no treatment': 8}</td>\n",
       "    </tr>\n",
       "    <tr>\n",
       "      <th>all</th>\n",
       "      <td>{'Primary tumour - lymph node': 96, 'Primary t...</td>\n",
       "      <td>{'Mature B-cell lymphoma': 105, 'Lymphoma, NOS...</td>\n",
       "      <td>{'Burkitt lymphoma': 17, 'Follicular lymphoma'...</td>\n",
       "      <td>{'Burkitt lymphoma, NOS': 17, 'Follicular lymp...</td>\n",
       "      <td>{'unknown': 100, nan: 7}</td>\n",
       "      <td>{nan: 107}</td>\n",
       "      <td>{'no treatment': 100, nan: 7}</td>\n",
       "    </tr>\n",
       "  </tbody>\n",
       "</table>\n",
       "</div>"
      ],
      "text/plain": [
       "                                     dcc_specimen_type  \\\n",
       "syn                 {'Primary tumour - lymph node': 8}   \n",
       "all  {'Primary tumour - lymph node': 96, 'Primary t...   \n",
       "\n",
       "                                       histology_tier3  \\\n",
       "syn                      {'Mature B-cell lymphoma': 8}   \n",
       "all  {'Mature B-cell lymphoma': 105, 'Lymphoma, NOS...   \n",
       "\n",
       "                                       histology_tier4  \\\n",
       "syn  {'Diffse large B-cell lymphoma': 6, 'Follicula...   \n",
       "all  {'Burkitt lymphoma': 17, 'Follicular lymphoma'...   \n",
       "\n",
       "                              tumour_histological_type  \\\n",
       "syn  {'ML, large B-cell, diffuse': 6, 'Follicular l...   \n",
       "all  {'Burkitt lymphoma, NOS': 17, 'Follicular lymp...   \n",
       "\n",
       "                 tumour_stage tumour_histological_comment  \\\n",
       "syn            {'unknown': 8}                    {nan: 8}   \n",
       "all  {'unknown': 100, nan: 7}                  {nan: 107}   \n",
       "\n",
       "     specimen_donor_treatment_type  \n",
       "syn            {'no treatment': 8}  \n",
       "all  {'no treatment': 100, nan: 7}  "
      ]
     },
     "execution_count": 7,
     "metadata": {},
     "output_type": "execute_result"
    }
   ],
   "source": [
    "df_str"
   ]
  },
  {
   "cell_type": "code",
   "execution_count": 8,
   "metadata": {},
   "outputs": [
    {
     "data": {
      "text/html": [
       "<div>\n",
       "<style scoped>\n",
       "    .dataframe tbody tr th:only-of-type {\n",
       "        vertical-align: middle;\n",
       "    }\n",
       "\n",
       "    .dataframe tbody tr th {\n",
       "        vertical-align: top;\n",
       "    }\n",
       "\n",
       "    .dataframe thead th {\n",
       "        text-align: right;\n",
       "    }\n",
       "</style>\n",
       "<table border=\"1\" class=\"dataframe\">\n",
       "  <thead>\n",
       "    <tr style=\"text-align: right;\">\n",
       "      <th></th>\n",
       "      <th></th>\n",
       "      <th>SV.events</th>\n",
       "      <th>Coding.SNVs</th>\n",
       "      <th>Non.coding.SNVs</th>\n",
       "      <th>CNA.events..do_not_use.</th>\n",
       "      <th>Retrotransposon.insertions</th>\n",
       "      <th>Mitochondrial.mutations</th>\n",
       "      <th>all.Indels</th>\n",
       "    </tr>\n",
       "    <tr>\n",
       "      <th>mut_status</th>\n",
       "      <th></th>\n",
       "      <th></th>\n",
       "      <th></th>\n",
       "      <th></th>\n",
       "      <th></th>\n",
       "      <th></th>\n",
       "      <th></th>\n",
       "      <th></th>\n",
       "    </tr>\n",
       "  </thead>\n",
       "  <tbody>\n",
       "    <tr>\n",
       "      <th rowspan=\"8\" valign=\"top\">syn</th>\n",
       "      <th>count</th>\n",
       "      <td>8.000000</td>\n",
       "      <td>8.000000</td>\n",
       "      <td>8.000000</td>\n",
       "      <td>8.000000</td>\n",
       "      <td>8.000000</td>\n",
       "      <td>8.000000</td>\n",
       "      <td>8.000000</td>\n",
       "    </tr>\n",
       "    <tr>\n",
       "      <th>mean</th>\n",
       "      <td>229.125000</td>\n",
       "      <td>341.500000</td>\n",
       "      <td>35320.000000</td>\n",
       "      <td>556.000000</td>\n",
       "      <td>6.250000</td>\n",
       "      <td>4.000000</td>\n",
       "      <td>2483.750000</td>\n",
       "    </tr>\n",
       "    <tr>\n",
       "      <th>std</th>\n",
       "      <td>408.537264</td>\n",
       "      <td>328.018728</td>\n",
       "      <td>36657.041865</td>\n",
       "      <td>849.168333</td>\n",
       "      <td>15.700318</td>\n",
       "      <td>2.563480</td>\n",
       "      <td>2969.529725</td>\n",
       "    </tr>\n",
       "    <tr>\n",
       "      <th>min</th>\n",
       "      <td>11.000000</td>\n",
       "      <td>50.000000</td>\n",
       "      <td>3264.000000</td>\n",
       "      <td>116.000000</td>\n",
       "      <td>0.000000</td>\n",
       "      <td>0.000000</td>\n",
       "      <td>270.000000</td>\n",
       "    </tr>\n",
       "    <tr>\n",
       "      <th>25%</th>\n",
       "      <td>44.250000</td>\n",
       "      <td>124.500000</td>\n",
       "      <td>10662.250000</td>\n",
       "      <td>178.000000</td>\n",
       "      <td>0.000000</td>\n",
       "      <td>2.000000</td>\n",
       "      <td>869.250000</td>\n",
       "    </tr>\n",
       "    <tr>\n",
       "      <th>50%</th>\n",
       "      <td>81.000000</td>\n",
       "      <td>260.500000</td>\n",
       "      <td>24723.500000</td>\n",
       "      <td>232.500000</td>\n",
       "      <td>0.000000</td>\n",
       "      <td>4.500000</td>\n",
       "      <td>1611.500000</td>\n",
       "    </tr>\n",
       "    <tr>\n",
       "      <th>75%</th>\n",
       "      <td>153.250000</td>\n",
       "      <td>390.250000</td>\n",
       "      <td>41160.250000</td>\n",
       "      <td>412.750000</td>\n",
       "      <td>2.250000</td>\n",
       "      <td>5.250000</td>\n",
       "      <td>2277.250000</td>\n",
       "    </tr>\n",
       "    <tr>\n",
       "      <th>max</th>\n",
       "      <td>1226.000000</td>\n",
       "      <td>1072.000000</td>\n",
       "      <td>111457.000000</td>\n",
       "      <td>2632.000000</td>\n",
       "      <td>45.000000</td>\n",
       "      <td>8.000000</td>\n",
       "      <td>9421.000000</td>\n",
       "    </tr>\n",
       "    <tr>\n",
       "      <th rowspan=\"8\" valign=\"top\">all</th>\n",
       "      <th>count</th>\n",
       "      <td>107.000000</td>\n",
       "      <td>107.000000</td>\n",
       "      <td>107.000000</td>\n",
       "      <td>107.000000</td>\n",
       "      <td>107.000000</td>\n",
       "      <td>107.000000</td>\n",
       "      <td>107.000000</td>\n",
       "    </tr>\n",
       "    <tr>\n",
       "      <th>mean</th>\n",
       "      <td>53.971963</td>\n",
       "      <td>102.551402</td>\n",
       "      <td>11760.000000</td>\n",
       "      <td>200.887850</td>\n",
       "      <td>0.588785</td>\n",
       "      <td>2.037383</td>\n",
       "      <td>869.457944</td>\n",
       "    </tr>\n",
       "    <tr>\n",
       "      <th>std</th>\n",
       "      <td>126.737171</td>\n",
       "      <td>125.078785</td>\n",
       "      <td>14016.428355</td>\n",
       "      <td>260.838536</td>\n",
       "      <td>4.365286</td>\n",
       "      <td>1.704186</td>\n",
       "      <td>1101.120170</td>\n",
       "    </tr>\n",
       "    <tr>\n",
       "      <th>min</th>\n",
       "      <td>0.000000</td>\n",
       "      <td>11.000000</td>\n",
       "      <td>1581.000000</td>\n",
       "      <td>79.000000</td>\n",
       "      <td>0.000000</td>\n",
       "      <td>0.000000</td>\n",
       "      <td>60.000000</td>\n",
       "    </tr>\n",
       "    <tr>\n",
       "      <th>25%</th>\n",
       "      <td>9.000000</td>\n",
       "      <td>37.500000</td>\n",
       "      <td>3986.500000</td>\n",
       "      <td>109.500000</td>\n",
       "      <td>0.000000</td>\n",
       "      <td>1.000000</td>\n",
       "      <td>273.500000</td>\n",
       "    </tr>\n",
       "    <tr>\n",
       "      <th>50%</th>\n",
       "      <td>21.000000</td>\n",
       "      <td>63.000000</td>\n",
       "      <td>7395.000000</td>\n",
       "      <td>136.000000</td>\n",
       "      <td>0.000000</td>\n",
       "      <td>2.000000</td>\n",
       "      <td>503.000000</td>\n",
       "    </tr>\n",
       "    <tr>\n",
       "      <th>75%</th>\n",
       "      <td>54.500000</td>\n",
       "      <td>117.000000</td>\n",
       "      <td>14662.500000</td>\n",
       "      <td>202.500000</td>\n",
       "      <td>0.000000</td>\n",
       "      <td>3.000000</td>\n",
       "      <td>1187.500000</td>\n",
       "    </tr>\n",
       "    <tr>\n",
       "      <th>max</th>\n",
       "      <td>1226.000000</td>\n",
       "      <td>1072.000000</td>\n",
       "      <td>111457.000000</td>\n",
       "      <td>2632.000000</td>\n",
       "      <td>45.000000</td>\n",
       "      <td>8.000000</td>\n",
       "      <td>9421.000000</td>\n",
       "    </tr>\n",
       "  </tbody>\n",
       "</table>\n",
       "</div>"
      ],
      "text/plain": [
       "                    SV.events  Coding.SNVs  Non.coding.SNVs  \\\n",
       "mut_status                                                    \n",
       "syn        count     8.000000     8.000000         8.000000   \n",
       "           mean    229.125000   341.500000     35320.000000   \n",
       "           std     408.537264   328.018728     36657.041865   \n",
       "           min      11.000000    50.000000      3264.000000   \n",
       "           25%      44.250000   124.500000     10662.250000   \n",
       "           50%      81.000000   260.500000     24723.500000   \n",
       "           75%     153.250000   390.250000     41160.250000   \n",
       "           max    1226.000000  1072.000000    111457.000000   \n",
       "all        count   107.000000   107.000000       107.000000   \n",
       "           mean     53.971963   102.551402     11760.000000   \n",
       "           std     126.737171   125.078785     14016.428355   \n",
       "           min       0.000000    11.000000      1581.000000   \n",
       "           25%       9.000000    37.500000      3986.500000   \n",
       "           50%      21.000000    63.000000      7395.000000   \n",
       "           75%      54.500000   117.000000     14662.500000   \n",
       "           max    1226.000000  1072.000000    111457.000000   \n",
       "\n",
       "                  CNA.events..do_not_use.  Retrotransposon.insertions  \\\n",
       "mut_status                                                              \n",
       "syn        count                 8.000000                    8.000000   \n",
       "           mean                556.000000                    6.250000   \n",
       "           std                 849.168333                   15.700318   \n",
       "           min                 116.000000                    0.000000   \n",
       "           25%                 178.000000                    0.000000   \n",
       "           50%                 232.500000                    0.000000   \n",
       "           75%                 412.750000                    2.250000   \n",
       "           max                2632.000000                   45.000000   \n",
       "all        count               107.000000                  107.000000   \n",
       "           mean                200.887850                    0.588785   \n",
       "           std                 260.838536                    4.365286   \n",
       "           min                  79.000000                    0.000000   \n",
       "           25%                 109.500000                    0.000000   \n",
       "           50%                 136.000000                    0.000000   \n",
       "           75%                 202.500000                    0.000000   \n",
       "           max                2632.000000                   45.000000   \n",
       "\n",
       "                  Mitochondrial.mutations   all.Indels  \n",
       "mut_status                                              \n",
       "syn        count                 8.000000     8.000000  \n",
       "           mean                  4.000000  2483.750000  \n",
       "           std                   2.563480  2969.529725  \n",
       "           min                   0.000000   270.000000  \n",
       "           25%                   2.000000   869.250000  \n",
       "           50%                   4.500000  1611.500000  \n",
       "           75%                   5.250000  2277.250000  \n",
       "           max                   8.000000  9421.000000  \n",
       "all        count               107.000000   107.000000  \n",
       "           mean                  2.037383   869.457944  \n",
       "           std                   1.704186  1101.120170  \n",
       "           min                   0.000000    60.000000  \n",
       "           25%                   1.000000   273.500000  \n",
       "           50%                   2.000000   503.000000  \n",
       "           75%                   3.000000  1187.500000  \n",
       "           max                   8.000000  9421.000000  "
      ]
     },
     "execution_count": 8,
     "metadata": {},
     "output_type": "execute_result"
    }
   ],
   "source": [
    "df_num"
   ]
  },
  {
   "cell_type": "markdown",
   "metadata": {},
   "source": [
    "<span style=\"color:blue\">**Mutation**</span>.\n"
   ]
  },
  {
   "cell_type": "code",
   "execution_count": 9,
   "metadata": {},
   "outputs": [
    {
     "name": "stderr",
     "output_type": "stream",
     "text": [
      "/opt/aci/sw/anaconda3/2020.07_gcc-4.8.5-bzb/lib/python3.8/site-packages/IPython/core/interactiveshell.py:3263: DtypeWarning: Columns (1,17,33,34,35,36) have mixed types.Specify dtype option on import or set low_memory=False.\n",
      "  if (await self.run_code(code, result,  async_=asy)):\n"
     ]
    },
    {
     "name": "stdout",
     "output_type": "stream",
     "text": [
      "Total 107 patients\n",
      "8 patients have synonymous mutations, they are: ['DO52674', 'DO52685', 'DO52692', 'DO52658', 'DO27855', 'DO27827', 'DO52679', 'DO52686']\n",
      "6:g.27114506C>T\n",
      "6:g.27114272C>G\n",
      "6:g.27114271_27114272GC>AA\n",
      "6:g.27114449G>A\n",
      "6:g.27114467G>A\n",
      "6:g.27114271G>A\n",
      "6:g.27114440C>T\n",
      "6:g.27114212G>A\n"
     ]
    }
   ],
   "source": [
    "df_all, df_mut, donor_list = get_mut(gene_name)"
   ]
  },
  {
   "cell_type": "code",
   "execution_count": 10,
   "metadata": {},
   "outputs": [
    {
     "data": {
      "text/plain": [
       "Hugo_Symbol  Variant_Classification  Donor_ID\n",
       "HIST1H2BK    Missense_Mutation       DO52674                g.chr6:27114268G>A\n",
       "                                     DO52674                g.chr6:27114365G>C\n",
       "             Silent                  DO52674                g.chr6:27114506C>T\n",
       "                                     DO52685                g.chr6:27114272C>G\n",
       "             Missense_Mutation       DO52692                g.chr6:27114200C>A\n",
       "             Silent                  DO52692     g.chr6:27114271_27114272GC>AA\n",
       "             5'Flank                 DO52692                g.chr6:27115349C>T\n",
       "             Silent                  DO52658                g.chr6:27114449G>A\n",
       "                                     DO27855                g.chr6:27114467G>A\n",
       "                                     DO27827                g.chr6:27114271G>A\n",
       "             Intron                  DO52679                g.chr6:27113984C>G\n",
       "             Silent                  DO52679                g.chr6:27114440C>T\n",
       "             5'Flank                 DO52679                g.chr6:27115473A>C\n",
       "                                     DO52679                g.chr6:27115624G>A\n",
       "                                     DO52679                g.chr6:27116836G>A\n",
       "             Intron                  DO52686                g.chr6:27114158G>A\n",
       "             Missense_Mutation       DO52686                g.chr6:27114210G>A\n",
       "             Silent                  DO52686                g.chr6:27114212G>A\n",
       "Name: Genome_Change, dtype: object"
      ]
     },
     "execution_count": 10,
     "metadata": {},
     "output_type": "execute_result"
    }
   ],
   "source": [
    "df_all.loc[pd.IndexSlice[gene_name, :,donor_list],'Genome_Change']"
   ]
  },
  {
   "cell_type": "markdown",
   "metadata": {},
   "source": [
    "<span style=\"color:blue\">**CNV**</span>.\n"
   ]
  },
  {
   "cell_type": "code",
   "execution_count": 11,
   "metadata": {},
   "outputs": [
    {
     "name": "stdout",
     "output_type": "stream",
     "text": [
      "                               0e7f46ca-6f5c-4538-b6d6-00af65d57fcf\n",
      "Gene Symbol Locus ID Cytoband                                      \n",
      "HIST1H2BK   85236    6p22.1                                     2.0\n",
      "                               15678c3d-ce61-454d-849e-1d4ca358909b\n",
      "Gene Symbol Locus ID Cytoband                                      \n",
      "HIST1H2BK   85236    6p22.1                                     4.0\n",
      "                               4e7cdeda-6dc1-4f17-b853-72a68e5aa7e1\n",
      "Gene Symbol Locus ID Cytoband                                      \n",
      "HIST1H2BK   85236    6p22.1                                     4.0\n",
      "                               78bd2aa8-e5f6-4b4b-96f0-d406fbdbcee8\n",
      "Gene Symbol Locus ID Cytoband                                      \n",
      "HIST1H2BK   85236    6p22.1                                     2.0\n",
      "                               b9dbc78e-44ce-427c-bbeb-de8d097bde2c\n",
      "Gene Symbol Locus ID Cytoband                                      \n",
      "HIST1H2BK   85236    6p22.1                                     4.0\n",
      "                               ce85ccf3-6621-4976-b187-2f28d45dd4d9\n",
      "Gene Symbol Locus ID Cytoband                                      \n",
      "HIST1H2BK   85236    6p22.1                                     3.0\n",
      "                               dbae3c4e-6d66-483a-a611-7285067bf85c\n",
      "Gene Symbol Locus ID Cytoband                                      \n",
      "HIST1H2BK   85236    6p22.1                                     2.0\n",
      "                               f9dc999f-6dde-448d-9cf1-2897ddcf7b0b\n",
      "Gene Symbol Locus ID Cytoband                                      \n",
      "HIST1H2BK   85236    6p22.1                                     2.0\n"
     ]
    }
   ],
   "source": [
    "cnv = get_cnv(donor_list, gene_name)"
   ]
  },
  {
   "cell_type": "markdown",
   "metadata": {},
   "source": [
    "<span style=\"color:blue\">**Expression PCAWG**</span>.\n"
   ]
  },
  {
   "cell_type": "code",
   "execution_count": 12,
   "metadata": {},
   "outputs": [
    {
     "name": "stderr",
     "output_type": "stream",
     "text": [
      "/opt/aci/sw/anaconda3/2020.07_gcc-4.8.5-bzb/lib/python3.8/site-packages/IPython/core/interactiveshell.py:3343: DtypeWarning: Columns (1,17,33,34,35,36) have mixed types.Specify dtype option on import or set low_memory=False.\n",
      "  exec(code_obj, self.user_global_ns, self.user_ns)\n"
     ]
    },
    {
     "name": "stdout",
     "output_type": "stream",
     "text": [
      "Number of normal patient: 0\n",
      "Number of synonymous patients: 8\n",
      "Number of other tumor patients:95\n",
      "test statistic:372.0,p-value:0.4632\n"
     ]
    },
    {
     "data": {
      "image/png": "[encoded data removed]",
      "text/plain": [
       "<Figure size 360x216 with 1 Axes>"
      ]
     },
     "metadata": {
      "needs_background": "light"
     },
     "output_type": "display_data"
    }
   ],
   "source": [
    "get_expression(gene_name)"
   ]
  },
  {
   "cell_type": "markdown",
   "metadata": {},
   "source": [
    "<span style=\"color:blue\">**CRISPR**</span>.\n"
   ]
  },
  {
   "cell_type": "code",
   "execution_count": 16,
   "metadata": {},
   "outputs": [
    {
     "name": "stdout",
     "output_type": "stream",
     "text": [
      "['Lymphoma Unspecified' 'Non Hodgkin Lymphoma' 'Hodgkin Lymphoma' 'ATL']\n"
     ]
    }
   ],
   "source": [
    "get_lineage(gene_name, 'Lymphocyte')"
   ]
  },
  {
   "cell_type": "code",
   "execution_count": 17,
   "metadata": {},
   "outputs": [
    {
     "name": "stdout",
     "output_type": "stream",
     "text": [
      "21 in histology subtype\n",
      "968 not in histology subtype\n",
      "test statistic:9625.0,    p-value:0.3388\n",
      "test statistic:6882.0,    p-value:0.0056\n"
     ]
    },
    {
     "data": {
      "image/png": "[encoded data removed]",
      "text/plain": [
       "<Figure size 360x216 with 1 Axes>"
      ]
     },
     "metadata": {
      "needs_background": "light"
     },
     "output_type": "display_data"
    },
    {
     "data": {
      "image/png": "[encoded data removed]",
      "text/plain": [
       "<Figure size 360x216 with 1 Axes>"
      ]
     },
     "metadata": {
      "needs_background": "light"
     },
     "output_type": "display_data"
    }
   ],
   "source": [
    "get_CERES(gene_name, 'Non Hodgkin Lymphoma')"
   ]
  },
  {
   "cell_type": "markdown",
   "metadata": {},
   "source": [
    "<span style=\"color:blue\">**Alternative Splicing**</span>  "
   ]
  },
  {
   "cell_type": "code",
   "execution_count": 14,
   "metadata": {},
   "outputs": [],
   "source": [
    "dir_splice = '../../anno_ref/ICGC/alternative_splicing'\n",
    "exp_dir = '../../anno_ref/ICGC/pcawg_rnaseq/'\n",
    "# Read aliquot id information\n",
    "df_exp_info = pd.read_csv(os.path.join(exp_dir,'rnaseq.metadata.tsv'), sep = '\\t')"
   ]
  },
  {
   "cell_type": "code",
   "execution_count": 15,
   "metadata": {},
   "outputs": [
    {
     "name": "stdout",
     "output_type": "stream",
     "text": [
      "DO51546 is not in PCAWG transcriptome analysis\n"
     ]
    }
   ],
   "source": [
    "### If patient is in the splicing file(transcriptome analysis info)\n",
    "for donor in donor_list:\n",
    "    tumor_id = df_exp_info[df_exp_info['icgc_donor_id'] == donor]['aliquot_id']\n",
    "    if len(tumor_id) ==0:\n",
    "        print(f'{donor} is not in PCAWG transcriptome analysis')"
   ]
  }
 ],
 "metadata": {
  "kernelspec": {
   "display_name": "Python 3",
   "language": "python",
   "name": "python3"
  },
  "language_info": {
   "codemirror_mode": {
    "name": "ipython",
    "version": 3
   },
   "file_extension": ".py",
   "mimetype": "text/x-python",
   "name": "python",
   "nbconvert_exporter": "python",
   "pygments_lexer": "ipython3",
   "version": "3.8.3"
  }
 },
 "nbformat": 4,
 "nbformat_minor": 4
}
