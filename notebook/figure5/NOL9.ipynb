{
 "cells": [
  {
   "cell_type": "code",
   "execution_count": 1,
   "metadata": {},
   "outputs": [],
   "source": [
    "### This is a gene specific analysis notebook\n",
    "from candidate_utils import *"
   ]
  },
  {
   "cell_type": "code",
   "execution_count": 2,
   "metadata": {},
   "outputs": [],
   "source": [
    "%load_ext autoreload\n",
    "%autoreload 2"
   ]
  },
  {
   "cell_type": "code",
   "execution_count": 3,
   "metadata": {},
   "outputs": [],
   "source": [
    "# Gene-transcript dict\n",
    "dict_name = pickle.load(open(os.path.join(dir_refs,'dict_name_forcov_062121.pkl'), 'rb'))"
   ]
  },
  {
   "cell_type": "code",
   "execution_count": 8,
   "metadata": {},
   "outputs": [],
   "source": [
    "gene_name = 'NOL9'"
   ]
  },
  {
   "cell_type": "code",
   "execution_count": 9,
   "metadata": {},
   "outputs": [
    {
     "name": "stdout",
     "output_type": "stream",
     "text": [
      "ENST00000377705\n"
     ]
    }
   ],
   "source": [
    "# Find transcript for the gene\n",
    "for transcript,gene in dict_name.items():\n",
    "    if gene == gene_name:\n",
    "        print(transcript)"
   ]
  },
  {
   "cell_type": "markdown",
   "metadata": {},
   "source": [
    "<span style=\"color:blue\">**The histology subtypes of patients with the mutation**</span>.\n"
   ]
  },
  {
   "cell_type": "code",
   "execution_count": 10,
   "metadata": {},
   "outputs": [
    {
     "name": "stderr",
     "output_type": "stream",
     "text": [
      "/opt/aci/sw/anaconda3/2020.07_gcc-4.8.5-bzb/lib/python3.8/site-packages/IPython/core/interactiveshell.py:3263: DtypeWarning: Columns (1,17,33,34,35,36) have mixed types.Specify dtype option on import or set low_memory=False.\n",
      "  if (await self.run_code(code, result,  async_=asy)):\n"
     ]
    }
   ],
   "source": [
    "df_str, df_num = get_num_str(gene_name)"
   ]
  },
  {
   "cell_type": "code",
   "execution_count": 11,
   "metadata": {},
   "outputs": [
    {
     "data": {
      "text/html": [
       "<div>\n",
       "<style scoped>\n",
       "    .dataframe tbody tr th:only-of-type {\n",
       "        vertical-align: middle;\n",
       "    }\n",
       "\n",
       "    .dataframe tbody tr th {\n",
       "        vertical-align: top;\n",
       "    }\n",
       "\n",
       "    .dataframe thead th {\n",
       "        text-align: right;\n",
       "    }\n",
       "</style>\n",
       "<table border=\"1\" class=\"dataframe\">\n",
       "  <thead>\n",
       "    <tr style=\"text-align: right;\">\n",
       "      <th></th>\n",
       "      <th>dcc_specimen_type</th>\n",
       "      <th>histology_tier3</th>\n",
       "      <th>histology_tier4</th>\n",
       "      <th>tumour_histological_type</th>\n",
       "      <th>tumour_stage</th>\n",
       "      <th>tumour_histological_comment</th>\n",
       "      <th>specimen_donor_treatment_type</th>\n",
       "    </tr>\n",
       "  </thead>\n",
       "  <tbody>\n",
       "    <tr>\n",
       "      <th>syn</th>\n",
       "      <td>{'Primary tumour - lymph node': 7}</td>\n",
       "      <td>{'Mature B-cell lymphoma': 7}</td>\n",
       "      <td>{'Diffse large B-cell lymphoma': 4, 'Follicula...</td>\n",
       "      <td>{'ML, large B-cell, diffuse': 4, 'Follicular l...</td>\n",
       "      <td>{'unknown': 7}</td>\n",
       "      <td>{nan: 7}</td>\n",
       "      <td>{'no treatment': 7}</td>\n",
       "    </tr>\n",
       "    <tr>\n",
       "      <th>all</th>\n",
       "      <td>{'Primary tumour - lymph node': 96, 'Primary t...</td>\n",
       "      <td>{'Mature B-cell lymphoma': 105, 'Lymphoma, NOS...</td>\n",
       "      <td>{'Burkitt lymphoma': 17, 'Follicular lymphoma'...</td>\n",
       "      <td>{'Burkitt lymphoma, NOS': 17, 'Follicular lymp...</td>\n",
       "      <td>{'unknown': 100, nan: 7}</td>\n",
       "      <td>{nan: 107}</td>\n",
       "      <td>{'no treatment': 100, nan: 7}</td>\n",
       "    </tr>\n",
       "  </tbody>\n",
       "</table>\n",
       "</div>"
      ],
      "text/plain": [
       "                                     dcc_specimen_type  \\\n",
       "syn                 {'Primary tumour - lymph node': 7}   \n",
       "all  {'Primary tumour - lymph node': 96, 'Primary t...   \n",
       "\n",
       "                                       histology_tier3  \\\n",
       "syn                      {'Mature B-cell lymphoma': 7}   \n",
       "all  {'Mature B-cell lymphoma': 105, 'Lymphoma, NOS...   \n",
       "\n",
       "                                       histology_tier4  \\\n",
       "syn  {'Diffse large B-cell lymphoma': 4, 'Follicula...   \n",
       "all  {'Burkitt lymphoma': 17, 'Follicular lymphoma'...   \n",
       "\n",
       "                              tumour_histological_type  \\\n",
       "syn  {'ML, large B-cell, diffuse': 4, 'Follicular l...   \n",
       "all  {'Burkitt lymphoma, NOS': 17, 'Follicular lymp...   \n",
       "\n",
       "                 tumour_stage tumour_histological_comment  \\\n",
       "syn            {'unknown': 7}                    {nan: 7}   \n",
       "all  {'unknown': 100, nan: 7}                  {nan: 107}   \n",
       "\n",
       "     specimen_donor_treatment_type  \n",
       "syn            {'no treatment': 7}  \n",
       "all  {'no treatment': 100, nan: 7}  "
      ]
     },
     "execution_count": 11,
     "metadata": {},
     "output_type": "execute_result"
    }
   ],
   "source": [
    "df_str"
   ]
  },
  {
   "cell_type": "code",
   "execution_count": 12,
   "metadata": {},
   "outputs": [
    {
     "data": {
      "text/html": [
       "<div>\n",
       "<style scoped>\n",
       "    .dataframe tbody tr th:only-of-type {\n",
       "        vertical-align: middle;\n",
       "    }\n",
       "\n",
       "    .dataframe tbody tr th {\n",
       "        vertical-align: top;\n",
       "    }\n",
       "\n",
       "    .dataframe thead th {\n",
       "        text-align: right;\n",
       "    }\n",
       "</style>\n",
       "<table border=\"1\" class=\"dataframe\">\n",
       "  <thead>\n",
       "    <tr style=\"text-align: right;\">\n",
       "      <th></th>\n",
       "      <th></th>\n",
       "      <th>SV.events</th>\n",
       "      <th>Coding.SNVs</th>\n",
       "      <th>Non.coding.SNVs</th>\n",
       "      <th>CNA.events..do_not_use.</th>\n",
       "      <th>Retrotransposon.insertions</th>\n",
       "      <th>Mitochondrial.mutations</th>\n",
       "      <th>all.Indels</th>\n",
       "    </tr>\n",
       "    <tr>\n",
       "      <th>mut_status</th>\n",
       "      <th></th>\n",
       "      <th></th>\n",
       "      <th></th>\n",
       "      <th></th>\n",
       "      <th></th>\n",
       "      <th></th>\n",
       "      <th></th>\n",
       "      <th></th>\n",
       "    </tr>\n",
       "  </thead>\n",
       "  <tbody>\n",
       "    <tr>\n",
       "      <th rowspan=\"8\" valign=\"top\">syn</th>\n",
       "      <th>count</th>\n",
       "      <td>7.000000</td>\n",
       "      <td>7.000000</td>\n",
       "      <td>7.000000</td>\n",
       "      <td>7.000000</td>\n",
       "      <td>7.000000</td>\n",
       "      <td>7.000000</td>\n",
       "      <td>7.000000</td>\n",
       "    </tr>\n",
       "    <tr>\n",
       "      <th>mean</th>\n",
       "      <td>27.000000</td>\n",
       "      <td>130.142857</td>\n",
       "      <td>13568.142857</td>\n",
       "      <td>146.285714</td>\n",
       "      <td>0.142857</td>\n",
       "      <td>1.428571</td>\n",
       "      <td>1086.857143</td>\n",
       "    </tr>\n",
       "    <tr>\n",
       "      <th>std</th>\n",
       "      <td>17.907168</td>\n",
       "      <td>84.857584</td>\n",
       "      <td>7523.615253</td>\n",
       "      <td>37.659502</td>\n",
       "      <td>0.377964</td>\n",
       "      <td>1.618347</td>\n",
       "      <td>631.630807</td>\n",
       "    </tr>\n",
       "    <tr>\n",
       "      <th>min</th>\n",
       "      <td>4.000000</td>\n",
       "      <td>38.000000</td>\n",
       "      <td>3516.000000</td>\n",
       "      <td>101.000000</td>\n",
       "      <td>0.000000</td>\n",
       "      <td>0.000000</td>\n",
       "      <td>123.000000</td>\n",
       "    </tr>\n",
       "    <tr>\n",
       "      <th>25%</th>\n",
       "      <td>15.000000</td>\n",
       "      <td>73.000000</td>\n",
       "      <td>8291.500000</td>\n",
       "      <td>120.000000</td>\n",
       "      <td>0.000000</td>\n",
       "      <td>0.000000</td>\n",
       "      <td>782.000000</td>\n",
       "    </tr>\n",
       "    <tr>\n",
       "      <th>50%</th>\n",
       "      <td>28.000000</td>\n",
       "      <td>122.000000</td>\n",
       "      <td>16606.000000</td>\n",
       "      <td>140.000000</td>\n",
       "      <td>0.000000</td>\n",
       "      <td>1.000000</td>\n",
       "      <td>1238.000000</td>\n",
       "    </tr>\n",
       "    <tr>\n",
       "      <th>75%</th>\n",
       "      <td>37.500000</td>\n",
       "      <td>162.000000</td>\n",
       "      <td>17131.500000</td>\n",
       "      <td>172.000000</td>\n",
       "      <td>0.000000</td>\n",
       "      <td>2.500000</td>\n",
       "      <td>1369.500000</td>\n",
       "    </tr>\n",
       "    <tr>\n",
       "      <th>max</th>\n",
       "      <td>52.000000</td>\n",
       "      <td>281.000000</td>\n",
       "      <td>24009.000000</td>\n",
       "      <td>199.000000</td>\n",
       "      <td>1.000000</td>\n",
       "      <td>4.000000</td>\n",
       "      <td>1944.000000</td>\n",
       "    </tr>\n",
       "    <tr>\n",
       "      <th rowspan=\"8\" valign=\"top\">all</th>\n",
       "      <th>count</th>\n",
       "      <td>107.000000</td>\n",
       "      <td>107.000000</td>\n",
       "      <td>107.000000</td>\n",
       "      <td>107.000000</td>\n",
       "      <td>107.000000</td>\n",
       "      <td>107.000000</td>\n",
       "      <td>107.000000</td>\n",
       "    </tr>\n",
       "    <tr>\n",
       "      <th>mean</th>\n",
       "      <td>53.971963</td>\n",
       "      <td>102.551402</td>\n",
       "      <td>11760.000000</td>\n",
       "      <td>200.887850</td>\n",
       "      <td>0.588785</td>\n",
       "      <td>2.037383</td>\n",
       "      <td>869.457944</td>\n",
       "    </tr>\n",
       "    <tr>\n",
       "      <th>std</th>\n",
       "      <td>126.737171</td>\n",
       "      <td>125.078785</td>\n",
       "      <td>14016.428355</td>\n",
       "      <td>260.838536</td>\n",
       "      <td>4.365286</td>\n",
       "      <td>1.704186</td>\n",
       "      <td>1101.120170</td>\n",
       "    </tr>\n",
       "    <tr>\n",
       "      <th>min</th>\n",
       "      <td>0.000000</td>\n",
       "      <td>11.000000</td>\n",
       "      <td>1581.000000</td>\n",
       "      <td>79.000000</td>\n",
       "      <td>0.000000</td>\n",
       "      <td>0.000000</td>\n",
       "      <td>60.000000</td>\n",
       "    </tr>\n",
       "    <tr>\n",
       "      <th>25%</th>\n",
       "      <td>9.000000</td>\n",
       "      <td>37.500000</td>\n",
       "      <td>3986.500000</td>\n",
       "      <td>109.500000</td>\n",
       "      <td>0.000000</td>\n",
       "      <td>1.000000</td>\n",
       "      <td>273.500000</td>\n",
       "    </tr>\n",
       "    <tr>\n",
       "      <th>50%</th>\n",
       "      <td>21.000000</td>\n",
       "      <td>63.000000</td>\n",
       "      <td>7395.000000</td>\n",
       "      <td>136.000000</td>\n",
       "      <td>0.000000</td>\n",
       "      <td>2.000000</td>\n",
       "      <td>503.000000</td>\n",
       "    </tr>\n",
       "    <tr>\n",
       "      <th>75%</th>\n",
       "      <td>54.500000</td>\n",
       "      <td>117.000000</td>\n",
       "      <td>14662.500000</td>\n",
       "      <td>202.500000</td>\n",
       "      <td>0.000000</td>\n",
       "      <td>3.000000</td>\n",
       "      <td>1187.500000</td>\n",
       "    </tr>\n",
       "    <tr>\n",
       "      <th>max</th>\n",
       "      <td>1226.000000</td>\n",
       "      <td>1072.000000</td>\n",
       "      <td>111457.000000</td>\n",
       "      <td>2632.000000</td>\n",
       "      <td>45.000000</td>\n",
       "      <td>8.000000</td>\n",
       "      <td>9421.000000</td>\n",
       "    </tr>\n",
       "  </tbody>\n",
       "</table>\n",
       "</div>"
      ],
      "text/plain": [
       "                    SV.events  Coding.SNVs  Non.coding.SNVs  \\\n",
       "mut_status                                                    \n",
       "syn        count     7.000000     7.000000         7.000000   \n",
       "           mean     27.000000   130.142857     13568.142857   \n",
       "           std      17.907168    84.857584      7523.615253   \n",
       "           min       4.000000    38.000000      3516.000000   \n",
       "           25%      15.000000    73.000000      8291.500000   \n",
       "           50%      28.000000   122.000000     16606.000000   \n",
       "           75%      37.500000   162.000000     17131.500000   \n",
       "           max      52.000000   281.000000     24009.000000   \n",
       "all        count   107.000000   107.000000       107.000000   \n",
       "           mean     53.971963   102.551402     11760.000000   \n",
       "           std     126.737171   125.078785     14016.428355   \n",
       "           min       0.000000    11.000000      1581.000000   \n",
       "           25%       9.000000    37.500000      3986.500000   \n",
       "           50%      21.000000    63.000000      7395.000000   \n",
       "           75%      54.500000   117.000000     14662.500000   \n",
       "           max    1226.000000  1072.000000    111457.000000   \n",
       "\n",
       "                  CNA.events..do_not_use.  Retrotransposon.insertions  \\\n",
       "mut_status                                                              \n",
       "syn        count                 7.000000                    7.000000   \n",
       "           mean                146.285714                    0.142857   \n",
       "           std                  37.659502                    0.377964   \n",
       "           min                 101.000000                    0.000000   \n",
       "           25%                 120.000000                    0.000000   \n",
       "           50%                 140.000000                    0.000000   \n",
       "           75%                 172.000000                    0.000000   \n",
       "           max                 199.000000                    1.000000   \n",
       "all        count               107.000000                  107.000000   \n",
       "           mean                200.887850                    0.588785   \n",
       "           std                 260.838536                    4.365286   \n",
       "           min                  79.000000                    0.000000   \n",
       "           25%                 109.500000                    0.000000   \n",
       "           50%                 136.000000                    0.000000   \n",
       "           75%                 202.500000                    0.000000   \n",
       "           max                2632.000000                   45.000000   \n",
       "\n",
       "                  Mitochondrial.mutations   all.Indels  \n",
       "mut_status                                              \n",
       "syn        count                 7.000000     7.000000  \n",
       "           mean                  1.428571  1086.857143  \n",
       "           std                   1.618347   631.630807  \n",
       "           min                   0.000000   123.000000  \n",
       "           25%                   0.000000   782.000000  \n",
       "           50%                   1.000000  1238.000000  \n",
       "           75%                   2.500000  1369.500000  \n",
       "           max                   4.000000  1944.000000  \n",
       "all        count               107.000000   107.000000  \n",
       "           mean                  2.037383   869.457944  \n",
       "           std                   1.704186  1101.120170  \n",
       "           min                   0.000000    60.000000  \n",
       "           25%                   1.000000   273.500000  \n",
       "           50%                   2.000000   503.000000  \n",
       "           75%                   3.000000  1187.500000  \n",
       "           max                   8.000000  9421.000000  "
      ]
     },
     "execution_count": 12,
     "metadata": {},
     "output_type": "execute_result"
    }
   ],
   "source": [
    "df_num"
   ]
  },
  {
   "cell_type": "markdown",
   "metadata": {},
   "source": [
    "<span style=\"color:blue\">**Mutation**</span>.\n"
   ]
  },
  {
   "cell_type": "code",
   "execution_count": 13,
   "metadata": {},
   "outputs": [
    {
     "name": "stderr",
     "output_type": "stream",
     "text": [
      "/opt/aci/sw/anaconda3/2020.07_gcc-4.8.5-bzb/lib/python3.8/site-packages/IPython/core/interactiveshell.py:3263: DtypeWarning: Columns (1,17,33,34,35,36) have mixed types.Specify dtype option on import or set low_memory=False.\n",
      "  if (await self.run_code(code, result,  async_=asy)):\n"
     ]
    },
    {
     "name": "stdout",
     "output_type": "stream",
     "text": [
      "Total 107 patients\n",
      "7 patients have synonymous mutations, they are: ['DO52672', 'DO52664', 'DO52676', 'DO52675', 'DO52663', 'DO27853', 'DO27781']\n",
      "1:g.6614184G>A\n",
      "1:g.6614410C>G\n",
      "1:g.6614182C>G\n",
      "1:g.6614362G>A\n",
      "1:g.6614524G>A\n",
      "1:g.6614329G>C\n",
      "1:g.6614184G>A\n",
      "1:g.6614311G>A\n"
     ]
    }
   ],
   "source": [
    "df_all, df_mut, donor_list = get_mut(gene_name)"
   ]
  },
  {
   "cell_type": "code",
   "execution_count": 14,
   "metadata": {},
   "outputs": [
    {
     "data": {
      "text/plain": [
       "Hugo_Symbol  Variant_Classification  Donor_ID\n",
       "NOL9         Intron                  DO52672     g.chr1:6613077G>A\n",
       "             Silent                  DO52672     g.chr1:6614184G>A\n",
       "             Missense_Mutation       DO52672     g.chr1:6614187G>C\n",
       "             Silent                  DO52672     g.chr1:6614410C>G\n",
       "             Intron                  DO52664     g.chr1:6613996G>A\n",
       "             Silent                  DO52664     g.chr1:6614182C>G\n",
       "             Intron                  DO52676     g.chr1:6613949G>A\n",
       "             Missense_Mutation       DO52676     g.chr1:6614229G>C\n",
       "             Silent                  DO52676     g.chr1:6614362G>A\n",
       "             Missense_Mutation       DO52675     g.chr1:6614478G>T\n",
       "             Silent                  DO52675     g.chr1:6614524G>A\n",
       "             5'Flank                 DO52675     g.chr1:6614672G>A\n",
       "             Missense_Mutation       DO52663     g.chr1:6614271C>T\n",
       "             Silent                  DO52663     g.chr1:6614329G>C\n",
       "             Nonsense_Mutation       DO52663     g.chr1:6614377C>T\n",
       "             Missense_Mutation       DO52663     g.chr1:6614473G>C\n",
       "             Silent                  DO27853     g.chr1:6614184G>A\n",
       "             Missense_Mutation       DO27853     g.chr1:6614366G>C\n",
       "             Intron                  DO27781     g.chr1:6613930A>C\n",
       "                                     DO27781     g.chr1:6613985G>A\n",
       "             Silent                  DO27781     g.chr1:6614311G>A\n",
       "Name: Genome_Change, dtype: object"
      ]
     },
     "execution_count": 14,
     "metadata": {},
     "output_type": "execute_result"
    }
   ],
   "source": [
    "df_all.loc[pd.IndexSlice[gene_name, :,donor_list],'Genome_Change']"
   ]
  },
  {
   "cell_type": "markdown",
   "metadata": {},
   "source": [
    "<span style=\"color:blue\">**CNV**</span>.\n"
   ]
  },
  {
   "cell_type": "code",
   "execution_count": 15,
   "metadata": {},
   "outputs": [
    {
     "name": "stdout",
     "output_type": "stream",
     "text": [
      "                               461df2ae-fcf1-4b93-be0a-c14954fe7c42\n",
      "Gene Symbol Locus ID Cytoband                                      \n",
      "NOL9        79707    1p36.31                                    2.0\n",
      "                               626c9788-d70c-449b-b9dc-5e3f6fc00991\n",
      "Gene Symbol Locus ID Cytoband                                      \n",
      "NOL9        79707    1p36.31                                    2.0\n",
      "                               687baf0b-aed9-4ab2-adb6-556a1d177a24\n",
      "Gene Symbol Locus ID Cytoband                                      \n",
      "NOL9        79707    1p36.31                                    1.0\n",
      "                               995a1ad2-faca-4a37-a59d-e62455985afb\n",
      "Gene Symbol Locus ID Cytoband                                      \n",
      "NOL9        79707    1p36.31                                    2.0\n",
      "                               9b3e7a03-cf8c-4da8-bc36-20129d7783ba\n",
      "Gene Symbol Locus ID Cytoband                                      \n",
      "NOL9        79707    1p36.31                                    2.0\n",
      "                               d733cf1a-4c42-4def-b6cb-5ef2c6a27fcd\n",
      "Gene Symbol Locus ID Cytoband                                      \n",
      "NOL9        79707    1p36.31                                    3.0\n",
      "                               f04aecf0-eb12-4ab9-928e-7bcf201b0b40\n",
      "Gene Symbol Locus ID Cytoband                                      \n",
      "NOL9        79707    1p36.31                                    2.0\n"
     ]
    }
   ],
   "source": [
    "cnv = get_cnv(donor_list, gene_name)"
   ]
  },
  {
   "cell_type": "markdown",
   "metadata": {},
   "source": [
    "<span style=\"color:blue\">**Expression PCAWG**</span>.\n"
   ]
  },
  {
   "cell_type": "code",
   "execution_count": 16,
   "metadata": {},
   "outputs": [
    {
     "name": "stderr",
     "output_type": "stream",
     "text": [
      "/opt/aci/sw/anaconda3/2020.07_gcc-4.8.5-bzb/lib/python3.8/site-packages/IPython/core/interactiveshell.py:3343: DtypeWarning: Columns (1,17,33,34,35,36) have mixed types.Specify dtype option on import or set low_memory=False.\n",
      "  exec(code_obj, self.user_global_ns, self.user_ns)\n"
     ]
    },
    {
     "name": "stdout",
     "output_type": "stream",
     "text": [
      "Number of normal patient: 0\n",
      "Number of synonymous patients: 6\n",
      "Number of other tumor patients:97\n",
      "test statistic:289.0,p-value:0.4916\n"
     ]
    },
    {
     "data": {
      "image/png": "[encoded data removed]",
      "text/plain": [
       "<Figure size 360x216 with 1 Axes>"
      ]
     },
     "metadata": {
      "needs_background": "light"
     },
     "output_type": "display_data"
    }
   ],
   "source": [
    "get_expression(gene_name)"
   ]
  },
  {
   "cell_type": "markdown",
   "metadata": {},
   "source": [
    "<span style=\"color:blue\">**CRISPR**</span>.\n"
   ]
  },
  {
   "cell_type": "code",
   "execution_count": 17,
   "metadata": {},
   "outputs": [
    {
     "name": "stdout",
     "output_type": "stream",
     "text": [
      "['Lymphoma Unspecified' 'Non Hodgkin Lymphoma' 'Hodgkin Lymphoma' 'ATL']\n"
     ]
    }
   ],
   "source": [
    "get_lineage(gene_name, 'Lymphocyte')"
   ]
  },
  {
   "cell_type": "code",
   "execution_count": 18,
   "metadata": {},
   "outputs": [
    {
     "name": "stdout",
     "output_type": "stream",
     "text": [
      "21 in histology subtype\n",
      "968 not in histology subtype\n",
      "test statistic:8019.0,    p-value:0.0489\n",
      "test statistic:9463.0,    p-value:0.2943\n"
     ]
    },
    {
     "data": {
      "image/png": "[encoded data removed]",
      "text/plain": [
       "<Figure size 360x216 with 1 Axes>"
      ]
     },
     "metadata": {
      "needs_background": "light"
     },
     "output_type": "display_data"
    },
    {
     "data": {
      "image/png": "[encoded data removed]",
      "text/plain": [
       "<Figure size 360x216 with 1 Axes>"
      ]
     },
     "metadata": {
      "needs_background": "light"
     },
     "output_type": "display_data"
    }
   ],
   "source": [
    "get_CERES(gene_name, 'Non Hodgkin Lymphoma')"
   ]
  },
  {
   "cell_type": "markdown",
   "metadata": {},
   "source": [
    "<span style=\"color:blue\">**Alternative Splicing**</span>  "
   ]
  },
  {
   "cell_type": "code",
   "execution_count": 14,
   "metadata": {},
   "outputs": [],
   "source": [
    "dir_splice = '../../anno_ref/ICGC/alternative_splicing'\n",
    "exp_dir = '../../anno_ref/ICGC/pcawg_rnaseq/'\n",
    "# Read aliquot id information\n",
    "df_exp_info = pd.read_csv(os.path.join(exp_dir,'rnaseq.metadata.tsv'), sep = '\\t')"
   ]
  },
  {
   "cell_type": "code",
   "execution_count": 15,
   "metadata": {},
   "outputs": [
    {
     "name": "stdout",
     "output_type": "stream",
     "text": [
      "DO51546 is not in PCAWG transcriptome analysis\n"
     ]
    }
   ],
   "source": [
    "### If patient is in the splicing file(transcriptome analysis info)\n",
    "for donor in donor_list:\n",
    "    tumor_id = df_exp_info[df_exp_info['icgc_donor_id'] == donor]['aliquot_id']\n",
    "    if len(tumor_id) ==0:\n",
    "        print(f'{donor} is not in PCAWG transcriptome analysis')"
   ]
  }
 ],
 "metadata": {
  "kernelspec": {
   "display_name": "Python 3",
   "language": "python",
   "name": "python3"
  },
  "language_info": {
   "codemirror_mode": {
    "name": "ipython",
    "version": 3
   },
   "file_extension": ".py",
   "mimetype": "text/x-python",
   "name": "python",
   "nbconvert_exporter": "python",
   "pygments_lexer": "ipython3",
   "version": "3.8.3"
  }
 },
 "nbformat": 4,
 "nbformat_minor": 4
}
