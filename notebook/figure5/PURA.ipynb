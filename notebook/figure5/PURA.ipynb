{
 "cells": [
  {
   "cell_type": "code",
   "execution_count": 1,
   "metadata": {},
   "outputs": [],
   "source": [
    "### This is a gene specific analysis notebook\n",
    "from candidate_utils import *"
   ]
  },
  {
   "cell_type": "code",
   "execution_count": 2,
   "metadata": {},
   "outputs": [],
   "source": [
    "%load_ext autoreload\n",
    "%autoreload 2"
   ]
  },
  {
   "cell_type": "code",
   "execution_count": 3,
   "metadata": {},
   "outputs": [],
   "source": [
    "# Gene-transcript dict\n",
    "dict_name = pickle.load(open(os.path.join(dir_refs,'dict_name_forcov_062121.pkl'), 'rb'))"
   ]
  },
  {
   "cell_type": "code",
   "execution_count": 4,
   "metadata": {},
   "outputs": [],
   "source": [
    "gene_name = 'PURA'"
   ]
  },
  {
   "cell_type": "code",
   "execution_count": 5,
   "metadata": {},
   "outputs": [
    {
     "name": "stdout",
     "output_type": "stream",
     "text": [
      "ENST00000331327\n"
     ]
    }
   ],
   "source": [
    "# Find transcript for the gene\n",
    "for transcript,gene in dict_name.items():\n",
    "    if gene == gene_name:\n",
    "        print(transcript)"
   ]
  },
  {
   "cell_type": "markdown",
   "metadata": {},
   "source": [
    "<span style=\"color:blue\">**The histology subtypes of patients with the mutation**</span>.\n"
   ]
  },
  {
   "cell_type": "code",
   "execution_count": 6,
   "metadata": {},
   "outputs": [
    {
     "name": "stderr",
     "output_type": "stream",
     "text": [
      "/opt/aci/sw/anaconda3/2020.07_gcc-4.8.5-bzb/lib/python3.8/site-packages/IPython/core/interactiveshell.py:3263: DtypeWarning: Columns (1,17,24,28,33,34,35,36) have mixed types.Specify dtype option on import or set low_memory=False.\n",
      "  if (await self.run_code(code, result,  async_=asy)):\n"
     ]
    }
   ],
   "source": [
    "df_str, df_num = get_num_str(gene_name)"
   ]
  },
  {
   "cell_type": "code",
   "execution_count": 7,
   "metadata": {},
   "outputs": [
    {
     "data": {
      "text/html": [
       "<div>\n",
       "<style scoped>\n",
       "    .dataframe tbody tr th:only-of-type {\n",
       "        vertical-align: middle;\n",
       "    }\n",
       "\n",
       "    .dataframe tbody tr th {\n",
       "        vertical-align: top;\n",
       "    }\n",
       "\n",
       "    .dataframe thead th {\n",
       "        text-align: right;\n",
       "    }\n",
       "</style>\n",
       "<table border=\"1\" class=\"dataframe\">\n",
       "  <thead>\n",
       "    <tr style=\"text-align: right;\">\n",
       "      <th></th>\n",
       "      <th>dcc_specimen_type</th>\n",
       "      <th>histology_tier3</th>\n",
       "      <th>histology_tier4</th>\n",
       "      <th>tumour_histological_type</th>\n",
       "      <th>tumour_stage</th>\n",
       "      <th>tumour_histological_comment</th>\n",
       "      <th>specimen_donor_treatment_type</th>\n",
       "    </tr>\n",
       "  </thead>\n",
       "  <tbody>\n",
       "    <tr>\n",
       "      <th>syn</th>\n",
       "      <td>{'Primary tumour - solid tissue': 2}</td>\n",
       "      <td>{'Adenocarcinoma': 2}</td>\n",
       "      <td>{'Infiltrating duct carcinoma': 2}</td>\n",
       "      <td>{'Infiltrating duct carcinoma, NOS': 2}</td>\n",
       "      <td>{nan: 1, 'T1N0MX': 1}</td>\n",
       "      <td>{nan: 2}</td>\n",
       "      <td>{nan: 1, 'no treatment': 1}</td>\n",
       "    </tr>\n",
       "    <tr>\n",
       "      <th>all</th>\n",
       "      <td>{'Primary tumour - solid tissue': 193, 'Metast...</td>\n",
       "      <td>{'Adenocarcinoma': 195}</td>\n",
       "      <td>{'Infiltrating duct carcinoma': 191, 'Mucinous...</td>\n",
       "      <td>{'Infiltrating duct carcinoma, NOS': 177, nan:...</td>\n",
       "      <td>{nan: 143, 'T2NxM0': 1, 'T3N2M0': 1, 'T2N1M0':...</td>\n",
       "      <td>{nan: 180, 'WARNING: Tumour histology inferred...</td>\n",
       "      <td>{nan: 108, 'no treatment': 86, 'other therapy'...</td>\n",
       "    </tr>\n",
       "  </tbody>\n",
       "</table>\n",
       "</div>"
      ],
      "text/plain": [
       "                                     dcc_specimen_type  \\\n",
       "syn               {'Primary tumour - solid tissue': 2}   \n",
       "all  {'Primary tumour - solid tissue': 193, 'Metast...   \n",
       "\n",
       "             histology_tier3  \\\n",
       "syn    {'Adenocarcinoma': 2}   \n",
       "all  {'Adenocarcinoma': 195}   \n",
       "\n",
       "                                       histology_tier4  \\\n",
       "syn                 {'Infiltrating duct carcinoma': 2}   \n",
       "all  {'Infiltrating duct carcinoma': 191, 'Mucinous...   \n",
       "\n",
       "                              tumour_histological_type  \\\n",
       "syn            {'Infiltrating duct carcinoma, NOS': 2}   \n",
       "all  {'Infiltrating duct carcinoma, NOS': 177, nan:...   \n",
       "\n",
       "                                          tumour_stage  \\\n",
       "syn                              {nan: 1, 'T1N0MX': 1}   \n",
       "all  {nan: 143, 'T2NxM0': 1, 'T3N2M0': 1, 'T2N1M0':...   \n",
       "\n",
       "                           tumour_histological_comment  \\\n",
       "syn                                           {nan: 2}   \n",
       "all  {nan: 180, 'WARNING: Tumour histology inferred...   \n",
       "\n",
       "                         specimen_donor_treatment_type  \n",
       "syn                        {nan: 1, 'no treatment': 1}  \n",
       "all  {nan: 108, 'no treatment': 86, 'other therapy'...  "
      ]
     },
     "execution_count": 7,
     "metadata": {},
     "output_type": "execute_result"
    }
   ],
   "source": [
    "df_str"
   ]
  },
  {
   "cell_type": "code",
   "execution_count": 8,
   "metadata": {},
   "outputs": [
    {
     "data": {
      "text/html": [
       "<div>\n",
       "<style scoped>\n",
       "    .dataframe tbody tr th:only-of-type {\n",
       "        vertical-align: middle;\n",
       "    }\n",
       "\n",
       "    .dataframe tbody tr th {\n",
       "        vertical-align: top;\n",
       "    }\n",
       "\n",
       "    .dataframe thead th {\n",
       "        text-align: right;\n",
       "    }\n",
       "</style>\n",
       "<table border=\"1\" class=\"dataframe\">\n",
       "  <thead>\n",
       "    <tr style=\"text-align: right;\">\n",
       "      <th></th>\n",
       "      <th></th>\n",
       "      <th>SV.events</th>\n",
       "      <th>Coding.SNVs</th>\n",
       "      <th>Non.coding.SNVs</th>\n",
       "      <th>CNA.events..do_not_use.</th>\n",
       "      <th>Retrotransposon.insertions</th>\n",
       "      <th>Mitochondrial.mutations</th>\n",
       "      <th>all.Indels</th>\n",
       "    </tr>\n",
       "    <tr>\n",
       "      <th>mut_status</th>\n",
       "      <th></th>\n",
       "      <th></th>\n",
       "      <th></th>\n",
       "      <th></th>\n",
       "      <th></th>\n",
       "      <th></th>\n",
       "      <th></th>\n",
       "      <th></th>\n",
       "    </tr>\n",
       "  </thead>\n",
       "  <tbody>\n",
       "    <tr>\n",
       "      <th rowspan=\"8\" valign=\"top\">syn</th>\n",
       "      <th>count</th>\n",
       "      <td>2.000000</td>\n",
       "      <td>2.000000</td>\n",
       "      <td>2.000000</td>\n",
       "      <td>2.000000</td>\n",
       "      <td>2.000000</td>\n",
       "      <td>2.000000</td>\n",
       "      <td>2.000000</td>\n",
       "    </tr>\n",
       "    <tr>\n",
       "      <th>mean</th>\n",
       "      <td>130.500000</td>\n",
       "      <td>93.500000</td>\n",
       "      <td>6534.000000</td>\n",
       "      <td>363.500000</td>\n",
       "      <td>1.500000</td>\n",
       "      <td>1.000000</td>\n",
       "      <td>646.500000</td>\n",
       "    </tr>\n",
       "    <tr>\n",
       "      <th>std</th>\n",
       "      <td>68.589358</td>\n",
       "      <td>17.677670</td>\n",
       "      <td>7580.184694</td>\n",
       "      <td>147.785317</td>\n",
       "      <td>2.121320</td>\n",
       "      <td>0.000000</td>\n",
       "      <td>781.352993</td>\n",
       "    </tr>\n",
       "    <tr>\n",
       "      <th>min</th>\n",
       "      <td>82.000000</td>\n",
       "      <td>81.000000</td>\n",
       "      <td>1174.000000</td>\n",
       "      <td>259.000000</td>\n",
       "      <td>0.000000</td>\n",
       "      <td>1.000000</td>\n",
       "      <td>94.000000</td>\n",
       "    </tr>\n",
       "    <tr>\n",
       "      <th>25%</th>\n",
       "      <td>106.250000</td>\n",
       "      <td>87.250000</td>\n",
       "      <td>3854.000000</td>\n",
       "      <td>311.250000</td>\n",
       "      <td>0.750000</td>\n",
       "      <td>1.000000</td>\n",
       "      <td>370.250000</td>\n",
       "    </tr>\n",
       "    <tr>\n",
       "      <th>50%</th>\n",
       "      <td>130.500000</td>\n",
       "      <td>93.500000</td>\n",
       "      <td>6534.000000</td>\n",
       "      <td>363.500000</td>\n",
       "      <td>1.500000</td>\n",
       "      <td>1.000000</td>\n",
       "      <td>646.500000</td>\n",
       "    </tr>\n",
       "    <tr>\n",
       "      <th>75%</th>\n",
       "      <td>154.750000</td>\n",
       "      <td>99.750000</td>\n",
       "      <td>9214.000000</td>\n",
       "      <td>415.750000</td>\n",
       "      <td>2.250000</td>\n",
       "      <td>1.000000</td>\n",
       "      <td>922.750000</td>\n",
       "    </tr>\n",
       "    <tr>\n",
       "      <th>max</th>\n",
       "      <td>179.000000</td>\n",
       "      <td>106.000000</td>\n",
       "      <td>11894.000000</td>\n",
       "      <td>468.000000</td>\n",
       "      <td>3.000000</td>\n",
       "      <td>1.000000</td>\n",
       "      <td>1199.000000</td>\n",
       "    </tr>\n",
       "    <tr>\n",
       "      <th rowspan=\"8\" valign=\"top\">all</th>\n",
       "      <th>count</th>\n",
       "      <td>192.000000</td>\n",
       "      <td>195.000000</td>\n",
       "      <td>195.000000</td>\n",
       "      <td>195.000000</td>\n",
       "      <td>194.000000</td>\n",
       "      <td>195.000000</td>\n",
       "      <td>195.000000</td>\n",
       "    </tr>\n",
       "    <tr>\n",
       "      <th>mean</th>\n",
       "      <td>250.906250</td>\n",
       "      <td>79.630769</td>\n",
       "      <td>7085.015385</td>\n",
       "      <td>624.758974</td>\n",
       "      <td>4.231959</td>\n",
       "      <td>3.615385</td>\n",
       "      <td>460.169231</td>\n",
       "    </tr>\n",
       "    <tr>\n",
       "      <th>std</th>\n",
       "      <td>224.165075</td>\n",
       "      <td>89.508895</td>\n",
       "      <td>7580.790020</td>\n",
       "      <td>474.609507</td>\n",
       "      <td>9.527860</td>\n",
       "      <td>3.180282</td>\n",
       "      <td>392.005282</td>\n",
       "    </tr>\n",
       "    <tr>\n",
       "      <th>min</th>\n",
       "      <td>0.000000</td>\n",
       "      <td>8.000000</td>\n",
       "      <td>1174.000000</td>\n",
       "      <td>75.000000</td>\n",
       "      <td>0.000000</td>\n",
       "      <td>0.000000</td>\n",
       "      <td>81.000000</td>\n",
       "    </tr>\n",
       "    <tr>\n",
       "      <th>25%</th>\n",
       "      <td>75.000000</td>\n",
       "      <td>35.000000</td>\n",
       "      <td>2783.500000</td>\n",
       "      <td>258.000000</td>\n",
       "      <td>0.000000</td>\n",
       "      <td>2.000000</td>\n",
       "      <td>171.500000</td>\n",
       "    </tr>\n",
       "    <tr>\n",
       "      <th>50%</th>\n",
       "      <td>198.000000</td>\n",
       "      <td>56.000000</td>\n",
       "      <td>5072.000000</td>\n",
       "      <td>545.000000</td>\n",
       "      <td>1.000000</td>\n",
       "      <td>3.000000</td>\n",
       "      <td>320.000000</td>\n",
       "    </tr>\n",
       "    <tr>\n",
       "      <th>75%</th>\n",
       "      <td>362.250000</td>\n",
       "      <td>92.000000</td>\n",
       "      <td>8839.500000</td>\n",
       "      <td>843.000000</td>\n",
       "      <td>3.000000</td>\n",
       "      <td>5.000000</td>\n",
       "      <td>596.500000</td>\n",
       "    </tr>\n",
       "    <tr>\n",
       "      <th>max</th>\n",
       "      <td>1222.000000</td>\n",
       "      <td>913.000000</td>\n",
       "      <td>64152.000000</td>\n",
       "      <td>2573.000000</td>\n",
       "      <td>76.000000</td>\n",
       "      <td>33.000000</td>\n",
       "      <td>2418.000000</td>\n",
       "    </tr>\n",
       "  </tbody>\n",
       "</table>\n",
       "</div>"
      ],
      "text/plain": [
       "                    SV.events  Coding.SNVs  Non.coding.SNVs  \\\n",
       "mut_status                                                    \n",
       "syn        count     2.000000     2.000000         2.000000   \n",
       "           mean    130.500000    93.500000      6534.000000   \n",
       "           std      68.589358    17.677670      7580.184694   \n",
       "           min      82.000000    81.000000      1174.000000   \n",
       "           25%     106.250000    87.250000      3854.000000   \n",
       "           50%     130.500000    93.500000      6534.000000   \n",
       "           75%     154.750000    99.750000      9214.000000   \n",
       "           max     179.000000   106.000000     11894.000000   \n",
       "all        count   192.000000   195.000000       195.000000   \n",
       "           mean    250.906250    79.630769      7085.015385   \n",
       "           std     224.165075    89.508895      7580.790020   \n",
       "           min       0.000000     8.000000      1174.000000   \n",
       "           25%      75.000000    35.000000      2783.500000   \n",
       "           50%     198.000000    56.000000      5072.000000   \n",
       "           75%     362.250000    92.000000      8839.500000   \n",
       "           max    1222.000000   913.000000     64152.000000   \n",
       "\n",
       "                  CNA.events..do_not_use.  Retrotransposon.insertions  \\\n",
       "mut_status                                                              \n",
       "syn        count                 2.000000                    2.000000   \n",
       "           mean                363.500000                    1.500000   \n",
       "           std                 147.785317                    2.121320   \n",
       "           min                 259.000000                    0.000000   \n",
       "           25%                 311.250000                    0.750000   \n",
       "           50%                 363.500000                    1.500000   \n",
       "           75%                 415.750000                    2.250000   \n",
       "           max                 468.000000                    3.000000   \n",
       "all        count               195.000000                  194.000000   \n",
       "           mean                624.758974                    4.231959   \n",
       "           std                 474.609507                    9.527860   \n",
       "           min                  75.000000                    0.000000   \n",
       "           25%                 258.000000                    0.000000   \n",
       "           50%                 545.000000                    1.000000   \n",
       "           75%                 843.000000                    3.000000   \n",
       "           max                2573.000000                   76.000000   \n",
       "\n",
       "                  Mitochondrial.mutations   all.Indels  \n",
       "mut_status                                              \n",
       "syn        count                 2.000000     2.000000  \n",
       "           mean                  1.000000   646.500000  \n",
       "           std                   0.000000   781.352993  \n",
       "           min                   1.000000    94.000000  \n",
       "           25%                   1.000000   370.250000  \n",
       "           50%                   1.000000   646.500000  \n",
       "           75%                   1.000000   922.750000  \n",
       "           max                   1.000000  1199.000000  \n",
       "all        count               195.000000   195.000000  \n",
       "           mean                  3.615385   460.169231  \n",
       "           std                   3.180282   392.005282  \n",
       "           min                   0.000000    81.000000  \n",
       "           25%                   2.000000   171.500000  \n",
       "           50%                   3.000000   320.000000  \n",
       "           75%                   5.000000   596.500000  \n",
       "           max                  33.000000  2418.000000  "
      ]
     },
     "execution_count": 8,
     "metadata": {},
     "output_type": "execute_result"
    }
   ],
   "source": [
    "df_num"
   ]
  },
  {
   "cell_type": "markdown",
   "metadata": {},
   "source": [
    "<span style=\"color:blue\">**Mutation**</span>.\n"
   ]
  },
  {
   "cell_type": "code",
   "execution_count": 9,
   "metadata": {},
   "outputs": [
    {
     "name": "stderr",
     "output_type": "stream",
     "text": [
      "/opt/aci/sw/anaconda3/2020.07_gcc-4.8.5-bzb/lib/python3.8/site-packages/IPython/core/interactiveshell.py:3263: DtypeWarning: Columns (1,17,24,28,33,34,35,36) have mixed types.Specify dtype option on import or set low_memory=False.\n",
      "  if (await self.run_code(code, result,  async_=asy)):\n"
     ]
    },
    {
     "name": "stdout",
     "output_type": "stream",
     "text": [
      "Total 193 patients\n",
      "2 patients have synonymous mutations, they are: ['DO1004', 'DO218347']\n",
      "5:g.139494369T>A\n",
      "5:g.139494363T>C\n",
      "5:g.139494468T>C\n",
      "5:g.139494471G>C\n",
      "5:g.139494492G>C\n",
      "5:g.139494495T>C\n",
      "5:g.139494501A>G\n"
     ]
    }
   ],
   "source": [
    "df_all, df_mut, donor_list = get_mut(gene_name)"
   ]
  },
  {
   "cell_type": "code",
   "execution_count": 10,
   "metadata": {},
   "outputs": [
    {
     "data": {
      "text/plain": [
       "Hugo_Symbol  Variant_Classification  Donor_ID\n",
       "PURA         Silent                  DO1004      g.chr5:139494369T>A\n",
       "                                     DO218347    g.chr5:139494363T>C\n",
       "                                     DO218347    g.chr5:139494468T>C\n",
       "                                     DO218347    g.chr5:139494471G>C\n",
       "                                     DO218347    g.chr5:139494492G>C\n",
       "                                     DO218347    g.chr5:139494495T>C\n",
       "                                     DO218347    g.chr5:139494501A>G\n",
       "Name: Genome_Change, dtype: object"
      ]
     },
     "execution_count": 10,
     "metadata": {},
     "output_type": "execute_result"
    }
   ],
   "source": [
    "df_all.loc[pd.IndexSlice[gene_name, :,donor_list],'Genome_Change']"
   ]
  },
  {
   "cell_type": "markdown",
   "metadata": {},
   "source": [
    "<span style=\"color:blue\">**CNV**</span>.\n"
   ]
  },
  {
   "cell_type": "code",
   "execution_count": 12,
   "metadata": {},
   "outputs": [
    {
     "name": "stdout",
     "output_type": "stream",
     "text": [
      "                               f393bafe-7503-5c45-e040-11ac0d484511\n",
      "Gene Symbol Locus ID Cytoband                                      \n",
      "PURA        5813     5q31.2                                     4.0\n",
      "                               f7f66114-e321-1d4c-e040-11ac0d48541a\n",
      "Gene Symbol Locus ID Cytoband                                      \n",
      "PURA        5813     5q31.2                                     1.0\n"
     ]
    }
   ],
   "source": [
    "cnv = get_cnv(donor_list, gene_name)"
   ]
  },
  {
   "cell_type": "markdown",
   "metadata": {},
   "source": [
    "<span style=\"color:blue\">**Expression PCAWG**</span>.\n"
   ]
  },
  {
   "cell_type": "code",
   "execution_count": 13,
   "metadata": {},
   "outputs": [
    {
     "name": "stderr",
     "output_type": "stream",
     "text": [
      "/opt/aci/sw/anaconda3/2020.07_gcc-4.8.5-bzb/lib/python3.8/site-packages/IPython/core/interactiveshell.py:3343: DtypeWarning: Columns (1,17,24,28,33,34,35,36) have mixed types.Specify dtype option on import or set low_memory=False.\n",
      "  exec(code_obj, self.user_global_ns, self.user_ns)\n"
     ]
    },
    {
     "name": "stdout",
     "output_type": "stream",
     "text": [
      "Number of normal patient: 6\n",
      "Number of synonymous patients: 0\n",
      "Number of other tumor patients:85\n",
      "test statistic:0.0,p-value:0.0\n"
     ]
    },
    {
     "name": "stderr",
     "output_type": "stream",
     "text": [
      "/opt/aci/sw/anaconda3/2020.07_gcc-4.8.5-bzb/lib/python3.8/site-packages/scipy/stats/stats.py:7039: RuntimeWarning: divide by zero encountered in double_scalars\n",
      "  z = (bigu - meanrank) / sd\n"
     ]
    },
    {
     "data": {
      "image/png": "[encoded data removed]",
      "text/plain": [
       "<Figure size 360x216 with 1 Axes>"
      ]
     },
     "metadata": {
      "needs_background": "light"
     },
     "output_type": "display_data"
    }
   ],
   "source": [
    "get_expression(gene_name)"
   ]
  },
  {
   "cell_type": "markdown",
   "metadata": {},
   "source": [
    "<span style=\"color:blue\">**CRISPR**</span>.\n"
   ]
  },
  {
   "cell_type": "code",
   "execution_count": 14,
   "metadata": {},
   "outputs": [
    {
     "name": "stdout",
     "output_type": "stream",
     "text": [
      "['Breast Carcinoma' 'Breast Ductal Carcinoma' nan 'Breast Adenocarcinoma']\n"
     ]
    }
   ],
   "source": [
    "get_lineage(gene_name, 'Breast')"
   ]
  },
  {
   "cell_type": "code",
   "execution_count": 16,
   "metadata": {},
   "outputs": [
    {
     "name": "stdout",
     "output_type": "stream",
     "text": [
      "19 in histology subtype\n",
      "970 not in histology subtype\n",
      "test statistic:7065.0,    p-value:0.0406\n",
      "test statistic:7534.0,    p-value:0.0865\n"
     ]
    },
    {
     "data": {
      "image/png": "[encoded data removed]",
      "text/plain": [
       "<Figure size 360x216 with 1 Axes>"
      ]
     },
     "metadata": {
      "needs_background": "light"
     },
     "output_type": "display_data"
    },
    {
     "data": {
      "image/png": "[encoded data removed]",
      "text/plain": [
       "<Figure size 360x216 with 1 Axes>"
      ]
     },
     "metadata": {
      "needs_background": "light"
     },
     "output_type": "display_data"
    }
   ],
   "source": [
    "get_CERES(gene_name, 'Breast Ductal Carcinoma')"
   ]
  },
  {
   "cell_type": "markdown",
   "metadata": {},
   "source": [
    "<span style=\"color:blue\">**Alternative Splicing**</span>  "
   ]
  },
  {
   "cell_type": "code",
   "execution_count": 14,
   "metadata": {},
   "outputs": [],
   "source": [
    "dir_splice = '../../anno_ref/ICGC/alternative_splicing'\n",
    "exp_dir = '../../anno_ref/ICGC/pcawg_rnaseq/'\n",
    "# Read aliquot id information\n",
    "df_exp_info = pd.read_csv(os.path.join(exp_dir,'rnaseq.metadata.tsv'), sep = '\\t')"
   ]
  },
  {
   "cell_type": "code",
   "execution_count": 15,
   "metadata": {},
   "outputs": [
    {
     "name": "stdout",
     "output_type": "stream",
     "text": [
      "DO51546 is not in PCAWG transcriptome analysis\n"
     ]
    }
   ],
   "source": [
    "### If patient is in the splicing file(transcriptome analysis info)\n",
    "for donor in donor_list:\n",
    "    tumor_id = df_exp_info[df_exp_info['icgc_donor_id'] == donor]['aliquot_id']\n",
    "    if len(tumor_id) ==0:\n",
    "        print(f'{donor} is not in PCAWG transcriptome analysis')"
   ]
  }
 ],
 "metadata": {
  "kernelspec": {
   "display_name": "Python 3",
   "language": "python",
   "name": "python3"
  },
  "language_info": {
   "codemirror_mode": {
    "name": "ipython",
    "version": 3
   },
   "file_extension": ".py",
   "mimetype": "text/x-python",
   "name": "python",
   "nbconvert_exporter": "python",
   "pygments_lexer": "ipython3",
   "version": "3.6.10"
  }
 },
 "nbformat": 4,
 "nbformat_minor": 4
}
