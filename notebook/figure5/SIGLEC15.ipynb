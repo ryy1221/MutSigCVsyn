{
 "cells": [
  {
   "cell_type": "code",
   "execution_count": 1,
   "metadata": {},
   "outputs": [],
   "source": [
    "### This is a gene specific analysis notebook\n",
    "from candidate_utils import *"
   ]
  },
  {
   "cell_type": "code",
   "execution_count": 2,
   "metadata": {},
   "outputs": [],
   "source": [
    "%load_ext autoreload\n",
    "%autoreload 2"
   ]
  },
  {
   "cell_type": "code",
   "execution_count": 3,
   "metadata": {},
   "outputs": [],
   "source": [
    "# Gene-transcript dict\n",
    "dict_name = pickle.load(open(os.path.join(dir_refs,'dict_name_forcov_062121.pkl'), 'rb'))"
   ]
  },
  {
   "cell_type": "code",
   "execution_count": 4,
   "metadata": {},
   "outputs": [],
   "source": [
    "gene_name = 'SIGLEC15'"
   ]
  },
  {
   "cell_type": "code",
   "execution_count": 5,
   "metadata": {},
   "outputs": [
    {
     "name": "stdout",
     "output_type": "stream",
     "text": [
      "ENST00000389474\n"
     ]
    }
   ],
   "source": [
    "# Find transcript for the gene\n",
    "for transcript,gene in dict_name.items():\n",
    "    if gene == gene_name:\n",
    "        print(transcript)"
   ]
  },
  {
   "cell_type": "markdown",
   "metadata": {},
   "source": [
    "<span style=\"color:blue\">**The histology subtypes of patients with the mutation**</span>.\n"
   ]
  },
  {
   "cell_type": "code",
   "execution_count": 6,
   "metadata": {},
   "outputs": [
    {
     "name": "stderr",
     "output_type": "stream",
     "text": [
      "/opt/aci/sw/anaconda3/2020.07_gcc-4.8.5-bzb/lib/python3.8/site-packages/IPython/core/interactiveshell.py:3263: DtypeWarning: Columns (1,17,24,33,34,35,36) have mixed types.Specify dtype option on import or set low_memory=False.\n",
      "  if (await self.run_code(code, result,  async_=asy)):\n"
     ]
    }
   ],
   "source": [
    "df_str, df_num = get_num_str(gene_name)"
   ]
  },
  {
   "cell_type": "code",
   "execution_count": 7,
   "metadata": {},
   "outputs": [
    {
     "data": {
      "text/html": [
       "<div>\n",
       "<style scoped>\n",
       "    .dataframe tbody tr th:only-of-type {\n",
       "        vertical-align: middle;\n",
       "    }\n",
       "\n",
       "    .dataframe tbody tr th {\n",
       "        vertical-align: top;\n",
       "    }\n",
       "\n",
       "    .dataframe thead th {\n",
       "        text-align: right;\n",
       "    }\n",
       "</style>\n",
       "<table border=\"1\" class=\"dataframe\">\n",
       "  <thead>\n",
       "    <tr style=\"text-align: right;\">\n",
       "      <th></th>\n",
       "      <th>dcc_specimen_type</th>\n",
       "      <th>histology_tier3</th>\n",
       "      <th>histology_tier4</th>\n",
       "      <th>tumour_histological_type</th>\n",
       "      <th>tumour_stage</th>\n",
       "      <th>tumour_histological_comment</th>\n",
       "      <th>specimen_donor_treatment_type</th>\n",
       "    </tr>\n",
       "  </thead>\n",
       "  <tbody>\n",
       "    <tr>\n",
       "      <th>syn</th>\n",
       "      <td>{'Primary tumour - other': 1}</td>\n",
       "      <td>{'Adenocarcinoma': 1}</td>\n",
       "      <td>{'Adenocarcinoma': 1}</td>\n",
       "      <td>{nan: 1}</td>\n",
       "      <td>{nan: 1}</td>\n",
       "      <td>{'WARNING: Tumour histology inferred from proj...</td>\n",
       "      <td>{'no treatment': 1}</td>\n",
       "    </tr>\n",
       "    <tr>\n",
       "      <th>all</th>\n",
       "      <td>{'Primary tumour - other': 129, 'Primary tumou...</td>\n",
       "      <td>{'Adenocarcinoma': 232}</td>\n",
       "      <td>{'Adenocarcinoma': 60, 'Pancreatic ductal carc...</td>\n",
       "      <td>{nan: 60, 'Infiltrating duct carcinoma, NOS': ...</td>\n",
       "      <td>{nan: 57, 'IIB': 56, 'T2N0MX': 5, 'T1N1bMX': 1...</td>\n",
       "      <td>{'WARNING: Tumour histology inferred from proj...</td>\n",
       "      <td>{'no treatment': 171, 'surgery': 38, 'chemothe...</td>\n",
       "    </tr>\n",
       "  </tbody>\n",
       "</table>\n",
       "</div>"
      ],
      "text/plain": [
       "                                     dcc_specimen_type  \\\n",
       "syn                      {'Primary tumour - other': 1}   \n",
       "all  {'Primary tumour - other': 129, 'Primary tumou...   \n",
       "\n",
       "             histology_tier3  \\\n",
       "syn    {'Adenocarcinoma': 1}   \n",
       "all  {'Adenocarcinoma': 232}   \n",
       "\n",
       "                                       histology_tier4  \\\n",
       "syn                              {'Adenocarcinoma': 1}   \n",
       "all  {'Adenocarcinoma': 60, 'Pancreatic ductal carc...   \n",
       "\n",
       "                              tumour_histological_type  \\\n",
       "syn                                           {nan: 1}   \n",
       "all  {nan: 60, 'Infiltrating duct carcinoma, NOS': ...   \n",
       "\n",
       "                                          tumour_stage  \\\n",
       "syn                                           {nan: 1}   \n",
       "all  {nan: 57, 'IIB': 56, 'T2N0MX': 5, 'T1N1bMX': 1...   \n",
       "\n",
       "                           tumour_histological_comment  \\\n",
       "syn  {'WARNING: Tumour histology inferred from proj...   \n",
       "all  {'WARNING: Tumour histology inferred from proj...   \n",
       "\n",
       "                         specimen_donor_treatment_type  \n",
       "syn                                {'no treatment': 1}  \n",
       "all  {'no treatment': 171, 'surgery': 38, 'chemothe...  "
      ]
     },
     "execution_count": 7,
     "metadata": {},
     "output_type": "execute_result"
    }
   ],
   "source": [
    "df_str"
   ]
  },
  {
   "cell_type": "code",
   "execution_count": 8,
   "metadata": {},
   "outputs": [
    {
     "data": {
      "text/html": [
       "<div>\n",
       "<style scoped>\n",
       "    .dataframe tbody tr th:only-of-type {\n",
       "        vertical-align: middle;\n",
       "    }\n",
       "\n",
       "    .dataframe tbody tr th {\n",
       "        vertical-align: top;\n",
       "    }\n",
       "\n",
       "    .dataframe thead th {\n",
       "        text-align: right;\n",
       "    }\n",
       "</style>\n",
       "<table border=\"1\" class=\"dataframe\">\n",
       "  <thead>\n",
       "    <tr style=\"text-align: right;\">\n",
       "      <th></th>\n",
       "      <th></th>\n",
       "      <th>SV.events</th>\n",
       "      <th>Coding.SNVs</th>\n",
       "      <th>Non.coding.SNVs</th>\n",
       "      <th>CNA.events..do_not_use.</th>\n",
       "      <th>Retrotransposon.insertions</th>\n",
       "      <th>Mitochondrial.mutations</th>\n",
       "      <th>all.Indels</th>\n",
       "    </tr>\n",
       "    <tr>\n",
       "      <th>mut_status</th>\n",
       "      <th></th>\n",
       "      <th></th>\n",
       "      <th></th>\n",
       "      <th></th>\n",
       "      <th></th>\n",
       "      <th></th>\n",
       "      <th></th>\n",
       "      <th></th>\n",
       "    </tr>\n",
       "  </thead>\n",
       "  <tbody>\n",
       "    <tr>\n",
       "      <th rowspan=\"8\" valign=\"top\">syn</th>\n",
       "      <th>count</th>\n",
       "      <td>6.000000</td>\n",
       "      <td>6.000000</td>\n",
       "      <td>6.000000</td>\n",
       "      <td>6.000000</td>\n",
       "      <td>6.000000</td>\n",
       "      <td>6.000000</td>\n",
       "      <td>6.000000</td>\n",
       "    </tr>\n",
       "    <tr>\n",
       "      <th>mean</th>\n",
       "      <td>84.333333</td>\n",
       "      <td>1615.500000</td>\n",
       "      <td>212489.666667</td>\n",
       "      <td>275.333333</td>\n",
       "      <td>0.666667</td>\n",
       "      <td>2.666667</td>\n",
       "      <td>1283.000000</td>\n",
       "    </tr>\n",
       "    <tr>\n",
       "      <th>std</th>\n",
       "      <td>88.991385</td>\n",
       "      <td>1293.003751</td>\n",
       "      <td>158158.019245</td>\n",
       "      <td>206.418668</td>\n",
       "      <td>1.211060</td>\n",
       "      <td>2.422120</td>\n",
       "      <td>936.930520</td>\n",
       "    </tr>\n",
       "    <tr>\n",
       "      <th>min</th>\n",
       "      <td>30.000000</td>\n",
       "      <td>542.000000</td>\n",
       "      <td>70331.000000</td>\n",
       "      <td>157.000000</td>\n",
       "      <td>0.000000</td>\n",
       "      <td>0.000000</td>\n",
       "      <td>431.000000</td>\n",
       "    </tr>\n",
       "    <tr>\n",
       "      <th>25%</th>\n",
       "      <td>40.250000</td>\n",
       "      <td>600.500000</td>\n",
       "      <td>79879.000000</td>\n",
       "      <td>179.000000</td>\n",
       "      <td>0.000000</td>\n",
       "      <td>1.000000</td>\n",
       "      <td>615.500000</td>\n",
       "    </tr>\n",
       "    <tr>\n",
       "      <th>50%</th>\n",
       "      <td>56.500000</td>\n",
       "      <td>1070.000000</td>\n",
       "      <td>166630.000000</td>\n",
       "      <td>206.500000</td>\n",
       "      <td>0.000000</td>\n",
       "      <td>2.000000</td>\n",
       "      <td>909.500000</td>\n",
       "    </tr>\n",
       "    <tr>\n",
       "      <th>75%</th>\n",
       "      <td>62.250000</td>\n",
       "      <td>2626.250000</td>\n",
       "      <td>332539.000000</td>\n",
       "      <td>215.250000</td>\n",
       "      <td>0.750000</td>\n",
       "      <td>4.500000</td>\n",
       "      <td>1875.500000</td>\n",
       "    </tr>\n",
       "    <tr>\n",
       "      <th>max</th>\n",
       "      <td>264.000000</td>\n",
       "      <td>3422.000000</td>\n",
       "      <td>432543.000000</td>\n",
       "      <td>694.000000</td>\n",
       "      <td>3.000000</td>\n",
       "      <td>6.000000</td>\n",
       "      <td>2733.000000</td>\n",
       "    </tr>\n",
       "    <tr>\n",
       "      <th rowspan=\"8\" valign=\"top\">all</th>\n",
       "      <th>count</th>\n",
       "      <td>106.000000</td>\n",
       "      <td>107.000000</td>\n",
       "      <td>107.000000</td>\n",
       "      <td>107.000000</td>\n",
       "      <td>107.000000</td>\n",
       "      <td>107.000000</td>\n",
       "      <td>107.000000</td>\n",
       "    </tr>\n",
       "    <tr>\n",
       "      <th>mean</th>\n",
       "      <td>182.490566</td>\n",
       "      <td>803.971963</td>\n",
       "      <td>112468.271028</td>\n",
       "      <td>487.065421</td>\n",
       "      <td>4.990654</td>\n",
       "      <td>2.168224</td>\n",
       "      <td>1000.140187</td>\n",
       "    </tr>\n",
       "    <tr>\n",
       "      <th>std</th>\n",
       "      <td>213.635080</td>\n",
       "      <td>1008.382232</td>\n",
       "      <td>144315.255781</td>\n",
       "      <td>461.390500</td>\n",
       "      <td>34.356756</td>\n",
       "      <td>1.840252</td>\n",
       "      <td>2274.979637</td>\n",
       "    </tr>\n",
       "    <tr>\n",
       "      <th>min</th>\n",
       "      <td>12.000000</td>\n",
       "      <td>20.000000</td>\n",
       "      <td>2126.000000</td>\n",
       "      <td>118.000000</td>\n",
       "      <td>0.000000</td>\n",
       "      <td>0.000000</td>\n",
       "      <td>79.000000</td>\n",
       "    </tr>\n",
       "    <tr>\n",
       "      <th>25%</th>\n",
       "      <td>49.250000</td>\n",
       "      <td>121.500000</td>\n",
       "      <td>17297.000000</td>\n",
       "      <td>202.000000</td>\n",
       "      <td>0.000000</td>\n",
       "      <td>1.000000</td>\n",
       "      <td>401.000000</td>\n",
       "    </tr>\n",
       "    <tr>\n",
       "      <th>50%</th>\n",
       "      <td>98.000000</td>\n",
       "      <td>496.000000</td>\n",
       "      <td>70331.000000</td>\n",
       "      <td>317.000000</td>\n",
       "      <td>0.000000</td>\n",
       "      <td>2.000000</td>\n",
       "      <td>556.000000</td>\n",
       "    </tr>\n",
       "    <tr>\n",
       "      <th>75%</th>\n",
       "      <td>242.750000</td>\n",
       "      <td>932.500000</td>\n",
       "      <td>138316.500000</td>\n",
       "      <td>636.000000</td>\n",
       "      <td>2.000000</td>\n",
       "      <td>3.000000</td>\n",
       "      <td>900.000000</td>\n",
       "    </tr>\n",
       "    <tr>\n",
       "      <th>max</th>\n",
       "      <td>1234.000000</td>\n",
       "      <td>5164.000000</td>\n",
       "      <td>854014.000000</td>\n",
       "      <td>3128.000000</td>\n",
       "      <td>355.000000</td>\n",
       "      <td>8.000000</td>\n",
       "      <td>22963.000000</td>\n",
       "    </tr>\n",
       "  </tbody>\n",
       "</table>\n",
       "</div>"
      ],
      "text/plain": [
       "                    SV.events  Coding.SNVs  Non.coding.SNVs  \\\n",
       "mut_status                                                    \n",
       "syn        count     6.000000     6.000000         6.000000   \n",
       "           mean     84.333333  1615.500000    212489.666667   \n",
       "           std      88.991385  1293.003751    158158.019245   \n",
       "           min      30.000000   542.000000     70331.000000   \n",
       "           25%      40.250000   600.500000     79879.000000   \n",
       "           50%      56.500000  1070.000000    166630.000000   \n",
       "           75%      62.250000  2626.250000    332539.000000   \n",
       "           max     264.000000  3422.000000    432543.000000   \n",
       "all        count   106.000000   107.000000       107.000000   \n",
       "           mean    182.490566   803.971963    112468.271028   \n",
       "           std     213.635080  1008.382232    144315.255781   \n",
       "           min      12.000000    20.000000      2126.000000   \n",
       "           25%      49.250000   121.500000     17297.000000   \n",
       "           50%      98.000000   496.000000     70331.000000   \n",
       "           75%     242.750000   932.500000    138316.500000   \n",
       "           max    1234.000000  5164.000000    854014.000000   \n",
       "\n",
       "                  CNA.events..do_not_use.  Retrotransposon.insertions  \\\n",
       "mut_status                                                              \n",
       "syn        count                 6.000000                    6.000000   \n",
       "           mean                275.333333                    0.666667   \n",
       "           std                 206.418668                    1.211060   \n",
       "           min                 157.000000                    0.000000   \n",
       "           25%                 179.000000                    0.000000   \n",
       "           50%                 206.500000                    0.000000   \n",
       "           75%                 215.250000                    0.750000   \n",
       "           max                 694.000000                    3.000000   \n",
       "all        count               107.000000                  107.000000   \n",
       "           mean                487.065421                    4.990654   \n",
       "           std                 461.390500                   34.356756   \n",
       "           min                 118.000000                    0.000000   \n",
       "           25%                 202.000000                    0.000000   \n",
       "           50%                 317.000000                    0.000000   \n",
       "           75%                 636.000000                    2.000000   \n",
       "           max                3128.000000                  355.000000   \n",
       "\n",
       "                  Mitochondrial.mutations    all.Indels  \n",
       "mut_status                                               \n",
       "syn        count                 6.000000      6.000000  \n",
       "           mean                  2.666667   1283.000000  \n",
       "           std                   2.422120    936.930520  \n",
       "           min                   0.000000    431.000000  \n",
       "           25%                   1.000000    615.500000  \n",
       "           50%                   2.000000    909.500000  \n",
       "           75%                   4.500000   1875.500000  \n",
       "           max                   6.000000   2733.000000  \n",
       "all        count               107.000000    107.000000  \n",
       "           mean                  2.168224   1000.140187  \n",
       "           std                   1.840252   2274.979637  \n",
       "           min                   0.000000     79.000000  \n",
       "           25%                   1.000000    401.000000  \n",
       "           50%                   2.000000    556.000000  \n",
       "           75%                   3.000000    900.000000  \n",
       "           max                   8.000000  22963.000000  "
      ]
     },
     "execution_count": 8,
     "metadata": {},
     "output_type": "execute_result"
    }
   ],
   "source": [
    "df_num"
   ]
  },
  {
   "cell_type": "markdown",
   "metadata": {},
   "source": [
    "<span style=\"color:blue\">**Mutation**</span>.\n"
   ]
  },
  {
   "cell_type": "code",
   "execution_count": 8,
   "metadata": {},
   "outputs": [
    {
     "name": "stderr",
     "output_type": "stream",
     "text": [
      "/opt/aci/sw/anaconda3/2020.07_gcc-4.8.5-bzb/lib/python3.8/site-packages/IPython/core/interactiveshell.py:3263: DtypeWarning: Columns (1,17,24,33,34,35,36) have mixed types.Specify dtype option on import or set low_memory=False.\n",
      "  if (await self.run_code(code, result,  async_=asy)):\n"
     ]
    },
    {
     "name": "stdout",
     "output_type": "stream",
     "text": [
      "Total 230 patients\n",
      "1 patients have synonymous mutations, they are: ['DO51546']\n",
      "18:g.43418687G>C\n",
      "18:g.43418708G>T\n"
     ]
    }
   ],
   "source": [
    "df_all, df_mut, donor_list = get_mut(gene_name)"
   ]
  },
  {
   "cell_type": "code",
   "execution_count": 9,
   "metadata": {},
   "outputs": [
    {
     "data": {
      "text/plain": [
       "Hugo_Symbol  Variant_Classification  Donor_ID\n",
       "SIGLEC15     Silent                  DO51546     g.chr18:43418687G>C\n",
       "                                     DO51546     g.chr18:43418708G>T\n",
       "Name: Genome_Change, dtype: object"
      ]
     },
     "execution_count": 9,
     "metadata": {},
     "output_type": "execute_result"
    }
   ],
   "source": [
    "df_all.loc[pd.IndexSlice[gene_name, :,donor_list],'Genome_Change']"
   ]
  },
  {
   "cell_type": "markdown",
   "metadata": {},
   "source": [
    "<span style=\"color:blue\">**CNV**</span>.\n"
   ]
  },
  {
   "cell_type": "code",
   "execution_count": 10,
   "metadata": {},
   "outputs": [
    {
     "name": "stdout",
     "output_type": "stream",
     "text": [
      "                               754d26af-f184-497c-856a-cd1ea7a5115c\n",
      "Gene Symbol Locus ID Cytoband                                      \n",
      "SIGLEC15    284266   18q12.3                                    1.0\n"
     ]
    }
   ],
   "source": [
    "cnv = get_cnv(donor_list, gene_name)"
   ]
  },
  {
   "cell_type": "markdown",
   "metadata": {},
   "source": [
    "<span style=\"color:blue\">**Expression PCAWG**</span>.\n"
   ]
  },
  {
   "cell_type": "code",
   "execution_count": 11,
   "metadata": {},
   "outputs": [
    {
     "name": "stderr",
     "output_type": "stream",
     "text": [
      "/opt/aci/sw/anaconda3/2020.07_gcc-4.8.5-bzb/lib/python3.8/site-packages/IPython/core/interactiveshell.py:3343: DtypeWarning: Columns (1,17,24,33,34,35,36) have mixed types.Specify dtype option on import or set low_memory=False.\n",
      "  exec(code_obj, self.user_global_ns, self.user_ns)\n"
     ]
    },
    {
     "name": "stdout",
     "output_type": "stream",
     "text": [
      "Number of normal patient: 0\n",
      "Number of synonymous patients: 0\n",
      "Number of other tumor patients:78\n",
      "test statistic:0.0,p-value:0.0\n"
     ]
    },
    {
     "name": "stderr",
     "output_type": "stream",
     "text": [
      "/opt/aci/sw/anaconda3/2020.07_gcc-4.8.5-bzb/lib/python3.8/site-packages/scipy/stats/stats.py:7039: RuntimeWarning: divide by zero encountered in double_scalars\n",
      "  z = (bigu - meanrank) / sd\n"
     ]
    },
    {
     "data": {
      "image/png": "[encoded data removed]",
      "text/plain": [
       "<Figure size 360x216 with 1 Axes>"
      ]
     },
     "metadata": {
      "needs_background": "light"
     },
     "output_type": "display_data"
    }
   ],
   "source": [
    "get_expression(gene_name)"
   ]
  },
  {
   "cell_type": "markdown",
   "metadata": {},
   "source": [
    "<span style=\"color:blue\">**CRISPR**</span>.\n"
   ]
  },
  {
   "cell_type": "code",
   "execution_count": 12,
   "metadata": {},
   "outputs": [
    {
     "name": "stdout",
     "output_type": "stream",
     "text": [
      "['Exocrine']\n"
     ]
    }
   ],
   "source": [
    "get_lineage(gene_name, 'Pancreas')"
   ]
  },
  {
   "cell_type": "code",
   "execution_count": 13,
   "metadata": {},
   "outputs": [
    {
     "name": "stdout",
     "output_type": "stream",
     "text": [
      "44 in histology subtype\n",
      "945 not in histology subtype\n",
      "test statistic:19622.0,    p-value:0.2642\n",
      "test statistic:15792.5,    p-value:0.0035\n"
     ]
    },
    {
     "data": {
      "image/png": "[encoded data removed]",
      "text/plain": [
       "<Figure size 360x216 with 1 Axes>"
      ]
     },
     "metadata": {
      "needs_background": "light"
     },
     "output_type": "display_data"
    },
    {
     "data": {
      "image/png": "[encoded data removed]",
      "text/plain": [
       "<Figure size 360x216 with 1 Axes>"
      ]
     },
     "metadata": {
      "needs_background": "light"
     },
     "output_type": "display_data"
    }
   ],
   "source": [
    "get_CERES(gene_name, 'Exocrine')"
   ]
  },
  {
   "cell_type": "markdown",
   "metadata": {},
   "source": [
    "<span style=\"color:blue\">**Alternative Splicing**</span>  "
   ]
  },
  {
   "cell_type": "code",
   "execution_count": 14,
   "metadata": {},
   "outputs": [],
   "source": [
    "dir_splice = '../../anno_ref/ICGC/alternative_splicing'\n",
    "exp_dir = '../../anno_ref/ICGC/pcawg_rnaseq/'\n",
    "# Read aliquot id information\n",
    "df_exp_info = pd.read_csv(os.path.join(exp_dir,'rnaseq.metadata.tsv'), sep = '\\t')"
   ]
  },
  {
   "cell_type": "code",
   "execution_count": 15,
   "metadata": {},
   "outputs": [
    {
     "name": "stdout",
     "output_type": "stream",
     "text": [
      "DO51546 is not in PCAWG transcriptome analysis\n"
     ]
    }
   ],
   "source": [
    "### If patient is in the splicing file(transcriptome analysis info)\n",
    "for donor in donor_list:\n",
    "    tumor_id = df_exp_info[df_exp_info['icgc_donor_id'] == donor]['aliquot_id']\n",
    "    if len(tumor_id) ==0:\n",
    "        print(f'{donor} is not in PCAWG transcriptome analysis')"
   ]
  }
 ],
 "metadata": {
  "kernelspec": {
   "display_name": "Python 3",
   "language": "python",
   "name": "python3"
  },
  "language_info": {
   "codemirror_mode": {
    "name": "ipython",
    "version": 3
   },
   "file_extension": ".py",
   "mimetype": "text/x-python",
   "name": "python",
   "nbconvert_exporter": "python",
   "pygments_lexer": "ipython3",
   "version": "3.8.3"
  }
 },
 "nbformat": 4,
 "nbformat_minor": 4
}
