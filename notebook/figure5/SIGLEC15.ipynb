{
 "cells": [
  {
   "cell_type": "code",
   "execution_count": 1,
   "metadata": {},
   "outputs": [
    {
     "ename": "FileNotFoundError",
     "evalue": "[Errno 2] No such file or directory: '../figure4/histology.syn.df_all_forheatmap.cohort_072221.1.csv'",
     "output_type": "error",
     "traceback": [
      "\u001b[0;31m---------------------------------------------------------------------------\u001b[0m",
      "\u001b[0;31mFileNotFoundError\u001b[0m                         Traceback (most recent call last)",
      "\u001b[0;32m<ipython-input-1-958049bb170c>\u001b[0m in \u001b[0;36m<module>\u001b[0;34m\u001b[0m\n\u001b[1;32m      1\u001b[0m \u001b[0;31m### This is a gene specific analysis notebook\u001b[0m\u001b[0;34m\u001b[0m\u001b[0;34m\u001b[0m\u001b[0;34m\u001b[0m\u001b[0m\n\u001b[0;32m----> 2\u001b[0;31m \u001b[0;32mfrom\u001b[0m \u001b[0mcandidate_utils\u001b[0m \u001b[0;32mimport\u001b[0m \u001b[0;34m*\u001b[0m\u001b[0;34m\u001b[0m\u001b[0;34m\u001b[0m\u001b[0m\n\u001b[0m",
      "\u001b[0;32m/gpfs/group/epo2/default/yur97/gitlab/pcawg-to-mutsigcv/notebook/figure5/candidate_utils.py\u001b[0m in \u001b[0;36m<module>\u001b[0;34m\u001b[0m\n\u001b[1;32m     14\u001b[0m \u001b[0mdir_out\u001b[0m \u001b[0;34m=\u001b[0m \u001b[0;34m'../figure4/'\u001b[0m\u001b[0;34m\u001b[0m\u001b[0;34m\u001b[0m\u001b[0m\n\u001b[1;32m     15\u001b[0m \u001b[0mfeature_type\u001b[0m \u001b[0;34m=\u001b[0m \u001b[0;34m'histology'\u001b[0m\u001b[0;34m;\u001b[0m\u001b[0msyn_nsyn\u001b[0m \u001b[0;34m=\u001b[0m \u001b[0;34m'syn'\u001b[0m\u001b[0;34m;\u001b[0m\u001b[0mrun\u001b[0m \u001b[0;34m=\u001b[0m \u001b[0;34m'cohort_072221'\u001b[0m\u001b[0;34m;\u001b[0m\u001b[0mthreshold\u001b[0m \u001b[0;34m=\u001b[0m \u001b[0;36m1\u001b[0m\u001b[0;34m;\u001b[0m\u001b[0;34m\u001b[0m\u001b[0;34m\u001b[0m\u001b[0m\n\u001b[0;32m---> 16\u001b[0;31m \u001b[0mdf_syn\u001b[0m \u001b[0;34m=\u001b[0m \u001b[0mpd\u001b[0m\u001b[0;34m.\u001b[0m\u001b[0mread_csv\u001b[0m\u001b[0;34m(\u001b[0m\u001b[0mos\u001b[0m\u001b[0;34m.\u001b[0m\u001b[0mpath\u001b[0m\u001b[0;34m.\u001b[0m\u001b[0mjoin\u001b[0m\u001b[0;34m(\u001b[0m\u001b[0mdir_out\u001b[0m\u001b[0;34m,\u001b[0m\u001b[0mfeature_type\u001b[0m\u001b[0;34m+\u001b[0m\u001b[0;34m'.syn.df_all_forheatmap.'\u001b[0m\u001b[0;34m+\u001b[0m\u001b[0mrun\u001b[0m\u001b[0;34m+\u001b[0m\u001b[0;34m'.'\u001b[0m\u001b[0;34m+\u001b[0m\u001b[0mstr\u001b[0m\u001b[0;34m(\u001b[0m\u001b[0mthreshold\u001b[0m\u001b[0;34m)\u001b[0m\u001b[0;34m+\u001b[0m\u001b[0;34m'.csv'\u001b[0m\u001b[0;34m)\u001b[0m\u001b[0;34m,\u001b[0m\u001b[0mindex_col\u001b[0m \u001b[0;34m=\u001b[0m \u001b[0;36m0\u001b[0m\u001b[0;34m)\u001b[0m\u001b[0;34m\u001b[0m\u001b[0;34m\u001b[0m\u001b[0m\n\u001b[0m\u001b[1;32m     17\u001b[0m \u001b[0mdf_syn\u001b[0m \u001b[0;34m=\u001b[0m \u001b[0mdf_syn\u001b[0m\u001b[0;34m.\u001b[0m\u001b[0mset_index\u001b[0m\u001b[0;34m(\u001b[0m\u001b[0;34m'gene'\u001b[0m\u001b[0;34m)\u001b[0m\u001b[0;34m\u001b[0m\u001b[0;34m\u001b[0m\u001b[0m\n\u001b[1;32m     18\u001b[0m \u001b[0;34m\u001b[0m\u001b[0m\n",
      "\u001b[0;32m~/.local/lib/python3.6/site-packages/pandas/io/parsers.py\u001b[0m in \u001b[0;36mread_csv\u001b[0;34m(filepath_or_buffer, sep, delimiter, header, names, index_col, usecols, squeeze, prefix, mangle_dupe_cols, dtype, engine, converters, true_values, false_values, skipinitialspace, skiprows, skipfooter, nrows, na_values, keep_default_na, na_filter, verbose, skip_blank_lines, parse_dates, infer_datetime_format, keep_date_col, date_parser, dayfirst, cache_dates, iterator, chunksize, compression, thousands, decimal, lineterminator, quotechar, quoting, doublequote, escapechar, comment, encoding, dialect, error_bad_lines, warn_bad_lines, delim_whitespace, low_memory, memory_map, float_precision)\u001b[0m\n\u001b[1;32m    686\u001b[0m     )\n\u001b[1;32m    687\u001b[0m \u001b[0;34m\u001b[0m\u001b[0m\n\u001b[0;32m--> 688\u001b[0;31m     \u001b[0;32mreturn\u001b[0m \u001b[0m_read\u001b[0m\u001b[0;34m(\u001b[0m\u001b[0mfilepath_or_buffer\u001b[0m\u001b[0;34m,\u001b[0m \u001b[0mkwds\u001b[0m\u001b[0;34m)\u001b[0m\u001b[0;34m\u001b[0m\u001b[0;34m\u001b[0m\u001b[0m\n\u001b[0m\u001b[1;32m    689\u001b[0m \u001b[0;34m\u001b[0m\u001b[0m\n\u001b[1;32m    690\u001b[0m \u001b[0;34m\u001b[0m\u001b[0m\n",
      "\u001b[0;32m~/.local/lib/python3.6/site-packages/pandas/io/parsers.py\u001b[0m in \u001b[0;36m_read\u001b[0;34m(filepath_or_buffer, kwds)\u001b[0m\n\u001b[1;32m    452\u001b[0m \u001b[0;34m\u001b[0m\u001b[0m\n\u001b[1;32m    453\u001b[0m     \u001b[0;31m# Create the parser.\u001b[0m\u001b[0;34m\u001b[0m\u001b[0;34m\u001b[0m\u001b[0;34m\u001b[0m\u001b[0m\n\u001b[0;32m--> 454\u001b[0;31m     \u001b[0mparser\u001b[0m \u001b[0;34m=\u001b[0m \u001b[0mTextFileReader\u001b[0m\u001b[0;34m(\u001b[0m\u001b[0mfp_or_buf\u001b[0m\u001b[0;34m,\u001b[0m \u001b[0;34m**\u001b[0m\u001b[0mkwds\u001b[0m\u001b[0;34m)\u001b[0m\u001b[0;34m\u001b[0m\u001b[0;34m\u001b[0m\u001b[0m\n\u001b[0m\u001b[1;32m    455\u001b[0m \u001b[0;34m\u001b[0m\u001b[0m\n\u001b[1;32m    456\u001b[0m     \u001b[0;32mif\u001b[0m \u001b[0mchunksize\u001b[0m \u001b[0;32mor\u001b[0m \u001b[0miterator\u001b[0m\u001b[0;34m:\u001b[0m\u001b[0;34m\u001b[0m\u001b[0;34m\u001b[0m\u001b[0m\n",
      "\u001b[0;32m~/.local/lib/python3.6/site-packages/pandas/io/parsers.py\u001b[0m in \u001b[0;36m__init__\u001b[0;34m(self, f, engine, **kwds)\u001b[0m\n\u001b[1;32m    946\u001b[0m             \u001b[0mself\u001b[0m\u001b[0;34m.\u001b[0m\u001b[0moptions\u001b[0m\u001b[0;34m[\u001b[0m\u001b[0;34m\"has_index_names\"\u001b[0m\u001b[0;34m]\u001b[0m \u001b[0;34m=\u001b[0m \u001b[0mkwds\u001b[0m\u001b[0;34m[\u001b[0m\u001b[0;34m\"has_index_names\"\u001b[0m\u001b[0;34m]\u001b[0m\u001b[0;34m\u001b[0m\u001b[0;34m\u001b[0m\u001b[0m\n\u001b[1;32m    947\u001b[0m \u001b[0;34m\u001b[0m\u001b[0m\n\u001b[0;32m--> 948\u001b[0;31m         \u001b[0mself\u001b[0m\u001b[0;34m.\u001b[0m\u001b[0m_make_engine\u001b[0m\u001b[0;34m(\u001b[0m\u001b[0mself\u001b[0m\u001b[0;34m.\u001b[0m\u001b[0mengine\u001b[0m\u001b[0;34m)\u001b[0m\u001b[0;34m\u001b[0m\u001b[0;34m\u001b[0m\u001b[0m\n\u001b[0m\u001b[1;32m    949\u001b[0m \u001b[0;34m\u001b[0m\u001b[0m\n\u001b[1;32m    950\u001b[0m     \u001b[0;32mdef\u001b[0m \u001b[0mclose\u001b[0m\u001b[0;34m(\u001b[0m\u001b[0mself\u001b[0m\u001b[0;34m)\u001b[0m\u001b[0;34m:\u001b[0m\u001b[0;34m\u001b[0m\u001b[0;34m\u001b[0m\u001b[0m\n",
      "\u001b[0;32m~/.local/lib/python3.6/site-packages/pandas/io/parsers.py\u001b[0m in \u001b[0;36m_make_engine\u001b[0;34m(self, engine)\u001b[0m\n\u001b[1;32m   1178\u001b[0m     \u001b[0;32mdef\u001b[0m \u001b[0m_make_engine\u001b[0m\u001b[0;34m(\u001b[0m\u001b[0mself\u001b[0m\u001b[0;34m,\u001b[0m \u001b[0mengine\u001b[0m\u001b[0;34m=\u001b[0m\u001b[0;34m\"c\"\u001b[0m\u001b[0;34m)\u001b[0m\u001b[0;34m:\u001b[0m\u001b[0;34m\u001b[0m\u001b[0;34m\u001b[0m\u001b[0m\n\u001b[1;32m   1179\u001b[0m         \u001b[0;32mif\u001b[0m \u001b[0mengine\u001b[0m \u001b[0;34m==\u001b[0m \u001b[0;34m\"c\"\u001b[0m\u001b[0;34m:\u001b[0m\u001b[0;34m\u001b[0m\u001b[0;34m\u001b[0m\u001b[0m\n\u001b[0;32m-> 1180\u001b[0;31m             \u001b[0mself\u001b[0m\u001b[0;34m.\u001b[0m\u001b[0m_engine\u001b[0m \u001b[0;34m=\u001b[0m \u001b[0mCParserWrapper\u001b[0m\u001b[0;34m(\u001b[0m\u001b[0mself\u001b[0m\u001b[0;34m.\u001b[0m\u001b[0mf\u001b[0m\u001b[0;34m,\u001b[0m \u001b[0;34m**\u001b[0m\u001b[0mself\u001b[0m\u001b[0;34m.\u001b[0m\u001b[0moptions\u001b[0m\u001b[0;34m)\u001b[0m\u001b[0;34m\u001b[0m\u001b[0;34m\u001b[0m\u001b[0m\n\u001b[0m\u001b[1;32m   1181\u001b[0m         \u001b[0;32melse\u001b[0m\u001b[0;34m:\u001b[0m\u001b[0;34m\u001b[0m\u001b[0;34m\u001b[0m\u001b[0m\n\u001b[1;32m   1182\u001b[0m             \u001b[0;32mif\u001b[0m \u001b[0mengine\u001b[0m \u001b[0;34m==\u001b[0m \u001b[0;34m\"python\"\u001b[0m\u001b[0;34m:\u001b[0m\u001b[0;34m\u001b[0m\u001b[0;34m\u001b[0m\u001b[0m\n",
      "\u001b[0;32m~/.local/lib/python3.6/site-packages/pandas/io/parsers.py\u001b[0m in \u001b[0;36m__init__\u001b[0;34m(self, src, **kwds)\u001b[0m\n\u001b[1;32m   2008\u001b[0m         \u001b[0mkwds\u001b[0m\u001b[0;34m[\u001b[0m\u001b[0;34m\"usecols\"\u001b[0m\u001b[0;34m]\u001b[0m \u001b[0;34m=\u001b[0m \u001b[0mself\u001b[0m\u001b[0;34m.\u001b[0m\u001b[0musecols\u001b[0m\u001b[0;34m\u001b[0m\u001b[0;34m\u001b[0m\u001b[0m\n\u001b[1;32m   2009\u001b[0m \u001b[0;34m\u001b[0m\u001b[0m\n\u001b[0;32m-> 2010\u001b[0;31m         \u001b[0mself\u001b[0m\u001b[0;34m.\u001b[0m\u001b[0m_reader\u001b[0m \u001b[0;34m=\u001b[0m \u001b[0mparsers\u001b[0m\u001b[0;34m.\u001b[0m\u001b[0mTextReader\u001b[0m\u001b[0;34m(\u001b[0m\u001b[0msrc\u001b[0m\u001b[0;34m,\u001b[0m \u001b[0;34m**\u001b[0m\u001b[0mkwds\u001b[0m\u001b[0;34m)\u001b[0m\u001b[0;34m\u001b[0m\u001b[0;34m\u001b[0m\u001b[0m\n\u001b[0m\u001b[1;32m   2011\u001b[0m         \u001b[0mself\u001b[0m\u001b[0;34m.\u001b[0m\u001b[0munnamed_cols\u001b[0m \u001b[0;34m=\u001b[0m \u001b[0mself\u001b[0m\u001b[0;34m.\u001b[0m\u001b[0m_reader\u001b[0m\u001b[0;34m.\u001b[0m\u001b[0munnamed_cols\u001b[0m\u001b[0;34m\u001b[0m\u001b[0;34m\u001b[0m\u001b[0m\n\u001b[1;32m   2012\u001b[0m \u001b[0;34m\u001b[0m\u001b[0m\n",
      "\u001b[0;32mpandas/_libs/parsers.pyx\u001b[0m in \u001b[0;36mpandas._libs.parsers.TextReader.__cinit__\u001b[0;34m()\u001b[0m\n",
      "\u001b[0;32mpandas/_libs/parsers.pyx\u001b[0m in \u001b[0;36mpandas._libs.parsers.TextReader._setup_parser_source\u001b[0;34m()\u001b[0m\n",
      "\u001b[0;31mFileNotFoundError\u001b[0m: [Errno 2] No such file or directory: '../figure4/histology.syn.df_all_forheatmap.cohort_072221.1.csv'"
     ]
    }
   ],
   "source": [
    "### This is a gene specific analysis notebook\n",
    "from candidate_utils import *"
   ]
  },
  {
   "cell_type": "code",
   "execution_count": null,
   "metadata": {},
   "outputs": [],
   "source": [
    "%load_ext autoreload\n",
    "%autoreload 2"
   ]
  },
  {
   "cell_type": "code",
   "execution_count": null,
   "metadata": {},
   "outputs": [],
   "source": [
    "# Gene-transcript dict\n",
    "dict_name = pickle.load(open(os.path.join(dir_refs,'dict_name_forcov_062121.pkl'), 'rb'))"
   ]
  },
  {
   "cell_type": "code",
   "execution_count": null,
   "metadata": {},
   "outputs": [],
   "source": [
    "gene_name = 'SIGLEC15'"
   ]
  },
  {
   "cell_type": "code",
   "execution_count": null,
   "metadata": {},
   "outputs": [],
   "source": [
    "# Find transcript for the gene\n",
    "for transcript,gene in dict_name.items():\n",
    "    if gene == gene_name:\n",
    "        print(transcript)"
   ]
  },
  {
   "cell_type": "markdown",
   "metadata": {},
   "source": [
    "<span style=\"color:blue\">**The histology subtypes of patients with the mutation**</span>.\n"
   ]
  },
  {
   "cell_type": "code",
   "execution_count": 6,
   "metadata": {},
   "outputs": [
    {
     "name": "stderr",
     "output_type": "stream",
     "text": [
      "/opt/aci/sw/anaconda3/2020.07_gcc-4.8.5-bzb/lib/python3.8/site-packages/IPython/core/interactiveshell.py:3263: DtypeWarning: Columns (1,17,24,33,34,35,36) have mixed types.Specify dtype option on import or set low_memory=False.\n",
      "  if (await self.run_code(code, result,  async_=asy)):\n"
     ]
    }
   ],
   "source": [
    "df_str, df_num = get_num_str(gene_name)"
   ]
  },
  {
   "cell_type": "code",
   "execution_count": 7,
   "metadata": {},
   "outputs": [
    {
     "data": {
      "text/html": [
       "<div>\n",
       "<style scoped>\n",
       "    .dataframe tbody tr th:only-of-type {\n",
       "        vertical-align: middle;\n",
       "    }\n",
       "\n",
       "    .dataframe tbody tr th {\n",
       "        vertical-align: top;\n",
       "    }\n",
       "\n",
       "    .dataframe thead th {\n",
       "        text-align: right;\n",
       "    }\n",
       "</style>\n",
       "<table border=\"1\" class=\"dataframe\">\n",
       "  <thead>\n",
       "    <tr style=\"text-align: right;\">\n",
       "      <th></th>\n",
       "      <th>dcc_specimen_type</th>\n",
       "      <th>histology_tier3</th>\n",
       "      <th>histology_tier4</th>\n",
       "      <th>tumour_histological_type</th>\n",
       "      <th>tumour_stage</th>\n",
       "      <th>tumour_histological_comment</th>\n",
       "      <th>specimen_donor_treatment_type</th>\n",
       "    </tr>\n",
       "  </thead>\n",
       "  <tbody>\n",
       "    <tr>\n",
       "      <th>syn</th>\n",
       "      <td>{'Primary tumour - other': 1}</td>\n",
       "      <td>{'Adenocarcinoma': 1}</td>\n",
       "      <td>{'Adenocarcinoma': 1}</td>\n",
       "      <td>{nan: 1}</td>\n",
       "      <td>{nan: 1}</td>\n",
       "      <td>{'WARNING: Tumour histology inferred from proj...</td>\n",
       "      <td>{'no treatment': 1}</td>\n",
       "    </tr>\n",
       "    <tr>\n",
       "      <th>all</th>\n",
       "      <td>{'Primary tumour - other': 129, 'Primary tumou...</td>\n",
       "      <td>{'Adenocarcinoma': 232}</td>\n",
       "      <td>{'Adenocarcinoma': 60, 'Pancreatic ductal carc...</td>\n",
       "      <td>{nan: 60, 'Infiltrating duct carcinoma, NOS': ...</td>\n",
       "      <td>{nan: 57, 'IIB': 56, 'T2N0MX': 5, 'T1N1bMX': 1...</td>\n",
       "      <td>{'WARNING: Tumour histology inferred from proj...</td>\n",
       "      <td>{'no treatment': 171, 'surgery': 38, 'chemothe...</td>\n",
       "    </tr>\n",
       "  </tbody>\n",
       "</table>\n",
       "</div>"
      ],
      "text/plain": [
       "                                     dcc_specimen_type  \\\n",
       "syn                      {'Primary tumour - other': 1}   \n",
       "all  {'Primary tumour - other': 129, 'Primary tumou...   \n",
       "\n",
       "             histology_tier3  \\\n",
       "syn    {'Adenocarcinoma': 1}   \n",
       "all  {'Adenocarcinoma': 232}   \n",
       "\n",
       "                                       histology_tier4  \\\n",
       "syn                              {'Adenocarcinoma': 1}   \n",
       "all  {'Adenocarcinoma': 60, 'Pancreatic ductal carc...   \n",
       "\n",
       "                              tumour_histological_type  \\\n",
       "syn                                           {nan: 1}   \n",
       "all  {nan: 60, 'Infiltrating duct carcinoma, NOS': ...   \n",
       "\n",
       "                                          tumour_stage  \\\n",
       "syn                                           {nan: 1}   \n",
       "all  {nan: 57, 'IIB': 56, 'T2N0MX': 5, 'T1N1bMX': 1...   \n",
       "\n",
       "                           tumour_histological_comment  \\\n",
       "syn  {'WARNING: Tumour histology inferred from proj...   \n",
       "all  {'WARNING: Tumour histology inferred from proj...   \n",
       "\n",
       "                         specimen_donor_treatment_type  \n",
       "syn                                {'no treatment': 1}  \n",
       "all  {'no treatment': 171, 'surgery': 38, 'chemothe...  "
      ]
     },
     "execution_count": 7,
     "metadata": {},
     "output_type": "execute_result"
    }
   ],
   "source": [
    "df_str"
   ]
  },
  {
   "cell_type": "code",
   "execution_count": 8,
   "metadata": {},
   "outputs": [
    {
     "data": {
      "text/html": [
       "<div>\n",
       "<style scoped>\n",
       "    .dataframe tbody tr th:only-of-type {\n",
       "        vertical-align: middle;\n",
       "    }\n",
       "\n",
       "    .dataframe tbody tr th {\n",
       "        vertical-align: top;\n",
       "    }\n",
       "\n",
       "    .dataframe thead th {\n",
       "        text-align: right;\n",
       "    }\n",
       "</style>\n",
       "<table border=\"1\" class=\"dataframe\">\n",
       "  <thead>\n",
       "    <tr style=\"text-align: right;\">\n",
       "      <th></th>\n",
       "      <th></th>\n",
       "      <th>SV.events</th>\n",
       "      <th>Coding.SNVs</th>\n",
       "      <th>Non.coding.SNVs</th>\n",
       "      <th>CNA.events..do_not_use.</th>\n",
       "      <th>Retrotransposon.insertions</th>\n",
       "      <th>Mitochondrial.mutations</th>\n",
       "      <th>all.Indels</th>\n",
       "    </tr>\n",
       "    <tr>\n",
       "      <th>mut_status</th>\n",
       "      <th></th>\n",
       "      <th></th>\n",
       "      <th></th>\n",
       "      <th></th>\n",
       "      <th></th>\n",
       "      <th></th>\n",
       "      <th></th>\n",
       "      <th></th>\n",
       "    </tr>\n",
       "  </thead>\n",
       "  <tbody>\n",
       "    <tr>\n",
       "      <th rowspan=\"8\" valign=\"top\">syn</th>\n",
       "      <th>count</th>\n",
       "      <td>6.000000</td>\n",
       "      <td>6.000000</td>\n",
       "      <td>6.000000</td>\n",
       "      <td>6.000000</td>\n",
       "      <td>6.000000</td>\n",
       "      <td>6.000000</td>\n",
       "      <td>6.000000</td>\n",
       "    </tr>\n",
       "    <tr>\n",
       "      <th>mean</th>\n",
       "      <td>84.333333</td>\n",
       "      <td>1615.500000</td>\n",
       "      <td>212489.666667</td>\n",
       "      <td>275.333333</td>\n",
       "      <td>0.666667</td>\n",
       "      <td>2.666667</td>\n",
       "      <td>1283.000000</td>\n",
       "    </tr>\n",
       "    <tr>\n",
       "      <th>std</th>\n",
       "      <td>88.991385</td>\n",
       "      <td>1293.003751</td>\n",
       "      <td>158158.019245</td>\n",
       "      <td>206.418668</td>\n",
       "      <td>1.211060</td>\n",
       "      <td>2.422120</td>\n",
       "      <td>936.930520</td>\n",
       "    </tr>\n",
       "    <tr>\n",
       "      <th>min</th>\n",
       "      <td>30.000000</td>\n",
       "      <td>542.000000</td>\n",
       "      <td>70331.000000</td>\n",
       "      <td>157.000000</td>\n",
       "      <td>0.000000</td>\n",
       "      <td>0.000000</td>\n",
       "      <td>431.000000</td>\n",
       "    </tr>\n",
       "    <tr>\n",
       "      <th>25%</th>\n",
       "      <td>40.250000</td>\n",
       "      <td>600.500000</td>\n",
       "      <td>79879.000000</td>\n",
       "      <td>179.000000</td>\n",
       "      <td>0.000000</td>\n",
       "      <td>1.000000</td>\n",
       "      <td>615.500000</td>\n",
       "    </tr>\n",
       "    <tr>\n",
       "      <th>50%</th>\n",
       "      <td>56.500000</td>\n",
       "      <td>1070.000000</td>\n",
       "      <td>166630.000000</td>\n",
       "      <td>206.500000</td>\n",
       "      <td>0.000000</td>\n",
       "      <td>2.000000</td>\n",
       "      <td>909.500000</td>\n",
       "    </tr>\n",
       "    <tr>\n",
       "      <th>75%</th>\n",
       "      <td>62.250000</td>\n",
       "      <td>2626.250000</td>\n",
       "      <td>332539.000000</td>\n",
       "      <td>215.250000</td>\n",
       "      <td>0.750000</td>\n",
       "      <td>4.500000</td>\n",
       "      <td>1875.500000</td>\n",
       "    </tr>\n",
       "    <tr>\n",
       "      <th>max</th>\n",
       "      <td>264.000000</td>\n",
       "      <td>3422.000000</td>\n",
       "      <td>432543.000000</td>\n",
       "      <td>694.000000</td>\n",
       "      <td>3.000000</td>\n",
       "      <td>6.000000</td>\n",
       "      <td>2733.000000</td>\n",
       "    </tr>\n",
       "    <tr>\n",
       "      <th rowspan=\"8\" valign=\"top\">all</th>\n",
       "      <th>count</th>\n",
       "      <td>106.000000</td>\n",
       "      <td>107.000000</td>\n",
       "      <td>107.000000</td>\n",
       "      <td>107.000000</td>\n",
       "      <td>107.000000</td>\n",
       "      <td>107.000000</td>\n",
       "      <td>107.000000</td>\n",
       "    </tr>\n",
       "    <tr>\n",
       "      <th>mean</th>\n",
       "      <td>182.490566</td>\n",
       "      <td>803.971963</td>\n",
       "      <td>112468.271028</td>\n",
       "      <td>487.065421</td>\n",
       "      <td>4.990654</td>\n",
       "      <td>2.168224</td>\n",
       "      <td>1000.140187</td>\n",
       "    </tr>\n",
       "    <tr>\n",
       "      <th>std</th>\n",
       "      <td>213.635080</td>\n",
       "      <td>1008.382232</td>\n",
       "      <td>144315.255781</td>\n",
       "      <td>461.390500</td>\n",
       "      <td>34.356756</td>\n",
       "      <td>1.840252</td>\n",
       "      <td>2274.979637</td>\n",
       "    </tr>\n",
       "    <tr>\n",
       "      <th>min</th>\n",
       "      <td>12.000000</td>\n",
       "      <td>20.000000</td>\n",
       "      <td>2126.000000</td>\n",
       "      <td>118.000000</td>\n",
       "      <td>0.000000</td>\n",
       "      <td>0.000000</td>\n",
       "      <td>79.000000</td>\n",
       "    </tr>\n",
       "    <tr>\n",
       "      <th>25%</th>\n",
       "      <td>49.250000</td>\n",
       "      <td>121.500000</td>\n",
       "      <td>17297.000000</td>\n",
       "      <td>202.000000</td>\n",
       "      <td>0.000000</td>\n",
       "      <td>1.000000</td>\n",
       "      <td>401.000000</td>\n",
       "    </tr>\n",
       "    <tr>\n",
       "      <th>50%</th>\n",
       "      <td>98.000000</td>\n",
       "      <td>496.000000</td>\n",
       "      <td>70331.000000</td>\n",
       "      <td>317.000000</td>\n",
       "      <td>0.000000</td>\n",
       "      <td>2.000000</td>\n",
       "      <td>556.000000</td>\n",
       "    </tr>\n",
       "    <tr>\n",
       "      <th>75%</th>\n",
       "      <td>242.750000</td>\n",
       "      <td>932.500000</td>\n",
       "      <td>138316.500000</td>\n",
       "      <td>636.000000</td>\n",
       "      <td>2.000000</td>\n",
       "      <td>3.000000</td>\n",
       "      <td>900.000000</td>\n",
       "    </tr>\n",
       "    <tr>\n",
       "      <th>max</th>\n",
       "      <td>1234.000000</td>\n",
       "      <td>5164.000000</td>\n",
       "      <td>854014.000000</td>\n",
       "      <td>3128.000000</td>\n",
       "      <td>355.000000</td>\n",
       "      <td>8.000000</td>\n",
       "      <td>22963.000000</td>\n",
       "    </tr>\n",
       "  </tbody>\n",
       "</table>\n",
       "</div>"
      ],
      "text/plain": [
       "                    SV.events  Coding.SNVs  Non.coding.SNVs  \\\n",
       "mut_status                                                    \n",
       "syn        count     6.000000     6.000000         6.000000   \n",
       "           mean     84.333333  1615.500000    212489.666667   \n",
       "           std      88.991385  1293.003751    158158.019245   \n",
       "           min      30.000000   542.000000     70331.000000   \n",
       "           25%      40.250000   600.500000     79879.000000   \n",
       "           50%      56.500000  1070.000000    166630.000000   \n",
       "           75%      62.250000  2626.250000    332539.000000   \n",
       "           max     264.000000  3422.000000    432543.000000   \n",
       "all        count   106.000000   107.000000       107.000000   \n",
       "           mean    182.490566   803.971963    112468.271028   \n",
       "           std     213.635080  1008.382232    144315.255781   \n",
       "           min      12.000000    20.000000      2126.000000   \n",
       "           25%      49.250000   121.500000     17297.000000   \n",
       "           50%      98.000000   496.000000     70331.000000   \n",
       "           75%     242.750000   932.500000    138316.500000   \n",
       "           max    1234.000000  5164.000000    854014.000000   \n",
       "\n",
       "                  CNA.events..do_not_use.  Retrotransposon.insertions  \\\n",
       "mut_status                                                              \n",
       "syn        count                 6.000000                    6.000000   \n",
       "           mean                275.333333                    0.666667   \n",
       "           std                 206.418668                    1.211060   \n",
       "           min                 157.000000                    0.000000   \n",
       "           25%                 179.000000                    0.000000   \n",
       "           50%                 206.500000                    0.000000   \n",
       "           75%                 215.250000                    0.750000   \n",
       "           max                 694.000000                    3.000000   \n",
       "all        count               107.000000                  107.000000   \n",
       "           mean                487.065421                    4.990654   \n",
       "           std                 461.390500                   34.356756   \n",
       "           min                 118.000000                    0.000000   \n",
       "           25%                 202.000000                    0.000000   \n",
       "           50%                 317.000000                    0.000000   \n",
       "           75%                 636.000000                    2.000000   \n",
       "           max                3128.000000                  355.000000   \n",
       "\n",
       "                  Mitochondrial.mutations    all.Indels  \n",
       "mut_status                                               \n",
       "syn        count                 6.000000      6.000000  \n",
       "           mean                  2.666667   1283.000000  \n",
       "           std                   2.422120    936.930520  \n",
       "           min                   0.000000    431.000000  \n",
       "           25%                   1.000000    615.500000  \n",
       "           50%                   2.000000    909.500000  \n",
       "           75%                   4.500000   1875.500000  \n",
       "           max                   6.000000   2733.000000  \n",
       "all        count               107.000000    107.000000  \n",
       "           mean                  2.168224   1000.140187  \n",
       "           std                   1.840252   2274.979637  \n",
       "           min                   0.000000     79.000000  \n",
       "           25%                   1.000000    401.000000  \n",
       "           50%                   2.000000    556.000000  \n",
       "           75%                   3.000000    900.000000  \n",
       "           max                   8.000000  22963.000000  "
      ]
     },
     "execution_count": 8,
     "metadata": {},
     "output_type": "execute_result"
    }
   ],
   "source": [
    "df_num"
   ]
  },
  {
   "cell_type": "markdown",
   "metadata": {},
   "source": [
    "<span style=\"color:blue\">**Mutation**</span>.\n"
   ]
  },
  {
   "cell_type": "code",
   "execution_count": 8,
   "metadata": {},
   "outputs": [
    {
     "name": "stderr",
     "output_type": "stream",
     "text": [
      "/opt/aci/sw/anaconda3/2020.07_gcc-4.8.5-bzb/lib/python3.8/site-packages/IPython/core/interactiveshell.py:3263: DtypeWarning: Columns (1,17,24,33,34,35,36) have mixed types.Specify dtype option on import or set low_memory=False.\n",
      "  if (await self.run_code(code, result,  async_=asy)):\n"
     ]
    },
    {
     "name": "stdout",
     "output_type": "stream",
     "text": [
      "Total 230 patients\n",
      "1 patients have synonymous mutations, they are: ['DO51546']\n",
      "18:g.43418687G>C\n",
      "18:g.43418708G>T\n"
     ]
    }
   ],
   "source": [
    "df_all, df_mut, donor_list = get_mut(gene_name)"
   ]
  },
  {
   "cell_type": "code",
   "execution_count": 9,
   "metadata": {},
   "outputs": [
    {
     "data": {
      "text/plain": [
       "Hugo_Symbol  Variant_Classification  Donor_ID\n",
       "SIGLEC15     Silent                  DO51546     g.chr18:43418687G>C\n",
       "                                     DO51546     g.chr18:43418708G>T\n",
       "Name: Genome_Change, dtype: object"
      ]
     },
     "execution_count": 9,
     "metadata": {},
     "output_type": "execute_result"
    }
   ],
   "source": [
    "df_all.loc[pd.IndexSlice[gene_name, :,donor_list],'Genome_Change']"
   ]
  },
  {
   "cell_type": "markdown",
   "metadata": {},
   "source": [
    "<span style=\"color:blue\">**CNV**</span>.\n"
   ]
  },
  {
   "cell_type": "code",
   "execution_count": 10,
   "metadata": {},
   "outputs": [
    {
     "name": "stdout",
     "output_type": "stream",
     "text": [
      "                               754d26af-f184-497c-856a-cd1ea7a5115c\n",
      "Gene Symbol Locus ID Cytoband                                      \n",
      "SIGLEC15    284266   18q12.3                                    1.0\n"
     ]
    }
   ],
   "source": [
    "cnv = get_cnv(donor_list, gene_name)"
   ]
  },
  {
   "cell_type": "markdown",
   "metadata": {},
   "source": [
    "<span style=\"color:blue\">**Expression PCAWG**</span>.\n"
   ]
  },
  {
   "cell_type": "code",
   "execution_count": 11,
   "metadata": {},
   "outputs": [
    {
     "name": "stderr",
     "output_type": "stream",
     "text": [
      "/opt/aci/sw/anaconda3/2020.07_gcc-4.8.5-bzb/lib/python3.8/site-packages/IPython/core/interactiveshell.py:3343: DtypeWarning: Columns (1,17,24,33,34,35,36) have mixed types.Specify dtype option on import or set low_memory=False.\n",
      "  exec(code_obj, self.user_global_ns, self.user_ns)\n"
     ]
    },
    {
     "name": "stdout",
     "output_type": "stream",
     "text": [
      "Number of normal patient: 0\n",
      "Number of synonymous patients: 0\n",
      "Number of other tumor patients:78\n",
      "test statistic:0.0,p-value:0.0\n"
     ]
    },
    {
     "name": "stderr",
     "output_type": "stream",
     "text": [
      "/opt/aci/sw/anaconda3/2020.07_gcc-4.8.5-bzb/lib/python3.8/site-packages/scipy/stats/stats.py:7039: RuntimeWarning: divide by zero encountered in double_scalars\n",
      "  z = (bigu - meanrank) / sd\n"
     ]
    },
    {
     "data": {
      "image/png": "[encoded data removed]",
      "text/plain": [
       "<Figure size 360x216 with 1 Axes>"
      ]
     },
     "metadata": {
      "needs_background": "light"
     },
     "output_type": "display_data"
    }
   ],
   "source": [
    "get_expression(gene_name)"
   ]
  },
  {
   "cell_type": "markdown",
   "metadata": {},
   "source": [
    "<span style=\"color:blue\">**CRISPR**</span>.\n"
   ]
  },
  {
   "cell_type": "code",
   "execution_count": 8,
   "metadata": {},
   "outputs": [],
   "source": [
    "### This is a gene specific analysis notebook\n",
    "import pickle, os\n",
    "import pandas as pd\n",
    "import numpy as np\n",
    "from scipy.stats import mannwhitneyu"
   ]
  },
  {
   "cell_type": "code",
   "execution_count": 16,
   "metadata": {},
   "outputs": [],
   "source": [
    "gene_name = 'SIGLEC15'\n",
    "dir_depmap = '../figure5/depmap'\n"
   ]
  },
  {
   "cell_type": "code",
   "execution_count": 17,
   "metadata": {},
   "outputs": [],
   "source": [
    "def get_lineage(gene, histology):\n",
    "    ### Read file\n",
    "    df_depmap = pd.read_csv(os.path.join(dir_depmap, gene+'_21Q2.csv'))\n",
    "    print(df_depmap[df_depmap['Lineage'] == histology]['Lineage Subtype'].unique())"
   ]
  },
  {
   "cell_type": "code",
   "execution_count": 18,
   "metadata": {},
   "outputs": [],
   "source": [
    "def get_CERES(gene, lineage):\n",
    "    df_depmap = pd.read_csv(os.path.join(dir_depmap, gene+'_21Q2.csv'))\n",
    "    df_depmap.columns = ['ID', 'CERES', 'Name', 'Primary Disease', 'Lineage', 'Lineage Subtype', 'Expression', 'Mutation']\n",
    "\n",
    "    df_gene = df_depmap[df_depmap['Lineage Subtype'] == lineage]\n",
    "    print(f'{len(df_gene)} in histology subtype')\n",
    "    df_other = df_depmap[df_depmap['Lineage Subtype'] != lineage]\n",
    "    print(f'{len(df_other)} not in histology subtype')\n",
    "    df_all = pd.DataFrame({'inlineage':df_gene['Expression'],\n",
    "                          'other':df_other['Expression']})\n",
    "    df_all = df_all.melt()\n",
    "    \n",
    "    return df_all, df_gene, df_other"
   ]
  },
  {
   "cell_type": "code",
   "execution_count": 19,
   "metadata": {},
   "outputs": [
    {
     "name": "stdout",
     "output_type": "stream",
     "text": [
      "['Exocrine']\n"
     ]
    }
   ],
   "source": [
    "get_lineage(gene_name, 'Pancreas')"
   ]
  },
  {
   "cell_type": "code",
   "execution_count": 20,
   "metadata": {},
   "outputs": [
    {
     "name": "stdout",
     "output_type": "stream",
     "text": [
      "44 in histology subtype\n",
      "945 not in histology subtype\n"
     ]
    },
    {
     "data": {
      "text/plain": [
       "(       variable     value\n",
       " 0     inlineage       NaN\n",
       " 1     inlineage       NaN\n",
       " 2     inlineage       NaN\n",
       " 3     inlineage       NaN\n",
       " 4     inlineage       NaN\n",
       " ...         ...       ...\n",
       " 1973      other  0.150560\n",
       " 1974      other  0.084064\n",
       " 1975      other  3.606442\n",
       " 1976      other  0.000000\n",
       " 1977      other  2.920293\n",
       " \n",
       " [1978 rows x 2 columns],\n",
       "              ID     CERES       Name    Primary Disease   Lineage  \\\n",
       " 8    ACH-001107  0.033505       KP1N  Pancreatic Cancer  Pancreas   \n",
       " 66   ACH-001353  0.134641    JOPACA1  Pancreatic Cancer  Pancreas   \n",
       " 73   ACH-001375  0.073135  PACADD119  Pancreatic Cancer  Pancreas   \n",
       " 75   ACH-001377  0.141798  PACADD137  Pancreatic Cancer  Pancreas   \n",
       " 76   ACH-001380  0.100504  PACADD165  Pancreatic Cancer  Pancreas   \n",
       " 77   ACH-001382 -0.054845  PACADD188  Pancreatic Cancer  Pancreas   \n",
       " 88   ACH-001379  0.123033  PACADD161  Pancreatic Cancer  Pancreas   \n",
       " 247  ACH-001999  0.216406    9505BIK  Pancreatic Cancer  Pancreas   \n",
       " 349  ACH-002186 -0.023219        PL4  Pancreatic Cancer  Pancreas   \n",
       " 497  ACH-000281  0.087753        KP2  Pancreatic Cancer  Pancreas   \n",
       " 512  ACH-000307  0.023396        PK1  Pancreatic Cancer  Pancreas   \n",
       " 524  ACH-000235  0.114546   PANC0403  Pancreatic Cancer  Pancreas   \n",
       " 527  ACH-000243  0.125141       DANG  Pancreatic Cancer  Pancreas   \n",
       " 547  ACH-000265  0.055981        KP4  Pancreatic Cancer  Pancreas   \n",
       " 548  ACH-000266  0.079473     SNU213  Pancreatic Cancer  Pancreas   \n",
       " 584  ACH-000320  0.096088       PSN1  Pancreatic Cancer  Pancreas   \n",
       " 592  ACH-000332  0.044893       YAPC  Pancreatic Cancer  Pancreas   \n",
       " 604  ACH-000354  0.104152     CAPAN1  Pancreatic Cancer  Pancreas   \n",
       " 618  ACH-000060  0.030446   PANC1005  Pancreatic Cancer  Pancreas   \n",
       " 626  ACH-000085  0.141224       T3M4  Pancreatic Cancer  Pancreas   \n",
       " 630  ACH-000093 -0.028396   PANC0504  Pancreatic Cancer  Pancreas   \n",
       " 631  ACH-000094  0.153254     HPAFII  Pancreatic Cancer  Pancreas   \n",
       " 638  ACH-000108  0.008919        KP3  Pancreatic Cancer  Pancreas   \n",
       " 641  ACH-000114  0.068236     SU8686  Pancreatic Cancer  Pancreas   \n",
       " 659  ACH-000022  0.161471  PATU8988S  Pancreatic Cancer  Pancreas   \n",
       " 660  ACH-000023 -0.009701  PATU8988T  Pancreatic Cancer  Pancreas   \n",
       " 672  ACH-000042  0.131781   PANC0203  Pancreatic Cancer  Pancreas   \n",
       " 679  ACH-000178  0.051676     HS766T  Pancreatic Cancer  Pancreas   \n",
       " 697  ACH-000213  0.062732      HUPT4  Pancreatic Cancer  Pancreas   \n",
       " 701  ACH-000222 -0.107244      ASPC1  Pancreatic Cancer  Pancreas   \n",
       " 705  ACH-000118  0.094202      HUPT3  Pancreatic Cancer  Pancreas   \n",
       " 715  ACH-000138  0.087482     CFPAC1  Pancreatic Cancer  Pancreas   \n",
       " 716  ACH-000139  0.075497   PANC0327  Pancreatic Cancer  Pancreas   \n",
       " 729  ACH-000155 -0.110762     SW1990  Pancreatic Cancer  Pancreas   \n",
       " 734  ACH-000164 -0.003319      PANC1  Pancreatic Cancer  Pancreas   \n",
       " 738  ACH-000417  0.103661   PANC0813  Pancreatic Cancer  Pancreas   \n",
       " 742  ACH-000652  0.003762      SUIT2  Pancreatic Cancer  Pancreas   \n",
       " 772  ACH-000601  0.201335   MIAPACA2  Pancreatic Cancer  Pancreas   \n",
       " 796  ACH-000685 -0.129659        L33  Pancreatic Cancer  Pancreas   \n",
       " 859  ACH-000599 -0.065548   PATU8902  Pancreatic Cancer  Pancreas   \n",
       " 862  ACH-000468 -0.000625      PK45H  Pancreatic Cancer  Pancreas   \n",
       " 920  ACH-000502  0.120645    TCCPAN2  Pancreatic Cancer  Pancreas   \n",
       " 961  ACH-000517 -0.020521     SNU410  Pancreatic Cancer  Pancreas   \n",
       " 973  ACH-000535  0.127784      BXPC3  Pancreatic Cancer  Pancreas   \n",
       " \n",
       "     Lineage Subtype  Expression Mutation  \n",
       " 8          Exocrine         NaN    Other  \n",
       " 66         Exocrine    0.847997    Other  \n",
       " 73         Exocrine    0.056584    Other  \n",
       " 75         Exocrine    0.831877    Other  \n",
       " 76         Exocrine    2.643856    Other  \n",
       " 77         Exocrine    1.344828    Other  \n",
       " 88         Exocrine    1.090853    Other  \n",
       " 247        Exocrine    0.454176    Other  \n",
       " 349        Exocrine         NaN    Other  \n",
       " 497        Exocrine    0.124328    Other  \n",
       " 512        Exocrine    0.731183    Other  \n",
       " 524        Exocrine    0.356144    Other  \n",
       " 527        Exocrine    6.030998    Other  \n",
       " 547        Exocrine    0.238787    Other  \n",
       " 548        Exocrine    0.111031    Other  \n",
       " 584        Exocrine    0.201634    Other  \n",
       " 592        Exocrine    1.448901    Other  \n",
       " 604        Exocrine    0.250962    Other  \n",
       " 618        Exocrine    0.475085    Other  \n",
       " 626        Exocrine    0.150560    Other  \n",
       " 630        Exocrine    1.599318    Other  \n",
       " 631        Exocrine    0.941106    Other  \n",
       " 638        Exocrine    0.097611    Other  \n",
       " 641        Exocrine    0.124328    Other  \n",
       " 659        Exocrine    0.713696    Other  \n",
       " 660        Exocrine    0.042644    Other  \n",
       " 672        Exocrine    0.594549    Other  \n",
       " 679        Exocrine    0.831877    Other  \n",
       " 697        Exocrine    2.998196    Other  \n",
       " 701        Exocrine    0.910733    Other  \n",
       " 705        Exocrine    0.189034    Other  \n",
       " 715        Exocrine    1.327687    Other  \n",
       " 716        Exocrine    0.475085    Other  \n",
       " 729        Exocrine    0.344828    Other  \n",
       " 734        Exocrine    0.226509    Other  \n",
       " 738        Exocrine    3.058316    Other  \n",
       " 742        Exocrine    0.910733    Other  \n",
       " 772        Exocrine    0.000000    Other  \n",
       " 796        Exocrine    0.014355    Other  \n",
       " 859        Exocrine    1.459432    Other  \n",
       " 862        Exocrine    0.084064    Other  \n",
       " 920        Exocrine    3.984589    Other  \n",
       " 961        Exocrine    0.056584    Other  \n",
       " 973        Exocrine    1.182692    Other  ,\n",
       "              ID     CERES       Name             Primary Disease  \\\n",
       " 0    ACH-000001 -0.074509  NIHOVCAR3              Ovarian Cancer   \n",
       " 1    ACH-001063 -0.003193      DOV13              Ovarian Cancer   \n",
       " 2    ACH-001065  0.103948      EVSAT               Breast Cancer   \n",
       " 3    ACH-001067  0.104490         F5                Brain Cancer   \n",
       " 4    ACH-001075 -0.066433    NCIH292                 Lung Cancer   \n",
       " ..          ...       ...        ...                         ...   \n",
       " 984  ACH-000937 -0.001135      PF382                    Leukemia   \n",
       " 985  ACH-001416 -0.005437      UMUC9              Bladder Cancer   \n",
       " 986  ACH-000272  0.185129      SLR24               Kidney Cancer   \n",
       " 987  ACH-000879  0.107438     MFE296  Endometrial/Uterine Cancer   \n",
       " 988  ACH-000791  0.039455  RERFLCAD1                 Lung Cancer   \n",
       " \n",
       "                     Lineage             Lineage Subtype  Expression  \\\n",
       " 0                     Ovary        Ovary Adenocarcinoma    0.042644   \n",
       " 1                     Ovary        Ovary Adenocarcinoma         NaN   \n",
       " 2                    Breast            Breast Carcinoma         NaN   \n",
       " 3    Central Nervous System                  Meningioma    0.263034   \n",
       " 4                      Lung                       NSCLC    0.070389   \n",
       " ..                      ...                         ...         ...   \n",
       " 984                   Blood                         ALL    0.150560   \n",
       " 985           Urinary Tract           Bladder Carcinoma    0.084064   \n",
       " 986                  Kidney        Renal Cell Carcinoma    3.606442   \n",
       " 987                  Uterus  Endometrial Adenocarcinoma    0.000000   \n",
       " 988                    Lung                       NSCLC    2.920293   \n",
       " \n",
       "                  Mutation  \n",
       " 0                   Other  \n",
       " 1                   Other  \n",
       " 2                   Other  \n",
       " 3                   Other  \n",
       " 4                   Other  \n",
       " ..                    ...  \n",
       " 984  Other non-conserving  \n",
       " 985  Other non-conserving  \n",
       " 986  Other non-conserving  \n",
       " 987              Damaging  \n",
       " 988              Damaging  \n",
       " \n",
       " [945 rows x 8 columns])"
      ]
     },
     "execution_count": 20,
     "metadata": {},
     "output_type": "execute_result"
    }
   ],
   "source": [
    "get_CERES(gene_name, 'Exocrine')"
   ]
  },
  {
   "cell_type": "markdown",
   "metadata": {},
   "source": [
    "<span style=\"color:blue\">**Alternative Splicing**</span>  "
   ]
  },
  {
   "cell_type": "code",
   "execution_count": 14,
   "metadata": {},
   "outputs": [],
   "source": [
    "dir_splice = '../../anno_ref/ICGC/alternative_splicing'\n",
    "exp_dir = '../../anno_ref/ICGC/pcawg_rnaseq/'\n",
    "# Read aliquot id information\n",
    "df_exp_info = pd.read_csv(os.path.join(exp_dir,'rnaseq.metadata.tsv'), sep = '\\t')"
   ]
  },
  {
   "cell_type": "code",
   "execution_count": 15,
   "metadata": {},
   "outputs": [
    {
     "name": "stdout",
     "output_type": "stream",
     "text": [
      "DO51546 is not in PCAWG transcriptome analysis\n"
     ]
    }
   ],
   "source": [
    "### If patient is in the splicing file(transcriptome analysis info)\n",
    "for donor in donor_list:\n",
    "    tumor_id = df_exp_info[df_exp_info['icgc_donor_id'] == donor]['aliquot_id']\n",
    "    if len(tumor_id) ==0:\n",
    "        print(f'{donor} is not in PCAWG transcriptome analysis')"
   ]
  }
 ],
 "metadata": {
  "kernelspec": {
   "display_name": "Python 3",
   "language": "python",
   "name": "python3"
  },
  "language_info": {
   "codemirror_mode": {
    "name": "ipython",
    "version": 3
   },
   "file_extension": ".py",
   "mimetype": "text/x-python",
   "name": "python",
   "nbconvert_exporter": "python",
   "pygments_lexer": "ipython3",
   "version": "3.6.10"
  }
 },
 "nbformat": 4,
 "nbformat_minor": 4
}
