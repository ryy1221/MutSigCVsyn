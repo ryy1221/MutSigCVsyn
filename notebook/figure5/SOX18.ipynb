{
 "cells": [
  {
   "cell_type": "code",
   "execution_count": 1,
   "metadata": {},
   "outputs": [],
   "source": [
    "### This is a gene specific analysis notebook\n",
    "from candidate_utils import *"
   ]
  },
  {
   "cell_type": "code",
   "execution_count": 2,
   "metadata": {},
   "outputs": [],
   "source": [
    "%load_ext autoreload\n",
    "%autoreload 2"
   ]
  },
  {
   "cell_type": "code",
   "execution_count": 3,
   "metadata": {},
   "outputs": [],
   "source": [
    "# Gene-transcript dict\n",
    "dict_name = pickle.load(open(os.path.join(dir_refs,'dict_name_forcov_062121.pkl'), 'rb'))"
   ]
  },
  {
   "cell_type": "code",
   "execution_count": 4,
   "metadata": {},
   "outputs": [],
   "source": [
    "gene_name = 'SOX18'"
   ]
  },
  {
   "cell_type": "code",
   "execution_count": 5,
   "metadata": {},
   "outputs": [
    {
     "name": "stdout",
     "output_type": "stream",
     "text": [
      "ENST00000340356\n"
     ]
    }
   ],
   "source": [
    "# Find transcript for the gene\n",
    "for transcript,gene in dict_name.items():\n",
    "    if gene == gene_name:\n",
    "        print(transcript)"
   ]
  },
  {
   "cell_type": "markdown",
   "metadata": {},
   "source": [
    "<span style=\"color:blue\">**The histology subtypes of patients with the mutation**</span>.\n"
   ]
  },
  {
   "cell_type": "code",
   "execution_count": 6,
   "metadata": {},
   "outputs": [
    {
     "name": "stderr",
     "output_type": "stream",
     "text": [
      "/opt/aci/sw/anaconda3/2020.07_gcc-4.8.5-bzb/lib/python3.8/site-packages/IPython/core/interactiveshell.py:3263: DtypeWarning: Columns (1,17,24,33,34,35,36) have mixed types.Specify dtype option on import or set low_memory=False.\n",
      "  if (await self.run_code(code, result,  async_=asy)):\n"
     ]
    }
   ],
   "source": [
    "df_str, df_num = get_num_str(gene_name)"
   ]
  },
  {
   "cell_type": "code",
   "execution_count": 7,
   "metadata": {},
   "outputs": [
    {
     "data": {
      "text/html": [
       "<div>\n",
       "<style scoped>\n",
       "    .dataframe tbody tr th:only-of-type {\n",
       "        vertical-align: middle;\n",
       "    }\n",
       "\n",
       "    .dataframe tbody tr th {\n",
       "        vertical-align: top;\n",
       "    }\n",
       "\n",
       "    .dataframe thead th {\n",
       "        text-align: right;\n",
       "    }\n",
       "</style>\n",
       "<table border=\"1\" class=\"dataframe\">\n",
       "  <thead>\n",
       "    <tr style=\"text-align: right;\">\n",
       "      <th></th>\n",
       "      <th>dcc_specimen_type</th>\n",
       "      <th>histology_tier3</th>\n",
       "      <th>histology_tier4</th>\n",
       "      <th>tumour_histological_type</th>\n",
       "      <th>tumour_stage</th>\n",
       "      <th>tumour_histological_comment</th>\n",
       "      <th>specimen_donor_treatment_type</th>\n",
       "    </tr>\n",
       "  </thead>\n",
       "  <tbody>\n",
       "    <tr>\n",
       "      <th>syn</th>\n",
       "      <td>{'Primary tumour - solid tissue': 5}</td>\n",
       "      <td>{'Adenocarcinoma': 5}</td>\n",
       "      <td>{'Adenocarcinoma': 5}</td>\n",
       "      <td>{'Adenocarcinoma, NOS': 5}</td>\n",
       "      <td>{'1a': 1, '1b': 1, '3a': 1, '3b': 1, '4': 1}</td>\n",
       "      <td>{nan: 5}</td>\n",
       "      <td>{'no treatment': 1, nan: 4}</td>\n",
       "    </tr>\n",
       "    <tr>\n",
       "      <th>all</th>\n",
       "      <td>{'Primary tumour - solid tissue': 97}</td>\n",
       "      <td>{'Adenocarcinoma': 97}</td>\n",
       "      <td>{'Adenocarcinoma': 97}</td>\n",
       "      <td>{'Adenocarcinoma, NOS': 97}</td>\n",
       "      <td>{'3b': 17, '2b': 3, '1a': 18, '3c': 12, '4': 1...</td>\n",
       "      <td>{nan: 97}</td>\n",
       "      <td>{nan: 47, 'no treatment': 49, 'chemotherapy': 1}</td>\n",
       "    </tr>\n",
       "  </tbody>\n",
       "</table>\n",
       "</div>"
      ],
      "text/plain": [
       "                         dcc_specimen_type         histology_tier3  \\\n",
       "syn   {'Primary tumour - solid tissue': 5}   {'Adenocarcinoma': 5}   \n",
       "all  {'Primary tumour - solid tissue': 97}  {'Adenocarcinoma': 97}   \n",
       "\n",
       "            histology_tier4     tumour_histological_type  \\\n",
       "syn   {'Adenocarcinoma': 5}   {'Adenocarcinoma, NOS': 5}   \n",
       "all  {'Adenocarcinoma': 97}  {'Adenocarcinoma, NOS': 97}   \n",
       "\n",
       "                                          tumour_stage  \\\n",
       "syn       {'1a': 1, '1b': 1, '3a': 1, '3b': 1, '4': 1}   \n",
       "all  {'3b': 17, '2b': 3, '1a': 18, '3c': 12, '4': 1...   \n",
       "\n",
       "    tumour_histological_comment  \\\n",
       "syn                    {nan: 5}   \n",
       "all                   {nan: 97}   \n",
       "\n",
       "                        specimen_donor_treatment_type  \n",
       "syn                       {'no treatment': 1, nan: 4}  \n",
       "all  {nan: 47, 'no treatment': 49, 'chemotherapy': 1}  "
      ]
     },
     "execution_count": 7,
     "metadata": {},
     "output_type": "execute_result"
    }
   ],
   "source": [
    "df_str"
   ]
  },
  {
   "cell_type": "code",
   "execution_count": 8,
   "metadata": {},
   "outputs": [
    {
     "data": {
      "text/html": [
       "<div>\n",
       "<style scoped>\n",
       "    .dataframe tbody tr th:only-of-type {\n",
       "        vertical-align: middle;\n",
       "    }\n",
       "\n",
       "    .dataframe tbody tr th {\n",
       "        vertical-align: top;\n",
       "    }\n",
       "\n",
       "    .dataframe thead th {\n",
       "        text-align: right;\n",
       "    }\n",
       "</style>\n",
       "<table border=\"1\" class=\"dataframe\">\n",
       "  <thead>\n",
       "    <tr style=\"text-align: right;\">\n",
       "      <th></th>\n",
       "      <th></th>\n",
       "      <th>SV.events</th>\n",
       "      <th>Coding.SNVs</th>\n",
       "      <th>Non.coding.SNVs</th>\n",
       "      <th>CNA.events..do_not_use.</th>\n",
       "      <th>Retrotransposon.insertions</th>\n",
       "      <th>Mitochondrial.mutations</th>\n",
       "      <th>all.Indels</th>\n",
       "    </tr>\n",
       "    <tr>\n",
       "      <th>mut_status</th>\n",
       "      <th></th>\n",
       "      <th></th>\n",
       "      <th></th>\n",
       "      <th></th>\n",
       "      <th></th>\n",
       "      <th></th>\n",
       "      <th></th>\n",
       "      <th></th>\n",
       "    </tr>\n",
       "  </thead>\n",
       "  <tbody>\n",
       "    <tr>\n",
       "      <th rowspan=\"8\" valign=\"top\">syn</th>\n",
       "      <th>count</th>\n",
       "      <td>5.000000</td>\n",
       "      <td>5.000000</td>\n",
       "      <td>5.000000</td>\n",
       "      <td>5.000000</td>\n",
       "      <td>5.000000</td>\n",
       "      <td>5.000000</td>\n",
       "      <td>5.000000</td>\n",
       "    </tr>\n",
       "    <tr>\n",
       "      <th>mean</th>\n",
       "      <td>238.000000</td>\n",
       "      <td>244.800000</td>\n",
       "      <td>36370.000000</td>\n",
       "      <td>582.800000</td>\n",
       "      <td>95.800000</td>\n",
       "      <td>4.400000</td>\n",
       "      <td>2008.400000</td>\n",
       "    </tr>\n",
       "    <tr>\n",
       "      <th>std</th>\n",
       "      <td>134.467468</td>\n",
       "      <td>47.494210</td>\n",
       "      <td>16101.188528</td>\n",
       "      <td>252.805657</td>\n",
       "      <td>65.560659</td>\n",
       "      <td>2.880972</td>\n",
       "      <td>467.101488</td>\n",
       "    </tr>\n",
       "    <tr>\n",
       "      <th>min</th>\n",
       "      <td>144.000000</td>\n",
       "      <td>190.000000</td>\n",
       "      <td>19163.000000</td>\n",
       "      <td>390.000000</td>\n",
       "      <td>24.000000</td>\n",
       "      <td>2.000000</td>\n",
       "      <td>1455.000000</td>\n",
       "    </tr>\n",
       "    <tr>\n",
       "      <th>25%</th>\n",
       "      <td>148.000000</td>\n",
       "      <td>222.000000</td>\n",
       "      <td>24469.000000</td>\n",
       "      <td>393.000000</td>\n",
       "      <td>44.000000</td>\n",
       "      <td>2.000000</td>\n",
       "      <td>1783.000000</td>\n",
       "    </tr>\n",
       "    <tr>\n",
       "      <th>50%</th>\n",
       "      <td>151.000000</td>\n",
       "      <td>223.000000</td>\n",
       "      <td>34056.000000</td>\n",
       "      <td>453.000000</td>\n",
       "      <td>96.000000</td>\n",
       "      <td>4.000000</td>\n",
       "      <td>2002.000000</td>\n",
       "    </tr>\n",
       "    <tr>\n",
       "      <th>75%</th>\n",
       "      <td>299.000000</td>\n",
       "      <td>288.000000</td>\n",
       "      <td>45001.000000</td>\n",
       "      <td>708.000000</td>\n",
       "      <td>128.000000</td>\n",
       "      <td>5.000000</td>\n",
       "      <td>2079.000000</td>\n",
       "    </tr>\n",
       "    <tr>\n",
       "      <th>max</th>\n",
       "      <td>448.000000</td>\n",
       "      <td>301.000000</td>\n",
       "      <td>59161.000000</td>\n",
       "      <td>970.000000</td>\n",
       "      <td>187.000000</td>\n",
       "      <td>9.000000</td>\n",
       "      <td>2723.000000</td>\n",
       "    </tr>\n",
       "    <tr>\n",
       "      <th rowspan=\"8\" valign=\"top\">all</th>\n",
       "      <th>count</th>\n",
       "      <td>87.000000</td>\n",
       "      <td>97.000000</td>\n",
       "      <td>97.000000</td>\n",
       "      <td>97.000000</td>\n",
       "      <td>97.000000</td>\n",
       "      <td>97.000000</td>\n",
       "      <td>97.000000</td>\n",
       "    </tr>\n",
       "    <tr>\n",
       "      <th>mean</th>\n",
       "      <td>227.160920</td>\n",
       "      <td>178.979381</td>\n",
       "      <td>27609.649485</td>\n",
       "      <td>547.680412</td>\n",
       "      <td>90.000000</td>\n",
       "      <td>4.762887</td>\n",
       "      <td>1581.268041</td>\n",
       "    </tr>\n",
       "    <tr>\n",
       "      <th>std</th>\n",
       "      <td>154.841169</td>\n",
       "      <td>99.508896</td>\n",
       "      <td>20645.827299</td>\n",
       "      <td>324.083919</td>\n",
       "      <td>123.975468</td>\n",
       "      <td>2.981796</td>\n",
       "      <td>914.689742</td>\n",
       "    </tr>\n",
       "    <tr>\n",
       "      <th>min</th>\n",
       "      <td>0.000000</td>\n",
       "      <td>3.000000</td>\n",
       "      <td>58.000000</td>\n",
       "      <td>69.000000</td>\n",
       "      <td>0.000000</td>\n",
       "      <td>0.000000</td>\n",
       "      <td>1.000000</td>\n",
       "    </tr>\n",
       "    <tr>\n",
       "      <th>25%</th>\n",
       "      <td>137.500000</td>\n",
       "      <td>112.000000</td>\n",
       "      <td>13782.000000</td>\n",
       "      <td>343.000000</td>\n",
       "      <td>20.000000</td>\n",
       "      <td>3.000000</td>\n",
       "      <td>934.000000</td>\n",
       "    </tr>\n",
       "    <tr>\n",
       "      <th>50%</th>\n",
       "      <td>184.000000</td>\n",
       "      <td>167.000000</td>\n",
       "      <td>22485.000000</td>\n",
       "      <td>472.000000</td>\n",
       "      <td>41.000000</td>\n",
       "      <td>4.000000</td>\n",
       "      <td>1574.000000</td>\n",
       "    </tr>\n",
       "    <tr>\n",
       "      <th>75%</th>\n",
       "      <td>286.000000</td>\n",
       "      <td>214.000000</td>\n",
       "      <td>34809.000000</td>\n",
       "      <td>701.000000</td>\n",
       "      <td>113.000000</td>\n",
       "      <td>7.000000</td>\n",
       "      <td>2104.000000</td>\n",
       "    </tr>\n",
       "    <tr>\n",
       "      <th>max</th>\n",
       "      <td>894.000000</td>\n",
       "      <td>579.000000</td>\n",
       "      <td>123394.000000</td>\n",
       "      <td>1905.000000</td>\n",
       "      <td>638.000000</td>\n",
       "      <td>14.000000</td>\n",
       "      <td>4620.000000</td>\n",
       "    </tr>\n",
       "  </tbody>\n",
       "</table>\n",
       "</div>"
      ],
      "text/plain": [
       "                   SV.events  Coding.SNVs  Non.coding.SNVs  \\\n",
       "mut_status                                                   \n",
       "syn        count    5.000000     5.000000         5.000000   \n",
       "           mean   238.000000   244.800000     36370.000000   \n",
       "           std    134.467468    47.494210     16101.188528   \n",
       "           min    144.000000   190.000000     19163.000000   \n",
       "           25%    148.000000   222.000000     24469.000000   \n",
       "           50%    151.000000   223.000000     34056.000000   \n",
       "           75%    299.000000   288.000000     45001.000000   \n",
       "           max    448.000000   301.000000     59161.000000   \n",
       "all        count   87.000000    97.000000        97.000000   \n",
       "           mean   227.160920   178.979381     27609.649485   \n",
       "           std    154.841169    99.508896     20645.827299   \n",
       "           min      0.000000     3.000000        58.000000   \n",
       "           25%    137.500000   112.000000     13782.000000   \n",
       "           50%    184.000000   167.000000     22485.000000   \n",
       "           75%    286.000000   214.000000     34809.000000   \n",
       "           max    894.000000   579.000000    123394.000000   \n",
       "\n",
       "                  CNA.events..do_not_use.  Retrotransposon.insertions  \\\n",
       "mut_status                                                              \n",
       "syn        count                 5.000000                    5.000000   \n",
       "           mean                582.800000                   95.800000   \n",
       "           std                 252.805657                   65.560659   \n",
       "           min                 390.000000                   24.000000   \n",
       "           25%                 393.000000                   44.000000   \n",
       "           50%                 453.000000                   96.000000   \n",
       "           75%                 708.000000                  128.000000   \n",
       "           max                 970.000000                  187.000000   \n",
       "all        count                97.000000                   97.000000   \n",
       "           mean                547.680412                   90.000000   \n",
       "           std                 324.083919                  123.975468   \n",
       "           min                  69.000000                    0.000000   \n",
       "           25%                 343.000000                   20.000000   \n",
       "           50%                 472.000000                   41.000000   \n",
       "           75%                 701.000000                  113.000000   \n",
       "           max                1905.000000                  638.000000   \n",
       "\n",
       "                  Mitochondrial.mutations   all.Indels  \n",
       "mut_status                                              \n",
       "syn        count                 5.000000     5.000000  \n",
       "           mean                  4.400000  2008.400000  \n",
       "           std                   2.880972   467.101488  \n",
       "           min                   2.000000  1455.000000  \n",
       "           25%                   2.000000  1783.000000  \n",
       "           50%                   4.000000  2002.000000  \n",
       "           75%                   5.000000  2079.000000  \n",
       "           max                   9.000000  2723.000000  \n",
       "all        count                97.000000    97.000000  \n",
       "           mean                  4.762887  1581.268041  \n",
       "           std                   2.981796   914.689742  \n",
       "           min                   0.000000     1.000000  \n",
       "           25%                   3.000000   934.000000  \n",
       "           50%                   4.000000  1574.000000  \n",
       "           75%                   7.000000  2104.000000  \n",
       "           max                  14.000000  4620.000000  "
      ]
     },
     "execution_count": 8,
     "metadata": {},
     "output_type": "execute_result"
    }
   ],
   "source": [
    "df_num"
   ]
  },
  {
   "cell_type": "markdown",
   "metadata": {},
   "source": [
    "<span style=\"color:blue\">**Mutation**</span>.\n"
   ]
  },
  {
   "cell_type": "code",
   "execution_count": 9,
   "metadata": {},
   "outputs": [
    {
     "name": "stderr",
     "output_type": "stream",
     "text": [
      "/opt/aci/sw/anaconda3/2020.07_gcc-4.8.5-bzb/lib/python3.8/site-packages/IPython/core/interactiveshell.py:3263: DtypeWarning: Columns (1,17,24,33,34,35,36) have mixed types.Specify dtype option on import or set low_memory=False.\n",
      "  if (await self.run_code(code, result,  async_=asy)):\n"
     ]
    },
    {
     "name": "stdout",
     "output_type": "stream",
     "text": [
      "Total 97 patients\n",
      "5 patients have synonymous mutations, they are: ['DO50345', 'DO50326', 'DO50387', 'DO50401', 'DO50337']\n",
      "20:g.62680308C>T\n",
      "20:g.62679639G>A\n",
      "20:g.62680134C>T\n",
      "20:g.62680053G>A\n",
      "20:g.62679855C>T\n"
     ]
    }
   ],
   "source": [
    "df_all, df_mut, donor_list = get_mut(gene_name)"
   ]
  },
  {
   "cell_type": "code",
   "execution_count": 10,
   "metadata": {},
   "outputs": [
    {
     "data": {
      "text/plain": [
       "Hugo_Symbol  Variant_Classification  Donor_ID\n",
       "SOX18        Silent                  DO50345     g.chr20:62680308C>T\n",
       "                                     DO50326     g.chr20:62679639G>A\n",
       "                                     DO50387     g.chr20:62680134C>T\n",
       "                                     DO50401     g.chr20:62680053G>A\n",
       "                                     DO50337     g.chr20:62679855C>T\n",
       "Name: Genome_Change, dtype: object"
      ]
     },
     "execution_count": 10,
     "metadata": {},
     "output_type": "execute_result"
    }
   ],
   "source": [
    "df_all.loc[pd.IndexSlice[gene_name, :,donor_list],'Genome_Change']"
   ]
  },
  {
   "cell_type": "markdown",
   "metadata": {},
   "source": [
    "<span style=\"color:blue\">**CNV**</span>.\n"
   ]
  },
  {
   "cell_type": "code",
   "execution_count": 11,
   "metadata": {},
   "outputs": [
    {
     "name": "stdout",
     "output_type": "stream",
     "text": [
      "                               8ff9b1b6-a498-47fe-a970-ab7cfb64e653\n",
      "Gene Symbol Locus ID Cytoband                                      \n",
      "SOX18       54345    20q13.33                                   NaN\n",
      "                               a08c196e-4f96-4b16-94b4-aa6a0153ac50\n",
      "Gene Symbol Locus ID Cytoband                                      \n",
      "SOX18       54345    20q13.33                                   NaN\n",
      "                               a284fe9d-9afd-4472-8d70-243ca9be5c2c\n",
      "Gene Symbol Locus ID Cytoband                                      \n",
      "SOX18       54345    20q13.33                                   NaN\n",
      "                               cb381d49-4546-400c-af02-f877083caa0a\n",
      "Gene Symbol Locus ID Cytoband                                      \n",
      "SOX18       54345    20q13.33                                   NaN\n",
      "                               fab0be4b-c84a-45cd-a76f-44d9a8bf1846\n",
      "Gene Symbol Locus ID Cytoband                                      \n",
      "SOX18       54345    20q13.33                                   5.0\n"
     ]
    }
   ],
   "source": [
    "cnv = get_cnv(donor_list, gene_name)"
   ]
  },
  {
   "cell_type": "markdown",
   "metadata": {},
   "source": [
    "<span style=\"color:blue\">**Expression PCAWG**</span>.\n"
   ]
  },
  {
   "cell_type": "code",
   "execution_count": 12,
   "metadata": {},
   "outputs": [
    {
     "name": "stderr",
     "output_type": "stream",
     "text": [
      "/opt/aci/sw/anaconda3/2020.07_gcc-4.8.5-bzb/lib/python3.8/site-packages/IPython/core/interactiveshell.py:3343: DtypeWarning: Columns (1,17,24,33,34,35,36) have mixed types.Specify dtype option on import or set low_memory=False.\n",
      "  exec(code_obj, self.user_global_ns, self.user_ns)\n"
     ]
    },
    {
     "name": "stdout",
     "output_type": "stream",
     "text": [
      "Number of normal patient: 0\n",
      "Number of synonymous patients: 0\n",
      "Number of other tumor patients:7\n",
      "test statistic:0.0,p-value:0.0\n"
     ]
    },
    {
     "name": "stderr",
     "output_type": "stream",
     "text": [
      "/opt/aci/sw/anaconda3/2020.07_gcc-4.8.5-bzb/lib/python3.8/site-packages/scipy/stats/stats.py:7039: RuntimeWarning: divide by zero encountered in double_scalars\n",
      "  z = (bigu - meanrank) / sd\n"
     ]
    },
    {
     "data": {
      "image/png": "[encoded data removed]",
      "text/plain": [
       "<Figure size 360x216 with 1 Axes>"
      ]
     },
     "metadata": {
      "needs_background": "light"
     },
     "output_type": "display_data"
    }
   ],
   "source": [
    "get_expression(gene_name)"
   ]
  },
  {
   "cell_type": "markdown",
   "metadata": {},
   "source": [
    "<span style=\"color:blue\">**CRISPR**</span>.\n"
   ]
  },
  {
   "cell_type": "code",
   "execution_count": 13,
   "metadata": {},
   "outputs": [
    {
     "name": "stdout",
     "output_type": "stream",
     "text": [
      "['Esophagus Adenocarcinoma' 'Esophagus Squamous']\n"
     ]
    }
   ],
   "source": [
    "get_lineage(gene_name, 'Esophagus')"
   ]
  },
  {
   "cell_type": "code",
   "execution_count": 14,
   "metadata": {},
   "outputs": [
    {
     "name": "stdout",
     "output_type": "stream",
     "text": [
      "7 in histology subtype\n",
      "982 not in histology subtype\n",
      "test statistic:2684.0,    p-value:0.1588\n",
      "test statistic:3347.5,    p-value:0.4529\n"
     ]
    },
    {
     "data": {
      "image/png": "[encoded data removed]",
      "text/plain": [
       "<Figure size 360x216 with 1 Axes>"
      ]
     },
     "metadata": {
      "needs_background": "light"
     },
     "output_type": "display_data"
    },
    {
     "data": {
      "image/png": "[encoded data removed]",
      "text/plain": [
       "<Figure size 360x216 with 1 Axes>"
      ]
     },
     "metadata": {
      "needs_background": "light"
     },
     "output_type": "display_data"
    }
   ],
   "source": [
    "get_CERES(gene_name, 'Esophagus Adenocarcinoma')"
   ]
  },
  {
   "cell_type": "markdown",
   "metadata": {},
   "source": [
    "<span style=\"color:blue\">**Alternative Splicing**</span>  "
   ]
  },
  {
   "cell_type": "code",
   "execution_count": 15,
   "metadata": {},
   "outputs": [],
   "source": [
    "dir_splice = '../../anno_ref/ICGC/alternative_splicing'\n",
    "exp_dir = '../../anno_ref/ICGC/pcawg_rnaseq/'\n",
    "# Read aliquot id information\n",
    "df_exp_info = pd.read_csv(os.path.join(exp_dir,'rnaseq.metadata.tsv'), sep = '\\t')"
   ]
  },
  {
   "cell_type": "code",
   "execution_count": 16,
   "metadata": {},
   "outputs": [
    {
     "name": "stdout",
     "output_type": "stream",
     "text": [
      "DO50345 is not in PCAWG transcriptome analysis\n",
      "DO50326 is not in PCAWG transcriptome analysis\n",
      "DO50387 is not in PCAWG transcriptome analysis\n",
      "DO50401 is not in PCAWG transcriptome analysis\n",
      "DO50337 is not in PCAWG transcriptome analysis\n"
     ]
    }
   ],
   "source": [
    "### If patient is in the splicing file(transcriptome analysis info)\n",
    "for donor in donor_list:\n",
    "    tumor_id = df_exp_info[df_exp_info['icgc_donor_id'] == donor]['aliquot_id']\n",
    "    if len(tumor_id) ==0:\n",
    "        print(f'{donor} is not in PCAWG transcriptome analysis')"
   ]
  }
 ],
 "metadata": {
  "kernelspec": {
   "display_name": "Python 3",
   "language": "python",
   "name": "python3"
  },
  "language_info": {
   "codemirror_mode": {
    "name": "ipython",
    "version": 3
   },
   "file_extension": ".py",
   "mimetype": "text/x-python",
   "name": "python",
   "nbconvert_exporter": "python",
   "pygments_lexer": "ipython3",
   "version": "3.8.3"
  }
 },
 "nbformat": 4,
 "nbformat_minor": 4
}
