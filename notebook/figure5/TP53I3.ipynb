{
 "cells": [
  {
   "cell_type": "code",
   "execution_count": 1,
   "metadata": {},
   "outputs": [],
   "source": [
    "### This is a gene specific analysis notebook\n",
    "from candidate_utils import *"
   ]
  },
  {
   "cell_type": "code",
   "execution_count": 2,
   "metadata": {},
   "outputs": [],
   "source": [
    "%load_ext autoreload\n",
    "%autoreload 2"
   ]
  },
  {
   "cell_type": "code",
   "execution_count": 3,
   "metadata": {},
   "outputs": [],
   "source": [
    "# Gene-transcript dict\n",
    "dict_name = pickle.load(open(os.path.join(dir_refs,'dict_name_forcov_062121.pkl'), 'rb'))"
   ]
  },
  {
   "cell_type": "code",
   "execution_count": 4,
   "metadata": {},
   "outputs": [],
   "source": [
    "gene_name = 'TP53I3'"
   ]
  },
  {
   "cell_type": "code",
   "execution_count": 5,
   "metadata": {},
   "outputs": [
    {
     "name": "stdout",
     "output_type": "stream",
     "text": [
      "ENST00000335934\n"
     ]
    }
   ],
   "source": [
    "# Find transcript for the gene\n",
    "for transcript,gene in dict_name.items():\n",
    "    if gene == gene_name:\n",
    "        print(transcript)"
   ]
  },
  {
   "cell_type": "markdown",
   "metadata": {},
   "source": [
    "<span style=\"color:blue\">**The histology subtypes of patients with the mutation**</span>.\n"
   ]
  },
  {
   "cell_type": "code",
   "execution_count": 6,
   "metadata": {},
   "outputs": [
    {
     "name": "stderr",
     "output_type": "stream",
     "text": [
      "/opt/aci/sw/anaconda3/2020.07_gcc-4.8.5-bzb/lib/python3.8/site-packages/IPython/core/interactiveshell.py:3263: DtypeWarning: Columns (1,17,24,33,34,35,36) have mixed types.Specify dtype option on import or set low_memory=False.\n",
      "  if (await self.run_code(code, result,  async_=asy)):\n"
     ]
    }
   ],
   "source": [
    "df_str, df_num = get_num_str(gene_name)"
   ]
  },
  {
   "cell_type": "code",
   "execution_count": 12,
   "metadata": {},
   "outputs": [
    {
     "data": {
      "text/html": [
       "<div>\n",
       "<style scoped>\n",
       "    .dataframe tbody tr th:only-of-type {\n",
       "        vertical-align: middle;\n",
       "    }\n",
       "\n",
       "    .dataframe tbody tr th {\n",
       "        vertical-align: top;\n",
       "    }\n",
       "\n",
       "    .dataframe thead th {\n",
       "        text-align: right;\n",
       "    }\n",
       "</style>\n",
       "<table border=\"1\" class=\"dataframe\">\n",
       "  <thead>\n",
       "    <tr style=\"text-align: right;\">\n",
       "      <th></th>\n",
       "      <th>dcc_specimen_type</th>\n",
       "      <th>histology_tier3</th>\n",
       "      <th>histology_tier4</th>\n",
       "      <th>tumour_histological_type</th>\n",
       "      <th>tumour_stage</th>\n",
       "      <th>tumour_histological_comment</th>\n",
       "      <th>specimen_donor_treatment_type</th>\n",
       "    </tr>\n",
       "  </thead>\n",
       "  <tbody>\n",
       "    <tr>\n",
       "      <th>syn</th>\n",
       "      <td>{'Primary tumour - solid tissue': 1, 'Primary ...</td>\n",
       "      <td>{'Adenocarcinoma': 3}</td>\n",
       "      <td>{'Pancreatic ductal carcinoma': 2, 'Adenocarci...</td>\n",
       "      <td>{'Infiltrating duct carcinoma, NOS': 2, nan: 1}</td>\n",
       "      <td>{'T3N0MX': 1, nan: 1, 'IB': 1}</td>\n",
       "      <td>{nan: 2, 'WARNING: Tumour histology inferred f...</td>\n",
       "      <td>{'no treatment': 3}</td>\n",
       "    </tr>\n",
       "    <tr>\n",
       "      <th>all</th>\n",
       "      <td>{'Primary tumour - other': 129, 'Primary tumou...</td>\n",
       "      <td>{'Adenocarcinoma': 232}</td>\n",
       "      <td>{'Adenocarcinoma': 60, 'Pancreatic ductal carc...</td>\n",
       "      <td>{nan: 60, 'Infiltrating duct carcinoma, NOS': ...</td>\n",
       "      <td>{nan: 57, 'IIB': 56, 'T2N0MX': 5, 'T1N1bMX': 1...</td>\n",
       "      <td>{'WARNING: Tumour histology inferred from proj...</td>\n",
       "      <td>{'no treatment': 171, 'surgery': 38, 'chemothe...</td>\n",
       "    </tr>\n",
       "  </tbody>\n",
       "</table>\n",
       "</div>"
      ],
      "text/plain": [
       "                                     dcc_specimen_type  \\\n",
       "syn  {'Primary tumour - solid tissue': 1, 'Primary ...   \n",
       "all  {'Primary tumour - other': 129, 'Primary tumou...   \n",
       "\n",
       "             histology_tier3  \\\n",
       "syn    {'Adenocarcinoma': 3}   \n",
       "all  {'Adenocarcinoma': 232}   \n",
       "\n",
       "                                       histology_tier4  \\\n",
       "syn  {'Pancreatic ductal carcinoma': 2, 'Adenocarci...   \n",
       "all  {'Adenocarcinoma': 60, 'Pancreatic ductal carc...   \n",
       "\n",
       "                              tumour_histological_type  \\\n",
       "syn    {'Infiltrating duct carcinoma, NOS': 2, nan: 1}   \n",
       "all  {nan: 60, 'Infiltrating duct carcinoma, NOS': ...   \n",
       "\n",
       "                                          tumour_stage  \\\n",
       "syn                     {'T3N0MX': 1, nan: 1, 'IB': 1}   \n",
       "all  {nan: 57, 'IIB': 56, 'T2N0MX': 5, 'T1N1bMX': 1...   \n",
       "\n",
       "                           tumour_histological_comment  \\\n",
       "syn  {nan: 2, 'WARNING: Tumour histology inferred f...   \n",
       "all  {'WARNING: Tumour histology inferred from proj...   \n",
       "\n",
       "                         specimen_donor_treatment_type  \n",
       "syn                                {'no treatment': 3}  \n",
       "all  {'no treatment': 171, 'surgery': 38, 'chemothe...  "
      ]
     },
     "execution_count": 12,
     "metadata": {},
     "output_type": "execute_result"
    }
   ],
   "source": [
    "df_str"
   ]
  },
  {
   "cell_type": "code",
   "execution_count": 8,
   "metadata": {},
   "outputs": [
    {
     "data": {
      "text/html": [
       "<div>\n",
       "<style scoped>\n",
       "    .dataframe tbody tr th:only-of-type {\n",
       "        vertical-align: middle;\n",
       "    }\n",
       "\n",
       "    .dataframe tbody tr th {\n",
       "        vertical-align: top;\n",
       "    }\n",
       "\n",
       "    .dataframe thead th {\n",
       "        text-align: right;\n",
       "    }\n",
       "</style>\n",
       "<table border=\"1\" class=\"dataframe\">\n",
       "  <thead>\n",
       "    <tr style=\"text-align: right;\">\n",
       "      <th></th>\n",
       "      <th></th>\n",
       "      <th>SV.events</th>\n",
       "      <th>Coding.SNVs</th>\n",
       "      <th>Non.coding.SNVs</th>\n",
       "      <th>CNA.events..do_not_use.</th>\n",
       "      <th>Retrotransposon.insertions</th>\n",
       "      <th>Mitochondrial.mutations</th>\n",
       "      <th>all.Indels</th>\n",
       "    </tr>\n",
       "    <tr>\n",
       "      <th>mut_status</th>\n",
       "      <th></th>\n",
       "      <th></th>\n",
       "      <th></th>\n",
       "      <th></th>\n",
       "      <th></th>\n",
       "      <th></th>\n",
       "      <th></th>\n",
       "      <th></th>\n",
       "    </tr>\n",
       "  </thead>\n",
       "  <tbody>\n",
       "    <tr>\n",
       "      <th rowspan=\"8\" valign=\"top\">syn</th>\n",
       "      <th>count</th>\n",
       "      <td>3.000000</td>\n",
       "      <td>3.000000</td>\n",
       "      <td>3.000000</td>\n",
       "      <td>3.000000</td>\n",
       "      <td>3.000000</td>\n",
       "      <td>3.000000</td>\n",
       "      <td>3.000000</td>\n",
       "    </tr>\n",
       "    <tr>\n",
       "      <th>mean</th>\n",
       "      <td>156.333333</td>\n",
       "      <td>115.000000</td>\n",
       "      <td>10281.666667</td>\n",
       "      <td>401.333333</td>\n",
       "      <td>2.666667</td>\n",
       "      <td>3.000000</td>\n",
       "      <td>1232.666667</td>\n",
       "    </tr>\n",
       "    <tr>\n",
       "      <th>std</th>\n",
       "      <td>145.716620</td>\n",
       "      <td>93.402355</td>\n",
       "      <td>7429.134696</td>\n",
       "      <td>290.358973</td>\n",
       "      <td>2.081666</td>\n",
       "      <td>3.464102</td>\n",
       "      <td>984.948899</td>\n",
       "    </tr>\n",
       "    <tr>\n",
       "      <th>min</th>\n",
       "      <td>53.000000</td>\n",
       "      <td>27.000000</td>\n",
       "      <td>2660.000000</td>\n",
       "      <td>193.000000</td>\n",
       "      <td>1.000000</td>\n",
       "      <td>1.000000</td>\n",
       "      <td>280.000000</td>\n",
       "    </tr>\n",
       "    <tr>\n",
       "      <th>25%</th>\n",
       "      <td>73.000000</td>\n",
       "      <td>66.000000</td>\n",
       "      <td>6671.500000</td>\n",
       "      <td>235.500000</td>\n",
       "      <td>1.500000</td>\n",
       "      <td>1.000000</td>\n",
       "      <td>725.500000</td>\n",
       "    </tr>\n",
       "    <tr>\n",
       "      <th>50%</th>\n",
       "      <td>93.000000</td>\n",
       "      <td>105.000000</td>\n",
       "      <td>10683.000000</td>\n",
       "      <td>278.000000</td>\n",
       "      <td>2.000000</td>\n",
       "      <td>1.000000</td>\n",
       "      <td>1171.000000</td>\n",
       "    </tr>\n",
       "    <tr>\n",
       "      <th>75%</th>\n",
       "      <td>208.000000</td>\n",
       "      <td>159.000000</td>\n",
       "      <td>14092.500000</td>\n",
       "      <td>505.500000</td>\n",
       "      <td>3.500000</td>\n",
       "      <td>4.000000</td>\n",
       "      <td>1709.000000</td>\n",
       "    </tr>\n",
       "    <tr>\n",
       "      <th>max</th>\n",
       "      <td>323.000000</td>\n",
       "      <td>213.000000</td>\n",
       "      <td>17502.000000</td>\n",
       "      <td>733.000000</td>\n",
       "      <td>5.000000</td>\n",
       "      <td>7.000000</td>\n",
       "      <td>2247.000000</td>\n",
       "    </tr>\n",
       "    <tr>\n",
       "      <th rowspan=\"8\" valign=\"top\">all</th>\n",
       "      <th>count</th>\n",
       "      <td>230.000000</td>\n",
       "      <td>232.000000</td>\n",
       "      <td>232.000000</td>\n",
       "      <td>232.000000</td>\n",
       "      <td>230.000000</td>\n",
       "      <td>232.000000</td>\n",
       "      <td>232.000000</td>\n",
       "    </tr>\n",
       "    <tr>\n",
       "      <th>mean</th>\n",
       "      <td>97.486957</td>\n",
       "      <td>67.004310</td>\n",
       "      <td>6369.357759</td>\n",
       "      <td>295.159483</td>\n",
       "      <td>5.126087</td>\n",
       "      <td>3.426724</td>\n",
       "      <td>745.870690</td>\n",
       "    </tr>\n",
       "    <tr>\n",
       "      <th>std</th>\n",
       "      <td>83.570368</td>\n",
       "      <td>46.739908</td>\n",
       "      <td>4927.615216</td>\n",
       "      <td>172.197876</td>\n",
       "      <td>17.127488</td>\n",
       "      <td>2.428862</td>\n",
       "      <td>1496.372688</td>\n",
       "    </tr>\n",
       "    <tr>\n",
       "      <th>min</th>\n",
       "      <td>0.000000</td>\n",
       "      <td>1.000000</td>\n",
       "      <td>280.000000</td>\n",
       "      <td>72.000000</td>\n",
       "      <td>0.000000</td>\n",
       "      <td>0.000000</td>\n",
       "      <td>18.000000</td>\n",
       "    </tr>\n",
       "    <tr>\n",
       "      <th>25%</th>\n",
       "      <td>43.000000</td>\n",
       "      <td>43.000000</td>\n",
       "      <td>3984.000000</td>\n",
       "      <td>176.000000</td>\n",
       "      <td>0.000000</td>\n",
       "      <td>2.000000</td>\n",
       "      <td>389.500000</td>\n",
       "    </tr>\n",
       "    <tr>\n",
       "      <th>50%</th>\n",
       "      <td>75.000000</td>\n",
       "      <td>56.000000</td>\n",
       "      <td>4946.000000</td>\n",
       "      <td>250.000000</td>\n",
       "      <td>2.000000</td>\n",
       "      <td>3.000000</td>\n",
       "      <td>528.500000</td>\n",
       "    </tr>\n",
       "    <tr>\n",
       "      <th>75%</th>\n",
       "      <td>123.000000</td>\n",
       "      <td>79.250000</td>\n",
       "      <td>7196.250000</td>\n",
       "      <td>352.250000</td>\n",
       "      <td>5.000000</td>\n",
       "      <td>5.000000</td>\n",
       "      <td>714.000000</td>\n",
       "    </tr>\n",
       "    <tr>\n",
       "      <th>max</th>\n",
       "      <td>550.000000</td>\n",
       "      <td>525.000000</td>\n",
       "      <td>54929.000000</td>\n",
       "      <td>1220.000000</td>\n",
       "      <td>243.000000</td>\n",
       "      <td>13.000000</td>\n",
       "      <td>22035.000000</td>\n",
       "    </tr>\n",
       "  </tbody>\n",
       "</table>\n",
       "</div>"
      ],
      "text/plain": [
       "                   SV.events  Coding.SNVs  Non.coding.SNVs  \\\n",
       "mut_status                                                   \n",
       "syn        count    3.000000     3.000000         3.000000   \n",
       "           mean   156.333333   115.000000     10281.666667   \n",
       "           std    145.716620    93.402355      7429.134696   \n",
       "           min     53.000000    27.000000      2660.000000   \n",
       "           25%     73.000000    66.000000      6671.500000   \n",
       "           50%     93.000000   105.000000     10683.000000   \n",
       "           75%    208.000000   159.000000     14092.500000   \n",
       "           max    323.000000   213.000000     17502.000000   \n",
       "all        count  230.000000   232.000000       232.000000   \n",
       "           mean    97.486957    67.004310      6369.357759   \n",
       "           std     83.570368    46.739908      4927.615216   \n",
       "           min      0.000000     1.000000       280.000000   \n",
       "           25%     43.000000    43.000000      3984.000000   \n",
       "           50%     75.000000    56.000000      4946.000000   \n",
       "           75%    123.000000    79.250000      7196.250000   \n",
       "           max    550.000000   525.000000     54929.000000   \n",
       "\n",
       "                  CNA.events..do_not_use.  Retrotransposon.insertions  \\\n",
       "mut_status                                                              \n",
       "syn        count                 3.000000                    3.000000   \n",
       "           mean                401.333333                    2.666667   \n",
       "           std                 290.358973                    2.081666   \n",
       "           min                 193.000000                    1.000000   \n",
       "           25%                 235.500000                    1.500000   \n",
       "           50%                 278.000000                    2.000000   \n",
       "           75%                 505.500000                    3.500000   \n",
       "           max                 733.000000                    5.000000   \n",
       "all        count               232.000000                  230.000000   \n",
       "           mean                295.159483                    5.126087   \n",
       "           std                 172.197876                   17.127488   \n",
       "           min                  72.000000                    0.000000   \n",
       "           25%                 176.000000                    0.000000   \n",
       "           50%                 250.000000                    2.000000   \n",
       "           75%                 352.250000                    5.000000   \n",
       "           max                1220.000000                  243.000000   \n",
       "\n",
       "                  Mitochondrial.mutations    all.Indels  \n",
       "mut_status                                               \n",
       "syn        count                 3.000000      3.000000  \n",
       "           mean                  3.000000   1232.666667  \n",
       "           std                   3.464102    984.948899  \n",
       "           min                   1.000000    280.000000  \n",
       "           25%                   1.000000    725.500000  \n",
       "           50%                   1.000000   1171.000000  \n",
       "           75%                   4.000000   1709.000000  \n",
       "           max                   7.000000   2247.000000  \n",
       "all        count               232.000000    232.000000  \n",
       "           mean                  3.426724    745.870690  \n",
       "           std                   2.428862   1496.372688  \n",
       "           min                   0.000000     18.000000  \n",
       "           25%                   2.000000    389.500000  \n",
       "           50%                   3.000000    528.500000  \n",
       "           75%                   5.000000    714.000000  \n",
       "           max                  13.000000  22035.000000  "
      ]
     },
     "execution_count": 8,
     "metadata": {},
     "output_type": "execute_result"
    }
   ],
   "source": [
    "df_num"
   ]
  },
  {
   "cell_type": "markdown",
   "metadata": {},
   "source": [
    "<span style=\"color:blue\">**Mutation**</span>.\n"
   ]
  },
  {
   "cell_type": "code",
   "execution_count": 13,
   "metadata": {},
   "outputs": [
    {
     "name": "stderr",
     "output_type": "stream",
     "text": [
      "/opt/aci/sw/anaconda3/2020.07_gcc-4.8.5-bzb/lib/python3.8/site-packages/IPython/core/interactiveshell.py:3263: DtypeWarning: Columns (1,17,24,33,34,35,36) have mixed types.Specify dtype option on import or set low_memory=False.\n",
      "  if (await self.run_code(code, result,  async_=asy)):\n"
     ]
    },
    {
     "name": "stdout",
     "output_type": "stream",
     "text": [
      "Total 230 patients\n",
      "3 patients have synonymous mutations, they are: ['DO34680', 'DO221542', 'DO221545']\n",
      "2:g.24307101C>T\n",
      "2:g.24307134G>A\n",
      "2:g.24307122C>T\n"
     ]
    }
   ],
   "source": [
    "df_all, df_mut, donor_list = get_mut(gene_name)"
   ]
  },
  {
   "cell_type": "code",
   "execution_count": 14,
   "metadata": {},
   "outputs": [
    {
     "data": {
      "text/plain": [
       "Hugo_Symbol  Variant_Classification  Donor_ID\n",
       "TP53I3       Silent                  DO34680     g.chr2:24307101C>T\n",
       "                                     DO221542    g.chr2:24307134G>A\n",
       "                                     DO221545    g.chr2:24307122C>T\n",
       "Name: Genome_Change, dtype: object"
      ]
     },
     "execution_count": 14,
     "metadata": {},
     "output_type": "execute_result"
    }
   ],
   "source": [
    "df_all.loc[pd.IndexSlice[gene_name, :,donor_list],'Genome_Change']"
   ]
  },
  {
   "cell_type": "markdown",
   "metadata": {},
   "source": [
    "<span style=\"color:blue\">**CNV**</span>.\n"
   ]
  },
  {
   "cell_type": "code",
   "execution_count": 15,
   "metadata": {},
   "outputs": [
    {
     "name": "stdout",
     "output_type": "stream",
     "text": [
      "                               1168944c-5451-4a18-8758-88bf5723bdd9\n",
      "Gene Symbol Locus ID Cytoband                                      \n",
      "TP53I3      9540     2p23.3                                     2.0\n",
      "                               b8270565-9e02-4d46-9534-08206bfd027a\n",
      "Gene Symbol Locus ID Cytoband                                      \n",
      "TP53I3      9540     2p23.3                                     2.0\n",
      "                               bbdd7393-024b-4073-b5bc-ef7a68c15b8a\n",
      "Gene Symbol Locus ID Cytoband                                      \n",
      "TP53I3      9540     2p23.3                                     1.0\n"
     ]
    }
   ],
   "source": [
    "cnv = get_cnv(donor_list, gene_name)"
   ]
  },
  {
   "cell_type": "markdown",
   "metadata": {},
   "source": [
    "<span style=\"color:blue\">**Expression PCAWG**</span>.\n"
   ]
  },
  {
   "cell_type": "code",
   "execution_count": 16,
   "metadata": {},
   "outputs": [
    {
     "name": "stderr",
     "output_type": "stream",
     "text": [
      "/opt/aci/sw/anaconda3/2020.07_gcc-4.8.5-bzb/lib/python3.8/site-packages/IPython/core/interactiveshell.py:3343: DtypeWarning: Columns (1,17,24,33,34,35,36) have mixed types.Specify dtype option on import or set low_memory=False.\n",
      "  exec(code_obj, self.user_global_ns, self.user_ns)\n"
     ]
    },
    {
     "name": "stdout",
     "output_type": "stream",
     "text": [
      "Number of normal patient: 0\n",
      "Number of synonymous patients: 1\n",
      "Number of other tumor patients:77\n",
      "test statistic:6.0,p-value:0.0776\n"
     ]
    },
    {
     "data": {
      "image/png": "[encoded data removed]",
      "text/plain": [
       "<Figure size 360x216 with 1 Axes>"
      ]
     },
     "metadata": {
      "needs_background": "light"
     },
     "output_type": "display_data"
    }
   ],
   "source": [
    "get_expression(gene_name)"
   ]
  },
  {
   "cell_type": "markdown",
   "metadata": {},
   "source": [
    "<span style=\"color:blue\">**CRISPR**</span>.\n"
   ]
  },
  {
   "cell_type": "code",
   "execution_count": 19,
   "metadata": {},
   "outputs": [
    {
     "name": "stdout",
     "output_type": "stream",
     "text": [
      "['Exocrine']\n"
     ]
    }
   ],
   "source": [
    "get_lineage(gene_name, 'Pancreas')"
   ]
  },
  {
   "cell_type": "code",
   "execution_count": 20,
   "metadata": {},
   "outputs": [
    {
     "name": "stdout",
     "output_type": "stream",
     "text": [
      "44 in histology subtype\n",
      "945 not in histology subtype\n",
      "test statistic:18295.0,    p-value:0.089\n",
      "test statistic:17573.5,    p-value:0.0412\n"
     ]
    },
    {
     "data": {
      "image/png": "[encoded data removed]",
      "text/plain": [
       "<Figure size 360x216 with 1 Axes>"
      ]
     },
     "metadata": {
      "needs_background": "light"
     },
     "output_type": "display_data"
    },
    {
     "data": {
      "image/png": "[encoded data removed]",
      "text/plain": [
       "<Figure size 360x216 with 1 Axes>"
      ]
     },
     "metadata": {
      "needs_background": "light"
     },
     "output_type": "display_data"
    }
   ],
   "source": [
    "get_CERES(gene_name, 'Exocrine')"
   ]
  },
  {
   "cell_type": "markdown",
   "metadata": {},
   "source": [
    "<span style=\"color:blue\">**Alternative Splicing**</span>  "
   ]
  },
  {
   "cell_type": "code",
   "execution_count": 21,
   "metadata": {},
   "outputs": [],
   "source": [
    "dir_splice = '../../anno_ref/ICGC/alternative_splicing'\n",
    "exp_dir = '../../anno_ref/ICGC/pcawg_rnaseq/'\n",
    "# Read aliquot id information\n",
    "df_exp_info = pd.read_csv(os.path.join(exp_dir,'rnaseq.metadata.tsv'), sep = '\\t')"
   ]
  },
  {
   "cell_type": "code",
   "execution_count": 16,
   "metadata": {},
   "outputs": [
    {
     "name": "stdout",
     "output_type": "stream",
     "text": [
      "DO50345 is not in PCAWG transcriptome analysis\n",
      "DO50326 is not in PCAWG transcriptome analysis\n",
      "DO50387 is not in PCAWG transcriptome analysis\n",
      "DO50401 is not in PCAWG transcriptome analysis\n",
      "DO50337 is not in PCAWG transcriptome analysis\n"
     ]
    }
   ],
   "source": [
    "### If patient is in the splicing file(transcriptome analysis info)\n",
    "for donor in donor_list:\n",
    "    tumor_id = df_exp_info[df_exp_info['icgc_donor_id'] == donor]['aliquot_id']\n",
    "    if len(tumor_id) ==0:\n",
    "        print(f'{donor} is not in PCAWG transcriptome analysis')"
   ]
  }
 ],
 "metadata": {
  "kernelspec": {
   "display_name": "Python 3",
   "language": "python",
   "name": "python3"
  },
  "language_info": {
   "codemirror_mode": {
    "name": "ipython",
    "version": 3
   },
   "file_extension": ".py",
   "mimetype": "text/x-python",
   "name": "python",
   "nbconvert_exporter": "python",
   "pygments_lexer": "ipython3",
   "version": "3.8.3"
  }
 },
 "nbformat": 4,
 "nbformat_minor": 4
}
