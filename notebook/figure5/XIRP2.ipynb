{
 "cells": [
  {
   "cell_type": "code",
   "execution_count": 1,
   "metadata": {},
   "outputs": [],
   "source": [
    "### This is a gene specific analysis notebook\n",
    "from candidate_utils import *"
   ]
  },
  {
   "cell_type": "code",
   "execution_count": 2,
   "metadata": {},
   "outputs": [],
   "source": [
    "%load_ext autoreload\n",
    "%autoreload 2"
   ]
  },
  {
   "cell_type": "code",
   "execution_count": 3,
   "metadata": {},
   "outputs": [],
   "source": [
    "# Gene-transcript dict\n",
    "dict_name = pickle.load(open(os.path.join(dir_refs,'dict_name_forcov_062121.pkl'), 'rb'))"
   ]
  },
  {
   "cell_type": "code",
   "execution_count": 4,
   "metadata": {},
   "outputs": [],
   "source": [
    "gene_name = 'XIRP2'"
   ]
  },
  {
   "cell_type": "code",
   "execution_count": 5,
   "metadata": {},
   "outputs": [
    {
     "name": "stdout",
     "output_type": "stream",
     "text": [
      "ENST00000409728\n"
     ]
    }
   ],
   "source": [
    "# Find transcript for the gene\n",
    "for transcript,gene in dict_name.items():\n",
    "    if gene == gene_name:\n",
    "        print(transcript)"
   ]
  },
  {
   "cell_type": "markdown",
   "metadata": {},
   "source": [
    "<span style=\"color:blue\">**The histology subtypes of patients with the mutation**</span>.\n"
   ]
  },
  {
   "cell_type": "code",
   "execution_count": 6,
   "metadata": {},
   "outputs": [
    {
     "name": "stderr",
     "output_type": "stream",
     "text": [
      "/opt/aci/sw/anaconda3/2020.07_gcc-4.8.5-bzb/lib/python3.8/site-packages/IPython/core/interactiveshell.py:3263: DtypeWarning: Columns (1,17,33,34,35,36) have mixed types.Specify dtype option on import or set low_memory=False.\n",
      "  if (await self.run_code(code, result,  async_=asy)):\n"
     ]
    }
   ],
   "source": [
    "df_str, df_num = get_num_str(gene_name)"
   ]
  },
  {
   "cell_type": "code",
   "execution_count": 7,
   "metadata": {},
   "outputs": [
    {
     "data": {
      "text/html": [
       "<div>\n",
       "<style scoped>\n",
       "    .dataframe tbody tr th:only-of-type {\n",
       "        vertical-align: middle;\n",
       "    }\n",
       "\n",
       "    .dataframe tbody tr th {\n",
       "        vertical-align: top;\n",
       "    }\n",
       "\n",
       "    .dataframe thead th {\n",
       "        text-align: right;\n",
       "    }\n",
       "</style>\n",
       "<table border=\"1\" class=\"dataframe\">\n",
       "  <thead>\n",
       "    <tr style=\"text-align: right;\">\n",
       "      <th></th>\n",
       "      <th>dcc_specimen_type</th>\n",
       "      <th>histology_tier3</th>\n",
       "      <th>histology_tier4</th>\n",
       "      <th>tumour_histological_type</th>\n",
       "      <th>tumour_stage</th>\n",
       "      <th>tumour_histological_comment</th>\n",
       "      <th>specimen_donor_treatment_type</th>\n",
       "    </tr>\n",
       "  </thead>\n",
       "  <tbody>\n",
       "    <tr>\n",
       "      <th>syn</th>\n",
       "      <td>{'Metastatic tumour - NOS': 9, 'Metastatic tum...</td>\n",
       "      <td>{'Melanoma': 22}</td>\n",
       "      <td>{'Malignant melanoma': 22}</td>\n",
       "      <td>{'Malignant melanoma, NOS': 22}</td>\n",
       "      <td>{nan: 10, 'IV': 8, 'III': 4}</td>\n",
       "      <td>{nan: 22}</td>\n",
       "      <td>{nan: 10, 'surgery': 11, 'other therapy': 1}</td>\n",
       "    </tr>\n",
       "    <tr>\n",
       "      <th>all</th>\n",
       "      <td>{'Metastatic tumour - NOS': 35, 'Metastatic tu...</td>\n",
       "      <td>{'Melanoma': 107}</td>\n",
       "      <td>{'Malignant melanoma': 107}</td>\n",
       "      <td>{'Malignant melanoma, NOS': 107}</td>\n",
       "      <td>{nan: 37, 'III': 46, 'IV': 23, 'I': 1}</td>\n",
       "      <td>{nan: 107}</td>\n",
       "      <td>{nan: 37, 'surgery': 67, 'other therapy': 3}</td>\n",
       "    </tr>\n",
       "  </tbody>\n",
       "</table>\n",
       "</div>"
      ],
      "text/plain": [
       "                                     dcc_specimen_type    histology_tier3  \\\n",
       "syn  {'Metastatic tumour - NOS': 9, 'Metastatic tum...   {'Melanoma': 22}   \n",
       "all  {'Metastatic tumour - NOS': 35, 'Metastatic tu...  {'Melanoma': 107}   \n",
       "\n",
       "                 histology_tier4          tumour_histological_type  \\\n",
       "syn   {'Malignant melanoma': 22}   {'Malignant melanoma, NOS': 22}   \n",
       "all  {'Malignant melanoma': 107}  {'Malignant melanoma, NOS': 107}   \n",
       "\n",
       "                               tumour_stage tumour_histological_comment  \\\n",
       "syn            {nan: 10, 'IV': 8, 'III': 4}                   {nan: 22}   \n",
       "all  {nan: 37, 'III': 46, 'IV': 23, 'I': 1}                  {nan: 107}   \n",
       "\n",
       "                    specimen_donor_treatment_type  \n",
       "syn  {nan: 10, 'surgery': 11, 'other therapy': 1}  \n",
       "all  {nan: 37, 'surgery': 67, 'other therapy': 3}  "
      ]
     },
     "execution_count": 7,
     "metadata": {},
     "output_type": "execute_result"
    }
   ],
   "source": [
    "df_str"
   ]
  },
  {
   "cell_type": "code",
   "execution_count": 8,
   "metadata": {},
   "outputs": [
    {
     "data": {
      "text/html": [
       "<div>\n",
       "<style scoped>\n",
       "    .dataframe tbody tr th:only-of-type {\n",
       "        vertical-align: middle;\n",
       "    }\n",
       "\n",
       "    .dataframe tbody tr th {\n",
       "        vertical-align: top;\n",
       "    }\n",
       "\n",
       "    .dataframe thead th {\n",
       "        text-align: right;\n",
       "    }\n",
       "</style>\n",
       "<table border=\"1\" class=\"dataframe\">\n",
       "  <thead>\n",
       "    <tr style=\"text-align: right;\">\n",
       "      <th></th>\n",
       "      <th></th>\n",
       "      <th>SV.events</th>\n",
       "      <th>Coding.SNVs</th>\n",
       "      <th>Non.coding.SNVs</th>\n",
       "      <th>CNA.events..do_not_use.</th>\n",
       "      <th>Retrotransposon.insertions</th>\n",
       "      <th>Mitochondrial.mutations</th>\n",
       "      <th>all.Indels</th>\n",
       "    </tr>\n",
       "    <tr>\n",
       "      <th>mut_status</th>\n",
       "      <th></th>\n",
       "      <th></th>\n",
       "      <th></th>\n",
       "      <th></th>\n",
       "      <th></th>\n",
       "      <th></th>\n",
       "      <th></th>\n",
       "      <th></th>\n",
       "    </tr>\n",
       "  </thead>\n",
       "  <tbody>\n",
       "    <tr>\n",
       "      <th rowspan=\"8\" valign=\"top\">syn</th>\n",
       "      <th>count</th>\n",
       "      <td>22.000000</td>\n",
       "      <td>22.000000</td>\n",
       "      <td>22.000000</td>\n",
       "      <td>22.000000</td>\n",
       "      <td>22.000000</td>\n",
       "      <td>22.000000</td>\n",
       "      <td>22.000000</td>\n",
       "    </tr>\n",
       "    <tr>\n",
       "      <th>mean</th>\n",
       "      <td>141.818182</td>\n",
       "      <td>1633.272727</td>\n",
       "      <td>232705.590909</td>\n",
       "      <td>401.545455</td>\n",
       "      <td>2.045455</td>\n",
       "      <td>1.909091</td>\n",
       "      <td>1184.636364</td>\n",
       "    </tr>\n",
       "    <tr>\n",
       "      <th>std</th>\n",
       "      <td>135.253778</td>\n",
       "      <td>1585.637267</td>\n",
       "      <td>233608.496152</td>\n",
       "      <td>278.884978</td>\n",
       "      <td>4.099678</td>\n",
       "      <td>1.925001</td>\n",
       "      <td>873.616650</td>\n",
       "    </tr>\n",
       "    <tr>\n",
       "      <th>min</th>\n",
       "      <td>21.000000</td>\n",
       "      <td>128.000000</td>\n",
       "      <td>14138.000000</td>\n",
       "      <td>143.000000</td>\n",
       "      <td>0.000000</td>\n",
       "      <td>0.000000</td>\n",
       "      <td>219.000000</td>\n",
       "    </tr>\n",
       "    <tr>\n",
       "      <th>25%</th>\n",
       "      <td>34.000000</td>\n",
       "      <td>451.750000</td>\n",
       "      <td>55355.250000</td>\n",
       "      <td>171.250000</td>\n",
       "      <td>0.000000</td>\n",
       "      <td>1.000000</td>\n",
       "      <td>490.750000</td>\n",
       "    </tr>\n",
       "    <tr>\n",
       "      <th>50%</th>\n",
       "      <td>81.500000</td>\n",
       "      <td>853.500000</td>\n",
       "      <td>125225.500000</td>\n",
       "      <td>257.500000</td>\n",
       "      <td>0.000000</td>\n",
       "      <td>2.000000</td>\n",
       "      <td>880.000000</td>\n",
       "    </tr>\n",
       "    <tr>\n",
       "      <th>75%</th>\n",
       "      <td>254.000000</td>\n",
       "      <td>2563.250000</td>\n",
       "      <td>341829.500000</td>\n",
       "      <td>619.000000</td>\n",
       "      <td>2.750000</td>\n",
       "      <td>2.000000</td>\n",
       "      <td>1732.500000</td>\n",
       "    </tr>\n",
       "    <tr>\n",
       "      <th>max</th>\n",
       "      <td>441.000000</td>\n",
       "      <td>5164.000000</td>\n",
       "      <td>854014.000000</td>\n",
       "      <td>1026.000000</td>\n",
       "      <td>19.000000</td>\n",
       "      <td>8.000000</td>\n",
       "      <td>3166.000000</td>\n",
       "    </tr>\n",
       "    <tr>\n",
       "      <th rowspan=\"8\" valign=\"top\">all</th>\n",
       "      <th>count</th>\n",
       "      <td>106.000000</td>\n",
       "      <td>107.000000</td>\n",
       "      <td>107.000000</td>\n",
       "      <td>107.000000</td>\n",
       "      <td>107.000000</td>\n",
       "      <td>107.000000</td>\n",
       "      <td>107.000000</td>\n",
       "    </tr>\n",
       "    <tr>\n",
       "      <th>mean</th>\n",
       "      <td>182.490566</td>\n",
       "      <td>803.971963</td>\n",
       "      <td>112468.271028</td>\n",
       "      <td>487.065421</td>\n",
       "      <td>4.990654</td>\n",
       "      <td>2.168224</td>\n",
       "      <td>1000.140187</td>\n",
       "    </tr>\n",
       "    <tr>\n",
       "      <th>std</th>\n",
       "      <td>213.635080</td>\n",
       "      <td>1008.382232</td>\n",
       "      <td>144315.255781</td>\n",
       "      <td>461.390500</td>\n",
       "      <td>34.356756</td>\n",
       "      <td>1.840252</td>\n",
       "      <td>2274.979637</td>\n",
       "    </tr>\n",
       "    <tr>\n",
       "      <th>min</th>\n",
       "      <td>12.000000</td>\n",
       "      <td>20.000000</td>\n",
       "      <td>2126.000000</td>\n",
       "      <td>118.000000</td>\n",
       "      <td>0.000000</td>\n",
       "      <td>0.000000</td>\n",
       "      <td>79.000000</td>\n",
       "    </tr>\n",
       "    <tr>\n",
       "      <th>25%</th>\n",
       "      <td>49.250000</td>\n",
       "      <td>121.500000</td>\n",
       "      <td>17297.000000</td>\n",
       "      <td>202.000000</td>\n",
       "      <td>0.000000</td>\n",
       "      <td>1.000000</td>\n",
       "      <td>401.000000</td>\n",
       "    </tr>\n",
       "    <tr>\n",
       "      <th>50%</th>\n",
       "      <td>98.000000</td>\n",
       "      <td>496.000000</td>\n",
       "      <td>70331.000000</td>\n",
       "      <td>317.000000</td>\n",
       "      <td>0.000000</td>\n",
       "      <td>2.000000</td>\n",
       "      <td>556.000000</td>\n",
       "    </tr>\n",
       "    <tr>\n",
       "      <th>75%</th>\n",
       "      <td>242.750000</td>\n",
       "      <td>932.500000</td>\n",
       "      <td>138316.500000</td>\n",
       "      <td>636.000000</td>\n",
       "      <td>2.000000</td>\n",
       "      <td>3.000000</td>\n",
       "      <td>900.000000</td>\n",
       "    </tr>\n",
       "    <tr>\n",
       "      <th>max</th>\n",
       "      <td>1234.000000</td>\n",
       "      <td>5164.000000</td>\n",
       "      <td>854014.000000</td>\n",
       "      <td>3128.000000</td>\n",
       "      <td>355.000000</td>\n",
       "      <td>8.000000</td>\n",
       "      <td>22963.000000</td>\n",
       "    </tr>\n",
       "  </tbody>\n",
       "</table>\n",
       "</div>"
      ],
      "text/plain": [
       "                    SV.events  Coding.SNVs  Non.coding.SNVs  \\\n",
       "mut_status                                                    \n",
       "syn        count    22.000000    22.000000        22.000000   \n",
       "           mean    141.818182  1633.272727    232705.590909   \n",
       "           std     135.253778  1585.637267    233608.496152   \n",
       "           min      21.000000   128.000000     14138.000000   \n",
       "           25%      34.000000   451.750000     55355.250000   \n",
       "           50%      81.500000   853.500000    125225.500000   \n",
       "           75%     254.000000  2563.250000    341829.500000   \n",
       "           max     441.000000  5164.000000    854014.000000   \n",
       "all        count   106.000000   107.000000       107.000000   \n",
       "           mean    182.490566   803.971963    112468.271028   \n",
       "           std     213.635080  1008.382232    144315.255781   \n",
       "           min      12.000000    20.000000      2126.000000   \n",
       "           25%      49.250000   121.500000     17297.000000   \n",
       "           50%      98.000000   496.000000     70331.000000   \n",
       "           75%     242.750000   932.500000    138316.500000   \n",
       "           max    1234.000000  5164.000000    854014.000000   \n",
       "\n",
       "                  CNA.events..do_not_use.  Retrotransposon.insertions  \\\n",
       "mut_status                                                              \n",
       "syn        count                22.000000                   22.000000   \n",
       "           mean                401.545455                    2.045455   \n",
       "           std                 278.884978                    4.099678   \n",
       "           min                 143.000000                    0.000000   \n",
       "           25%                 171.250000                    0.000000   \n",
       "           50%                 257.500000                    0.000000   \n",
       "           75%                 619.000000                    2.750000   \n",
       "           max                1026.000000                   19.000000   \n",
       "all        count               107.000000                  107.000000   \n",
       "           mean                487.065421                    4.990654   \n",
       "           std                 461.390500                   34.356756   \n",
       "           min                 118.000000                    0.000000   \n",
       "           25%                 202.000000                    0.000000   \n",
       "           50%                 317.000000                    0.000000   \n",
       "           75%                 636.000000                    2.000000   \n",
       "           max                3128.000000                  355.000000   \n",
       "\n",
       "                  Mitochondrial.mutations    all.Indels  \n",
       "mut_status                                               \n",
       "syn        count                22.000000     22.000000  \n",
       "           mean                  1.909091   1184.636364  \n",
       "           std                   1.925001    873.616650  \n",
       "           min                   0.000000    219.000000  \n",
       "           25%                   1.000000    490.750000  \n",
       "           50%                   2.000000    880.000000  \n",
       "           75%                   2.000000   1732.500000  \n",
       "           max                   8.000000   3166.000000  \n",
       "all        count               107.000000    107.000000  \n",
       "           mean                  2.168224   1000.140187  \n",
       "           std                   1.840252   2274.979637  \n",
       "           min                   0.000000     79.000000  \n",
       "           25%                   1.000000    401.000000  \n",
       "           50%                   2.000000    556.000000  \n",
       "           75%                   3.000000    900.000000  \n",
       "           max                   8.000000  22963.000000  "
      ]
     },
     "execution_count": 8,
     "metadata": {},
     "output_type": "execute_result"
    }
   ],
   "source": [
    "df_num"
   ]
  },
  {
   "cell_type": "markdown",
   "metadata": {},
   "source": [
    "<span style=\"color:blue\">**Mutation**</span>.\n"
   ]
  },
  {
   "cell_type": "code",
   "execution_count": 9,
   "metadata": {},
   "outputs": [
    {
     "name": "stderr",
     "output_type": "stream",
     "text": [
      "/opt/aci/sw/anaconda3/2020.07_gcc-4.8.5-bzb/lib/python3.8/site-packages/IPython/core/interactiveshell.py:3263: DtypeWarning: Columns (1,17,33,34,35,36) have mixed types.Specify dtype option on import or set low_memory=False.\n",
      "  if (await self.run_code(code, result,  async_=asy)):\n"
     ]
    },
    {
     "name": "stdout",
     "output_type": "stream",
     "text": [
      "Total 106 patients\n",
      "22 patients have synonymous mutations, they are: ['DO37432', 'DO37435', 'DO37861', 'DO220907', 'DO220875', 'DO220864', 'DO37425', 'DO220883', 'DO37439', 'DO220903', 'DO220886', 'DO220877', 'DO37531', 'DO220860', 'DO220859', 'DO220891', 'DO220913', 'DO47331', 'DO37599', 'DO37719', 'DO37782', 'DO220905']\n",
      "2:g.168107877C>T\n",
      "2:g.168103758G>A\n",
      "2:g.168105435G>A\n",
      "2:g.168106770G>A\n",
      "2:g.168100851C>T\n",
      "2:g.168114592A>G\n",
      "2:g.168104646G>A\n",
      "2:g.168103809C>T\n",
      "2:g.168102636G>A\n",
      "2:g.168107877C>T\n",
      "2:g.168108123G>A\n",
      "2:g.168102090G>A\n",
      "2:g.168103815G>A\n",
      "2:g.168108054G>A\n",
      "2:g.167760199G>A\n",
      "2:g.168096370A>G\n",
      "2:g.168107877C>T\n",
      "2:g.167992481G>A\n",
      "2:g.168100908G>A\n",
      "2:g.168102048A>T\n",
      "2:g.168106779G>A\n",
      "2:g.168104508G>A\n",
      "2:g.168115111T>C\n",
      "2:g.168108159C>T\n",
      "2:g.168105435G>A\n",
      "2:g.168115072G>A\n",
      "2:g.167760295G>A\n",
      "2:g.168106371G>A\n"
     ]
    }
   ],
   "source": [
    "df_all, df_mut, donor_list = get_mut(gene_name)"
   ]
  },
  {
   "cell_type": "code",
   "execution_count": 15,
   "metadata": {},
   "outputs": [
    {
     "data": {
      "text/plain": [
       "Hugo_Symbol  Variant_Classification  Donor_ID\n",
       "XIRP2        Silent                  DO37432     g.chr2:168107877C>T\n",
       "                                     DO37435     g.chr2:168103758G>A\n",
       "                                     DO37861     g.chr2:168105435G>A\n",
       "                                     DO220907    g.chr2:168106770G>A\n",
       "                                     DO220875    g.chr2:168100851C>T\n",
       "                                     DO220864    g.chr2:168114592A>G\n",
       "                                     DO37425     g.chr2:168104646G>A\n",
       "                                     DO220883    g.chr2:168103809C>T\n",
       "                                     DO37439     g.chr2:168102636G>A\n",
       "                                     DO220903    g.chr2:168107877C>T\n",
       "                                     DO220903    g.chr2:168108123G>A\n",
       "                                     DO220886    g.chr2:168102090G>A\n",
       "                                     DO220886    g.chr2:168103815G>A\n",
       "                                     DO220886    g.chr2:168108054G>A\n",
       "                                     DO220877    g.chr2:167760199G>A\n",
       "                                     DO220877    g.chr2:168096370A>G\n",
       "                                     DO37531     g.chr2:168107877C>T\n",
       "                                     DO220860    g.chr2:167992481G>A\n",
       "                                     DO220859    g.chr2:168100908G>A\n",
       "                                     DO220891    g.chr2:168102048A>T\n",
       "                                     DO220891    g.chr2:168106779G>A\n",
       "                                     DO220913    g.chr2:168104508G>A\n",
       "                                     DO47331     g.chr2:168115111T>C\n",
       "                                     DO37599     g.chr2:168108159C>T\n",
       "                                     DO37719     g.chr2:168105435G>A\n",
       "                                     DO37719     g.chr2:168115072G>A\n",
       "                                     DO37782     g.chr2:167760295G>A\n",
       "                                     DO220905    g.chr2:168106371G>A\n",
       "Name: Genome_Change, dtype: object"
      ]
     },
     "execution_count": 15,
     "metadata": {},
     "output_type": "execute_result"
    }
   ],
   "source": [
    "df_all.loc[pd.IndexSlice[gene_name, 'Silent',donor_list],'Genome_Change']"
   ]
  },
  {
   "cell_type": "markdown",
   "metadata": {},
   "source": [
    "<span style=\"color:blue\">**CNV**</span>.\n"
   ]
  },
  {
   "cell_type": "code",
   "execution_count": 11,
   "metadata": {},
   "outputs": [
    {
     "name": "stdout",
     "output_type": "stream",
     "text": [
      "                               04aa6b77-8074-480c-872e-a1a47afa5314\n",
      "Gene Symbol Locus ID Cytoband                                      \n",
      "XIRP2       129446   2q24.3                                     3.0\n",
      "                               14630c19-9ee0-4ab3-9d8b-8c3309d1e7d0\n",
      "Gene Symbol Locus ID Cytoband                                      \n",
      "XIRP2       129446   2q24.3                                     5.0\n",
      "                               22edd867-dcd6-42b5-92bb-025ceb84b106\n",
      "Gene Symbol Locus ID Cytoband                                      \n",
      "XIRP2       129446   2q24.3                                     3.0\n",
      "                               25e20393-752b-4796-9001-0e22ee04c586\n",
      "Gene Symbol Locus ID Cytoband                                      \n",
      "XIRP2       129446   2q24.3                                     2.0\n",
      "                               30600994-c1ec-44c9-a620-3f6c617eb928\n",
      "Gene Symbol Locus ID Cytoband                                      \n",
      "XIRP2       129446   2q24.3                                     2.0\n",
      "                               3433b1f3-59d1-4ac2-9bbf-e0c4042b4ddc\n",
      "Gene Symbol Locus ID Cytoband                                      \n",
      "XIRP2       129446   2q24.3                                     6.0\n",
      "                               3869ff3f-21b9-4817-8ff4-83c6fc75ab11\n",
      "Gene Symbol Locus ID Cytoband                                      \n",
      "XIRP2       129446   2q24.3                                     2.0\n",
      "                               39c476fd-273b-4136-874c-53352f1be008\n",
      "Gene Symbol Locus ID Cytoband                                      \n",
      "XIRP2       129446   2q24.3                                     2.0\n",
      "                               3f2ecbcd-5c9e-4d57-8aa5-962e2e86a83c\n",
      "Gene Symbol Locus ID Cytoband                                      \n",
      "XIRP2       129446   2q24.3                                     2.0\n",
      "                               51893d3f-e7f3-43f9-9fd0-c0f25ae96804\n",
      "Gene Symbol Locus ID Cytoband                                      \n",
      "XIRP2       129446   2q24.3                                     4.0\n",
      "                               5c3def3a-b515-41f6-8157-681b963534e7\n",
      "Gene Symbol Locus ID Cytoband                                      \n",
      "XIRP2       129446   2q24.3                                     3.0\n",
      "                               60413de1-6cd2-4f74-8180-3bdd394d6d16\n",
      "Gene Symbol Locus ID Cytoband                                      \n",
      "XIRP2       129446   2q24.3                                     3.0\n",
      "                               6507e084-c038-4ba6-a431-fb9a53190d5f\n",
      "Gene Symbol Locus ID Cytoband                                      \n",
      "XIRP2       129446   2q24.3                                     2.0\n",
      "                               83a1b304-2ec1-44ae-a9c5-8ad3a2a46a1f\n",
      "Gene Symbol Locus ID Cytoband                                      \n",
      "XIRP2       129446   2q24.3                                     2.0\n",
      "                               897ba508-d74b-46bf-8554-1210a66a36d1\n",
      "Gene Symbol Locus ID Cytoband                                      \n",
      "XIRP2       129446   2q24.3                                     2.0\n",
      "                               98e8f23c-5970-4fce-9551-4b11a772fe1b\n",
      "Gene Symbol Locus ID Cytoband                                      \n",
      "XIRP2       129446   2q24.3                                     4.0\n",
      "                               a84915de-6562-4836-86f9-f2a05598296e\n",
      "Gene Symbol Locus ID Cytoband                                      \n",
      "XIRP2       129446   2q24.3                                     4.0\n",
      "                               b07bad52-d44c-4b27-900a-960985bfadec\n",
      "Gene Symbol Locus ID Cytoband                                      \n",
      "XIRP2       129446   2q24.3                                     2.0\n",
      "                               d056645f-4dd3-49f3-b0a4-2293e2b4d82c\n",
      "Gene Symbol Locus ID Cytoband                                      \n",
      "XIRP2       129446   2q24.3                                     2.0\n",
      "                               d0e033bc-8e97-4322-b3b1-8626f1e2449b\n",
      "Gene Symbol Locus ID Cytoband                                      \n",
      "XIRP2       129446   2q24.3                                     2.0\n",
      "                               e2774050-1257-4c29-b201-d79ce70fe17e\n",
      "Gene Symbol Locus ID Cytoband                                      \n",
      "XIRP2       129446   2q24.3                                     4.0\n",
      "                               eeddf701-93f9-4f10-85cb-9dce1760bae8\n",
      "Gene Symbol Locus ID Cytoband                                      \n",
      "XIRP2       129446   2q24.3                                     1.0\n"
     ]
    }
   ],
   "source": [
    "cnv = get_cnv(donor_list, gene_name)"
   ]
  },
  {
   "cell_type": "markdown",
   "metadata": {},
   "source": [
    "<span style=\"color:blue\">**Expression PCAWG**</span>.\n"
   ]
  },
  {
   "cell_type": "code",
   "execution_count": 12,
   "metadata": {},
   "outputs": [
    {
     "name": "stderr",
     "output_type": "stream",
     "text": [
      "/opt/aci/sw/anaconda3/2020.07_gcc-4.8.5-bzb/lib/python3.8/site-packages/IPython/core/interactiveshell.py:3343: DtypeWarning: Columns (1,17,33,34,35,36) have mixed types.Specify dtype option on import or set low_memory=False.\n",
      "  exec(code_obj, self.user_global_ns, self.user_ns)\n"
     ]
    },
    {
     "name": "stdout",
     "output_type": "stream",
     "text": [
      "Number of normal patient: 0\n",
      "Number of synonymous patients: 10\n",
      "Number of other tumor patients:26\n",
      "test statistic:99.0,p-value:0.1405\n"
     ]
    },
    {
     "data": {
      "image/png": "[encoded data removed]",
      "text/plain": [
       "<Figure size 360x216 with 1 Axes>"
      ]
     },
     "metadata": {
      "needs_background": "light"
     },
     "output_type": "display_data"
    }
   ],
   "source": [
    "get_expression(gene_name)"
   ]
  },
  {
   "cell_type": "markdown",
   "metadata": {},
   "source": [
    "<span style=\"color:blue\">**CRISPR**</span>.\n"
   ]
  },
  {
   "cell_type": "code",
   "execution_count": 13,
   "metadata": {},
   "outputs": [
    {
     "name": "stdout",
     "output_type": "stream",
     "text": [
      "['Melanoma' 'Skin Squamous' 'Merkel Cell Carcinoma']\n"
     ]
    }
   ],
   "source": [
    "get_lineage(gene_name, 'Skin')"
   ]
  },
  {
   "cell_type": "code",
   "execution_count": 14,
   "metadata": {},
   "outputs": [
    {
     "name": "stdout",
     "output_type": "stream",
     "text": [
      "57 in histology subtype\n",
      "932 not in histology subtype\n",
      "test statistic:23222.0,    p-value:0.0553\n",
      "test statistic:20949.5,    p-value:0.0025\n"
     ]
    },
    {
     "data": {
      "image/png": "[encoded data removed]",
      "text/plain": [
       "<Figure size 360x216 with 1 Axes>"
      ]
     },
     "metadata": {
      "needs_background": "light"
     },
     "output_type": "display_data"
    },
    {
     "data": {
      "image/png": "[encoded data removed]",
      "text/plain": [
       "<Figure size 360x216 with 1 Axes>"
      ]
     },
     "metadata": {
      "needs_background": "light"
     },
     "output_type": "display_data"
    }
   ],
   "source": [
    "get_CERES(gene_name, 'Melanoma')"
   ]
  },
  {
   "cell_type": "markdown",
   "metadata": {},
   "source": [
    "<span style=\"color:blue\">**Alternative Splicing**</span>  "
   ]
  },
  {
   "cell_type": "code",
   "execution_count": 16,
   "metadata": {},
   "outputs": [],
   "source": [
    "dir_splice = '../../anno_ref/ICGC/alternative_splicing'\n",
    "exp_dir = '../../anno_ref/ICGC/pcawg_rnaseq/'\n",
    "# Read aliquot id information\n",
    "df_exp_info = pd.read_csv(os.path.join(exp_dir,'rnaseq.metadata.tsv'), sep = '\\t')"
   ]
  },
  {
   "cell_type": "code",
   "execution_count": 17,
   "metadata": {},
   "outputs": [
    {
     "name": "stdout",
     "output_type": "stream",
     "text": [
      "DO220907 is not in PCAWG transcriptome analysis\n",
      "DO220875 is not in PCAWG transcriptome analysis\n",
      "DO220864 is not in PCAWG transcriptome analysis\n",
      "DO220883 is not in PCAWG transcriptome analysis\n",
      "DO220903 is not in PCAWG transcriptome analysis\n",
      "DO220886 is not in PCAWG transcriptome analysis\n",
      "DO220877 is not in PCAWG transcriptome analysis\n",
      "DO220860 is not in PCAWG transcriptome analysis\n",
      "DO220859 is not in PCAWG transcriptome analysis\n",
      "DO220891 is not in PCAWG transcriptome analysis\n",
      "DO220913 is not in PCAWG transcriptome analysis\n",
      "DO220905 is not in PCAWG transcriptome analysis\n"
     ]
    }
   ],
   "source": [
    "### If patient is in the splicing file(transcriptome analysis info)\n",
    "for donor in donor_list:\n",
    "    tumor_id = df_exp_info[df_exp_info['icgc_donor_id'] == donor]['aliquot_id']\n",
    "    if len(tumor_id) ==0:\n",
    "        print(f'{donor} is not in PCAWG transcriptome analysis')"
   ]
  }
 ],
 "metadata": {
  "kernelspec": {
   "display_name": "Python 3",
   "language": "python",
   "name": "python3"
  },
  "language_info": {
   "codemirror_mode": {
    "name": "ipython",
    "version": 3
   },
   "file_extension": ".py",
   "mimetype": "text/x-python",
   "name": "python",
   "nbconvert_exporter": "python",
   "pygments_lexer": "ipython3",
   "version": "3.8.3"
  }
 },
 "nbformat": 4,
 "nbformat_minor": 4
}
