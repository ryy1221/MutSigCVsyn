{
 "cells": [
  {
   "cell_type": "code",
   "execution_count": 1,
   "metadata": {},
   "outputs": [],
   "source": [
    "### This is a gene specific analysis notebook\n",
    "from candidate_utils import *"
   ]
  },
  {
   "cell_type": "code",
   "execution_count": 2,
   "metadata": {},
   "outputs": [],
   "source": [
    "%load_ext autoreload\n",
    "%autoreload 2"
   ]
  },
  {
   "cell_type": "code",
   "execution_count": 3,
   "metadata": {},
   "outputs": [],
   "source": [
    "# Gene-transcript dict\n",
    "dict_name = pickle.load(open(os.path.join(dir_refs,'dict_name_forcov_062121.pkl'), 'rb'))"
   ]
  },
  {
   "cell_type": "code",
   "execution_count": 4,
   "metadata": {},
   "outputs": [],
   "source": [
    "gene_name = 'ZFP69'"
   ]
  },
  {
   "cell_type": "code",
   "execution_count": 5,
   "metadata": {},
   "outputs": [
    {
     "name": "stdout",
     "output_type": "stream",
     "text": [
      "ENST00000372706\n"
     ]
    }
   ],
   "source": [
    "# Find transcript for the gene\n",
    "for transcript,gene in dict_name.items():\n",
    "    if gene == gene_name:\n",
    "        print(transcript)"
   ]
  },
  {
   "cell_type": "markdown",
   "metadata": {},
   "source": [
    "<span style=\"color:blue\">**The histology subtypes of patients with the mutation**</span>.\n"
   ]
  },
  {
   "cell_type": "code",
   "execution_count": 6,
   "metadata": {},
   "outputs": [
    {
     "name": "stderr",
     "output_type": "stream",
     "text": [
      "/opt/aci/sw/anaconda3/2020.07_gcc-4.8.5-bzb/lib/python3.8/site-packages/IPython/core/interactiveshell.py:3263: DtypeWarning: Columns (17) have mixed types.Specify dtype option on import or set low_memory=False.\n",
      "  if (await self.run_code(code, result,  async_=asy)):\n"
     ]
    }
   ],
   "source": [
    "df_str, df_num = get_num_str(gene_name)"
   ]
  },
  {
   "cell_type": "code",
   "execution_count": 11,
   "metadata": {},
   "outputs": [
    {
     "data": {
      "text/plain": [
       "\"{'Liposarcoma': 1}\""
      ]
     },
     "execution_count": 11,
     "metadata": {},
     "output_type": "execute_result"
    }
   ],
   "source": [
    "df_str.loc['syn', 'tumour_histological_type']"
   ]
  },
  {
   "cell_type": "code",
   "execution_count": 8,
   "metadata": {},
   "outputs": [
    {
     "data": {
      "text/html": [
       "<div>\n",
       "<style scoped>\n",
       "    .dataframe tbody tr th:only-of-type {\n",
       "        vertical-align: middle;\n",
       "    }\n",
       "\n",
       "    .dataframe tbody tr th {\n",
       "        vertical-align: top;\n",
       "    }\n",
       "\n",
       "    .dataframe thead th {\n",
       "        text-align: right;\n",
       "    }\n",
       "</style>\n",
       "<table border=\"1\" class=\"dataframe\">\n",
       "  <thead>\n",
       "    <tr style=\"text-align: right;\">\n",
       "      <th></th>\n",
       "      <th></th>\n",
       "      <th>SV.events</th>\n",
       "      <th>Coding.SNVs</th>\n",
       "      <th>Non.coding.SNVs</th>\n",
       "      <th>CNA.events..do_not_use.</th>\n",
       "      <th>Retrotransposon.insertions</th>\n",
       "      <th>Mitochondrial.mutations</th>\n",
       "      <th>all.Indels</th>\n",
       "    </tr>\n",
       "    <tr>\n",
       "      <th>mut_status</th>\n",
       "      <th></th>\n",
       "      <th></th>\n",
       "      <th></th>\n",
       "      <th></th>\n",
       "      <th></th>\n",
       "      <th></th>\n",
       "      <th></th>\n",
       "      <th></th>\n",
       "    </tr>\n",
       "  </thead>\n",
       "  <tbody>\n",
       "    <tr>\n",
       "      <th rowspan=\"8\" valign=\"top\">syn</th>\n",
       "      <th>count</th>\n",
       "      <td>1.000000</td>\n",
       "      <td>1.000000</td>\n",
       "      <td>1.000000</td>\n",
       "      <td>1.000000</td>\n",
       "      <td>1.000000</td>\n",
       "      <td>1.000000</td>\n",
       "      <td>1.000000</td>\n",
       "    </tr>\n",
       "    <tr>\n",
       "      <th>mean</th>\n",
       "      <td>531.000000</td>\n",
       "      <td>38.000000</td>\n",
       "      <td>3470.000000</td>\n",
       "      <td>1138.000000</td>\n",
       "      <td>10.000000</td>\n",
       "      <td>1.000000</td>\n",
       "      <td>116.000000</td>\n",
       "    </tr>\n",
       "    <tr>\n",
       "      <th>std</th>\n",
       "      <td>NaN</td>\n",
       "      <td>NaN</td>\n",
       "      <td>NaN</td>\n",
       "      <td>NaN</td>\n",
       "      <td>NaN</td>\n",
       "      <td>NaN</td>\n",
       "      <td>NaN</td>\n",
       "    </tr>\n",
       "    <tr>\n",
       "      <th>min</th>\n",
       "      <td>531.000000</td>\n",
       "      <td>38.000000</td>\n",
       "      <td>3470.000000</td>\n",
       "      <td>1138.000000</td>\n",
       "      <td>10.000000</td>\n",
       "      <td>1.000000</td>\n",
       "      <td>116.000000</td>\n",
       "    </tr>\n",
       "    <tr>\n",
       "      <th>25%</th>\n",
       "      <td>531.000000</td>\n",
       "      <td>38.000000</td>\n",
       "      <td>3470.000000</td>\n",
       "      <td>1138.000000</td>\n",
       "      <td>10.000000</td>\n",
       "      <td>1.000000</td>\n",
       "      <td>116.000000</td>\n",
       "    </tr>\n",
       "    <tr>\n",
       "      <th>50%</th>\n",
       "      <td>531.000000</td>\n",
       "      <td>38.000000</td>\n",
       "      <td>3470.000000</td>\n",
       "      <td>1138.000000</td>\n",
       "      <td>10.000000</td>\n",
       "      <td>1.000000</td>\n",
       "      <td>116.000000</td>\n",
       "    </tr>\n",
       "    <tr>\n",
       "      <th>75%</th>\n",
       "      <td>531.000000</td>\n",
       "      <td>38.000000</td>\n",
       "      <td>3470.000000</td>\n",
       "      <td>1138.000000</td>\n",
       "      <td>10.000000</td>\n",
       "      <td>1.000000</td>\n",
       "      <td>116.000000</td>\n",
       "    </tr>\n",
       "    <tr>\n",
       "      <th>max</th>\n",
       "      <td>531.000000</td>\n",
       "      <td>38.000000</td>\n",
       "      <td>3470.000000</td>\n",
       "      <td>1138.000000</td>\n",
       "      <td>10.000000</td>\n",
       "      <td>1.000000</td>\n",
       "      <td>116.000000</td>\n",
       "    </tr>\n",
       "    <tr>\n",
       "      <th rowspan=\"8\" valign=\"top\">all</th>\n",
       "      <th>count</th>\n",
       "      <td>19.000000</td>\n",
       "      <td>19.000000</td>\n",
       "      <td>19.000000</td>\n",
       "      <td>19.000000</td>\n",
       "      <td>19.000000</td>\n",
       "      <td>19.000000</td>\n",
       "      <td>19.000000</td>\n",
       "    </tr>\n",
       "    <tr>\n",
       "      <th>mean</th>\n",
       "      <td>996.157895</td>\n",
       "      <td>51.842105</td>\n",
       "      <td>5196.421053</td>\n",
       "      <td>2105.263158</td>\n",
       "      <td>3.684211</td>\n",
       "      <td>2.631579</td>\n",
       "      <td>257.368421</td>\n",
       "    </tr>\n",
       "    <tr>\n",
       "      <th>std</th>\n",
       "      <td>556.927111</td>\n",
       "      <td>30.481804</td>\n",
       "      <td>2846.234692</td>\n",
       "      <td>1211.467468</td>\n",
       "      <td>3.019430</td>\n",
       "      <td>2.629122</td>\n",
       "      <td>161.442185</td>\n",
       "    </tr>\n",
       "    <tr>\n",
       "      <th>min</th>\n",
       "      <td>318.000000</td>\n",
       "      <td>6.000000</td>\n",
       "      <td>803.000000</td>\n",
       "      <td>727.000000</td>\n",
       "      <td>0.000000</td>\n",
       "      <td>0.000000</td>\n",
       "      <td>15.000000</td>\n",
       "    </tr>\n",
       "    <tr>\n",
       "      <th>25%</th>\n",
       "      <td>578.500000</td>\n",
       "      <td>35.000000</td>\n",
       "      <td>3538.500000</td>\n",
       "      <td>1235.000000</td>\n",
       "      <td>1.000000</td>\n",
       "      <td>1.000000</td>\n",
       "      <td>156.000000</td>\n",
       "    </tr>\n",
       "    <tr>\n",
       "      <th>50%</th>\n",
       "      <td>872.000000</td>\n",
       "      <td>45.000000</td>\n",
       "      <td>4946.000000</td>\n",
       "      <td>1711.000000</td>\n",
       "      <td>4.000000</td>\n",
       "      <td>2.000000</td>\n",
       "      <td>232.000000</td>\n",
       "    </tr>\n",
       "    <tr>\n",
       "      <th>75%</th>\n",
       "      <td>1232.000000</td>\n",
       "      <td>62.000000</td>\n",
       "      <td>6094.500000</td>\n",
       "      <td>2485.500000</td>\n",
       "      <td>6.000000</td>\n",
       "      <td>3.000000</td>\n",
       "      <td>261.000000</td>\n",
       "    </tr>\n",
       "    <tr>\n",
       "      <th>max</th>\n",
       "      <td>2064.000000</td>\n",
       "      <td>146.000000</td>\n",
       "      <td>11571.000000</td>\n",
       "      <td>5141.000000</td>\n",
       "      <td>10.000000</td>\n",
       "      <td>9.000000</td>\n",
       "      <td>691.000000</td>\n",
       "    </tr>\n",
       "  </tbody>\n",
       "</table>\n",
       "</div>"
      ],
      "text/plain": [
       "                    SV.events  Coding.SNVs  Non.coding.SNVs  \\\n",
       "mut_status                                                    \n",
       "syn        count     1.000000     1.000000         1.000000   \n",
       "           mean    531.000000    38.000000      3470.000000   \n",
       "           std            NaN          NaN              NaN   \n",
       "           min     531.000000    38.000000      3470.000000   \n",
       "           25%     531.000000    38.000000      3470.000000   \n",
       "           50%     531.000000    38.000000      3470.000000   \n",
       "           75%     531.000000    38.000000      3470.000000   \n",
       "           max     531.000000    38.000000      3470.000000   \n",
       "all        count    19.000000    19.000000        19.000000   \n",
       "           mean    996.157895    51.842105      5196.421053   \n",
       "           std     556.927111    30.481804      2846.234692   \n",
       "           min     318.000000     6.000000       803.000000   \n",
       "           25%     578.500000    35.000000      3538.500000   \n",
       "           50%     872.000000    45.000000      4946.000000   \n",
       "           75%    1232.000000    62.000000      6094.500000   \n",
       "           max    2064.000000   146.000000     11571.000000   \n",
       "\n",
       "                  CNA.events..do_not_use.  Retrotransposon.insertions  \\\n",
       "mut_status                                                              \n",
       "syn        count                 1.000000                    1.000000   \n",
       "           mean               1138.000000                   10.000000   \n",
       "           std                        NaN                         NaN   \n",
       "           min                1138.000000                   10.000000   \n",
       "           25%                1138.000000                   10.000000   \n",
       "           50%                1138.000000                   10.000000   \n",
       "           75%                1138.000000                   10.000000   \n",
       "           max                1138.000000                   10.000000   \n",
       "all        count                19.000000                   19.000000   \n",
       "           mean               2105.263158                    3.684211   \n",
       "           std                1211.467468                    3.019430   \n",
       "           min                 727.000000                    0.000000   \n",
       "           25%                1235.000000                    1.000000   \n",
       "           50%                1711.000000                    4.000000   \n",
       "           75%                2485.500000                    6.000000   \n",
       "           max                5141.000000                   10.000000   \n",
       "\n",
       "                  Mitochondrial.mutations  all.Indels  \n",
       "mut_status                                             \n",
       "syn        count                 1.000000    1.000000  \n",
       "           mean                  1.000000  116.000000  \n",
       "           std                        NaN         NaN  \n",
       "           min                   1.000000  116.000000  \n",
       "           25%                   1.000000  116.000000  \n",
       "           50%                   1.000000  116.000000  \n",
       "           75%                   1.000000  116.000000  \n",
       "           max                   1.000000  116.000000  \n",
       "all        count                19.000000   19.000000  \n",
       "           mean                  2.631579  257.368421  \n",
       "           std                   2.629122  161.442185  \n",
       "           min                   0.000000   15.000000  \n",
       "           25%                   1.000000  156.000000  \n",
       "           50%                   2.000000  232.000000  \n",
       "           75%                   3.000000  261.000000  \n",
       "           max                   9.000000  691.000000  "
      ]
     },
     "execution_count": 8,
     "metadata": {},
     "output_type": "execute_result"
    }
   ],
   "source": [
    "df_num"
   ]
  },
  {
   "cell_type": "markdown",
   "metadata": {},
   "source": [
    "<span style=\"color:blue\">**Mutation**</span>.\n"
   ]
  },
  {
   "cell_type": "code",
   "execution_count": 9,
   "metadata": {},
   "outputs": [
    {
     "name": "stdout",
     "output_type": "stream",
     "text": [
      "Total 19 patients\n",
      "1 patients have synonymous mutations, they are: ['DO219968']\n",
      "1:g.40961323C>G\n",
      "1:g.40961446C>T\n"
     ]
    },
    {
     "name": "stderr",
     "output_type": "stream",
     "text": [
      "/opt/aci/sw/anaconda3/2020.07_gcc-4.8.5-bzb/lib/python3.8/site-packages/IPython/core/interactiveshell.py:3263: DtypeWarning: Columns (17) have mixed types.Specify dtype option on import or set low_memory=False.\n",
      "  if (await self.run_code(code, result,  async_=asy)):\n"
     ]
    }
   ],
   "source": [
    "df_all, df_mut, donor_list = get_mut(gene_name)"
   ]
  },
  {
   "cell_type": "code",
   "execution_count": 12,
   "metadata": {},
   "outputs": [
    {
     "data": {
      "text/plain": [
       "Hugo_Symbol  Variant_Classification  Donor_ID\n",
       "SH3BGR       Silent                  DO52136     g.chr21:40834315G>A\n",
       "                                     DO46747     g.chr21:40834462C>T\n",
       "Name: Genome_Change, dtype: object"
      ]
     },
     "execution_count": 12,
     "metadata": {},
     "output_type": "execute_result"
    }
   ],
   "source": [
    "df_all.loc[pd.IndexSlice[gene_name, :,donor_list],'Genome_Change']"
   ]
  },
  {
   "cell_type": "markdown",
   "metadata": {},
   "source": [
    "<span style=\"color:blue\">**CNV**</span>.\n"
   ]
  },
  {
   "cell_type": "code",
   "execution_count": 11,
   "metadata": {},
   "outputs": [
    {
     "name": "stdout",
     "output_type": "stream",
     "text": [
      "                               18ec066e-8510-4921-9e35-45d85fb01e38\n",
      "Gene Symbol Locus ID Cytoband                                      \n",
      "ITPR2       3709     12p12.1                                    2.0\n",
      "                               1c188bf5-2c99-4eb4-a774-59c75d53e643\n",
      "Gene Symbol Locus ID Cytoband                                      \n",
      "ITPR2       3709     12p12.1                                    2.0\n"
     ]
    }
   ],
   "source": [
    "cnv = get_cnv(donor_list, gene_name)"
   ]
  },
  {
   "cell_type": "markdown",
   "metadata": {},
   "source": [
    "<span style=\"color:blue\">**Expression PCAWG**</span>.\n"
   ]
  },
  {
   "cell_type": "code",
   "execution_count": 12,
   "metadata": {},
   "outputs": [
    {
     "name": "stderr",
     "output_type": "stream",
     "text": [
      "/opt/aci/sw/anaconda3/2020.07_gcc-4.8.5-bzb/lib/python3.8/site-packages/IPython/core/interactiveshell.py:3343: DtypeWarning: Columns (17) have mixed types.Specify dtype option on import or set low_memory=False.\n",
      "  exec(code_obj, self.user_global_ns, self.user_ns)\n"
     ]
    },
    {
     "name": "stdout",
     "output_type": "stream",
     "text": [
      "Number of normal patient: 0\n",
      "Number of synonymous patients: 0\n",
      "Number of other tumor patients:0\n"
     ]
    },
    {
     "ename": "ValueError",
     "evalue": "min() arg is an empty sequence",
     "output_type": "error",
     "traceback": [
      "\u001b[0;31m---------------------------------------------------------------------------\u001b[0m",
      "\u001b[0;31mValueError\u001b[0m                                Traceback (most recent call last)",
      "\u001b[0;32m<ipython-input-12-a95e585e9315>\u001b[0m in \u001b[0;36m<module>\u001b[0;34m\u001b[0m\n\u001b[0;32m----> 1\u001b[0;31m \u001b[0mget_expression\u001b[0m\u001b[0;34m(\u001b[0m\u001b[0mgene_name\u001b[0m\u001b[0;34m)\u001b[0m\u001b[0;34m\u001b[0m\u001b[0;34m\u001b[0m\u001b[0m\n\u001b[0m",
      "\u001b[0;32m/gpfs/group/epo2/default/yur97/gitlab/pcawg-to-mutsigcv/notebook/figure5/candidate_utils.py\u001b[0m in \u001b[0;36mget_expression\u001b[0;34m(gene)\u001b[0m\n\u001b[1;32m    167\u001b[0m \u001b[0;34m\u001b[0m\u001b[0m\n\u001b[1;32m    168\u001b[0m     \u001b[0mfig\u001b[0m\u001b[0;34m,\u001b[0m\u001b[0max\u001b[0m \u001b[0;34m=\u001b[0m \u001b[0mplt\u001b[0m\u001b[0;34m.\u001b[0m\u001b[0msubplots\u001b[0m\u001b[0;34m(\u001b[0m\u001b[0mfigsize\u001b[0m\u001b[0;34m=\u001b[0m\u001b[0;34m(\u001b[0m\u001b[0;36m5\u001b[0m\u001b[0;34m,\u001b[0m\u001b[0;36m3\u001b[0m\u001b[0;34m)\u001b[0m\u001b[0;34m)\u001b[0m\u001b[0;34m\u001b[0m\u001b[0;34m\u001b[0m\u001b[0m\n\u001b[0;32m--> 169\u001b[0;31m     \u001b[0max\u001b[0m \u001b[0;34m=\u001b[0m \u001b[0msns\u001b[0m\u001b[0;34m.\u001b[0m\u001b[0mboxplot\u001b[0m\u001b[0;34m(\u001b[0m\u001b[0mx\u001b[0m \u001b[0;34m=\u001b[0m \u001b[0;34m'tumor.normal'\u001b[0m\u001b[0;34m,\u001b[0m \u001b[0my\u001b[0m \u001b[0;34m=\u001b[0m \u001b[0;34m'exp'\u001b[0m\u001b[0;34m,\u001b[0m \u001b[0mdata\u001b[0m \u001b[0;34m=\u001b[0m \u001b[0mdf_all\u001b[0m\u001b[0;34m)\u001b[0m\u001b[0;34m\u001b[0m\u001b[0;34m\u001b[0m\u001b[0m\n\u001b[0m\u001b[1;32m    170\u001b[0m \u001b[0;34m\u001b[0m\u001b[0m\n\u001b[1;32m    171\u001b[0m     \u001b[0mmannwhitneyu\u001b[0m\u001b[0;34m(\u001b[0m\u001b[0msyn_test\u001b[0m\u001b[0;34m,\u001b[0m \u001b[0mother_test\u001b[0m\u001b[0;34m)\u001b[0m\u001b[0;34m\u001b[0m\u001b[0;34m\u001b[0m\u001b[0m\n",
      "\u001b[0;32m~/.local/lib/python3.8/site-packages/seaborn/_decorators.py\u001b[0m in \u001b[0;36minner_f\u001b[0;34m(*args, **kwargs)\u001b[0m\n\u001b[1;32m     44\u001b[0m             )\n\u001b[1;32m     45\u001b[0m         \u001b[0mkwargs\u001b[0m\u001b[0;34m.\u001b[0m\u001b[0mupdate\u001b[0m\u001b[0;34m(\u001b[0m\u001b[0;34m{\u001b[0m\u001b[0mk\u001b[0m\u001b[0;34m:\u001b[0m \u001b[0marg\u001b[0m \u001b[0;32mfor\u001b[0m \u001b[0mk\u001b[0m\u001b[0;34m,\u001b[0m \u001b[0marg\u001b[0m \u001b[0;32min\u001b[0m \u001b[0mzip\u001b[0m\u001b[0;34m(\u001b[0m\u001b[0msig\u001b[0m\u001b[0;34m.\u001b[0m\u001b[0mparameters\u001b[0m\u001b[0;34m,\u001b[0m \u001b[0margs\u001b[0m\u001b[0;34m)\u001b[0m\u001b[0;34m}\u001b[0m\u001b[0;34m)\u001b[0m\u001b[0;34m\u001b[0m\u001b[0;34m\u001b[0m\u001b[0m\n\u001b[0;32m---> 46\u001b[0;31m         \u001b[0;32mreturn\u001b[0m \u001b[0mf\u001b[0m\u001b[0;34m(\u001b[0m\u001b[0;34m**\u001b[0m\u001b[0mkwargs\u001b[0m\u001b[0;34m)\u001b[0m\u001b[0;34m\u001b[0m\u001b[0;34m\u001b[0m\u001b[0m\n\u001b[0m\u001b[1;32m     47\u001b[0m     \u001b[0;32mreturn\u001b[0m \u001b[0minner_f\u001b[0m\u001b[0;34m\u001b[0m\u001b[0;34m\u001b[0m\u001b[0m\n\u001b[1;32m     48\u001b[0m \u001b[0;34m\u001b[0m\u001b[0m\n",
      "\u001b[0;32m~/.local/lib/python3.8/site-packages/seaborn/categorical.py\u001b[0m in \u001b[0;36mboxplot\u001b[0;34m(x, y, hue, data, order, hue_order, orient, color, palette, saturation, width, dodge, fliersize, linewidth, whis, ax, **kwargs)\u001b[0m\n\u001b[1;32m   2238\u001b[0m ):\n\u001b[1;32m   2239\u001b[0m \u001b[0;34m\u001b[0m\u001b[0m\n\u001b[0;32m-> 2240\u001b[0;31m     plotter = _BoxPlotter(x, y, hue, data, order, hue_order,\n\u001b[0m\u001b[1;32m   2241\u001b[0m                           \u001b[0morient\u001b[0m\u001b[0;34m,\u001b[0m \u001b[0mcolor\u001b[0m\u001b[0;34m,\u001b[0m \u001b[0mpalette\u001b[0m\u001b[0;34m,\u001b[0m \u001b[0msaturation\u001b[0m\u001b[0;34m,\u001b[0m\u001b[0;34m\u001b[0m\u001b[0;34m\u001b[0m\u001b[0m\n\u001b[1;32m   2242\u001b[0m                           width, dodge, fliersize, linewidth)\n",
      "\u001b[0;32m~/.local/lib/python3.8/site-packages/seaborn/categorical.py\u001b[0m in \u001b[0;36m__init__\u001b[0;34m(self, x, y, hue, data, order, hue_order, orient, color, palette, saturation, width, dodge, fliersize, linewidth)\u001b[0m\n\u001b[1;32m    405\u001b[0m \u001b[0;34m\u001b[0m\u001b[0m\n\u001b[1;32m    406\u001b[0m         \u001b[0mself\u001b[0m\u001b[0;34m.\u001b[0m\u001b[0mestablish_variables\u001b[0m\u001b[0;34m(\u001b[0m\u001b[0mx\u001b[0m\u001b[0;34m,\u001b[0m \u001b[0my\u001b[0m\u001b[0;34m,\u001b[0m \u001b[0mhue\u001b[0m\u001b[0;34m,\u001b[0m \u001b[0mdata\u001b[0m\u001b[0;34m,\u001b[0m \u001b[0morient\u001b[0m\u001b[0;34m,\u001b[0m \u001b[0morder\u001b[0m\u001b[0;34m,\u001b[0m \u001b[0mhue_order\u001b[0m\u001b[0;34m)\u001b[0m\u001b[0;34m\u001b[0m\u001b[0;34m\u001b[0m\u001b[0m\n\u001b[0;32m--> 407\u001b[0;31m         \u001b[0mself\u001b[0m\u001b[0;34m.\u001b[0m\u001b[0mestablish_colors\u001b[0m\u001b[0;34m(\u001b[0m\u001b[0mcolor\u001b[0m\u001b[0;34m,\u001b[0m \u001b[0mpalette\u001b[0m\u001b[0;34m,\u001b[0m \u001b[0msaturation\u001b[0m\u001b[0;34m)\u001b[0m\u001b[0;34m\u001b[0m\u001b[0;34m\u001b[0m\u001b[0m\n\u001b[0m\u001b[1;32m    408\u001b[0m \u001b[0;34m\u001b[0m\u001b[0m\n\u001b[1;32m    409\u001b[0m         \u001b[0mself\u001b[0m\u001b[0;34m.\u001b[0m\u001b[0mdodge\u001b[0m \u001b[0;34m=\u001b[0m \u001b[0mdodge\u001b[0m\u001b[0;34m\u001b[0m\u001b[0;34m\u001b[0m\u001b[0m\n",
      "\u001b[0;32m~/.local/lib/python3.8/site-packages/seaborn/categorical.py\u001b[0m in \u001b[0;36mestablish_colors\u001b[0;34m(self, color, palette, saturation)\u001b[0m\n\u001b[1;32m    317\u001b[0m         \u001b[0;31m# Determine the gray color to use for the lines framing the plot\u001b[0m\u001b[0;34m\u001b[0m\u001b[0;34m\u001b[0m\u001b[0;34m\u001b[0m\u001b[0m\n\u001b[1;32m    318\u001b[0m         \u001b[0mlight_vals\u001b[0m \u001b[0;34m=\u001b[0m \u001b[0;34m[\u001b[0m\u001b[0mcolorsys\u001b[0m\u001b[0;34m.\u001b[0m\u001b[0mrgb_to_hls\u001b[0m\u001b[0;34m(\u001b[0m\u001b[0;34m*\u001b[0m\u001b[0mc\u001b[0m\u001b[0;34m)\u001b[0m\u001b[0;34m[\u001b[0m\u001b[0;36m1\u001b[0m\u001b[0;34m]\u001b[0m \u001b[0;32mfor\u001b[0m \u001b[0mc\u001b[0m \u001b[0;32min\u001b[0m \u001b[0mrgb_colors\u001b[0m\u001b[0;34m]\u001b[0m\u001b[0;34m\u001b[0m\u001b[0;34m\u001b[0m\u001b[0m\n\u001b[0;32m--> 319\u001b[0;31m         \u001b[0mlum\u001b[0m \u001b[0;34m=\u001b[0m \u001b[0mmin\u001b[0m\u001b[0;34m(\u001b[0m\u001b[0mlight_vals\u001b[0m\u001b[0;34m)\u001b[0m \u001b[0;34m*\u001b[0m \u001b[0;36m.6\u001b[0m\u001b[0;34m\u001b[0m\u001b[0;34m\u001b[0m\u001b[0m\n\u001b[0m\u001b[1;32m    320\u001b[0m         \u001b[0mgray\u001b[0m \u001b[0;34m=\u001b[0m \u001b[0mmpl\u001b[0m\u001b[0;34m.\u001b[0m\u001b[0mcolors\u001b[0m\u001b[0;34m.\u001b[0m\u001b[0mrgb2hex\u001b[0m\u001b[0;34m(\u001b[0m\u001b[0;34m(\u001b[0m\u001b[0mlum\u001b[0m\u001b[0;34m,\u001b[0m \u001b[0mlum\u001b[0m\u001b[0;34m,\u001b[0m \u001b[0mlum\u001b[0m\u001b[0;34m)\u001b[0m\u001b[0;34m)\u001b[0m\u001b[0;34m\u001b[0m\u001b[0;34m\u001b[0m\u001b[0m\n\u001b[1;32m    321\u001b[0m \u001b[0;34m\u001b[0m\u001b[0m\n",
      "\u001b[0;31mValueError\u001b[0m: min() arg is an empty sequence"
     ]
    },
    {
     "data": {
      "image/png": "[encoded data removed]",
      "text/plain": [
       "<Figure size 360x216 with 1 Axes>"
      ]
     },
     "metadata": {
      "needs_background": "light"
     },
     "output_type": "display_data"
    }
   ],
   "source": [
    "get_expression(gene_name)"
   ]
  },
  {
   "cell_type": "markdown",
   "metadata": {},
   "source": [
    "<span style=\"color:blue\">**CRISPR**</span>.\n"
   ]
  },
  {
   "cell_type": "code",
   "execution_count": 13,
   "metadata": {},
   "outputs": [
    {
     "name": "stdout",
     "output_type": "stream",
     "text": [
      "[]\n"
     ]
    }
   ],
   "source": [
    "get_lineage(gene_name, 'Liposarcoma')"
   ]
  },
  {
   "cell_type": "code",
   "execution_count": 14,
   "metadata": {},
   "outputs": [
    {
     "name": "stdout",
     "output_type": "stream",
     "text": [
      "8 in histology subtype\n",
      "981 not in histology subtype\n",
      "test statistic:1928.0,    p-value:0.0066\n",
      "test statistic:3414.0,    p-value:0.2633\n"
     ]
    },
    {
     "data": {
      "image/png": "[encoded data removed]",
      "text/plain": [
       "<Figure size 360x216 with 1 Axes>"
      ]
     },
     "metadata": {
      "needs_background": "light"
     },
     "output_type": "display_data"
    },
    {
     "data": {
      "image/png": "[encoded data removed]",
      "text/plain": [
       "<Figure size 360x216 with 1 Axes>"
      ]
     },
     "metadata": {
      "needs_background": "light"
     },
     "output_type": "display_data"
    }
   ],
   "source": [
    "# def get_CERES(gene, lineage):\n",
    "#     dir_depmap = './depmap'\n",
    "#     df_depmap = pd.read_csv(os.path.join(dir_depmap, gene+'_21Q2.csv'))\n",
    "#     df_depmap.columns = ['ID', 'CERES', 'Name', 'Primary Disease', 'Lineage', 'Lineage Subtype', 'Mutation']\n",
    "\n",
    "#     df_gene = df_depmap[df_depmap['Lineage Subtype'] == lineage]\n",
    "#     print(f'{len(df_gene)} in histology subtype')\n",
    "#     df_other = df_depmap[df_depmap['Lineage Subtype'] != lineage]\n",
    "#     print(f'{len(df_other)} not in histology subtype')\n",
    "#     df_all = pd.DataFrame({'inlineage':df_gene['CERES'],\n",
    "#                           'other':df_other['CERES']})\n",
    "#     df_all = df_all.melt()\n",
    "\n",
    "#     fig,ax = plt.subplots(figsize=(5,3))\n",
    "#     ax = sns.boxplot(x = 'variable', y = 'value', data = df_all)\n",
    "\n",
    "#     mannwhitneyu(df_gene['CERES'], df_other['CERES'])\n",
    "#     text = f'test statistic:{round(mannwhitneyu(df_gene[\"CERES\"], df_other[\"CERES\"])[0],4)},\\\n",
    "#     p-value:{round(mannwhitneyu(df_gene[\"CERES\"], df_other[\"CERES\"])[1],4)}'\n",
    "#     print(text)\n",
    "#     ax.set_title('CERES:'+lineage+'_'+gene+'_'+text)\n",
    "    \n",
    "#     # Expression\n",
    "#     df_all_exp = pd.DataFrame({'inlineage':df_gene['Expression'],\n",
    "#                       'other':df_other['Expression']})\n",
    "#     df_all_exp = df_all_exp.melt()\n",
    "#     fig,ax = plt.subplots(figsize=(5,3))\n",
    "#     ax = sns.boxplot(x = 'variable', y = 'value', data = df_all_exp)\n",
    "\n",
    "#     mannwhitneyu(df_gene['Expression'], df_other['Expression'])\n",
    "#     text = f'test statistic:{round(mannwhitneyu(df_gene[\"Expression\"], df_other[\"Expression\"])[0],4)},\\\n",
    "#     p-value:{round(mannwhitneyu(df_gene[\"Expression\"], df_other[\"Expression\"])[1],4)}'\n",
    "#     print(text)\n",
    "#     ax.set_title('DepMap Expression:'+lineage+'_'+gene+'_'+text)\n",
    "get_CERES(gene_name, 'Liposarcoma')"
   ]
  },
  {
   "cell_type": "markdown",
   "metadata": {},
   "source": [
    "<span style=\"color:blue\">**Alternative Splicing**</span>  "
   ]
  },
  {
   "cell_type": "code",
   "execution_count": 21,
   "metadata": {},
   "outputs": [],
   "source": [
    "dir_splice = '../../anno_ref/ICGC/alternative_splicing'\n",
    "exp_dir = '../../anno_ref/ICGC/pcawg_rnaseq/'\n",
    "# Read aliquot id information\n",
    "df_exp_info = pd.read_csv(os.path.join(exp_dir,'rnaseq.metadata.tsv'), sep = '\\t')"
   ]
  },
  {
   "cell_type": "code",
   "execution_count": 16,
   "metadata": {},
   "outputs": [
    {
     "name": "stdout",
     "output_type": "stream",
     "text": [
      "DO50345 is not in PCAWG transcriptome analysis\n",
      "DO50326 is not in PCAWG transcriptome analysis\n",
      "DO50387 is not in PCAWG transcriptome analysis\n",
      "DO50401 is not in PCAWG transcriptome analysis\n",
      "DO50337 is not in PCAWG transcriptome analysis\n"
     ]
    }
   ],
   "source": [
    "### If patient is in the splicing file(transcriptome analysis info)\n",
    "for donor in donor_list:\n",
    "    tumor_id = df_exp_info[df_exp_info['icgc_donor_id'] == donor]['aliquot_id']\n",
    "    if len(tumor_id) ==0:\n",
    "        print(f'{donor} is not in PCAWG transcriptome analysis')"
   ]
  }
 ],
 "metadata": {
  "kernelspec": {
   "display_name": "Python 3",
   "language": "python",
   "name": "python3"
  },
  "language_info": {
   "codemirror_mode": {
    "name": "ipython",
    "version": 3
   },
   "file_extension": ".py",
   "mimetype": "text/x-python",
   "name": "python",
   "nbconvert_exporter": "python",
   "pygments_lexer": "ipython3",
   "version": "3.8.3"
  }
 },
 "nbformat": 4,
 "nbformat_minor": 4
}
