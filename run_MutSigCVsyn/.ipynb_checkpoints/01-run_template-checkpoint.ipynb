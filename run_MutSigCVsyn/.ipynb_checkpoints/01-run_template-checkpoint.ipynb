{
 "cells": [
  {
   "cell_type": "code",
   "execution_count": 1,
   "metadata": {},
   "outputs": [],
   "source": [
    "# This script is for running MutSig \n",
    "# import matlab.engine\n",
    "import os\n",
    "import shutil\n",
    "import time\n",
    "import pandas as pd\n",
    "from collections import Counter\n",
    "# eng = matlab.engine.start_matlab()\n",
    "import pickle"
   ]
  },
  {
   "cell_type": "code",
   "execution_count": 2,
   "metadata": {},
   "outputs": [],
   "source": [
    "covariates = '../anno_ref/gene.covariates.converted.txt'\n",
    "mut_dic = '../anno_ref/mutation_type_dictionary_file.txt'\n",
    "chain_f = '../anno_ref/chr_files_hg19'\n",
    "dir_cov = '../cov_out/cov_cohorts_060121'\n",
    "dir_maf = '../maf_out/maf_cohorts_060121'\n",
    "\n",
    "dir_cohorts = '../anno_ref/cohorts/'"
   ]
  },
  {
   "cell_type": "code",
   "execution_count": 3,
   "metadata": {},
   "outputs": [],
   "source": [
    "feature_type = 'histology'\n",
    "# df = pd.read_csv(os.path.join(dir_cohorts,feature_type+'.csv'))\n",
    "# lfeat = df[feature_type].unique()"
   ]
  },
  {
   "cell_type": "code",
   "execution_count": 4,
   "metadata": {},
   "outputs": [
    {
     "name": "stdout",
     "output_type": "stream",
     "text": [
      "Counter({'Liver-HCC': 312, 'Panc-AdenoCA': 230, 'Prost-AdenoCA': 199, 'Breast-AdenoCA': 193, 'Kidney-RCC': 143, 'CNS-Medullo': 141, 'Ovary-AdenoCA': 109, 'Lymph-BNHL': 107, 'Skin-Melanoma': 106, 'Eso-AdenoCA': 97, 'Lymph-CLL': 90, 'CNS-PiloAstro': 89, 'Panc-Endocrine': 81, 'Stomach-AdenoCA': 68, 'Head-SCC': 56, 'ColoRect-AdenoCA': 52, 'Thy-AdenoCA': 48, 'Lung-SCC': 47, 'Uterus-AdenoCA': 43, 'Kidney-ChRCC': 43, 'CNS-GBM': 39, 'Lung-AdenoCA': 36, 'Bone-Osteosarc': 35, 'Biliary-AdenoCA': 33, 'Bladder-TCC': 23, 'Myeloid-MPN': 23, 'SoftTissue-Liposarc': 19, 'CNS-Oligo': 18, 'Cervix-SCC': 18, 'SoftTissue-Leiomyo': 15, 'Myeloid-AML': 13, 'Breast-LobularCA': 13, 'Bone-Epith': 10, 'Bone-Cart': 9, 'Bone-Osteoblast': 5, 'Breast-DCIS': 3, 'Cervix-AdenoCA': 2, 'Myeloid-MDS': 2, 'Bone-Benign': 1})\n"
     ]
    }
   ],
   "source": [
    "lfeat = []\n",
    "with open(os.path.join(dir_cohorts,feature_type+'.csv')) as f:\n",
    "    next(f)\n",
    "    for lines in f:\n",
    "        lfeat.append(lines.split(',')[-1].strip('\\n'))\n",
    "print(Counter(lfeat))\n",
    "lfeat = list(set(lfeat))"
   ]
  },
  {
   "cell_type": "code",
   "execution_count": 8,
   "metadata": {},
   "outputs": [],
   "source": [
    "def runMutSigCV_syn(feat):\n",
    "    global feature_type,covariates, mut_dic, chain_f,dir_cov,dir_maf,out_dir\n",
    "    \n",
    "    maf = os.path.join(dir_maf, feature_type,feat+'.csv')\n",
    "    cov = os.path.join(dir_cov, feature_type,feat+'.csv')\n",
    "    outp = os.path.join('../mutsig_out/syn/cohort/', feature_type, feat, feat)\n",
    "    print(maf,cov,covariates, outp, mut_dic, chain_f)\n",
    "#     eng.cd(r'../mutsigsyn/', nargout = 0)\n",
    "#     eng.MutSigCVs_nbg(maf,cov, covariates, outp, mut_dic, chain_f, nargout = 0)\n",
    "#     end = time.time()\n"
   ]
  },
  {
   "cell_type": "code",
   "execution_count": 6,
   "metadata": {},
   "outputs": [
    {
     "data": {
      "text/plain": [
       "['Myeloid-AML',\n",
       " 'Kidney-ChRCC',\n",
       " 'Cervix-SCC',\n",
       " 'Breast-LobularCA',\n",
       " 'Lung-AdenoCA',\n",
       " 'Bladder-TCC',\n",
       " 'Lung-SCC',\n",
       " 'CNS-Medullo',\n",
       " 'Kidney-RCC',\n",
       " 'Liver-HCC',\n",
       " 'Bone-Benign',\n",
       " 'Skin-Melanoma',\n",
       " 'Thy-AdenoCA',\n",
       " 'Myeloid-MPN',\n",
       " 'Breast-DCIS',\n",
       " 'Eso-AdenoCA',\n",
       " 'Breast-AdenoCA',\n",
       " 'Cervix-AdenoCA',\n",
       " 'Head-SCC',\n",
       " 'Panc-Endocrine',\n",
       " 'Biliary-AdenoCA',\n",
       " 'Myeloid-MDS',\n",
       " 'Ovary-AdenoCA',\n",
       " 'ColoRect-AdenoCA',\n",
       " 'SoftTissue-Liposarc',\n",
       " 'Bone-Epith',\n",
       " 'Prost-AdenoCA',\n",
       " 'Bone-Osteosarc',\n",
       " 'Panc-AdenoCA',\n",
       " 'CNS-PiloAstro',\n",
       " 'Bone-Osteoblast',\n",
       " 'Lymph-BNHL',\n",
       " 'SoftTissue-Leiomyo',\n",
       " 'Lymph-CLL',\n",
       " 'Bone-Cart',\n",
       " 'Uterus-AdenoCA',\n",
       " 'Stomach-AdenoCA',\n",
       " 'CNS-Oligo',\n",
       " 'CNS-GBM']"
      ]
     },
     "execution_count": 6,
     "metadata": {},
     "output_type": "execute_result"
    }
   ],
   "source": [
    "lfeat"
   ]
  },
  {
   "cell_type": "code",
   "execution_count": 9,
   "metadata": {},
   "outputs": [
    {
     "name": "stdout",
     "output_type": "stream",
     "text": [
      "../maf_out/maf_cohorts_060121/histology/Myeloid-AML.csv ../cov_out/cov_cohorts_060121/histology/Myeloid-AML.csv ../anno_ref/gene.covariates.converted.txt ../mutsig_out/syn/cohort/histology/Myeloid-AML/Myeloid-AML ../anno_ref/mutation_type_dictionary_file.txt ../anno_ref/chr_files_hg19\n"
     ]
    }
   ],
   "source": [
    "runMutSigCV_syn('Myeloid-AML')"
   ]
  },
  {
   "cell_type": "code",
   "execution_count": 15,
   "metadata": {},
   "outputs": [
    {
     "ename": "NameError",
     "evalue": "name 'Pool' is not defined",
     "output_type": "error",
     "traceback": [
      "\u001b[0;31m---------------------------------------------------------------------------\u001b[0m",
      "\u001b[0;31mNameError\u001b[0m                                 Traceback (most recent call last)",
      "\u001b[0;32m<ipython-input-15-ffd834492b43>\u001b[0m in \u001b[0;36m<module>\u001b[0;34m\u001b[0m\n\u001b[0;32m----> 1\u001b[0;31m \u001b[0mp\u001b[0m \u001b[0;34m=\u001b[0m \u001b[0mPool\u001b[0m\u001b[0;34m(\u001b[0m\u001b[0;36m6\u001b[0m\u001b[0;34m)\u001b[0m\u001b[0;34m\u001b[0m\u001b[0;34m\u001b[0m\u001b[0m\n\u001b[0m\u001b[1;32m      2\u001b[0m \u001b[0mp\u001b[0m\u001b[0;34m.\u001b[0m\u001b[0mmap\u001b[0m\u001b[0;34m(\u001b[0m\u001b[0mmerge_maf\u001b[0m\u001b[0;34m,\u001b[0m \u001b[0mlfeat\u001b[0m\u001b[0;34m)\u001b[0m\u001b[0;34m\u001b[0m\u001b[0;34m\u001b[0m\u001b[0m\n\u001b[1;32m      3\u001b[0m \u001b[0mp\u001b[0m\u001b[0;34m.\u001b[0m\u001b[0mclose\u001b[0m\u001b[0;34m(\u001b[0m\u001b[0;34m)\u001b[0m\u001b[0;34m\u001b[0m\u001b[0;34m\u001b[0m\u001b[0m\n\u001b[1;32m      4\u001b[0m \u001b[0mp\u001b[0m\u001b[0;34m.\u001b[0m\u001b[0mjoin\u001b[0m\u001b[0;34m(\u001b[0m\u001b[0;34m)\u001b[0m\u001b[0;34m\u001b[0m\u001b[0;34m\u001b[0m\u001b[0m\n",
      "\u001b[0;31mNameError\u001b[0m: name 'Pool' is not defined"
     ]
    }
   ],
   "source": [
    "p = Pool(6)\n",
    "p.map(merge_maf, lfeat)\n",
    "p.close()\n",
    "p.join()"
   ]
  }
 ],
 "metadata": {
  "kernelspec": {
   "display_name": "Python 3",
   "language": "python",
   "name": "python3"
  },
  "language_info": {
   "codemirror_mode": {
    "name": "ipython",
    "version": 3
   },
   "file_extension": ".py",
   "mimetype": "text/x-python",
   "name": "python",
   "nbconvert_exporter": "python",
   "pygments_lexer": "ipython3",
   "version": "3.8.3"
  }
 },
 "nbformat": 4,
 "nbformat_minor": 4
}
