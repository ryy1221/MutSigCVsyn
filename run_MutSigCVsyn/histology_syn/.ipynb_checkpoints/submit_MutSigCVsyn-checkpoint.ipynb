{
 "cells": [
  {
   "cell_type": "code",
   "execution_count": null,
   "metadata": {},
   "outputs": [],
   "source": [
    "#!/usr/bin/env python\n",
    "import subprocess\n",
    "import pandas as pd\n",
    "import os\n",
    "# Get feat\n",
    "dir_cohorts = '../../anno_ref/cohorts/'\n",
    "feature_type = 'histology'"
   ]
  },
  {
   "cell_type": "code",
   "execution_count": null,
   "metadata": {},
   "outputs": [],
   "source": [
    "df = pd.read_csv(os.path.join(dir_cohorts,feature_type+'.csv'))\n",
    "lfeat = df[feature_type].unique()\n",
    "\n",
    "for feat in lfeat:\n",
    "    qsub_command =f'qsub -v HISTOLOGY_NAME={feat} -A epo2_f_g_sc_default run_histology_syn.pbs'\n",
    "#     print(qsub_command) # Uncomment this line when testing to view the qsub command\n",
    "\n",
    "# Comment the following 3 lines when testing to prevent jobs from being submitted\n",
    "    exit_status = subprocess.call(qsub_command, shell=True)\n",
    "    if exit_status is 1:  # Check to make sure the job submitted\n",
    "        print(f'Job {qsub_command} failed to submit')\n",
    "        \n",
    "print(\"Done submitting jobs!\")"
   ]
  }
 ],
 "metadata": {
  "kernelspec": {
   "display_name": "Python 3",
   "language": "python",
   "name": "python3"
  },
  "language_info": {
   "codemirror_mode": {
    "name": "ipython",
    "version": 3
   },
   "file_extension": ".py",
   "mimetype": "text/x-python",
   "name": "python",
   "nbconvert_exporter": "python",
   "pygments_lexer": "ipython3",
   "version": "3.8.3"
  }
 },
 "nbformat": 4,
 "nbformat_minor": 4
}
