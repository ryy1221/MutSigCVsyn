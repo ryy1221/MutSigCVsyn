{
 "cells": [
  {
   "cell_type": "code",
   "execution_count": 7,
   "metadata": {},
   "outputs": [],
   "source": [
    "# This script get gene annotations for the known protein coding genes in gencode 19, result saved to data/anno_refs\n",
    "import re\n",
    "import operator\n",
    "import pickle"
   ]
  },
  {
   "cell_type": "code",
   "execution_count": 8,
   "metadata": {},
   "outputs": [],
   "source": [
    "def get_annotation(annotation_file_path):\n",
    "    name_dict = {}  # {transcript:[gene_name]}\n",
    "    transcript_dict = {}  # {'gene_name':['ENST00000']}\n",
    "    transcript_info_dict = {}  # {transcriptID:'exon'[]; 'CDS'[];'gene'[];'UTR\n",
    "    \n",
    "    with open(annotation_file_path, 'r') as annotation_f:\n",
    "        for lines in annotation_f:\n",
    "            if lines.startswith(\"chr\"):\n",
    "                line_split = lines.split('\\t')\n",
    "                chr_n, source, feature, start_pos, end_pos = line_split[0:5]\n",
    "                strand, frame, attribute = line_split[6:9]\n",
    "                position_list = [int(start_pos), int(end_pos)]\n",
    "                    \n",
    "                # feature = line_split[2] # 'exon' / 'CDS'/ 'UTR'/ 'start_codon'/ 'stop_codon'/ 'transcript'/ 'gene'\n",
    "                if feature !='gene':\n",
    "                    # if this is a protein coding gene and is the primary transcript:\n",
    "                    if 'protein_coding' in attribute and \"KNOWN\" in attribute:\n",
    "                        if 'appris_principal' in attribute or 'appris_candidate_longest' in attribute:\n",
    "                            # parse the attributes\n",
    "                            attribute_split = attribute.split(';')\n",
    "                            gene_id_col, transcript_id_col, gene_type_col, gene_status_col, gene_name_col, transcript_type_col, \\\n",
    "                            transcript_status_col, transcript_name_col = attribute_split[0:8]\n",
    "                            # not include the version number\n",
    "                            gene_id = re.findall(r'(ENSG\\d+|ENSGR\\d+)', gene_id_col)[0]\n",
    "                            transcript_id = re.findall(r'(ENST\\d+|ENSTR\\d+)', transcript_id_col)[0]\n",
    "                            gene_status = re.findall(r'\\\"(.*?)\\\"', gene_status_col)[0]  # KNOWN or not\n",
    "                            gene_name = re.findall(r'\\\"(.*?)\\\"', gene_name_col)[0]\n",
    "                            transcript_status = re.findall(r'\\\"(.*?)\\\"', transcript_status_col)[0]  # KNOWN or not\n",
    "\n",
    "                            if gene_name not in transcript_dict:\n",
    "                                transcript_dict[gene_name] = []\n",
    "                            if transcript_id not in transcript_dict[gene_name]:\n",
    "                                transcript_dict[gene_name].append(transcript_id)\n",
    "\n",
    "                            if transcript_id not in transcript_info_dict:\n",
    "                                transcript_info_dict[transcript_id] = {}\n",
    "                                transcript_info_dict[transcript_id]['strand'] = strand\n",
    "                                transcript_info_dict[transcript_id]['chr'] = chr_n\n",
    "                                transcript_info_dict[transcript_id]['exon'] = []\n",
    "                                transcript_info_dict[transcript_id]['CDS'] = []\n",
    "                                transcript_info_dict[transcript_id]['UTR'] = []\n",
    "                                transcript_info_dict[transcript_id]['transcript'] = []\n",
    "\n",
    "                                # if the transcript and genes are known, parse according to feature type\n",
    "                            if feature == 'exon':\n",
    "                                # exon_n = re.findall(r'\\d+', attribute_split[8])\n",
    "                                transcript_info_dict[transcript_id]['exon'].append(position_list)\n",
    "                            elif feature == 'CDS':\n",
    "                                transcript_info_dict[transcript_id]['CDS'].append(position_list)\n",
    "                            elif feature == 'UTR':\n",
    "                                transcript_info_dict[transcript_id]['UTR'].append(position_list)\n",
    "                            elif feature == 'transcript':\n",
    "                                transcript_info_dict[transcript_id]['transcript'] = position_list\n",
    "\n",
    "                            if transcript_id not in name_dict:\n",
    "                                    name_dict[transcript_id] = gene_name\n",
    "\n",
    "\n",
    "    # delete the transcript record that have 2 or more transcripts, only keep the longest transcript\n",
    "    for names in transcript_dict:\n",
    "        if len(transcript_dict[names]) > 1:\n",
    "            dict_t={}\n",
    "            for t in transcript_dict[names]:\n",
    "                len_t = abs(transcript_info_dict[t]['transcript'][1] - transcript_info_dict[t]['transcript'][0])\n",
    "                dict_t[t]=len_t\n",
    "            dt = sorted(dict_t.items(), key=operator.itemgetter(1), reverse=True)[1:]\n",
    "            for t in dt:\n",
    "                del transcript_info_dict[t[0]]\n",
    "\n",
    "    return name_dict, transcript_info_dict"
   ]
  },
  {
   "cell_type": "code",
   "execution_count": 9,
   "metadata": {
    "scrolled": true
   },
   "outputs": [],
   "source": [
    "f_anno = ('../data/anno_refs/gencode_v19/gencode.v19.annotation.gtf')\n",
    "dict_name, dict_transcript_info = get_annotation(f_anno)\n",
    "# pickle.dump(dict_name, open('../data/proc_refs/dict_name_062121.pkl','wb'))\n",
    "# pickle.dump(dict_transcript_info, open('../data/proc_refs/dict_transcript_info_062121.pkl','wb'))"
   ]
  }
 ],
 "metadata": {
  "kernelspec": {
   "display_name": "Python 3",
   "language": "python",
   "name": "python3"
  },
  "language_info": {
   "codemirror_mode": {
    "name": "ipython",
    "version": 3
   },
   "file_extension": ".py",
   "mimetype": "text/x-python",
   "name": "python",
   "nbconvert_exporter": "python",
   "pygments_lexer": "ipython3",
   "version": "3.6.10"
  }
 },
 "nbformat": 4,
 "nbformat_minor": 4
}
