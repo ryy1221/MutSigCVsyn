{
 "cells": [
  {
   "cell_type": "code",
   "execution_count": 1,
   "id": "02b04531-ad9c-4fc2-83af-83ffdad92279",
   "metadata": {},
   "outputs": [],
   "source": [
    "### This code is for converting gene names in covariate file\n",
    "### Auther Yiyun\n",
    "rm(list=ls()) \n",
    "setwd('./')"
   ]
  },
  {
   "cell_type": "code",
   "execution_count": 2,
   "id": "f7621aca-4873-4c89-a16d-36092a58fe37",
   "metadata": {},
   "outputs": [
    {
     "name": "stderr",
     "output_type": "stream",
     "text": [
      "Warning message:\n",
      "\"package 'biomaRt' was built under R version 3.6.1\"Registered S3 method overwritten by 'openssl':\n",
      "  method      from\n",
      "  print.bytes Rcpp\n"
     ]
    }
   ],
   "source": [
    "library(biomaRt)\n",
    "human = useMart(\"ensembl\", dataset = \"hsapiens_gene_ensembl\", host= \"grch37.ensembl.org\")"
   ]
  },
  {
   "cell_type": "code",
   "execution_count": 3,
   "id": "3cef357f-be9b-444f-84d5-5efb8f9f4708",
   "metadata": {},
   "outputs": [],
   "source": [
    "###get gene list\n",
    "dir_ref = '../data/proc_refs'\n",
    "gene.list = read.csv(file.path(dir_ref,'gene_name_list_102121.txt'), header = FALSE)"
   ]
  },
  {
   "cell_type": "code",
   "execution_count": 5,
   "id": "766714f2-8ffd-418e-abfa-542617e9c47c",
   "metadata": {},
   "outputs": [],
   "source": [
    "res = getBM(attributes = c(\"external_gene_name\",\"external_synonym\"),\n",
    "            filters = \"external_gene_name\",\n",
    "            values = gene.list,\n",
    "            mart = human)"
   ]
  },
  {
   "cell_type": "code",
   "execution_count": 7,
   "id": "61ca0589-14c2-44b2-a02d-e05e896ecf90",
   "metadata": {},
   "outputs": [],
   "source": [
    "### Write output\n",
    "write.table(res, file.path(dir_ref,'gene.name.external.txt'), append = FALSE, sep = \"\\t\", dec = \"\\t\",\n",
    "            row.names = FALSE, col.names = c(\"original\",\"synonym\"), quote = FALSE)"
   ]
  }
 ],
 "metadata": {
  "kernelspec": {
   "display_name": "R",
   "language": "R",
   "name": "ir"
  },
  "language_info": {
   "codemirror_mode": "r",
   "file_extension": ".r",
   "mimetype": "text/x-r-source",
   "name": "R",
   "pygments_lexer": "r",
   "version": "3.6.0"
  }
 },
 "nbformat": 4,
 "nbformat_minor": 5
}
