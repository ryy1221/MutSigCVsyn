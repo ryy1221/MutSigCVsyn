{
 "cells": [
  {
   "cell_type": "code",
   "execution_count": 11,
   "metadata": {},
   "outputs": [],
   "source": [
    "# This script is the process of determining the genes for analysis in MutSigCVsyn\n",
    "# 1. Gencode v19 KNOWN protein coding genes\n",
    "# 2. PCAWG protein coding genes(In MAF file) - include both protein coding and not protein coding\n",
    "# 2.1 if the transcript information we grab from Gencode v19 matches mutations in MAF files\n",
    "        # Directly read intermediate file in 2.1.1\n",
    "\n",
    "# Author: Yiyun"
   ]
  },
  {
   "cell_type": "code",
   "execution_count": 1,
   "metadata": {},
   "outputs": [],
   "source": [
    "import pandas as pd\n",
    "import os, pickle, mmap\n",
    "from multiprocessing import Pool\n",
    "from tqdm import tqdm"
   ]
  },
  {
   "cell_type": "code",
   "execution_count": 3,
   "metadata": {},
   "outputs": [],
   "source": [
    "### Directories\n",
    "dir_forgene = '../data/intermediate/for_gene' ### This is the directory especially for this script\n",
    "\n",
    "dir_validate = os.path.join(dir_forgene,'validate_cov_maf') ###validate folder contain the intermediate file of SNP validation result\n",
    "dir_maf_split = os.path.join(dir_forgene, 'maf_split/') ### Splitted maf for parallel running\n",
    "dir_ref = '../data/proc_refs/'"
   ]
  },
  {
   "cell_type": "markdown",
   "metadata": {},
   "source": [
    "***1. Protein coding genes collected in Genscript***"
   ]
  },
  {
   "cell_type": "code",
   "execution_count": 5,
   "metadata": {},
   "outputs": [],
   "source": [
    "### Read processed annotation file and name file\n",
    "dict_transcript_info = pickle.load(open(os.path.join(dir_ref,'dict_transcript_info_062121.pkl'),'rb'))\n",
    "dict_name = pickle.load(open(os.path.join(dir_ref,'dict_name_062121.pkl'),'rb'))"
   ]
  },
  {
   "cell_type": "code",
   "execution_count": 6,
   "metadata": {},
   "outputs": [],
   "source": [
    "### Get list of genes in transcript info(because it only keeps the principle/longest transcript for each gene)\n",
    "lgencode = []\n",
    "for transcript in dict_transcript_info:\n",
    "    gene_name = dict_name[transcript]\n",
    "    lgencode.append(gene_name)"
   ]
  },
  {
   "cell_type": "code",
   "execution_count": 7,
   "metadata": {},
   "outputs": [
    {
     "name": "stdout",
     "output_type": "stream",
     "text": [
      "Number of all protein coding gene in Gencode annotation file is 19621\n"
     ]
    }
   ],
   "source": [
    "print(f'Number of all protein coding gene in Gencode annotation file is {len(lgencode)}')"
   ]
  },
  {
   "cell_type": "markdown",
   "metadata": {},
   "source": [
    "***2. All genes in MAF file -- This is the big maf file that contains all mutations***   \n",
    "--Have intermediate file, don't need to run  \n",
    "    2.1 Check if all SNPs are in the coding/non-coding(intron/UTR) region as in the transcript info  "
   ]
  },
  {
   "cell_type": "code",
   "execution_count": 8,
   "metadata": {},
   "outputs": [],
   "source": [
    "### The folder for splitted maf file\n",
    "coding_mut = ['Missense_Mutation','Nonsense_Mutation','Silent','Nonstop_Mutation','Start_Codon_SNP']\n",
    "noncoding_mut = ['Intron',\"3'UTR\",\"5'UTR\"]"
   ]
  },
  {
   "cell_type": "code",
   "execution_count": 9,
   "metadata": {
    "tags": []
   },
   "outputs": [],
   "source": [
    "### Get the gene name list in the maf file\n",
    "def get_geneinmaf(maff):\n",
    "    global dir_maf_split,coding_mut,noncoding_mut,dir_validate\n",
    "    \n",
    "    print(f'START {maff}')\n",
    "    ### If the file had already been mapped, skip the file\n",
    "    if maff+'.pkl' in os.listdir(dir_validate):\n",
    "        print(f'{maff} already finished')\n",
    "        return\n",
    "\n",
    "    merged_maf = os.path.join(dir_maf_split,maff)\n",
    "    # Read maf\n",
    "    df_maf = pd.read_csv(merged_maf,sep = '\\t', header = None)\n",
    "    \n",
    "    # Get all gene list and filter out the genes not in gencode\n",
    "    lgene = df_maf.iloc[:,0].unique().tolist() # Get genelist\n",
    "    lgene = [i for i in lgene if i in lgencode]\n",
    "    lgene_notpass = [] # set a list for the not qualified genes\n",
    "    \n",
    "    # set genes, mutation type(syn, nysn...), mutation categ(SNP, DNP) as index , only keep SNPs\n",
    "    df_maf = df_maf.set_index([0,5,6], drop = True)\n",
    "    df_maf = df_maf.iloc[df_maf.index.get_level_values(6) == 'SNP'] ### Limit the maf file to SNPs\n",
    "    \n",
    "    # iterate through genes to check every mutations in that gene match coverage information(transcript ino)\n",
    "    for genes in lgene:\n",
    "        quality_flag = 1 # Set up initial quality flag for gene, assume it's maf and coverage SNP matches\n",
    "        transcript = 0# set up initial transcript to avoid using the last one\n",
    "        \n",
    "        # Find transcript_id of that gene\n",
    "        ltranscript = []\n",
    "        for k,v in dict_name.items():\n",
    "            if v == genes:\n",
    "                ltranscript.append(k)\n",
    "        if not ltranscript: ### If the transcript is not found for the gene, flag the gene and continue the loop\n",
    "            print(f'no transcript found for the {genes}');quality_flag = 0\n",
    "            continue\n",
    "        if len(ltranscript) == 1: transcript = ltranscript[0]\n",
    "        else: \n",
    "            # print(f'{genes} has multiple transcript{ltranscript}')\n",
    "            transcript = [i for i in ltranscript if i in dict_transcript_info.keys()]\n",
    "            if len(transcript) == 1: transcript = transcript[0]\n",
    "        \n",
    "        # 1. Find the CDS information of that transcript\n",
    "        CDS_seq_info = dict_transcript_info[transcript]['CDS']\n",
    "        UTR_seq_info = dict_transcript_info[transcript]['UTR']\n",
    "        transcript_seq_info = dict_transcript_info[transcript]['transcript']\n",
    "        \n",
    "        # 2. Get the gene-level dataframe with mutations - for coding and non-coding\n",
    "        df_maf_gene = df_maf.iloc[df_maf.index.get_level_values(0) == genes]\n",
    "        df_maf_gene_ncd = df_maf_gene.iloc[df_maf_gene.index.get_level_values(5).isin(noncoding_mut)]\n",
    "        df_maf_gene_cd = df_maf_gene.iloc[df_maf_gene.index.get_level_values(5).isin(coding_mut)]\n",
    "        ncd_mut_pos = df_maf_gene_ncd[2].unique().tolist()\n",
    "        cd_mut_pos = df_maf_gene_cd[2].unique().tolist()\n",
    "        \n",
    "        # 3. Check if the coding/non-coding position in CDS sequence\n",
    "        if cd_mut_pos:\n",
    "            for value in cd_mut_pos:\n",
    "                value = int(value)\n",
    "                if not list(filter(lambda x: value<x[1] and value>x[0], CDS_seq_info)):quality_flag = 0  #if mutation doesn't fall in CDS\n",
    "        if ncd_mut_pos:\n",
    "            for value in ncd_mut_pos:  # it should be in exon, not in CDS, maybe in UTR\n",
    "                value = int(value)\n",
    "                if list(filter(lambda x: value<x[1] and value>x[0], CDS_seq_info))\\\n",
    "                or not ((value< transcript_seq_info[1]) and (value > transcript_seq_info[0])): quality_flag = 0\n",
    "        # if the quality_flag = 0, means that not all mutations matches the transcript info/gene not found, we exclude the gene\n",
    "        if quality_flag == 0:\n",
    "            lgene_notpass.append(genes)\n",
    "    \n",
    "    lgene_final = [i for i in lgene if i not in lgene_notpass]\n",
    "    print(len(lgene));print(len(lgene_final));print(len(lgene_notpass))\n",
    "    pickle.dump(lgene_final, open(os.path.join(dir_validate,maff+'.pkl'),'wb'))"
   ]
  },
  {
   "cell_type": "code",
   "execution_count": 10,
   "metadata": {
    "collapsed": true,
    "jupyter": {
     "outputs_hidden": true
    },
    "tags": []
   },
   "outputs": [
    {
     "name": "stdout",
     "output_type": "stream",
     "text": [
      "START split.maf.bsSTART split.maf.ae\n",
      "\n",
      "split.maf.bs already finishedsplit.maf.ae already finished\n",
      "\n",
      "START split.maf.bvSTART split.maf.av\n",
      "\n",
      "split.maf.bv already finishedsplit.maf.av already finished\n",
      "\n",
      "START split.maf.ba\n",
      "split.maf.ba already finished\n",
      "START split.maf.ax\n",
      "split.maf.ax already finishedSTART split.maf.az\n",
      "\n",
      "START split.maf.aksplit.maf.az already finished\n",
      "split.maf.ak already finished\n",
      "START split.maf.an\n",
      "split.maf.an already finished\n",
      "START split.maf.au\n",
      "\n",
      "START split.maf.busplit.maf.au already finished\n",
      "\n",
      "START split.maf.bzsplit.maf.bu already finished\n",
      "\n",
      "split.maf.bz already finishedSTART split.maf.bn\n",
      "\n",
      "START split.maf.btsplit.maf.bn already finished\n",
      "\n",
      "split.maf.bt already finishedSTART split.maf.al\n",
      "START split.maf.bj\n",
      "\n",
      "split.maf.al already finishedsplit.maf.bj already finished\n",
      "\n",
      "START split.maf.aiSTART split.maf.bq\n",
      "\n",
      "split.maf.bq already finishedsplit.maf.ai already finished\n",
      "\n",
      "START split.maf.bfSTART split.maf.bi\n",
      "\n",
      "split.maf.bf already finishedsplit.maf.bi already finished\n",
      "\n",
      "START split.maf.bdSTART split.maf.bx\n",
      "\n",
      "split.maf.bd already finished\n",
      "split.maf.bx already finishedSTART split.maf.br\n",
      "\n",
      "split.maf.br already finishedSTART split.maf.ay\n",
      "\n",
      "split.maf.ay already finishedSTART split.maf.by\n",
      "START split.maf.ag\n",
      "split.maf.by already finished\n",
      "\n",
      "START split.maf.bmsplit.maf.ag already finished\n",
      "\n",
      "split.maf.bm already finished\n",
      "START split.maf.bo\n",
      "split.maf.bo already finishedSTART split.maf.ac\n",
      "\n",
      "START split.maf.ahsplit.maf.ac already finished\n",
      "\n",
      "split.maf.ah already finished\n",
      "START split.maf.bg\n",
      "split.maf.bg already finished\n",
      "START split.maf.abSTART split.maf.bh\n",
      "split.maf.ab already finished\n",
      "\n",
      "START split.maf.aqsplit.maf.bh already finished\n",
      "\n",
      "split.maf.aq already finishedSTART split.maf.am\n",
      "split.maf.am already finished\n",
      "\n",
      "START split.maf.afSTART split.maf.bl\n",
      "\n",
      "split.maf.af already finishedsplit.maf.bl already finished\n",
      "\n",
      "START split.maf.bkSTART split.maf.aa\n",
      "\n",
      "split.maf.bk already finished\n",
      "split.maf.aa already finishedSTART split.maf.bw\n",
      "\n",
      "START split.maf.casplit.maf.bw already finished\n",
      "START split.maf.ao\n",
      "split.maf.ao already finished\n",
      "split.maf.ca already finished\n",
      "START split.maf.bb\n",
      "START split.maf.be\n",
      "\n",
      "split.maf.bb already finishedsplit.maf.be already finished\n",
      "\n",
      "START split.maf.arSTART split.maf.bp\n",
      "split.maf.ar already finished\n",
      "split.maf.bp already finished\n",
      "\n",
      "START split.maf.asSTART split.maf.aj\n",
      "\n",
      "split.maf.as already finished\n",
      "split.maf.aj already finishedSTART split.maf.bc\n",
      "START split.maf.ad\n",
      "split.maf.ad already finished\n",
      "\n",
      "split.maf.bc already finished\n",
      "START split.maf.aw\n",
      "split.maf.aw already finished\n",
      "START split.maf.at\n",
      "split.maf.at already finished\n",
      "START split.maf.ap\n",
      "split.maf.ap already finished\n"
     ]
    }
   ],
   "source": [
    "### Running parallel for only one time\n",
    "p = Pool(2)\n",
    "res = p.map(get_geneinmaf, os.listdir(dir_maf_split))\n",
    "p.close()\n",
    "p.join()"
   ]
  },
  {
   "cell_type": "markdown",
   "metadata": {},
   "source": [
    "**2.1.1 Anlyze the mapped gene and all intersections**"
   ]
  },
  {
   "cell_type": "code",
   "execution_count": 12,
   "metadata": {},
   "outputs": [],
   "source": [
    "list_pass_genes_all = []\n",
    "for pklPasslists in os.listdir(dir_validate):\n",
    "    list_pass_genes = pickle.load(open(os.path.join(dir_validate,pklPasslists),'rb'))\n",
    "    list_pass_genes_all.extend(list_pass_genes)"
   ]
  },
  {
   "cell_type": "code",
   "execution_count": 13,
   "metadata": {},
   "outputs": [
    {
     "data": {
      "text/plain": [
       "18638"
      ]
     },
     "execution_count": 13,
     "metadata": {},
     "output_type": "execute_result"
    }
   ],
   "source": [
    "len(set(list_pass_genes_all))"
   ]
  },
  {
   "cell_type": "code",
   "execution_count": 14,
   "metadata": {},
   "outputs": [
    {
     "name": "stdout",
     "output_type": "stream",
     "text": [
      "Number of intersection of Gencode protein coding genes and MAF genes is 18638\n"
     ]
    }
   ],
   "source": [
    "print(f'Number of intersection of Gencode protein coding genes and MAF genes is \\\n",
    "{len(set(lgencode).intersection(set(list_pass_genes_all)))}')"
   ]
  },
  {
   "cell_type": "code",
   "execution_count": 36,
   "metadata": {},
   "outputs": [],
   "source": [
    "### Save intersected genelist\n",
    "lgene = list(set(lgencode).intersection(set(list_pass_genes_all)))\n",
    "# pickle.dump(lgene, open(os.path.join(dir_ref,'gene_name_list_102121.pkl'),'wb'))\n",
    "# with open(os.path.join(dir_ref,'gene_name_list_102121.txt'),'w') as f:\n",
    "#     for gene in lgene:\n",
    "#         f.write(gene+'\\n')"
   ]
  },
  {
   "cell_type": "code",
   "execution_count": 37,
   "metadata": {},
   "outputs": [],
   "source": [
    "### Create transcript- name dict for intersection genes\n",
    "dict_name_transcript = {}\n",
    "for k,v in dict_name.items():\n",
    "    if v in lgene:\n",
    "        if v not in dict_name_transcript:\n",
    "            dict_name_transcript[v] = []\n",
    "        dict_name_transcript[v].append(k)\n",
    "dict_gene_forcov = {}\n",
    "for k,v in dict_name_transcript.items():\n",
    "    if k in lgene:\n",
    "        transcript_id = [i for i in v if i in dict_transcript_info.keys()][0]\n",
    "        dict_gene_forcov[transcript_id] = k\n",
    "# pickle.dump(dict_gene_forcov, open(os.path.join(dir_ref,'dict_name_forcov_102121.pkl'),'wb'))"
   ]
  }
 ],
 "metadata": {
  "kernelspec": {
   "display_name": "Python 3",
   "language": "python",
   "name": "python3"
  },
  "language_info": {
   "codemirror_mode": {
    "name": "ipython",
    "version": 3
   },
   "file_extension": ".py",
   "mimetype": "text/x-python",
   "name": "python",
   "nbconvert_exporter": "python",
   "pygments_lexer": "ipython3",
   "version": "3.6.10"
  }
 },
 "nbformat": 4,
 "nbformat_minor": 4
}
