{
 "cells": [
  {
   "cell_type": "code",
   "execution_count": 1,
   "id": "592f9c36-20f6-4d91-8ab7-bd393b06bc50",
   "metadata": {},
   "outputs": [],
   "source": [
    "### This script is for maf file processing -- Prepare multicore for patient with large mutations. May take >12hrs to run\n",
    "### 1. MAF files are splitted into individual files\n",
    "### 2. Mutation categories are assigned to individuals\n",
    "### 3. Individual files are merged into histology files"
   ]
  },
  {
   "cell_type": "code",
   "execution_count": 1,
   "id": "65029993-5ea0-404a-a742-29d1e1965378",
   "metadata": {},
   "outputs": [],
   "source": [
    "from functools import partial\n",
    "from maf_utils import*"
   ]
  },
  {
   "cell_type": "code",
   "execution_count": 2,
   "id": "cd4a3c93-3ff8-479e-b32c-1b56de10ed90",
   "metadata": {},
   "outputs": [],
   "source": [
    "%load_ext autoreload\n",
    "%autoreload 2"
   ]
  },
  {
   "cell_type": "code",
   "execution_count": 3,
   "id": "3421a9bc-9ce8-46cd-8add-ded7c0ac78eb",
   "metadata": {},
   "outputs": [],
   "source": [
    "### Define maf\n",
    "class maf_process:\n",
    "    def __init__(self, params):\n",
    "        self.dir_maf_split = params['dir_maf_split']\n",
    "        self.dir_out = params['dir_out']\n",
    "        self.dir_out_intermediate = params['dir_out_intermediate']\n",
    "        self.dir_out_intermediate_ind_split = os.path.join(params['dir_out_intermediate'],'individual/split/')\n",
    "        self.dir_out_intermediate_ind_categ = os.path.join(params['dir_out_intermediate'],'individual/categ/')\n",
    "        self.ncore = params['parallelize_core']\n",
    "        \n",
    "        ### reference folder and files\n",
    "        self.dir_ref = '../data/proc_refs/'\n",
    "        self.fname_patient_list = 'list_all_patients_102121.pkl'\n",
    "        self.histology_dfname = 'histology.csv'\n",
    "        self.histology_nohype_dfname = 'histology_nohypermutator.csv'\n",
    "        self.fname_lgene_old = 'gene_name_list_062121.pkl' # this is gene name list only, the old one has 19225 genes \n",
    "        self.fname_lgene_new = 'gene_name_list_102121.pkl' # the new one has 18000ish genes\n",
    "        ### output folder and intermediate folder\n",
    "        if not os.path.exists(self.dir_out):\n",
    "            os.makedirs(self.dir_out)\n",
    "        if not os.path.exists(self.dir_out_intermediate):\n",
    "            os.makedirs(self.dir_out_intermediate)\n",
    "        if not os.path.exists(self.dir_out_intermediate_ind_split):\n",
    "            os.makedirs(self.dir_out_intermediate_ind_split)\n",
    "        if not os.path.exists(self.dir_out_intermediate_ind_categ):\n",
    "            os.makedirs(self.dir_out_intermediate_ind_categ)\n",
    "            \n",
    "    ###-------------------------\n",
    "    # 1. First create intermediate file individual patient maf files\n",
    "    ###-------------------------    \n",
    "    def run_split_patient(self): # not using multiprocessing...afrain file read/write will confilct\n",
    "        # get the list of splitted maf files\n",
    "        lmaf_split = os.listdir(self.dir_maf_split)\n",
    "        for maf in tqdm(lmaf_split):\n",
    "            split_patient(maf,dir_maf = self.dir_maf_split, dir_out = self.dir_out_intermediate_ind_split)\n",
    "        print('Finish making individual patient maf files...')\n",
    "    \n",
    "    ###-------------------------\n",
    "    # 2. Assign mutation category to individual patients\n",
    "    ###-------------------------    \n",
    "    def run_assign_categ(self):\n",
    "        ### Get the all patient lists\n",
    "        self.patient_list = pickle.load(open(os.path.join(self.dir_ref,self.fname_patient_list), 'rb'))\n",
    "        print('Start assigning categ to individual patients...')\n",
    "        processes = []\n",
    "        \n",
    "        ### Multiprocessing\n",
    "        # for patients in self.patient_list:\n",
    "        #     p = mp.Process()\n",
    "        #     function1 = partial(categ_assign,dir_ind = self.dir_out_intermediate_ind_split,\\\n",
    "        #                    dir_categ_out = self.dir_out_intermediate_ind_categ)\n",
    "        #     p = mp.Process(target=function1, args=(patients,))\n",
    "        #     processes.append(p)\n",
    "        # [x.start() for x in processes]\n",
    "        # [x.join() for x in processes]\n",
    "        # [x.close() for x in processes]\n",
    "\n",
    "        self.runcateg = pickle.load(open('lruncateg.pkl','rb'))\n",
    "\n",
    "        ## Not multiprocessing\n",
    "        for patients in tqdm(self.runcateg):\n",
    "            categ_assign(patients,dir_ind = self.dir_out_intermediate_ind_split,\\\n",
    "                           dir_categ_out = self.dir_out_intermediate_ind_categ )\n",
    "\n",
    "        print('Finish assigning categ to individual patients...')\n",
    "    \n",
    "    ###-------------------------\n",
    "    # 3. Merge individual mutation file to histology mutation files\n",
    "    ###-------------------------    \n",
    "    def load_histology_info(self, gene_name = 'old'):\n",
    "        print('Loading histology cohort & gene reference data')\n",
    "        self.histology_df = pd.read_csv(os.path.join(self.dir_ref,self.histology_dfname))\n",
    "        self.histology_nohype_df = pd.read_csv(os.path.join(self.dir_ref,self.histology_nohype_dfname))\n",
    "        # if use the old gene names\n",
    "        if gene_name == 'old':\n",
    "            self.gene_name_list = pickle.load(open(os.path.join(self.dir_ref, self.fname_lgene_old),'rb'))\n",
    "        elif gene_name == 'new':\n",
    "            self.gene_name_list = pickle.load(open(os.path.join(self.dir_ref, self.fname_lgene_new),'rb'))\n",
    "        print('Finish Loading histology cohort & gene reference data')\n",
    "    \n",
    "    # merge patients\n",
    "    def merge_maf(self, feature, hypermutator = False, filter_gene = False):\n",
    "        if hypermutator:\n",
    "            df_sample = self.histology_nohype_df\n",
    "            self.dir_out_merged = self.dir_out+'_nohypermutator'\n",
    "            if not os.path.exists(self.dir_out_merged):\n",
    "                os.makedirs(self.dir_out_merged)\n",
    "        else: \n",
    "            df_sample = self.histology_df\n",
    "            self.dir_out_merged = self.dir_out\n",
    "\n",
    "        if os.path.exists(os.path.join(self.dir_out_merged,feature+'.csv.gz')):\n",
    "            print(f'exists{feature}')\n",
    "            return\n",
    "\n",
    "        # Initialize list for append\n",
    "        ldf = []\n",
    "\n",
    "        # Get patient list for histology\n",
    "        df_histology = df_sample[df_sample['histology'] == feature]\n",
    "        lp = df_histology['tumor_aliquot_id'].unique()\n",
    "\n",
    "        #read patient file\n",
    "        for p in tqdm(lp):\n",
    "            df_maf_ind = pd.read_csv(os.path.join(self.dir_out_intermediate_ind_categ,p+'.to_merge.categ.csv'), index_col = 0)\n",
    "            if filter_gene:\n",
    "                df_maf_ind = df_maf_ind[df_maf_ind['Hugo_Symbol'].isin(self.gene_name_list)] ## Filter genes\n",
    "                ldf.append(df_maf_ind)\n",
    "            else:\n",
    "                ldf.append(df_maf_ind)\n",
    "\n",
    "        df_maf_merged = pd.concat(ldf, axis = 0)\n",
    "        df_maf_merged['categ'] = df_maf_merged['categ'].astype(int)\n",
    "        df_maf_merged.to_csv(os.path.join(self.dir_out_merged,feature+'.csv.gz'), sep = '\\t', index = False\\\n",
    "         ,chunksize=100000,compression='gzip',encoding='utf-8')\n",
    "        \n",
    "        print(f'Finish Merging...')"
   ]
  },
  {
   "cell_type": "code",
   "execution_count": 11,
   "id": "346d000e-ffdc-4760-8112-d3f23c0d7edb",
   "metadata": {},
   "outputs": [],
   "source": [
    "maf_params = {'dir_maf_split': '../maf_raw/maf_split',\n",
    "              'dir_out_intermediate': '../data/maf/intermediate',\n",
    "              'dir_out': '../data/maf/histology',\n",
    "              'parallelize_core':6} "
   ]
  },
  {
   "cell_type": "code",
   "execution_count": null,
   "id": "60239255-1ade-4b09-99ab-471732ed382b",
   "metadata": {},
   "outputs": [],
   "source": [
    "### Split patient file, don't run if you already run\n",
    "res = maf_process(maf_params)\n",
    "res.run_split_patient()"
   ]
  },
  {
   "cell_type": "code",
   "execution_count": null,
   "id": "71d85d77-d48c-44d6-b005-28f40b0111f2",
   "metadata": {},
   "outputs": [],
   "source": [
    "### Assign categ to individual patient files, don't run if you already run\n",
    "res = maf_process(maf_params)\n",
    "res.run_assign_categ()"
   ]
  },
  {
   "cell_type": "code",
   "execution_count": 5,
   "id": "45d0789e-3767-4269-b036-d2e0f886e6e8",
   "metadata": {
    "tags": []
   },
   "outputs": [
    {
     "name": "stderr",
     "output_type": "stream",
     "text": [
      "  2%|▏         | 2/109 [00:00<00:07, 15.03it/s]"
     ]
    },
    {
     "name": "stdout",
     "output_type": "stream",
     "text": [
      "['Ovary-AdenoCA' 'CNS-PiloAstro' 'Liver-HCC' 'CNS-Oligo' 'Panc-Endocrine'\n",
      " 'Kidney-RCC' 'Prost-AdenoCA' 'Thy-AdenoCA' 'ColoRect-AdenoCA'\n",
      " 'Lymph-BNHL' 'Uterus-AdenoCA' 'Breast-AdenoCA' 'Lung-AdenoCA'\n",
      " 'Panc-AdenoCA' 'Eso-AdenoCA' 'Head-SCC' 'CNS-Medullo' 'CNS-GBM'\n",
      " 'SoftTissue-Leiomyo' 'Cervix-SCC' 'Skin-Melanoma' 'Lymph-CLL'\n",
      " 'SoftTissue-Liposarc' 'Kidney-ChRCC' 'Stomach-AdenoCA' 'Lung-SCC'\n",
      " 'Bladder-TCC' 'Myeloid-AML' 'Biliary-AdenoCA' 'Breast-LobularCA'\n",
      " 'Cervix-AdenoCA' 'Bone-Osteosarc' 'Breast-DCIS' 'Myeloid-MPN'\n",
      " 'Myeloid-MDS' 'Bone-Cart' 'Bone-Osteoblast' 'Bone-Epith' 'Bone-Benign']\n",
      "Loading histology cohort & gene reference data\n",
      "Finish Loading histology cohort & gene reference data\n"
     ]
    },
    {
     "name": "stderr",
     "output_type": "stream",
     "text": [
      "100%|██████████| 109/109 [00:05<00:00, 18.47it/s]\n",
      "  4%|▍         | 4/89 [00:00<00:02, 34.49it/s]"
     ]
    },
    {
     "name": "stdout",
     "output_type": "stream",
     "text": [
      "Finish Merging...\n"
     ]
    },
    {
     "name": "stderr",
     "output_type": "stream",
     "text": [
      "100%|██████████| 89/89 [00:02<00:00, 31.52it/s]\n",
      "  0%|          | 1/312 [00:00<00:45,  6.77it/s]"
     ]
    },
    {
     "name": "stdout",
     "output_type": "stream",
     "text": [
      "Finish Merging...\n"
     ]
    },
    {
     "name": "stderr",
     "output_type": "stream",
     "text": [
      "/storage/home/yur97/anaconda3/envs/mSigsyn/lib/python3.6/site-packages/IPython/core/interactiveshell.py:3263: DtypeWarning: Columns (18,25,29,34,35,36) have mixed types.Specify dtype option on import or set low_memory=False.\n",
      "  if (await self.run_code(code, result,  async_=asy)):\n",
      "  5%|▌         | 17/312 [00:02<00:33,  8.74it/s]/storage/home/yur97/anaconda3/envs/mSigsyn/lib/python3.6/site-packages/IPython/core/interactiveshell.py:3263: DtypeWarning: Columns (18,25,34,35,36,37) have mixed types.Specify dtype option on import or set low_memory=False.\n",
      "  if (await self.run_code(code, result,  async_=asy)):\n",
      " 12%|█▏        | 38/312 [00:04<00:30,  9.02it/s]/storage/home/yur97/anaconda3/envs/mSigsyn/lib/python3.6/site-packages/IPython/core/interactiveshell.py:3263: DtypeWarning: Columns (34,35,36,37) have mixed types.Specify dtype option on import or set low_memory=False.\n",
      "  if (await self.run_code(code, result,  async_=asy)):\n",
      " 25%|██▍       | 77/312 [00:08<00:23, 10.09it/s]/storage/home/yur97/anaconda3/envs/mSigsyn/lib/python3.6/site-packages/IPython/core/interactiveshell.py:3263: DtypeWarning: Columns (2,25,34,35,36,37) have mixed types.Specify dtype option on import or set low_memory=False.\n",
      "  if (await self.run_code(code, result,  async_=asy)):\n",
      " 26%|██▌       | 81/312 [00:08<00:22, 10.07it/s]/storage/home/yur97/anaconda3/envs/mSigsyn/lib/python3.6/site-packages/IPython/core/interactiveshell.py:3263: DtypeWarning: Columns (2,18,25,34,35,36,37) have mixed types.Specify dtype option on import or set low_memory=False.\n",
      "  if (await self.run_code(code, result,  async_=asy)):\n",
      " 31%|███       | 96/312 [00:11<00:31,  6.83it/s]/storage/home/yur97/anaconda3/envs/mSigsyn/lib/python3.6/site-packages/IPython/core/interactiveshell.py:3263: DtypeWarning: Columns (18,25,34,35,36) have mixed types.Specify dtype option on import or set low_memory=False.\n",
      "  if (await self.run_code(code, result,  async_=asy)):\n",
      " 50%|█████     | 156/312 [00:18<00:22,  7.03it/s]/storage/home/yur97/anaconda3/envs/mSigsyn/lib/python3.6/site-packages/IPython/core/interactiveshell.py:3263: DtypeWarning: Columns (2,35,36,37) have mixed types.Specify dtype option on import or set low_memory=False.\n",
      "  if (await self.run_code(code, result,  async_=asy)):\n",
      " 58%|█████▊    | 182/312 [00:21<00:15,  8.58it/s]/storage/home/yur97/anaconda3/envs/mSigsyn/lib/python3.6/site-packages/IPython/core/interactiveshell.py:3263: DtypeWarning: Columns (2,18,34,35,36) have mixed types.Specify dtype option on import or set low_memory=False.\n",
      "  if (await self.run_code(code, result,  async_=asy)):\n",
      " 70%|██████▉   | 217/312 [00:25<00:13,  7.07it/s]/storage/home/yur97/anaconda3/envs/mSigsyn/lib/python3.6/site-packages/IPython/core/interactiveshell.py:3263: DtypeWarning: Columns (12,18,19,25,29,34,35,36,37) have mixed types.Specify dtype option on import or set low_memory=False.\n",
      "  if (await self.run_code(code, result,  async_=asy)):\n",
      " 71%|███████   | 221/312 [00:26<00:11,  7.68it/s]/storage/home/yur97/anaconda3/envs/mSigsyn/lib/python3.6/site-packages/IPython/core/interactiveshell.py:3263: DtypeWarning: Columns (25,34,35,36,37) have mixed types.Specify dtype option on import or set low_memory=False.\n",
      "  if (await self.run_code(code, result,  async_=asy)):\n",
      "100%|██████████| 312/312 [00:36<00:00,  8.49it/s]\n",
      " 11%|█         | 2/18 [00:00<00:00, 19.94it/s]"
     ]
    },
    {
     "name": "stdout",
     "output_type": "stream",
     "text": [
      "Finish Merging...\n"
     ]
    },
    {
     "name": "stderr",
     "output_type": "stream",
     "text": [
      "100%|██████████| 18/18 [00:00<00:00, 20.58it/s]\n",
      "  4%|▎         | 3/81 [00:00<00:03, 22.65it/s]"
     ]
    },
    {
     "name": "stdout",
     "output_type": "stream",
     "text": [
      "Finish Merging...\n"
     ]
    },
    {
     "name": "stderr",
     "output_type": "stream",
     "text": [
      "100%|██████████| 81/81 [00:04<00:00, 18.37it/s]\n",
      "  1%|▏         | 2/143 [00:00<00:08, 16.31it/s]"
     ]
    },
    {
     "name": "stdout",
     "output_type": "stream",
     "text": [
      "Finish Merging...\n"
     ]
    },
    {
     "name": "stderr",
     "output_type": "stream",
     "text": [
      "  8%|▊         | 11/143 [00:00<00:09, 14.01it/s]/storage/home/yur97/anaconda3/envs/mSigsyn/lib/python3.6/site-packages/IPython/core/interactiveshell.py:3263: DtypeWarning: Columns (2,18,35,36,37) have mixed types.Specify dtype option on import or set low_memory=False.\n",
      "  if (await self.run_code(code, result,  async_=asy)):\n",
      "100%|██████████| 143/143 [00:11<00:00, 12.67it/s]\n",
      "  2%|▏         | 3/199 [00:00<00:08, 23.91it/s]"
     ]
    },
    {
     "name": "stdout",
     "output_type": "stream",
     "text": [
      "Finish Merging...\n"
     ]
    },
    {
     "name": "stderr",
     "output_type": "stream",
     "text": [
      "100%|██████████| 199/199 [00:10<00:00, 19.42it/s]\n",
      "  8%|▊         | 4/48 [00:00<00:01, 36.47it/s]"
     ]
    },
    {
     "name": "stdout",
     "output_type": "stream",
     "text": [
      "Finish Merging...\n"
     ]
    },
    {
     "name": "stderr",
     "output_type": "stream",
     "text": [
      "100%|██████████| 48/48 [00:01<00:00, 28.30it/s]\n",
      "  0%|          | 0/52 [00:00<?, ?it/s]"
     ]
    },
    {
     "name": "stdout",
     "output_type": "stream",
     "text": [
      "Finish Merging...\n"
     ]
    },
    {
     "name": "stderr",
     "output_type": "stream",
     "text": [
      " 15%|█▌        | 8/52 [00:06<00:36,  1.20it/s]/storage/home/yur97/anaconda3/envs/mSigsyn/lib/python3.6/site-packages/numpy/lib/arraysetops.py:522: FutureWarning: elementwise comparison failed; returning scalar instead, but in the future will perform elementwise comparison\n",
      "  mask |= (ar1 == a)\n",
      " 23%|██▎       | 12/52 [00:30<03:15,  4.89s/it]/storage/home/yur97/anaconda3/envs/mSigsyn/lib/python3.6/site-packages/IPython/core/interactiveshell.py:3263: DtypeWarning: Columns (2,18,29,35,36,37) have mixed types.Specify dtype option on import or set low_memory=False.\n",
      "  if (await self.run_code(code, result,  async_=asy)):\n",
      " 25%|██▌       | 13/52 [00:30<02:15,  3.47s/it]/storage/home/yur97/anaconda3/envs/mSigsyn/lib/python3.6/site-packages/IPython/core/interactiveshell.py:3263: DtypeWarning: Columns (2,25,35,36,37) have mixed types.Specify dtype option on import or set low_memory=False.\n",
      "  if (await self.run_code(code, result,  async_=asy)):\n",
      " 29%|██▉       | 15/52 [00:30<01:06,  1.79s/it]/storage/home/yur97/anaconda3/envs/mSigsyn/lib/python3.6/site-packages/IPython/core/interactiveshell.py:3263: DtypeWarning: Columns (12,18,25,29,34,35,36,37) have mixed types.Specify dtype option on import or set low_memory=False.\n",
      "  if (await self.run_code(code, result,  async_=asy)):\n",
      " 33%|███▎      | 17/52 [00:32<00:44,  1.27s/it]/storage/home/yur97/anaconda3/envs/mSigsyn/lib/python3.6/site-packages/IPython/core/interactiveshell.py:3263: DtypeWarning: Columns (18,25) have mixed types.Specify dtype option on import or set low_memory=False.\n",
      "  if (await self.run_code(code, result,  async_=asy)):\n",
      " 52%|█████▏    | 27/52 [00:37<00:17,  1.44it/s]/storage/home/yur97/anaconda3/envs/mSigsyn/lib/python3.6/site-packages/IPython/core/interactiveshell.py:3263: DtypeWarning: Columns (2,34,35,37) have mixed types.Specify dtype option on import or set low_memory=False.\n",
      "  if (await self.run_code(code, result,  async_=asy)):\n",
      " 63%|██████▎   | 33/52 [00:42<00:29,  1.55s/it]/storage/home/yur97/anaconda3/envs/mSigsyn/lib/python3.6/site-packages/IPython/core/interactiveshell.py:3263: DtypeWarning: Columns (2,18,25,35,36,37) have mixed types.Specify dtype option on import or set low_memory=False.\n",
      "  if (await self.run_code(code, result,  async_=asy)):\n",
      " 90%|█████████ | 47/52 [00:44<00:00,  5.47it/s]/storage/home/yur97/anaconda3/envs/mSigsyn/lib/python3.6/site-packages/IPython/core/interactiveshell.py:3263: DtypeWarning: Columns (18,35,36,37) have mixed types.Specify dtype option on import or set low_memory=False.\n",
      "  if (await self.run_code(code, result,  async_=asy)):\n",
      "100%|██████████| 52/52 [00:45<00:00,  1.15it/s]\n",
      "  0%|          | 0/107 [00:00<?, ?it/s]"
     ]
    },
    {
     "name": "stdout",
     "output_type": "stream",
     "text": [
      "Finish Merging...\n"
     ]
    },
    {
     "name": "stderr",
     "output_type": "stream",
     "text": [
      " 16%|█▌        | 17/107 [00:02<00:09,  9.66it/s]/storage/home/yur97/anaconda3/envs/mSigsyn/lib/python3.6/site-packages/IPython/core/interactiveshell.py:3263: DtypeWarning: Columns (18,25,29,35,36) have mixed types.Specify dtype option on import or set low_memory=False.\n",
      "  if (await self.run_code(code, result,  async_=asy)):\n",
      " 48%|████▊     | 51/107 [00:05<00:04, 13.17it/s]/storage/home/yur97/anaconda3/envs/mSigsyn/lib/python3.6/site-packages/IPython/core/interactiveshell.py:3263: DtypeWarning: Columns (2,18,25,35,36) have mixed types.Specify dtype option on import or set low_memory=False.\n",
      "  if (await self.run_code(code, result,  async_=asy)):\n",
      " 51%|█████▏    | 55/107 [00:05<00:04, 12.63it/s]/storage/home/yur97/anaconda3/envs/mSigsyn/lib/python3.6/site-packages/IPython/core/interactiveshell.py:3263: DtypeWarning: Columns (18,25,35,37) have mixed types.Specify dtype option on import or set low_memory=False.\n",
      "  if (await self.run_code(code, result,  async_=asy)):\n",
      "100%|██████████| 107/107 [00:11<00:00,  9.08it/s]\n",
      "  5%|▍         | 2/43 [00:00<00:02, 17.49it/s]"
     ]
    },
    {
     "name": "stdout",
     "output_type": "stream",
     "text": [
      "Finish Merging...\n"
     ]
    },
    {
     "name": "stderr",
     "output_type": "stream",
     "text": [
      "100%|██████████| 43/43 [00:06<00:00,  6.21it/s]\n",
      "  1%|          | 1/193 [00:00<00:31,  6.16it/s]"
     ]
    },
    {
     "name": "stdout",
     "output_type": "stream",
     "text": [
      "Finish Merging...\n"
     ]
    },
    {
     "name": "stderr",
     "output_type": "stream",
     "text": [
      " 25%|██▌       | 49/193 [00:04<00:11, 12.95it/s]/storage/home/yur97/anaconda3/envs/mSigsyn/lib/python3.6/site-packages/IPython/core/interactiveshell.py:3263: DtypeWarning: Columns (25,29,34,35,36,37) have mixed types.Specify dtype option on import or set low_memory=False.\n",
      "  if (await self.run_code(code, result,  async_=asy)):\n",
      "100%|██████████| 193/193 [00:15<00:00, 12.43it/s]\n",
      "  0%|          | 0/37 [00:00<?, ?it/s]"
     ]
    },
    {
     "name": "stdout",
     "output_type": "stream",
     "text": [
      "Finish Merging...\n"
     ]
    },
    {
     "name": "stderr",
     "output_type": "stream",
     "text": [
      " 41%|████      | 15/37 [00:03<00:07,  2.83it/s]/storage/home/yur97/anaconda3/envs/mSigsyn/lib/python3.6/site-packages/IPython/core/interactiveshell.py:3263: DtypeWarning: Columns (2,12,18,25,29,34,35,36,37) have mixed types.Specify dtype option on import or set low_memory=False.\n",
      "  if (await self.run_code(code, result,  async_=asy)):\n",
      "100%|██████████| 37/37 [00:08<00:00,  4.49it/s]\n",
      "  0%|          | 0/230 [00:00<?, ?it/s]"
     ]
    },
    {
     "name": "stdout",
     "output_type": "stream",
     "text": [
      "Finish Merging...\n"
     ]
    },
    {
     "name": "stderr",
     "output_type": "stream",
     "text": [
      "100%|██████████| 230/230 [00:18<00:00, 12.75it/s]\n",
      "  0%|          | 0/97 [00:00<?, ?it/s]"
     ]
    },
    {
     "name": "stdout",
     "output_type": "stream",
     "text": [
      "Finish Merging...\n"
     ]
    },
    {
     "name": "stderr",
     "output_type": "stream",
     "text": [
      " 40%|████      | 39/97 [00:07<00:14,  3.98it/s]/storage/home/yur97/anaconda3/envs/mSigsyn/lib/python3.6/site-packages/IPython/core/interactiveshell.py:3263: DtypeWarning: Columns (25,35,36,37) have mixed types.Specify dtype option on import or set low_memory=False.\n",
      "  if (await self.run_code(code, result,  async_=asy)):\n",
      " 93%|█████████▎| 90/97 [00:17<00:01,  5.74it/s]/storage/home/yur97/anaconda3/envs/mSigsyn/lib/python3.6/site-packages/IPython/core/interactiveshell.py:3263: DtypeWarning: Columns (2,25,29,34,35,36,37) have mixed types.Specify dtype option on import or set low_memory=False.\n",
      "  if (await self.run_code(code, result,  async_=asy)):\n",
      "100%|██████████| 97/97 [00:19<00:00,  5.04it/s]\n",
      "  4%|▎         | 2/56 [00:00<00:04, 11.03it/s]"
     ]
    },
    {
     "name": "stdout",
     "output_type": "stream",
     "text": [
      "Finish Merging...\n"
     ]
    },
    {
     "name": "stderr",
     "output_type": "stream",
     "text": [
      "100%|██████████| 56/56 [00:07<00:00,  7.76it/s]\n",
      "  2%|▏         | 3/141 [00:00<00:05, 24.03it/s]"
     ]
    },
    {
     "name": "stdout",
     "output_type": "stream",
     "text": [
      "Finish Merging...\n"
     ]
    },
    {
     "name": "stderr",
     "output_type": "stream",
     "text": [
      "100%|██████████| 141/141 [00:06<00:00, 23.49it/s]\n",
      "  5%|▌         | 2/39 [00:00<00:02, 13.12it/s]"
     ]
    },
    {
     "name": "stdout",
     "output_type": "stream",
     "text": [
      "Finish Merging...\n"
     ]
    },
    {
     "name": "stderr",
     "output_type": "stream",
     "text": [
      "100%|██████████| 39/39 [00:04<00:00,  9.21it/s]\n",
      " 13%|█▎        | 2/15 [00:00<00:01, 12.40it/s]"
     ]
    },
    {
     "name": "stdout",
     "output_type": "stream",
     "text": [
      "Finish Merging...\n"
     ]
    },
    {
     "name": "stderr",
     "output_type": "stream",
     "text": [
      "100%|██████████| 15/15 [00:01<00:00, 14.02it/s]\n",
      "  6%|▌         | 1/18 [00:00<00:01,  9.07it/s]"
     ]
    },
    {
     "name": "stdout",
     "output_type": "stream",
     "text": [
      "Finish Merging...\n"
     ]
    },
    {
     "name": "stderr",
     "output_type": "stream",
     "text": [
      "100%|██████████| 18/18 [00:01<00:00, 13.49it/s]\n",
      "  0%|          | 0/106 [00:00<?, ?it/s]"
     ]
    },
    {
     "name": "stdout",
     "output_type": "stream",
     "text": [
      "Finish Merging...\n"
     ]
    },
    {
     "name": "stderr",
     "output_type": "stream",
     "text": [
      "100%|██████████| 106/106 [01:02<00:00,  1.70it/s]\n",
      "  3%|▎         | 3/90 [00:00<00:03, 23.29it/s]"
     ]
    },
    {
     "name": "stdout",
     "output_type": "stream",
     "text": [
      "Finish Merging...\n"
     ]
    },
    {
     "name": "stderr",
     "output_type": "stream",
     "text": [
      "100%|██████████| 90/90 [00:04<00:00, 21.17it/s]\n",
      " 11%|█         | 2/19 [00:00<00:01, 16.27it/s]"
     ]
    },
    {
     "name": "stdout",
     "output_type": "stream",
     "text": [
      "Finish Merging...\n"
     ]
    },
    {
     "name": "stderr",
     "output_type": "stream",
     "text": [
      "100%|██████████| 19/19 [00:01<00:00, 14.04it/s]\n",
      "  2%|▏         | 1/43 [00:00<00:04,  8.98it/s]"
     ]
    },
    {
     "name": "stdout",
     "output_type": "stream",
     "text": [
      "Finish Merging...\n"
     ]
    },
    {
     "name": "stderr",
     "output_type": "stream",
     "text": [
      "100%|██████████| 43/43 [00:02<00:00, 20.64it/s]\n",
      "  3%|▎         | 2/68 [00:00<00:05, 11.44it/s]"
     ]
    },
    {
     "name": "stdout",
     "output_type": "stream",
     "text": [
      "Finish Merging...\n"
     ]
    },
    {
     "name": "stderr",
     "output_type": "stream",
     "text": [
      " 12%|█▏        | 8/68 [00:01<00:11,  5.37it/s]/storage/home/yur97/anaconda3/envs/mSigsyn/lib/python3.6/site-packages/IPython/core/interactiveshell.py:3263: DtypeWarning: Columns (2,25,29,35,36,37) have mixed types.Specify dtype option on import or set low_memory=False.\n",
      "  if (await self.run_code(code, result,  async_=asy)):\n",
      "100%|██████████| 68/68 [00:12<00:00,  5.64it/s]\n",
      "  0%|          | 0/47 [00:00<?, ?it/s]"
     ]
    },
    {
     "name": "stdout",
     "output_type": "stream",
     "text": [
      "Finish Merging...\n"
     ]
    },
    {
     "name": "stderr",
     "output_type": "stream",
     "text": [
      "100%|██████████| 47/47 [00:12<00:00,  3.67it/s]\n",
      "  4%|▍         | 1/23 [00:00<00:02,  8.41it/s]"
     ]
    },
    {
     "name": "stdout",
     "output_type": "stream",
     "text": [
      "Finish Merging...\n"
     ]
    },
    {
     "name": "stderr",
     "output_type": "stream",
     "text": [
      "100%|██████████| 23/23 [00:03<00:00,  6.21it/s]\n",
      " 15%|█▌        | 2/13 [00:00<00:00, 19.81it/s]"
     ]
    },
    {
     "name": "stdout",
     "output_type": "stream",
     "text": [
      "Finish Merging...\n"
     ]
    },
    {
     "name": "stderr",
     "output_type": "stream",
     "text": [
      "100%|██████████| 13/13 [00:00<00:00, 22.45it/s]\n",
      "  3%|▎         | 1/33 [00:00<00:05,  6.36it/s]"
     ]
    },
    {
     "name": "stdout",
     "output_type": "stream",
     "text": [
      "Finish Merging...\n"
     ]
    },
    {
     "name": "stderr",
     "output_type": "stream",
     "text": [
      "100%|██████████| 33/33 [00:04<00:00,  7.51it/s]\n",
      " 15%|█▌        | 2/13 [00:00<00:00, 17.03it/s]"
     ]
    },
    {
     "name": "stdout",
     "output_type": "stream",
     "text": [
      "Finish Merging...\n"
     ]
    },
    {
     "name": "stderr",
     "output_type": "stream",
     "text": [
      "100%|██████████| 13/13 [00:01<00:00, 12.77it/s]\n",
      "100%|██████████| 2/2 [00:00<00:00, 14.01it/s]"
     ]
    },
    {
     "name": "stdout",
     "output_type": "stream",
     "text": [
      "Finish Merging...\n"
     ]
    },
    {
     "name": "stderr",
     "output_type": "stream",
     "text": [
      "\n",
      "  6%|▌         | 2/35 [00:00<00:02, 13.66it/s]"
     ]
    },
    {
     "name": "stdout",
     "output_type": "stream",
     "text": [
      "Finish Merging...\n"
     ]
    },
    {
     "name": "stderr",
     "output_type": "stream",
     "text": [
      "100%|██████████| 35/35 [00:02<00:00, 15.71it/s]\n",
      "100%|██████████| 3/3 [00:00<00:00, 23.93it/s]"
     ]
    },
    {
     "name": "stdout",
     "output_type": "stream",
     "text": [
      "Finish Merging...\n"
     ]
    },
    {
     "name": "stderr",
     "output_type": "stream",
     "text": [
      "\n",
      " 17%|█▋        | 4/23 [00:00<00:00, 32.03it/s]"
     ]
    },
    {
     "name": "stdout",
     "output_type": "stream",
     "text": [
      "Finish Merging...\n"
     ]
    },
    {
     "name": "stderr",
     "output_type": "stream",
     "text": [
      "100%|██████████| 23/23 [00:00<00:00, 25.60it/s]\n",
      "100%|██████████| 2/2 [00:00<00:00, 21.14it/s]\n",
      "  0%|          | 0/9 [00:00<?, ?it/s]"
     ]
    },
    {
     "name": "stdout",
     "output_type": "stream",
     "text": [
      "Finish Merging...\n",
      "Finish Merging...\n"
     ]
    },
    {
     "name": "stderr",
     "output_type": "stream",
     "text": [
      "100%|██████████| 9/9 [00:00<00:00, 26.03it/s]\n",
      "100%|██████████| 5/5 [00:00<00:00, 29.48it/s]"
     ]
    },
    {
     "name": "stdout",
     "output_type": "stream",
     "text": [
      "Finish Merging...\n",
      "Finish Merging...\n"
     ]
    },
    {
     "name": "stderr",
     "output_type": "stream",
     "text": [
      "\n",
      "100%|██████████| 10/10 [00:00<00:00, 22.05it/s]\n",
      "100%|██████████| 1/1 [00:00<00:00, 52.32it/s]"
     ]
    },
    {
     "name": "stdout",
     "output_type": "stream",
     "text": [
      "Finish Merging...\n",
      "Finish Merging...\n"
     ]
    },
    {
     "name": "stderr",
     "output_type": "stream",
     "text": [
      "\n"
     ]
    }
   ],
   "source": [
    "### Merge patient individual mutations into a cohort\n",
    "maf_params = {'dir_maf_split': '../maf_raw/maf_split',\n",
    "              'dir_out_intermediate': '../data/maf/intermediate',\n",
    "              'dir_out': '../data/maf/histology_all',\n",
    "              'parallelize_core':6} \n",
    "df_cohort = pd.read_csv(os.path.join('../data/proc_refs/histology.csv'))\n",
    "lfeat = df_cohort['histology'].unique()\n",
    "print(lfeat)\n",
    "\n",
    "res = maf_process(maf_params)\n",
    "res.load_histology_info(gene_name = 'new')\n",
    "\n",
    "for histologies in lfeat:\n",
    "    res.merge_maf(histologies, hypermutator = False, filter_gene = True)\n",
    "# for histologies in lfeat:\n",
    "#     res.merge_maf(histologies, True)"
   ]
  },
  {
   "cell_type": "markdown",
   "id": "043bbd6b-2a8a-4e3b-a8a1-e983f53bb347",
   "metadata": {},
   "source": [
    "***Directly split maf file from icgc and tcga maf files***"
   ]
  },
  {
   "cell_type": "code",
   "execution_count": 1,
   "id": "93efd85f-b8f5-4d7e-8022-e9399182cca0",
   "metadata": {},
   "outputs": [],
   "source": [
    "import os,pickle\n",
    "import pandas as pd\n",
    "from tqdm import tqdm"
   ]
  },
  {
   "cell_type": "code",
   "execution_count": 2,
   "id": "17323e58-04b8-4183-9dce-54557e040c77",
   "metadata": {},
   "outputs": [],
   "source": [
    "dir_maf = '../maf_raw/'"
   ]
  },
  {
   "cell_type": "code",
   "execution_count": null,
   "id": "07e875b4-edac-4f5a-a48b-1b487ccb3307",
   "metadata": {},
   "outputs": [],
   "source": [
    "dficgc = pd.read_csv(os.path.join(dir_maf, 'icgc.maf'), sep = '\\t')"
   ]
  },
  {
   "cell_type": "code",
   "execution_count": 6,
   "id": "6c71c82f-f984-45d7-aebb-ad4280aff00b",
   "metadata": {
    "tags": []
   },
   "outputs": [
    {
     "name": "stderr",
     "output_type": "stream",
     "text": [
      "100%|██████████| 1950/1950 [06:20<00:00,  5.13it/s]\n"
     ]
    }
   ],
   "source": [
    "maf_split = [pd.DataFrame(y) for x, y in dficgc.groupby('Tumor_Sample_Barcode', as_index=False)]\n",
    "for df_split in tqdm(maf_split):\n",
    "    patient = df_split['Tumor_Sample_Barcode'].unique().tolist()\n",
    "    if len(patient) == 1:\n",
    "        # df_split.to_csv(os.path.join('../data/maf/intermediate/individual/split', patient[0]+'.to_merge.csv'))\n",
    "    else:\n",
    "        print(f'ERROR{patient}')"
   ]
  },
  {
   "cell_type": "code",
   "execution_count": 3,
   "id": "57e03092-bd17-4db4-ab0f-7a27b92d9bfd",
   "metadata": {},
   "outputs": [
    {
     "name": "stderr",
     "output_type": "stream",
     "text": [
      "/storage/home/yur97/anaconda3/envs/mSigsyn/lib/python3.6/site-packages/IPython/core/interactiveshell.py:3072: DtypeWarning: Columns (1,17,24,28,33,34,35,36) have mixed types.Specify dtype option on import or set low_memory=False.\n",
      "  interactivity=interactivity, compiler=compiler, result=result)\n"
     ]
    }
   ],
   "source": [
    "dftcga = pd.read_csv(os.path.join(dir_maf, 'tcga.maf'), sep = '\\t')"
   ]
  },
  {
   "cell_type": "code",
   "execution_count": 6,
   "id": "11d1b3f4-6e6f-4f6e-8fe5-06bf2a733720",
   "metadata": {},
   "outputs": [
    {
     "name": "stderr",
     "output_type": "stream",
     "text": [
      "100%|██████████| 828/828 [08:29<00:00,  1.63it/s]  \n"
     ]
    }
   ],
   "source": [
    "maf_split = [pd.DataFrame(y) for x, y in dftcga.groupby('Tumor_Sample_Barcode', as_index=False)]\n",
    "for df_split in tqdm(maf_split):\n",
    "    patient = df_split['Tumor_Sample_Barcode'].unique().tolist()\n",
    "    if len(patient) == 1:\n",
    "        # df_split.to_csv(os.path.join('../data/maf/intermediate/individual/split', patient[0]+'.to_merge.csv'))\n",
    "    else:\n",
    "        print(f'ERROR{patient}')"
   ]
  }
 ],
 "metadata": {
  "kernelspec": {
   "display_name": "Python 3",
   "language": "python",
   "name": "python3"
  },
  "language_info": {
   "codemirror_mode": {
    "name": "ipython",
    "version": 3
   },
   "file_extension": ".py",
   "mimetype": "text/x-python",
   "name": "python",
   "nbconvert_exporter": "python",
   "pygments_lexer": "ipython3",
   "version": "3.6.10"
  }
 },
 "nbformat": 4,
 "nbformat_minor": 5
}
