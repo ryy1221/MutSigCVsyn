{
 "cells": [
  {
   "cell_type": "markdown",
   "id": "605020ba-b110-4be3-a9be-07b4a3cbe627",
   "metadata": {},
   "source": [
    "### This is a parameter notebook for running cov_calculation and maf calculation\n",
    "The notebook is divided into 2 chuncks  \n",
    "1. **preprocess coverage file -- Note: This part is time&storage consuming. If you have a cohort of patient and need to calculate coverage for every genes, please use an HPC cluster; Always check file size to make sure you have enough storage**\n",
    "    - <ins>Process: run cov_process-exp.ipynb for example</ins>. The script first transform the patient wig file into a 0,1 dictionary according to their genome positions. Then according to the gene coordinate, calculate the coverage for each gene, in each patient\n",
    "    - <ins>What you need</ins>:\n",
    "        1. A directory of raw patient unzipped wig files:\n",
    "            Put the wig files into data/wig_input/ folder. For PCAWG, the wig files can be downloaded from https://dcc.icgc.org/releases/PCAWG/consensus_snv_indel/wig_files; For other wig files, please make sure the format is the same as PCAWG wig file. \n",
    "        2. A few reference files available in anno_ref/proc_refs/. \n",
    "        3. A list of patient to combine all coverage.csv files into a cohort-coverage.csv file\n",
    "    - <ins>What will be returned:</ins>\n",
    "        1. Intermediate file of individual patient coverage dictionary\n",
    "        2. Calculated coverage csv. file for individual patient\n",
    "        3. Cohort merged cov. file\n",
    "\n",
    "2. **preprocess maf file**"
   ]
  },
  {
   "cell_type": "markdown",
   "id": "d38e4772-44ce-48f1-a7d4-fd7869438a33",
   "metadata": {},
   "source": [
    "***Preprocess coverage***"
   ]
  },
  {
   "cell_type": "code",
   "execution_count": 1,
   "id": "d3869f82-0be8-4e21-946b-0667dc0dad75",
   "metadata": {},
   "outputs": [
    {
     "ename": "ModuleNotFoundError",
     "evalue": "No module named 'cov_process'",
     "output_type": "error",
     "traceback": [
      "\u001b[0;31m---------------------------------------------------------------------------\u001b[0m",
      "\u001b[0;31mModuleNotFoundError\u001b[0m                       Traceback (most recent call last)",
      "\u001b[0;32m<ipython-input-1-27b413aba497>\u001b[0m in \u001b[0;36m<module>\u001b[0;34m\u001b[0m\n\u001b[0;32m----> 1\u001b[0;31m \u001b[0;32mfrom\u001b[0m \u001b[0mcov_process\u001b[0m \u001b[0;32mimport\u001b[0m \u001b[0;34m*\u001b[0m\u001b[0;34m\u001b[0m\u001b[0;34m\u001b[0m\u001b[0m\n\u001b[0m",
      "\u001b[0;31mModuleNotFoundError\u001b[0m: No module named 'cov_process'"
     ]
    }
   ],
   "source": [
    "from cov_process import *"
   ]
  },
  {
   "cell_type": "markdown",
   "id": "35bd8e82-80b7-419d-8f42-11c62c31c909",
   "metadata": {},
   "source": [
    "dir_wig: directory to wig file  \n",
    "dir_out: output directory, will create an intermediate.pkl folder and a final coverage.csv folder  \n",
    "dir_ref: reference file dictionary.Should include GRCh37 ref sequencing, processed transcript info and gene names, cohort list info  \n",
    "parallel: whehter to paralize the process. Either [True, Number of cores] or [False]"
   ]
  },
  {
   "cell_type": "code",
   "execution_count": null,
   "id": "f683088b-2622-44e4-ab3d-8f4eeb93e610",
   "metadata": {},
   "outputs": [],
   "source": [
    "cov_params = {'dir_wig': '../data/wig_input/exp',\n",
    "              'dir_out': '../cov_out/exp',\n",
    "              'parallelize_core':4}\n",
    "\n",
    "cov_preprocess(cov_params)"
   ]
  }
 ],
 "metadata": {
  "kernelspec": {
   "display_name": "Python 3",
   "language": "python",
   "name": "python3"
  },
  "language_info": {
   "codemirror_mode": {
    "name": "ipython",
    "version": 3
   },
   "file_extension": ".py",
   "mimetype": "text/x-python",
   "name": "python",
   "nbconvert_exporter": "python",
   "pygments_lexer": "ipython3",
   "version": "3.6.10"
  }
 },
 "nbformat": 4,
 "nbformat_minor": 5
}
