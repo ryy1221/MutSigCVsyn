{
 "cells": [
  {
   "cell_type": "code",
   "execution_count": 1,
   "id": "5bb9f7ab-a3f9-4655-a73b-533d0e40ddb1",
   "metadata": {},
   "outputs": [],
   "source": [
    "### This is the script for specification of what patient we are using and the cohort of the patient\n",
    "#1. Identification of white list patients and their cohort\n",
    "    # 1.1 White list patient -- FROM PCAWG PAPER SUPP1\n",
    "    # 1.2 Patients that have coverage information\n",
    "#2. Identification of hypermutated patients and filter them from the cohorts to generate no-hypermutator cohort files\n",
    "#3. Generate cohort file"
   ]
  },
  {
   "cell_type": "code",
   "execution_count": 1,
   "id": "e7252210-ed61-4f93-947b-1ff9d530ce7d",
   "metadata": {},
   "outputs": [],
   "source": [
    "import os,pickle\n",
    "import pandas as pd"
   ]
  },
  {
   "cell_type": "code",
   "execution_count": 2,
   "id": "87d12b46-18ee-431b-9e0d-2bb77c951de2",
   "metadata": {},
   "outputs": [],
   "source": [
    "### Directories\n",
    "dir_anno = '../data/anno_refs' # annotation directory\n",
    "dir_proc = '../data/proc_refs'\n",
    "finfo = 'PCAWG_sample_info.txt'  # PCAWG sample info file name\n",
    "\n",
    "dir_out = '../data/proc_refs/'\n",
    "\n",
    "#Patient wig directory\n",
    "# This is not a permanent directory because of large storage space of wig file, therefore we pickle the list of file names \n",
    "# This only need to be run once\n",
    "# dir_wig = '/gpfs/scratch/yur97/compressed_coverage_tracks'  \n",
    "# pickle.dump(os.listdir(dir_wig), open(os.path.join(dir_anno, 'wigf_list.pkl'),'wb'))"
   ]
  },
  {
   "cell_type": "markdown",
   "id": "fc5d50d1-ca4e-48fd-9278-c727b2a245a5",
   "metadata": {},
   "source": [
    "***1.1 All white list patients from the PCAWG sample-info file***"
   ]
  },
  {
   "cell_type": "code",
   "execution_count": 3,
   "id": "b53810e6-c1ef-4638-9a46-9a211d7ac7c0",
   "metadata": {},
   "outputs": [],
   "source": [
    "# Get the white list patients in PCAWG samle info\n",
    "df_info = pd.read_csv(os.path.join(dir_anno,finfo), sep ='\\t')\n",
    "listPat_info = df_info['tumour_specimen_aliquot_id'].unique().tolist()"
   ]
  },
  {
   "cell_type": "code",
   "execution_count": 4,
   "id": "bce7527f-1632-4ac0-af49-6b153e6fdb01",
   "metadata": {},
   "outputs": [
    {
     "name": "stdout",
     "output_type": "stream",
     "text": [
      "2583 whitelist PCAWG in info file\n"
     ]
    }
   ],
   "source": [
    "print(f'{len(listPat_info)} whitelist PCAWG in info file')"
   ]
  },
  {
   "cell_type": "markdown",
   "id": "b5978f8d-50fa-4a18-ad69-289afa39635c",
   "metadata": {},
   "source": [
    "***1.2 All patients having wig files***"
   ]
  },
  {
   "cell_type": "code",
   "execution_count": 5,
   "id": "92ebc86a-c0b9-41b7-9754-511250249a4c",
   "metadata": {},
   "outputs": [],
   "source": [
    "# Load the pickle file that contain all wig files\n",
    "lwigf = pickle.load(open(os.path.join(dir_proc,'wigf_list.pkl'),'rb'))\n",
    "listPat_wig = [v.split('.')[0] for v in lwigf]"
   ]
  },
  {
   "cell_type": "code",
   "execution_count": 7,
   "id": "5e1048fc-833c-4ecd-95a4-a6df55751814",
   "metadata": {},
   "outputs": [
    {
     "name": "stdout",
     "output_type": "stream",
     "text": [
      "Number of white-list patients with wig files are: 2572\n"
     ]
    }
   ],
   "source": [
    "### the final patient list\n",
    "lfinalp = list(set(listPat_info)&set(listPat_wig))\n",
    "print(\"Number of white-list patients with wig files are: \" + str(len(lfinalp)))\n",
    "# lfinalp.remove('2bde43e2-fd4e-413e-adc7-c50bca75d358') ### Why did I do this?\n",
    "# pickle the final patient list\n",
    "# pickle.dump(lfinalp, open(os.path.join(dir_out,'list_all_patients_102121.pkl'),'wb'))"
   ]
  },
  {
   "cell_type": "markdown",
   "id": "756b7556-dc48-4249-92b3-5cd97a387322",
   "metadata": {},
   "source": [
    "***2. Identify and filter hyper mutators*** -- defined as > 50000 mutations(SNV,MNV,Indels) per genome"
   ]
  },
  {
   "cell_type": "code",
   "execution_count": 24,
   "id": "800fa327-b79d-4ef8-9f42-dafaa5a805f1",
   "metadata": {},
   "outputs": [],
   "source": [
    "### Identify the patients that have >50000 mutations\n",
    "df_hype = df_info[(df_info['all.SNVs']+df_info['all.MNVs']+df_info['all.Indels']) > 50000]\n",
    "listPat_hype = df_hype['tumour_specimen_aliquot_id'].unique().tolist()"
   ]
  },
  {
   "cell_type": "code",
   "execution_count": 25,
   "id": "4458949b-2641-4492-823e-7b5941fb7adb",
   "metadata": {},
   "outputs": [
    {
     "name": "stdout",
     "output_type": "stream",
     "text": [
      "139 patients are hypermutators, break down into histology:\n"
     ]
    },
    {
     "data": {
      "text/plain": [
       "histology_abbreviation\n",
       "Biliary-AdenoCA      1\n",
       "Bladder-TCC          2\n",
       "Breast-AdenoCA       2\n",
       "CNS-GBM              1\n",
       "ColoRect-AdenoCA     9\n",
       "Eso-AdenoCA         10\n",
       "Head-SCC             5\n",
       "Liver-HCC            2\n",
       "Lung-AdenoCA         8\n",
       "Lung-SCC            18\n",
       "Lymph-BNHL           2\n",
       "Ovary-AdenoCA        1\n",
       "Panc-AdenoCA         1\n",
       "Skin-Melanoma       66\n",
       "Stomach-AdenoCA      7\n",
       "Uterus-AdenoCA       4\n",
       "dtype: int64"
      ]
     },
     "execution_count": 25,
     "metadata": {},
     "output_type": "execute_result"
    }
   ],
   "source": [
    "print(f'{len(df_hype)} patients are hypermutators, break down into histology:')\n",
    "df_hype.groupby('histology_abbreviation').size()"
   ]
  },
  {
   "cell_type": "markdown",
   "id": "a00b6c1e-f950-44d2-b66b-b57594802db0",
   "metadata": {},
   "source": [
    "***3. Save cohort files***"
   ]
  },
  {
   "cell_type": "markdown",
   "id": "0653a652-5828-44f0-8454-245a884da03a",
   "metadata": {},
   "source": [
    "**3.1 Save all patient-cohort files**"
   ]
  },
  {
   "cell_type": "code",
   "execution_count": 26,
   "id": "607d5726-95fa-4aa6-ba27-bd4bf3d84407",
   "metadata": {},
   "outputs": [],
   "source": [
    "### Get aliquot_id, donor_id, histology abbreviation df\n",
    "df_his = df_info[['tumour_specimen_aliquot_id','icgc_donor_id','histology_abbreviation']]\n",
    "df_his.columns = ['tumor_aliquot_id', 'donor_id','histology']\n",
    "df_his = df_his[df_his['tumor_aliquot_id'].isin(lfinalp)]\n",
    "df_his = df_his.reset_index(drop = True)\n",
    "### Save the filtered histologies\n",
    "# df_his.to_csv(os.path.join(dir_out,'histology.csv'))"
   ]
  },
  {
   "cell_type": "code",
   "execution_count": 28,
   "id": "8de86653-5ea1-4ea6-8924-9a19c1d4b8ea",
   "metadata": {},
   "outputs": [],
   "source": [
    "# df_his.to_csv(os.path.join(dir_out,'histology.csv'))"
   ]
  },
  {
   "cell_type": "markdown",
   "id": "deb12fa1-a11e-445d-992c-198e0d437850",
   "metadata": {},
   "source": [
    "**3.2 Save hypermutor version patient-cohort files**"
   ]
  },
  {
   "cell_type": "code",
   "execution_count": 30,
   "id": "f13f08ac-4a4e-4a03-b73f-c54954f74410",
   "metadata": {},
   "outputs": [],
   "source": [
    "df_his_nohypermutator = df_his[~df_his['tumor_aliquot_id'].isin(listPat_hype)]\n",
    "df_his_nohypermutator = df_his_nohypermutator.reset_index(drop = True)\n",
    "# df_his_nohypermutator.to_csv(os.path.join(dir_out,'histology_nohypermutator.csv'))"
   ]
  },
  {
   "cell_type": "markdown",
   "id": "5d091df5-306e-4a44-b595-87d429e8e4a9",
   "metadata": {},
   "source": [
    "***4. Save ICGC and TCGA patient list***  \n",
    "More patient than the patient list"
   ]
  },
  {
   "cell_type": "code",
   "execution_count": null,
   "id": "d37e25b2-2ed9-48da-a3c2-43d5bae8fdb8",
   "metadata": {},
   "outputs": [],
   "source": [
    "### Get tcga patients\n",
    "dir_maf = '../maf_raw/'\n",
    "licgc = []\n",
    "for chunk in tqdm(pd.read_csv(os.path.join(dir_maf, 'icgc.maf'), chunksize=10000, sep = '\\t')):\n",
    "    p = chunk['Tumor_Sample_Barcode'].unique().tolist()\n",
    "    licgc.extend(p)\n",
    "ltcga = []\n",
    "for chunk in tqdm(pd.read_csv(os.path.join(dir_maf, 'tcga.maf'), chunksize=10000, sep = '\\t')):\n",
    "    p = chunk['Tumor_Sample_Barcode'].unique().tolist()\n",
    "    ltcga.extend(p)"
   ]
  },
  {
   "cell_type": "code",
   "execution_count": null,
   "id": "1a08148d-370c-4641-98aa-36b829e2f216",
   "metadata": {},
   "outputs": [],
   "source": [
    "licgc = list(set(licgc))\n",
    "pickle.dump(licgc,open('../data/proc_refs/list_patient_icgc.pkl','wb'))\n",
    "ltcga = list(set(ltcga))\n",
    "pickle.dump(ltcga,open('../data/proc_refs/list_patient_tcga.pkl','wb'))"
   ]
  }
 ],
 "metadata": {
  "kernelspec": {
   "display_name": "Python 3",
   "language": "python",
   "name": "python3"
  },
  "language_info": {
   "codemirror_mode": {
    "name": "ipython",
    "version": 3
   },
   "file_extension": ".py",
   "mimetype": "text/x-python",
   "name": "python",
   "nbconvert_exporter": "python",
   "pygments_lexer": "ipython3",
   "version": "3.6.10"
  }
 },
 "nbformat": 4,
 "nbformat_minor": 5
}
