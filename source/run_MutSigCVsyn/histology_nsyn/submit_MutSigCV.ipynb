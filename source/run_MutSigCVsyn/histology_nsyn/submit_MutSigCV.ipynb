{
 "cells": [
  {
   "cell_type": "code",
   "execution_count": 1,
   "metadata": {},
   "outputs": [],
   "source": [
    "#!/usr/bin/env python\n",
    "import subprocess\n",
    "import pandas as pd\n",
    "import os"
   ]
  },
  {
   "cell_type": "code",
   "execution_count": 3,
   "metadata": {},
   "outputs": [
    {
     "name": "stdout",
     "output_type": "stream",
     "text": [
      "qsub -v HISTOLOGY_NAME=Ovary-AdenoCA,COVARIATE=new,HYPERMUTATOR=yes -A open run_histology_nsyn-new.pbs\n",
      "qsub -v HISTOLOGY_NAME=CNS-PiloAstro,COVARIATE=new,HYPERMUTATOR=yes -A open run_histology_nsyn-new.pbs\n",
      "qsub -v HISTOLOGY_NAME=Liver-HCC,COVARIATE=new,HYPERMUTATOR=yes -A open run_histology_nsyn-new.pbs\n",
      "qsub -v HISTOLOGY_NAME=CNS-Oligo,COVARIATE=new,HYPERMUTATOR=yes -A open run_histology_nsyn-new.pbs\n",
      "qsub -v HISTOLOGY_NAME=Panc-Endocrine,COVARIATE=new,HYPERMUTATOR=yes -A open run_histology_nsyn-new.pbs\n",
      "qsub -v HISTOLOGY_NAME=Kidney-RCC,COVARIATE=new,HYPERMUTATOR=yes -A open run_histology_nsyn-new.pbs\n",
      "qsub -v HISTOLOGY_NAME=Prost-AdenoCA,COVARIATE=new,HYPERMUTATOR=yes -A open run_histology_nsyn-new.pbs\n",
      "qsub -v HISTOLOGY_NAME=Thy-AdenoCA,COVARIATE=new,HYPERMUTATOR=yes -A open run_histology_nsyn-new.pbs\n",
      "qsub -v HISTOLOGY_NAME=ColoRect-AdenoCA,COVARIATE=new,HYPERMUTATOR=yes -A open run_histology_nsyn-new.pbs\n",
      "qsub -v HISTOLOGY_NAME=Lymph-BNHL,COVARIATE=new,HYPERMUTATOR=yes -A open run_histology_nsyn-new.pbs\n",
      "qsub -v HISTOLOGY_NAME=Uterus-AdenoCA,COVARIATE=new,HYPERMUTATOR=yes -A open run_histology_nsyn-new.pbs\n",
      "qsub -v HISTOLOGY_NAME=Breast-AdenoCA,COVARIATE=new,HYPERMUTATOR=yes -A open run_histology_nsyn-new.pbs\n",
      "qsub -v HISTOLOGY_NAME=Lung-AdenoCA,COVARIATE=new,HYPERMUTATOR=yes -A open run_histology_nsyn-new.pbs\n",
      "qsub -v HISTOLOGY_NAME=Panc-AdenoCA,COVARIATE=new,HYPERMUTATOR=yes -A open run_histology_nsyn-new.pbs\n",
      "qsub -v HISTOLOGY_NAME=Eso-AdenoCA,COVARIATE=new,HYPERMUTATOR=yes -A open run_histology_nsyn-new.pbs\n",
      "qsub -v HISTOLOGY_NAME=Head-SCC,COVARIATE=new,HYPERMUTATOR=yes -A open run_histology_nsyn-new.pbs\n",
      "qsub -v HISTOLOGY_NAME=CNS-Medullo,COVARIATE=new,HYPERMUTATOR=yes -A open run_histology_nsyn-new.pbs\n",
      "qsub -v HISTOLOGY_NAME=CNS-GBM,COVARIATE=new,HYPERMUTATOR=yes -A open run_histology_nsyn-new.pbs\n",
      "qsub -v HISTOLOGY_NAME=SoftTissue-Leiomyo,COVARIATE=new,HYPERMUTATOR=yes -A open run_histology_nsyn-new.pbs\n",
      "qsub -v HISTOLOGY_NAME=Cervix-SCC,COVARIATE=new,HYPERMUTATOR=yes -A open run_histology_nsyn-new.pbs\n",
      "qsub -v HISTOLOGY_NAME=Skin-Melanoma,COVARIATE=new,HYPERMUTATOR=yes -A open run_histology_nsyn-new.pbs\n",
      "qsub -v HISTOLOGY_NAME=Lymph-CLL,COVARIATE=new,HYPERMUTATOR=yes -A open run_histology_nsyn-new.pbs\n",
      "qsub -v HISTOLOGY_NAME=SoftTissue-Liposarc,COVARIATE=new,HYPERMUTATOR=yes -A open run_histology_nsyn-new.pbs\n",
      "qsub -v HISTOLOGY_NAME=Kidney-ChRCC,COVARIATE=new,HYPERMUTATOR=yes -A open run_histology_nsyn-new.pbs\n",
      "qsub -v HISTOLOGY_NAME=Stomach-AdenoCA,COVARIATE=new,HYPERMUTATOR=yes -A open run_histology_nsyn-new.pbs\n",
      "qsub -v HISTOLOGY_NAME=Lung-SCC,COVARIATE=new,HYPERMUTATOR=yes -A open run_histology_nsyn-new.pbs\n",
      "qsub -v HISTOLOGY_NAME=Bladder-TCC,COVARIATE=new,HYPERMUTATOR=yes -A open run_histology_nsyn-new.pbs\n",
      "qsub -v HISTOLOGY_NAME=Myeloid-AML,COVARIATE=new,HYPERMUTATOR=yes -A open run_histology_nsyn-new.pbs\n",
      "qsub -v HISTOLOGY_NAME=Biliary-AdenoCA,COVARIATE=new,HYPERMUTATOR=yes -A open run_histology_nsyn-new.pbs\n",
      "qsub -v HISTOLOGY_NAME=Breast-LobularCA,COVARIATE=new,HYPERMUTATOR=yes -A open run_histology_nsyn-new.pbs\n",
      "qsub -v HISTOLOGY_NAME=Cervix-AdenoCA,COVARIATE=new,HYPERMUTATOR=yes -A open run_histology_nsyn-new.pbs\n",
      "qsub -v HISTOLOGY_NAME=Bone-Osteosarc,COVARIATE=new,HYPERMUTATOR=yes -A open run_histology_nsyn-new.pbs\n",
      "qsub -v HISTOLOGY_NAME=Breast-DCIS,COVARIATE=new,HYPERMUTATOR=yes -A open run_histology_nsyn-new.pbs\n",
      "qsub -v HISTOLOGY_NAME=Myeloid-MPN,COVARIATE=new,HYPERMUTATOR=yes -A open run_histology_nsyn-new.pbs\n",
      "qsub -v HISTOLOGY_NAME=Myeloid-MDS,COVARIATE=new,HYPERMUTATOR=yes -A open run_histology_nsyn-new.pbs\n",
      "qsub -v HISTOLOGY_NAME=Bone-Cart,COVARIATE=new,HYPERMUTATOR=yes -A open run_histology_nsyn-new.pbs\n",
      "qsub -v HISTOLOGY_NAME=Bone-Osteoblast,COVARIATE=new,HYPERMUTATOR=yes -A open run_histology_nsyn-new.pbs\n",
      "qsub -v HISTOLOGY_NAME=Bone-Epith,COVARIATE=new,HYPERMUTATOR=yes -A open run_histology_nsyn-new.pbs\n",
      "qsub -v HISTOLOGY_NAME=Bone-Benign,COVARIATE=new,HYPERMUTATOR=yes -A open run_histology_nsyn-new.pbs\n",
      "Done submitting jobs!\n"
     ]
    }
   ],
   "source": [
    "### Regular run with new covariate file -- with no hypermutators\n",
    "df_cohort = pd.read_csv('../../../data/proc_refs/histology.csv')\n",
    "lfeat = df_cohort['histology'].unique()\n",
    "covariate = 'new';hypermutator = 'yes'\n",
    "\n",
    "for feat in lfeat:\n",
    "    qsub_command =f'qsub -v HISTOLOGY_NAME={feat},COVARIATE={covariate},HYPERMUTATOR={hypermutator} -A open run_histology_nsyn-new.pbs'\n",
    "    print(qsub_command) # Uncomment this line when testing to view the qsub command\n",
    "\n",
    "# Comment the following 3 lines when testing to prevent jobs from being submitted\n",
    "    exit_status = subprocess.call(qsub_command, shell=True)\n",
    "    if exit_status is 1:  # Check to make sure the job submitted\n",
    "        print(f'Job {qsub_command} failed to submit')\n",
    "        \n",
    "print(\"Done submitting jobs!\")"
   ]
  },
  {
   "cell_type": "code",
   "execution_count": 3,
   "metadata": {
    "collapsed": true,
    "jupyter": {
     "outputs_hidden": true
    },
    "tags": []
   },
   "outputs": [
    {
     "name": "stdout",
     "output_type": "stream",
     "text": [
      "qsub -v HISTOLOGY_NAME=Ovary-AdenoCA,COVARIATE=old,HYPERMUTATOR=no -A open run_histology_nsyn.pbs\n",
      "qsub -v HISTOLOGY_NAME=CNS-PiloAstro,COVARIATE=old,HYPERMUTATOR=no -A open run_histology_nsyn.pbs\n",
      "qsub -v HISTOLOGY_NAME=Liver-HCC,COVARIATE=old,HYPERMUTATOR=no -A open run_histology_nsyn.pbs\n",
      "qsub -v HISTOLOGY_NAME=CNS-Oligo,COVARIATE=old,HYPERMUTATOR=no -A open run_histology_nsyn.pbs\n",
      "qsub -v HISTOLOGY_NAME=Panc-Endocrine,COVARIATE=old,HYPERMUTATOR=no -A open run_histology_nsyn.pbs\n",
      "qsub -v HISTOLOGY_NAME=Kidney-RCC,COVARIATE=old,HYPERMUTATOR=no -A open run_histology_nsyn.pbs\n",
      "qsub -v HISTOLOGY_NAME=Prost-AdenoCA,COVARIATE=old,HYPERMUTATOR=no -A open run_histology_nsyn.pbs\n",
      "qsub -v HISTOLOGY_NAME=Thy-AdenoCA,COVARIATE=old,HYPERMUTATOR=no -A open run_histology_nsyn.pbs\n",
      "qsub -v HISTOLOGY_NAME=ColoRect-AdenoCA,COVARIATE=old,HYPERMUTATOR=no -A open run_histology_nsyn.pbs\n",
      "qsub -v HISTOLOGY_NAME=Lymph-BNHL,COVARIATE=old,HYPERMUTATOR=no -A open run_histology_nsyn.pbs\n",
      "qsub -v HISTOLOGY_NAME=Uterus-AdenoCA,COVARIATE=old,HYPERMUTATOR=no -A open run_histology_nsyn.pbs\n",
      "qsub -v HISTOLOGY_NAME=Breast-AdenoCA,COVARIATE=old,HYPERMUTATOR=no -A open run_histology_nsyn.pbs\n",
      "qsub -v HISTOLOGY_NAME=Lung-AdenoCA,COVARIATE=old,HYPERMUTATOR=no -A open run_histology_nsyn.pbs\n",
      "qsub -v HISTOLOGY_NAME=Panc-AdenoCA,COVARIATE=old,HYPERMUTATOR=no -A open run_histology_nsyn.pbs\n",
      "qsub -v HISTOLOGY_NAME=Eso-AdenoCA,COVARIATE=old,HYPERMUTATOR=no -A open run_histology_nsyn.pbs\n",
      "qsub -v HISTOLOGY_NAME=Head-SCC,COVARIATE=old,HYPERMUTATOR=no -A open run_histology_nsyn.pbs\n",
      "qsub -v HISTOLOGY_NAME=CNS-Medullo,COVARIATE=old,HYPERMUTATOR=no -A open run_histology_nsyn.pbs\n",
      "qsub -v HISTOLOGY_NAME=CNS-GBM,COVARIATE=old,HYPERMUTATOR=no -A open run_histology_nsyn.pbs\n",
      "qsub -v HISTOLOGY_NAME=SoftTissue-Leiomyo,COVARIATE=old,HYPERMUTATOR=no -A open run_histology_nsyn.pbs\n",
      "qsub -v HISTOLOGY_NAME=Cervix-SCC,COVARIATE=old,HYPERMUTATOR=no -A open run_histology_nsyn.pbs\n",
      "qsub -v HISTOLOGY_NAME=Skin-Melanoma,COVARIATE=old,HYPERMUTATOR=no -A open run_histology_nsyn.pbs\n",
      "qsub -v HISTOLOGY_NAME=Lymph-CLL,COVARIATE=old,HYPERMUTATOR=no -A open run_histology_nsyn.pbs\n",
      "qsub -v HISTOLOGY_NAME=SoftTissue-Liposarc,COVARIATE=old,HYPERMUTATOR=no -A open run_histology_nsyn.pbs\n",
      "qsub -v HISTOLOGY_NAME=Kidney-ChRCC,COVARIATE=old,HYPERMUTATOR=no -A open run_histology_nsyn.pbs\n",
      "qsub -v HISTOLOGY_NAME=Stomach-AdenoCA,COVARIATE=old,HYPERMUTATOR=no -A open run_histology_nsyn.pbs\n",
      "qsub -v HISTOLOGY_NAME=Lung-SCC,COVARIATE=old,HYPERMUTATOR=no -A open run_histology_nsyn.pbs\n",
      "qsub -v HISTOLOGY_NAME=Bladder-TCC,COVARIATE=old,HYPERMUTATOR=no -A open run_histology_nsyn.pbs\n",
      "qsub -v HISTOLOGY_NAME=Myeloid-AML,COVARIATE=old,HYPERMUTATOR=no -A open run_histology_nsyn.pbs\n",
      "qsub -v HISTOLOGY_NAME=Biliary-AdenoCA,COVARIATE=old,HYPERMUTATOR=no -A open run_histology_nsyn.pbs\n",
      "qsub -v HISTOLOGY_NAME=Breast-LobularCA,COVARIATE=old,HYPERMUTATOR=no -A open run_histology_nsyn.pbs\n",
      "qsub -v HISTOLOGY_NAME=Cervix-AdenoCA,COVARIATE=old,HYPERMUTATOR=no -A open run_histology_nsyn.pbs\n",
      "qsub -v HISTOLOGY_NAME=Bone-Osteosarc,COVARIATE=old,HYPERMUTATOR=no -A open run_histology_nsyn.pbs\n",
      "qsub -v HISTOLOGY_NAME=Breast-DCIS,COVARIATE=old,HYPERMUTATOR=no -A open run_histology_nsyn.pbs\n",
      "qsub -v HISTOLOGY_NAME=Myeloid-MPN,COVARIATE=old,HYPERMUTATOR=no -A open run_histology_nsyn.pbs\n",
      "qsub -v HISTOLOGY_NAME=Myeloid-MDS,COVARIATE=old,HYPERMUTATOR=no -A open run_histology_nsyn.pbs\n",
      "qsub -v HISTOLOGY_NAME=Bone-Cart,COVARIATE=old,HYPERMUTATOR=no -A open run_histology_nsyn.pbs\n",
      "qsub -v HISTOLOGY_NAME=Bone-Osteoblast,COVARIATE=old,HYPERMUTATOR=no -A open run_histology_nsyn.pbs\n",
      "qsub -v HISTOLOGY_NAME=Bone-Epith,COVARIATE=old,HYPERMUTATOR=no -A open run_histology_nsyn.pbs\n",
      "qsub -v HISTOLOGY_NAME=Bone-Benign,COVARIATE=old,HYPERMUTATOR=no -A open run_histology_nsyn.pbs\n",
      "Done submitting jobs!\n"
     ]
    }
   ],
   "source": [
    "### 1. Regular run with old covariate file\n",
    "df_cohort = pd.read_csv('../../../data/proc_refs/histology.csv')\n",
    "lfeat = df_cohort['histology'].unique()\n",
    "covariate = 'old';hypermutator = 'no'\n",
    "\n",
    "for feat in lfeat:\n",
    "    qsub_command =f'qsub -v HISTOLOGY_NAME={feat},COVARIATE={covariate},HYPERMUTATOR={hypermutator} -A open run_histology_nsyn.pbs'\n",
    "    print(qsub_command) # Uncomment this line when testing to view the qsub command\n",
    "\n",
    "# Comment the following 3 lines when testing to prevent jobs from being submitted\n",
    "#     exit_status = subprocess.call(qsub_command, shell=True)\n",
    "#     if exit_status is 1:  # Check to make sure the job submitted\n",
    "#         print(f'Job {qsub_command} failed to submit')\n",
    "        \n",
    "print(\"Done submitting jobs!\")"
   ]
  }
 ],
 "metadata": {
  "kernelspec": {
   "display_name": "Python 3",
   "language": "python",
   "name": "python3"
  },
  "language_info": {
   "codemirror_mode": {
    "name": "ipython",
    "version": 3
   },
   "file_extension": ".py",
   "mimetype": "text/x-python",
   "name": "python",
   "nbconvert_exporter": "python",
   "pygments_lexer": "ipython3",
   "version": "3.6.10"
  }
 },
 "nbformat": 4,
 "nbformat_minor": 4
}
