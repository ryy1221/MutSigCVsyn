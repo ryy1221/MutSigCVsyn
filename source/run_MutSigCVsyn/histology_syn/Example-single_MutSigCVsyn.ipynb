{
 "cells": [
  {
   "cell_type": "code",
   "execution_count": 20,
   "id": "260756fe-312e-4a1b-a945-a0f56bb0c66b",
   "metadata": {},
   "outputs": [],
   "source": [
    "### This is an example notebook showing how to run MutSigCVsyn with example mutation, coverage and input data\n",
    "### If run parallel jobs, use 'submit_MutSigCVsyn' to submit jobs\n",
    "\n",
    "# Author: Yiyun"
   ]
  },
  {
   "cell_type": "code",
   "execution_count": 25,
   "id": "d1ced6af-2ca9-408a-96f0-3e26eb1edaaf",
   "metadata": {},
   "outputs": [],
   "source": [
    "import matlab.engine\n",
    "import os,time,argparse\n",
    "import pandas as pd\n",
    "eng = matlab.engine.start_matlab()"
   ]
  },
  {
   "cell_type": "code",
   "execution_count": 26,
   "id": "d48bbda1-17e9-474c-bf05-1fbff6485c46",
   "metadata": {},
   "outputs": [],
   "source": [
    "### Save input files directory as variables\n",
    "dir_msigsyn_inputs = '../../data/MutSigCVsyn_inputs'\n",
    "\n",
    "# covariates, mutational dictionary and chain files\n",
    "covariates = os.path.join(dir_msigsyn_inputs,'gene.covariates.new.txt')\n",
    "mut_dic = os.path.join(dir_msigsyn_inputs,'mutation_type_dictionary_file_nbg.txt')\n",
    "chain_f = os.path.join(dir_msigsyn_inputs,'chr_files_hg19')\n",
    "\n",
    "# covariate and maf files\n",
    "dir_cov = '../../data/cov/example'\n",
    "dir_maf = '../../data/maf/example'\n",
    "\n",
    "### Specify the output name here\n",
    "out_dir = 'example_Lymph-BNHL'\n"
   ]
  },
  {
   "cell_type": "code",
   "execution_count": 27,
   "id": "f1ba5c0f-374e-4e8e-a69d-22b819d7dccd",
   "metadata": {},
   "outputs": [],
   "source": [
    "# define function to run msigsyn\n",
    "def runMutSigCV_syn(feat):\n",
    "    global feature_type,covariates, mut_dic,dir_cov,dir_maf,out_dir\n",
    "    \n",
    "    maf = os.path.join(dir_maf,feat+'.csv')\n",
    "    cov = os.path.join(dir_cov,feat+'.csv')\n",
    "    outp = os.path.join('../../out/example/', out_dir ,feat)\n",
    "\n",
    "    eng.cd(r'../../MutSigCVsyn/', nargout = 0)\n",
    "    eng.MutSigCVsyn(maf,cov, covariates, outp, mut_dic, chain_f,nargout = 0)\n",
    "    end = time.time()"
   ]
  },
  {
   "cell_type": "code",
   "execution_count": 28,
   "id": "b61ffc0f-646c-4907-8bdf-dc16a958d431",
   "metadata": {},
   "outputs": [],
   "source": [
    "runMutSigCV_syn('example-Lymph-BNHL')"
   ]
  },
  {
   "cell_type": "code",
   "execution_count": null,
   "id": "6cd2ec84-91a4-485c-b15b-dd66427d7fa1",
   "metadata": {},
   "outputs": [],
   "source": []
  }
 ],
 "metadata": {
  "kernelspec": {
   "display_name": "Python 3",
   "language": "python",
   "name": "python3"
  },
  "language_info": {
   "codemirror_mode": {
    "name": "ipython",
    "version": 3
   },
   "file_extension": ".py",
   "mimetype": "text/x-python",
   "name": "python",
   "nbconvert_exporter": "python",
   "pygments_lexer": "ipython3",
   "version": "3.6.10"
  }
 },
 "nbformat": 4,
 "nbformat_minor": 5
}
