{
 "cells": [
  {
   "cell_type": "code",
   "execution_count": 4,
   "metadata": {},
   "outputs": [],
   "source": [
    "#!/usr/bin/env python\n",
    "import subprocess\n",
    "import pandas as pd\n",
    "import os\n",
    "# Get feat\n",
    "dir_cohorts = '../../anno_ref/cohorts/'\n",
    "feature_type = 'histology'"
   ]
  },
  {
   "cell_type": "code",
   "execution_count": 6,
   "metadata": {},
   "outputs": [
    {
     "name": "stderr",
     "output_type": "stream",
     "text": [
      "<>:10: SyntaxWarning: \"is\" with a literal. Did you mean \"==\"?\n",
      "<>:10: SyntaxWarning: \"is\" with a literal. Did you mean \"==\"?\n",
      "<ipython-input-6-f845855f9cb9>:10: SyntaxWarning: \"is\" with a literal. Did you mean \"==\"?\n",
      "  if exit_status is 1:  # Check to make sure the job submitted\n"
     ]
    },
    {
     "name": "stdout",
     "output_type": "stream",
     "text": [
      "qsub -v HISTOLOGY_NAME=Ovary-AdenoCA -A epo2_f_g_sc_default run_histology_syn.pbs\n",
      "qsub -v HISTOLOGY_NAME=CNS-PiloAstro -A epo2_f_g_sc_default run_histology_syn.pbs\n",
      "qsub -v HISTOLOGY_NAME=Liver-HCC -A epo2_f_g_sc_default run_histology_syn.pbs\n",
      "qsub -v HISTOLOGY_NAME=CNS-Oligo -A epo2_f_g_sc_default run_histology_syn.pbs\n",
      "qsub -v HISTOLOGY_NAME=Panc-Endocrine -A epo2_f_g_sc_default run_histology_syn.pbs\n",
      "qsub -v HISTOLOGY_NAME=Kidney-RCC -A epo2_f_g_sc_default run_histology_syn.pbs\n",
      "qsub -v HISTOLOGY_NAME=Prost-AdenoCA -A epo2_f_g_sc_default run_histology_syn.pbs\n",
      "qsub -v HISTOLOGY_NAME=Thy-AdenoCA -A epo2_f_g_sc_default run_histology_syn.pbs\n",
      "qsub -v HISTOLOGY_NAME=ColoRect-AdenoCA -A epo2_f_g_sc_default run_histology_syn.pbs\n",
      "qsub -v HISTOLOGY_NAME=Lymph-BNHL -A epo2_f_g_sc_default run_histology_syn.pbs\n",
      "qsub -v HISTOLOGY_NAME=Uterus-AdenoCA -A epo2_f_g_sc_default run_histology_syn.pbs\n",
      "qsub -v HISTOLOGY_NAME=Breast-AdenoCA -A epo2_f_g_sc_default run_histology_syn.pbs\n",
      "qsub -v HISTOLOGY_NAME=Lung-AdenoCA -A epo2_f_g_sc_default run_histology_syn.pbs\n",
      "qsub -v HISTOLOGY_NAME=Panc-AdenoCA -A epo2_f_g_sc_default run_histology_syn.pbs\n",
      "qsub -v HISTOLOGY_NAME=Eso-AdenoCA -A epo2_f_g_sc_default run_histology_syn.pbs\n",
      "qsub -v HISTOLOGY_NAME=Head-SCC -A epo2_f_g_sc_default run_histology_syn.pbs\n",
      "qsub -v HISTOLOGY_NAME=CNS-Medullo -A epo2_f_g_sc_default run_histology_syn.pbs\n",
      "qsub -v HISTOLOGY_NAME=CNS-GBM -A epo2_f_g_sc_default run_histology_syn.pbs\n",
      "qsub -v HISTOLOGY_NAME=SoftTissue-Leiomyo -A epo2_f_g_sc_default run_histology_syn.pbs\n",
      "qsub -v HISTOLOGY_NAME=Cervix-SCC -A epo2_f_g_sc_default run_histology_syn.pbs\n",
      "qsub -v HISTOLOGY_NAME=Skin-Melanoma -A epo2_f_g_sc_default run_histology_syn.pbs\n",
      "qsub -v HISTOLOGY_NAME=Lymph-CLL -A epo2_f_g_sc_default run_histology_syn.pbs\n",
      "qsub -v HISTOLOGY_NAME=SoftTissue-Liposarc -A epo2_f_g_sc_default run_histology_syn.pbs\n",
      "qsub -v HISTOLOGY_NAME=Kidney-ChRCC -A epo2_f_g_sc_default run_histology_syn.pbs\n",
      "qsub -v HISTOLOGY_NAME=Stomach-AdenoCA -A epo2_f_g_sc_default run_histology_syn.pbs\n",
      "qsub -v HISTOLOGY_NAME=Lung-SCC -A epo2_f_g_sc_default run_histology_syn.pbs\n",
      "qsub -v HISTOLOGY_NAME=Bladder-TCC -A epo2_f_g_sc_default run_histology_syn.pbs\n",
      "qsub -v HISTOLOGY_NAME=Myeloid-AML -A epo2_f_g_sc_default run_histology_syn.pbs\n",
      "qsub -v HISTOLOGY_NAME=Biliary-AdenoCA -A epo2_f_g_sc_default run_histology_syn.pbs\n",
      "qsub -v HISTOLOGY_NAME=Breast-LobularCA -A epo2_f_g_sc_default run_histology_syn.pbs\n",
      "qsub -v HISTOLOGY_NAME=Cervix-AdenoCA -A epo2_f_g_sc_default run_histology_syn.pbs\n",
      "qsub -v HISTOLOGY_NAME=Bone-Osteosarc -A epo2_f_g_sc_default run_histology_syn.pbs\n",
      "qsub -v HISTOLOGY_NAME=Breast-DCIS -A epo2_f_g_sc_default run_histology_syn.pbs\n",
      "qsub -v HISTOLOGY_NAME=Myeloid-MPN -A epo2_f_g_sc_default run_histology_syn.pbs\n",
      "qsub -v HISTOLOGY_NAME=Myeloid-MDS -A epo2_f_g_sc_default run_histology_syn.pbs\n",
      "qsub -v HISTOLOGY_NAME=Bone-Cart -A epo2_f_g_sc_default run_histology_syn.pbs\n",
      "qsub -v HISTOLOGY_NAME=Bone-Osteoblast -A epo2_f_g_sc_default run_histology_syn.pbs\n",
      "qsub -v HISTOLOGY_NAME=Bone-Epith -A epo2_f_g_sc_default run_histology_syn.pbs\n",
      "qsub -v HISTOLOGY_NAME=Bone-Benign -A epo2_f_g_sc_default run_histology_syn.pbs\n",
      "Done submitting jobs!\n"
     ]
    }
   ],
   "source": [
    "df = pd.read_csv(os.path.join(dir_cohorts,feature_type+'.csv'))\n",
    "lfeat = df[feature_type].unique()\n",
    "\n",
    "for feat in lfeat:\n",
    "    qsub_command =f'qsub -v HISTOLOGY_NAME={feat} -A epo2_f_g_sc_default run_histology_syn.pbs'\n",
    "    print(qsub_command) # Uncomment this line when testing to view the qsub command\n",
    "\n",
    "# Comment the following 3 lines when testing to prevent jobs from being submitted\n",
    "#     exit_status = subprocess.call(qsub_command, shell=True)\n",
    "#     if exit_status is 1:  # Check to make sure the job submitted\n",
    "#         print(f'Job {qsub_command} failed to submit')\n",
    "        \n",
    "print(\"Done submitting jobs!\")"
   ]
  }
 ],
 "metadata": {
  "kernelspec": {
   "display_name": "Python 3",
   "language": "python",
   "name": "python3"
  },
  "language_info": {
   "codemirror_mode": {
    "name": "ipython",
    "version": 3
   },
   "file_extension": ".py",
   "mimetype": "text/x-python",
   "name": "python",
   "nbconvert_exporter": "python",
   "pygments_lexer": "ipython3",
   "version": "3.6.10"
  }
 },
 "nbformat": 4,
 "nbformat_minor": 4
}
